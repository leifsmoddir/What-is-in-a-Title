{
 "cells": [
  {
   "cell_type": "code",
   "execution_count": 1,
   "metadata": {},
   "outputs": [],
   "source": [
    "import pandas as pd\n",
    "import numpy as np\n",
    "from sklearn import svm\n",
    "from sklearn.model_selection import train_test_split\n",
    "from sklearn.ensemble import GradientBoostingClassifier\n",
    "from sklearn.metrics import classification_report, confusion_matrix, precision_score, recall_score, plot_confusion_matrix\n",
    "import matplotlib.pyplot as plt\n",
    "import os"
   ]
  },
  {
   "cell_type": "code",
   "execution_count": 2,
   "metadata": {},
   "outputs": [
    {
     "data": {
      "text/html": [
       "<div>\n",
       "<style scoped>\n",
       "    .dataframe tbody tr th:only-of-type {\n",
       "        vertical-align: middle;\n",
       "    }\n",
       "\n",
       "    .dataframe tbody tr th {\n",
       "        vertical-align: top;\n",
       "    }\n",
       "\n",
       "    .dataframe thead th {\n",
       "        text-align: right;\n",
       "    }\n",
       "</style>\n",
       "<table border=\"1\" class=\"dataframe\">\n",
       "  <thead>\n",
       "    <tr style=\"text-align: right;\">\n",
       "      <th></th>\n",
       "      <th>title</th>\n",
       "      <th>good_title</th>\n",
       "      <th>pos</th>\n",
       "      <th>pos1</th>\n",
       "      <th>pos2</th>\n",
       "      <th>title_token</th>\n",
       "      <th>word_vec</th>\n",
       "    </tr>\n",
       "  </thead>\n",
       "  <tbody>\n",
       "    <tr>\n",
       "      <th>0</th>\n",
       "      <td>mingled yarn</td>\n",
       "      <td>1</td>\n",
       "      <td>['VBN', 'NN']</td>\n",
       "      <td>VBN</td>\n",
       "      <td>NN</td>\n",
       "      <td>['mingled', 'yarn']</td>\n",
       "      <td>[[-2.34753769e-02 -3.81344706e-02  5.21896631e...</td>\n",
       "    </tr>\n",
       "    <tr>\n",
       "      <th>1</th>\n",
       "      <td>stiff news</td>\n",
       "      <td>1</td>\n",
       "      <td>['JJ', 'NN']</td>\n",
       "      <td>JJ</td>\n",
       "      <td>NN</td>\n",
       "      <td>['stiff', 'news']</td>\n",
       "      <td>[[-1.87895857e-02 -9.64995101e-02  1.73002873e...</td>\n",
       "    </tr>\n",
       "    <tr>\n",
       "      <th>2</th>\n",
       "      <td>salad days</td>\n",
       "      <td>1</td>\n",
       "      <td>['JJ', 'NNS']</td>\n",
       "      <td>JJ</td>\n",
       "      <td>NNS</td>\n",
       "      <td>['salad', 'days']</td>\n",
       "      <td>[[ 3.79228336e-03 -1.64979380e-02  1.30106723e...</td>\n",
       "    </tr>\n",
       "    <tr>\n",
       "      <th>3</th>\n",
       "      <td>gaudy night</td>\n",
       "      <td>1</td>\n",
       "      <td>['NN', 'NN']</td>\n",
       "      <td>NN</td>\n",
       "      <td>NN</td>\n",
       "      <td>['gaudy', 'night']</td>\n",
       "      <td>[[-1.18637476e-02 -2.42617801e-02  2.91478410e...</td>\n",
       "    </tr>\n",
       "    <tr>\n",
       "      <th>4</th>\n",
       "      <td>immortal longings</td>\n",
       "      <td>1</td>\n",
       "      <td>['JJ', 'NNS']</td>\n",
       "      <td>JJ</td>\n",
       "      <td>NNS</td>\n",
       "      <td>['immortal', 'longings']</td>\n",
       "      <td>[[-6.05380274e-02 -7.34784156e-02  8.35435167e...</td>\n",
       "    </tr>\n",
       "  </tbody>\n",
       "</table>\n",
       "</div>"
      ],
      "text/plain": [
       "               title  good_title            pos pos1 pos2  \\\n",
       "0       mingled yarn           1  ['VBN', 'NN']  VBN   NN   \n",
       "1         stiff news           1   ['JJ', 'NN']   JJ   NN   \n",
       "2         salad days           1  ['JJ', 'NNS']   JJ  NNS   \n",
       "3        gaudy night           1   ['NN', 'NN']   NN   NN   \n",
       "4  immortal longings           1  ['JJ', 'NNS']   JJ  NNS   \n",
       "\n",
       "                title_token                                           word_vec  \n",
       "0       ['mingled', 'yarn']  [[-2.34753769e-02 -3.81344706e-02  5.21896631e...  \n",
       "1         ['stiff', 'news']  [[-1.87895857e-02 -9.64995101e-02  1.73002873e...  \n",
       "2         ['salad', 'days']  [[ 3.79228336e-03 -1.64979380e-02  1.30106723e...  \n",
       "3        ['gaudy', 'night']  [[-1.18637476e-02 -2.42617801e-02  2.91478410e...  \n",
       "4  ['immortal', 'longings']  [[-6.05380274e-02 -7.34784156e-02  8.35435167e...  "
      ]
     },
     "execution_count": 2,
     "metadata": {},
     "output_type": "execute_result"
    }
   ],
   "source": [
    "bitles = pd.read_csv('../data/bigram_titles_pos_w2v.csv')\n",
    "bitles.head()"
   ]
  },
  {
   "cell_type": "code",
   "execution_count": 3,
   "metadata": {},
   "outputs": [
    {
     "data": {
      "text/html": [
       "<div>\n",
       "<style scoped>\n",
       "    .dataframe tbody tr th:only-of-type {\n",
       "        vertical-align: middle;\n",
       "    }\n",
       "\n",
       "    .dataframe tbody tr th {\n",
       "        vertical-align: top;\n",
       "    }\n",
       "\n",
       "    .dataframe thead th {\n",
       "        text-align: right;\n",
       "    }\n",
       "</style>\n",
       "<table border=\"1\" class=\"dataframe\">\n",
       "  <thead>\n",
       "    <tr style=\"text-align: right;\">\n",
       "      <th></th>\n",
       "      <th>title</th>\n",
       "      <th>pos</th>\n",
       "      <th>pos_len</th>\n",
       "      <th>pos1</th>\n",
       "      <th>pos2</th>\n",
       "      <th>title_token</th>\n",
       "      <th>word_vec</th>\n",
       "    </tr>\n",
       "  </thead>\n",
       "  <tbody>\n",
       "    <tr>\n",
       "      <th>197210</th>\n",
       "      <td>think'st it</td>\n",
       "      <td>['NN', 'PRP']</td>\n",
       "      <td>2</td>\n",
       "      <td>NN</td>\n",
       "      <td>PRP</td>\n",
       "      <td>[\"think'st\", 'it']</td>\n",
       "      <td>[[-7.71375895e-02 -1.30776465e-01  1.00374825e...</td>\n",
       "    </tr>\n",
       "    <tr>\n",
       "      <th>166509</th>\n",
       "      <td>sharp-quill 'd</td>\n",
       "      <td>['JJ', 'MD']</td>\n",
       "      <td>2</td>\n",
       "      <td>JJ</td>\n",
       "      <td>MD</td>\n",
       "      <td>['sharp-quill', \"'d\"]</td>\n",
       "      <td>[[ 3.35064740e-03 -1.73842418e-03 -7.01316632e...</td>\n",
       "    </tr>\n",
       "    <tr>\n",
       "      <th>28676</th>\n",
       "      <td>bold and</td>\n",
       "      <td>['NN', 'CC']</td>\n",
       "      <td>2</td>\n",
       "      <td>NN</td>\n",
       "      <td>CC</td>\n",
       "      <td>['bold', 'and']</td>\n",
       "      <td>[[-1.28817648e-01 -3.42830151e-01 -2.81210333e...</td>\n",
       "    </tr>\n",
       "    <tr>\n",
       "      <th>225</th>\n",
       "      <td>? loved</td>\n",
       "      <td>['.', 'VBD']</td>\n",
       "      <td>2</td>\n",
       "      <td>.</td>\n",
       "      <td>VBD</td>\n",
       "      <td>['?', 'loved']</td>\n",
       "      <td>[[-1.07928395e-01  1.39279291e-01 -2.83154815e...</td>\n",
       "    </tr>\n",
       "    <tr>\n",
       "      <th>161677</th>\n",
       "      <td>savage bull</td>\n",
       "      <td>['NN', 'NN']</td>\n",
       "      <td>2</td>\n",
       "      <td>NN</td>\n",
       "      <td>NN</td>\n",
       "      <td>['savage', 'bull']</td>\n",
       "      <td>[[-2.93833390e-02 -9.46322158e-02  1.45298153e...</td>\n",
       "    </tr>\n",
       "  </tbody>\n",
       "</table>\n",
       "</div>"
      ],
      "text/plain": [
       "                 title            pos  pos_len pos1 pos2  \\\n",
       "197210     think'st it  ['NN', 'PRP']        2   NN  PRP   \n",
       "166509  sharp-quill 'd   ['JJ', 'MD']        2   JJ   MD   \n",
       "28676         bold and   ['NN', 'CC']        2   NN   CC   \n",
       "225            ? loved   ['.', 'VBD']        2    .  VBD   \n",
       "161677     savage bull   ['NN', 'NN']        2   NN   NN   \n",
       "\n",
       "                  title_token  \\\n",
       "197210     [\"think'st\", 'it']   \n",
       "166509  ['sharp-quill', \"'d\"]   \n",
       "28676         ['bold', 'and']   \n",
       "225            ['?', 'loved']   \n",
       "161677     ['savage', 'bull']   \n",
       "\n",
       "                                                 word_vec  \n",
       "197210  [[-7.71375895e-02 -1.30776465e-01  1.00374825e...  \n",
       "166509  [[ 3.35064740e-03 -1.73842418e-03 -7.01316632e...  \n",
       "28676   [[-1.28817648e-01 -3.42830151e-01 -2.81210333e...  \n",
       "225     [[-1.07928395e-01  1.39279291e-01 -2.83154815e...  \n",
       "161677  [[-2.93833390e-02 -9.46322158e-02  1.45298153e...  "
      ]
     },
     "execution_count": 3,
     "metadata": {},
     "output_type": "execute_result"
    }
   ],
   "source": [
    "bishake = pd.read_csv('../data/shakespearean_bigrams_pos_w2v.csv')\n",
    "bishake.sample(5)"
   ]
  },
  {
   "cell_type": "markdown",
   "metadata": {},
   "source": [
    "I need to to be very careful with the one hot encoding because the title and shakespeare datasets will have different pos tags. I'll need to filter out all the pos tags in the shakespeare dataset that do not appear in the titles dataset."
   ]
  },
  {
   "cell_type": "code",
   "execution_count": 4,
   "metadata": {},
   "outputs": [
    {
     "name": "stdout",
     "output_type": "stream",
     "text": [
      "Number of pos tags in titles pos1: 24\n",
      "Number of pos tags in titles pos2: 27\n"
     ]
    }
   ],
   "source": [
    "all_bitles_pos1 = set(bitles.pos1.tolist())\n",
    "all_bitles_pos2 = set(bitles.pos2.tolist())\n",
    "\n",
    "print('Number of pos tags in titles pos1:', len(all_bitles_pos1))\n",
    "print('Number of pos tags in titles pos2:', len(all_bitles_pos2))"
   ]
  },
  {
   "cell_type": "code",
   "execution_count": 5,
   "metadata": {},
   "outputs": [
    {
     "name": "stdout",
     "output_type": "stream",
     "text": [
      "Number of pos tags in shakespeare pos1: 32\n",
      "Number of pos tags in shakespeare pos2: 36\n"
     ]
    }
   ],
   "source": [
    "all_bishake_pos1 = set(bishake.pos1.tolist())\n",
    "all_bishake_pos2 = set(bishake.pos2.tolist())\n",
    "\n",
    "print('Number of pos tags in shakespeare pos1:', len(all_bishake_pos1))\n",
    "print('Number of pos tags in shakespeare pos2:', len(all_bishake_pos2))"
   ]
  },
  {
   "cell_type": "code",
   "execution_count": 6,
   "metadata": {},
   "outputs": [
    {
     "data": {
      "text/plain": [
       "['TO', 'UH', 'RP', 'EX', 'FW', 'WP$', 'PDT', 'RBS', '.']"
      ]
     },
     "execution_count": 6,
     "metadata": {},
     "output_type": "execute_result"
    }
   ],
   "source": [
    "pos1_rm = list(all_bishake_pos1.difference(all_bitles_pos1))\n",
    "pos1_rm"
   ]
  },
  {
   "cell_type": "code",
   "execution_count": 7,
   "metadata": {},
   "outputs": [
    {
     "data": {
      "text/plain": [
       "['POS', 'RP', 'EX', 'WP$', 'PDT', '\"\"', '``', 'JJS', 'FW']"
      ]
     },
     "execution_count": 7,
     "metadata": {},
     "output_type": "execute_result"
    }
   ],
   "source": [
    "pos2_rm = list(all_bishake_pos2.difference(all_bitles_pos2))\n",
    "pos2_rm"
   ]
  },
  {
   "cell_type": "code",
   "execution_count": 8,
   "metadata": {},
   "outputs": [
    {
     "name": "stdout",
     "output_type": "stream",
     "text": [
      "Starting number of bigrams 236631\n"
     ]
    },
    {
     "data": {
      "text/plain": [
       "232924"
      ]
     },
     "execution_count": 8,
     "metadata": {},
     "output_type": "execute_result"
    }
   ],
   "source": [
    "print('Starting number of bigrams', bishake.shape[0])\n",
    "\n",
    "bishake = bishake[~bishake['pos1'].isin(pos1_rm)]\n",
    "bishake.shape[0]"
   ]
  },
  {
   "cell_type": "code",
   "execution_count": 9,
   "metadata": {},
   "outputs": [
    {
     "name": "stdout",
     "output_type": "stream",
     "text": [
      "Starting number of bigrams 232924\n"
     ]
    },
    {
     "data": {
      "text/plain": [
       "228508"
      ]
     },
     "execution_count": 9,
     "metadata": {},
     "output_type": "execute_result"
    }
   ],
   "source": [
    "print('Starting number of bigrams', bishake.shape[0])\n",
    "\n",
    "bishake = bishake[~bishake['pos2'].isin(pos2_rm)]\n",
    "bishake.shape[0]"
   ]
  },
  {
   "cell_type": "code",
   "execution_count": 10,
   "metadata": {},
   "outputs": [
    {
     "name": "stdout",
     "output_type": "stream",
     "text": [
      "Number of pos tags in shakespeare pos1: 23\n",
      "Number of pos tags in shakespeare pos2: 27\n"
     ]
    }
   ],
   "source": [
    "all_bishake_pos1 = set(bishake.pos1.tolist())\n",
    "all_bishake_pos2 = set(bishake.pos2.tolist())\n",
    "\n",
    "print('Number of pos tags in shakespeare pos1:', len(all_bishake_pos1))\n",
    "print('Number of pos tags in shakespeare pos2:', len(all_bishake_pos2))"
   ]
  },
  {
   "cell_type": "code",
   "execution_count": 11,
   "metadata": {},
   "outputs": [
    {
     "data": {
      "text/plain": [
       "['POS']"
      ]
     },
     "execution_count": 11,
     "metadata": {},
     "output_type": "execute_result"
    }
   ],
   "source": [
    "pos1_rm2 = list(all_bitles_pos1.difference(all_bishake_pos1))\n",
    "pos1_rm2"
   ]
  },
  {
   "cell_type": "code",
   "execution_count": 12,
   "metadata": {},
   "outputs": [
    {
     "data": {
      "text/html": [
       "<div>\n",
       "<style scoped>\n",
       "    .dataframe tbody tr th:only-of-type {\n",
       "        vertical-align: middle;\n",
       "    }\n",
       "\n",
       "    .dataframe tbody tr th {\n",
       "        vertical-align: top;\n",
       "    }\n",
       "\n",
       "    .dataframe thead th {\n",
       "        text-align: right;\n",
       "    }\n",
       "</style>\n",
       "<table border=\"1\" class=\"dataframe\">\n",
       "  <thead>\n",
       "    <tr style=\"text-align: right;\">\n",
       "      <th></th>\n",
       "      <th>title</th>\n",
       "      <th>good_title</th>\n",
       "      <th>pos</th>\n",
       "      <th>pos1</th>\n",
       "      <th>pos2</th>\n",
       "      <th>title_token</th>\n",
       "      <th>word_vec</th>\n",
       "    </tr>\n",
       "  </thead>\n",
       "  <tbody>\n",
       "    <tr>\n",
       "      <th>123</th>\n",
       "      <td>'s kingdom</td>\n",
       "      <td>0</td>\n",
       "      <td>['POS', 'NN']</td>\n",
       "      <td>POS</td>\n",
       "      <td>NN</td>\n",
       "      <td>[\"'s\", 'kingdom']</td>\n",
       "      <td>[[ 5.33072054e-01  4.56044883e-01  8.39015186e...</td>\n",
       "    </tr>\n",
       "  </tbody>\n",
       "</table>\n",
       "</div>"
      ],
      "text/plain": [
       "          title  good_title            pos pos1 pos2        title_token  \\\n",
       "123  's kingdom           0  ['POS', 'NN']  POS   NN  [\"'s\", 'kingdom']   \n",
       "\n",
       "                                              word_vec  \n",
       "123  [[ 5.33072054e-01  4.56044883e-01  8.39015186e...  "
      ]
     },
     "execution_count": 12,
     "metadata": {},
     "output_type": "execute_result"
    }
   ],
   "source": [
    "bitles[bitles['pos1']=='POS']\n"
   ]
  },
  {
   "cell_type": "code",
   "execution_count": 13,
   "metadata": {},
   "outputs": [],
   "source": [
    "bitles.drop(index=[123], inplace=True)"
   ]
  },
  {
   "cell_type": "markdown",
   "metadata": {},
   "source": [
    "POS tags synced! Now to reformat the `word_vec` column from a string to an array"
   ]
  },
  {
   "cell_type": "code",
   "execution_count": 14,
   "metadata": {},
   "outputs": [
    {
     "data": {
      "text/plain": [
       "400"
      ]
     },
     "execution_count": 14,
     "metadata": {},
     "output_type": "execute_result"
    }
   ],
   "source": [
    "result1 = bitles['word_vec'].apply(lambda x: \n",
    "                           np.fromstring(\n",
    "                               x.replace('\\n','')\n",
    "                                .replace('[','')\n",
    "                                .replace(']','')\n",
    "                                .replace('  ',' '), sep=' '))\n",
    "len(result1[0])"
   ]
  },
  {
   "cell_type": "code",
   "execution_count": 15,
   "metadata": {},
   "outputs": [
    {
     "data": {
      "text/html": [
       "<div>\n",
       "<style scoped>\n",
       "    .dataframe tbody tr th:only-of-type {\n",
       "        vertical-align: middle;\n",
       "    }\n",
       "\n",
       "    .dataframe tbody tr th {\n",
       "        vertical-align: top;\n",
       "    }\n",
       "\n",
       "    .dataframe thead th {\n",
       "        text-align: right;\n",
       "    }\n",
       "</style>\n",
       "<table border=\"1\" class=\"dataframe\">\n",
       "  <thead>\n",
       "    <tr style=\"text-align: right;\">\n",
       "      <th></th>\n",
       "      <th>title</th>\n",
       "      <th>good_title</th>\n",
       "      <th>pos</th>\n",
       "      <th>pos1</th>\n",
       "      <th>pos2</th>\n",
       "      <th>title_token</th>\n",
       "      <th>word_vec</th>\n",
       "      <th>result</th>\n",
       "    </tr>\n",
       "  </thead>\n",
       "  <tbody>\n",
       "    <tr>\n",
       "      <th>156</th>\n",
       "      <td>his qualities</td>\n",
       "      <td>0</td>\n",
       "      <td>['PRP$', 'NNS']</td>\n",
       "      <td>PRP$</td>\n",
       "      <td>NNS</td>\n",
       "      <td>['his', 'qualities']</td>\n",
       "      <td>[[-4.69330192e-01  1.26165497e+00  7.18420982e...</td>\n",
       "      <td>[-0.469330192, 1.26165497, 0.718420982, 0.5546...</td>\n",
       "    </tr>\n",
       "  </tbody>\n",
       "</table>\n",
       "</div>"
      ],
      "text/plain": [
       "             title  good_title              pos  pos1 pos2  \\\n",
       "156  his qualities           0  ['PRP$', 'NNS']  PRP$  NNS   \n",
       "\n",
       "              title_token                                           word_vec  \\\n",
       "156  ['his', 'qualities']  [[-4.69330192e-01  1.26165497e+00  7.18420982e...   \n",
       "\n",
       "                                                result  \n",
       "156  [-0.469330192, 1.26165497, 0.718420982, 0.5546...  "
      ]
     },
     "execution_count": 15,
     "metadata": {},
     "output_type": "execute_result"
    }
   ],
   "source": [
    "bitles['result'] = result1\n",
    "bitles.sample()"
   ]
  },
  {
   "cell_type": "code",
   "execution_count": 16,
   "metadata": {},
   "outputs": [
    {
     "data": {
      "text/plain": [
       "400"
      ]
     },
     "execution_count": 16,
     "metadata": {},
     "output_type": "execute_result"
    }
   ],
   "source": [
    "result2 = bishake['word_vec'].apply(lambda x: \n",
    "                           np.fromstring(\n",
    "                               x.replace('\\n','')\n",
    "                                .replace('[','')\n",
    "                                .replace(']','')\n",
    "                                .replace('  ',' '), sep=' '))\n",
    "len(result2[0])"
   ]
  },
  {
   "cell_type": "code",
   "execution_count": 17,
   "metadata": {},
   "outputs": [
    {
     "data": {
      "text/html": [
       "<div>\n",
       "<style scoped>\n",
       "    .dataframe tbody tr th:only-of-type {\n",
       "        vertical-align: middle;\n",
       "    }\n",
       "\n",
       "    .dataframe tbody tr th {\n",
       "        vertical-align: top;\n",
       "    }\n",
       "\n",
       "    .dataframe thead th {\n",
       "        text-align: right;\n",
       "    }\n",
       "</style>\n",
       "<table border=\"1\" class=\"dataframe\">\n",
       "  <thead>\n",
       "    <tr style=\"text-align: right;\">\n",
       "      <th></th>\n",
       "      <th>title</th>\n",
       "      <th>pos</th>\n",
       "      <th>pos_len</th>\n",
       "      <th>pos1</th>\n",
       "      <th>pos2</th>\n",
       "      <th>title_token</th>\n",
       "      <th>word_vec</th>\n",
       "      <th>result</th>\n",
       "    </tr>\n",
       "  </thead>\n",
       "  <tbody>\n",
       "    <tr>\n",
       "      <th>84525</th>\n",
       "      <td>hearts and</td>\n",
       "      <td>['NNS', 'CC']</td>\n",
       "      <td>2</td>\n",
       "      <td>NNS</td>\n",
       "      <td>CC</td>\n",
       "      <td>['hearts', 'and']</td>\n",
       "      <td>[[-9.39506143e-02 -2.44569719e-01 -2.53253490e...</td>\n",
       "      <td>[-0.0939506143, -0.244569719, -0.25325349, -0....</td>\n",
       "    </tr>\n",
       "  </tbody>\n",
       "</table>\n",
       "</div>"
      ],
      "text/plain": [
       "            title            pos  pos_len pos1 pos2        title_token  \\\n",
       "84525  hearts and  ['NNS', 'CC']        2  NNS   CC  ['hearts', 'and']   \n",
       "\n",
       "                                                word_vec  \\\n",
       "84525  [[-9.39506143e-02 -2.44569719e-01 -2.53253490e...   \n",
       "\n",
       "                                                  result  \n",
       "84525  [-0.0939506143, -0.244569719, -0.25325349, -0....  "
      ]
     },
     "execution_count": 17,
     "metadata": {},
     "output_type": "execute_result"
    }
   ],
   "source": [
    "bishake['result'] = result2\n",
    "bishake.sample()"
   ]
  },
  {
   "cell_type": "markdown",
   "metadata": {},
   "source": [
    "Now to create dummy variables from the POS tags"
   ]
  },
  {
   "cell_type": "code",
   "execution_count": 18,
   "metadata": {},
   "outputs": [
    {
     "name": "stdout",
     "output_type": "stream",
     "text": [
      "bitles_pos.shape: (244, 50)\n"
     ]
    },
    {
     "data": {
      "text/html": [
       "<div>\n",
       "<style scoped>\n",
       "    .dataframe tbody tr th:only-of-type {\n",
       "        vertical-align: middle;\n",
       "    }\n",
       "\n",
       "    .dataframe tbody tr th {\n",
       "        vertical-align: top;\n",
       "    }\n",
       "\n",
       "    .dataframe thead th {\n",
       "        text-align: right;\n",
       "    }\n",
       "</style>\n",
       "<table border=\"1\" class=\"dataframe\">\n",
       "  <thead>\n",
       "    <tr style=\"text-align: right;\">\n",
       "      <th></th>\n",
       "      <th>pos1_CC</th>\n",
       "      <th>pos1_CD</th>\n",
       "      <th>pos1_DT</th>\n",
       "      <th>pos1_IN</th>\n",
       "      <th>pos1_JJ</th>\n",
       "      <th>pos1_JJR</th>\n",
       "      <th>pos1_JJS</th>\n",
       "      <th>pos1_MD</th>\n",
       "      <th>pos1_NN</th>\n",
       "      <th>pos1_NNS</th>\n",
       "      <th>...</th>\n",
       "      <th>pos2_TO</th>\n",
       "      <th>pos2_VB</th>\n",
       "      <th>pos2_VBD</th>\n",
       "      <th>pos2_VBG</th>\n",
       "      <th>pos2_VBN</th>\n",
       "      <th>pos2_VBP</th>\n",
       "      <th>pos2_VBZ</th>\n",
       "      <th>pos2_WDT</th>\n",
       "      <th>pos2_WP</th>\n",
       "      <th>pos2_WRB</th>\n",
       "    </tr>\n",
       "  </thead>\n",
       "  <tbody>\n",
       "    <tr>\n",
       "      <th>96</th>\n",
       "      <td>0</td>\n",
       "      <td>0</td>\n",
       "      <td>0</td>\n",
       "      <td>0</td>\n",
       "      <td>0</td>\n",
       "      <td>0</td>\n",
       "      <td>0</td>\n",
       "      <td>0</td>\n",
       "      <td>0</td>\n",
       "      <td>0</td>\n",
       "      <td>...</td>\n",
       "      <td>0</td>\n",
       "      <td>0</td>\n",
       "      <td>0</td>\n",
       "      <td>0</td>\n",
       "      <td>0</td>\n",
       "      <td>0</td>\n",
       "      <td>0</td>\n",
       "      <td>0</td>\n",
       "      <td>0</td>\n",
       "      <td>0</td>\n",
       "    </tr>\n",
       "  </tbody>\n",
       "</table>\n",
       "<p>1 rows × 50 columns</p>\n",
       "</div>"
      ],
      "text/plain": [
       "    pos1_CC  pos1_CD  pos1_DT  pos1_IN  pos1_JJ  pos1_JJR  pos1_JJS  pos1_MD  \\\n",
       "96        0        0        0        0        0         0         0        0   \n",
       "\n",
       "    pos1_NN  pos1_NNS  ...  pos2_TO  pos2_VB  pos2_VBD  pos2_VBG  pos2_VBN  \\\n",
       "96        0         0  ...        0        0         0         0         0   \n",
       "\n",
       "    pos2_VBP  pos2_VBZ  pos2_WDT  pos2_WP  pos2_WRB  \n",
       "96         0         0         0        0         0  \n",
       "\n",
       "[1 rows x 50 columns]"
      ]
     },
     "execution_count": 18,
     "metadata": {},
     "output_type": "execute_result"
    }
   ],
   "source": [
    "bitles_pos = bitles[['pos1', 'pos2']]\n",
    "bitles_pos = pd.get_dummies(bitles_pos, prefix=['pos1', 'pos2'], columns=['pos1', 'pos2'])\n",
    "\n",
    "print('bitles_pos.shape:', bitles_pos.shape)\n",
    "bitles_pos.sample()"
   ]
  },
  {
   "cell_type": "code",
   "execution_count": 19,
   "metadata": {},
   "outputs": [
    {
     "name": "stdout",
     "output_type": "stream",
     "text": [
      "all_bitles_pos list of lists length: 244\n",
      "length of inner lists aka number of pos tags: 50\n"
     ]
    }
   ],
   "source": [
    "all_bitles_pos = bitles_pos.values.tolist()\n",
    "print('all_bitles_pos list of lists length:', len(all_bitles_pos))\n",
    "print('length of inner lists aka number of pos tags:', len(all_bitles_pos[0]))"
   ]
  },
  {
   "cell_type": "code",
   "execution_count": 20,
   "metadata": {},
   "outputs": [
    {
     "name": "stdout",
     "output_type": "stream",
     "text": [
      "bishake_pos.shape: (228508, 50)\n"
     ]
    },
    {
     "data": {
      "text/html": [
       "<div>\n",
       "<style scoped>\n",
       "    .dataframe tbody tr th:only-of-type {\n",
       "        vertical-align: middle;\n",
       "    }\n",
       "\n",
       "    .dataframe tbody tr th {\n",
       "        vertical-align: top;\n",
       "    }\n",
       "\n",
       "    .dataframe thead th {\n",
       "        text-align: right;\n",
       "    }\n",
       "</style>\n",
       "<table border=\"1\" class=\"dataframe\">\n",
       "  <thead>\n",
       "    <tr style=\"text-align: right;\">\n",
       "      <th></th>\n",
       "      <th>pos1_CC</th>\n",
       "      <th>pos1_CD</th>\n",
       "      <th>pos1_DT</th>\n",
       "      <th>pos1_IN</th>\n",
       "      <th>pos1_JJ</th>\n",
       "      <th>pos1_JJR</th>\n",
       "      <th>pos1_JJS</th>\n",
       "      <th>pos1_MD</th>\n",
       "      <th>pos1_NN</th>\n",
       "      <th>pos1_NNS</th>\n",
       "      <th>...</th>\n",
       "      <th>pos2_TO</th>\n",
       "      <th>pos2_VB</th>\n",
       "      <th>pos2_VBD</th>\n",
       "      <th>pos2_VBG</th>\n",
       "      <th>pos2_VBN</th>\n",
       "      <th>pos2_VBP</th>\n",
       "      <th>pos2_VBZ</th>\n",
       "      <th>pos2_WDT</th>\n",
       "      <th>pos2_WP</th>\n",
       "      <th>pos2_WRB</th>\n",
       "    </tr>\n",
       "  </thead>\n",
       "  <tbody>\n",
       "    <tr>\n",
       "      <th>224387</th>\n",
       "      <td>0</td>\n",
       "      <td>0</td>\n",
       "      <td>0</td>\n",
       "      <td>0</td>\n",
       "      <td>0</td>\n",
       "      <td>0</td>\n",
       "      <td>0</td>\n",
       "      <td>0</td>\n",
       "      <td>0</td>\n",
       "      <td>0</td>\n",
       "      <td>...</td>\n",
       "      <td>0</td>\n",
       "      <td>0</td>\n",
       "      <td>0</td>\n",
       "      <td>0</td>\n",
       "      <td>0</td>\n",
       "      <td>0</td>\n",
       "      <td>0</td>\n",
       "      <td>0</td>\n",
       "      <td>0</td>\n",
       "      <td>0</td>\n",
       "    </tr>\n",
       "  </tbody>\n",
       "</table>\n",
       "<p>1 rows × 50 columns</p>\n",
       "</div>"
      ],
      "text/plain": [
       "        pos1_CC  pos1_CD  pos1_DT  pos1_IN  pos1_JJ  pos1_JJR  pos1_JJS  \\\n",
       "224387        0        0        0        0        0         0         0   \n",
       "\n",
       "        pos1_MD  pos1_NN  pos1_NNS  ...  pos2_TO  pos2_VB  pos2_VBD  pos2_VBG  \\\n",
       "224387        0        0         0  ...        0        0         0         0   \n",
       "\n",
       "        pos2_VBN  pos2_VBP  pos2_VBZ  pos2_WDT  pos2_WP  pos2_WRB  \n",
       "224387         0         0         0         0        0         0  \n",
       "\n",
       "[1 rows x 50 columns]"
      ]
     },
     "execution_count": 20,
     "metadata": {},
     "output_type": "execute_result"
    }
   ],
   "source": [
    "bishake_pos = bishake[['pos1', 'pos2']]\n",
    "bishake_pos = pd.get_dummies(bishake_pos, prefix=['pos1', 'pos2'], columns=['pos1', 'pos2'])\n",
    "\n",
    "print('bishake_pos.shape:', bishake_pos.shape)\n",
    "bishake_pos.sample()"
   ]
  },
  {
   "cell_type": "code",
   "execution_count": 21,
   "metadata": {},
   "outputs": [
    {
     "name": "stdout",
     "output_type": "stream",
     "text": [
      "all_bishake_pos list of lists length: 228508\n",
      "length of inner lists aka number of pos tags: 50\n"
     ]
    }
   ],
   "source": [
    "all_bishake_pos = bishake_pos.values.tolist()\n",
    "print('all_bishake_pos list of lists length:', len(all_bishake_pos))\n",
    "print('length of inner lists aka number of pos tags:', len(all_bishake_pos[0]))"
   ]
  },
  {
   "cell_type": "code",
   "execution_count": 22,
   "metadata": {},
   "outputs": [],
   "source": [
    "title_col = bitles_pos.columns\n",
    "shake_col = bishake_pos.columns"
   ]
  },
  {
   "cell_type": "code",
   "execution_count": 23,
   "metadata": {},
   "outputs": [],
   "source": [
    "for i in range(0, 50):\n",
    "    if title_col[i] != shake_col[i]:\n",
    "        print('Alas!', title_col[i], shake_col[i])"
   ]
  },
  {
   "cell_type": "code",
   "execution_count": 24,
   "metadata": {},
   "outputs": [
    {
     "data": {
      "text/html": [
       "<div>\n",
       "<style scoped>\n",
       "    .dataframe tbody tr th:only-of-type {\n",
       "        vertical-align: middle;\n",
       "    }\n",
       "\n",
       "    .dataframe tbody tr th {\n",
       "        vertical-align: top;\n",
       "    }\n",
       "\n",
       "    .dataframe thead th {\n",
       "        text-align: right;\n",
       "    }\n",
       "</style>\n",
       "<table border=\"1\" class=\"dataframe\">\n",
       "  <thead>\n",
       "    <tr style=\"text-align: right;\">\n",
       "      <th></th>\n",
       "      <th>title</th>\n",
       "      <th>good_title</th>\n",
       "      <th>pos</th>\n",
       "      <th>pos1</th>\n",
       "      <th>pos2</th>\n",
       "      <th>title_token</th>\n",
       "      <th>word_vec</th>\n",
       "      <th>result</th>\n",
       "      <th>all_pos</th>\n",
       "    </tr>\n",
       "  </thead>\n",
       "  <tbody>\n",
       "    <tr>\n",
       "      <th>169</th>\n",
       "      <td>envy could</td>\n",
       "      <td>0</td>\n",
       "      <td>['NN', 'MD']</td>\n",
       "      <td>NN</td>\n",
       "      <td>MD</td>\n",
       "      <td>['envy', 'could']</td>\n",
       "      <td>[[-1.04356455e-02 -1.08434558e-01  7.23581389e...</td>\n",
       "      <td>[-0.0104356455, -0.108434558, 0.0723581389, -0...</td>\n",
       "      <td>[0, 0, 0, 0, 0, 0, 0, 0, 1, 0, 0, 0, 0, 0, 0, ...</td>\n",
       "    </tr>\n",
       "  </tbody>\n",
       "</table>\n",
       "</div>"
      ],
      "text/plain": [
       "          title  good_title           pos pos1 pos2        title_token  \\\n",
       "169  envy could           0  ['NN', 'MD']   NN   MD  ['envy', 'could']   \n",
       "\n",
       "                                              word_vec  \\\n",
       "169  [[-1.04356455e-02 -1.08434558e-01  7.23581389e...   \n",
       "\n",
       "                                                result  \\\n",
       "169  [-0.0104356455, -0.108434558, 0.0723581389, -0...   \n",
       "\n",
       "                                               all_pos  \n",
       "169  [0, 0, 0, 0, 0, 0, 0, 0, 1, 0, 0, 0, 0, 0, 0, ...  "
      ]
     },
     "execution_count": 24,
     "metadata": {},
     "output_type": "execute_result"
    }
   ],
   "source": [
    "bitles['all_pos'] = all_bitles_pos\n",
    "bitles.sample()"
   ]
  },
  {
   "cell_type": "code",
   "execution_count": 25,
   "metadata": {},
   "outputs": [
    {
     "data": {
      "text/html": [
       "<div>\n",
       "<style scoped>\n",
       "    .dataframe tbody tr th:only-of-type {\n",
       "        vertical-align: middle;\n",
       "    }\n",
       "\n",
       "    .dataframe tbody tr th {\n",
       "        vertical-align: top;\n",
       "    }\n",
       "\n",
       "    .dataframe thead th {\n",
       "        text-align: right;\n",
       "    }\n",
       "</style>\n",
       "<table border=\"1\" class=\"dataframe\">\n",
       "  <thead>\n",
       "    <tr style=\"text-align: right;\">\n",
       "      <th></th>\n",
       "      <th>title</th>\n",
       "      <th>pos</th>\n",
       "      <th>pos_len</th>\n",
       "      <th>pos1</th>\n",
       "      <th>pos2</th>\n",
       "      <th>title_token</th>\n",
       "      <th>word_vec</th>\n",
       "      <th>result</th>\n",
       "      <th>all_pos</th>\n",
       "    </tr>\n",
       "  </thead>\n",
       "  <tbody>\n",
       "    <tr>\n",
       "      <th>23855</th>\n",
       "      <td>beautiful ?</td>\n",
       "      <td>['NN', '.']</td>\n",
       "      <td>2</td>\n",
       "      <td>NN</td>\n",
       "      <td>.</td>\n",
       "      <td>['beautiful', '?']</td>\n",
       "      <td>[[-6.15859358e-03 -1.01133250e-01  7.16529712e...</td>\n",
       "      <td>[-0.00615859358, -0.10113325, 0.0716529712, -0...</td>\n",
       "      <td>[0, 0, 0, 0, 0, 0, 0, 0, 1, 0, 0, 0, 0, 0, 0, ...</td>\n",
       "    </tr>\n",
       "  </tbody>\n",
       "</table>\n",
       "</div>"
      ],
      "text/plain": [
       "             title          pos  pos_len pos1 pos2         title_token  \\\n",
       "23855  beautiful ?  ['NN', '.']        2   NN    .  ['beautiful', '?']   \n",
       "\n",
       "                                                word_vec  \\\n",
       "23855  [[-6.15859358e-03 -1.01133250e-01  7.16529712e...   \n",
       "\n",
       "                                                  result  \\\n",
       "23855  [-0.00615859358, -0.10113325, 0.0716529712, -0...   \n",
       "\n",
       "                                                 all_pos  \n",
       "23855  [0, 0, 0, 0, 0, 0, 0, 0, 1, 0, 0, 0, 0, 0, 0, ...  "
      ]
     },
     "execution_count": 25,
     "metadata": {},
     "output_type": "execute_result"
    }
   ],
   "source": [
    "bishake['all_pos'] = all_bishake_pos\n",
    "bishake.sample()"
   ]
  },
  {
   "cell_type": "code",
   "execution_count": 26,
   "metadata": {},
   "outputs": [
    {
     "name": "stdout",
     "output_type": "stream",
     "text": [
      "bitles_pos2.shape: (244, 48)\n",
      "all_bitles_pos list of lists length: 244\n",
      "length of inner lists aka number of pos tags: 48\n"
     ]
    }
   ],
   "source": [
    "bitles_pos2 = bitles[['pos1', 'pos2']]\n",
    "bitles_pos2 = pd.get_dummies(bitles_pos2, prefix=['pos1', 'pos2'], columns=['pos1', 'pos2'], drop_first=True)\n",
    "\n",
    "print('bitles_pos2.shape:', bitles_pos2.shape)\n",
    "\n",
    "dp1_bitles_pos = bitles_pos2.values.tolist()\n",
    "print('all_bitles_pos list of lists length:', len(dp1_bitles_pos))\n",
    "print('length of inner lists aka number of pos tags:', len(dp1_bitles_pos[0]))"
   ]
  },
  {
   "cell_type": "code",
   "execution_count": 27,
   "metadata": {},
   "outputs": [
    {
     "name": "stdout",
     "output_type": "stream",
     "text": [
      "bishake_pos2.shape: (228508, 48)\n",
      "dp1_bishake_pos list of lists length: 228508\n",
      "length of inner lists aka number of pos tags: 48\n"
     ]
    }
   ],
   "source": [
    "bishake_pos2 = bishake[['pos1', 'pos2']]\n",
    "bishake_pos2 = pd.get_dummies(bishake_pos2, prefix=['pos1', 'pos2'], columns=['pos1', 'pos2'], drop_first=True)\n",
    "\n",
    "print('bishake_pos2.shape:', bishake_pos2.shape)\n",
    "\n",
    "dp1_bishake_pos = bishake_pos2.values.tolist()\n",
    "print('dp1_bishake_pos list of lists length:', len(dp1_bishake_pos))\n",
    "print('length of inner lists aka number of pos tags:', len(dp1_bishake_pos[0]))"
   ]
  },
  {
   "cell_type": "code",
   "execution_count": 28,
   "metadata": {},
   "outputs": [],
   "source": [
    "bitles['dp1_pos'] = dp1_bitles_pos\n",
    "bishake['dp1_pos'] = dp1_bishake_pos"
   ]
  },
  {
   "cell_type": "code",
   "execution_count": 29,
   "metadata": {},
   "outputs": [
    {
     "data": {
      "text/html": [
       "<div>\n",
       "<style scoped>\n",
       "    .dataframe tbody tr th:only-of-type {\n",
       "        vertical-align: middle;\n",
       "    }\n",
       "\n",
       "    .dataframe tbody tr th {\n",
       "        vertical-align: top;\n",
       "    }\n",
       "\n",
       "    .dataframe thead th {\n",
       "        text-align: right;\n",
       "    }\n",
       "</style>\n",
       "<table border=\"1\" class=\"dataframe\">\n",
       "  <thead>\n",
       "    <tr style=\"text-align: right;\">\n",
       "      <th></th>\n",
       "      <th>title</th>\n",
       "      <th>good_title</th>\n",
       "      <th>pos</th>\n",
       "      <th>pos1</th>\n",
       "      <th>pos2</th>\n",
       "      <th>title_token</th>\n",
       "      <th>word_vec</th>\n",
       "      <th>result</th>\n",
       "      <th>all_pos</th>\n",
       "      <th>dp1_pos</th>\n",
       "    </tr>\n",
       "  </thead>\n",
       "  <tbody>\n",
       "    <tr>\n",
       "      <th>138</th>\n",
       "      <td>been studied</td>\n",
       "      <td>0</td>\n",
       "      <td>['VBN', 'VBN']</td>\n",
       "      <td>VBN</td>\n",
       "      <td>VBN</td>\n",
       "      <td>['been', 'studied']</td>\n",
       "      <td>[[ 3.30702662e-01 -8.10150981e-01 -5.32813907e...</td>\n",
       "      <td>[0.330702662, -0.810150981, -0.532813907, -0.8...</td>\n",
       "      <td>[0, 0, 0, 0, 0, 0, 0, 0, 0, 0, 0, 0, 0, 0, 0, ...</td>\n",
       "      <td>[0, 0, 0, 0, 0, 0, 0, 0, 0, 0, 0, 0, 0, 0, 0, ...</td>\n",
       "    </tr>\n",
       "  </tbody>\n",
       "</table>\n",
       "</div>"
      ],
      "text/plain": [
       "            title  good_title             pos pos1 pos2          title_token  \\\n",
       "138  been studied           0  ['VBN', 'VBN']  VBN  VBN  ['been', 'studied']   \n",
       "\n",
       "                                              word_vec  \\\n",
       "138  [[ 3.30702662e-01 -8.10150981e-01 -5.32813907e...   \n",
       "\n",
       "                                                result  \\\n",
       "138  [0.330702662, -0.810150981, -0.532813907, -0.8...   \n",
       "\n",
       "                                               all_pos  \\\n",
       "138  [0, 0, 0, 0, 0, 0, 0, 0, 0, 0, 0, 0, 0, 0, 0, ...   \n",
       "\n",
       "                                               dp1_pos  \n",
       "138  [0, 0, 0, 0, 0, 0, 0, 0, 0, 0, 0, 0, 0, 0, 0, ...  "
      ]
     },
     "execution_count": 29,
     "metadata": {},
     "output_type": "execute_result"
    }
   ],
   "source": [
    "bitles.sample()"
   ]
  },
  {
   "cell_type": "code",
   "execution_count": 31,
   "metadata": {},
   "outputs": [
    {
     "data": {
      "text/html": [
       "<div>\n",
       "<style scoped>\n",
       "    .dataframe tbody tr th:only-of-type {\n",
       "        vertical-align: middle;\n",
       "    }\n",
       "\n",
       "    .dataframe tbody tr th {\n",
       "        vertical-align: top;\n",
       "    }\n",
       "\n",
       "    .dataframe thead th {\n",
       "        text-align: right;\n",
       "    }\n",
       "</style>\n",
       "<table border=\"1\" class=\"dataframe\">\n",
       "  <thead>\n",
       "    <tr style=\"text-align: right;\">\n",
       "      <th></th>\n",
       "      <th>title</th>\n",
       "      <th>pos</th>\n",
       "      <th>pos_len</th>\n",
       "      <th>pos1</th>\n",
       "      <th>pos2</th>\n",
       "      <th>title_token</th>\n",
       "      <th>word_vec</th>\n",
       "      <th>result</th>\n",
       "      <th>all_pos</th>\n",
       "      <th>dp1_pos</th>\n",
       "    </tr>\n",
       "  </thead>\n",
       "  <tbody>\n",
       "    <tr>\n",
       "      <th>220052</th>\n",
       "      <td>well now</td>\n",
       "      <td>['RB', 'RB']</td>\n",
       "      <td>2</td>\n",
       "      <td>RB</td>\n",
       "      <td>RB</td>\n",
       "      <td>['well', 'now']</td>\n",
       "      <td>[[ 7.37399161e-02 -1.16558611e+00 -1.33562589e...</td>\n",
       "      <td>[0.0737399161, -1.16558611, -1.33562589, -0.05...</td>\n",
       "      <td>[0, 0, 0, 0, 0, 0, 0, 0, 0, 0, 0, 0, 1, 0, 0, ...</td>\n",
       "      <td>[0, 0, 0, 0, 0, 0, 0, 0, 0, 0, 0, 1, 0, 0, 0, ...</td>\n",
       "    </tr>\n",
       "  </tbody>\n",
       "</table>\n",
       "</div>"
      ],
      "text/plain": [
       "           title           pos  pos_len pos1 pos2      title_token  \\\n",
       "220052  well now  ['RB', 'RB']        2   RB   RB  ['well', 'now']   \n",
       "\n",
       "                                                 word_vec  \\\n",
       "220052  [[ 7.37399161e-02 -1.16558611e+00 -1.33562589e...   \n",
       "\n",
       "                                                   result  \\\n",
       "220052  [0.0737399161, -1.16558611, -1.33562589, -0.05...   \n",
       "\n",
       "                                                  all_pos  \\\n",
       "220052  [0, 0, 0, 0, 0, 0, 0, 0, 0, 0, 0, 0, 1, 0, 0, ...   \n",
       "\n",
       "                                                  dp1_pos  \n",
       "220052  [0, 0, 0, 0, 0, 0, 0, 0, 0, 0, 0, 1, 0, 0, 0, ...  "
      ]
     },
     "execution_count": 31,
     "metadata": {},
     "output_type": "execute_result"
    }
   ],
   "source": [
    "bishake.sample()"
   ]
  },
  {
   "cell_type": "code",
   "execution_count": 32,
   "metadata": {},
   "outputs": [],
   "source": [
    "datapath = '../data'\n",
    "\n",
    "datapath_bishake = os.path.join(datapath, 'shakespearean_bigrams.pkl')\n",
    "bishake.to_pickle(datapath_bishake)\n",
    "\n",
    "datapath_bitles = os.path.join(datapath, 'bigram_titles.pkl')\n",
    "bitles.to_pickle(datapath_bitles)"
   ]
  },
  {
   "cell_type": "code",
   "execution_count": null,
   "metadata": {},
   "outputs": [],
   "source": []
  }
 ],
 "metadata": {
  "kernelspec": {
   "display_name": "Python 3",
   "language": "python",
   "name": "python3"
  },
  "language_info": {
   "codemirror_mode": {
    "name": "ipython",
    "version": 3
   },
   "file_extension": ".py",
   "mimetype": "text/x-python",
   "name": "python",
   "nbconvert_exporter": "python",
   "pygments_lexer": "ipython3",
   "version": "3.8.3"
  }
 },
 "nbformat": 4,
 "nbformat_minor": 4
}
