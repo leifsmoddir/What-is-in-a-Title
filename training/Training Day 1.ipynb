{
 "cells": [
  {
   "cell_type": "code",
   "execution_count": 1,
   "metadata": {},
   "outputs": [],
   "source": [
    "import pandas as pd\n",
    "import numpy as np\n",
    "from sklearn.model_selection import train_test_split\n",
    "from ast import literal_eval\n",
    "import os\n"
   ]
  },
  {
   "cell_type": "code",
   "execution_count": 20,
   "metadata": {},
   "outputs": [],
   "source": [
    "tritles = pd.read_csv('../data/trigram_titles_pos_w2v.csv')\n"
   ]
  },
  {
   "cell_type": "code",
   "execution_count": 21,
   "metadata": {},
   "outputs": [
    {
     "data": {
      "text/html": [
       "<div>\n",
       "<style scoped>\n",
       "    .dataframe tbody tr th:only-of-type {\n",
       "        vertical-align: middle;\n",
       "    }\n",
       "\n",
       "    .dataframe tbody tr th {\n",
       "        vertical-align: top;\n",
       "    }\n",
       "\n",
       "    .dataframe thead th {\n",
       "        text-align: right;\n",
       "    }\n",
       "</style>\n",
       "<table border=\"1\" class=\"dataframe\">\n",
       "  <thead>\n",
       "    <tr style=\"text-align: right;\">\n",
       "      <th></th>\n",
       "      <th>title</th>\n",
       "      <th>good_title</th>\n",
       "      <th>pos</th>\n",
       "      <th>pos1</th>\n",
       "      <th>pos2</th>\n",
       "      <th>pos3</th>\n",
       "      <th>title_token</th>\n",
       "      <th>word_vec</th>\n",
       "    </tr>\n",
       "  </thead>\n",
       "  <tbody>\n",
       "    <tr>\n",
       "      <th>0</th>\n",
       "      <td>all's well</td>\n",
       "      <td>1</td>\n",
       "      <td>['DT', 'POS', 'NN']</td>\n",
       "      <td>DT</td>\n",
       "      <td>POS</td>\n",
       "      <td>NN</td>\n",
       "      <td>['all', \"'s\", 'well']</td>\n",
       "      <td>[[-1.81372836e-01  1.97823837e-01 -7.73134887e...</td>\n",
       "    </tr>\n",
       "    <tr>\n",
       "      <th>1</th>\n",
       "      <td>the devil drives</td>\n",
       "      <td>1</td>\n",
       "      <td>['DT', 'NN', 'NNS']</td>\n",
       "      <td>DT</td>\n",
       "      <td>NN</td>\n",
       "      <td>NNS</td>\n",
       "      <td>['the', 'devil', 'drives']</td>\n",
       "      <td>[[-9.59224224e-01  1.22396159e+00 -6.39906406e...</td>\n",
       "    </tr>\n",
       "    <tr>\n",
       "      <th>2</th>\n",
       "      <td>edge of hazard</td>\n",
       "      <td>1</td>\n",
       "      <td>['NN', 'IN', 'NN']</td>\n",
       "      <td>NN</td>\n",
       "      <td>IN</td>\n",
       "      <td>NN</td>\n",
       "      <td>['edge', 'of', 'hazard']</td>\n",
       "      <td>[[-2.87398398e-02 -7.36244917e-02  1.42647075e...</td>\n",
       "    </tr>\n",
       "    <tr>\n",
       "      <th>3</th>\n",
       "      <td>a mingled yarn</td>\n",
       "      <td>1</td>\n",
       "      <td>['DT', 'VBN', 'NN']</td>\n",
       "      <td>DT</td>\n",
       "      <td>VBN</td>\n",
       "      <td>NN</td>\n",
       "      <td>['a', 'mingled', 'yarn']</td>\n",
       "      <td>[[ 3.78270075e-03  3.85284066e-01 -8.90050769e...</td>\n",
       "    </tr>\n",
       "    <tr>\n",
       "      <th>4</th>\n",
       "      <td>love is enough</td>\n",
       "      <td>1</td>\n",
       "      <td>['NN', 'VBZ', 'JJ']</td>\n",
       "      <td>NN</td>\n",
       "      <td>VBZ</td>\n",
       "      <td>JJ</td>\n",
       "      <td>['love', 'is', 'enough']</td>\n",
       "      <td>[[-6.29614413e-01 -7.17607141e-01 -1.16408551e...</td>\n",
       "    </tr>\n",
       "  </tbody>\n",
       "</table>\n",
       "</div>"
      ],
      "text/plain": [
       "              title  good_title                  pos pos1 pos2 pos3  \\\n",
       "0        all's well           1  ['DT', 'POS', 'NN']   DT  POS   NN   \n",
       "1  the devil drives           1  ['DT', 'NN', 'NNS']   DT   NN  NNS   \n",
       "2    edge of hazard           1   ['NN', 'IN', 'NN']   NN   IN   NN   \n",
       "3    a mingled yarn           1  ['DT', 'VBN', 'NN']   DT  VBN   NN   \n",
       "4    love is enough           1  ['NN', 'VBZ', 'JJ']   NN  VBZ   JJ   \n",
       "\n",
       "                  title_token  \\\n",
       "0       ['all', \"'s\", 'well']   \n",
       "1  ['the', 'devil', 'drives']   \n",
       "2    ['edge', 'of', 'hazard']   \n",
       "3    ['a', 'mingled', 'yarn']   \n",
       "4    ['love', 'is', 'enough']   \n",
       "\n",
       "                                            word_vec  \n",
       "0  [[-1.81372836e-01  1.97823837e-01 -7.73134887e...  \n",
       "1  [[-9.59224224e-01  1.22396159e+00 -6.39906406e...  \n",
       "2  [[-2.87398398e-02 -7.36244917e-02  1.42647075e...  \n",
       "3  [[ 3.78270075e-03  3.85284066e-01 -8.90050769e...  \n",
       "4  [[-6.29614413e-01 -7.17607141e-01 -1.16408551e...  "
      ]
     },
     "execution_count": 21,
     "metadata": {},
     "output_type": "execute_result"
    }
   ],
   "source": [
    "tritles.head()"
   ]
  },
  {
   "cell_type": "code",
   "execution_count": 22,
   "metadata": {},
   "outputs": [
    {
     "data": {
      "text/plain": [
       "True"
      ]
     },
     "execution_count": 22,
     "metadata": {},
     "output_type": "execute_result"
    }
   ],
   "source": [
    "tritles.index.is_unique"
   ]
  },
  {
   "cell_type": "markdown",
   "metadata": {},
   "source": [
    "The word has been stored as a string."
   ]
  },
  {
   "cell_type": "code",
   "execution_count": 23,
   "metadata": {},
   "outputs": [
    {
     "data": {
      "text/plain": [
       "'[[-1.81372836e-01  1.97823837e-01 -7.73134887e-01 -1.37400717e-01\\n   1.96527988e-01 -2.71843016e-01 -1.01639181e-01 -2.59809881e-01\\n   9.88298357e-02 -4.10954840e-02 -6.99804246e-01 -1.84434760e+00\\n  -4.46527153e-02  1.36760017e-02 -2.34908089e-01  7.59720206e-01\\n  -2.08220091e-02  5.13405085e-01  2.54235834e-01 -3.61591391e-02\\n   3.98522645e-01 -2.12866917e-01  8.29012990e-01  6.99454069e-01\\n   7.28334248e-01  3.79640341e-01  2.17093498e-01  2.46753603e-01\\n   9.07730162e-01  1.84097022e-01  3.13963145e-01  9.87460837e-02\\n   1.87620446e-02  5.84735751e-01  4.71847177e-01 -3.12919527e-01\\n   2.85119832e-01 -1.59338742e-01  9.23518956e-01 -8.69607329e-01\\n  -6.39527023e-01 -6.56869769e-01  7.20195353e-01 -1.49445027e-01\\n  -1.51594535e-01 -5.36990128e-02 -2.60717422e-01  1.26484251e+00\\n   5.94473034e-02 -1.35708541e-01 -4.34748173e-01  3.68215591e-01\\n   8.23520005e-01 -4.26308066e-02 -1.34145415e+00 -4.40769851e-01\\n   7.77703524e-01 -1.11511469e+00  2.96835601e-01 -6.76195323e-01\\n   2.25775465e-01  6.56271458e-01 -1.13818812e+00  6.43264353e-01\\n   2.19869837e-01  4.11592305e-01  2.76311278e-01 -1.08136344e+00\\n   4.58954185e-01  2.49332070e-01 -5.54658115e-01 -4.90638137e-01\\n  -3.15815806e-01  1.77031353e-01  3.63729417e-01  1.51681140e-01\\n  -1.92106608e-02  3.27477753e-01  6.02608860e-01 -2.23102003e-01\\n  -3.85836720e-01 -2.68469781e-01 -3.09020728e-02 -1.74405739e-01\\n  -8.51571798e-01 -1.22246361e+00 -2.77484715e-01 -7.00750411e-01\\n  -4.20714796e-01  8.72998126e-03 -1.18994236e+00 -2.30715185e-01\\n   1.27521634e-01 -3.71669590e-01  1.59605145e-01 -4.42654341e-01\\n  -3.01027179e-01 -4.60840642e-01 -7.86455333e-01 -6.51415110e-01\\n   4.50252146e-01  6.93083107e-02  5.04750490e-01  7.46157229e-01\\n  -3.73908818e-01  7.41635084e-01  1.99879870e-01 -2.07955524e-01\\n   4.84416693e-01  1.67534485e-01  5.64509869e-01 -2.46687487e-01\\n   2.87646651e-02  3.68386954e-01  6.93853199e-01  1.22153737e-01\\n   1.21166192e-01 -2.87400842e-01 -1.58191848e+00 -7.07200348e-01\\n   8.58487487e-02 -2.76345372e-01 -1.93631306e-01  5.45336664e-01\\n  -4.63449001e-01 -3.78164411e-01 -1.15429330e+00 -3.06079954e-01\\n   5.26214480e-01  8.26563060e-01 -3.12577933e-01  6.59510791e-01\\n   5.14292419e-01  1.29838437e-01  9.55009013e-02 -6.81791976e-02\\n   2.84363538e-01  1.22242302e-01 -6.06358409e-01  1.01922736e-01\\n   4.00682509e-01  4.68491465e-02 -5.47036409e-01  1.25726581e-01\\n  -3.14839244e-01  2.44584903e-01 -2.20340148e-01  6.53524637e-01\\n  -5.25740720e-02  1.00409305e+00 -3.12011629e-01 -1.12147093e-01\\n  -8.05448711e-01  5.70195913e-01  2.31371209e-01  6.55128658e-02\\n   5.10475993e-01  5.27847230e-01  1.28482485e+00  4.19753700e-01\\n  -6.72329783e-01 -1.79756433e-01  5.81679046e-01 -4.77661431e-01\\n   3.67241442e-01  5.66099644e-01  6.45866811e-01 -2.31232569e-01\\n   4.30679284e-02 -2.88039744e-01 -4.72729743e-01 -5.76328039e-01\\n  -2.01229677e-01 -1.75241053e-01  4.77307290e-01  3.50084990e-01\\n   3.90916586e-01  9.14038181e-01  5.33031762e-01  7.98834801e-01\\n  -2.51655579e-01  8.39203000e-01 -7.45803654e-01 -9.04020131e-01\\n  -3.89730930e-02 -6.49598420e-01 -6.25771880e-01 -3.97279114e-02\\n   4.24984135e-02 -5.96175551e-01 -1.38139367e-01 -1.39202759e-01\\n  -1.98330134e-01  9.40473080e-01  7.61586428e-01 -4.62344028e-02\\n   5.31470895e-01 -8.36388588e-01  2.11826935e-01 -5.43496549e-01]\\n [ 5.33072054e-01  4.56044883e-01  8.39015186e-01 -1.04374671e+00\\n   1.56832385e+00 -1.33515143e+00  3.73961851e-02  3.01835328e-01\\n  -4.11976837e-02  6.40888155e-01 -6.06644273e-01 -5.79659820e-01\\n  -6.07499719e-01 -6.49372041e-01 -2.98250347e-01  6.64310217e-01\\n   1.96863040e-02 -1.09945878e-01  2.01132715e-01  1.02696940e-01\\n   3.01232964e-01  2.73796499e-01 -2.71943331e-01 -3.51268142e-01\\n  -1.53753877e-01 -5.78019917e-01 -1.30264854e+00 -2.93951690e-01\\n  -6.26362860e-01 -7.62738705e-01 -5.03784657e-01 -4.65787053e-01\\n  -3.08976114e-01  9.33010221e-01 -4.20687795e-01 -2.30084658e-01\\n   5.57104349e-02  4.47035044e-01 -1.63461283e-01 -2.53155649e-01\\n   3.48761886e-01  1.00465667e+00 -5.68180978e-01 -2.02078056e+00\\n  -1.13287568e-01  4.69954103e-01 -7.67929673e-01 -5.87964416e-01\\n  -4.28814709e-01  4.37985152e-01 -1.77373156e-01  8.64149928e-02\\n   3.47060561e-01 -2.78694183e-01 -8.50108624e-01 -8.34663212e-01\\n  -3.37948680e-01 -3.68594259e-01 -1.19838305e-01 -2.55681306e-01\\n  -5.05034864e-01  9.89837468e-01  6.01598769e-02  4.60624129e-01\\n   1.70860603e-01 -7.88191676e-01  3.71566087e-01  3.89199555e-01\\n   9.61937010e-02 -7.81401873e-01  5.73966563e-01 -1.21133816e+00\\n  -1.27336574e+00 -1.33393466e-01 -4.19313580e-01 -7.67399728e-01\\n   6.71993554e-01 -1.28660035e+00 -2.08503589e-01 -1.16632357e-02\\n   1.20962811e+00  9.22388554e-01 -6.42474413e-01 -5.41225910e-01\\n  -2.41920562e-03 -2.61422038e-01 -8.29416752e-01 -3.26026469e-01\\n   1.83818623e-01  5.32268405e-01 -8.10856164e-01  5.38482785e-01\\n   6.85747147e-01  4.90493953e-01  6.26751304e-01 -1.09694347e-01\\n  -2.01301336e-01 -4.54637259e-02 -3.46216321e-01  6.75390959e-01\\n  -2.68606897e-02  4.35421258e-01 -1.18126726e+00  1.08785701e+00\\n   2.44008079e-01  1.33971915e-01 -3.18561554e-01 -6.78091168e-01\\n  -5.29155731e-01 -9.61228728e-01  8.68508697e-01 -1.26662999e-01\\n   3.72052670e-01  7.51072109e-01  5.07340245e-02 -8.07124972e-01\\n  -5.01443088e-01  9.85478222e-01  7.49551713e-01  1.20255828e+00\\n   5.34670055e-01  3.37004155e-01 -2.40638092e-01 -1.00810468e-01\\n   1.06300962e+00  5.73116243e-01 -1.47232664e+00  1.36052001e+00\\n  -9.04539645e-01  1.95702136e+00  6.80139959e-02 -1.98215917e-01\\n   6.37893438e-01 -1.21493459e-01  2.03771442e-01  7.80696154e-01\\n  -3.49353343e-01 -1.09484792e+00  1.53629541e-01 -5.07641137e-01\\n  -3.66134256e-01  8.50640893e-01 -4.68426868e-02  1.50484478e+00\\n  -1.51484823e+00 -7.18820319e-02 -1.25765562e+00  1.25426567e+00\\n  -8.53978038e-01 -2.59188682e-01  2.64985383e-01  2.94529974e-01\\n  -6.90258145e-01  1.12264287e+00 -5.87878942e-01  7.27013946e-01\\n   6.78825900e-02  3.76613617e-01  1.97827406e-02  3.07455920e-02\\n   5.19234478e-01 -4.02687967e-01 -9.54509228e-02 -7.97604501e-01\\n  -6.79864287e-01 -6.64258182e-01  2.82135636e-01  7.51467347e-01\\n  -3.63545209e-01  1.64538336e+00 -7.10740089e-01  3.74076337e-01\\n  -1.12703606e-01  4.67488438e-01 -6.22338988e-02 -6.86635196e-01\\n   1.59610832e+00  3.62130180e-02  5.13861716e-01  1.26188612e+00\\n  -4.02794778e-01 -2.41441175e-01  2.49740347e-01 -1.05403662e+00\\n  -1.17287822e-01  2.79811412e-01  1.24014162e-01  1.14088905e+00\\n  -2.23839089e-01  9.84580576e-01 -1.06535584e-01 -1.30394459e+00\\n   7.30700254e-01  3.43012601e-01 -9.64649990e-02  3.19361202e-02\\n   8.09330940e-01  7.93873608e-01  1.48183659e-01  1.00140266e-01]\\n [ 7.37399161e-02 -1.16558611e+00 -1.33562589e+00 -5.39019071e-02\\n  -4.76919413e-01 -3.00814837e-01  1.56595066e-01 -1.06075871e+00\\n   2.53242671e-01  2.65019745e-01 -4.47687268e-01 -1.07793617e+00\\n   1.65686775e-02 -7.68318355e-01 -1.08256340e+00  6.36059463e-01\\n   1.35358244e-01  2.91861594e-01 -5.48565686e-01 -8.04917037e-01\\n   7.76244476e-02 -8.12931061e-02 -7.19204366e-01 -5.53768277e-01\\n   3.37781399e-01  4.30288553e-01  5.33338547e-01  1.91572738e+00\\n   1.06598067e+00 -3.54926765e-01  1.11537361e+00 -2.50694185e-01\\n  -1.39885202e-01  4.63590205e-01 -4.53637928e-01 -4.24266001e-03\\n   1.47461843e+00 -1.03199565e+00  5.43388903e-01  5.66334367e-01\\n   2.67206520e-01 -1.23938251e+00  1.24330938e+00  1.36562079e-01\\n   6.76684976e-01  3.32077265e-01 -6.23407841e-01  4.92688507e-01\\n  -1.63991615e-01  2.03396916e-01  1.67074442e-01 -5.88191509e-01\\n  -4.01093692e-01  9.57035646e-02 -1.08765197e+00 -2.16808707e-01\\n   6.33673012e-01 -8.99087608e-01  2.45017372e-02  3.86401862e-01\\n   2.91865975e-01  9.84016538e-01 -1.52944303e+00 -9.98658299e-01\\n   1.48818219e+00  2.39959523e-01  5.82295239e-01 -3.50658894e-01\\n  -3.40795517e-02  6.93554729e-02  6.17693625e-02 -8.91078889e-01\\n  -3.29640061e-01  2.78562475e-02  1.33234835e+00 -4.71964478e-01\\n   3.16822350e-01  9.23080027e-01  2.77772337e-01  8.99184570e-02\\n   1.90605611e-01  2.84791946e-01 -6.11422360e-02 -5.13773561e-01\\n  -3.69793445e-01 -8.61957818e-02  1.24368565e-02 -5.68440437e-01\\n   4.09097448e-02 -7.34550416e-01 -8.47335458e-01 -1.07178330e-01\\n   2.09123552e-01 -3.04507047e-01 -1.92023903e-01  2.77682275e-01\\n   2.96410352e-01  1.01433587e+00 -5.54873288e-01  5.56934714e-01\\n   7.54919767e-01 -5.05524397e-01  1.07186234e+00 -5.44781238e-02\\n   1.92724224e-02 -7.55608439e-01 -8.45465481e-01 -3.63127589e-01\\n  -5.06397784e-01 -2.49867350e-01  4.41728115e-01 -9.33854759e-01\\n  -2.18469843e-01  1.07012048e-01  3.93486559e-01  8.10837984e-01\\n  -6.60791039e-01  2.81782418e-01 -7.36564100e-01 -6.34265900e-01\\n   7.17768848e-01 -2.64386863e-01  1.76166138e-03 -2.59890437e-01\\n  -8.58886063e-01  2.82719672e-01 -2.39804491e-01 -6.65810943e-01\\n  -4.25291881e-02  4.42086846e-01 -9.34720337e-02  5.58481514e-01\\n   7.05418587e-01 -5.42105973e-01  4.73300278e-01  1.12836197e-01\\n  -5.63672125e-01  2.87061632e-01  9.03167903e-01 -1.53511958e-02\\n   7.93513954e-01  1.07874823e+00 -9.41531122e-01 -8.07263434e-01\\n  -6.26756489e-01 -4.62959707e-01 -1.20428935e-01 -4.23076391e-01\\n  -1.15218794e+00  1.22157350e-01  2.18791515e-01 -1.33895433e+00\\n   1.25985995e-01  1.78259984e-01  3.42262805e-01 -5.96740365e-01\\n  -1.62477508e-01 -1.15613453e-01  9.19692874e-01 -3.99490863e-01\\n   7.30026662e-01  5.42362452e-01  4.45841908e-01 -4.38400596e-01\\n   7.94427395e-01  7.88063288e-01 -5.33400439e-02  6.51608050e-01\\n   2.68107474e-01 -2.09031031e-01 -3.21732372e-01  8.96785080e-01\\n  -6.22248530e-01  3.96898925e-01 -1.68735906e-01  5.76651692e-01\\n   4.52055275e-01  1.71313152e-01  1.09999752e+00 -3.03938538e-01\\n  -3.11000854e-01  1.09470971e-01  2.54310071e-01 -6.63620055e-01\\n   1.51633215e+00 -9.79572296e-01 -1.16231060e+00  6.62626803e-01\\n   2.67070532e-01 -6.98444486e-01 -6.22190893e-01  3.12518358e-01\\n  -8.35324466e-01  3.20098475e-02 -1.88112915e-01  8.96803811e-02\\n  -1.85633853e-01 -4.88387823e-01  3.18490773e-01 -3.87570560e-01]]'"
      ]
     },
     "execution_count": 23,
     "metadata": {},
     "output_type": "execute_result"
    }
   ],
   "source": [
    "tritles.iloc[0,7]"
   ]
  },
  {
   "cell_type": "code",
   "execution_count": 12,
   "metadata": {},
   "outputs": [
    {
     "ename": "SyntaxError",
     "evalue": "invalid syntax (<unknown>, line 1)",
     "output_type": "error",
     "traceback": [
      "Traceback \u001b[1;36m(most recent call last)\u001b[0m:\n",
      "  File \u001b[0;32m\"C:\\Users\\gcn4\\anaconda3\\lib\\site-packages\\IPython\\core\\interactiveshell.py\"\u001b[0m, line \u001b[0;32m3343\u001b[0m, in \u001b[0;35mrun_code\u001b[0m\n    exec(code_obj, self.user_global_ns, self.user_ns)\n",
      "  File \u001b[0;32m\"<ipython-input-12-acdbd3d266bb>\"\u001b[0m, line \u001b[0;32m1\u001b[0m, in \u001b[0;35m<module>\u001b[0m\n    tritles['word_vec2']=tritles['word_vec'].apply(lambda x: literal_eval(x))\n",
      "  File \u001b[0;32m\"C:\\Users\\gcn4\\anaconda3\\lib\\site-packages\\pandas\\core\\series.py\"\u001b[0m, line \u001b[0;32m4200\u001b[0m, in \u001b[0;35mapply\u001b[0m\n    mapped = lib.map_infer(values, f, convert=convert_dtype)\n",
      "  File \u001b[0;32m\"pandas\\_libs\\lib.pyx\"\u001b[0m, line \u001b[0;32m2401\u001b[0m, in \u001b[0;35mpandas._libs.lib.map_infer\u001b[0m\n",
      "  File \u001b[0;32m\"<ipython-input-12-acdbd3d266bb>\"\u001b[0m, line \u001b[0;32m1\u001b[0m, in \u001b[0;35m<lambda>\u001b[0m\n    tritles['word_vec2']=tritles['word_vec'].apply(lambda x: literal_eval(x))\n",
      "  File \u001b[0;32m\"C:\\Users\\gcn4\\anaconda3\\lib\\ast.py\"\u001b[0m, line \u001b[0;32m59\u001b[0m, in \u001b[0;35mliteral_eval\u001b[0m\n    node_or_string = parse(node_or_string, mode='eval')\n",
      "\u001b[1;36m  File \u001b[1;32m\"C:\\Users\\gcn4\\anaconda3\\lib\\ast.py\"\u001b[1;36m, line \u001b[1;32m47\u001b[1;36m, in \u001b[1;35mparse\u001b[1;36m\u001b[0m\n\u001b[1;33m    return compile(source, filename, mode, flags,\u001b[0m\n",
      "\u001b[1;36m  File \u001b[1;32m\"<unknown>\"\u001b[1;36m, line \u001b[1;32m1\u001b[0m\n\u001b[1;33m    [[-1.81372836e-01  1.97823837e-01 -7.73134887e-01 -1.37400717e-01\u001b[0m\n\u001b[1;37m                       ^\u001b[0m\n\u001b[1;31mSyntaxError\u001b[0m\u001b[1;31m:\u001b[0m invalid syntax\n"
     ]
    }
   ],
   "source": [
    "tritles['word_vec2']=tritles['word_vec'].apply(lambda x: literal_eval(x))"
   ]
  },
  {
   "cell_type": "markdown",
   "metadata": {},
   "source": [
    "**HUGE** thanks to stackoverflow for this one. I was ready to go back to bed. https://stackoverflow.com/questions/45704999/how-to-convert-vector-wrapped-as-string-to-numpy-array-in-pandas-dataframe"
   ]
  },
  {
   "cell_type": "code",
   "execution_count": 27,
   "metadata": {},
   "outputs": [],
   "source": [
    "result = tritles['word_vec'].apply(lambda x: \n",
    "                           np.fromstring(\n",
    "                               x.replace('\\n','')\n",
    "                                .replace('[','')\n",
    "                                .replace(']','')\n",
    "                                .replace('  ',' '), sep=' '))"
   ]
  },
  {
   "cell_type": "code",
   "execution_count": 32,
   "metadata": {},
   "outputs": [
    {
     "data": {
      "text/plain": [
       "600"
      ]
     },
     "execution_count": 32,
     "metadata": {},
     "output_type": "execute_result"
    }
   ],
   "source": [
    "len(result[1])"
   ]
  },
  {
   "cell_type": "markdown",
   "metadata": {},
   "source": [
    "This split the wordvecs into one large 600 element vector, rather than 3 200 element vectors. I cannot figure out how to fix it, and I'm running out of time. This will be quick and dirty here."
   ]
  },
  {
   "cell_type": "code",
   "execution_count": 45,
   "metadata": {},
   "outputs": [],
   "source": [
    "vec1 = []\n",
    "vec2 = []\n",
    "vec3 = []\n",
    "\n",
    "for i in result:\n",
    "    vec1.append(i[0:200])\n",
    "    vec2.append(i[200:400])\n",
    "    vec3.append(i[400:])\n",
    "    \n",
    "tritles['vec1'] = vec1\n",
    "tritles['vec2'] = vec2\n",
    "tritles['vec3'] = vec3"
   ]
  },
  {
   "cell_type": "code",
   "execution_count": 46,
   "metadata": {},
   "outputs": [
    {
     "data": {
      "text/html": [
       "<div>\n",
       "<style scoped>\n",
       "    .dataframe tbody tr th:only-of-type {\n",
       "        vertical-align: middle;\n",
       "    }\n",
       "\n",
       "    .dataframe tbody tr th {\n",
       "        vertical-align: top;\n",
       "    }\n",
       "\n",
       "    .dataframe thead th {\n",
       "        text-align: right;\n",
       "    }\n",
       "</style>\n",
       "<table border=\"1\" class=\"dataframe\">\n",
       "  <thead>\n",
       "    <tr style=\"text-align: right;\">\n",
       "      <th></th>\n",
       "      <th>title</th>\n",
       "      <th>good_title</th>\n",
       "      <th>pos</th>\n",
       "      <th>pos1</th>\n",
       "      <th>pos2</th>\n",
       "      <th>pos3</th>\n",
       "      <th>title_token</th>\n",
       "      <th>word_vec</th>\n",
       "      <th>vec1</th>\n",
       "      <th>vec2</th>\n",
       "      <th>vec3</th>\n",
       "    </tr>\n",
       "  </thead>\n",
       "  <tbody>\n",
       "    <tr>\n",
       "      <th>230</th>\n",
       "      <td>do for money</td>\n",
       "      <td>0</td>\n",
       "      <td>['VB', 'IN', 'NN']</td>\n",
       "      <td>VB</td>\n",
       "      <td>IN</td>\n",
       "      <td>NN</td>\n",
       "      <td>['do', 'for', 'money']</td>\n",
       "      <td>[[-5.64624608e-01 -5.12021065e-01 -1.17289269e...</td>\n",
       "      <td>[-0.564624608, -0.512021065, -1.17289269, 0.00...</td>\n",
       "      <td>[-0.730259776, -0.0950055048, -0.382897794, -0...</td>\n",
       "      <td>[-0.0542504415, -0.1242925, -0.238900557, -0.1...</td>\n",
       "    </tr>\n",
       "  </tbody>\n",
       "</table>\n",
       "</div>"
      ],
      "text/plain": [
       "            title  good_title                 pos pos1 pos2 pos3  \\\n",
       "230  do for money           0  ['VB', 'IN', 'NN']   VB   IN   NN   \n",
       "\n",
       "                title_token  \\\n",
       "230  ['do', 'for', 'money']   \n",
       "\n",
       "                                              word_vec  \\\n",
       "230  [[-5.64624608e-01 -5.12021065e-01 -1.17289269e...   \n",
       "\n",
       "                                                  vec1  \\\n",
       "230  [-0.564624608, -0.512021065, -1.17289269, 0.00...   \n",
       "\n",
       "                                                  vec2  \\\n",
       "230  [-0.730259776, -0.0950055048, -0.382897794, -0...   \n",
       "\n",
       "                                                  vec3  \n",
       "230  [-0.0542504415, -0.1242925, -0.238900557, -0.1...  "
      ]
     },
     "execution_count": 46,
     "metadata": {},
     "output_type": "execute_result"
    }
   ],
   "source": [
    "tritles.sample()"
   ]
  },
  {
   "cell_type": "code",
   "execution_count": 131,
   "metadata": {},
   "outputs": [],
   "source": [
    "vec3 = tritles.vec3.tolist()\n",
    "\n",
    "for item in vec3:\n",
    "    if len(item) != 200:\n",
    "        print('yes')"
   ]
  },
  {
   "cell_type": "code",
   "execution_count": 132,
   "metadata": {},
   "outputs": [],
   "source": [
    "title_vec = []\n",
    "\n",
    "for index, row in tritles.iterrows():\n",
    "    new_vec = []\n",
    "    new_vec.append(row['vec1'])\n",
    "    new_vec.append(row['vec2'])\n",
    "    new_vec.append(row['vec3'])\n",
    "    title_vec.append(new_vec)\n"
   ]
  },
  {
   "cell_type": "code",
   "execution_count": 133,
   "metadata": {},
   "outputs": [
    {
     "data": {
      "text/plain": [
       "389"
      ]
     },
     "execution_count": 133,
     "metadata": {},
     "output_type": "execute_result"
    }
   ],
   "source": [
    "len(title_vec)"
   ]
  },
  {
   "cell_type": "code",
   "execution_count": 135,
   "metadata": {},
   "outputs": [],
   "source": [
    "tritles['title_vec'] = title_vec"
   ]
  },
  {
   "cell_type": "code",
   "execution_count": 136,
   "metadata": {},
   "outputs": [
    {
     "data": {
      "text/html": [
       "<div>\n",
       "<style scoped>\n",
       "    .dataframe tbody tr th:only-of-type {\n",
       "        vertical-align: middle;\n",
       "    }\n",
       "\n",
       "    .dataframe tbody tr th {\n",
       "        vertical-align: top;\n",
       "    }\n",
       "\n",
       "    .dataframe thead th {\n",
       "        text-align: right;\n",
       "    }\n",
       "</style>\n",
       "<table border=\"1\" class=\"dataframe\">\n",
       "  <thead>\n",
       "    <tr style=\"text-align: right;\">\n",
       "      <th></th>\n",
       "      <th>title</th>\n",
       "      <th>good_title</th>\n",
       "      <th>pos</th>\n",
       "      <th>pos1</th>\n",
       "      <th>pos2</th>\n",
       "      <th>pos3</th>\n",
       "      <th>title_token</th>\n",
       "      <th>word_vec</th>\n",
       "      <th>vec1</th>\n",
       "      <th>vec2</th>\n",
       "      <th>vec3</th>\n",
       "      <th>title_vec</th>\n",
       "    </tr>\n",
       "  </thead>\n",
       "  <tbody>\n",
       "    <tr>\n",
       "      <th>157</th>\n",
       "      <td>to take arms</td>\n",
       "      <td>1</td>\n",
       "      <td>['TO', 'VB', 'NNS']</td>\n",
       "      <td>TO</td>\n",
       "      <td>VB</td>\n",
       "      <td>NNS</td>\n",
       "      <td>['to', 'take', 'arms']</td>\n",
       "      <td>[[-1.16125548e+00  4.17104214e-01 -3.87518018e...</td>\n",
       "      <td>[-1.16125548, 0.417104214, -0.387518018, -0.09...</td>\n",
       "      <td>[-0.609587848, 0.0898125693, -0.994344175, 0.0...</td>\n",
       "      <td>[-0.149089426, -0.153491467, -0.327489436, -0....</td>\n",
       "      <td>[[-1.16125548, 0.417104214, -0.387518018, -0.0...</td>\n",
       "    </tr>\n",
       "  </tbody>\n",
       "</table>\n",
       "</div>"
      ],
      "text/plain": [
       "            title  good_title                  pos pos1 pos2 pos3  \\\n",
       "157  to take arms           1  ['TO', 'VB', 'NNS']   TO   VB  NNS   \n",
       "\n",
       "                title_token  \\\n",
       "157  ['to', 'take', 'arms']   \n",
       "\n",
       "                                              word_vec  \\\n",
       "157  [[-1.16125548e+00  4.17104214e-01 -3.87518018e...   \n",
       "\n",
       "                                                  vec1  \\\n",
       "157  [-1.16125548, 0.417104214, -0.387518018, -0.09...   \n",
       "\n",
       "                                                  vec2  \\\n",
       "157  [-0.609587848, 0.0898125693, -0.994344175, 0.0...   \n",
       "\n",
       "                                                  vec3  \\\n",
       "157  [-0.149089426, -0.153491467, -0.327489436, -0....   \n",
       "\n",
       "                                             title_vec  \n",
       "157  [[-1.16125548, 0.417104214, -0.387518018, -0.0...  "
      ]
     },
     "execution_count": 136,
     "metadata": {},
     "output_type": "execute_result"
    }
   ],
   "source": [
    "tritles.sample()"
   ]
  },
  {
   "cell_type": "code",
   "execution_count": 245,
   "metadata": {},
   "outputs": [
    {
     "data": {
      "text/html": [
       "<div>\n",
       "<style scoped>\n",
       "    .dataframe tbody tr th:only-of-type {\n",
       "        vertical-align: middle;\n",
       "    }\n",
       "\n",
       "    .dataframe tbody tr th {\n",
       "        vertical-align: top;\n",
       "    }\n",
       "\n",
       "    .dataframe thead th {\n",
       "        text-align: right;\n",
       "    }\n",
       "</style>\n",
       "<table border=\"1\" class=\"dataframe\">\n",
       "  <thead>\n",
       "    <tr style=\"text-align: right;\">\n",
       "      <th></th>\n",
       "      <th>title</th>\n",
       "      <th>good_title</th>\n",
       "      <th>pos</th>\n",
       "      <th>pos1</th>\n",
       "      <th>pos2</th>\n",
       "      <th>pos3</th>\n",
       "      <th>title_token</th>\n",
       "      <th>word_vec</th>\n",
       "      <th>vec1</th>\n",
       "      <th>vec2</th>\n",
       "      <th>vec3</th>\n",
       "      <th>title_vec</th>\n",
       "      <th>result</th>\n",
       "    </tr>\n",
       "  </thead>\n",
       "  <tbody>\n",
       "    <tr>\n",
       "      <th>94</th>\n",
       "      <td>bid time return</td>\n",
       "      <td>1</td>\n",
       "      <td>['NN', 'NN', 'NN']</td>\n",
       "      <td>NN</td>\n",
       "      <td>NN</td>\n",
       "      <td>NN</td>\n",
       "      <td>['bid', 'time', 'return']</td>\n",
       "      <td>[[-7.69946396e-01  8.33220556e-02 -2.26814449e...</td>\n",
       "      <td>[-0.769946396, 0.0833220556, -0.226814449, 0.0...</td>\n",
       "      <td>[-0.393670291, 0.198632717, -0.975979328, -0.2...</td>\n",
       "      <td>[-0.192687765, -0.11369627, -0.528518617, 0.03...</td>\n",
       "      <td>[[-0.769946396, 0.0833220556, -0.226814449, 0....</td>\n",
       "      <td>[-0.769946396, 0.0833220556, -0.226814449, 0.0...</td>\n",
       "    </tr>\n",
       "  </tbody>\n",
       "</table>\n",
       "</div>"
      ],
      "text/plain": [
       "              title  good_title                 pos pos1 pos2 pos3  \\\n",
       "94  bid time return           1  ['NN', 'NN', 'NN']   NN   NN   NN   \n",
       "\n",
       "                  title_token  \\\n",
       "94  ['bid', 'time', 'return']   \n",
       "\n",
       "                                             word_vec  \\\n",
       "94  [[-7.69946396e-01  8.33220556e-02 -2.26814449e...   \n",
       "\n",
       "                                                 vec1  \\\n",
       "94  [-0.769946396, 0.0833220556, -0.226814449, 0.0...   \n",
       "\n",
       "                                                 vec2  \\\n",
       "94  [-0.393670291, 0.198632717, -0.975979328, -0.2...   \n",
       "\n",
       "                                                 vec3  \\\n",
       "94  [-0.192687765, -0.11369627, -0.528518617, 0.03...   \n",
       "\n",
       "                                            title_vec  \\\n",
       "94  [[-0.769946396, 0.0833220556, -0.226814449, 0....   \n",
       "\n",
       "                                               result  \n",
       "94  [-0.769946396, 0.0833220556, -0.226814449, 0.0...  "
      ]
     },
     "execution_count": 245,
     "metadata": {},
     "output_type": "execute_result"
    }
   ],
   "source": [
    "tritles['result'] = result\n",
    "tritles.sample()"
   ]
  },
  {
   "cell_type": "code",
   "execution_count": 246,
   "metadata": {},
   "outputs": [
    {
     "data": {
      "text/plain": [
       "389"
      ]
     },
     "execution_count": 246,
     "metadata": {},
     "output_type": "execute_result"
    }
   ],
   "source": [
    "v_length = [len(vec) for vec in tritles.result]\n",
    "len(v_length)"
   ]
  },
  {
   "cell_type": "code",
   "execution_count": 248,
   "metadata": {},
   "outputs": [
    {
     "name": "stdout",
     "output_type": "stream",
     "text": [
      "{600}\n"
     ]
    }
   ],
   "source": [
    "print(set(v_length))"
   ]
  },
  {
   "cell_type": "markdown",
   "metadata": {},
   "source": [
    "## Try 1: Word Embedding##"
   ]
  },
  {
   "cell_type": "code",
   "execution_count": 227,
   "metadata": {},
   "outputs": [],
   "source": [
    "X1 = tritles[['vec1', 'vec2', 'vec3']]\n",
    "y = tritles[['good_title']].to_numpy()"
   ]
  },
  {
   "cell_type": "code",
   "execution_count": 228,
   "metadata": {},
   "outputs": [
    {
     "data": {
      "text/html": [
       "<div>\n",
       "<style scoped>\n",
       "    .dataframe tbody tr th:only-of-type {\n",
       "        vertical-align: middle;\n",
       "    }\n",
       "\n",
       "    .dataframe tbody tr th {\n",
       "        vertical-align: top;\n",
       "    }\n",
       "\n",
       "    .dataframe thead th {\n",
       "        text-align: right;\n",
       "    }\n",
       "</style>\n",
       "<table border=\"1\" class=\"dataframe\">\n",
       "  <thead>\n",
       "    <tr style=\"text-align: right;\">\n",
       "      <th></th>\n",
       "      <th>vec1</th>\n",
       "      <th>vec2</th>\n",
       "      <th>vec3</th>\n",
       "    </tr>\n",
       "  </thead>\n",
       "  <tbody>\n",
       "    <tr>\n",
       "      <th>0</th>\n",
       "      <td>[-0.181372836, 0.197823837, -0.773134887, -0.1...</td>\n",
       "      <td>[0.533072054, 0.456044883, 0.839015186, -1.043...</td>\n",
       "      <td>[0.0737399161, -1.16558611, -1.33562589, -0.05...</td>\n",
       "    </tr>\n",
       "    <tr>\n",
       "      <th>1</th>\n",
       "      <td>[-0.959224224, 1.22396159, -0.639906406, -0.51...</td>\n",
       "      <td>[-0.136978582, -0.262594491, -0.226922512, -0....</td>\n",
       "      <td>[-0.0353104249, -0.0204622857, 0.0873904899, -...</td>\n",
       "    </tr>\n",
       "    <tr>\n",
       "      <th>2</th>\n",
       "      <td>[-0.0287398398, -0.0736244917, 0.0142647075, -...</td>\n",
       "      <td>[-0.311327934, -0.266869843, 1.77387714, -0.93...</td>\n",
       "      <td>[-0.0696778893, -0.140246749, -0.0611646064, 0...</td>\n",
       "    </tr>\n",
       "    <tr>\n",
       "      <th>3</th>\n",
       "      <td>[0.00378270075, 0.385284066, -0.890050769, 0.6...</td>\n",
       "      <td>[-0.0234753769, -0.0381344706, 0.0521896631, -...</td>\n",
       "      <td>[0.00223998143, -0.0186114572, -0.00538241072,...</td>\n",
       "    </tr>\n",
       "    <tr>\n",
       "      <th>4</th>\n",
       "      <td>[-0.629614413, -0.717607141, -1.16408551, -0.0...</td>\n",
       "      <td>[-0.0893845335, -0.509242773, -0.135309592, -1...</td>\n",
       "      <td>[-0.206095338, -0.359155834, -0.451801538, 0.0...</td>\n",
       "    </tr>\n",
       "  </tbody>\n",
       "</table>\n",
       "</div>"
      ],
      "text/plain": [
       "                                                vec1  \\\n",
       "0  [-0.181372836, 0.197823837, -0.773134887, -0.1...   \n",
       "1  [-0.959224224, 1.22396159, -0.639906406, -0.51...   \n",
       "2  [-0.0287398398, -0.0736244917, 0.0142647075, -...   \n",
       "3  [0.00378270075, 0.385284066, -0.890050769, 0.6...   \n",
       "4  [-0.629614413, -0.717607141, -1.16408551, -0.0...   \n",
       "\n",
       "                                                vec2  \\\n",
       "0  [0.533072054, 0.456044883, 0.839015186, -1.043...   \n",
       "1  [-0.136978582, -0.262594491, -0.226922512, -0....   \n",
       "2  [-0.311327934, -0.266869843, 1.77387714, -0.93...   \n",
       "3  [-0.0234753769, -0.0381344706, 0.0521896631, -...   \n",
       "4  [-0.0893845335, -0.509242773, -0.135309592, -1...   \n",
       "\n",
       "                                                vec3  \n",
       "0  [0.0737399161, -1.16558611, -1.33562589, -0.05...  \n",
       "1  [-0.0353104249, -0.0204622857, 0.0873904899, -...  \n",
       "2  [-0.0696778893, -0.140246749, -0.0611646064, 0...  \n",
       "3  [0.00223998143, -0.0186114572, -0.00538241072,...  \n",
       "4  [-0.206095338, -0.359155834, -0.451801538, 0.0...  "
      ]
     },
     "execution_count": 228,
     "metadata": {},
     "output_type": "execute_result"
    }
   ],
   "source": [
    "X1.head()"
   ]
  },
  {
   "cell_type": "code",
   "execution_count": 229,
   "metadata": {},
   "outputs": [
    {
     "name": "stdout",
     "output_type": "stream",
     "text": [
      "X1_train shape: (291, 3)\n",
      "X1_test shape: (98, 3)\n"
     ]
    }
   ],
   "source": [
    "X1_train, X1_test, y1_train, y1_test = train_test_split(X1, y, test_size=0.25)\n",
    "\n",
    "print('X1_train shape:', X1_train.shape)\n",
    "print('X1_test shape:', X1_test.shape)"
   ]
  },
  {
   "cell_type": "code",
   "execution_count": 231,
   "metadata": {},
   "outputs": [],
   "source": [
    "X1_train = X1_train.to_numpy()\n",
    "X1_test = X1_test.to_numpy()"
   ]
  },
  {
   "cell_type": "markdown",
   "metadata": {},
   "source": [
    "Quick RandomForest to see if these are finally in the proper format"
   ]
  },
  {
   "cell_type": "code",
   "execution_count": 232,
   "metadata": {},
   "outputs": [],
   "source": [
    "from sklearn.ensemble import RandomForestClassifier\n",
    "from sklearn.metrics import precision_score, recall_score\n",
    "\n",
    "rf = RandomForestClassifier()"
   ]
  },
  {
   "cell_type": "code",
   "execution_count": 233,
   "metadata": {},
   "outputs": [
    {
     "ename": "ValueError",
     "evalue": "setting an array element with a sequence.",
     "output_type": "error",
     "traceback": [
      "\u001b[1;31m---------------------------------------------------------------------------\u001b[0m",
      "\u001b[1;31mTypeError\u001b[0m                                 Traceback (most recent call last)",
      "\u001b[1;31mTypeError\u001b[0m: only size-1 arrays can be converted to Python scalars",
      "\nThe above exception was the direct cause of the following exception:\n",
      "\u001b[1;31mValueError\u001b[0m                                Traceback (most recent call last)",
      "\u001b[1;32m<ipython-input-233-86267784827e>\u001b[0m in \u001b[0;36m<module>\u001b[1;34m\u001b[0m\n\u001b[1;32m----> 1\u001b[1;33m \u001b[0mrf_model1\u001b[0m \u001b[1;33m=\u001b[0m \u001b[0mrf\u001b[0m\u001b[1;33m.\u001b[0m\u001b[0mfit\u001b[0m\u001b[1;33m(\u001b[0m\u001b[0mX1_train\u001b[0m\u001b[1;33m,\u001b[0m \u001b[0my1_train\u001b[0m\u001b[1;33m.\u001b[0m\u001b[0mravel\u001b[0m\u001b[1;33m(\u001b[0m\u001b[1;33m)\u001b[0m\u001b[1;33m)\u001b[0m\u001b[1;33m\u001b[0m\u001b[1;33m\u001b[0m\u001b[0m\n\u001b[0m",
      "\u001b[1;32m~\\anaconda3\\lib\\site-packages\\sklearn\\ensemble\\_forest.py\u001b[0m in \u001b[0;36mfit\u001b[1;34m(self, X, y, sample_weight)\u001b[0m\n\u001b[0;32m    301\u001b[0m                 \u001b[1;34m\"sparse multilabel-indicator for y is not supported.\"\u001b[0m\u001b[1;33m\u001b[0m\u001b[1;33m\u001b[0m\u001b[0m\n\u001b[0;32m    302\u001b[0m             )\n\u001b[1;32m--> 303\u001b[1;33m         X, y = self._validate_data(X, y, multi_output=True,\n\u001b[0m\u001b[0;32m    304\u001b[0m                                    accept_sparse=\"csc\", dtype=DTYPE)\n\u001b[0;32m    305\u001b[0m         \u001b[1;32mif\u001b[0m \u001b[0msample_weight\u001b[0m \u001b[1;32mis\u001b[0m \u001b[1;32mnot\u001b[0m \u001b[1;32mNone\u001b[0m\u001b[1;33m:\u001b[0m\u001b[1;33m\u001b[0m\u001b[1;33m\u001b[0m\u001b[0m\n",
      "\u001b[1;32m~\\anaconda3\\lib\\site-packages\\sklearn\\base.py\u001b[0m in \u001b[0;36m_validate_data\u001b[1;34m(self, X, y, reset, validate_separately, **check_params)\u001b[0m\n\u001b[0;32m    430\u001b[0m                 \u001b[0my\u001b[0m \u001b[1;33m=\u001b[0m \u001b[0mcheck_array\u001b[0m\u001b[1;33m(\u001b[0m\u001b[0my\u001b[0m\u001b[1;33m,\u001b[0m \u001b[1;33m**\u001b[0m\u001b[0mcheck_y_params\u001b[0m\u001b[1;33m)\u001b[0m\u001b[1;33m\u001b[0m\u001b[1;33m\u001b[0m\u001b[0m\n\u001b[0;32m    431\u001b[0m             \u001b[1;32melse\u001b[0m\u001b[1;33m:\u001b[0m\u001b[1;33m\u001b[0m\u001b[1;33m\u001b[0m\u001b[0m\n\u001b[1;32m--> 432\u001b[1;33m                 \u001b[0mX\u001b[0m\u001b[1;33m,\u001b[0m \u001b[0my\u001b[0m \u001b[1;33m=\u001b[0m \u001b[0mcheck_X_y\u001b[0m\u001b[1;33m(\u001b[0m\u001b[0mX\u001b[0m\u001b[1;33m,\u001b[0m \u001b[0my\u001b[0m\u001b[1;33m,\u001b[0m \u001b[1;33m**\u001b[0m\u001b[0mcheck_params\u001b[0m\u001b[1;33m)\u001b[0m\u001b[1;33m\u001b[0m\u001b[1;33m\u001b[0m\u001b[0m\n\u001b[0m\u001b[0;32m    433\u001b[0m             \u001b[0mout\u001b[0m \u001b[1;33m=\u001b[0m \u001b[0mX\u001b[0m\u001b[1;33m,\u001b[0m \u001b[0my\u001b[0m\u001b[1;33m\u001b[0m\u001b[1;33m\u001b[0m\u001b[0m\n\u001b[0;32m    434\u001b[0m \u001b[1;33m\u001b[0m\u001b[0m\n",
      "\u001b[1;32m~\\anaconda3\\lib\\site-packages\\sklearn\\utils\\validation.py\u001b[0m in \u001b[0;36minner_f\u001b[1;34m(*args, **kwargs)\u001b[0m\n\u001b[0;32m     71\u001b[0m                           FutureWarning)\n\u001b[0;32m     72\u001b[0m         \u001b[0mkwargs\u001b[0m\u001b[1;33m.\u001b[0m\u001b[0mupdate\u001b[0m\u001b[1;33m(\u001b[0m\u001b[1;33m{\u001b[0m\u001b[0mk\u001b[0m\u001b[1;33m:\u001b[0m \u001b[0marg\u001b[0m \u001b[1;32mfor\u001b[0m \u001b[0mk\u001b[0m\u001b[1;33m,\u001b[0m \u001b[0marg\u001b[0m \u001b[1;32min\u001b[0m \u001b[0mzip\u001b[0m\u001b[1;33m(\u001b[0m\u001b[0msig\u001b[0m\u001b[1;33m.\u001b[0m\u001b[0mparameters\u001b[0m\u001b[1;33m,\u001b[0m \u001b[0margs\u001b[0m\u001b[1;33m)\u001b[0m\u001b[1;33m}\u001b[0m\u001b[1;33m)\u001b[0m\u001b[1;33m\u001b[0m\u001b[1;33m\u001b[0m\u001b[0m\n\u001b[1;32m---> 73\u001b[1;33m         \u001b[1;32mreturn\u001b[0m \u001b[0mf\u001b[0m\u001b[1;33m(\u001b[0m\u001b[1;33m**\u001b[0m\u001b[0mkwargs\u001b[0m\u001b[1;33m)\u001b[0m\u001b[1;33m\u001b[0m\u001b[1;33m\u001b[0m\u001b[0m\n\u001b[0m\u001b[0;32m     74\u001b[0m     \u001b[1;32mreturn\u001b[0m \u001b[0minner_f\u001b[0m\u001b[1;33m\u001b[0m\u001b[1;33m\u001b[0m\u001b[0m\n\u001b[0;32m     75\u001b[0m \u001b[1;33m\u001b[0m\u001b[0m\n",
      "\u001b[1;32m~\\anaconda3\\lib\\site-packages\\sklearn\\utils\\validation.py\u001b[0m in \u001b[0;36mcheck_X_y\u001b[1;34m(X, y, accept_sparse, accept_large_sparse, dtype, order, copy, force_all_finite, ensure_2d, allow_nd, multi_output, ensure_min_samples, ensure_min_features, y_numeric, estimator)\u001b[0m\n\u001b[0;32m    794\u001b[0m         \u001b[1;32mraise\u001b[0m \u001b[0mValueError\u001b[0m\u001b[1;33m(\u001b[0m\u001b[1;34m\"y cannot be None\"\u001b[0m\u001b[1;33m)\u001b[0m\u001b[1;33m\u001b[0m\u001b[1;33m\u001b[0m\u001b[0m\n\u001b[0;32m    795\u001b[0m \u001b[1;33m\u001b[0m\u001b[0m\n\u001b[1;32m--> 796\u001b[1;33m     X = check_array(X, accept_sparse=accept_sparse,\n\u001b[0m\u001b[0;32m    797\u001b[0m                     \u001b[0maccept_large_sparse\u001b[0m\u001b[1;33m=\u001b[0m\u001b[0maccept_large_sparse\u001b[0m\u001b[1;33m,\u001b[0m\u001b[1;33m\u001b[0m\u001b[1;33m\u001b[0m\u001b[0m\n\u001b[0;32m    798\u001b[0m                     \u001b[0mdtype\u001b[0m\u001b[1;33m=\u001b[0m\u001b[0mdtype\u001b[0m\u001b[1;33m,\u001b[0m \u001b[0morder\u001b[0m\u001b[1;33m=\u001b[0m\u001b[0morder\u001b[0m\u001b[1;33m,\u001b[0m \u001b[0mcopy\u001b[0m\u001b[1;33m=\u001b[0m\u001b[0mcopy\u001b[0m\u001b[1;33m,\u001b[0m\u001b[1;33m\u001b[0m\u001b[1;33m\u001b[0m\u001b[0m\n",
      "\u001b[1;32m~\\anaconda3\\lib\\site-packages\\sklearn\\utils\\validation.py\u001b[0m in \u001b[0;36minner_f\u001b[1;34m(*args, **kwargs)\u001b[0m\n\u001b[0;32m     71\u001b[0m                           FutureWarning)\n\u001b[0;32m     72\u001b[0m         \u001b[0mkwargs\u001b[0m\u001b[1;33m.\u001b[0m\u001b[0mupdate\u001b[0m\u001b[1;33m(\u001b[0m\u001b[1;33m{\u001b[0m\u001b[0mk\u001b[0m\u001b[1;33m:\u001b[0m \u001b[0marg\u001b[0m \u001b[1;32mfor\u001b[0m \u001b[0mk\u001b[0m\u001b[1;33m,\u001b[0m \u001b[0marg\u001b[0m \u001b[1;32min\u001b[0m \u001b[0mzip\u001b[0m\u001b[1;33m(\u001b[0m\u001b[0msig\u001b[0m\u001b[1;33m.\u001b[0m\u001b[0mparameters\u001b[0m\u001b[1;33m,\u001b[0m \u001b[0margs\u001b[0m\u001b[1;33m)\u001b[0m\u001b[1;33m}\u001b[0m\u001b[1;33m)\u001b[0m\u001b[1;33m\u001b[0m\u001b[1;33m\u001b[0m\u001b[0m\n\u001b[1;32m---> 73\u001b[1;33m         \u001b[1;32mreturn\u001b[0m \u001b[0mf\u001b[0m\u001b[1;33m(\u001b[0m\u001b[1;33m**\u001b[0m\u001b[0mkwargs\u001b[0m\u001b[1;33m)\u001b[0m\u001b[1;33m\u001b[0m\u001b[1;33m\u001b[0m\u001b[0m\n\u001b[0m\u001b[0;32m     74\u001b[0m     \u001b[1;32mreturn\u001b[0m \u001b[0minner_f\u001b[0m\u001b[1;33m\u001b[0m\u001b[1;33m\u001b[0m\u001b[0m\n\u001b[0;32m     75\u001b[0m \u001b[1;33m\u001b[0m\u001b[0m\n",
      "\u001b[1;32m~\\anaconda3\\lib\\site-packages\\sklearn\\utils\\validation.py\u001b[0m in \u001b[0;36mcheck_array\u001b[1;34m(array, accept_sparse, accept_large_sparse, dtype, order, copy, force_all_finite, ensure_2d, allow_nd, ensure_min_samples, ensure_min_features, estimator)\u001b[0m\n\u001b[0;32m    597\u001b[0m                     \u001b[0marray\u001b[0m \u001b[1;33m=\u001b[0m \u001b[0marray\u001b[0m\u001b[1;33m.\u001b[0m\u001b[0mastype\u001b[0m\u001b[1;33m(\u001b[0m\u001b[0mdtype\u001b[0m\u001b[1;33m,\u001b[0m \u001b[0mcasting\u001b[0m\u001b[1;33m=\u001b[0m\u001b[1;34m\"unsafe\"\u001b[0m\u001b[1;33m,\u001b[0m \u001b[0mcopy\u001b[0m\u001b[1;33m=\u001b[0m\u001b[1;32mFalse\u001b[0m\u001b[1;33m)\u001b[0m\u001b[1;33m\u001b[0m\u001b[1;33m\u001b[0m\u001b[0m\n\u001b[0;32m    598\u001b[0m                 \u001b[1;32melse\u001b[0m\u001b[1;33m:\u001b[0m\u001b[1;33m\u001b[0m\u001b[1;33m\u001b[0m\u001b[0m\n\u001b[1;32m--> 599\u001b[1;33m                     \u001b[0marray\u001b[0m \u001b[1;33m=\u001b[0m \u001b[0mnp\u001b[0m\u001b[1;33m.\u001b[0m\u001b[0masarray\u001b[0m\u001b[1;33m(\u001b[0m\u001b[0marray\u001b[0m\u001b[1;33m,\u001b[0m \u001b[0morder\u001b[0m\u001b[1;33m=\u001b[0m\u001b[0morder\u001b[0m\u001b[1;33m,\u001b[0m \u001b[0mdtype\u001b[0m\u001b[1;33m=\u001b[0m\u001b[0mdtype\u001b[0m\u001b[1;33m)\u001b[0m\u001b[1;33m\u001b[0m\u001b[1;33m\u001b[0m\u001b[0m\n\u001b[0m\u001b[0;32m    600\u001b[0m             \u001b[1;32mexcept\u001b[0m \u001b[0mComplexWarning\u001b[0m\u001b[1;33m:\u001b[0m\u001b[1;33m\u001b[0m\u001b[1;33m\u001b[0m\u001b[0m\n\u001b[0;32m    601\u001b[0m                 raise ValueError(\"Complex data not supported\\n\"\n",
      "\u001b[1;32m~\\anaconda3\\lib\\site-packages\\numpy\\core\\_asarray.py\u001b[0m in \u001b[0;36masarray\u001b[1;34m(a, dtype, order)\u001b[0m\n\u001b[0;32m     81\u001b[0m \u001b[1;33m\u001b[0m\u001b[0m\n\u001b[0;32m     82\u001b[0m     \"\"\"\n\u001b[1;32m---> 83\u001b[1;33m     \u001b[1;32mreturn\u001b[0m \u001b[0marray\u001b[0m\u001b[1;33m(\u001b[0m\u001b[0ma\u001b[0m\u001b[1;33m,\u001b[0m \u001b[0mdtype\u001b[0m\u001b[1;33m,\u001b[0m \u001b[0mcopy\u001b[0m\u001b[1;33m=\u001b[0m\u001b[1;32mFalse\u001b[0m\u001b[1;33m,\u001b[0m \u001b[0morder\u001b[0m\u001b[1;33m=\u001b[0m\u001b[0morder\u001b[0m\u001b[1;33m)\u001b[0m\u001b[1;33m\u001b[0m\u001b[1;33m\u001b[0m\u001b[0m\n\u001b[0m\u001b[0;32m     84\u001b[0m \u001b[1;33m\u001b[0m\u001b[0m\n\u001b[0;32m     85\u001b[0m \u001b[1;33m\u001b[0m\u001b[0m\n",
      "\u001b[1;31mValueError\u001b[0m: setting an array element with a sequence."
     ]
    }
   ],
   "source": [
    "rf_model1 = rf.fit(X1_train, y1_train.ravel())"
   ]
  },
  {
   "cell_type": "markdown",
   "metadata": {},
   "source": [
    "## Try 2: Word Embedding ##"
   ]
  },
  {
   "cell_type": "code",
   "execution_count": 265,
   "metadata": {},
   "outputs": [],
   "source": [
    "X2 = tritles['result'].tolist()\n",
    "y2 = tritles['good_title'].to_numpy()"
   ]
  },
  {
   "cell_type": "code",
   "execution_count": 266,
   "metadata": {},
   "outputs": [
    {
     "ename": "AttributeError",
     "evalue": "'list' object has no attribute 'shape'",
     "output_type": "error",
     "traceback": [
      "\u001b[1;31m---------------------------------------------------------------------------\u001b[0m",
      "\u001b[1;31mAttributeError\u001b[0m                            Traceback (most recent call last)",
      "\u001b[1;32m<ipython-input-266-87c6a5b41a04>\u001b[0m in \u001b[0;36m<module>\u001b[1;34m\u001b[0m\n\u001b[0;32m      1\u001b[0m \u001b[0mX2_train\u001b[0m\u001b[1;33m,\u001b[0m \u001b[0mX2_test\u001b[0m\u001b[1;33m,\u001b[0m \u001b[0my2_train\u001b[0m\u001b[1;33m,\u001b[0m \u001b[0my2_test\u001b[0m \u001b[1;33m=\u001b[0m \u001b[0mtrain_test_split\u001b[0m\u001b[1;33m(\u001b[0m\u001b[0mX2\u001b[0m\u001b[1;33m,\u001b[0m \u001b[0my\u001b[0m\u001b[1;33m,\u001b[0m \u001b[0mtest_size\u001b[0m\u001b[1;33m=\u001b[0m\u001b[1;36m0.25\u001b[0m\u001b[1;33m)\u001b[0m\u001b[1;33m\u001b[0m\u001b[1;33m\u001b[0m\u001b[0m\n\u001b[0;32m      2\u001b[0m \u001b[1;33m\u001b[0m\u001b[0m\n\u001b[1;32m----> 3\u001b[1;33m \u001b[0mprint\u001b[0m\u001b[1;33m(\u001b[0m\u001b[1;34m'X2_train shape:'\u001b[0m\u001b[1;33m,\u001b[0m \u001b[0mX2_train\u001b[0m\u001b[1;33m.\u001b[0m\u001b[0mshape\u001b[0m\u001b[1;33m)\u001b[0m\u001b[1;33m\u001b[0m\u001b[1;33m\u001b[0m\u001b[0m\n\u001b[0m\u001b[0;32m      4\u001b[0m \u001b[0mprint\u001b[0m\u001b[1;33m(\u001b[0m\u001b[1;34m'X2_test shape:'\u001b[0m\u001b[1;33m,\u001b[0m \u001b[0mX2_test\u001b[0m\u001b[1;33m.\u001b[0m\u001b[0mshape\u001b[0m\u001b[1;33m)\u001b[0m\u001b[1;33m\u001b[0m\u001b[1;33m\u001b[0m\u001b[0m\n",
      "\u001b[1;31mAttributeError\u001b[0m: 'list' object has no attribute 'shape'"
     ]
    }
   ],
   "source": [
    "X2_train, X2_test, y2_train, y2_test = train_test_split(X2, y, test_size=0.25)\n",
    "\n",
    "print('X2_train shape:', X2_train.shape)\n",
    "print('X2_test shape:', X2_test.shape)"
   ]
  },
  {
   "cell_type": "code",
   "execution_count": 267,
   "metadata": {},
   "outputs": [],
   "source": [
    "rf_model2 = rf.fit(X2_train, y2_train.ravel())"
   ]
  },
  {
   "cell_type": "code",
   "execution_count": 269,
   "metadata": {},
   "outputs": [],
   "source": [
    "y2_pred = rf_model2.predict(X2_test)"
   ]
  },
  {
   "cell_type": "code",
   "execution_count": 270,
   "metadata": {},
   "outputs": [
    {
     "name": "stdout",
     "output_type": "stream",
     "text": [
      "Precision: 0.898 / Recall: 0.863\n"
     ]
    }
   ],
   "source": [
    "precision = precision_score(y2_test, y2_pred)\n",
    "recall = recall_score(y2_test, y2_pred)\n",
    "print('Precision: {} / Recall: {}'.format(\n",
    "    round(precision, 3), \n",
    "    round(recall, 3)))"
   ]
  },
  {
   "cell_type": "markdown",
   "metadata": {},
   "source": [
    "### Try 2.2: Word Embedding ###"
   ]
  },
  {
   "cell_type": "code",
   "execution_count": 271,
   "metadata": {},
   "outputs": [],
   "source": [
    "X4 = tritles['title_vec'].tolist()"
   ]
  },
  {
   "cell_type": "code",
   "execution_count": 272,
   "metadata": {},
   "outputs": [],
   "source": [
    "X4_train, X4_test, y4_train, y4_test = train_test_split(X4, y, test_size=0.25)"
   ]
  },
  {
   "cell_type": "code",
   "execution_count": 273,
   "metadata": {},
   "outputs": [
    {
     "ename": "ValueError",
     "evalue": "Found array with dim 3. Estimator expected <= 2.",
     "output_type": "error",
     "traceback": [
      "\u001b[1;31m---------------------------------------------------------------------------\u001b[0m",
      "\u001b[1;31mValueError\u001b[0m                                Traceback (most recent call last)",
      "\u001b[1;32m<ipython-input-273-bfbc16aeb086>\u001b[0m in \u001b[0;36m<module>\u001b[1;34m\u001b[0m\n\u001b[1;32m----> 1\u001b[1;33m \u001b[0mrf_model4\u001b[0m \u001b[1;33m=\u001b[0m \u001b[0mrf\u001b[0m\u001b[1;33m.\u001b[0m\u001b[0mfit\u001b[0m\u001b[1;33m(\u001b[0m\u001b[0mX4_train\u001b[0m\u001b[1;33m,\u001b[0m \u001b[0my4_train\u001b[0m\u001b[1;33m.\u001b[0m\u001b[0mravel\u001b[0m\u001b[1;33m(\u001b[0m\u001b[1;33m)\u001b[0m\u001b[1;33m)\u001b[0m\u001b[1;33m\u001b[0m\u001b[1;33m\u001b[0m\u001b[0m\n\u001b[0m",
      "\u001b[1;32m~\\anaconda3\\lib\\site-packages\\sklearn\\ensemble\\_forest.py\u001b[0m in \u001b[0;36mfit\u001b[1;34m(self, X, y, sample_weight)\u001b[0m\n\u001b[0;32m    301\u001b[0m                 \u001b[1;34m\"sparse multilabel-indicator for y is not supported.\"\u001b[0m\u001b[1;33m\u001b[0m\u001b[1;33m\u001b[0m\u001b[0m\n\u001b[0;32m    302\u001b[0m             )\n\u001b[1;32m--> 303\u001b[1;33m         X, y = self._validate_data(X, y, multi_output=True,\n\u001b[0m\u001b[0;32m    304\u001b[0m                                    accept_sparse=\"csc\", dtype=DTYPE)\n\u001b[0;32m    305\u001b[0m         \u001b[1;32mif\u001b[0m \u001b[0msample_weight\u001b[0m \u001b[1;32mis\u001b[0m \u001b[1;32mnot\u001b[0m \u001b[1;32mNone\u001b[0m\u001b[1;33m:\u001b[0m\u001b[1;33m\u001b[0m\u001b[1;33m\u001b[0m\u001b[0m\n",
      "\u001b[1;32m~\\anaconda3\\lib\\site-packages\\sklearn\\base.py\u001b[0m in \u001b[0;36m_validate_data\u001b[1;34m(self, X, y, reset, validate_separately, **check_params)\u001b[0m\n\u001b[0;32m    430\u001b[0m                 \u001b[0my\u001b[0m \u001b[1;33m=\u001b[0m \u001b[0mcheck_array\u001b[0m\u001b[1;33m(\u001b[0m\u001b[0my\u001b[0m\u001b[1;33m,\u001b[0m \u001b[1;33m**\u001b[0m\u001b[0mcheck_y_params\u001b[0m\u001b[1;33m)\u001b[0m\u001b[1;33m\u001b[0m\u001b[1;33m\u001b[0m\u001b[0m\n\u001b[0;32m    431\u001b[0m             \u001b[1;32melse\u001b[0m\u001b[1;33m:\u001b[0m\u001b[1;33m\u001b[0m\u001b[1;33m\u001b[0m\u001b[0m\n\u001b[1;32m--> 432\u001b[1;33m                 \u001b[0mX\u001b[0m\u001b[1;33m,\u001b[0m \u001b[0my\u001b[0m \u001b[1;33m=\u001b[0m \u001b[0mcheck_X_y\u001b[0m\u001b[1;33m(\u001b[0m\u001b[0mX\u001b[0m\u001b[1;33m,\u001b[0m \u001b[0my\u001b[0m\u001b[1;33m,\u001b[0m \u001b[1;33m**\u001b[0m\u001b[0mcheck_params\u001b[0m\u001b[1;33m)\u001b[0m\u001b[1;33m\u001b[0m\u001b[1;33m\u001b[0m\u001b[0m\n\u001b[0m\u001b[0;32m    433\u001b[0m             \u001b[0mout\u001b[0m \u001b[1;33m=\u001b[0m \u001b[0mX\u001b[0m\u001b[1;33m,\u001b[0m \u001b[0my\u001b[0m\u001b[1;33m\u001b[0m\u001b[1;33m\u001b[0m\u001b[0m\n\u001b[0;32m    434\u001b[0m \u001b[1;33m\u001b[0m\u001b[0m\n",
      "\u001b[1;32m~\\anaconda3\\lib\\site-packages\\sklearn\\utils\\validation.py\u001b[0m in \u001b[0;36minner_f\u001b[1;34m(*args, **kwargs)\u001b[0m\n\u001b[0;32m     71\u001b[0m                           FutureWarning)\n\u001b[0;32m     72\u001b[0m         \u001b[0mkwargs\u001b[0m\u001b[1;33m.\u001b[0m\u001b[0mupdate\u001b[0m\u001b[1;33m(\u001b[0m\u001b[1;33m{\u001b[0m\u001b[0mk\u001b[0m\u001b[1;33m:\u001b[0m \u001b[0marg\u001b[0m \u001b[1;32mfor\u001b[0m \u001b[0mk\u001b[0m\u001b[1;33m,\u001b[0m \u001b[0marg\u001b[0m \u001b[1;32min\u001b[0m \u001b[0mzip\u001b[0m\u001b[1;33m(\u001b[0m\u001b[0msig\u001b[0m\u001b[1;33m.\u001b[0m\u001b[0mparameters\u001b[0m\u001b[1;33m,\u001b[0m \u001b[0margs\u001b[0m\u001b[1;33m)\u001b[0m\u001b[1;33m}\u001b[0m\u001b[1;33m)\u001b[0m\u001b[1;33m\u001b[0m\u001b[1;33m\u001b[0m\u001b[0m\n\u001b[1;32m---> 73\u001b[1;33m         \u001b[1;32mreturn\u001b[0m \u001b[0mf\u001b[0m\u001b[1;33m(\u001b[0m\u001b[1;33m**\u001b[0m\u001b[0mkwargs\u001b[0m\u001b[1;33m)\u001b[0m\u001b[1;33m\u001b[0m\u001b[1;33m\u001b[0m\u001b[0m\n\u001b[0m\u001b[0;32m     74\u001b[0m     \u001b[1;32mreturn\u001b[0m \u001b[0minner_f\u001b[0m\u001b[1;33m\u001b[0m\u001b[1;33m\u001b[0m\u001b[0m\n\u001b[0;32m     75\u001b[0m \u001b[1;33m\u001b[0m\u001b[0m\n",
      "\u001b[1;32m~\\anaconda3\\lib\\site-packages\\sklearn\\utils\\validation.py\u001b[0m in \u001b[0;36mcheck_X_y\u001b[1;34m(X, y, accept_sparse, accept_large_sparse, dtype, order, copy, force_all_finite, ensure_2d, allow_nd, multi_output, ensure_min_samples, ensure_min_features, y_numeric, estimator)\u001b[0m\n\u001b[0;32m    794\u001b[0m         \u001b[1;32mraise\u001b[0m \u001b[0mValueError\u001b[0m\u001b[1;33m(\u001b[0m\u001b[1;34m\"y cannot be None\"\u001b[0m\u001b[1;33m)\u001b[0m\u001b[1;33m\u001b[0m\u001b[1;33m\u001b[0m\u001b[0m\n\u001b[0;32m    795\u001b[0m \u001b[1;33m\u001b[0m\u001b[0m\n\u001b[1;32m--> 796\u001b[1;33m     X = check_array(X, accept_sparse=accept_sparse,\n\u001b[0m\u001b[0;32m    797\u001b[0m                     \u001b[0maccept_large_sparse\u001b[0m\u001b[1;33m=\u001b[0m\u001b[0maccept_large_sparse\u001b[0m\u001b[1;33m,\u001b[0m\u001b[1;33m\u001b[0m\u001b[1;33m\u001b[0m\u001b[0m\n\u001b[0;32m    798\u001b[0m                     \u001b[0mdtype\u001b[0m\u001b[1;33m=\u001b[0m\u001b[0mdtype\u001b[0m\u001b[1;33m,\u001b[0m \u001b[0morder\u001b[0m\u001b[1;33m=\u001b[0m\u001b[0morder\u001b[0m\u001b[1;33m,\u001b[0m \u001b[0mcopy\u001b[0m\u001b[1;33m=\u001b[0m\u001b[0mcopy\u001b[0m\u001b[1;33m,\u001b[0m\u001b[1;33m\u001b[0m\u001b[1;33m\u001b[0m\u001b[0m\n",
      "\u001b[1;32m~\\anaconda3\\lib\\site-packages\\sklearn\\utils\\validation.py\u001b[0m in \u001b[0;36minner_f\u001b[1;34m(*args, **kwargs)\u001b[0m\n\u001b[0;32m     71\u001b[0m                           FutureWarning)\n\u001b[0;32m     72\u001b[0m         \u001b[0mkwargs\u001b[0m\u001b[1;33m.\u001b[0m\u001b[0mupdate\u001b[0m\u001b[1;33m(\u001b[0m\u001b[1;33m{\u001b[0m\u001b[0mk\u001b[0m\u001b[1;33m:\u001b[0m \u001b[0marg\u001b[0m \u001b[1;32mfor\u001b[0m \u001b[0mk\u001b[0m\u001b[1;33m,\u001b[0m \u001b[0marg\u001b[0m \u001b[1;32min\u001b[0m \u001b[0mzip\u001b[0m\u001b[1;33m(\u001b[0m\u001b[0msig\u001b[0m\u001b[1;33m.\u001b[0m\u001b[0mparameters\u001b[0m\u001b[1;33m,\u001b[0m \u001b[0margs\u001b[0m\u001b[1;33m)\u001b[0m\u001b[1;33m}\u001b[0m\u001b[1;33m)\u001b[0m\u001b[1;33m\u001b[0m\u001b[1;33m\u001b[0m\u001b[0m\n\u001b[1;32m---> 73\u001b[1;33m         \u001b[1;32mreturn\u001b[0m \u001b[0mf\u001b[0m\u001b[1;33m(\u001b[0m\u001b[1;33m**\u001b[0m\u001b[0mkwargs\u001b[0m\u001b[1;33m)\u001b[0m\u001b[1;33m\u001b[0m\u001b[1;33m\u001b[0m\u001b[0m\n\u001b[0m\u001b[0;32m     74\u001b[0m     \u001b[1;32mreturn\u001b[0m \u001b[0minner_f\u001b[0m\u001b[1;33m\u001b[0m\u001b[1;33m\u001b[0m\u001b[0m\n\u001b[0;32m     75\u001b[0m \u001b[1;33m\u001b[0m\u001b[0m\n",
      "\u001b[1;32m~\\anaconda3\\lib\\site-packages\\sklearn\\utils\\validation.py\u001b[0m in \u001b[0;36mcheck_array\u001b[1;34m(array, accept_sparse, accept_large_sparse, dtype, order, copy, force_all_finite, ensure_2d, allow_nd, ensure_min_samples, ensure_min_features, estimator)\u001b[0m\n\u001b[0;32m    639\u001b[0m             \u001b[0marray\u001b[0m \u001b[1;33m=\u001b[0m \u001b[0marray\u001b[0m\u001b[1;33m.\u001b[0m\u001b[0mastype\u001b[0m\u001b[1;33m(\u001b[0m\u001b[0mnp\u001b[0m\u001b[1;33m.\u001b[0m\u001b[0mfloat64\u001b[0m\u001b[1;33m)\u001b[0m\u001b[1;33m\u001b[0m\u001b[1;33m\u001b[0m\u001b[0m\n\u001b[0;32m    640\u001b[0m         \u001b[1;32mif\u001b[0m \u001b[1;32mnot\u001b[0m \u001b[0mallow_nd\u001b[0m \u001b[1;32mand\u001b[0m \u001b[0marray\u001b[0m\u001b[1;33m.\u001b[0m\u001b[0mndim\u001b[0m \u001b[1;33m>=\u001b[0m \u001b[1;36m3\u001b[0m\u001b[1;33m:\u001b[0m\u001b[1;33m\u001b[0m\u001b[1;33m\u001b[0m\u001b[0m\n\u001b[1;32m--> 641\u001b[1;33m             raise ValueError(\"Found array with dim %d. %s expected <= 2.\"\n\u001b[0m\u001b[0;32m    642\u001b[0m                              % (array.ndim, estimator_name))\n\u001b[0;32m    643\u001b[0m \u001b[1;33m\u001b[0m\u001b[0m\n",
      "\u001b[1;31mValueError\u001b[0m: Found array with dim 3. Estimator expected <= 2."
     ]
    }
   ],
   "source": [
    "rf_model4 = rf.fit(X4_train, y4_train.ravel())"
   ]
  },
  {
   "cell_type": "markdown",
   "metadata": {},
   "source": [
    "Stackoverflow tells me that `Found array with dim 3. Estimator expected <= 2` translates to : sklearn works only with 2D data"
   ]
  },
  {
   "cell_type": "code",
   "execution_count": null,
   "metadata": {},
   "outputs": [],
   "source": []
  },
  {
   "cell_type": "code",
   "execution_count": null,
   "metadata": {},
   "outputs": [],
   "source": []
  },
  {
   "cell_type": "markdown",
   "metadata": {},
   "source": [
    "## Try 3: POS Tagging##"
   ]
  },
  {
   "cell_type": "code",
   "execution_count": 99,
   "metadata": {},
   "outputs": [],
   "source": [
    "X3 = tritles[['pos1', 'pos2', 'pos3']]"
   ]
  },
  {
   "cell_type": "code",
   "execution_count": 100,
   "metadata": {},
   "outputs": [
    {
     "name": "stdout",
     "output_type": "stream",
     "text": [
      "X3 shape: (389, 81)\n"
     ]
    }
   ],
   "source": [
    "X3  = pd.get_dummies(X3, prefix=['pos1', 'pos2', 'pos3'], columns=['pos1', 'pos2', 'pos3'])\n",
    "\n",
    "print('X3 shape:', X3.shape)"
   ]
  },
  {
   "cell_type": "code",
   "execution_count": 101,
   "metadata": {},
   "outputs": [
    {
     "name": "stdout",
     "output_type": "stream",
     "text": [
      "X3_train shape: (291, 81)\n",
      "X3_test shape: (98, 81)\n"
     ]
    }
   ],
   "source": [
    "X3_train, X3_test, y3_train, y3_test = train_test_split(X3, y, test_size=0.25)\n",
    "\n",
    "print('X3_train shape:', X3_train.shape)\n",
    "print('X3_test shape:', X3_test.shape)"
   ]
  },
  {
   "cell_type": "code",
   "execution_count": 102,
   "metadata": {},
   "outputs": [],
   "source": [
    "X3_train = X3_train.to_numpy()\n",
    "X3_test = X3_test.to_numpy()"
   ]
  },
  {
   "cell_type": "markdown",
   "metadata": {},
   "source": [
    "### Random Forest ###"
   ]
  },
  {
   "cell_type": "code",
   "execution_count": 103,
   "metadata": {},
   "outputs": [],
   "source": [
    "rf_model = rf.fit(X3_train, y3_train.ravel())"
   ]
  },
  {
   "cell_type": "code",
   "execution_count": 104,
   "metadata": {},
   "outputs": [],
   "source": [
    "y3_pred = rf_model.predict(X3_test)"
   ]
  },
  {
   "cell_type": "code",
   "execution_count": 111,
   "metadata": {},
   "outputs": [
    {
     "name": "stdout",
     "output_type": "stream",
     "text": [
      "Precision: 0.864 / Recall: 0.844\n"
     ]
    }
   ],
   "source": [
    "precision = precision_score(y3_test, y3_pred)\n",
    "recall = recall_score(y3_test, y3_pred)\n",
    "print('Precision: {} / Recall: {}'.format(\n",
    "    round(precision, 3), \n",
    "    round(recall, 3)))"
   ]
  },
  {
   "cell_type": "markdown",
   "metadata": {},
   "source": [
    "### Gradient Boosting ###"
   ]
  },
  {
   "cell_type": "code",
   "execution_count": 156,
   "metadata": {},
   "outputs": [],
   "source": [
    "from sklearn.ensemble import GradientBoostingClassifier\n",
    "from sklearn.metrics import classification_report, confusion_matrix, plot_confusion_matrix, roc_curve, auc"
   ]
  },
  {
   "cell_type": "code",
   "execution_count": 161,
   "metadata": {},
   "outputs": [
    {
     "name": "stdout",
     "output_type": "stream",
     "text": [
      "Learning rate:  0.05\n",
      "Accuracy score (training): 0.852\n",
      "Accuracy score (validation): 0.867\n",
      "\n",
      "Learning rate:  0.1\n",
      "Accuracy score (training): 0.859\n",
      "Accuracy score (validation): 0.847\n",
      "\n",
      "Learning rate:  0.25\n",
      "Accuracy score (training): 0.880\n",
      "Accuracy score (validation): 0.898\n",
      "\n",
      "Learning rate:  0.5\n",
      "Accuracy score (training): 0.911\n",
      "Accuracy score (validation): 0.898\n",
      "\n",
      "Learning rate:  0.75\n",
      "Accuracy score (training): 0.911\n",
      "Accuracy score (validation): 0.908\n",
      "\n",
      "Learning rate:  1\n",
      "Accuracy score (training): 0.924\n",
      "Accuracy score (validation): 0.878\n",
      "\n"
     ]
    }
   ],
   "source": [
    "learning_rates = [0.05, 0.1, 0.25, 0.5, 0.75, 1]\n",
    "for learning_rate in learning_rates:\n",
    "    gb = GradientBoostingClassifier(n_estimators=20, learning_rate = learning_rate, max_features=3, max_depth = 3)\n",
    "    gb.fit(X3_train, y3_train.ravel())\n",
    "    print(\"Learning rate: \", learning_rate)\n",
    "    print(\"Accuracy score (training): {0:.3f}\".format(gb.score(X3_train, y3_train)))\n",
    "    print(\"Accuracy score (validation): {0:.3f}\".format(gb.score(X3_test, y3_test)))\n",
    "    print()"
   ]
  },
  {
   "cell_type": "code",
   "execution_count": 163,
   "metadata": {},
   "outputs": [
    {
     "name": "stdout",
     "output_type": "stream",
     "text": [
      "              precision    recall  f1-score   support\n",
      "\n",
      "           0       0.86      0.92      0.89        53\n",
      "           1       0.90      0.82      0.86        45\n",
      "\n",
      "    accuracy                           0.88        98\n",
      "   macro avg       0.88      0.87      0.88        98\n",
      "weighted avg       0.88      0.88      0.88        98\n",
      "\n",
      "[[49  4]\n",
      " [ 8 37]]\n"
     ]
    }
   ],
   "source": [
    "gb = GradientBoostingClassifier(n_estimators=20, learning_rate = 0.75, max_features=3, max_depth = 5)\n",
    "gb.fit(X3_train, y3_train.ravel())\n",
    "y3_pred = gb.predict(X3_test)\n",
    "\n",
    "print(classification_report(y3_test, y3_pred))\n",
    "print(confusion_matrix(y3_test, y3_pred))"
   ]
  },
  {
   "cell_type": "code",
   "execution_count": null,
   "metadata": {},
   "outputs": [],
   "source": []
  }
 ],
 "metadata": {
  "kernelspec": {
   "display_name": "Python 3",
   "language": "python",
   "name": "python3"
  },
  "language_info": {
   "codemirror_mode": {
    "name": "ipython",
    "version": 3
   },
   "file_extension": ".py",
   "mimetype": "text/x-python",
   "name": "python",
   "nbconvert_exporter": "python",
   "pygments_lexer": "ipython3",
   "version": "3.8.3"
  }
 },
 "nbformat": 4,
 "nbformat_minor": 4
}
