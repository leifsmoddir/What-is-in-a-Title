{
 "cells": [
  {
   "cell_type": "code",
   "execution_count": 1,
   "metadata": {},
   "outputs": [],
   "source": [
    "from keras.preprocessing.text import Tokenizer\n",
    "from keras.preprocessing.sequence import pad_sequences\n",
    "from sklearn.model_selection import train_test_split\n",
    "import pandas as pd\n",
    "import numpy as np"
   ]
  },
  {
   "cell_type": "code",
   "execution_count": 33,
   "metadata": {},
   "outputs": [],
   "source": [
    "shake_bi = pd.read_csv('../data/bigram_titles_pos.csv')\n",
    "shake_tri = pd.read_csv('../data/trigram_titles_pos.csv')\n",
    "shake_four = pd.read_csv('../data/fourgram_titles_pos.csv')"
   ]
  },
  {
   "cell_type": "code",
   "execution_count": 34,
   "metadata": {},
   "outputs": [
    {
     "data": {
      "text/html": [
       "<div>\n",
       "<style scoped>\n",
       "    .dataframe tbody tr th:only-of-type {\n",
       "        vertical-align: middle;\n",
       "    }\n",
       "\n",
       "    .dataframe tbody tr th {\n",
       "        vertical-align: top;\n",
       "    }\n",
       "\n",
       "    .dataframe thead th {\n",
       "        text-align: right;\n",
       "    }\n",
       "</style>\n",
       "<table border=\"1\" class=\"dataframe\">\n",
       "  <thead>\n",
       "    <tr style=\"text-align: right;\">\n",
       "      <th></th>\n",
       "      <th>title</th>\n",
       "      <th>title_tokenized</th>\n",
       "      <th>pos_tag</th>\n",
       "      <th>good_title</th>\n",
       "      <th>pos</th>\n",
       "      <th>pos1</th>\n",
       "      <th>pos2</th>\n",
       "    </tr>\n",
       "  </thead>\n",
       "  <tbody>\n",
       "    <tr>\n",
       "      <th>228</th>\n",
       "      <td>us truths</td>\n",
       "      <td>['us', 'truths']</td>\n",
       "      <td>['PRP', 'NNS']</td>\n",
       "      <td>0</td>\n",
       "      <td>['PRP', 'NNS']</td>\n",
       "      <td>PRP</td>\n",
       "      <td>NNS</td>\n",
       "    </tr>\n",
       "    <tr>\n",
       "      <th>57</th>\n",
       "      <td>gentle rain</td>\n",
       "      <td>['gentle', 'rain']</td>\n",
       "      <td>['JJ', 'NN']</td>\n",
       "      <td>1</td>\n",
       "      <td>['JJ', 'NN']</td>\n",
       "      <td>JJ</td>\n",
       "      <td>NN</td>\n",
       "    </tr>\n",
       "    <tr>\n",
       "      <th>182</th>\n",
       "      <td>is hunting</td>\n",
       "      <td>['is', 'hunting']</td>\n",
       "      <td>['VBZ', 'VBG']</td>\n",
       "      <td>0</td>\n",
       "      <td>['VBZ', 'VBG']</td>\n",
       "      <td>VBZ</td>\n",
       "      <td>VBG</td>\n",
       "    </tr>\n",
       "    <tr>\n",
       "      <th>178</th>\n",
       "      <td>have scratch</td>\n",
       "      <td>['have', 'scratch']</td>\n",
       "      <td>['VB', 'NN']</td>\n",
       "      <td>0</td>\n",
       "      <td>['VB', 'NN']</td>\n",
       "      <td>VB</td>\n",
       "      <td>NN</td>\n",
       "    </tr>\n",
       "    <tr>\n",
       "      <th>233</th>\n",
       "      <td>stored full</td>\n",
       "      <td>['stored', 'full']</td>\n",
       "      <td>['VBN', 'JJ']</td>\n",
       "      <td>0</td>\n",
       "      <td>['VBN', 'JJ']</td>\n",
       "      <td>VBN</td>\n",
       "      <td>JJ</td>\n",
       "    </tr>\n",
       "  </tbody>\n",
       "</table>\n",
       "</div>"
      ],
      "text/plain": [
       "            title      title_tokenized         pos_tag  good_title  \\\n",
       "228     us truths     ['us', 'truths']  ['PRP', 'NNS']           0   \n",
       "57    gentle rain   ['gentle', 'rain']    ['JJ', 'NN']           1   \n",
       "182    is hunting    ['is', 'hunting']  ['VBZ', 'VBG']           0   \n",
       "178  have scratch  ['have', 'scratch']    ['VB', 'NN']           0   \n",
       "233   stored full   ['stored', 'full']   ['VBN', 'JJ']           0   \n",
       "\n",
       "                pos pos1 pos2  \n",
       "228  ['PRP', 'NNS']  PRP  NNS  \n",
       "57     ['JJ', 'NN']   JJ   NN  \n",
       "182  ['VBZ', 'VBG']  VBZ  VBG  \n",
       "178    ['VB', 'NN']   VB   NN  \n",
       "233   ['VBN', 'JJ']  VBN   JJ  "
      ]
     },
     "execution_count": 34,
     "metadata": {},
     "output_type": "execute_result"
    }
   ],
   "source": [
    "shake_bi.sample(5)"
   ]
  },
  {
   "cell_type": "code",
   "execution_count": 35,
   "metadata": {},
   "outputs": [
    {
     "data": {
      "text/html": [
       "<div>\n",
       "<style scoped>\n",
       "    .dataframe tbody tr th:only-of-type {\n",
       "        vertical-align: middle;\n",
       "    }\n",
       "\n",
       "    .dataframe tbody tr th {\n",
       "        vertical-align: top;\n",
       "    }\n",
       "\n",
       "    .dataframe thead th {\n",
       "        text-align: right;\n",
       "    }\n",
       "</style>\n",
       "<table border=\"1\" class=\"dataframe\">\n",
       "  <thead>\n",
       "    <tr style=\"text-align: right;\">\n",
       "      <th></th>\n",
       "      <th>title</th>\n",
       "      <th>title_tokenized</th>\n",
       "      <th>pos_tag</th>\n",
       "      <th>good_title</th>\n",
       "      <th>pos</th>\n",
       "      <th>pos1</th>\n",
       "      <th>pos2</th>\n",
       "      <th>pos3</th>\n",
       "    </tr>\n",
       "  </thead>\n",
       "  <tbody>\n",
       "    <tr>\n",
       "      <th>81</th>\n",
       "      <td>bottom's dream</td>\n",
       "      <td>['bottom', \"'s\", 'dream']</td>\n",
       "      <td>['NN', 'POS', 'NN']</td>\n",
       "      <td>1</td>\n",
       "      <td>['NN', 'POS', 'NN']</td>\n",
       "      <td>NN</td>\n",
       "      <td>POS</td>\n",
       "      <td>NN</td>\n",
       "    </tr>\n",
       "    <tr>\n",
       "      <th>108</th>\n",
       "      <td>our little life</td>\n",
       "      <td>['our', 'little', 'life']</td>\n",
       "      <td>['PRP$', 'JJ', 'NN']</td>\n",
       "      <td>1</td>\n",
       "      <td>['PRP$', 'JJ', 'NN']</td>\n",
       "      <td>PRP$</td>\n",
       "      <td>JJ</td>\n",
       "      <td>NN</td>\n",
       "    </tr>\n",
       "    <tr>\n",
       "      <th>210</th>\n",
       "      <td>sighs they jar</td>\n",
       "      <td>['sighs', 'they', 'jar']</td>\n",
       "      <td>['NNS', 'PRP', 'VBP']</td>\n",
       "      <td>0</td>\n",
       "      <td>['NNS', 'PRP', 'VBP']</td>\n",
       "      <td>NNS</td>\n",
       "      <td>PRP</td>\n",
       "      <td>VBP</td>\n",
       "    </tr>\n",
       "    <tr>\n",
       "      <th>118</th>\n",
       "      <td>cakes and ale</td>\n",
       "      <td>['cakes', 'and', 'ale']</td>\n",
       "      <td>['NNS', 'CC', 'NN']</td>\n",
       "      <td>1</td>\n",
       "      <td>['NNS', 'CC', 'NN']</td>\n",
       "      <td>NNS</td>\n",
       "      <td>CC</td>\n",
       "      <td>NN</td>\n",
       "    </tr>\n",
       "    <tr>\n",
       "      <th>8</th>\n",
       "      <td>and thereby hangs</td>\n",
       "      <td>['and', 'thereby', 'hangs']</td>\n",
       "      <td>['CC', 'NN', 'NNS']</td>\n",
       "      <td>1</td>\n",
       "      <td>['CC', 'NN', 'NNS']</td>\n",
       "      <td>CC</td>\n",
       "      <td>NN</td>\n",
       "      <td>NNS</td>\n",
       "    </tr>\n",
       "  </tbody>\n",
       "</table>\n",
       "</div>"
      ],
      "text/plain": [
       "                 title              title_tokenized                pos_tag  \\\n",
       "81      bottom's dream    ['bottom', \"'s\", 'dream']    ['NN', 'POS', 'NN']   \n",
       "108    our little life    ['our', 'little', 'life']   ['PRP$', 'JJ', 'NN']   \n",
       "210     sighs they jar     ['sighs', 'they', 'jar']  ['NNS', 'PRP', 'VBP']   \n",
       "118      cakes and ale      ['cakes', 'and', 'ale']    ['NNS', 'CC', 'NN']   \n",
       "8    and thereby hangs  ['and', 'thereby', 'hangs']    ['CC', 'NN', 'NNS']   \n",
       "\n",
       "     good_title                    pos  pos1 pos2 pos3  \n",
       "81            1    ['NN', 'POS', 'NN']    NN  POS   NN  \n",
       "108           1   ['PRP$', 'JJ', 'NN']  PRP$   JJ   NN  \n",
       "210           0  ['NNS', 'PRP', 'VBP']   NNS  PRP  VBP  \n",
       "118           1    ['NNS', 'CC', 'NN']   NNS   CC   NN  \n",
       "8             1    ['CC', 'NN', 'NNS']    CC   NN  NNS  "
      ]
     },
     "execution_count": 35,
     "metadata": {},
     "output_type": "execute_result"
    }
   ],
   "source": [
    "shake_tri.sample(5)"
   ]
  },
  {
   "cell_type": "code",
   "execution_count": 36,
   "metadata": {},
   "outputs": [
    {
     "data": {
      "text/html": [
       "<div>\n",
       "<style scoped>\n",
       "    .dataframe tbody tr th:only-of-type {\n",
       "        vertical-align: middle;\n",
       "    }\n",
       "\n",
       "    .dataframe tbody tr th {\n",
       "        vertical-align: top;\n",
       "    }\n",
       "\n",
       "    .dataframe thead th {\n",
       "        text-align: right;\n",
       "    }\n",
       "</style>\n",
       "<table border=\"1\" class=\"dataframe\">\n",
       "  <thead>\n",
       "    <tr style=\"text-align: right;\">\n",
       "      <th></th>\n",
       "      <th>title</th>\n",
       "      <th>title_tokenized</th>\n",
       "      <th>pos_tag</th>\n",
       "      <th>good_title</th>\n",
       "      <th>pos</th>\n",
       "      <th>pos1</th>\n",
       "      <th>pos2</th>\n",
       "      <th>pos3</th>\n",
       "      <th>pos4</th>\n",
       "    </tr>\n",
       "  </thead>\n",
       "  <tbody>\n",
       "    <tr>\n",
       "      <th>49</th>\n",
       "      <td>that he is a</td>\n",
       "      <td>['that', 'he', 'is', 'a']</td>\n",
       "      <td>['IN', 'PRP', 'VBZ', 'DT']</td>\n",
       "      <td>0</td>\n",
       "      <td>['IN', 'PRP', 'VBZ', 'DT']</td>\n",
       "      <td>IN</td>\n",
       "      <td>PRP</td>\n",
       "      <td>VBZ</td>\n",
       "      <td>DT</td>\n",
       "    </tr>\n",
       "    <tr>\n",
       "      <th>328</th>\n",
       "      <td>the rest is silence</td>\n",
       "      <td>['the', 'rest', 'is', 'silence']</td>\n",
       "      <td>['DT', 'NN', 'VBZ', 'NN']</td>\n",
       "      <td>1</td>\n",
       "      <td>['DT', 'NN', 'VBZ', 'NN']</td>\n",
       "      <td>DT</td>\n",
       "      <td>NN</td>\n",
       "      <td>VBZ</td>\n",
       "      <td>NN</td>\n",
       "    </tr>\n",
       "    <tr>\n",
       "      <th>40</th>\n",
       "      <td>mar the light by</td>\n",
       "      <td>['mar', 'the', 'light', 'by']</td>\n",
       "      <td>['VB', 'DT', 'NN', 'IN']</td>\n",
       "      <td>0</td>\n",
       "      <td>['VB', 'DT', 'NN', 'IN']</td>\n",
       "      <td>VB</td>\n",
       "      <td>DT</td>\n",
       "      <td>NN</td>\n",
       "      <td>IN</td>\n",
       "    </tr>\n",
       "    <tr>\n",
       "      <th>138</th>\n",
       "      <td>case in law is</td>\n",
       "      <td>['case', 'in', 'law', 'is']</td>\n",
       "      <td>['NN', 'IN', 'NN', 'VBZ']</td>\n",
       "      <td>0</td>\n",
       "      <td>['NN', 'IN', 'NN', 'VBZ']</td>\n",
       "      <td>NN</td>\n",
       "      <td>IN</td>\n",
       "      <td>NN</td>\n",
       "      <td>VBZ</td>\n",
       "    </tr>\n",
       "    <tr>\n",
       "      <th>173</th>\n",
       "      <td>i must have liberty</td>\n",
       "      <td>['i', 'must', 'have', 'liberty']</td>\n",
       "      <td>['NN', 'MD', 'VB', 'NN']</td>\n",
       "      <td>1</td>\n",
       "      <td>['NN', 'MD', 'VB', 'NN']</td>\n",
       "      <td>NN</td>\n",
       "      <td>MD</td>\n",
       "      <td>VB</td>\n",
       "      <td>NN</td>\n",
       "    </tr>\n",
       "  </tbody>\n",
       "</table>\n",
       "</div>"
      ],
      "text/plain": [
       "                   title                   title_tokenized  \\\n",
       "49          that he is a         ['that', 'he', 'is', 'a']   \n",
       "328  the rest is silence  ['the', 'rest', 'is', 'silence']   \n",
       "40      mar the light by     ['mar', 'the', 'light', 'by']   \n",
       "138       case in law is       ['case', 'in', 'law', 'is']   \n",
       "173  i must have liberty  ['i', 'must', 'have', 'liberty']   \n",
       "\n",
       "                        pos_tag  good_title                         pos pos1  \\\n",
       "49   ['IN', 'PRP', 'VBZ', 'DT']           0  ['IN', 'PRP', 'VBZ', 'DT']   IN   \n",
       "328   ['DT', 'NN', 'VBZ', 'NN']           1   ['DT', 'NN', 'VBZ', 'NN']   DT   \n",
       "40     ['VB', 'DT', 'NN', 'IN']           0    ['VB', 'DT', 'NN', 'IN']   VB   \n",
       "138   ['NN', 'IN', 'NN', 'VBZ']           0   ['NN', 'IN', 'NN', 'VBZ']   NN   \n",
       "173    ['NN', 'MD', 'VB', 'NN']           1    ['NN', 'MD', 'VB', 'NN']   NN   \n",
       "\n",
       "    pos2 pos3 pos4  \n",
       "49   PRP  VBZ   DT  \n",
       "328   NN  VBZ   NN  \n",
       "40    DT   NN   IN  \n",
       "138   IN   NN  VBZ  \n",
       "173   MD   VB   NN  "
      ]
     },
     "execution_count": 36,
     "metadata": {},
     "output_type": "execute_result"
    }
   ],
   "source": [
    "shake_four.sample(5)"
   ]
  },
  {
   "cell_type": "code",
   "execution_count": 37,
   "metadata": {},
   "outputs": [
    {
     "data": {
      "text/html": [
       "<div>\n",
       "<style scoped>\n",
       "    .dataframe tbody tr th:only-of-type {\n",
       "        vertical-align: middle;\n",
       "    }\n",
       "\n",
       "    .dataframe tbody tr th {\n",
       "        vertical-align: top;\n",
       "    }\n",
       "\n",
       "    .dataframe thead th {\n",
       "        text-align: right;\n",
       "    }\n",
       "</style>\n",
       "<table border=\"1\" class=\"dataframe\">\n",
       "  <thead>\n",
       "    <tr style=\"text-align: right;\">\n",
       "      <th></th>\n",
       "      <th>title</th>\n",
       "      <th>good_title</th>\n",
       "    </tr>\n",
       "  </thead>\n",
       "  <tbody>\n",
       "    <tr>\n",
       "      <th>831</th>\n",
       "      <td>every inch a king</td>\n",
       "      <td>1</td>\n",
       "    </tr>\n",
       "    <tr>\n",
       "      <th>250</th>\n",
       "      <td>a better world</td>\n",
       "      <td>1</td>\n",
       "    </tr>\n",
       "    <tr>\n",
       "      <th>311</th>\n",
       "      <td>to dusty death</td>\n",
       "      <td>1</td>\n",
       "    </tr>\n",
       "    <tr>\n",
       "      <th>317</th>\n",
       "      <td>here choose i</td>\n",
       "      <td>1</td>\n",
       "    </tr>\n",
       "    <tr>\n",
       "      <th>310</th>\n",
       "      <td>all our yesterdays</td>\n",
       "      <td>1</td>\n",
       "    </tr>\n",
       "  </tbody>\n",
       "</table>\n",
       "</div>"
      ],
      "text/plain": [
       "                  title  good_title\n",
       "831   every inch a king           1\n",
       "250      a better world           1\n",
       "311      to dusty death           1\n",
       "317       here choose i           1\n",
       "310  all our yesterdays           1"
      ]
     },
     "execution_count": 37,
     "metadata": {},
     "output_type": "execute_result"
    }
   ],
   "source": [
    "all_titles = pd.concat([shake_bi[['title', 'good_title']], \n",
    "                        shake_tri[['title', 'good_title']], \n",
    "                        shake_four[['title', 'good_title']]], ignore_index=True)\n",
    "all_titles.sample(5)"
   ]
  },
  {
   "cell_type": "code",
   "execution_count": 38,
   "metadata": {},
   "outputs": [
    {
     "data": {
      "text/plain": [
       "972"
      ]
     },
     "execution_count": 38,
     "metadata": {},
     "output_type": "execute_result"
    }
   ],
   "source": [
    "len(all_titles)"
   ]
  },
  {
   "cell_type": "code",
   "execution_count": 39,
   "metadata": {},
   "outputs": [
    {
     "data": {
      "text/plain": [
       "1    486\n",
       "0    486\n",
       "Name: good_title, dtype: int64"
      ]
     },
     "execution_count": 39,
     "metadata": {},
     "output_type": "execute_result"
    }
   ],
   "source": [
    "all_titles.good_title.value_counts()"
   ]
  },
  {
   "cell_type": "code",
   "execution_count": 40,
   "metadata": {},
   "outputs": [],
   "source": [
    "X = all_titles['title']\n",
    "y = all_titles['good_title']"
   ]
  },
  {
   "cell_type": "code",
   "execution_count": 41,
   "metadata": {},
   "outputs": [
    {
     "name": "stdout",
     "output_type": "stream",
     "text": [
      "X_train shape: (729,)\n",
      "X_test shape: (243,)\n"
     ]
    }
   ],
   "source": [
    "X_train, X_test, y_train, y_test = train_test_split(X, y, test_size=0.25)\n",
    "\n",
    "print('X_train shape:', X_train.shape)\n",
    "print('X_test shape:', X_test.shape)"
   ]
  },
  {
   "cell_type": "code",
   "execution_count": 42,
   "metadata": {},
   "outputs": [
    {
     "data": {
      "text/plain": [
       "358             not the glory\n",
       "857          told by an idiot\n",
       "633            should not for\n",
       "31            golden opinions\n",
       "927    though this be madness\n",
       "Name: title, dtype: object"
      ]
     },
     "execution_count": 42,
     "metadata": {},
     "output_type": "execute_result"
    }
   ],
   "source": [
    "X_train.head()"
   ]
  },
  {
   "cell_type": "markdown",
   "metadata": {},
   "source": [
    "### Prep Data ###\n",
    "\n",
    "Train the tokenizer and use that tokenizer to convert the sentences to sequences of numbers"
   ]
  },
  {
   "cell_type": "code",
   "execution_count": 43,
   "metadata": {},
   "outputs": [],
   "source": [
    "tokenizer = Tokenizer(num_words=None, filters='\\t\\n')\n",
    "tokenizer.fit_on_texts(X_train)\n",
    "X_train_seq = tokenizer.texts_to_sequences(X_train)\n",
    "X_test_seq = tokenizer.texts_to_sequences(X_test)\n",
    "\n",
    "#Note: Default filters are '!\"#$%&()*+,-./:;<=>?@[\\\\]^_`{|}~\\t\\n'"
   ]
  },
  {
   "cell_type": "code",
   "execution_count": 44,
   "metadata": {},
   "outputs": [
    {
     "data": {
      "text/plain": [
       "[[8, 1, 106], [280, 25, 63, 281], [78, 8, 15], [107, 282], [283, 11, 19, 284]]"
      ]
     },
     "execution_count": 44,
     "metadata": {},
     "output_type": "execute_result"
    }
   ],
   "source": [
    "X_train_seq[0:5]"
   ]
  },
  {
   "cell_type": "markdown",
   "metadata": {},
   "source": [
    "Pad the sequences so each sequence is the same length"
   ]
  },
  {
   "cell_type": "code",
   "execution_count": 45,
   "metadata": {},
   "outputs": [
    {
     "data": {
      "text/plain": [
       "list"
      ]
     },
     "execution_count": 45,
     "metadata": {},
     "output_type": "execute_result"
    }
   ],
   "source": [
    "type(X_train_seq)"
   ]
  },
  {
   "cell_type": "code",
   "execution_count": 46,
   "metadata": {},
   "outputs": [
    {
     "data": {
      "text/plain": [
       "{2, 3, 4}"
      ]
     },
     "execution_count": 46,
     "metadata": {},
     "output_type": "execute_result"
    }
   ],
   "source": [
    "all_len = set([len(item) for item in X_train_seq])\n",
    "all_len"
   ]
  },
  {
   "cell_type": "code",
   "execution_count": 47,
   "metadata": {},
   "outputs": [
    {
     "data": {
      "text/plain": [
       "array([[  0,   8,   1, 106],\n",
       "       [280,  25,  63, 281],\n",
       "       [  0,  78,   8,  15],\n",
       "       [  0,   0, 107, 282],\n",
       "       [283,  11,  19, 284]])"
      ]
     },
     "execution_count": 47,
     "metadata": {},
     "output_type": "execute_result"
    }
   ],
   "source": [
    "X_train_seq_padded = pad_sequences(X_train_seq, 4)\n",
    "X_test_seq_padded = pad_sequences(X_test_seq, 4)\n",
    "\n",
    "X_train_seq_padded[0:5]"
   ]
  },
  {
   "cell_type": "code",
   "execution_count": 48,
   "metadata": {},
   "outputs": [
    {
     "data": {
      "text/plain": [
       "array([[  0,   8,   1, 106],\n",
       "       [280,  25,  63, 281],\n",
       "       [  0,  78,   8,  15],\n",
       "       ...,\n",
       "       [  0, 947,   5, 948],\n",
       "       [  1, 949,   2, 255],\n",
       "       [ 11, 950,   2,  43]])"
      ]
     },
     "execution_count": 48,
     "metadata": {},
     "output_type": "execute_result"
    }
   ],
   "source": [
    "X_train_seq_padded"
   ]
  },
  {
   "cell_type": "code",
   "execution_count": 49,
   "metadata": {},
   "outputs": [
    {
     "data": {
      "text/plain": [
       "numpy.ndarray"
      ]
     },
     "execution_count": 49,
     "metadata": {},
     "output_type": "execute_result"
    }
   ],
   "source": [
    "type(X_train_seq_padded)"
   ]
  },
  {
   "cell_type": "markdown",
   "metadata": {},
   "source": [
    "### Build and Evaluate RNN ###\n",
    "\n",
    "Functions to calculate precision and recall and plots previously defined in the invaluable training provided by *Advanced NLP with Python for Machine Learning* course developed by Derek Jedamski through LinkedIn Learning"
   ]
  },
  {
   "cell_type": "code",
   "execution_count": 2,
   "metadata": {},
   "outputs": [],
   "source": [
    "import keras.backend as K\n",
    "from keras.layers import Dense, Embedding, LSTM\n",
    "from keras.models import Sequential\n",
    "\n",
    "def recall_m(y_true, y_pred):\n",
    "        true_positives = K.sum(K.round(K.clip(y_true * y_pred, 0, 1)))\n",
    "        possible_positives = K.sum(K.round(K.clip(y_true, 0, 1)))\n",
    "        recall = true_positives / (possible_positives + K.epsilon())\n",
    "        return recall\n",
    "\n",
    "def precision_m(y_true, y_pred):\n",
    "        true_positives = K.sum(K.round(K.clip(y_true * y_pred, 0, 1)))\n",
    "        predicted_positives = K.sum(K.round(K.clip(y_pred, 0, 1)))\n",
    "        precision = true_positives / (predicted_positives + K.epsilon())\n",
    "        return precision"
   ]
  },
  {
   "cell_type": "markdown",
   "metadata": {},
   "source": [
    "First run of model gave this error: `InvalidArgumentError:  indices[24,2] = 942 is not in [0, 936)` I began my investigation (below) with this parameter: `model.add(Embedding(len(tokenizer.index_word)+1, 32))`. By only taking words, it omitted punctuation."
   ]
  },
  {
   "cell_type": "code",
   "execution_count": 67,
   "metadata": {},
   "outputs": [
    {
     "data": {
      "text/plain": [
       "948"
      ]
     },
     "execution_count": 67,
     "metadata": {},
     "output_type": "execute_result"
    }
   ],
   "source": [
    "#Input Dimensionality\n",
    "\n",
    "max_features = len(tokenizer.index_word)+1\n",
    "max_features"
   ]
  },
  {
   "cell_type": "markdown",
   "metadata": {},
   "source": [
    "The third layer is a Dense layer, a standard, fully connected layer that includes some kind of transformation, and I used the `relu` activation function for this.\n",
    "The final layer is where the prediction is made (hence the dimensionality of 1), and the `sigmoid` activation function is used for this."
   ]
  },
  {
   "cell_type": "code",
   "execution_count": 70,
   "metadata": {},
   "outputs": [
    {
     "name": "stdout",
     "output_type": "stream",
     "text": [
      "Model: \"sequential_2\"\n",
      "_________________________________________________________________\n",
      "Layer (type)                 Output Shape              Param #   \n",
      "=================================================================\n",
      "embedding_2 (Embedding)      (None, None, 32)          30624     \n",
      "_________________________________________________________________\n",
      "lstm_2 (LSTM)                (None, 32)                8320      \n",
      "_________________________________________________________________\n",
      "dense_4 (Dense)              (None, 32)                1056      \n",
      "_________________________________________________________________\n",
      "dense_5 (Dense)              (None, 1)                 33        \n",
      "=================================================================\n",
      "Total params: 40,033\n",
      "Trainable params: 40,033\n",
      "Non-trainable params: 0\n",
      "_________________________________________________________________\n"
     ]
    }
   ],
   "source": [
    "model = Sequential()\n",
    "\n",
    "model.add(Embedding(len(tokenizer.index_word)+10, 32))\n",
    "model.add(LSTM(32, dropout=0, recurrent_dropout=0))\n",
    "model.add(Dense(32, activation='relu'))\n",
    "model.add(Dense(1, activation='sigmoid'))\n",
    "model.summary()"
   ]
  },
  {
   "cell_type": "markdown",
   "metadata": {},
   "source": [
    "The optimizer is how the model improves with each step. Here, I used `optimizer='adam'`"
   ]
  },
  {
   "cell_type": "code",
   "execution_count": 71,
   "metadata": {},
   "outputs": [],
   "source": [
    "model.compile(optimizer='adam',\n",
    "              loss='binary_crossentropy',\n",
    "              metrics=['accuracy', precision_m, recall_m])"
   ]
  },
  {
   "cell_type": "code",
   "execution_count": 72,
   "metadata": {},
   "outputs": [
    {
     "name": "stdout",
     "output_type": "stream",
     "text": [
      "Epoch 1/10\n",
      "23/23 [==============================] - 3s 29ms/step - loss: 0.6926 - accuracy: 0.5113 - precision_m: 0.5127 - recall_m: 0.8290 - val_loss: 0.6879 - val_accuracy: 0.6667 - val_precision_m: 0.6090 - val_recall_m: 0.9175\n",
      "Epoch 2/10\n",
      "23/23 [==============================] - 0s 5ms/step - loss: 0.6812 - accuracy: 0.7951 - precision_m: 0.7446 - recall_m: 0.8980 - val_loss: 0.6652 - val_accuracy: 0.7078 - val_precision_m: 0.6426 - val_recall_m: 0.9253\n",
      "Epoch 3/10\n",
      "23/23 [==============================] - 0s 5ms/step - loss: 0.6292 - accuracy: 0.8461 - precision_m: 0.8052 - recall_m: 0.9301 - val_loss: 0.5862 - val_accuracy: 0.7737 - val_precision_m: 0.7567 - val_recall_m: 0.8338\n",
      "Epoch 4/10\n",
      "23/23 [==============================] - 0s 5ms/step - loss: 0.4699 - accuracy: 0.8732 - precision_m: 0.8569 - recall_m: 0.8870 - val_loss: 0.4752 - val_accuracy: 0.8066 - val_precision_m: 0.7927 - val_recall_m: 0.8396\n",
      "Epoch 5/10\n",
      "23/23 [==============================] - 0s 5ms/step - loss: 0.2060 - accuracy: 0.9404 - precision_m: 0.9517 - recall_m: 0.9225 - val_loss: 0.5069 - val_accuracy: 0.8066 - val_precision_m: 0.8694 - val_recall_m: 0.7389\n",
      "Epoch 6/10\n",
      "23/23 [==============================] - 0s 5ms/step - loss: 0.1028 - accuracy: 0.9734 - precision_m: 0.9726 - recall_m: 0.9760 - val_loss: 0.6561 - val_accuracy: 0.7572 - val_precision_m: 0.9210 - val_recall_m: 0.5527\n",
      "Epoch 7/10\n",
      "23/23 [==============================] - 0s 5ms/step - loss: 0.0338 - accuracy: 0.9956 - precision_m: 0.9958 - recall_m: 0.9946 - val_loss: 0.6887 - val_accuracy: 0.7778 - val_precision_m: 0.9064 - val_recall_m: 0.6174\n",
      "Epoch 8/10\n",
      "23/23 [==============================] - 0s 5ms/step - loss: 0.0164 - accuracy: 0.9978 - precision_m: 0.9953 - recall_m: 1.0000 - val_loss: 0.7765 - val_accuracy: 0.7613 - val_precision_m: 0.8848 - val_recall_m: 0.6022\n",
      "Epoch 9/10\n",
      "23/23 [==============================] - 0s 5ms/step - loss: 0.0054 - accuracy: 1.0000 - precision_m: 1.0000 - recall_m: 1.0000 - val_loss: 1.0720 - val_accuracy: 0.7325 - val_precision_m: 0.9051 - val_recall_m: 0.5155\n",
      "Epoch 10/10\n",
      "23/23 [==============================] - 0s 5ms/step - loss: 0.0041 - accuracy: 1.0000 - precision_m: 1.0000 - recall_m: 1.0000 - val_loss: 0.8000 - val_accuracy: 0.7613 - val_precision_m: 0.8211 - val_recall_m: 0.6629\n"
     ]
    }
   ],
   "source": [
    "history = model.fit(X_train_seq_padded, y_train, \n",
    "                    batch_size=32, epochs=10,\n",
    "                    validation_data=(X_test_seq_padded, y_test))"
   ]
  },
  {
   "cell_type": "code",
   "execution_count": 76,
   "metadata": {},
   "outputs": [
    {
     "data": {
      "image/png": "[encoded data removed]",
      "text/plain": [
       "<Figure size 432x288 with 1 Axes>"
      ]
     },
     "metadata": {
      "needs_background": "light"
     },
     "output_type": "display_data"
    },
    {
     "data": {
      "image/png": "[encoded data removed]",
      "text/plain": [
       "<Figure size 432x288 with 1 Axes>"
      ]
     },
     "metadata": {
      "needs_background": "light"
     },
     "output_type": "display_data"
    },
    {
     "data": {
      "image/png": "[encoded data removed]",
      "text/plain": [
       "<Figure size 432x288 with 1 Axes>"
      ]
     },
     "metadata": {
      "needs_background": "light"
     },
     "output_type": "display_data"
    }
   ],
   "source": [
    "import matplotlib.pyplot as plt\n",
    "%matplotlib inline\n",
    "\n",
    "for i in ['accuracy', 'precision_m', 'recall_m']:\n",
    "    acc = history.history[i]\n",
    "    val_acc = history.history['val_{}'.format(i)]\n",
    "    epochs = range(1, len(acc) + 1)\n",
    "\n",
    "    plt.figure()\n",
    "    plt.plot(epochs, acc, label='Training Accuracy', color='g')\n",
    "    plt.plot(epochs, val_acc, label='Validation Accuracy', color='m')\n",
    "    plt.title('Results for {}'.format(i))\n",
    "    plt.legend()\n",
    "    plt.show()"
   ]
  },
  {
   "cell_type": "code",
   "execution_count": 77,
   "metadata": {},
   "outputs": [
    {
     "name": "stdout",
     "output_type": "stream",
     "text": [
      "Model: \"sequential_3\"\n",
      "_________________________________________________________________\n",
      "Layer (type)                 Output Shape              Param #   \n",
      "=================================================================\n",
      "embedding_3 (Embedding)      (None, None, 32)          30624     \n",
      "_________________________________________________________________\n",
      "lstm_3 (LSTM)                (None, 32)                8320      \n",
      "_________________________________________________________________\n",
      "dense_6 (Dense)              (None, 32)                1056      \n",
      "_________________________________________________________________\n",
      "dense_7 (Dense)              (None, 1)                 33        \n",
      "=================================================================\n",
      "Total params: 40,033\n",
      "Trainable params: 40,033\n",
      "Non-trainable params: 0\n",
      "_________________________________________________________________\n"
     ]
    }
   ],
   "source": [
    "model = Sequential()\n",
    "\n",
    "model.add(Embedding(len(tokenizer.index_word)+10, 32))\n",
    "model.add(LSTM(32, dropout=0, recurrent_dropout=0))\n",
    "model.add(Dense(32, activation='softmax'))\n",
    "model.add(Dense(1, activation='sigmoid'))\n",
    "model.summary()"
   ]
  },
  {
   "cell_type": "code",
   "execution_count": 78,
   "metadata": {},
   "outputs": [],
   "source": [
    "model.compile(optimizer='adam',\n",
    "              loss='binary_crossentropy',\n",
    "              metrics=['accuracy', precision_m, recall_m])"
   ]
  },
  {
   "cell_type": "code",
   "execution_count": 79,
   "metadata": {},
   "outputs": [
    {
     "name": "stdout",
     "output_type": "stream",
     "text": [
      "Epoch 1/10\n",
      "23/23 [==============================] - 3s 32ms/step - loss: 0.6933 - accuracy: 0.4997 - precision_m: 0.0000e+00 - recall_m: 0.0000e+00 - val_loss: 0.6931 - val_accuracy: 0.4979 - val_precision_m: 0.0000e+00 - val_recall_m: 0.0000e+00\n",
      "Epoch 2/10\n",
      "23/23 [==============================] - 0s 5ms/step - loss: 0.6924 - accuracy: 0.5118 - precision_m: 0.0000e+00 - recall_m: 0.0000e+00 - val_loss: 0.6916 - val_accuracy: 0.4979 - val_precision_m: 0.0000e+00 - val_recall_m: 0.0000e+00\n",
      "Epoch 3/10\n",
      "23/23 [==============================] - 0s 5ms/step - loss: 0.6892 - accuracy: 0.5634 - precision_m: 0.2690 - recall_m: 0.1805 - val_loss: 0.6835 - val_accuracy: 0.6255 - val_precision_m: 0.5757 - val_recall_m: 0.9096\n",
      "Epoch 4/10\n",
      "23/23 [==============================] - 0s 5ms/step - loss: 0.6709 - accuracy: 0.7294 - precision_m: 0.6885 - recall_m: 0.8645 - val_loss: 0.6650 - val_accuracy: 0.6379 - val_precision_m: 0.5811 - val_recall_m: 0.9309\n",
      "Epoch 5/10\n",
      "23/23 [==============================] - 0s 5ms/step - loss: 0.6322 - accuracy: 0.7880 - precision_m: 0.7399 - recall_m: 0.8932 - val_loss: 0.6397 - val_accuracy: 0.7366 - val_precision_m: 0.6833 - val_recall_m: 0.8716\n",
      "Epoch 6/10\n",
      "23/23 [==============================] - 0s 5ms/step - loss: 0.5921 - accuracy: 0.8847 - precision_m: 0.8691 - recall_m: 0.8729 - val_loss: 0.6189 - val_accuracy: 0.7531 - val_precision_m: 0.7275 - val_recall_m: 0.8323\n",
      "Epoch 7/10\n",
      "23/23 [==============================] - 0s 5ms/step - loss: 0.5555 - accuracy: 0.9086 - precision_m: 0.9014 - recall_m: 0.9069 - val_loss: 0.5996 - val_accuracy: 0.7778 - val_precision_m: 0.7581 - val_recall_m: 0.8249\n",
      "Epoch 8/10\n",
      "23/23 [==============================] - 0s 5ms/step - loss: 0.5209 - accuracy: 0.9319 - precision_m: 0.9517 - recall_m: 0.9107 - val_loss: 0.6044 - val_accuracy: 0.7284 - val_precision_m: 0.8920 - val_recall_m: 0.5263\n",
      "Epoch 9/10\n",
      "23/23 [==============================] - 0s 5ms/step - loss: 0.4870 - accuracy: 0.9465 - precision_m: 0.9627 - recall_m: 0.9324 - val_loss: 0.5831 - val_accuracy: 0.7737 - val_precision_m: 0.8519 - val_recall_m: 0.6747\n",
      "Epoch 10/10\n",
      "23/23 [==============================] - 0s 5ms/step - loss: 0.4510 - accuracy: 0.9806 - precision_m: 0.9898 - recall_m: 0.9711 - val_loss: 0.5654 - val_accuracy: 0.7737 - val_precision_m: 0.8477 - val_recall_m: 0.6820\n"
     ]
    }
   ],
   "source": [
    "history = model.fit(X_train_seq_padded, y_train, \n",
    "                    batch_size=32, epochs=10,\n",
    "                    validation_data=(X_test_seq_padded, y_test))"
   ]
  },
  {
   "cell_type": "code",
   "execution_count": 80,
   "metadata": {},
   "outputs": [
    {
     "data": {
      "image/png": "[encoded data removed]",
      "text/plain": [
       "<Figure size 432x288 with 1 Axes>"
      ]
     },
     "metadata": {
      "needs_background": "light"
     },
     "output_type": "display_data"
    },
    {
     "data": {
      "image/png": "[encoded data removed]",
      "text/plain": [
       "<Figure size 432x288 with 1 Axes>"
      ]
     },
     "metadata": {
      "needs_background": "light"
     },
     "output_type": "display_data"
    },
    {
     "data": {
      "image/png": "[encoded data removed]",
      "text/plain": [
       "<Figure size 432x288 with 1 Axes>"
      ]
     },
     "metadata": {
      "needs_background": "light"
     },
     "output_type": "display_data"
    }
   ],
   "source": [
    "for i in ['accuracy', 'precision_m', 'recall_m']:\n",
    "    acc = history.history[i]\n",
    "    val_acc = history.history['val_{}'.format(i)]\n",
    "    epochs = range(1, len(acc) + 1)\n",
    "\n",
    "    plt.figure()\n",
    "    plt.plot(epochs, acc, label='Training Accuracy', color='g')\n",
    "    plt.plot(epochs, val_acc, label='Validation Accuracy', color='m')\n",
    "    plt.title('Results for {} using softmax'.format(i))\n",
    "    plt.legend()\n",
    "    plt.show()"
   ]
  },
  {
   "cell_type": "code",
   "execution_count": 104,
   "metadata": {},
   "outputs": [
    {
     "name": "stdout",
     "output_type": "stream",
     "text": [
      "Model: \"sequential_10\"\n",
      "_________________________________________________________________\n",
      "Layer (type)                 Output Shape              Param #   \n",
      "=================================================================\n",
      "embedding_10 (Embedding)     (None, None, 32)          30624     \n",
      "_________________________________________________________________\n",
      "lstm_10 (LSTM)               (None, 32)                8320      \n",
      "_________________________________________________________________\n",
      "dense_19 (Dense)             (None, 32)                1056      \n",
      "_________________________________________________________________\n",
      "dense_20 (Dense)             (None, 1)                 33        \n",
      "=================================================================\n",
      "Total params: 40,033\n",
      "Trainable params: 40,033\n",
      "Non-trainable params: 0\n",
      "_________________________________________________________________\n"
     ]
    }
   ],
   "source": [
    "model = Sequential()\n",
    "\n",
    "model.add(Embedding(len(tokenizer.index_word)+10, 32))\n",
    "model.add(LSTM(32, dropout=0, recurrent_dropout=0))\n",
    "model.add(Dense(32, activation='softmax'))\n",
    "model.add(Dense(1, activation='sigmoid'))\n",
    "model.summary()"
   ]
  },
  {
   "cell_type": "code",
   "execution_count": 108,
   "metadata": {},
   "outputs": [],
   "source": [
    "model.compile(optimizer='adam',\n",
    "              loss='binary_crossentropy',\n",
    "              metrics=['accuracy', precision_m, recall_m])"
   ]
  },
  {
   "cell_type": "code",
   "execution_count": 109,
   "metadata": {},
   "outputs": [
    {
     "name": "stdout",
     "output_type": "stream",
     "text": [
      "Epoch 1/10\n",
      "23/23 [==============================] - 3s 30ms/step - loss: 0.6931 - accuracy: 0.5075 - precision_m: 0.0000e+00 - recall_m: 0.0000e+00 - val_loss: 0.6933 - val_accuracy: 0.4979 - val_precision_m: 0.0000e+00 - val_recall_m: 0.0000e+00\n",
      "Epoch 2/10\n",
      "23/23 [==============================] - 0s 5ms/step - loss: 0.6933 - accuracy: 0.4909 - precision_m: 0.0000e+00 - recall_m: 0.0000e+00 - val_loss: 0.6921 - val_accuracy: 0.4979 - val_precision_m: 0.0000e+00 - val_recall_m: 0.0000e+00\n",
      "Epoch 3/10\n",
      "23/23 [==============================] - 0s 5ms/step - loss: 0.6904 - accuracy: 0.5096 - precision_m: 0.1251 - recall_m: 0.0427 - val_loss: 0.6850 - val_accuracy: 0.6996 - val_precision_m: 0.6624 - val_recall_m: 0.8208\n",
      "Epoch 4/10\n",
      "23/23 [==============================] - 0s 5ms/step - loss: 0.6728 - accuracy: 0.8005 - precision_m: 0.7688 - recall_m: 0.8496 - val_loss: 0.6672 - val_accuracy: 0.6337 - val_precision_m: 0.5811 - val_recall_m: 0.9096\n",
      "Epoch 5/10\n",
      "23/23 [==============================] - 0s 5ms/step - loss: 0.6356 - accuracy: 0.7965 - precision_m: 0.7472 - recall_m: 0.8922 - val_loss: 0.6420 - val_accuracy: 0.7243 - val_precision_m: 0.6840 - val_recall_m: 0.8352\n",
      "Epoch 6/10\n",
      "23/23 [==============================] - 0s 5ms/step - loss: 0.5982 - accuracy: 0.8719 - precision_m: 0.8551 - recall_m: 0.8937 - val_loss: 0.6228 - val_accuracy: 0.8066 - val_precision_m: 0.8082 - val_recall_m: 0.8183\n",
      "Epoch 7/10\n",
      "23/23 [==============================] - 0s 5ms/step - loss: 0.5573 - accuracy: 0.9117 - precision_m: 0.9057 - recall_m: 0.9152 - val_loss: 0.6002 - val_accuracy: 0.7984 - val_precision_m: 0.7859 - val_recall_m: 0.8396\n",
      "Epoch 8/10\n",
      "23/23 [==============================] - 0s 5ms/step - loss: 0.5192 - accuracy: 0.9339 - precision_m: 0.9310 - recall_m: 0.9476 - val_loss: 0.5851 - val_accuracy: 0.8272 - val_precision_m: 0.8326 - val_recall_m: 0.8323\n",
      "Epoch 9/10\n",
      "23/23 [==============================] - 0s 5ms/step - loss: 0.4848 - accuracy: 0.9525 - precision_m: 0.9631 - recall_m: 0.9398 - val_loss: 0.5758 - val_accuracy: 0.7819 - val_precision_m: 0.8284 - val_recall_m: 0.7232\n",
      "Epoch 10/10\n",
      "23/23 [==============================] - 0s 5ms/step - loss: 0.4576 - accuracy: 0.9756 - precision_m: 0.9877 - recall_m: 0.9607 - val_loss: 0.5609 - val_accuracy: 0.8189 - val_precision_m: 0.8278 - val_recall_m: 0.8167\n"
     ]
    }
   ],
   "source": [
    "history = model.fit(X_train_seq_padded, y_train, \n",
    "                    batch_size=32, epochs=10,\n",
    "                    validation_data=(X_test_seq_padded, y_test))"
   ]
  },
  {
   "cell_type": "code",
   "execution_count": 110,
   "metadata": {},
   "outputs": [
    {
     "data": {
      "image/png": "[encoded data removed]",
      "text/plain": [
       "<Figure size 432x288 with 1 Axes>"
      ]
     },
     "metadata": {
      "needs_background": "light"
     },
     "output_type": "display_data"
    },
    {
     "data": {
      "image/png": "[encoded data removed]",
      "text/plain": [
       "<Figure size 432x288 with 1 Axes>"
      ]
     },
     "metadata": {
      "needs_background": "light"
     },
     "output_type": "display_data"
    },
    {
     "data": {
      "image/png": "[encoded data removed]",
      "text/plain": [
       "<Figure size 432x288 with 1 Axes>"
      ]
     },
     "metadata": {
      "needs_background": "light"
     },
     "output_type": "display_data"
    }
   ],
   "source": [
    "for i in ['accuracy', 'precision_m', 'recall_m']:\n",
    "    acc = history.history[i]\n",
    "    val_acc = history.history['val_{}'.format(i)]\n",
    "    epochs = range(1, len(acc) + 1)\n",
    "\n",
    "    plt.figure()\n",
    "    plt.plot(epochs, acc, label='Training Accuracy', color='g')\n",
    "    plt.plot(epochs, val_acc, label='Validation Accuracy', color='m')\n",
    "    plt.title('Results for {} using tanh and Adadelta'.format(i))\n",
    "    plt.legend()\n",
    "    plt.show()"
   ]
  },
  {
   "cell_type": "markdown",
   "metadata": {},
   "source": [
    "## With POS tags and w2v embeddings ##"
   ]
  },
  {
   "cell_type": "code",
   "execution_count": 40,
   "metadata": {},
   "outputs": [],
   "source": [
    "X = pd.read_pickle('../data/X_tri.pkl')\n",
    "y = pd.read_pickle('../data/y_tri.pkl')\n"
   ]
  },
  {
   "cell_type": "code",
   "execution_count": 41,
   "metadata": {},
   "outputs": [
    {
     "data": {
      "text/html": [
       "<div>\n",
       "<style scoped>\n",
       "    .dataframe tbody tr th:only-of-type {\n",
       "        vertical-align: middle;\n",
       "    }\n",
       "\n",
       "    .dataframe tbody tr th {\n",
       "        vertical-align: top;\n",
       "    }\n",
       "\n",
       "    .dataframe thead th {\n",
       "        text-align: right;\n",
       "    }\n",
       "</style>\n",
       "<table border=\"1\" class=\"dataframe\">\n",
       "  <thead>\n",
       "    <tr style=\"text-align: right;\">\n",
       "      <th></th>\n",
       "      <th>title</th>\n",
       "      <th>res_all</th>\n",
       "      <th>res_dp1</th>\n",
       "    </tr>\n",
       "  </thead>\n",
       "  <tbody>\n",
       "    <tr>\n",
       "      <th>19</th>\n",
       "      <td>sign of fear</td>\n",
       "      <td>[0.0300362185, -0.112493366, -0.0281299353, -0...</td>\n",
       "      <td>[0.0300362185, -0.112493366, -0.0281299353, -0...</td>\n",
       "    </tr>\n",
       "  </tbody>\n",
       "</table>\n",
       "</div>"
      ],
      "text/plain": [
       "           title                                            res_all  \\\n",
       "19  sign of fear  [0.0300362185, -0.112493366, -0.0281299353, -0...   \n",
       "\n",
       "                                              res_dp1  \n",
       "19  [0.0300362185, -0.112493366, -0.0281299353, -0...  "
      ]
     },
     "execution_count": 41,
     "metadata": {},
     "output_type": "execute_result"
    }
   ],
   "source": [
    "X.sample()"
   ]
  },
  {
   "cell_type": "code",
   "execution_count": 42,
   "metadata": {},
   "outputs": [
    {
     "data": {
      "text/plain": [
       "title         lust in action\n",
       "good_title                 1\n",
       "Name: 131, dtype: object"
      ]
     },
     "execution_count": 42,
     "metadata": {},
     "output_type": "execute_result"
    }
   ],
   "source": [
    "y.iloc[131]"
   ]
  },
  {
   "cell_type": "code",
   "execution_count": 43,
   "metadata": {},
   "outputs": [],
   "source": [
    "Xa = X['res_all'].tolist()\n",
    "Xd = X['res_dp1'].tolist()\n",
    "y = y['good_title'].tolist()"
   ]
  },
  {
   "cell_type": "code",
   "execution_count": 45,
   "metadata": {},
   "outputs": [
    {
     "name": "stdout",
     "output_type": "stream",
     "text": [
      "Xa_train length: 291\n",
      "Xa_test length: 98\n"
     ]
    }
   ],
   "source": [
    "Xa_train, Xa_test, y_train, y_test = train_test_split(Xa, y, test_size=0.25, random_state=46)\n",
    "\n",
    "print('Xa_train length:', len(Xa_train))\n",
    "print('Xa_test length:', len(Xa_test))"
   ]
  },
  {
   "cell_type": "code",
   "execution_count": 47,
   "metadata": {},
   "outputs": [
    {
     "name": "stdout",
     "output_type": "stream",
     "text": [
      "Xd_train length: 291\n",
      "Xd_test length: 98\n"
     ]
    }
   ],
   "source": [
    "Xd_train, Xd_test, y_train, y_test = train_test_split(Xd, y, test_size=0.25, random_state=46)\n",
    "\n",
    "print('Xd_train length:', len(Xd_train))\n",
    "print('Xd_test length:', len(Xd_test))"
   ]
  },
  {
   "cell_type": "code",
   "execution_count": 48,
   "metadata": {},
   "outputs": [
    {
     "data": {
      "text/plain": [
       "{681}"
      ]
     },
     "execution_count": 48,
     "metadata": {},
     "output_type": "execute_result"
    }
   ],
   "source": [
    "all_len = set([len(item) for item in Xa_train])\n",
    "all_len"
   ]
  },
  {
   "cell_type": "code",
   "execution_count": 49,
   "metadata": {},
   "outputs": [
    {
     "data": {
      "text/plain": [
       "list"
      ]
     },
     "execution_count": 49,
     "metadata": {},
     "output_type": "execute_result"
    }
   ],
   "source": [
    "type(Xa_train)"
   ]
  },
  {
   "cell_type": "code",
   "execution_count": 50,
   "metadata": {},
   "outputs": [],
   "source": [
    "Xa_train = np.asarray(Xa_train).astype('float32')\n",
    "Xa_test = np.asarray(Xa_test).astype('float32')\n",
    "y_train = np.asarray(y_train).astype('float32')\n",
    "y_test = np.asarray(y_test).astype('float32')\n",
    "Xd_train = np.asarray(Xd_train).astype('float32')\n",
    "Xd_test = np.asarray(Xd_test).astype('float32')"
   ]
  },
  {
   "cell_type": "code",
   "execution_count": 51,
   "metadata": {},
   "outputs": [
    {
     "data": {
      "text/plain": [
       "numpy.ndarray"
      ]
     },
     "execution_count": 51,
     "metadata": {},
     "output_type": "execute_result"
    }
   ],
   "source": [
    "type(Xa_train)"
   ]
  },
  {
   "cell_type": "code",
   "execution_count": null,
   "metadata": {},
   "outputs": [],
   "source": []
  },
  {
   "cell_type": "code",
   "execution_count": 55,
   "metadata": {},
   "outputs": [],
   "source": [
    "model = Sequential()\n",
    "\n",
    "#model.add(LSTM(32, dropout=0, recurrent_dropout=0))\n",
    "model.add(Dense(32, activation='relu'))\n",
    "model.add(Dense(1, activation='sigmoid'))\n",
    "# model.summary()"
   ]
  },
  {
   "cell_type": "code",
   "execution_count": 56,
   "metadata": {},
   "outputs": [],
   "source": [
    "model.compile(optimizer='adam',\n",
    "              loss='binary_crossentropy',\n",
    "              metrics=['accuracy', precision_m, recall_m])"
   ]
  },
  {
   "cell_type": "code",
   "execution_count": 57,
   "metadata": {},
   "outputs": [
    {
     "name": "stdout",
     "output_type": "stream",
     "text": [
      "Epoch 1/10\n",
      "10/10 [==============================] - 1s 34ms/step - loss: 0.6820 - accuracy: 0.5118 - precision_m: 0.4859 - recall_m: 0.3447 - val_loss: 0.4525 - val_accuracy: 0.7755 - val_precision_m: 0.7445 - val_recall_m: 0.7831\n",
      "Epoch 2/10\n",
      "10/10 [==============================] - 0s 6ms/step - loss: 0.4124 - accuracy: 0.8451 - precision_m: 0.9065 - recall_m: 0.7577 - val_loss: 0.3493 - val_accuracy: 0.8367 - val_precision_m: 0.9235 - val_recall_m: 0.8143\n",
      "Epoch 3/10\n",
      "10/10 [==============================] - 0s 6ms/step - loss: 0.2628 - accuracy: 0.8977 - precision_m: 0.9553 - recall_m: 0.8264 - val_loss: 0.2955 - val_accuracy: 0.8571 - val_precision_m: 0.9260 - val_recall_m: 0.8456\n",
      "Epoch 4/10\n",
      "10/10 [==============================] - 0s 6ms/step - loss: 0.2413 - accuracy: 0.9005 - precision_m: 0.9164 - recall_m: 0.8777 - val_loss: 0.2598 - val_accuracy: 0.8980 - val_precision_m: 0.7787 - val_recall_m: 0.9688\n",
      "Epoch 5/10\n",
      "10/10 [==============================] - 0s 5ms/step - loss: 0.1865 - accuracy: 0.9609 - precision_m: 0.9813 - recall_m: 0.9411 - val_loss: 0.2554 - val_accuracy: 0.8571 - val_precision_m: 0.9344 - val_recall_m: 0.8456\n",
      "Epoch 6/10\n",
      "10/10 [==============================] - 0s 5ms/step - loss: 0.1654 - accuracy: 0.9552 - precision_m: 0.9751 - recall_m: 0.9370 - val_loss: 0.2367 - val_accuracy: 0.9082 - val_precision_m: 0.7934 - val_recall_m: 0.9688\n",
      "Epoch 7/10\n",
      "10/10 [==============================] - 0s 4ms/step - loss: 0.1273 - accuracy: 0.9664 - precision_m: 0.9558 - recall_m: 0.9699 - val_loss: 0.2305 - val_accuracy: 0.9082 - val_precision_m: 0.7934 - val_recall_m: 0.9688\n",
      "Epoch 8/10\n",
      "10/10 [==============================] - 0s 7ms/step - loss: 0.1293 - accuracy: 0.9785 - precision_m: 0.9903 - recall_m: 0.9722 - val_loss: 0.2268 - val_accuracy: 0.9184 - val_precision_m: 0.9184 - val_recall_m: 0.9688\n",
      "Epoch 9/10\n",
      "10/10 [==============================] - 0s 6ms/step - loss: 0.1350 - accuracy: 0.9731 - precision_m: 0.9789 - recall_m: 0.9702 - val_loss: 0.2157 - val_accuracy: 0.9286 - val_precision_m: 0.9208 - val_recall_m: 0.9844\n",
      "Epoch 10/10\n",
      "10/10 [==============================] - 0s 5ms/step - loss: 0.1276 - accuracy: 0.9709 - precision_m: 0.9543 - recall_m: 0.9892 - val_loss: 0.2163 - val_accuracy: 0.9286 - val_precision_m: 0.9208 - val_recall_m: 0.9844\n"
     ]
    }
   ],
   "source": [
    "history = model.fit(Xa_train, y_train, \n",
    "                    batch_size=32, epochs=10,\n",
    "                    validation_data=(Xa_test, y_test))"
   ]
  },
  {
   "cell_type": "code",
   "execution_count": 60,
   "metadata": {},
   "outputs": [
    {
     "data": {
      "image/png": "[encoded data removed]",
      "text/plain": [
       "<Figure size 432x288 with 1 Axes>"
      ]
     },
     "metadata": {
      "needs_background": "light"
     },
     "output_type": "display_data"
    },
    {
     "data": {
      "image/png": "[encoded data removed]",
      "text/plain": [
       "<Figure size 432x288 with 1 Axes>"
      ]
     },
     "metadata": {
      "needs_background": "light"
     },
     "output_type": "display_data"
    },
    {
     "data": {
      "image/png": "[encoded data removed]",
      "text/plain": [
       "<Figure size 432x288 with 1 Axes>"
      ]
     },
     "metadata": {
      "needs_background": "light"
     },
     "output_type": "display_data"
    }
   ],
   "source": [
    "import matplotlib.pyplot as plt\n",
    "%matplotlib inline\n",
    "\n",
    "for i in ['accuracy', 'precision_m', 'recall_m']:\n",
    "    acc = history.history[i]\n",
    "    val_acc = history.history['val_{}'.format(i)]\n",
    "    epochs = range(1, len(acc) + 1)\n",
    "\n",
    "    plt.figure()\n",
    "    plt.plot(epochs, acc, label='Training Accuracy', color='g')\n",
    "    plt.plot(epochs, val_acc, label='Validation Accuracy', color='m')\n",
    "    plt.title('Results for {}'.format(i))\n",
    "    plt.legend()\n",
    "    plt.show()"
   ]
  },
  {
   "cell_type": "code",
   "execution_count": null,
   "metadata": {},
   "outputs": [],
   "source": []
  }
 ],
 "metadata": {
  "kernelspec": {
   "display_name": "Python 3",
   "language": "python",
   "name": "python3"
  },
  "language_info": {
   "codemirror_mode": {
    "name": "ipython",
    "version": 3
   },
   "file_extension": ".py",
   "mimetype": "text/x-python",
   "name": "python",
   "nbconvert_exporter": "python",
   "pygments_lexer": "ipython3",
   "version": "3.8.3"
  }
 },
 "nbformat": 4,
 "nbformat_minor": 4
}
