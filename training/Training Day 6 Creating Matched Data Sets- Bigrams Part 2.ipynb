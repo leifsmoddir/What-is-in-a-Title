{
 "cells": [
  {
   "cell_type": "code",
   "execution_count": 1,
   "id": "abroad-salem",
   "metadata": {},
   "outputs": [],
   "source": [
    "import pandas as pd\n",
    "import numpy as np\n",
    "from sklearn.model_selection import train_test_split\n",
    "import os"
   ]
  },
  {
   "cell_type": "code",
   "execution_count": 2,
   "id": "foreign-homeless",
   "metadata": {},
   "outputs": [
    {
     "data": {
      "text/html": [
       "<div>\n",
       "<style scoped>\n",
       "    .dataframe tbody tr th:only-of-type {\n",
       "        vertical-align: middle;\n",
       "    }\n",
       "\n",
       "    .dataframe tbody tr th {\n",
       "        vertical-align: top;\n",
       "    }\n",
       "\n",
       "    .dataframe thead th {\n",
       "        text-align: right;\n",
       "    }\n",
       "</style>\n",
       "<table border=\"1\" class=\"dataframe\">\n",
       "  <thead>\n",
       "    <tr style=\"text-align: right;\">\n",
       "      <th></th>\n",
       "      <th>title</th>\n",
       "      <th>good_title</th>\n",
       "      <th>pos</th>\n",
       "      <th>pos1</th>\n",
       "      <th>pos2</th>\n",
       "      <th>title_token</th>\n",
       "      <th>word_vec</th>\n",
       "      <th>result</th>\n",
       "      <th>all_pos</th>\n",
       "      <th>dp1_pos</th>\n",
       "    </tr>\n",
       "  </thead>\n",
       "  <tbody>\n",
       "    <tr>\n",
       "      <th>0</th>\n",
       "      <td>mingled yarn</td>\n",
       "      <td>1</td>\n",
       "      <td>['VBN', 'NN']</td>\n",
       "      <td>VBN</td>\n",
       "      <td>NN</td>\n",
       "      <td>['mingled', 'yarn']</td>\n",
       "      <td>[[-2.34753769e-02 -3.81344706e-02  5.21896631e...</td>\n",
       "      <td>[-0.0234753769, -0.0381344706, 0.0521896631, -...</td>\n",
       "      <td>[0, 0, 0, 0, 0, 0, 0, 0, 0, 0, 0, 0, 0, 0, 0, ...</td>\n",
       "      <td>[0, 0, 0, 0, 0, 0, 0, 0, 0, 0, 0, 0, 0, 0, 0, ...</td>\n",
       "    </tr>\n",
       "    <tr>\n",
       "      <th>1</th>\n",
       "      <td>stiff news</td>\n",
       "      <td>1</td>\n",
       "      <td>['JJ', 'NN']</td>\n",
       "      <td>JJ</td>\n",
       "      <td>NN</td>\n",
       "      <td>['stiff', 'news']</td>\n",
       "      <td>[[-1.87895857e-02 -9.64995101e-02  1.73002873e...</td>\n",
       "      <td>[-0.0187895857, -0.0964995101, 0.0173002873, 0...</td>\n",
       "      <td>[0, 0, 0, 0, 1, 0, 0, 0, 0, 0, 0, 0, 0, 0, 0, ...</td>\n",
       "      <td>[0, 0, 0, 1, 0, 0, 0, 0, 0, 0, 0, 0, 0, 0, 0, ...</td>\n",
       "    </tr>\n",
       "    <tr>\n",
       "      <th>2</th>\n",
       "      <td>salad days</td>\n",
       "      <td>1</td>\n",
       "      <td>['JJ', 'NNS']</td>\n",
       "      <td>JJ</td>\n",
       "      <td>NNS</td>\n",
       "      <td>['salad', 'days']</td>\n",
       "      <td>[[ 3.79228336e-03 -1.64979380e-02  1.30106723e...</td>\n",
       "      <td>[0.00379228336, -0.016497938, 0.0130106723, -0...</td>\n",
       "      <td>[0, 0, 0, 0, 1, 0, 0, 0, 0, 0, 0, 0, 0, 0, 0, ...</td>\n",
       "      <td>[0, 0, 0, 1, 0, 0, 0, 0, 0, 0, 0, 0, 0, 0, 0, ...</td>\n",
       "    </tr>\n",
       "    <tr>\n",
       "      <th>3</th>\n",
       "      <td>gaudy night</td>\n",
       "      <td>1</td>\n",
       "      <td>['NN', 'NN']</td>\n",
       "      <td>NN</td>\n",
       "      <td>NN</td>\n",
       "      <td>['gaudy', 'night']</td>\n",
       "      <td>[[-1.18637476e-02 -2.42617801e-02  2.91478410e...</td>\n",
       "      <td>[-0.0118637476, -0.0242617801, 0.029147841, -0...</td>\n",
       "      <td>[0, 0, 0, 0, 0, 0, 0, 0, 1, 0, 0, 0, 0, 0, 0, ...</td>\n",
       "      <td>[0, 0, 0, 0, 0, 0, 0, 1, 0, 0, 0, 0, 0, 0, 0, ...</td>\n",
       "    </tr>\n",
       "    <tr>\n",
       "      <th>4</th>\n",
       "      <td>immortal longings</td>\n",
       "      <td>1</td>\n",
       "      <td>['JJ', 'NNS']</td>\n",
       "      <td>JJ</td>\n",
       "      <td>NNS</td>\n",
       "      <td>['immortal', 'longings']</td>\n",
       "      <td>[[-6.05380274e-02 -7.34784156e-02  8.35435167e...</td>\n",
       "      <td>[-0.0605380274, -0.0734784156, 0.0835435167, -...</td>\n",
       "      <td>[0, 0, 0, 0, 1, 0, 0, 0, 0, 0, 0, 0, 0, 0, 0, ...</td>\n",
       "      <td>[0, 0, 0, 1, 0, 0, 0, 0, 0, 0, 0, 0, 0, 0, 0, ...</td>\n",
       "    </tr>\n",
       "  </tbody>\n",
       "</table>\n",
       "</div>"
      ],
      "text/plain": [
       "               title  good_title            pos pos1 pos2  \\\n",
       "0       mingled yarn           1  ['VBN', 'NN']  VBN   NN   \n",
       "1         stiff news           1   ['JJ', 'NN']   JJ   NN   \n",
       "2         salad days           1  ['JJ', 'NNS']   JJ  NNS   \n",
       "3        gaudy night           1   ['NN', 'NN']   NN   NN   \n",
       "4  immortal longings           1  ['JJ', 'NNS']   JJ  NNS   \n",
       "\n",
       "                title_token  \\\n",
       "0       ['mingled', 'yarn']   \n",
       "1         ['stiff', 'news']   \n",
       "2         ['salad', 'days']   \n",
       "3        ['gaudy', 'night']   \n",
       "4  ['immortal', 'longings']   \n",
       "\n",
       "                                            word_vec  \\\n",
       "0  [[-2.34753769e-02 -3.81344706e-02  5.21896631e...   \n",
       "1  [[-1.87895857e-02 -9.64995101e-02  1.73002873e...   \n",
       "2  [[ 3.79228336e-03 -1.64979380e-02  1.30106723e...   \n",
       "3  [[-1.18637476e-02 -2.42617801e-02  2.91478410e...   \n",
       "4  [[-6.05380274e-02 -7.34784156e-02  8.35435167e...   \n",
       "\n",
       "                                              result  \\\n",
       "0  [-0.0234753769, -0.0381344706, 0.0521896631, -...   \n",
       "1  [-0.0187895857, -0.0964995101, 0.0173002873, 0...   \n",
       "2  [0.00379228336, -0.016497938, 0.0130106723, -0...   \n",
       "3  [-0.0118637476, -0.0242617801, 0.029147841, -0...   \n",
       "4  [-0.0605380274, -0.0734784156, 0.0835435167, -...   \n",
       "\n",
       "                                             all_pos  \\\n",
       "0  [0, 0, 0, 0, 0, 0, 0, 0, 0, 0, 0, 0, 0, 0, 0, ...   \n",
       "1  [0, 0, 0, 0, 1, 0, 0, 0, 0, 0, 0, 0, 0, 0, 0, ...   \n",
       "2  [0, 0, 0, 0, 1, 0, 0, 0, 0, 0, 0, 0, 0, 0, 0, ...   \n",
       "3  [0, 0, 0, 0, 0, 0, 0, 0, 1, 0, 0, 0, 0, 0, 0, ...   \n",
       "4  [0, 0, 0, 0, 1, 0, 0, 0, 0, 0, 0, 0, 0, 0, 0, ...   \n",
       "\n",
       "                                             dp1_pos  \n",
       "0  [0, 0, 0, 0, 0, 0, 0, 0, 0, 0, 0, 0, 0, 0, 0, ...  \n",
       "1  [0, 0, 0, 1, 0, 0, 0, 0, 0, 0, 0, 0, 0, 0, 0, ...  \n",
       "2  [0, 0, 0, 1, 0, 0, 0, 0, 0, 0, 0, 0, 0, 0, 0, ...  \n",
       "3  [0, 0, 0, 0, 0, 0, 0, 1, 0, 0, 0, 0, 0, 0, 0, ...  \n",
       "4  [0, 0, 0, 1, 0, 0, 0, 0, 0, 0, 0, 0, 0, 0, 0, ...  "
      ]
     },
     "execution_count": 2,
     "metadata": {},
     "output_type": "execute_result"
    }
   ],
   "source": [
    "bitles = pd.read_pickle('../data/bigram_titles.pkl')\n",
    "bitles.head()"
   ]
  },
  {
   "cell_type": "code",
   "execution_count": 3,
   "id": "oriental-genome",
   "metadata": {},
   "outputs": [
    {
     "data": {
      "text/html": [
       "<div>\n",
       "<style scoped>\n",
       "    .dataframe tbody tr th:only-of-type {\n",
       "        vertical-align: middle;\n",
       "    }\n",
       "\n",
       "    .dataframe tbody tr th {\n",
       "        vertical-align: top;\n",
       "    }\n",
       "\n",
       "    .dataframe thead th {\n",
       "        text-align: right;\n",
       "    }\n",
       "</style>\n",
       "<table border=\"1\" class=\"dataframe\">\n",
       "  <thead>\n",
       "    <tr style=\"text-align: right;\">\n",
       "      <th></th>\n",
       "      <th>title</th>\n",
       "      <th>pos</th>\n",
       "      <th>pos_len</th>\n",
       "      <th>pos1</th>\n",
       "      <th>pos2</th>\n",
       "      <th>title_token</th>\n",
       "      <th>word_vec</th>\n",
       "      <th>result</th>\n",
       "      <th>all_pos</th>\n",
       "      <th>dp1_pos</th>\n",
       "    </tr>\n",
       "  </thead>\n",
       "  <tbody>\n",
       "    <tr>\n",
       "      <th>0</th>\n",
       "      <td>2d .</td>\n",
       "      <td>['CD', '.']</td>\n",
       "      <td>2</td>\n",
       "      <td>CD</td>\n",
       "      <td>.</td>\n",
       "      <td>['2d', '.']</td>\n",
       "      <td>[[-1.51270663e-03 -4.22298646e-04 -2.47966615e...</td>\n",
       "      <td>[-0.00151270663, -0.000422298646, -0.002479666...</td>\n",
       "      <td>[0, 1, 0, 0, 0, 0, 0, 0, 0, 0, 0, 0, 0, 0, 0, ...</td>\n",
       "      <td>[1, 0, 0, 0, 0, 0, 0, 0, 0, 0, 0, 0, 0, 0, 0, ...</td>\n",
       "    </tr>\n",
       "    <tr>\n",
       "      <th>1</th>\n",
       "      <td>4d .</td>\n",
       "      <td>['CD', '.']</td>\n",
       "      <td>2</td>\n",
       "      <td>CD</td>\n",
       "      <td>.</td>\n",
       "      <td>['4d', '.']</td>\n",
       "      <td>[[-2.26367125e-03 -1.85996655e-03  2.18400825e...</td>\n",
       "      <td>[-0.00226367125, -0.00185996655, 0.00218400825...</td>\n",
       "      <td>[0, 1, 0, 0, 0, 0, 0, 0, 0, 0, 0, 0, 0, 0, 0, ...</td>\n",
       "      <td>[1, 0, 0, 0, 0, 0, 0, 0, 0, 0, 0, 0, 0, 0, 0, ...</td>\n",
       "    </tr>\n",
       "    <tr>\n",
       "      <th>2</th>\n",
       "      <td>6d .</td>\n",
       "      <td>['CD', '.']</td>\n",
       "      <td>2</td>\n",
       "      <td>CD</td>\n",
       "      <td>.</td>\n",
       "      <td>['6d', '.']</td>\n",
       "      <td>[[-7.48245453e-04  1.43776520e-03  2.37661740e...</td>\n",
       "      <td>[-0.000748245453, 0.0014377652, 0.0023766174, ...</td>\n",
       "      <td>[0, 1, 0, 0, 0, 0, 0, 0, 0, 0, 0, 0, 0, 0, 0, ...</td>\n",
       "      <td>[1, 0, 0, 0, 0, 0, 0, 0, 0, 0, 0, 0, 0, 0, 0, ...</td>\n",
       "    </tr>\n",
       "    <tr>\n",
       "      <th>3</th>\n",
       "      <td>8d .</td>\n",
       "      <td>['CD', '.']</td>\n",
       "      <td>2</td>\n",
       "      <td>CD</td>\n",
       "      <td>.</td>\n",
       "      <td>['8d', '.']</td>\n",
       "      <td>[[ 1.73406990e-03 -1.39837153e-03 -9.75845382e...</td>\n",
       "      <td>[0.0017340699, -0.00139837153, -0.000975845382...</td>\n",
       "      <td>[0, 1, 0, 0, 0, 0, 0, 0, 0, 0, 0, 0, 0, 0, 0, ...</td>\n",
       "      <td>[1, 0, 0, 0, 0, 0, 0, 0, 0, 0, 0, 0, 0, 0, 0, ...</td>\n",
       "    </tr>\n",
       "    <tr>\n",
       "      <th>458</th>\n",
       "      <td>a !</td>\n",
       "      <td>['DT', '.']</td>\n",
       "      <td>2</td>\n",
       "      <td>DT</td>\n",
       "      <td>.</td>\n",
       "      <td>['a', '!']</td>\n",
       "      <td>[[ 3.78270075e-03  3.85284066e-01 -8.90050769e...</td>\n",
       "      <td>[0.00378270075, 0.385284066, -0.890050769, 0.6...</td>\n",
       "      <td>[0, 0, 1, 0, 0, 0, 0, 0, 0, 0, 0, 0, 0, 0, 0, ...</td>\n",
       "      <td>[0, 1, 0, 0, 0, 0, 0, 0, 0, 0, 0, 0, 0, 0, 0, ...</td>\n",
       "    </tr>\n",
       "  </tbody>\n",
       "</table>\n",
       "</div>"
      ],
      "text/plain": [
       "    title          pos  pos_len pos1 pos2  title_token  \\\n",
       "0    2d .  ['CD', '.']        2   CD    .  ['2d', '.']   \n",
       "1    4d .  ['CD', '.']        2   CD    .  ['4d', '.']   \n",
       "2    6d .  ['CD', '.']        2   CD    .  ['6d', '.']   \n",
       "3    8d .  ['CD', '.']        2   CD    .  ['8d', '.']   \n",
       "458   a !  ['DT', '.']        2   DT    .   ['a', '!']   \n",
       "\n",
       "                                              word_vec  \\\n",
       "0    [[-1.51270663e-03 -4.22298646e-04 -2.47966615e...   \n",
       "1    [[-2.26367125e-03 -1.85996655e-03  2.18400825e...   \n",
       "2    [[-7.48245453e-04  1.43776520e-03  2.37661740e...   \n",
       "3    [[ 1.73406990e-03 -1.39837153e-03 -9.75845382e...   \n",
       "458  [[ 3.78270075e-03  3.85284066e-01 -8.90050769e...   \n",
       "\n",
       "                                                result  \\\n",
       "0    [-0.00151270663, -0.000422298646, -0.002479666...   \n",
       "1    [-0.00226367125, -0.00185996655, 0.00218400825...   \n",
       "2    [-0.000748245453, 0.0014377652, 0.0023766174, ...   \n",
       "3    [0.0017340699, -0.00139837153, -0.000975845382...   \n",
       "458  [0.00378270075, 0.385284066, -0.890050769, 0.6...   \n",
       "\n",
       "                                               all_pos  \\\n",
       "0    [0, 1, 0, 0, 0, 0, 0, 0, 0, 0, 0, 0, 0, 0, 0, ...   \n",
       "1    [0, 1, 0, 0, 0, 0, 0, 0, 0, 0, 0, 0, 0, 0, 0, ...   \n",
       "2    [0, 1, 0, 0, 0, 0, 0, 0, 0, 0, 0, 0, 0, 0, 0, ...   \n",
       "3    [0, 1, 0, 0, 0, 0, 0, 0, 0, 0, 0, 0, 0, 0, 0, ...   \n",
       "458  [0, 0, 1, 0, 0, 0, 0, 0, 0, 0, 0, 0, 0, 0, 0, ...   \n",
       "\n",
       "                                               dp1_pos  \n",
       "0    [1, 0, 0, 0, 0, 0, 0, 0, 0, 0, 0, 0, 0, 0, 0, ...  \n",
       "1    [1, 0, 0, 0, 0, 0, 0, 0, 0, 0, 0, 0, 0, 0, 0, ...  \n",
       "2    [1, 0, 0, 0, 0, 0, 0, 0, 0, 0, 0, 0, 0, 0, 0, ...  \n",
       "3    [1, 0, 0, 0, 0, 0, 0, 0, 0, 0, 0, 0, 0, 0, 0, ...  \n",
       "458  [0, 1, 0, 0, 0, 0, 0, 0, 0, 0, 0, 0, 0, 0, 0, ...  "
      ]
     },
     "execution_count": 3,
     "metadata": {},
     "output_type": "execute_result"
    }
   ],
   "source": [
    "bishake = pd.read_pickle('../data/shakespearean_bigrams.pkl')\n",
    "bishake.head()"
   ]
  },
  {
   "cell_type": "code",
   "execution_count": 4,
   "id": "suited-change",
   "metadata": {},
   "outputs": [
    {
     "data": {
      "text/html": [
       "<div>\n",
       "<style scoped>\n",
       "    .dataframe tbody tr th:only-of-type {\n",
       "        vertical-align: middle;\n",
       "    }\n",
       "\n",
       "    .dataframe tbody tr th {\n",
       "        vertical-align: top;\n",
       "    }\n",
       "\n",
       "    .dataframe thead th {\n",
       "        text-align: right;\n",
       "    }\n",
       "</style>\n",
       "<table border=\"1\" class=\"dataframe\">\n",
       "  <thead>\n",
       "    <tr style=\"text-align: right;\">\n",
       "      <th></th>\n",
       "      <th>title</th>\n",
       "      <th>good_title</th>\n",
       "      <th>title_token</th>\n",
       "      <th>result</th>\n",
       "      <th>all_pos</th>\n",
       "      <th>dp1_pos</th>\n",
       "    </tr>\n",
       "  </thead>\n",
       "  <tbody>\n",
       "    <tr>\n",
       "      <th>147</th>\n",
       "      <td>out for</td>\n",
       "      <td>0</td>\n",
       "      <td>['out', 'for']</td>\n",
       "      <td>[-0.939932466, 0.547169149, -0.860268235, 0.06...</td>\n",
       "      <td>[0, 0, 0, 1, 0, 0, 0, 0, 0, 0, 0, 0, 0, 0, 0, ...</td>\n",
       "      <td>[0, 0, 1, 0, 0, 0, 0, 0, 0, 0, 0, 0, 0, 0, 0, ...</td>\n",
       "    </tr>\n",
       "  </tbody>\n",
       "</table>\n",
       "</div>"
      ],
      "text/plain": [
       "       title  good_title     title_token  \\\n",
       "147  out for           0  ['out', 'for']   \n",
       "\n",
       "                                                result  \\\n",
       "147  [-0.939932466, 0.547169149, -0.860268235, 0.06...   \n",
       "\n",
       "                                               all_pos  \\\n",
       "147  [0, 0, 0, 1, 0, 0, 0, 0, 0, 0, 0, 0, 0, 0, 0, ...   \n",
       "\n",
       "                                               dp1_pos  \n",
       "147  [0, 0, 1, 0, 0, 0, 0, 0, 0, 0, 0, 0, 0, 0, 0, ...  "
      ]
     },
     "execution_count": 4,
     "metadata": {},
     "output_type": "execute_result"
    }
   ],
   "source": [
    "bitles = bitles.drop(columns=['pos', 'pos1', 'pos2', 'word_vec'])\n",
    "bitles.sample()"
   ]
  },
  {
   "cell_type": "code",
   "execution_count": 5,
   "id": "virgin-track",
   "metadata": {},
   "outputs": [],
   "source": [
    "bitles = bitles.drop(columns=['title_token'])"
   ]
  },
  {
   "cell_type": "code",
   "execution_count": 6,
   "id": "younger-finance",
   "metadata": {},
   "outputs": [
    {
     "data": {
      "text/plain": [
       "numpy.ndarray"
      ]
     },
     "execution_count": 6,
     "metadata": {},
     "output_type": "execute_result"
    }
   ],
   "source": [
    "type(bitles.iloc[147,2])"
   ]
  },
  {
   "cell_type": "code",
   "execution_count": 7,
   "id": "organic-robin",
   "metadata": {},
   "outputs": [
    {
     "data": {
      "text/plain": [
       "list"
      ]
     },
     "execution_count": 7,
     "metadata": {},
     "output_type": "execute_result"
    }
   ],
   "source": [
    "type(bitles.iloc[147,4])"
   ]
  },
  {
   "cell_type": "code",
   "execution_count": 8,
   "id": "canadian-fantasy",
   "metadata": {},
   "outputs": [],
   "source": [
    "bitles['w2v'] = bitles['result'].apply(lambda x: list(x))"
   ]
  },
  {
   "cell_type": "code",
   "execution_count": 9,
   "id": "operational-borough",
   "metadata": {},
   "outputs": [],
   "source": [
    "bitles = bitles.drop(columns=['result'])"
   ]
  },
  {
   "cell_type": "code",
   "execution_count": 10,
   "id": "stupid-luxembourg",
   "metadata": {},
   "outputs": [
    {
     "name": "stdout",
     "output_type": "stream",
     "text": [
      "Length of w2v_dp1 list: 244\n",
      "Length of first element of w2v_dp1 list: 2\n",
      "Length of first element of inner list: 400\n",
      "Type of first element of inner list: <class 'list'>\n",
      "Length of seceond element of inner list 48\n",
      "Type of element of inner list <class 'list'>\n"
     ]
    }
   ],
   "source": [
    "w2v_dp1_pos = bitles[['w2v', 'dp1_pos']]\n",
    "w2v_dp1 = w2v_dp1_pos.values.tolist()\n",
    "\n",
    "print('Length of w2v_dp1 list:', len(w2v_dp1))\n",
    "print('Length of first element of w2v_dp1 list:', len(w2v_dp1[0]))\n",
    "print('Length of first element of inner list:', len(w2v_dp1[0][0]))\n",
    "print('Type of first element of inner list:', type(w2v_dp1[0][0]))\n",
    "print('Length of seceond element of inner list', len(w2v_dp1[0][1]))\n",
    "print('Type of element of inner list', type(w2v_dp1[0][1]))"
   ]
  },
  {
   "cell_type": "code",
   "execution_count": 11,
   "id": "governing-apollo",
   "metadata": {},
   "outputs": [
    {
     "name": "stdout",
     "output_type": "stream",
     "text": [
      "Length of new_w2v_dp1 244\n",
      "Length of inner list 448\n"
     ]
    }
   ],
   "source": [
    "new_w2v_dp1 = []\n",
    "\n",
    "for i in range(len(w2v_dp1)):\n",
    "    new_w2v_dp1.append(w2v_dp1[i][0] + w2v_dp1[i][1])\n",
    "    \n",
    "print('Length of new_w2v_dp1', len(new_w2v_dp1))\n",
    "print('Length of inner list', len(new_w2v_dp1[0]))"
   ]
  },
  {
   "cell_type": "code",
   "execution_count": 12,
   "id": "animated-enlargement",
   "metadata": {},
   "outputs": [
    {
     "data": {
      "text/html": [
       "<div>\n",
       "<style scoped>\n",
       "    .dataframe tbody tr th:only-of-type {\n",
       "        vertical-align: middle;\n",
       "    }\n",
       "\n",
       "    .dataframe tbody tr th {\n",
       "        vertical-align: top;\n",
       "    }\n",
       "\n",
       "    .dataframe thead th {\n",
       "        text-align: right;\n",
       "    }\n",
       "</style>\n",
       "<table border=\"1\" class=\"dataframe\">\n",
       "  <thead>\n",
       "    <tr style=\"text-align: right;\">\n",
       "      <th></th>\n",
       "      <th>title</th>\n",
       "      <th>good_title</th>\n",
       "      <th>all_pos</th>\n",
       "      <th>dp1_pos</th>\n",
       "      <th>w2v</th>\n",
       "      <th>w2v_dp1</th>\n",
       "    </tr>\n",
       "  </thead>\n",
       "  <tbody>\n",
       "    <tr>\n",
       "      <th>32</th>\n",
       "      <td>vaulting ambition</td>\n",
       "      <td>1</td>\n",
       "      <td>[0, 0, 0, 0, 0, 0, 0, 0, 0, 0, 0, 0, 0, 0, 0, ...</td>\n",
       "      <td>[0, 0, 0, 0, 0, 0, 0, 0, 0, 0, 0, 0, 0, 0, 0, ...</td>\n",
       "      <td>[0.00673193159, -0.0237859841, 0.0229004566, -...</td>\n",
       "      <td>[0.00673193159, -0.0237859841, 0.0229004566, -...</td>\n",
       "    </tr>\n",
       "    <tr>\n",
       "      <th>127</th>\n",
       "      <td>all earth</td>\n",
       "      <td>0</td>\n",
       "      <td>[0, 0, 1, 0, 0, 0, 0, 0, 0, 0, 0, 0, 0, 0, 0, ...</td>\n",
       "      <td>[0, 1, 0, 0, 0, 0, 0, 0, 0, 0, 0, 0, 0, 0, 0, ...</td>\n",
       "      <td>[-0.181372836, 0.197823837, -0.773134887, -0.1...</td>\n",
       "      <td>[-0.181372836, 0.197823837, -0.773134887, -0.1...</td>\n",
       "    </tr>\n",
       "    <tr>\n",
       "      <th>0</th>\n",
       "      <td>mingled yarn</td>\n",
       "      <td>1</td>\n",
       "      <td>[0, 0, 0, 0, 0, 0, 0, 0, 0, 0, 0, 0, 0, 0, 0, ...</td>\n",
       "      <td>[0, 0, 0, 0, 0, 0, 0, 0, 0, 0, 0, 0, 0, 0, 0, ...</td>\n",
       "      <td>[-0.0234753769, -0.0381344706, 0.0521896631, -...</td>\n",
       "      <td>[-0.0234753769, -0.0381344706, 0.0521896631, -...</td>\n",
       "    </tr>\n",
       "  </tbody>\n",
       "</table>\n",
       "</div>"
      ],
      "text/plain": [
       "                 title  good_title  \\\n",
       "32   vaulting ambition           1   \n",
       "127          all earth           0   \n",
       "0         mingled yarn           1   \n",
       "\n",
       "                                               all_pos  \\\n",
       "32   [0, 0, 0, 0, 0, 0, 0, 0, 0, 0, 0, 0, 0, 0, 0, ...   \n",
       "127  [0, 0, 1, 0, 0, 0, 0, 0, 0, 0, 0, 0, 0, 0, 0, ...   \n",
       "0    [0, 0, 0, 0, 0, 0, 0, 0, 0, 0, 0, 0, 0, 0, 0, ...   \n",
       "\n",
       "                                               dp1_pos  \\\n",
       "32   [0, 0, 0, 0, 0, 0, 0, 0, 0, 0, 0, 0, 0, 0, 0, ...   \n",
       "127  [0, 1, 0, 0, 0, 0, 0, 0, 0, 0, 0, 0, 0, 0, 0, ...   \n",
       "0    [0, 0, 0, 0, 0, 0, 0, 0, 0, 0, 0, 0, 0, 0, 0, ...   \n",
       "\n",
       "                                                   w2v  \\\n",
       "32   [0.00673193159, -0.0237859841, 0.0229004566, -...   \n",
       "127  [-0.181372836, 0.197823837, -0.773134887, -0.1...   \n",
       "0    [-0.0234753769, -0.0381344706, 0.0521896631, -...   \n",
       "\n",
       "                                               w2v_dp1  \n",
       "32   [0.00673193159, -0.0237859841, 0.0229004566, -...  \n",
       "127  [-0.181372836, 0.197823837, -0.773134887, -0.1...  \n",
       "0    [-0.0234753769, -0.0381344706, 0.0521896631, -...  "
      ]
     },
     "execution_count": 12,
     "metadata": {},
     "output_type": "execute_result"
    }
   ],
   "source": [
    "bitles['w2v_dp1'] = new_w2v_dp1\n",
    "bitles.sample(3)"
   ]
  },
  {
   "cell_type": "code",
   "execution_count": 13,
   "id": "virgin-little",
   "metadata": {},
   "outputs": [
    {
     "name": "stdout",
     "output_type": "stream",
     "text": [
      "Length of w2v_all list: 244\n",
      "Length of first element of w2v_all list: 2\n",
      "Length of first element of inner list: 400\n",
      "Type of first element of inner list: <class 'list'>\n",
      "Length of seceond element of inner list 50\n",
      "Type of element of inner list <class 'list'>\n"
     ]
    }
   ],
   "source": [
    "w2v_all_pos = bitles[['w2v', 'all_pos']]\n",
    "w2v_all = w2v_all_pos.values.tolist()\n",
    "\n",
    "print('Length of w2v_all list:', len(w2v_dp1))\n",
    "print('Length of first element of w2v_all list:', len(w2v_all[0]))\n",
    "print('Length of first element of inner list:', len(w2v_all[0][0]))\n",
    "print('Type of first element of inner list:', type(w2v_all[0][0]))\n",
    "print('Length of seceond element of inner list', len(w2v_all[0][1]))\n",
    "print('Type of element of inner list', type(w2v_all[0][1]))"
   ]
  },
  {
   "cell_type": "code",
   "execution_count": 14,
   "id": "satisfied-albert",
   "metadata": {},
   "outputs": [
    {
     "name": "stdout",
     "output_type": "stream",
     "text": [
      "Length of new_w2v_all 244\n",
      "Length of inner list 450\n"
     ]
    }
   ],
   "source": [
    "new_w2v_all = []\n",
    "\n",
    "for i in range(len(w2v_all)):\n",
    "    new_w2v_all.append(w2v_all[i][0] + w2v_all[i][1])\n",
    "    \n",
    "print('Length of new_w2v_all', len(new_w2v_all))\n",
    "print('Length of inner list', len(new_w2v_all[0]))"
   ]
  },
  {
   "cell_type": "code",
   "execution_count": 15,
   "id": "close-passage",
   "metadata": {},
   "outputs": [
    {
     "data": {
      "text/html": [
       "<div>\n",
       "<style scoped>\n",
       "    .dataframe tbody tr th:only-of-type {\n",
       "        vertical-align: middle;\n",
       "    }\n",
       "\n",
       "    .dataframe tbody tr th {\n",
       "        vertical-align: top;\n",
       "    }\n",
       "\n",
       "    .dataframe thead th {\n",
       "        text-align: right;\n",
       "    }\n",
       "</style>\n",
       "<table border=\"1\" class=\"dataframe\">\n",
       "  <thead>\n",
       "    <tr style=\"text-align: right;\">\n",
       "      <th></th>\n",
       "      <th>title</th>\n",
       "      <th>good_title</th>\n",
       "      <th>all_pos</th>\n",
       "      <th>dp1_pos</th>\n",
       "      <th>w2v</th>\n",
       "      <th>w2v_dp1</th>\n",
       "      <th>w2v_all</th>\n",
       "    </tr>\n",
       "  </thead>\n",
       "  <tbody>\n",
       "    <tr>\n",
       "      <th>185</th>\n",
       "      <td>actions most</td>\n",
       "      <td>0</td>\n",
       "      <td>[0, 0, 0, 0, 0, 0, 0, 0, 0, 1, 0, 0, 0, 0, 0, ...</td>\n",
       "      <td>[0, 0, 0, 0, 0, 0, 0, 0, 1, 0, 0, 0, 0, 0, 0, ...</td>\n",
       "      <td>[-0.0204639938, -0.154355884, 0.0111430548, -0...</td>\n",
       "      <td>[-0.0204639938, -0.154355884, 0.0111430548, -0...</td>\n",
       "      <td>[-0.0204639938, -0.154355884, 0.0111430548, -0...</td>\n",
       "    </tr>\n",
       "    <tr>\n",
       "      <th>32</th>\n",
       "      <td>vaulting ambition</td>\n",
       "      <td>1</td>\n",
       "      <td>[0, 0, 0, 0, 0, 0, 0, 0, 0, 0, 0, 0, 0, 0, 0, ...</td>\n",
       "      <td>[0, 0, 0, 0, 0, 0, 0, 0, 0, 0, 0, 0, 0, 0, 0, ...</td>\n",
       "      <td>[0.00673193159, -0.0237859841, 0.0229004566, -...</td>\n",
       "      <td>[0.00673193159, -0.0237859841, 0.0229004566, -...</td>\n",
       "      <td>[0.00673193159, -0.0237859841, 0.0229004566, -...</td>\n",
       "    </tr>\n",
       "    <tr>\n",
       "      <th>221</th>\n",
       "      <td>nor ask</td>\n",
       "      <td>0</td>\n",
       "      <td>[1, 0, 0, 0, 0, 0, 0, 0, 0, 0, 0, 0, 0, 0, 0, ...</td>\n",
       "      <td>[0, 0, 0, 0, 0, 0, 0, 0, 0, 0, 0, 0, 0, 0, 0, ...</td>\n",
       "      <td>[-0.798739791, 0.0866223946, -0.00376188126, -...</td>\n",
       "      <td>[-0.798739791, 0.0866223946, -0.00376188126, -...</td>\n",
       "      <td>[-0.798739791, 0.0866223946, -0.00376188126, -...</td>\n",
       "    </tr>\n",
       "  </tbody>\n",
       "</table>\n",
       "</div>"
      ],
      "text/plain": [
       "                 title  good_title  \\\n",
       "185       actions most           0   \n",
       "32   vaulting ambition           1   \n",
       "221            nor ask           0   \n",
       "\n",
       "                                               all_pos  \\\n",
       "185  [0, 0, 0, 0, 0, 0, 0, 0, 0, 1, 0, 0, 0, 0, 0, ...   \n",
       "32   [0, 0, 0, 0, 0, 0, 0, 0, 0, 0, 0, 0, 0, 0, 0, ...   \n",
       "221  [1, 0, 0, 0, 0, 0, 0, 0, 0, 0, 0, 0, 0, 0, 0, ...   \n",
       "\n",
       "                                               dp1_pos  \\\n",
       "185  [0, 0, 0, 0, 0, 0, 0, 0, 1, 0, 0, 0, 0, 0, 0, ...   \n",
       "32   [0, 0, 0, 0, 0, 0, 0, 0, 0, 0, 0, 0, 0, 0, 0, ...   \n",
       "221  [0, 0, 0, 0, 0, 0, 0, 0, 0, 0, 0, 0, 0, 0, 0, ...   \n",
       "\n",
       "                                                   w2v  \\\n",
       "185  [-0.0204639938, -0.154355884, 0.0111430548, -0...   \n",
       "32   [0.00673193159, -0.0237859841, 0.0229004566, -...   \n",
       "221  [-0.798739791, 0.0866223946, -0.00376188126, -...   \n",
       "\n",
       "                                               w2v_dp1  \\\n",
       "185  [-0.0204639938, -0.154355884, 0.0111430548, -0...   \n",
       "32   [0.00673193159, -0.0237859841, 0.0229004566, -...   \n",
       "221  [-0.798739791, 0.0866223946, -0.00376188126, -...   \n",
       "\n",
       "                                               w2v_all  \n",
       "185  [-0.0204639938, -0.154355884, 0.0111430548, -0...  \n",
       "32   [0.00673193159, -0.0237859841, 0.0229004566, -...  \n",
       "221  [-0.798739791, 0.0866223946, -0.00376188126, -...  "
      ]
     },
     "execution_count": 15,
     "metadata": {},
     "output_type": "execute_result"
    }
   ],
   "source": [
    "bitles['w2v_all'] = new_w2v_all\n",
    "bitles.sample(3)"
   ]
  },
  {
   "cell_type": "code",
   "execution_count": 16,
   "id": "canadian-membrane",
   "metadata": {},
   "outputs": [],
   "source": [
    "datapath = '../data'\n",
    "\n",
    "datapath_bitles = os.path.join(datapath, 'bigram_titles_dataset.pkl')\n",
    "bitles.to_pickle(datapath_bitles)"
   ]
  },
  {
   "cell_type": "markdown",
   "id": "authorized-poker",
   "metadata": {},
   "source": [
    "Prepare the bigrammed shakespeare dataframe in the same way"
   ]
  },
  {
   "cell_type": "code",
   "execution_count": 17,
   "id": "premium-christmas",
   "metadata": {},
   "outputs": [
    {
     "data": {
      "text/html": [
       "<div>\n",
       "<style scoped>\n",
       "    .dataframe tbody tr th:only-of-type {\n",
       "        vertical-align: middle;\n",
       "    }\n",
       "\n",
       "    .dataframe tbody tr th {\n",
       "        vertical-align: top;\n",
       "    }\n",
       "\n",
       "    .dataframe thead th {\n",
       "        text-align: right;\n",
       "    }\n",
       "</style>\n",
       "<table border=\"1\" class=\"dataframe\">\n",
       "  <thead>\n",
       "    <tr style=\"text-align: right;\">\n",
       "      <th></th>\n",
       "      <th>title</th>\n",
       "      <th>pos</th>\n",
       "      <th>pos_len</th>\n",
       "      <th>pos1</th>\n",
       "      <th>pos2</th>\n",
       "      <th>title_token</th>\n",
       "      <th>word_vec</th>\n",
       "      <th>result</th>\n",
       "      <th>all_pos</th>\n",
       "      <th>dp1_pos</th>\n",
       "    </tr>\n",
       "  </thead>\n",
       "  <tbody>\n",
       "    <tr>\n",
       "      <th>56317</th>\n",
       "      <td>edified when</td>\n",
       "      <td>['VBN', 'WRB']</td>\n",
       "      <td>2</td>\n",
       "      <td>VBN</td>\n",
       "      <td>WRB</td>\n",
       "      <td>['edified', 'when']</td>\n",
       "      <td>[[-1.19574219e-02 -9.16389842e-03 -3.86817288e...</td>\n",
       "      <td>[-0.0119574219, -0.00916389842, -0.00386817288...</td>\n",
       "      <td>[0, 0, 0, 0, 0, 0, 0, 0, 0, 0, 0, 0, 0, 0, 0, ...</td>\n",
       "      <td>[0, 0, 0, 0, 0, 0, 0, 0, 0, 0, 0, 0, 0, 0, 0, ...</td>\n",
       "    </tr>\n",
       "  </tbody>\n",
       "</table>\n",
       "</div>"
      ],
      "text/plain": [
       "              title             pos  pos_len pos1 pos2          title_token  \\\n",
       "56317  edified when  ['VBN', 'WRB']        2  VBN  WRB  ['edified', 'when']   \n",
       "\n",
       "                                                word_vec  \\\n",
       "56317  [[-1.19574219e-02 -9.16389842e-03 -3.86817288e...   \n",
       "\n",
       "                                                  result  \\\n",
       "56317  [-0.0119574219, -0.00916389842, -0.00386817288...   \n",
       "\n",
       "                                                 all_pos  \\\n",
       "56317  [0, 0, 0, 0, 0, 0, 0, 0, 0, 0, 0, 0, 0, 0, 0, ...   \n",
       "\n",
       "                                                 dp1_pos  \n",
       "56317  [0, 0, 0, 0, 0, 0, 0, 0, 0, 0, 0, 0, 0, 0, 0, ...  "
      ]
     },
     "execution_count": 17,
     "metadata": {},
     "output_type": "execute_result"
    }
   ],
   "source": [
    "bishake.sample()"
   ]
  },
  {
   "cell_type": "code",
   "execution_count": 18,
   "id": "generic-hungarian",
   "metadata": {},
   "outputs": [
    {
     "data": {
      "text/html": [
       "<div>\n",
       "<style scoped>\n",
       "    .dataframe tbody tr th:only-of-type {\n",
       "        vertical-align: middle;\n",
       "    }\n",
       "\n",
       "    .dataframe tbody tr th {\n",
       "        vertical-align: top;\n",
       "    }\n",
       "\n",
       "    .dataframe thead th {\n",
       "        text-align: right;\n",
       "    }\n",
       "</style>\n",
       "<table border=\"1\" class=\"dataframe\">\n",
       "  <thead>\n",
       "    <tr style=\"text-align: right;\">\n",
       "      <th></th>\n",
       "      <th>title</th>\n",
       "      <th>result</th>\n",
       "      <th>all_pos</th>\n",
       "      <th>dp1_pos</th>\n",
       "    </tr>\n",
       "  </thead>\n",
       "  <tbody>\n",
       "    <tr>\n",
       "      <th>215061</th>\n",
       "      <td>very sincerity</td>\n",
       "      <td>[0.0478890128, -0.413191825, -0.0793550164, -0...</td>\n",
       "      <td>[0, 0, 0, 0, 0, 0, 0, 0, 0, 0, 0, 0, 1, 0, 0, ...</td>\n",
       "      <td>[0, 0, 0, 0, 0, 0, 0, 0, 0, 0, 0, 1, 0, 0, 0, ...</td>\n",
       "    </tr>\n",
       "  </tbody>\n",
       "</table>\n",
       "</div>"
      ],
      "text/plain": [
       "                 title                                             result  \\\n",
       "215061  very sincerity  [0.0478890128, -0.413191825, -0.0793550164, -0...   \n",
       "\n",
       "                                                  all_pos  \\\n",
       "215061  [0, 0, 0, 0, 0, 0, 0, 0, 0, 0, 0, 0, 1, 0, 0, ...   \n",
       "\n",
       "                                                  dp1_pos  \n",
       "215061  [0, 0, 0, 0, 0, 0, 0, 0, 0, 0, 0, 1, 0, 0, 0, ...  "
      ]
     },
     "execution_count": 18,
     "metadata": {},
     "output_type": "execute_result"
    }
   ],
   "source": [
    "bishake = bishake.drop(columns=['pos', 'pos_len', 'pos1', 'pos2', 'title_token', 'word_vec'])\n",
    "bishake.sample()"
   ]
  },
  {
   "cell_type": "code",
   "execution_count": 19,
   "id": "generous-pierce",
   "metadata": {},
   "outputs": [],
   "source": [
    "bishake['w2v'] = bishake['result'].apply(lambda x: list(x))"
   ]
  },
  {
   "cell_type": "code",
   "execution_count": 20,
   "id": "distant-movement",
   "metadata": {},
   "outputs": [
    {
     "data": {
      "text/html": [
       "<div>\n",
       "<style scoped>\n",
       "    .dataframe tbody tr th:only-of-type {\n",
       "        vertical-align: middle;\n",
       "    }\n",
       "\n",
       "    .dataframe tbody tr th {\n",
       "        vertical-align: top;\n",
       "    }\n",
       "\n",
       "    .dataframe thead th {\n",
       "        text-align: right;\n",
       "    }\n",
       "</style>\n",
       "<table border=\"1\" class=\"dataframe\">\n",
       "  <thead>\n",
       "    <tr style=\"text-align: right;\">\n",
       "      <th></th>\n",
       "      <th>title</th>\n",
       "      <th>all_pos</th>\n",
       "      <th>dp1_pos</th>\n",
       "      <th>w2v</th>\n",
       "    </tr>\n",
       "  </thead>\n",
       "  <tbody>\n",
       "    <tr>\n",
       "      <th>185082</th>\n",
       "      <td>that either</td>\n",
       "      <td>[0, 0, 0, 1, 0, 0, 0, 0, 0, 0, 0, 0, 0, 0, 0, ...</td>\n",
       "      <td>[0, 0, 1, 0, 0, 0, 0, 0, 0, 0, 0, 0, 0, 0, 0, ...</td>\n",
       "      <td>[-0.64482224, 0.391026974, -1.0360198, -0.1675...</td>\n",
       "    </tr>\n",
       "  </tbody>\n",
       "</table>\n",
       "</div>"
      ],
      "text/plain": [
       "              title                                            all_pos  \\\n",
       "185082  that either  [0, 0, 0, 1, 0, 0, 0, 0, 0, 0, 0, 0, 0, 0, 0, ...   \n",
       "\n",
       "                                                  dp1_pos  \\\n",
       "185082  [0, 0, 1, 0, 0, 0, 0, 0, 0, 0, 0, 0, 0, 0, 0, ...   \n",
       "\n",
       "                                                      w2v  \n",
       "185082  [-0.64482224, 0.391026974, -1.0360198, -0.1675...  "
      ]
     },
     "execution_count": 20,
     "metadata": {},
     "output_type": "execute_result"
    }
   ],
   "source": [
    "bishake = bishake.drop(columns=['result'])\n",
    "bishake.sample()"
   ]
  },
  {
   "cell_type": "code",
   "execution_count": 21,
   "id": "aging-parts",
   "metadata": {},
   "outputs": [
    {
     "name": "stdout",
     "output_type": "stream",
     "text": [
      "Length of w2v_dp1 list: 228508\n",
      "Length of first element of w2v_dp1 list: 2\n",
      "Length of first element of inner list: 400\n",
      "Type of first element of inner list: <class 'list'>\n",
      "Length of seceond element of inner list 48\n",
      "Type of element of inner list <class 'list'>\n"
     ]
    }
   ],
   "source": [
    "w2v_dp1_pos = bishake[['w2v', 'dp1_pos']]\n",
    "w2v_dp1 = w2v_dp1_pos.values.tolist()\n",
    "\n",
    "print('Length of w2v_dp1 list:', len(w2v_dp1))\n",
    "print('Length of first element of w2v_dp1 list:', len(w2v_dp1[0]))\n",
    "print('Length of first element of inner list:', len(w2v_dp1[0][0]))\n",
    "print('Type of first element of inner list:', type(w2v_dp1[0][0]))\n",
    "print('Length of seceond element of inner list', len(w2v_dp1[0][1]))\n",
    "print('Type of element of inner list', type(w2v_dp1[0][1]))"
   ]
  },
  {
   "cell_type": "code",
   "execution_count": 22,
   "id": "fabulous-silence",
   "metadata": {},
   "outputs": [
    {
     "name": "stdout",
     "output_type": "stream",
     "text": [
      "Length of new_w2v_dp1 228508\n",
      "Length of inner list 448\n"
     ]
    }
   ],
   "source": [
    "new_w2v_dp1 = []\n",
    "\n",
    "for i in range(len(w2v_dp1)):\n",
    "    new_w2v_dp1.append(w2v_dp1[i][0] + w2v_dp1[i][1])\n",
    "    \n",
    "print('Length of new_w2v_dp1', len(new_w2v_dp1))\n",
    "print('Length of inner list', len(new_w2v_dp1[0]))"
   ]
  },
  {
   "cell_type": "code",
   "execution_count": 23,
   "id": "spoken-mauritius",
   "metadata": {},
   "outputs": [
    {
     "data": {
      "text/html": [
       "<div>\n",
       "<style scoped>\n",
       "    .dataframe tbody tr th:only-of-type {\n",
       "        vertical-align: middle;\n",
       "    }\n",
       "\n",
       "    .dataframe tbody tr th {\n",
       "        vertical-align: top;\n",
       "    }\n",
       "\n",
       "    .dataframe thead th {\n",
       "        text-align: right;\n",
       "    }\n",
       "</style>\n",
       "<table border=\"1\" class=\"dataframe\">\n",
       "  <thead>\n",
       "    <tr style=\"text-align: right;\">\n",
       "      <th></th>\n",
       "      <th>title</th>\n",
       "      <th>all_pos</th>\n",
       "      <th>dp1_pos</th>\n",
       "      <th>w2v</th>\n",
       "      <th>w2v_dp1</th>\n",
       "    </tr>\n",
       "  </thead>\n",
       "  <tbody>\n",
       "    <tr>\n",
       "      <th>209023</th>\n",
       "      <td>tribune hears</td>\n",
       "      <td>[0, 0, 0, 0, 0, 0, 0, 0, 1, 0, 0, 0, 0, 0, 0, ...</td>\n",
       "      <td>[0, 0, 0, 0, 0, 0, 0, 1, 0, 0, 0, 0, 0, 0, 0, ...</td>\n",
       "      <td>[0.0142732803, -0.0510103218, 0.0271324702, -0...</td>\n",
       "      <td>[0.0142732803, -0.0510103218, 0.0271324702, -0...</td>\n",
       "    </tr>\n",
       "  </tbody>\n",
       "</table>\n",
       "</div>"
      ],
      "text/plain": [
       "                title                                            all_pos  \\\n",
       "209023  tribune hears  [0, 0, 0, 0, 0, 0, 0, 0, 1, 0, 0, 0, 0, 0, 0, ...   \n",
       "\n",
       "                                                  dp1_pos  \\\n",
       "209023  [0, 0, 0, 0, 0, 0, 0, 1, 0, 0, 0, 0, 0, 0, 0, ...   \n",
       "\n",
       "                                                      w2v  \\\n",
       "209023  [0.0142732803, -0.0510103218, 0.0271324702, -0...   \n",
       "\n",
       "                                                  w2v_dp1  \n",
       "209023  [0.0142732803, -0.0510103218, 0.0271324702, -0...  "
      ]
     },
     "execution_count": 23,
     "metadata": {},
     "output_type": "execute_result"
    }
   ],
   "source": [
    "bishake['w2v_dp1'] = new_w2v_dp1\n",
    "bishake.sample()"
   ]
  },
  {
   "cell_type": "code",
   "execution_count": 24,
   "id": "progressive-amino",
   "metadata": {},
   "outputs": [
    {
     "name": "stdout",
     "output_type": "stream",
     "text": [
      "Length of w2v_all list: 228508\n",
      "Length of first element of w2v_all list: 2\n",
      "Length of first element of inner list: 400\n",
      "Type of first element of inner list: <class 'list'>\n",
      "Length of seceond element of inner list 50\n",
      "Type of element of inner list <class 'list'>\n"
     ]
    }
   ],
   "source": [
    "w2v_all_pos = bishake[['w2v', 'all_pos']]\n",
    "w2v_all = w2v_all_pos.values.tolist()\n",
    "\n",
    "print('Length of w2v_all list:', len(w2v_dp1))\n",
    "print('Length of first element of w2v_all list:', len(w2v_all[0]))\n",
    "print('Length of first element of inner list:', len(w2v_all[0][0]))\n",
    "print('Type of first element of inner list:', type(w2v_all[0][0]))\n",
    "print('Length of seceond element of inner list', len(w2v_all[0][1]))\n",
    "print('Type of element of inner list', type(w2v_all[0][1]))"
   ]
  },
  {
   "cell_type": "code",
   "execution_count": 25,
   "id": "super-psychology",
   "metadata": {},
   "outputs": [
    {
     "name": "stdout",
     "output_type": "stream",
     "text": [
      "Length of new_w2v_all 228508\n",
      "Length of inner list 450\n"
     ]
    }
   ],
   "source": [
    "new_w2v_all = []\n",
    "\n",
    "for i in range(len(w2v_all)):\n",
    "    new_w2v_all.append(w2v_all[i][0] + w2v_all[i][1])\n",
    "    \n",
    "print('Length of new_w2v_all', len(new_w2v_all))\n",
    "print('Length of inner list', len(new_w2v_all[0]))"
   ]
  },
  {
   "cell_type": "code",
   "execution_count": 26,
   "id": "first-enemy",
   "metadata": {},
   "outputs": [
    {
     "data": {
      "text/html": [
       "<div>\n",
       "<style scoped>\n",
       "    .dataframe tbody tr th:only-of-type {\n",
       "        vertical-align: middle;\n",
       "    }\n",
       "\n",
       "    .dataframe tbody tr th {\n",
       "        vertical-align: top;\n",
       "    }\n",
       "\n",
       "    .dataframe thead th {\n",
       "        text-align: right;\n",
       "    }\n",
       "</style>\n",
       "<table border=\"1\" class=\"dataframe\">\n",
       "  <thead>\n",
       "    <tr style=\"text-align: right;\">\n",
       "      <th></th>\n",
       "      <th>title</th>\n",
       "      <th>all_pos</th>\n",
       "      <th>dp1_pos</th>\n",
       "      <th>w2v</th>\n",
       "      <th>w2v_dp1</th>\n",
       "      <th>w2v_all</th>\n",
       "    </tr>\n",
       "  </thead>\n",
       "  <tbody>\n",
       "    <tr>\n",
       "      <th>108463</th>\n",
       "      <td>let some</td>\n",
       "      <td>[0, 0, 0, 0, 0, 0, 0, 0, 0, 0, 0, 0, 0, 0, 1, ...</td>\n",
       "      <td>[0, 0, 0, 0, 0, 0, 0, 0, 0, 0, 0, 0, 0, 1, 0, ...</td>\n",
       "      <td>[-1.77834868, 0.508212388, -0.668826044, -0.21...</td>\n",
       "      <td>[-1.77834868, 0.508212388, -0.668826044, -0.21...</td>\n",
       "      <td>[-1.77834868, 0.508212388, -0.668826044, -0.21...</td>\n",
       "    </tr>\n",
       "  </tbody>\n",
       "</table>\n",
       "</div>"
      ],
      "text/plain": [
       "           title                                            all_pos  \\\n",
       "108463  let some  [0, 0, 0, 0, 0, 0, 0, 0, 0, 0, 0, 0, 0, 0, 1, ...   \n",
       "\n",
       "                                                  dp1_pos  \\\n",
       "108463  [0, 0, 0, 0, 0, 0, 0, 0, 0, 0, 0, 0, 0, 1, 0, ...   \n",
       "\n",
       "                                                      w2v  \\\n",
       "108463  [-1.77834868, 0.508212388, -0.668826044, -0.21...   \n",
       "\n",
       "                                                  w2v_dp1  \\\n",
       "108463  [-1.77834868, 0.508212388, -0.668826044, -0.21...   \n",
       "\n",
       "                                                  w2v_all  \n",
       "108463  [-1.77834868, 0.508212388, -0.668826044, -0.21...  "
      ]
     },
     "execution_count": 26,
     "metadata": {},
     "output_type": "execute_result"
    }
   ],
   "source": [
    "bishake['w2v_all'] = new_w2v_all\n",
    "bishake.sample()"
   ]
  },
  {
   "cell_type": "code",
   "execution_count": 27,
   "id": "sustainable-howard",
   "metadata": {},
   "outputs": [
    {
     "data": {
      "text/html": [
       "<div>\n",
       "<style scoped>\n",
       "    .dataframe tbody tr th:only-of-type {\n",
       "        vertical-align: middle;\n",
       "    }\n",
       "\n",
       "    .dataframe tbody tr th {\n",
       "        vertical-align: top;\n",
       "    }\n",
       "\n",
       "    .dataframe thead th {\n",
       "        text-align: right;\n",
       "    }\n",
       "</style>\n",
       "<table border=\"1\" class=\"dataframe\">\n",
       "  <thead>\n",
       "    <tr style=\"text-align: right;\">\n",
       "      <th></th>\n",
       "      <th>title</th>\n",
       "      <th>w2v_dp1</th>\n",
       "      <th>w2v_all</th>\n",
       "    </tr>\n",
       "  </thead>\n",
       "  <tbody>\n",
       "    <tr>\n",
       "      <th>178322</th>\n",
       "      <td>strength successfully</td>\n",
       "      <td>[-0.113783017, -0.25584814, -0.0348768383, -0....</td>\n",
       "      <td>[-0.113783017, -0.25584814, -0.0348768383, -0....</td>\n",
       "    </tr>\n",
       "  </tbody>\n",
       "</table>\n",
       "</div>"
      ],
      "text/plain": [
       "                        title  \\\n",
       "178322  strength successfully   \n",
       "\n",
       "                                                  w2v_dp1  \\\n",
       "178322  [-0.113783017, -0.25584814, -0.0348768383, -0....   \n",
       "\n",
       "                                                  w2v_all  \n",
       "178322  [-0.113783017, -0.25584814, -0.0348768383, -0....  "
      ]
     },
     "execution_count": 27,
     "metadata": {},
     "output_type": "execute_result"
    }
   ],
   "source": [
    "bishake =  bishake.drop(columns=['all_pos', 'dp1_pos', 'w2v'])\n",
    "bishake.sample()"
   ]
  },
  {
   "cell_type": "code",
   "execution_count": null,
   "id": "checked-floating",
   "metadata": {},
   "outputs": [],
   "source": [
    "datapath = '../data'\n",
    "\n",
    "datapath_bishake = os.path.join(datapath, 'shake_bigrams_dataset.pkl')\n",
    "bishake.to_pickle(datapath_bishake)"
   ]
  },
  {
   "cell_type": "code",
   "execution_count": null,
   "id": "polish-assumption",
   "metadata": {},
   "outputs": [],
   "source": []
  }
 ],
 "metadata": {
  "kernelspec": {
   "display_name": "Python 3",
   "language": "python",
   "name": "python3"
  },
  "language_info": {
   "codemirror_mode": {
    "name": "ipython",
    "version": 3
   },
   "file_extension": ".py",
   "mimetype": "text/x-python",
   "name": "python",
   "nbconvert_exporter": "python",
   "pygments_lexer": "ipython3",
   "version": "3.8.3"
  }
 },
 "nbformat": 4,
 "nbformat_minor": 5
}
