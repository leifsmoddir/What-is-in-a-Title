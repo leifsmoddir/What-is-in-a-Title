{
 "cells": [
  {
   "cell_type": "code",
   "execution_count": 1,
   "metadata": {},
   "outputs": [],
   "source": [
    "import pandas as pd\n",
    "import numpy as np\n",
    "from sklearn.model_selection import train_test_split\n",
    "import os"
   ]
  },
  {
   "cell_type": "code",
   "execution_count": 2,
   "metadata": {},
   "outputs": [],
   "source": [
    "trishake = pd.read_pickle('../data/shakespearean_trigrams.pkl')\n"
   ]
  },
  {
   "cell_type": "code",
   "execution_count": 3,
   "metadata": {},
   "outputs": [
    {
     "data": {
      "text/html": [
       "<div>\n",
       "<style scoped>\n",
       "    .dataframe tbody tr th:only-of-type {\n",
       "        vertical-align: middle;\n",
       "    }\n",
       "\n",
       "    .dataframe tbody tr th {\n",
       "        vertical-align: top;\n",
       "    }\n",
       "\n",
       "    .dataframe thead th {\n",
       "        text-align: right;\n",
       "    }\n",
       "</style>\n",
       "<table border=\"1\" class=\"dataframe\">\n",
       "  <thead>\n",
       "    <tr style=\"text-align: right;\">\n",
       "      <th></th>\n",
       "      <th>title</th>\n",
       "      <th>pos</th>\n",
       "      <th>pos1</th>\n",
       "      <th>pos2</th>\n",
       "      <th>pos3</th>\n",
       "      <th>title_token</th>\n",
       "      <th>word_vec</th>\n",
       "      <th>all_pos</th>\n",
       "      <th>dp1_pos</th>\n",
       "      <th>w2v</th>\n",
       "    </tr>\n",
       "  </thead>\n",
       "  <tbody>\n",
       "    <tr>\n",
       "      <th>1576</th>\n",
       "      <td>a ! that</td>\n",
       "      <td>['DT', '.', 'IN']</td>\n",
       "      <td>DT</td>\n",
       "      <td>.</td>\n",
       "      <td>IN</td>\n",
       "      <td>[a, !, that]</td>\n",
       "      <td>[[0.0037827007, 0.38528407, -0.89005077, 0.681...</td>\n",
       "      <td>[0, 0, 1, 0, 0, 0, 0, 0, 0, 0, 0, 0, 0, 0, 0, ...</td>\n",
       "      <td>[0, 1, 0, 0, 0, 0, 0, 0, 0, 0, 0, 0, 0, 0, 0, ...</td>\n",
       "      <td>[0.0037827007, 0.38528407, -0.89005077, 0.6813...</td>\n",
       "    </tr>\n",
       "    <tr>\n",
       "      <th>1594</th>\n",
       "      <td>a ' have</td>\n",
       "      <td>['DT', 'POS', 'VBP']</td>\n",
       "      <td>DT</td>\n",
       "      <td>POS</td>\n",
       "      <td>VBP</td>\n",
       "      <td>[a, ', have]</td>\n",
       "      <td>[[0.0037827007, 0.38528407, -0.89005077, 0.681...</td>\n",
       "      <td>[0, 0, 1, 0, 0, 0, 0, 0, 0, 0, 0, 0, 0, 0, 0, ...</td>\n",
       "      <td>[0, 1, 0, 0, 0, 0, 0, 0, 0, 0, 0, 0, 0, 0, 0, ...</td>\n",
       "      <td>[0.0037827007, 0.38528407, -0.89005077, 0.6813...</td>\n",
       "    </tr>\n",
       "    <tr>\n",
       "      <th>1596</th>\n",
       "      <td>a ' lies</td>\n",
       "      <td>['DT', 'POS', 'NNS']</td>\n",
       "      <td>DT</td>\n",
       "      <td>POS</td>\n",
       "      <td>NNS</td>\n",
       "      <td>[a, ', lies]</td>\n",
       "      <td>[[0.0037827007, 0.38528407, -0.89005077, 0.681...</td>\n",
       "      <td>[0, 0, 1, 0, 0, 0, 0, 0, 0, 0, 0, 0, 0, 0, 0, ...</td>\n",
       "      <td>[0, 1, 0, 0, 0, 0, 0, 0, 0, 0, 0, 0, 0, 0, 0, ...</td>\n",
       "      <td>[0.0037827007, 0.38528407, -0.89005077, 0.6813...</td>\n",
       "    </tr>\n",
       "    <tr>\n",
       "      <th>1614</th>\n",
       "      <td>a ' show</td>\n",
       "      <td>['DT', 'POS', 'NN']</td>\n",
       "      <td>DT</td>\n",
       "      <td>POS</td>\n",
       "      <td>NN</td>\n",
       "      <td>[a, ', show]</td>\n",
       "      <td>[[0.0037827007, 0.38528407, -0.89005077, 0.681...</td>\n",
       "      <td>[0, 0, 1, 0, 0, 0, 0, 0, 0, 0, 0, 0, 0, 0, 0, ...</td>\n",
       "      <td>[0, 1, 0, 0, 0, 0, 0, 0, 0, 0, 0, 0, 0, 0, 0, ...</td>\n",
       "      <td>[0.0037827007, 0.38528407, -0.89005077, 0.6813...</td>\n",
       "    </tr>\n",
       "    <tr>\n",
       "      <th>1624</th>\n",
       "      <td>a 'never .</td>\n",
       "      <td>['DT', 'NN', '.']</td>\n",
       "      <td>DT</td>\n",
       "      <td>NN</td>\n",
       "      <td>.</td>\n",
       "      <td>[a, 'never, .]</td>\n",
       "      <td>[[0.0037827007, 0.38528407, -0.89005077, 0.681...</td>\n",
       "      <td>[0, 0, 1, 0, 0, 0, 0, 0, 0, 0, 0, 0, 0, 0, 0, ...</td>\n",
       "      <td>[0, 1, 0, 0, 0, 0, 0, 0, 0, 0, 0, 0, 0, 0, 0, ...</td>\n",
       "      <td>[0.0037827007, 0.38528407, -0.89005077, 0.6813...</td>\n",
       "    </tr>\n",
       "  </tbody>\n",
       "</table>\n",
       "</div>"
      ],
      "text/plain": [
       "           title                   pos pos1 pos2 pos3     title_token  \\\n",
       "1576    a ! that     ['DT', '.', 'IN']   DT    .   IN    [a, !, that]   \n",
       "1594    a ' have  ['DT', 'POS', 'VBP']   DT  POS  VBP    [a, ', have]   \n",
       "1596    a ' lies  ['DT', 'POS', 'NNS']   DT  POS  NNS    [a, ', lies]   \n",
       "1614    a ' show   ['DT', 'POS', 'NN']   DT  POS   NN    [a, ', show]   \n",
       "1624  a 'never .     ['DT', 'NN', '.']   DT   NN    .  [a, 'never, .]   \n",
       "\n",
       "                                               word_vec  \\\n",
       "1576  [[0.0037827007, 0.38528407, -0.89005077, 0.681...   \n",
       "1594  [[0.0037827007, 0.38528407, -0.89005077, 0.681...   \n",
       "1596  [[0.0037827007, 0.38528407, -0.89005077, 0.681...   \n",
       "1614  [[0.0037827007, 0.38528407, -0.89005077, 0.681...   \n",
       "1624  [[0.0037827007, 0.38528407, -0.89005077, 0.681...   \n",
       "\n",
       "                                                all_pos  \\\n",
       "1576  [0, 0, 1, 0, 0, 0, 0, 0, 0, 0, 0, 0, 0, 0, 0, ...   \n",
       "1594  [0, 0, 1, 0, 0, 0, 0, 0, 0, 0, 0, 0, 0, 0, 0, ...   \n",
       "1596  [0, 0, 1, 0, 0, 0, 0, 0, 0, 0, 0, 0, 0, 0, 0, ...   \n",
       "1614  [0, 0, 1, 0, 0, 0, 0, 0, 0, 0, 0, 0, 0, 0, 0, ...   \n",
       "1624  [0, 0, 1, 0, 0, 0, 0, 0, 0, 0, 0, 0, 0, 0, 0, ...   \n",
       "\n",
       "                                                dp1_pos  \\\n",
       "1576  [0, 1, 0, 0, 0, 0, 0, 0, 0, 0, 0, 0, 0, 0, 0, ...   \n",
       "1594  [0, 1, 0, 0, 0, 0, 0, 0, 0, 0, 0, 0, 0, 0, 0, ...   \n",
       "1596  [0, 1, 0, 0, 0, 0, 0, 0, 0, 0, 0, 0, 0, 0, 0, ...   \n",
       "1614  [0, 1, 0, 0, 0, 0, 0, 0, 0, 0, 0, 0, 0, 0, 0, ...   \n",
       "1624  [0, 1, 0, 0, 0, 0, 0, 0, 0, 0, 0, 0, 0, 0, 0, ...   \n",
       "\n",
       "                                                    w2v  \n",
       "1576  [0.0037827007, 0.38528407, -0.89005077, 0.6813...  \n",
       "1594  [0.0037827007, 0.38528407, -0.89005077, 0.6813...  \n",
       "1596  [0.0037827007, 0.38528407, -0.89005077, 0.6813...  \n",
       "1614  [0.0037827007, 0.38528407, -0.89005077, 0.6813...  \n",
       "1624  [0.0037827007, 0.38528407, -0.89005077, 0.6813...  "
      ]
     },
     "execution_count": 3,
     "metadata": {},
     "output_type": "execute_result"
    }
   ],
   "source": [
    "trishake.head()"
   ]
  },
  {
   "cell_type": "code",
   "execution_count": 4,
   "metadata": {},
   "outputs": [
    {
     "data": {
      "text/html": [
       "<div>\n",
       "<style scoped>\n",
       "    .dataframe tbody tr th:only-of-type {\n",
       "        vertical-align: middle;\n",
       "    }\n",
       "\n",
       "    .dataframe tbody tr th {\n",
       "        vertical-align: top;\n",
       "    }\n",
       "\n",
       "    .dataframe thead th {\n",
       "        text-align: right;\n",
       "    }\n",
       "</style>\n",
       "<table border=\"1\" class=\"dataframe\">\n",
       "  <thead>\n",
       "    <tr style=\"text-align: right;\">\n",
       "      <th></th>\n",
       "      <th>title</th>\n",
       "      <th>w2v</th>\n",
       "      <th>dp1_pos</th>\n",
       "    </tr>\n",
       "  </thead>\n",
       "  <tbody>\n",
       "    <tr>\n",
       "      <th>38851</th>\n",
       "      <td>are not finely</td>\n",
       "      <td>[0.10258133, 0.1857546, -0.4427636, -2.0342126...</td>\n",
       "      <td>[0, 0, 0, 0, 0, 0, 0, 0, 0, 0, 0, 0, 0, 0, 0, ...</td>\n",
       "    </tr>\n",
       "  </tbody>\n",
       "</table>\n",
       "</div>"
      ],
      "text/plain": [
       "                title                                                w2v  \\\n",
       "38851  are not finely  [0.10258133, 0.1857546, -0.4427636, -2.0342126...   \n",
       "\n",
       "                                                 dp1_pos  \n",
       "38851  [0, 0, 0, 0, 0, 0, 0, 0, 0, 0, 0, 0, 0, 0, 0, ...  "
      ]
     },
     "execution_count": 4,
     "metadata": {},
     "output_type": "execute_result"
    }
   ],
   "source": [
    "trigram_df1 = trishake[['title', 'w2v', 'dp1_pos']]\n",
    "trigram_df1.sample()"
   ]
  },
  {
   "cell_type": "code",
   "execution_count": 5,
   "metadata": {},
   "outputs": [],
   "source": [
    "word_vec2 = trigram_df1['w2v'].apply(lambda x: list(x))"
   ]
  },
  {
   "cell_type": "code",
   "execution_count": 6,
   "metadata": {},
   "outputs": [
    {
     "name": "stderr",
     "output_type": "stream",
     "text": [
      "<ipython-input-6-95fa05c39137>:1: SettingWithCopyWarning: \n",
      "A value is trying to be set on a copy of a slice from a DataFrame.\n",
      "Try using .loc[row_indexer,col_indexer] = value instead\n",
      "\n",
      "See the caveats in the documentation: https://pandas.pydata.org/pandas-docs/stable/user_guide/indexing.html#returning-a-view-versus-a-copy\n",
      "  trigram_df1['w2v'] = word_vec2\n"
     ]
    }
   ],
   "source": [
    "trigram_df1['w2v'] = word_vec2"
   ]
  },
  {
   "cell_type": "code",
   "execution_count": 7,
   "metadata": {},
   "outputs": [
    {
     "name": "stdout",
     "output_type": "stream",
     "text": [
      "Length of w2v_dp1 list: 463010\n",
      "Length of first element of w2v_dp1 list: 2\n",
      "Length of first element of inner list: 600\n",
      "Type of first element of inner list: <class 'list'>\n",
      "Length of seceond element of inner list 78\n",
      "Type of element of inner list <class 'list'>\n"
     ]
    }
   ],
   "source": [
    "w2v_dp1_pos = trigram_df1[['w2v', 'dp1_pos']]\n",
    "w2v_dp1 = w2v_dp1_pos.values.tolist()\n",
    "\n",
    "print('Length of w2v_dp1 list:', len(w2v_dp1))\n",
    "print('Length of first element of w2v_dp1 list:', len(w2v_dp1[0]))\n",
    "print('Length of first element of inner list:', len(w2v_dp1[0][0]))\n",
    "print('Type of first element of inner list:', type(w2v_dp1[0][0]))\n",
    "print('Length of seceond element of inner list', len(w2v_dp1[0][1]))\n",
    "print('Type of element of inner list', type(w2v_dp1[0][1]))"
   ]
  },
  {
   "cell_type": "code",
   "execution_count": 8,
   "metadata": {},
   "outputs": [
    {
     "name": "stdout",
     "output_type": "stream",
     "text": [
      "Length of new_w2v_dp1 463010\n",
      "Length of inner list 678\n"
     ]
    }
   ],
   "source": [
    "new_w2v_dp1 = []\n",
    "\n",
    "for i in range(len(w2v_dp1)):\n",
    "    new_w2v_dp1.append(w2v_dp1[i][0] + w2v_dp1[i][1])\n",
    "    \n",
    "print('Length of new_w2v_dp1', len(new_w2v_dp1))\n",
    "print('Length of inner list', len(new_w2v_dp1[0]))"
   ]
  },
  {
   "cell_type": "code",
   "execution_count": 9,
   "metadata": {},
   "outputs": [
    {
     "name": "stderr",
     "output_type": "stream",
     "text": [
      "<ipython-input-9-fc4abffa4148>:1: SettingWithCopyWarning: \n",
      "A value is trying to be set on a copy of a slice from a DataFrame.\n",
      "Try using .loc[row_indexer,col_indexer] = value instead\n",
      "\n",
      "See the caveats in the documentation: https://pandas.pydata.org/pandas-docs/stable/user_guide/indexing.html#returning-a-view-versus-a-copy\n",
      "  trigram_df1['w2v_dp1'] = new_w2v_dp1\n"
     ]
    },
    {
     "data": {
      "text/html": [
       "<div>\n",
       "<style scoped>\n",
       "    .dataframe tbody tr th:only-of-type {\n",
       "        vertical-align: middle;\n",
       "    }\n",
       "\n",
       "    .dataframe tbody tr th {\n",
       "        vertical-align: top;\n",
       "    }\n",
       "\n",
       "    .dataframe thead th {\n",
       "        text-align: right;\n",
       "    }\n",
       "</style>\n",
       "<table border=\"1\" class=\"dataframe\">\n",
       "  <thead>\n",
       "    <tr style=\"text-align: right;\">\n",
       "      <th></th>\n",
       "      <th>title</th>\n",
       "      <th>w2v</th>\n",
       "      <th>dp1_pos</th>\n",
       "      <th>w2v_dp1</th>\n",
       "    </tr>\n",
       "  </thead>\n",
       "  <tbody>\n",
       "    <tr>\n",
       "      <th>287204</th>\n",
       "      <td>or we are</td>\n",
       "      <td>[-0.803149, -1.3047632, -0.17579114, -0.716032...</td>\n",
       "      <td>[0, 0, 0, 0, 0, 0, 0, 0, 0, 0, 0, 0, 0, 0, 0, ...</td>\n",
       "      <td>[-0.803149, -1.3047632, -0.17579114, -0.716032...</td>\n",
       "    </tr>\n",
       "  </tbody>\n",
       "</table>\n",
       "</div>"
      ],
      "text/plain": [
       "            title                                                w2v  \\\n",
       "287204  or we are  [-0.803149, -1.3047632, -0.17579114, -0.716032...   \n",
       "\n",
       "                                                  dp1_pos  \\\n",
       "287204  [0, 0, 0, 0, 0, 0, 0, 0, 0, 0, 0, 0, 0, 0, 0, ...   \n",
       "\n",
       "                                                  w2v_dp1  \n",
       "287204  [-0.803149, -1.3047632, -0.17579114, -0.716032...  "
      ]
     },
     "execution_count": 9,
     "metadata": {},
     "output_type": "execute_result"
    }
   ],
   "source": [
    "trigram_df1['w2v_dp1'] = new_w2v_dp1\n",
    "trigram_df1.sample()"
   ]
  },
  {
   "cell_type": "code",
   "execution_count": 10,
   "metadata": {},
   "outputs": [
    {
     "name": "stderr",
     "output_type": "stream",
     "text": [
      "C:\\Users\\gcn4\\anaconda3\\lib\\site-packages\\pandas\\core\\frame.py:4305: SettingWithCopyWarning: \n",
      "A value is trying to be set on a copy of a slice from a DataFrame\n",
      "\n",
      "See the caveats in the documentation: https://pandas.pydata.org/pandas-docs/stable/user_guide/indexing.html#returning-a-view-versus-a-copy\n",
      "  return super().drop(\n"
     ]
    },
    {
     "data": {
      "text/html": [
       "<div>\n",
       "<style scoped>\n",
       "    .dataframe tbody tr th:only-of-type {\n",
       "        vertical-align: middle;\n",
       "    }\n",
       "\n",
       "    .dataframe tbody tr th {\n",
       "        vertical-align: top;\n",
       "    }\n",
       "\n",
       "    .dataframe thead th {\n",
       "        text-align: right;\n",
       "    }\n",
       "</style>\n",
       "<table border=\"1\" class=\"dataframe\">\n",
       "  <thead>\n",
       "    <tr style=\"text-align: right;\">\n",
       "      <th></th>\n",
       "      <th>title</th>\n",
       "      <th>w2v_dp1</th>\n",
       "    </tr>\n",
       "  </thead>\n",
       "  <tbody>\n",
       "    <tr>\n",
       "      <th>264571</th>\n",
       "      <td>not here ,</td>\n",
       "      <td>[-0.47713593, -0.14395861, -1.2070161, 0.00510...</td>\n",
       "    </tr>\n",
       "  </tbody>\n",
       "</table>\n",
       "</div>"
      ],
      "text/plain": [
       "             title                                            w2v_dp1\n",
       "264571  not here ,  [-0.47713593, -0.14395861, -1.2070161, 0.00510..."
      ]
     },
     "execution_count": 10,
     "metadata": {},
     "output_type": "execute_result"
    }
   ],
   "source": [
    "trigram_df1.drop(columns=['w2v', 'dp1_pos'], inplace=True)\n",
    "trigram_df1.sample()"
   ]
  },
  {
   "cell_type": "code",
   "execution_count": 11,
   "metadata": {},
   "outputs": [
    {
     "data": {
      "text/plain": [
       "True"
      ]
     },
     "execution_count": 11,
     "metadata": {},
     "output_type": "execute_result"
    }
   ],
   "source": [
    "trigram_df1.index.is_unique"
   ]
  },
  {
   "cell_type": "code",
   "execution_count": 12,
   "metadata": {},
   "outputs": [
    {
     "data": {
      "text/plain": [
       "(463010, 2)"
      ]
     },
     "execution_count": 12,
     "metadata": {},
     "output_type": "execute_result"
    }
   ],
   "source": [
    "trigram_df1.shape"
   ]
  },
  {
   "cell_type": "code",
   "execution_count": 14,
   "metadata": {},
   "outputs": [
    {
     "data": {
      "text/plain": [
       "92602.0"
      ]
     },
     "execution_count": 14,
     "metadata": {},
     "output_type": "execute_result"
    }
   ],
   "source": [
    "463010*0.2"
   ]
  },
  {
   "cell_type": "code",
   "execution_count": 15,
   "metadata": {},
   "outputs": [
    {
     "data": {
      "text/plain": [
       "(92602, 2)"
      ]
     },
     "execution_count": 15,
     "metadata": {},
     "output_type": "execute_result"
    }
   ],
   "source": [
    "trigram_df1_set1 = trigram_df1.iloc[:92602,:]\n",
    "trigram_df1_set1.shape"
   ]
  },
  {
   "cell_type": "markdown",
   "metadata": {},
   "source": [
    "I've crashed twice trying to save this dataframe. Fingers crossed that now that it is as small as it can be, that it will work this time. Update: Nope! Feather does not support object type columns, so that's a no. I've read that HDF5 is slower than pickle, and consumes up a lot of memory.  I will try parquet next. Or maybe split into small dataframes."
   ]
  },
  {
   "cell_type": "code",
   "execution_count": 18,
   "metadata": {},
   "outputs": [],
   "source": [
    "datapath = '../data'\n",
    "\n",
    "datapath_trigram_df1_set1 = os.path.join(datapath, 'trigram_df1_set1.pkl')\n",
    "trigram_df1_set1.to_pickle(datapath_trigram_df1_set1)"
   ]
  },
  {
   "cell_type": "markdown",
   "metadata": {},
   "source": [
    "Honestly, forget saving the dataframes. It is quicker just to re-run the code everytime than to watch paint dry for 45 minuntes while saving a df that is 1/5th the size of the whole. "
   ]
  },
  {
   "cell_type": "code",
   "execution_count": 24,
   "metadata": {},
   "outputs": [
    {
     "data": {
      "text/html": [
       "<div>\n",
       "<style scoped>\n",
       "    .dataframe tbody tr th:only-of-type {\n",
       "        vertical-align: middle;\n",
       "    }\n",
       "\n",
       "    .dataframe tbody tr th {\n",
       "        vertical-align: top;\n",
       "    }\n",
       "\n",
       "    .dataframe thead th {\n",
       "        text-align: right;\n",
       "    }\n",
       "</style>\n",
       "<table border=\"1\" class=\"dataframe\">\n",
       "  <thead>\n",
       "    <tr style=\"text-align: right;\">\n",
       "      <th></th>\n",
       "      <th>title</th>\n",
       "      <th>good_title</th>\n",
       "      <th>pos</th>\n",
       "      <th>pos1</th>\n",
       "      <th>pos2</th>\n",
       "      <th>pos3</th>\n",
       "      <th>title_token</th>\n",
       "      <th>word_vec</th>\n",
       "      <th>all_pos</th>\n",
       "      <th>dp1_pos</th>\n",
       "      <th>w2v</th>\n",
       "      <th>w2v_all</th>\n",
       "      <th>w2v_dp1</th>\n",
       "    </tr>\n",
       "  </thead>\n",
       "  <tbody>\n",
       "    <tr>\n",
       "      <th>0</th>\n",
       "      <td>all's well</td>\n",
       "      <td>1</td>\n",
       "      <td>['DT', 'POS', 'NN']</td>\n",
       "      <td>DT</td>\n",
       "      <td>POS</td>\n",
       "      <td>NN</td>\n",
       "      <td>['all', \"'s\", 'well']</td>\n",
       "      <td>[[-1.81372836e-01  1.97823837e-01 -7.73134887e...</td>\n",
       "      <td>[0, 0, 1, 0, 0, 0, 0, 0, 0, 0, 0, 0, 0, 0, 0, ...</td>\n",
       "      <td>[0, 1, 0, 0, 0, 0, 0, 0, 0, 0, 0, 0, 0, 0, 0, ...</td>\n",
       "      <td>[-0.181372836, 0.197823837, -0.773134887, -0.1...</td>\n",
       "      <td>[-0.181372836, 0.197823837, -0.773134887, -0.1...</td>\n",
       "      <td>[-0.181372836, 0.197823837, -0.773134887, -0.1...</td>\n",
       "    </tr>\n",
       "    <tr>\n",
       "      <th>1</th>\n",
       "      <td>the devil drives</td>\n",
       "      <td>1</td>\n",
       "      <td>['DT', 'NN', 'NNS']</td>\n",
       "      <td>DT</td>\n",
       "      <td>NN</td>\n",
       "      <td>NNS</td>\n",
       "      <td>['the', 'devil', 'drives']</td>\n",
       "      <td>[[-9.59224224e-01  1.22396159e+00 -6.39906406e...</td>\n",
       "      <td>[0, 0, 1, 0, 0, 0, 0, 0, 0, 0, 0, 0, 0, 0, 0, ...</td>\n",
       "      <td>[0, 1, 0, 0, 0, 0, 0, 0, 0, 0, 0, 0, 0, 0, 0, ...</td>\n",
       "      <td>[-0.959224224, 1.22396159, -0.639906406, -0.51...</td>\n",
       "      <td>[-0.959224224, 1.22396159, -0.639906406, -0.51...</td>\n",
       "      <td>[-0.959224224, 1.22396159, -0.639906406, -0.51...</td>\n",
       "    </tr>\n",
       "    <tr>\n",
       "      <th>2</th>\n",
       "      <td>edge of hazard</td>\n",
       "      <td>1</td>\n",
       "      <td>['NN', 'IN', 'NN']</td>\n",
       "      <td>NN</td>\n",
       "      <td>IN</td>\n",
       "      <td>NN</td>\n",
       "      <td>['edge', 'of', 'hazard']</td>\n",
       "      <td>[[-2.87398398e-02 -7.36244917e-02  1.42647075e...</td>\n",
       "      <td>[0, 0, 0, 0, 0, 0, 0, 0, 0, 1, 0, 0, 0, 0, 0, ...</td>\n",
       "      <td>[0, 0, 0, 0, 0, 0, 0, 0, 1, 0, 0, 0, 0, 0, 0, ...</td>\n",
       "      <td>[-0.0287398398, -0.0736244917, 0.0142647075, -...</td>\n",
       "      <td>[-0.0287398398, -0.0736244917, 0.0142647075, -...</td>\n",
       "      <td>[-0.0287398398, -0.0736244917, 0.0142647075, -...</td>\n",
       "    </tr>\n",
       "    <tr>\n",
       "      <th>3</th>\n",
       "      <td>a mingled yarn</td>\n",
       "      <td>1</td>\n",
       "      <td>['DT', 'VBN', 'NN']</td>\n",
       "      <td>DT</td>\n",
       "      <td>VBN</td>\n",
       "      <td>NN</td>\n",
       "      <td>['a', 'mingled', 'yarn']</td>\n",
       "      <td>[[ 3.78270075e-03  3.85284066e-01 -8.90050769e...</td>\n",
       "      <td>[0, 0, 1, 0, 0, 0, 0, 0, 0, 0, 0, 0, 0, 0, 0, ...</td>\n",
       "      <td>[0, 1, 0, 0, 0, 0, 0, 0, 0, 0, 0, 0, 0, 0, 0, ...</td>\n",
       "      <td>[0.00378270075, 0.385284066, -0.890050769, 0.6...</td>\n",
       "      <td>[0.00378270075, 0.385284066, -0.890050769, 0.6...</td>\n",
       "      <td>[0.00378270075, 0.385284066, -0.890050769, 0.6...</td>\n",
       "    </tr>\n",
       "    <tr>\n",
       "      <th>4</th>\n",
       "      <td>love is enough</td>\n",
       "      <td>1</td>\n",
       "      <td>['NN', 'VBZ', 'JJ']</td>\n",
       "      <td>NN</td>\n",
       "      <td>VBZ</td>\n",
       "      <td>JJ</td>\n",
       "      <td>['love', 'is', 'enough']</td>\n",
       "      <td>[[-6.29614413e-01 -7.17607141e-01 -1.16408551e...</td>\n",
       "      <td>[0, 0, 0, 0, 0, 0, 0, 0, 0, 1, 0, 0, 0, 0, 0, ...</td>\n",
       "      <td>[0, 0, 0, 0, 0, 0, 0, 0, 1, 0, 0, 0, 0, 0, 0, ...</td>\n",
       "      <td>[-0.629614413, -0.717607141, -1.16408551, -0.0...</td>\n",
       "      <td>[-0.629614413, -0.717607141, -1.16408551, -0.0...</td>\n",
       "      <td>[-0.629614413, -0.717607141, -1.16408551, -0.0...</td>\n",
       "    </tr>\n",
       "  </tbody>\n",
       "</table>\n",
       "</div>"
      ],
      "text/plain": [
       "              title  good_title                  pos pos1 pos2 pos3  \\\n",
       "0        all's well           1  ['DT', 'POS', 'NN']   DT  POS   NN   \n",
       "1  the devil drives           1  ['DT', 'NN', 'NNS']   DT   NN  NNS   \n",
       "2    edge of hazard           1   ['NN', 'IN', 'NN']   NN   IN   NN   \n",
       "3    a mingled yarn           1  ['DT', 'VBN', 'NN']   DT  VBN   NN   \n",
       "4    love is enough           1  ['NN', 'VBZ', 'JJ']   NN  VBZ   JJ   \n",
       "\n",
       "                  title_token  \\\n",
       "0       ['all', \"'s\", 'well']   \n",
       "1  ['the', 'devil', 'drives']   \n",
       "2    ['edge', 'of', 'hazard']   \n",
       "3    ['a', 'mingled', 'yarn']   \n",
       "4    ['love', 'is', 'enough']   \n",
       "\n",
       "                                            word_vec  \\\n",
       "0  [[-1.81372836e-01  1.97823837e-01 -7.73134887e...   \n",
       "1  [[-9.59224224e-01  1.22396159e+00 -6.39906406e...   \n",
       "2  [[-2.87398398e-02 -7.36244917e-02  1.42647075e...   \n",
       "3  [[ 3.78270075e-03  3.85284066e-01 -8.90050769e...   \n",
       "4  [[-6.29614413e-01 -7.17607141e-01 -1.16408551e...   \n",
       "\n",
       "                                             all_pos  \\\n",
       "0  [0, 0, 1, 0, 0, 0, 0, 0, 0, 0, 0, 0, 0, 0, 0, ...   \n",
       "1  [0, 0, 1, 0, 0, 0, 0, 0, 0, 0, 0, 0, 0, 0, 0, ...   \n",
       "2  [0, 0, 0, 0, 0, 0, 0, 0, 0, 1, 0, 0, 0, 0, 0, ...   \n",
       "3  [0, 0, 1, 0, 0, 0, 0, 0, 0, 0, 0, 0, 0, 0, 0, ...   \n",
       "4  [0, 0, 0, 0, 0, 0, 0, 0, 0, 1, 0, 0, 0, 0, 0, ...   \n",
       "\n",
       "                                             dp1_pos  \\\n",
       "0  [0, 1, 0, 0, 0, 0, 0, 0, 0, 0, 0, 0, 0, 0, 0, ...   \n",
       "1  [0, 1, 0, 0, 0, 0, 0, 0, 0, 0, 0, 0, 0, 0, 0, ...   \n",
       "2  [0, 0, 0, 0, 0, 0, 0, 0, 1, 0, 0, 0, 0, 0, 0, ...   \n",
       "3  [0, 1, 0, 0, 0, 0, 0, 0, 0, 0, 0, 0, 0, 0, 0, ...   \n",
       "4  [0, 0, 0, 0, 0, 0, 0, 0, 1, 0, 0, 0, 0, 0, 0, ...   \n",
       "\n",
       "                                                 w2v  \\\n",
       "0  [-0.181372836, 0.197823837, -0.773134887, -0.1...   \n",
       "1  [-0.959224224, 1.22396159, -0.639906406, -0.51...   \n",
       "2  [-0.0287398398, -0.0736244917, 0.0142647075, -...   \n",
       "3  [0.00378270075, 0.385284066, -0.890050769, 0.6...   \n",
       "4  [-0.629614413, -0.717607141, -1.16408551, -0.0...   \n",
       "\n",
       "                                             w2v_all  \\\n",
       "0  [-0.181372836, 0.197823837, -0.773134887, -0.1...   \n",
       "1  [-0.959224224, 1.22396159, -0.639906406, -0.51...   \n",
       "2  [-0.0287398398, -0.0736244917, 0.0142647075, -...   \n",
       "3  [0.00378270075, 0.385284066, -0.890050769, 0.6...   \n",
       "4  [-0.629614413, -0.717607141, -1.16408551, -0.0...   \n",
       "\n",
       "                                             w2v_dp1  \n",
       "0  [-0.181372836, 0.197823837, -0.773134887, -0.1...  \n",
       "1  [-0.959224224, 1.22396159, -0.639906406, -0.51...  \n",
       "2  [-0.0287398398, -0.0736244917, 0.0142647075, -...  \n",
       "3  [0.00378270075, 0.385284066, -0.890050769, 0.6...  \n",
       "4  [-0.629614413, -0.717607141, -1.16408551, -0.0...  "
      ]
     },
     "execution_count": 24,
     "metadata": {},
     "output_type": "execute_result"
    }
   ],
   "source": [
    "tritles = pd.read_pickle('../data/trigram_titles.pkl')\n",
    "tritles.head()"
   ]
  },
  {
   "cell_type": "code",
   "execution_count": 26,
   "metadata": {},
   "outputs": [
    {
     "name": "stdout",
     "output_type": "stream",
     "text": [
      "X length: 389\n"
     ]
    }
   ],
   "source": [
    "X = tritles['w2v_dp1'].tolist()\n",
    "y = tritles['good_title'].tolist()\n",
    "\n",
    "print('X length:', len(X))"
   ]
  },
  {
   "cell_type": "code",
   "execution_count": 27,
   "metadata": {},
   "outputs": [
    {
     "name": "stdout",
     "output_type": "stream",
     "text": [
      "X_train length: 291\n",
      "X_test length: 98\n"
     ]
    }
   ],
   "source": [
    "X_train, X_test, y_train, y_test = train_test_split(X, y, test_size=0.25, random_state=13)\n",
    "\n",
    "print('X_train length:', len(X_train))\n",
    "print('X_test length:', len(X_test))"
   ]
  },
  {
   "cell_type": "markdown",
   "metadata": {},
   "source": [
    "### Quick and dirty Gradient Boosting ###"
   ]
  },
  {
   "cell_type": "code",
   "execution_count": 28,
   "metadata": {},
   "outputs": [],
   "source": [
    "from sklearn.ensemble import GradientBoostingClassifier\n",
    "from sklearn.metrics import classification_report, confusion_matrix, precision_score, recall_score, plot_confusion_matrix\n",
    "import matplotlib.pyplot as plt"
   ]
  },
  {
   "cell_type": "code",
   "execution_count": 29,
   "metadata": {},
   "outputs": [
    {
     "data": {
      "text/plain": [
       "GradientBoostingClassifier(learning_rate=0.25, max_features=3, n_estimators=20)"
      ]
     },
     "execution_count": 29,
     "metadata": {},
     "output_type": "execute_result"
    }
   ],
   "source": [
    "gb = GradientBoostingClassifier(n_estimators=20, learning_rate = 0.25, max_features=3, max_depth=3)\n",
    "gb.fit(X, y)"
   ]
  },
  {
   "cell_type": "code",
   "execution_count": 51,
   "metadata": {},
   "outputs": [
    {
     "data": {
      "text/plain": [
       "463010"
      ]
     },
     "execution_count": 51,
     "metadata": {},
     "output_type": "execute_result"
    }
   ],
   "source": [
    "trigrams = trigram_df1['w2v_dp1'].tolist()\n",
    "len(trigrams)"
   ]
  },
  {
   "cell_type": "code",
   "execution_count": 52,
   "metadata": {},
   "outputs": [
    {
     "data": {
      "text/plain": [
       "463010"
      ]
     },
     "execution_count": 52,
     "metadata": {},
     "output_type": "execute_result"
    }
   ],
   "source": [
    "trigrams_gb_pred = gb.predict(trigrams)\n",
    "len(trigrams_gb_pred)"
   ]
  },
  {
   "cell_type": "code",
   "execution_count": 53,
   "metadata": {},
   "outputs": [
    {
     "name": "stderr",
     "output_type": "stream",
     "text": [
      "<ipython-input-53-daa1ff3f230b>:1: SettingWithCopyWarning: \n",
      "A value is trying to be set on a copy of a slice from a DataFrame.\n",
      "Try using .loc[row_indexer,col_indexer] = value instead\n",
      "\n",
      "See the caveats in the documentation: https://pandas.pydata.org/pandas-docs/stable/user_guide/indexing.html#returning-a-view-versus-a-copy\n",
      "  trigram_df1['gb_predict'] = trigrams_gb_pred\n"
     ]
    }
   ],
   "source": [
    "trigram_df1['gb_predict'] = trigrams_gb_pred"
   ]
  },
  {
   "cell_type": "code",
   "execution_count": 54,
   "metadata": {},
   "outputs": [
    {
     "data": {
      "text/html": [
       "<div>\n",
       "<style scoped>\n",
       "    .dataframe tbody tr th:only-of-type {\n",
       "        vertical-align: middle;\n",
       "    }\n",
       "\n",
       "    .dataframe tbody tr th {\n",
       "        vertical-align: top;\n",
       "    }\n",
       "\n",
       "    .dataframe thead th {\n",
       "        text-align: right;\n",
       "    }\n",
       "</style>\n",
       "<table border=\"1\" class=\"dataframe\">\n",
       "  <thead>\n",
       "    <tr style=\"text-align: right;\">\n",
       "      <th></th>\n",
       "      <th>title</th>\n",
       "      <th>w2v_dp1</th>\n",
       "      <th>gb_predict</th>\n",
       "    </tr>\n",
       "  </thead>\n",
       "  <tbody>\n",
       "    <tr>\n",
       "      <th>159254</th>\n",
       "      <td>heart to love</td>\n",
       "      <td>[-0.34995398, -0.8498512, -0.6974847, -0.21816...</td>\n",
       "      <td>0</td>\n",
       "    </tr>\n",
       "    <tr>\n",
       "      <th>226716</th>\n",
       "      <td>madam 's issue</td>\n",
       "      <td>[0.2680098, -0.7809406, -0.78897244, 0.0469814...</td>\n",
       "      <td>1</td>\n",
       "    </tr>\n",
       "    <tr>\n",
       "      <th>60985</th>\n",
       "      <td>blood of those</td>\n",
       "      <td>[-0.3302138, -0.5080056, -0.067953095, -0.7328...</td>\n",
       "      <td>1</td>\n",
       "    </tr>\n",
       "    <tr>\n",
       "      <th>476074</th>\n",
       "      <td>an ass.</td>\n",
       "      <td>[-0.28528678, -0.17003609, -0.59658694, 0.3876...</td>\n",
       "      <td>0</td>\n",
       "    </tr>\n",
       "    <tr>\n",
       "      <th>227646</th>\n",
       "      <td>maid loves you</td>\n",
       "      <td>[-0.0047082976, -0.4465701, -0.17737678, -0.28...</td>\n",
       "      <td>0</td>\n",
       "    </tr>\n",
       "    <tr>\n",
       "      <th>80522</th>\n",
       "      <td>climb a bird</td>\n",
       "      <td>[-0.06209028, -0.10127903, 0.082172066, -0.074...</td>\n",
       "      <td>1</td>\n",
       "    </tr>\n",
       "    <tr>\n",
       "      <th>359991</th>\n",
       "      <td>that ruin 'd</td>\n",
       "      <td>[-0.64482224, 0.39102697, -1.0360198, -0.16750...</td>\n",
       "      <td>1</td>\n",
       "    </tr>\n",
       "    <tr>\n",
       "      <th>340547</th>\n",
       "      <td>speak to lady</td>\n",
       "      <td>[-0.20972838, -0.3975131, -1.2067038, 0.636167...</td>\n",
       "      <td>0</td>\n",
       "    </tr>\n",
       "    <tr>\n",
       "      <th>134143</th>\n",
       "      <td>gave him gentle</td>\n",
       "      <td>[-0.6026336, 0.1635585, 0.378696, -0.8779464, ...</td>\n",
       "      <td>0</td>\n",
       "    </tr>\n",
       "    <tr>\n",
       "      <th>280539</th>\n",
       "      <td>of your servant</td>\n",
       "      <td>[-0.31132793, -0.26686984, 1.7738771, -0.93247...</td>\n",
       "      <td>1</td>\n",
       "    </tr>\n",
       "  </tbody>\n",
       "</table>\n",
       "</div>"
      ],
      "text/plain": [
       "                  title                                            w2v_dp1  \\\n",
       "159254    heart to love  [-0.34995398, -0.8498512, -0.6974847, -0.21816...   \n",
       "226716   madam 's issue  [0.2680098, -0.7809406, -0.78897244, 0.0469814...   \n",
       "60985    blood of those  [-0.3302138, -0.5080056, -0.067953095, -0.7328...   \n",
       "476074          an ass.  [-0.28528678, -0.17003609, -0.59658694, 0.3876...   \n",
       "227646   maid loves you  [-0.0047082976, -0.4465701, -0.17737678, -0.28...   \n",
       "80522      climb a bird  [-0.06209028, -0.10127903, 0.082172066, -0.074...   \n",
       "359991     that ruin 'd  [-0.64482224, 0.39102697, -1.0360198, -0.16750...   \n",
       "340547    speak to lady  [-0.20972838, -0.3975131, -1.2067038, 0.636167...   \n",
       "134143  gave him gentle  [-0.6026336, 0.1635585, 0.378696, -0.8779464, ...   \n",
       "280539  of your servant  [-0.31132793, -0.26686984, 1.7738771, -0.93247...   \n",
       "\n",
       "        gb_predict  \n",
       "159254           0  \n",
       "226716           1  \n",
       "60985            1  \n",
       "476074           0  \n",
       "227646           0  \n",
       "80522            1  \n",
       "359991           1  \n",
       "340547           0  \n",
       "134143           0  \n",
       "280539           1  "
      ]
     },
     "execution_count": 54,
     "metadata": {},
     "output_type": "execute_result"
    }
   ],
   "source": [
    "trigram_df1.sample(10)"
   ]
  },
  {
   "cell_type": "code",
   "execution_count": 55,
   "metadata": {},
   "outputs": [
    {
     "data": {
      "text/plain": [
       "463010"
      ]
     },
     "execution_count": 55,
     "metadata": {},
     "output_type": "execute_result"
    }
   ],
   "source": [
    "trigrams_gb_prob = gb.predict_proba(trigrams)\n",
    "len(trigrams_gb_prob)"
   ]
  },
  {
   "cell_type": "code",
   "execution_count": 56,
   "metadata": {},
   "outputs": [
    {
     "data": {
      "text/plain": [
       "array([0.82900037, 0.17099963])"
      ]
     },
     "execution_count": 56,
     "metadata": {},
     "output_type": "execute_result"
    }
   ],
   "source": [
    "trigrams_gb_prob[0]"
   ]
  },
  {
   "cell_type": "code",
   "execution_count": 57,
   "metadata": {},
   "outputs": [
    {
     "data": {
      "text/plain": [
       "463010"
      ]
     },
     "execution_count": 57,
     "metadata": {},
     "output_type": "execute_result"
    }
   ],
   "source": [
    "trigrams_gb_prob1 = trigrams_gb_prob[:, 1]\n",
    "len(trigrams_gb_prob1)"
   ]
  },
  {
   "cell_type": "code",
   "execution_count": 58,
   "metadata": {},
   "outputs": [
    {
     "name": "stderr",
     "output_type": "stream",
     "text": [
      "<ipython-input-58-933cbd19b3fd>:1: SettingWithCopyWarning: \n",
      "A value is trying to be set on a copy of a slice from a DataFrame.\n",
      "Try using .loc[row_indexer,col_indexer] = value instead\n",
      "\n",
      "See the caveats in the documentation: https://pandas.pydata.org/pandas-docs/stable/user_guide/indexing.html#returning-a-view-versus-a-copy\n",
      "  trigram_df1['gb_prob_good'] = trigrams_gb_prob1\n"
     ]
    }
   ],
   "source": [
    "trigram_df1['gb_prob_good'] = trigrams_gb_prob1"
   ]
  },
  {
   "cell_type": "code",
   "execution_count": 60,
   "metadata": {},
   "outputs": [
    {
     "data": {
      "text/html": [
       "<div>\n",
       "<style scoped>\n",
       "    .dataframe tbody tr th:only-of-type {\n",
       "        vertical-align: middle;\n",
       "    }\n",
       "\n",
       "    .dataframe tbody tr th {\n",
       "        vertical-align: top;\n",
       "    }\n",
       "\n",
       "    .dataframe thead th {\n",
       "        text-align: right;\n",
       "    }\n",
       "</style>\n",
       "<table border=\"1\" class=\"dataframe\">\n",
       "  <thead>\n",
       "    <tr style=\"text-align: right;\">\n",
       "      <th></th>\n",
       "      <th>title</th>\n",
       "      <th>w2v_dp1</th>\n",
       "      <th>gb_predict</th>\n",
       "      <th>gb_prob_good</th>\n",
       "    </tr>\n",
       "  </thead>\n",
       "  <tbody>\n",
       "    <tr>\n",
       "      <th>26829</th>\n",
       "      <td>and last .</td>\n",
       "      <td>[-0.10478376, -0.68211913, -0.2959186, -0.3051...</td>\n",
       "      <td>0</td>\n",
       "      <td>0.029097</td>\n",
       "    </tr>\n",
       "    <tr>\n",
       "      <th>66122</th>\n",
       "      <td>brought to rome</td>\n",
       "      <td>[-0.4752566, 0.20057973, -0.15366063, -0.20489...</td>\n",
       "      <td>1</td>\n",
       "      <td>0.510182</td>\n",
       "    </tr>\n",
       "    <tr>\n",
       "      <th>478928</th>\n",
       "      <td>say nothing.</td>\n",
       "      <td>[-0.19100034, -0.52873445, -1.2243825, -0.5014...</td>\n",
       "      <td>0</td>\n",
       "      <td>0.009739</td>\n",
       "    </tr>\n",
       "    <tr>\n",
       "      <th>410068</th>\n",
       "      <td>to quench the</td>\n",
       "      <td>[-1.1612555, 0.4171042, -0.38751802, -0.094741...</td>\n",
       "      <td>0</td>\n",
       "      <td>0.037460</td>\n",
       "    </tr>\n",
       "    <tr>\n",
       "      <th>351524</th>\n",
       "      <td>takes a buzzard</td>\n",
       "      <td>[-0.21287109, 0.026335724, 0.16273732, -0.2999...</td>\n",
       "      <td>1</td>\n",
       "      <td>0.714063</td>\n",
       "    </tr>\n",
       "    <tr>\n",
       "      <th>454745</th>\n",
       "      <td>with merry look</td>\n",
       "      <td>[-0.77490854, 0.077378824, 0.5287661, -0.51774...</td>\n",
       "      <td>0</td>\n",
       "      <td>0.483199</td>\n",
       "    </tr>\n",
       "    <tr>\n",
       "      <th>352496</th>\n",
       "      <td>tear her all</td>\n",
       "      <td>[-0.16486509, -0.16000119, 0.09397901, -0.0616...</td>\n",
       "      <td>0</td>\n",
       "      <td>0.297886</td>\n",
       "    </tr>\n",
       "    <tr>\n",
       "      <th>383494</th>\n",
       "      <td>there that knocks</td>\n",
       "      <td>[-0.8403162, 0.685283, -0.6369833, -0.6525358,...</td>\n",
       "      <td>0</td>\n",
       "      <td>0.447135</td>\n",
       "    </tr>\n",
       "    <tr>\n",
       "      <th>189922</th>\n",
       "      <td>in fight many</td>\n",
       "      <td>[-1.1804608, 0.88281506, 0.58544093, -1.354299...</td>\n",
       "      <td>1</td>\n",
       "      <td>0.557311</td>\n",
       "    </tr>\n",
       "    <tr>\n",
       "      <th>77768</th>\n",
       "      <td>chain nor money</td>\n",
       "      <td>[-0.087801635, -0.087214895, -0.08119573, -0.0...</td>\n",
       "      <td>1</td>\n",
       "      <td>0.829297</td>\n",
       "    </tr>\n",
       "  </tbody>\n",
       "</table>\n",
       "</div>"
      ],
      "text/plain": [
       "                    title                                            w2v_dp1  \\\n",
       "26829          and last .  [-0.10478376, -0.68211913, -0.2959186, -0.3051...   \n",
       "66122     brought to rome  [-0.4752566, 0.20057973, -0.15366063, -0.20489...   \n",
       "478928       say nothing.  [-0.19100034, -0.52873445, -1.2243825, -0.5014...   \n",
       "410068      to quench the  [-1.1612555, 0.4171042, -0.38751802, -0.094741...   \n",
       "351524    takes a buzzard  [-0.21287109, 0.026335724, 0.16273732, -0.2999...   \n",
       "454745    with merry look  [-0.77490854, 0.077378824, 0.5287661, -0.51774...   \n",
       "352496       tear her all  [-0.16486509, -0.16000119, 0.09397901, -0.0616...   \n",
       "383494  there that knocks  [-0.8403162, 0.685283, -0.6369833, -0.6525358,...   \n",
       "189922      in fight many  [-1.1804608, 0.88281506, 0.58544093, -1.354299...   \n",
       "77768     chain nor money  [-0.087801635, -0.087214895, -0.08119573, -0.0...   \n",
       "\n",
       "        gb_predict  gb_prob_good  \n",
       "26829            0      0.029097  \n",
       "66122            1      0.510182  \n",
       "478928           0      0.009739  \n",
       "410068           0      0.037460  \n",
       "351524           1      0.714063  \n",
       "454745           0      0.483199  \n",
       "352496           0      0.297886  \n",
       "383494           0      0.447135  \n",
       "189922           1      0.557311  \n",
       "77768            1      0.829297  "
      ]
     },
     "execution_count": 60,
     "metadata": {},
     "output_type": "execute_result"
    }
   ],
   "source": [
    "trigram_df1.sample(10)"
   ]
  },
  {
   "cell_type": "code",
   "execution_count": 63,
   "metadata": {},
   "outputs": [
    {
     "data": {
      "text/plain": [
       "0    316386\n",
       "1    146624\n",
       "Name: gb_predict, dtype: int64"
      ]
     },
     "execution_count": 63,
     "metadata": {},
     "output_type": "execute_result"
    }
   ],
   "source": [
    "trigram_df1.gb_predict.value_counts()"
   ]
  },
  {
   "cell_type": "code",
   "execution_count": 64,
   "metadata": {},
   "outputs": [
    {
     "data": {
      "text/plain": [
       "(5126, 4)"
      ]
     },
     "execution_count": 64,
     "metadata": {},
     "output_type": "execute_result"
    }
   ],
   "source": [
    "best_trigram_df1 = trigram_df1[trigram_df1['gb_prob_good']>0.95]\n",
    "best_trigram_df1.shape"
   ]
  },
  {
   "cell_type": "code",
   "execution_count": 65,
   "metadata": {},
   "outputs": [
    {
     "data": {
      "text/html": [
       "<div>\n",
       "<style scoped>\n",
       "    .dataframe tbody tr th:only-of-type {\n",
       "        vertical-align: middle;\n",
       "    }\n",
       "\n",
       "    .dataframe tbody tr th {\n",
       "        vertical-align: top;\n",
       "    }\n",
       "\n",
       "    .dataframe thead th {\n",
       "        text-align: right;\n",
       "    }\n",
       "</style>\n",
       "<table border=\"1\" class=\"dataframe\">\n",
       "  <thead>\n",
       "    <tr style=\"text-align: right;\">\n",
       "      <th></th>\n",
       "      <th>title</th>\n",
       "      <th>w2v_dp1</th>\n",
       "      <th>gb_predict</th>\n",
       "      <th>gb_prob_good</th>\n",
       "    </tr>\n",
       "  </thead>\n",
       "  <tbody>\n",
       "    <tr>\n",
       "      <th>167949</th>\n",
       "      <td>hire and salary</td>\n",
       "      <td>[-0.058974907, -0.0484734, -0.005097392, -0.04...</td>\n",
       "      <td>1</td>\n",
       "      <td>0.950857</td>\n",
       "    </tr>\n",
       "    <tr>\n",
       "      <th>375572</th>\n",
       "      <td>the treacherous fastolfe</td>\n",
       "      <td>[-0.9592242, 1.2239616, -0.6399064, -0.5107603...</td>\n",
       "      <td>1</td>\n",
       "      <td>0.962702</td>\n",
       "    </tr>\n",
       "    <tr>\n",
       "      <th>40006</th>\n",
       "      <td>argument of laughter</td>\n",
       "      <td>[-0.009905877, -0.19216216, -0.05747888, -0.13...</td>\n",
       "      <td>1</td>\n",
       "      <td>0.953738</td>\n",
       "    </tr>\n",
       "    <tr>\n",
       "      <th>56263</th>\n",
       "      <td>beggar 's shop</td>\n",
       "      <td>[-0.09412348, -0.21223709, 0.048542943, -0.239...</td>\n",
       "      <td>1</td>\n",
       "      <td>0.962065</td>\n",
       "    </tr>\n",
       "    <tr>\n",
       "      <th>40484</th>\n",
       "      <td>array and discovers</td>\n",
       "      <td>[-0.04561496, -0.052424826, 0.031467166, -0.02...</td>\n",
       "      <td>1</td>\n",
       "      <td>0.951165</td>\n",
       "    </tr>\n",
       "    <tr>\n",
       "      <th>349423</th>\n",
       "      <td>sweet and commendable</td>\n",
       "      <td>[0.13979746, -0.75366306, -0.05499994, -0.0310...</td>\n",
       "      <td>1</td>\n",
       "      <td>0.950857</td>\n",
       "    </tr>\n",
       "    <tr>\n",
       "      <th>296730</th>\n",
       "      <td>piece of beef</td>\n",
       "      <td>[0.029170575, -0.21971823, -0.08739941, -0.201...</td>\n",
       "      <td>1</td>\n",
       "      <td>0.953738</td>\n",
       "    </tr>\n",
       "    <tr>\n",
       "      <th>238565</th>\n",
       "      <td>men 's cries</td>\n",
       "      <td>[0.06564764, -0.24105583, -1.0668426, -0.12901...</td>\n",
       "      <td>1</td>\n",
       "      <td>0.958673</td>\n",
       "    </tr>\n",
       "    <tr>\n",
       "      <th>302873</th>\n",
       "      <td>prisoners of esteem</td>\n",
       "      <td>[-0.012633213, -0.07992697, 0.037501335, -0.02...</td>\n",
       "      <td>1</td>\n",
       "      <td>0.960619</td>\n",
       "    </tr>\n",
       "    <tr>\n",
       "      <th>295098</th>\n",
       "      <td>pedlar 's excrement</td>\n",
       "      <td>[-0.008986839, -0.025809916, -0.008280418, -0....</td>\n",
       "      <td>1</td>\n",
       "      <td>0.958835</td>\n",
       "    </tr>\n",
       "    <tr>\n",
       "      <th>365742</th>\n",
       "      <td>the eastern pines</td>\n",
       "      <td>[-0.9592242, 1.2239616, -0.6399064, -0.5107603...</td>\n",
       "      <td>1</td>\n",
       "      <td>0.954852</td>\n",
       "    </tr>\n",
       "    <tr>\n",
       "      <th>317365</th>\n",
       "      <td>scale of dragon</td>\n",
       "      <td>[-0.0007684338, -0.0397351, 0.029206393, -0.02...</td>\n",
       "      <td>1</td>\n",
       "      <td>0.954029</td>\n",
       "    </tr>\n",
       "    <tr>\n",
       "      <th>373751</th>\n",
       "      <td>the self-same sky</td>\n",
       "      <td>[-0.9592242, 1.2239616, -0.6399064, -0.5107603...</td>\n",
       "      <td>1</td>\n",
       "      <td>0.950114</td>\n",
       "    </tr>\n",
       "    <tr>\n",
       "      <th>113458</th>\n",
       "      <td>extremity of dire</td>\n",
       "      <td>[-0.014517218, -0.123896435, -0.009226918, -0....</td>\n",
       "      <td>1</td>\n",
       "      <td>0.954029</td>\n",
       "    </tr>\n",
       "    <tr>\n",
       "      <th>160514</th>\n",
       "      <td>heir of ilion</td>\n",
       "      <td>[-0.15731333, -0.18852027, 0.20758782, -0.3833...</td>\n",
       "      <td>1</td>\n",
       "      <td>0.953197</td>\n",
       "    </tr>\n",
       "  </tbody>\n",
       "</table>\n",
       "</div>"
      ],
      "text/plain": [
       "                           title  \\\n",
       "167949           hire and salary   \n",
       "375572  the treacherous fastolfe   \n",
       "40006       argument of laughter   \n",
       "56263             beggar 's shop   \n",
       "40484        array and discovers   \n",
       "349423     sweet and commendable   \n",
       "296730             piece of beef   \n",
       "238565              men 's cries   \n",
       "302873       prisoners of esteem   \n",
       "295098       pedlar 's excrement   \n",
       "365742         the eastern pines   \n",
       "317365           scale of dragon   \n",
       "373751         the self-same sky   \n",
       "113458         extremity of dire   \n",
       "160514             heir of ilion   \n",
       "\n",
       "                                                  w2v_dp1  gb_predict  \\\n",
       "167949  [-0.058974907, -0.0484734, -0.005097392, -0.04...           1   \n",
       "375572  [-0.9592242, 1.2239616, -0.6399064, -0.5107603...           1   \n",
       "40006   [-0.009905877, -0.19216216, -0.05747888, -0.13...           1   \n",
       "56263   [-0.09412348, -0.21223709, 0.048542943, -0.239...           1   \n",
       "40484   [-0.04561496, -0.052424826, 0.031467166, -0.02...           1   \n",
       "349423  [0.13979746, -0.75366306, -0.05499994, -0.0310...           1   \n",
       "296730  [0.029170575, -0.21971823, -0.08739941, -0.201...           1   \n",
       "238565  [0.06564764, -0.24105583, -1.0668426, -0.12901...           1   \n",
       "302873  [-0.012633213, -0.07992697, 0.037501335, -0.02...           1   \n",
       "295098  [-0.008986839, -0.025809916, -0.008280418, -0....           1   \n",
       "365742  [-0.9592242, 1.2239616, -0.6399064, -0.5107603...           1   \n",
       "317365  [-0.0007684338, -0.0397351, 0.029206393, -0.02...           1   \n",
       "373751  [-0.9592242, 1.2239616, -0.6399064, -0.5107603...           1   \n",
       "113458  [-0.014517218, -0.123896435, -0.009226918, -0....           1   \n",
       "160514  [-0.15731333, -0.18852027, 0.20758782, -0.3833...           1   \n",
       "\n",
       "        gb_prob_good  \n",
       "167949      0.950857  \n",
       "375572      0.962702  \n",
       "40006       0.953738  \n",
       "56263       0.962065  \n",
       "40484       0.951165  \n",
       "349423      0.950857  \n",
       "296730      0.953738  \n",
       "238565      0.958673  \n",
       "302873      0.960619  \n",
       "295098      0.958835  \n",
       "365742      0.954852  \n",
       "317365      0.954029  \n",
       "373751      0.950114  \n",
       "113458      0.954029  \n",
       "160514      0.953197  "
      ]
     },
     "execution_count": 65,
     "metadata": {},
     "output_type": "execute_result"
    }
   ],
   "source": [
    "best_trigram_df1.sample(15)"
   ]
  },
  {
   "cell_type": "markdown",
   "metadata": {},
   "source": [
    "*Arguement of Laughter*... *Prisoners of Esteem*... *The Self-Same Sky*... these are amazing. \n",
    "\n",
    "I'm not so crazy about *Pedlar's Excrement* though. But you can't win them all. "
   ]
  },
  {
   "cell_type": "markdown",
   "metadata": {},
   "source": [
    "### Quick and dirty SVM ###"
   ]
  },
  {
   "cell_type": "code",
   "execution_count": 67,
   "metadata": {},
   "outputs": [],
   "source": [
    "from sklearn import svm"
   ]
  },
  {
   "cell_type": "code",
   "execution_count": 71,
   "metadata": {},
   "outputs": [
    {
     "data": {
      "text/plain": [
       "SVC(C=0.01, kernel='linear', probability=True)"
      ]
     },
     "execution_count": 71,
     "metadata": {},
     "output_type": "execute_result"
    }
   ],
   "source": [
    "clf = svm.SVC(C=0.01, kernel='linear', probability=True)\n",
    "clf.fit(X, y)\n"
   ]
  },
  {
   "cell_type": "code",
   "execution_count": 69,
   "metadata": {},
   "outputs": [
    {
     "data": {
      "text/plain": [
       "463010"
      ]
     },
     "execution_count": 69,
     "metadata": {},
     "output_type": "execute_result"
    }
   ],
   "source": [
    "trigrams_svm_pred = clf.predict(trigrams)\n",
    "len(trigrams_svm_pred)"
   ]
  },
  {
   "cell_type": "code",
   "execution_count": 72,
   "metadata": {},
   "outputs": [
    {
     "data": {
      "text/plain": [
       "463010"
      ]
     },
     "execution_count": 72,
     "metadata": {},
     "output_type": "execute_result"
    }
   ],
   "source": [
    "trigrams_svm_prob = clf.predict_proba(trigrams)\n",
    "len(trigrams_svm_prob)"
   ]
  },
  {
   "cell_type": "code",
   "execution_count": 74,
   "metadata": {},
   "outputs": [
    {
     "data": {
      "text/plain": [
       "463010"
      ]
     },
     "execution_count": 74,
     "metadata": {},
     "output_type": "execute_result"
    }
   ],
   "source": [
    "trigrams_svm_prob1 = trigrams_svm_prob[:, 1]\n",
    "len(trigrams_svm_prob1)"
   ]
  },
  {
   "cell_type": "code",
   "execution_count": 75,
   "metadata": {},
   "outputs": [
    {
     "name": "stderr",
     "output_type": "stream",
     "text": [
      "<ipython-input-75-ff71898d9115>:1: SettingWithCopyWarning: \n",
      "A value is trying to be set on a copy of a slice from a DataFrame.\n",
      "Try using .loc[row_indexer,col_indexer] = value instead\n",
      "\n",
      "See the caveats in the documentation: https://pandas.pydata.org/pandas-docs/stable/user_guide/indexing.html#returning-a-view-versus-a-copy\n",
      "  trigram_df1['svm_predict'] = trigrams_svm_pred\n",
      "<ipython-input-75-ff71898d9115>:2: SettingWithCopyWarning: \n",
      "A value is trying to be set on a copy of a slice from a DataFrame.\n",
      "Try using .loc[row_indexer,col_indexer] = value instead\n",
      "\n",
      "See the caveats in the documentation: https://pandas.pydata.org/pandas-docs/stable/user_guide/indexing.html#returning-a-view-versus-a-copy\n",
      "  trigram_df1['svm_prob_good'] = trigrams_svm_prob1\n"
     ]
    }
   ],
   "source": [
    "trigram_df1['svm_predict'] = trigrams_svm_pred\n",
    "trigram_df1['svm_prob_good'] = trigrams_svm_prob1"
   ]
  },
  {
   "cell_type": "code",
   "execution_count": 93,
   "metadata": {},
   "outputs": [
    {
     "data": {
      "text/html": [
       "<div>\n",
       "<style scoped>\n",
       "    .dataframe tbody tr th:only-of-type {\n",
       "        vertical-align: middle;\n",
       "    }\n",
       "\n",
       "    .dataframe tbody tr th {\n",
       "        vertical-align: top;\n",
       "    }\n",
       "\n",
       "    .dataframe thead th {\n",
       "        text-align: right;\n",
       "    }\n",
       "</style>\n",
       "<table border=\"1\" class=\"dataframe\">\n",
       "  <thead>\n",
       "    <tr style=\"text-align: right;\">\n",
       "      <th></th>\n",
       "      <th>title</th>\n",
       "      <th>w2v_dp1</th>\n",
       "      <th>gb_predict</th>\n",
       "      <th>gb_prob_good</th>\n",
       "      <th>svm_predict</th>\n",
       "      <th>svm_prob_good</th>\n",
       "    </tr>\n",
       "  </thead>\n",
       "  <tbody>\n",
       "    <tr>\n",
       "      <th>304533</th>\n",
       "      <td>proved us unspeaking</td>\n",
       "      <td>[-0.031515755, -0.13643716, 0.07576506, -0.142...</td>\n",
       "      <td>0</td>\n",
       "      <td>0.480720</td>\n",
       "      <td>1</td>\n",
       "      <td>0.816097</td>\n",
       "    </tr>\n",
       "    <tr>\n",
       "      <th>278483</th>\n",
       "      <td>of the policy</td>\n",
       "      <td>[-0.31132793, -0.26686984, 1.7738771, -0.93247...</td>\n",
       "      <td>1</td>\n",
       "      <td>0.736033</td>\n",
       "      <td>1</td>\n",
       "      <td>0.867704</td>\n",
       "    </tr>\n",
       "    <tr>\n",
       "      <th>87227</th>\n",
       "      <td>court ? for</td>\n",
       "      <td>[-0.08887651, 0.027021643, -0.3681678, -0.1796...</td>\n",
       "      <td>1</td>\n",
       "      <td>0.544628</td>\n",
       "      <td>0</td>\n",
       "      <td>0.003502</td>\n",
       "    </tr>\n",
       "    <tr>\n",
       "      <th>414282</th>\n",
       "      <td>told over ,</td>\n",
       "      <td>[-0.33401957, 0.08277936, -0.21415152, -0.7141...</td>\n",
       "      <td>0</td>\n",
       "      <td>0.213293</td>\n",
       "      <td>0</td>\n",
       "      <td>0.334092</td>\n",
       "    </tr>\n",
       "    <tr>\n",
       "      <th>288871</th>\n",
       "      <td>our eyelids sink</td>\n",
       "      <td>[-0.13563357, 0.89598817, 0.35377324, -0.01002...</td>\n",
       "      <td>1</td>\n",
       "      <td>0.829651</td>\n",
       "      <td>1</td>\n",
       "      <td>0.856944</td>\n",
       "    </tr>\n",
       "  </tbody>\n",
       "</table>\n",
       "</div>"
      ],
      "text/plain": [
       "                       title  \\\n",
       "304533  proved us unspeaking   \n",
       "278483         of the policy   \n",
       "87227            court ? for   \n",
       "414282           told over ,   \n",
       "288871      our eyelids sink   \n",
       "\n",
       "                                                  w2v_dp1  gb_predict  \\\n",
       "304533  [-0.031515755, -0.13643716, 0.07576506, -0.142...           0   \n",
       "278483  [-0.31132793, -0.26686984, 1.7738771, -0.93247...           1   \n",
       "87227   [-0.08887651, 0.027021643, -0.3681678, -0.1796...           1   \n",
       "414282  [-0.33401957, 0.08277936, -0.21415152, -0.7141...           0   \n",
       "288871  [-0.13563357, 0.89598817, 0.35377324, -0.01002...           1   \n",
       "\n",
       "        gb_prob_good  svm_predict  svm_prob_good  \n",
       "304533      0.480720            1       0.816097  \n",
       "278483      0.736033            1       0.867704  \n",
       "87227       0.544628            0       0.003502  \n",
       "414282      0.213293            0       0.334092  \n",
       "288871      0.829651            1       0.856944  "
      ]
     },
     "execution_count": 93,
     "metadata": {},
     "output_type": "execute_result"
    }
   ],
   "source": [
    "trigram_df1.sample(5)"
   ]
  },
  {
   "cell_type": "markdown",
   "metadata": {},
   "source": [
    "These are all over the place. Some the same, some so different! Let's dig deeper..."
   ]
  },
  {
   "cell_type": "code",
   "execution_count": 94,
   "metadata": {},
   "outputs": [
    {
     "name": "stdout",
     "output_type": "stream",
     "text": [
      "Title prediction counts by gb: 0    316386\n",
      "1    146624\n",
      "Name: gb_predict, dtype: int64\n",
      "Title prediction counts by svm: 0    307504\n",
      "1    155506\n",
      "Name: svm_predict, dtype: int64\n"
     ]
    }
   ],
   "source": [
    "print('Title prediction counts by gb:', trigram_df1.gb_predict.value_counts())\n",
    "print('Title prediction counts by svm:', trigram_df1.svm_predict.value_counts())"
   ]
  },
  {
   "cell_type": "code",
   "execution_count": 103,
   "metadata": {},
   "outputs": [
    {
     "data": {
      "text/plain": [
       "190012"
      ]
     },
     "execution_count": 103,
     "metadata": {},
     "output_type": "execute_result"
    }
   ],
   "source": [
    "good_trigram_df1 = trigram_df1[(trigram_df1['gb_predict'] == 1) | (trigram_df1['svm_predict'] == 1)]\n",
    "len(good_trigram_df1)"
   ]
  },
  {
   "cell_type": "code",
   "execution_count": 105,
   "metadata": {},
   "outputs": [
    {
     "data": {
      "text/html": [
       "<div>\n",
       "<style scoped>\n",
       "    .dataframe tbody tr th:only-of-type {\n",
       "        vertical-align: middle;\n",
       "    }\n",
       "\n",
       "    .dataframe tbody tr th {\n",
       "        vertical-align: top;\n",
       "    }\n",
       "\n",
       "    .dataframe thead th {\n",
       "        text-align: right;\n",
       "    }\n",
       "</style>\n",
       "<table border=\"1\" class=\"dataframe\">\n",
       "  <thead>\n",
       "    <tr style=\"text-align: right;\">\n",
       "      <th></th>\n",
       "      <th>title</th>\n",
       "      <th>w2v_dp1</th>\n",
       "      <th>gb_predict</th>\n",
       "      <th>gb_prob_good</th>\n",
       "      <th>svm_predict</th>\n",
       "      <th>svm_prob_good</th>\n",
       "    </tr>\n",
       "  </thead>\n",
       "  <tbody>\n",
       "    <tr>\n",
       "      <th>104532</th>\n",
       "      <td>drunk for want</td>\n",
       "      <td>[-0.09995695, -0.13167341, 0.02843242, -0.0306...</td>\n",
       "      <td>1</td>\n",
       "      <td>0.866293</td>\n",
       "      <td>1</td>\n",
       "      <td>0.845226</td>\n",
       "    </tr>\n",
       "    <tr>\n",
       "      <th>204437</th>\n",
       "      <td>it is thy</td>\n",
       "      <td>[-0.8925493, -0.51405305, -1.1422137, 0.412834...</td>\n",
       "      <td>0</td>\n",
       "      <td>0.327066</td>\n",
       "      <td>1</td>\n",
       "      <td>0.562072</td>\n",
       "    </tr>\n",
       "    <tr>\n",
       "      <th>243863</th>\n",
       "      <td>more o n't</td>\n",
       "      <td>[0.5773399, 0.52906954, -0.46397382, 0.5363846...</td>\n",
       "      <td>1</td>\n",
       "      <td>0.573495</td>\n",
       "      <td>1</td>\n",
       "      <td>0.936790</td>\n",
       "    </tr>\n",
       "    <tr>\n",
       "      <th>387288</th>\n",
       "      <td>thine only son</td>\n",
       "      <td>[-0.7671214, -0.17118041, 0.5021301, 0.3575905...</td>\n",
       "      <td>1</td>\n",
       "      <td>0.541305</td>\n",
       "      <td>1</td>\n",
       "      <td>0.974304</td>\n",
       "    </tr>\n",
       "    <tr>\n",
       "      <th>294974</th>\n",
       "      <td>peace with god</td>\n",
       "      <td>[-0.0007286199, -0.17796989, -0.5997517, 0.307...</td>\n",
       "      <td>1</td>\n",
       "      <td>0.779039</td>\n",
       "      <td>1</td>\n",
       "      <td>0.970281</td>\n",
       "    </tr>\n",
       "  </tbody>\n",
       "</table>\n",
       "</div>"
      ],
      "text/plain": [
       "                 title                                            w2v_dp1  \\\n",
       "104532  drunk for want  [-0.09995695, -0.13167341, 0.02843242, -0.0306...   \n",
       "204437       it is thy  [-0.8925493, -0.51405305, -1.1422137, 0.412834...   \n",
       "243863      more o n't  [0.5773399, 0.52906954, -0.46397382, 0.5363846...   \n",
       "387288  thine only son  [-0.7671214, -0.17118041, 0.5021301, 0.3575905...   \n",
       "294974  peace with god  [-0.0007286199, -0.17796989, -0.5997517, 0.307...   \n",
       "\n",
       "        gb_predict  gb_prob_good  svm_predict  svm_prob_good  \n",
       "104532           1      0.866293            1       0.845226  \n",
       "204437           0      0.327066            1       0.562072  \n",
       "243863           1      0.573495            1       0.936790  \n",
       "387288           1      0.541305            1       0.974304  \n",
       "294974           1      0.779039            1       0.970281  "
      ]
     },
     "execution_count": 105,
     "metadata": {},
     "output_type": "execute_result"
    }
   ],
   "source": [
    "good_trigram_df1.sample(5)"
   ]
  },
  {
   "cell_type": "markdown",
   "metadata": {},
   "source": [
    "### Quick and dirty RNN ###"
   ]
  },
  {
   "cell_type": "code",
   "execution_count": 106,
   "metadata": {},
   "outputs": [],
   "source": [
    "Xr = np.asarray(X).astype('float32')\n",
    "yr = np.asarray(y).astype('float32')\n",
    "trigramsr = np.asarray(trigrams).astype('float32')"
   ]
  },
  {
   "cell_type": "code",
   "execution_count": 107,
   "metadata": {},
   "outputs": [],
   "source": [
    "import keras.backend as K\n",
    "from keras.layers import Dense\n",
    "from keras.models import Sequential"
   ]
  },
  {
   "cell_type": "code",
   "execution_count": 108,
   "metadata": {},
   "outputs": [
    {
     "data": {
      "text/plain": [
       "(389, 678)"
      ]
     },
     "execution_count": 108,
     "metadata": {},
     "output_type": "execute_result"
    }
   ],
   "source": [
    "Xr.shape"
   ]
  },
  {
   "cell_type": "code",
   "execution_count": 111,
   "metadata": {},
   "outputs": [
    {
     "name": "stdout",
     "output_type": "stream",
     "text": [
      "13/13 [==============================] - 0s 1ms/step - loss: 0.2605 - accuracy: 0.9794\n",
      "Accuracy: 97.94\n"
     ]
    }
   ],
   "source": [
    "model = Sequential()\n",
    "\n",
    "model = Sequential()\n",
    "model.add(Dense(4, input_dim=678, activation='relu'))\n",
    "model.add(Dense(4, activation='relu'))\n",
    "model.add(Dense(1, activation='sigmoid'))\n",
    "model.compile(loss='binary_crossentropy', optimizer='adam', metrics=['accuracy'])\n",
    "model.fit(Xr, yr, epochs=20, verbose=0)\n",
    "\n",
    "_, accuracy = model.evaluate(Xr, yr)\n",
    "print('Accuracy: %.2f' % (accuracy*100))"
   ]
  },
  {
   "cell_type": "code",
   "execution_count": 112,
   "metadata": {},
   "outputs": [],
   "source": [
    "predictions = model.predict(trigramsr)"
   ]
  },
  {
   "cell_type": "code",
   "execution_count": 120,
   "metadata": {},
   "outputs": [
    {
     "data": {
      "text/plain": [
       "array([[0.03357455],\n",
       "       [0.01634842],\n",
       "       [0.03149447],\n",
       "       [0.64665926],\n",
       "       [0.65041906]], dtype=float32)"
      ]
     },
     "execution_count": 120,
     "metadata": {},
     "output_type": "execute_result"
    }
   ],
   "source": [
    "predictions[100:105]"
   ]
  },
  {
   "cell_type": "code",
   "execution_count": 118,
   "metadata": {},
   "outputs": [],
   "source": [
    "rounded = [round(x[0]) for x in predictions]"
   ]
  },
  {
   "cell_type": "code",
   "execution_count": 122,
   "metadata": {},
   "outputs": [
    {
     "name": "stderr",
     "output_type": "stream",
     "text": [
      "<ipython-input-122-15b55b42414b>:1: SettingWithCopyWarning: \n",
      "A value is trying to be set on a copy of a slice from a DataFrame.\n",
      "Try using .loc[row_indexer,col_indexer] = value instead\n",
      "\n",
      "See the caveats in the documentation: https://pandas.pydata.org/pandas-docs/stable/user_guide/indexing.html#returning-a-view-versus-a-copy\n",
      "  trigram_df1['rnn_predict'] = rounded\n",
      "<ipython-input-122-15b55b42414b>:2: SettingWithCopyWarning: \n",
      "A value is trying to be set on a copy of a slice from a DataFrame.\n",
      "Try using .loc[row_indexer,col_indexer] = value instead\n",
      "\n",
      "See the caveats in the documentation: https://pandas.pydata.org/pandas-docs/stable/user_guide/indexing.html#returning-a-view-versus-a-copy\n",
      "  trigram_df1['rnn_prob_good'] = predictions\n"
     ]
    },
    {
     "data": {
      "text/html": [
       "<div>\n",
       "<style scoped>\n",
       "    .dataframe tbody tr th:only-of-type {\n",
       "        vertical-align: middle;\n",
       "    }\n",
       "\n",
       "    .dataframe tbody tr th {\n",
       "        vertical-align: top;\n",
       "    }\n",
       "\n",
       "    .dataframe thead th {\n",
       "        text-align: right;\n",
       "    }\n",
       "</style>\n",
       "<table border=\"1\" class=\"dataframe\">\n",
       "  <thead>\n",
       "    <tr style=\"text-align: right;\">\n",
       "      <th></th>\n",
       "      <th>title</th>\n",
       "      <th>w2v_dp1</th>\n",
       "      <th>gb_predict</th>\n",
       "      <th>gb_prob_good</th>\n",
       "      <th>svm_predict</th>\n",
       "      <th>svm_prob_good</th>\n",
       "      <th>rnn_predict</th>\n",
       "      <th>rnn_prob_good</th>\n",
       "    </tr>\n",
       "  </thead>\n",
       "  <tbody>\n",
       "    <tr>\n",
       "      <th>396627</th>\n",
       "      <td>thou wilt frame</td>\n",
       "      <td>[-0.6872282, -3.232688, 1.1388466, -0.7118684,...</td>\n",
       "      <td>1</td>\n",
       "      <td>0.639294</td>\n",
       "      <td>1</td>\n",
       "      <td>0.984371</td>\n",
       "      <td>0</td>\n",
       "      <td>0.258565</td>\n",
       "    </tr>\n",
       "  </tbody>\n",
       "</table>\n",
       "</div>"
      ],
      "text/plain": [
       "                  title                                            w2v_dp1  \\\n",
       "396627  thou wilt frame  [-0.6872282, -3.232688, 1.1388466, -0.7118684,...   \n",
       "\n",
       "        gb_predict  gb_prob_good  svm_predict  svm_prob_good  rnn_predict  \\\n",
       "396627           1      0.639294            1       0.984371            0   \n",
       "\n",
       "        rnn_prob_good  \n",
       "396627       0.258565  "
      ]
     },
     "execution_count": 122,
     "metadata": {},
     "output_type": "execute_result"
    }
   ],
   "source": [
    "trigram_df1['rnn_predict'] = rounded\n",
    "trigram_df1['rnn_prob_good'] = predictions\n",
    "\n",
    "trigram_df1.sample()"
   ]
  },
  {
   "cell_type": "code",
   "execution_count": 123,
   "metadata": {},
   "outputs": [
    {
     "name": "stdout",
     "output_type": "stream",
     "text": [
      "Title prediction counts by gb:\n",
      " 0    316386\n",
      "1    146624\n",
      "Name: gb_predict, dtype: int64\n",
      "Title prediction counts by svm:\n",
      " 0    307504\n",
      "1    155506\n",
      "Name: svm_predict, dtype: int64\n",
      "Title prediction counts by rnn:\n",
      " 0    358095\n",
      "1    104915\n",
      "Name: rnn_predict, dtype: int64\n"
     ]
    }
   ],
   "source": [
    "print('Title prediction counts by gb:\\n', trigram_df1.gb_predict.value_counts())\n",
    "print('Title prediction counts by svm:\\n', trigram_df1.svm_predict.value_counts())\n",
    "print('Title prediction counts by rnn:\\n', trigram_df1.rnn_predict.value_counts())"
   ]
  },
  {
   "cell_type": "code",
   "execution_count": 124,
   "metadata": {},
   "outputs": [
    {
     "data": {
      "text/plain": [
       "(191195, 8)"
      ]
     },
     "execution_count": 124,
     "metadata": {},
     "output_type": "execute_result"
    }
   ],
   "source": [
    "good_trigram_df1 = trigram_df1[(trigram_df1['gb_predict'] == 1) | (trigram_df1['svm_predict'] == 1) | (trigram_df1['rnn_predict'] == 1)]\n",
    "good_trigram_df1.shape"
   ]
  },
  {
   "cell_type": "code",
   "execution_count": 131,
   "metadata": {},
   "outputs": [
    {
     "data": {
      "text/plain": [
       "count    191195.000000\n",
       "mean          0.463887\n",
       "std           0.203059\n",
       "min           0.000148\n",
       "25%           0.310201\n",
       "50%           0.540477\n",
       "75%           0.650419\n",
       "max           0.660041\n",
       "Name: rnn_prob_good, dtype: float64"
      ]
     },
     "execution_count": 131,
     "metadata": {},
     "output_type": "execute_result"
    }
   ],
   "source": [
    "good_trigram_df1.rnn_prob_good.describe()"
   ]
  },
  {
   "cell_type": "markdown",
   "metadata": {},
   "source": [
    "Subsetting the rnn predicted titles into the (approximately) the top 25% or everything with a probability greater than 0.65."
   ]
  },
  {
   "cell_type": "code",
   "execution_count": 136,
   "metadata": {},
   "outputs": [
    {
     "data": {
      "text/plain": [
       "(57994, 8)"
      ]
     },
     "execution_count": 136,
     "metadata": {},
     "output_type": "execute_result"
    }
   ],
   "source": [
    "best_rnn = good_trigram_df1[good_trigram_df1['rnn_prob_good']>0.65]\n",
    "best_rnn.shape"
   ]
  },
  {
   "cell_type": "code",
   "execution_count": 139,
   "metadata": {},
   "outputs": [
    {
     "data": {
      "text/html": [
       "<div>\n",
       "<style scoped>\n",
       "    .dataframe tbody tr th:only-of-type {\n",
       "        vertical-align: middle;\n",
       "    }\n",
       "\n",
       "    .dataframe tbody tr th {\n",
       "        vertical-align: top;\n",
       "    }\n",
       "\n",
       "    .dataframe thead th {\n",
       "        text-align: right;\n",
       "    }\n",
       "</style>\n",
       "<table border=\"1\" class=\"dataframe\">\n",
       "  <thead>\n",
       "    <tr style=\"text-align: right;\">\n",
       "      <th></th>\n",
       "      <th>title</th>\n",
       "      <th>w2v_dp1</th>\n",
       "      <th>gb_predict</th>\n",
       "      <th>gb_prob_good</th>\n",
       "      <th>svm_predict</th>\n",
       "      <th>svm_prob_good</th>\n",
       "      <th>rnn_predict</th>\n",
       "      <th>rnn_prob_good</th>\n",
       "    </tr>\n",
       "  </thead>\n",
       "  <tbody>\n",
       "    <tr>\n",
       "      <th>208486</th>\n",
       "      <td>kill the bees</td>\n",
       "      <td>[-0.42150885, -0.40574756, -0.26478636, -0.190...</td>\n",
       "      <td>1</td>\n",
       "      <td>0.818335</td>\n",
       "      <td>1</td>\n",
       "      <td>0.919405</td>\n",
       "      <td>1</td>\n",
       "      <td>0.650419</td>\n",
       "    </tr>\n",
       "    <tr>\n",
       "      <th>401047</th>\n",
       "      <td>thy monstrous visage</td>\n",
       "      <td>[-0.75379694, -0.415749, 1.3423016, 0.61131823...</td>\n",
       "      <td>1</td>\n",
       "      <td>0.802654</td>\n",
       "      <td>1</td>\n",
       "      <td>0.986194</td>\n",
       "      <td>1</td>\n",
       "      <td>0.650419</td>\n",
       "    </tr>\n",
       "    <tr>\n",
       "      <th>423450</th>\n",
       "      <td>upon the horse</td>\n",
       "      <td>[-1.2001694, 0.44171017, 0.7581684, -0.8901928...</td>\n",
       "      <td>1</td>\n",
       "      <td>0.580425</td>\n",
       "      <td>1</td>\n",
       "      <td>0.916774</td>\n",
       "      <td>1</td>\n",
       "      <td>0.653882</td>\n",
       "    </tr>\n",
       "    <tr>\n",
       "      <th>232601</th>\n",
       "      <td>master , live</td>\n",
       "      <td>[-0.12760663, -0.47371918, -0.74886316, -0.415...</td>\n",
       "      <td>0</td>\n",
       "      <td>0.462631</td>\n",
       "      <td>1</td>\n",
       "      <td>0.856371</td>\n",
       "      <td>1</td>\n",
       "      <td>0.659903</td>\n",
       "    </tr>\n",
       "    <tr>\n",
       "      <th>426502</th>\n",
       "      <td>very plausive invention</td>\n",
       "      <td>[0.047889013, -0.41319183, -0.07935502, -0.726...</td>\n",
       "      <td>1</td>\n",
       "      <td>0.927969</td>\n",
       "      <td>1</td>\n",
       "      <td>0.934280</td>\n",
       "      <td>1</td>\n",
       "      <td>0.650419</td>\n",
       "    </tr>\n",
       "  </tbody>\n",
       "</table>\n",
       "</div>"
      ],
      "text/plain": [
       "                          title  \\\n",
       "208486            kill the bees   \n",
       "401047     thy monstrous visage   \n",
       "423450           upon the horse   \n",
       "232601            master , live   \n",
       "426502  very plausive invention   \n",
       "\n",
       "                                                  w2v_dp1  gb_predict  \\\n",
       "208486  [-0.42150885, -0.40574756, -0.26478636, -0.190...           1   \n",
       "401047  [-0.75379694, -0.415749, 1.3423016, 0.61131823...           1   \n",
       "423450  [-1.2001694, 0.44171017, 0.7581684, -0.8901928...           1   \n",
       "232601  [-0.12760663, -0.47371918, -0.74886316, -0.415...           0   \n",
       "426502  [0.047889013, -0.41319183, -0.07935502, -0.726...           1   \n",
       "\n",
       "        gb_prob_good  svm_predict  svm_prob_good  rnn_predict  rnn_prob_good  \n",
       "208486      0.818335            1       0.919405            1       0.650419  \n",
       "401047      0.802654            1       0.986194            1       0.650419  \n",
       "423450      0.580425            1       0.916774            1       0.653882  \n",
       "232601      0.462631            1       0.856371            1       0.659903  \n",
       "426502      0.927969            1       0.934280            1       0.650419  "
      ]
     },
     "execution_count": 139,
     "metadata": {},
     "output_type": "execute_result"
    }
   ],
   "source": [
    "best_rnn.sample(5)"
   ]
  },
  {
   "cell_type": "code",
   "execution_count": 138,
   "metadata": {},
   "outputs": [
    {
     "data": {
      "text/plain": [
       "count    57994.000000\n",
       "mean         0.785228\n",
       "std          0.191146\n",
       "min          0.030071\n",
       "25%          0.710258\n",
       "50%          0.859114\n",
       "75%          0.919234\n",
       "max          0.976932\n",
       "Name: gb_prob_good, dtype: float64"
      ]
     },
     "execution_count": 138,
     "metadata": {},
     "output_type": "execute_result"
    }
   ],
   "source": [
    "best_rnn.gb_prob_good.describe()"
   ]
  },
  {
   "cell_type": "code",
   "execution_count": 140,
   "metadata": {},
   "outputs": [
    {
     "data": {
      "text/plain": [
       "count    57994.000000\n",
       "mean         0.929691\n",
       "std          0.077655\n",
       "min          0.068962\n",
       "25%          0.904119\n",
       "50%          0.955730\n",
       "75%          0.981461\n",
       "max          1.000000\n",
       "Name: svm_prob_good, dtype: float64"
      ]
     },
     "execution_count": 140,
     "metadata": {},
     "output_type": "execute_result"
    }
   ],
   "source": [
    "best_rnn.svm_prob_good.describe()"
   ]
  },
  {
   "cell_type": "markdown",
   "metadata": {},
   "source": [
    "Further subsetting the df by the top 25% of the svm and the top 25% of the gb predicted titles"
   ]
  },
  {
   "cell_type": "code",
   "execution_count": 144,
   "metadata": {},
   "outputs": [
    {
     "data": {
      "text/plain": [
       "(24061, 8)"
      ]
     },
     "execution_count": 144,
     "metadata": {},
     "output_type": "execute_result"
    }
   ],
   "source": [
    "best_rnn_all = best_rnn[(best_rnn['gb_prob_good'] > 0.92) | (best_rnn['svm_prob_good'] > 0.98)]\n",
    "best_rnn_all.shape"
   ]
  },
  {
   "cell_type": "code",
   "execution_count": 145,
   "metadata": {},
   "outputs": [
    {
     "data": {
      "text/html": [
       "<div>\n",
       "<style scoped>\n",
       "    .dataframe tbody tr th:only-of-type {\n",
       "        vertical-align: middle;\n",
       "    }\n",
       "\n",
       "    .dataframe tbody tr th {\n",
       "        vertical-align: top;\n",
       "    }\n",
       "\n",
       "    .dataframe thead th {\n",
       "        text-align: right;\n",
       "    }\n",
       "</style>\n",
       "<table border=\"1\" class=\"dataframe\">\n",
       "  <thead>\n",
       "    <tr style=\"text-align: right;\">\n",
       "      <th></th>\n",
       "      <th>title</th>\n",
       "      <th>w2v_dp1</th>\n",
       "      <th>gb_predict</th>\n",
       "      <th>gb_prob_good</th>\n",
       "      <th>svm_predict</th>\n",
       "      <th>svm_prob_good</th>\n",
       "      <th>rnn_predict</th>\n",
       "      <th>rnn_prob_good</th>\n",
       "    </tr>\n",
       "  </thead>\n",
       "  <tbody>\n",
       "    <tr>\n",
       "      <th>109732</th>\n",
       "      <td>enter other servants</td>\n",
       "      <td>[1.1176435, -0.11412289, 0.86288315, -0.851101...</td>\n",
       "      <td>1</td>\n",
       "      <td>0.892285</td>\n",
       "      <td>1</td>\n",
       "      <td>0.999999</td>\n",
       "      <td>1</td>\n",
       "      <td>0.650419</td>\n",
       "    </tr>\n",
       "    <tr>\n",
       "      <th>364951</th>\n",
       "      <td>the dauphin crowned</td>\n",
       "      <td>[-0.9592242, 1.2239616, -0.6399064, -0.5107603...</td>\n",
       "      <td>1</td>\n",
       "      <td>0.940897</td>\n",
       "      <td>1</td>\n",
       "      <td>0.960740</td>\n",
       "      <td>1</td>\n",
       "      <td>0.650419</td>\n",
       "    </tr>\n",
       "    <tr>\n",
       "      <th>373108</th>\n",
       "      <td>the rest unvanquish</td>\n",
       "      <td>[-0.9592242, 1.2239616, -0.6399064, -0.5107603...</td>\n",
       "      <td>1</td>\n",
       "      <td>0.941036</td>\n",
       "      <td>1</td>\n",
       "      <td>0.981300</td>\n",
       "      <td>1</td>\n",
       "      <td>0.650419</td>\n",
       "    </tr>\n",
       "    <tr>\n",
       "      <th>210049</th>\n",
       "      <td>knave is !</td>\n",
       "      <td>[0.047692735, -0.33911407, -0.19056793, -0.200...</td>\n",
       "      <td>0</td>\n",
       "      <td>0.363283</td>\n",
       "      <td>1</td>\n",
       "      <td>0.991376</td>\n",
       "      <td>1</td>\n",
       "      <td>0.650419</td>\n",
       "    </tr>\n",
       "    <tr>\n",
       "      <th>339312</th>\n",
       "      <td>soul 's peril</td>\n",
       "      <td>[-0.11785413, -0.7182934, -0.28010532, -0.4420...</td>\n",
       "      <td>1</td>\n",
       "      <td>0.929930</td>\n",
       "      <td>1</td>\n",
       "      <td>0.997165</td>\n",
       "      <td>1</td>\n",
       "      <td>0.650419</td>\n",
       "    </tr>\n",
       "  </tbody>\n",
       "</table>\n",
       "</div>"
      ],
      "text/plain": [
       "                       title  \\\n",
       "109732  enter other servants   \n",
       "364951   the dauphin crowned   \n",
       "373108   the rest unvanquish   \n",
       "210049            knave is !   \n",
       "339312         soul 's peril   \n",
       "\n",
       "                                                  w2v_dp1  gb_predict  \\\n",
       "109732  [1.1176435, -0.11412289, 0.86288315, -0.851101...           1   \n",
       "364951  [-0.9592242, 1.2239616, -0.6399064, -0.5107603...           1   \n",
       "373108  [-0.9592242, 1.2239616, -0.6399064, -0.5107603...           1   \n",
       "210049  [0.047692735, -0.33911407, -0.19056793, -0.200...           0   \n",
       "339312  [-0.11785413, -0.7182934, -0.28010532, -0.4420...           1   \n",
       "\n",
       "        gb_prob_good  svm_predict  svm_prob_good  rnn_predict  rnn_prob_good  \n",
       "109732      0.892285            1       0.999999            1       0.650419  \n",
       "364951      0.940897            1       0.960740            1       0.650419  \n",
       "373108      0.941036            1       0.981300            1       0.650419  \n",
       "210049      0.363283            1       0.991376            1       0.650419  \n",
       "339312      0.929930            1       0.997165            1       0.650419  "
      ]
     },
     "execution_count": 145,
     "metadata": {},
     "output_type": "execute_result"
    }
   ],
   "source": [
    "best_rnn_all.sample(5)"
   ]
  },
  {
   "cell_type": "code",
   "execution_count": 146,
   "metadata": {},
   "outputs": [
    {
     "data": {
      "text/plain": [
       "count    24061.000000\n",
       "mean         0.845548\n",
       "std          0.183695\n",
       "min          0.034654\n",
       "25%          0.845527\n",
       "50%          0.928797\n",
       "75%          0.945315\n",
       "max          0.976932\n",
       "Name: gb_prob_good, dtype: float64"
      ]
     },
     "execution_count": 146,
     "metadata": {},
     "output_type": "execute_result"
    }
   ],
   "source": [
    "best_rnn_all.gb_prob_good.describe()"
   ]
  },
  {
   "cell_type": "code",
   "execution_count": 147,
   "metadata": {},
   "outputs": [
    {
     "data": {
      "text/plain": [
       "count    24061.000000\n",
       "mean         0.970299\n",
       "std          0.041814\n",
       "min          0.379908\n",
       "25%          0.968485\n",
       "50%          0.984532\n",
       "75%          0.993827\n",
       "max          1.000000\n",
       "Name: svm_prob_good, dtype: float64"
      ]
     },
     "execution_count": 147,
     "metadata": {},
     "output_type": "execute_result"
    }
   ],
   "source": [
    "best_rnn_all.svm_prob_good.describe()"
   ]
  },
  {
   "cell_type": "code",
   "execution_count": 149,
   "metadata": {},
   "outputs": [
    {
     "data": {
      "text/plain": [
       "(1842, 8)"
      ]
     },
     "execution_count": 149,
     "metadata": {},
     "output_type": "execute_result"
    }
   ],
   "source": [
    "bad_good = best_rnn_all[(best_rnn_all['gb_predict'] == 0) | (best_rnn_all['svm_predict'] == 0)]\n",
    "bad_good.shape"
   ]
  },
  {
   "cell_type": "code",
   "execution_count": 150,
   "metadata": {},
   "outputs": [
    {
     "data": {
      "text/html": [
       "<div>\n",
       "<style scoped>\n",
       "    .dataframe tbody tr th:only-of-type {\n",
       "        vertical-align: middle;\n",
       "    }\n",
       "\n",
       "    .dataframe tbody tr th {\n",
       "        vertical-align: top;\n",
       "    }\n",
       "\n",
       "    .dataframe thead th {\n",
       "        text-align: right;\n",
       "    }\n",
       "</style>\n",
       "<table border=\"1\" class=\"dataframe\">\n",
       "  <thead>\n",
       "    <tr style=\"text-align: right;\">\n",
       "      <th></th>\n",
       "      <th>title</th>\n",
       "      <th>w2v_dp1</th>\n",
       "      <th>gb_predict</th>\n",
       "      <th>gb_prob_good</th>\n",
       "      <th>svm_predict</th>\n",
       "      <th>svm_prob_good</th>\n",
       "      <th>rnn_predict</th>\n",
       "      <th>rnn_prob_good</th>\n",
       "    </tr>\n",
       "  </thead>\n",
       "  <tbody>\n",
       "    <tr>\n",
       "      <th>382395</th>\n",
       "      <td>then that thou</td>\n",
       "      <td>[-0.58820623, -0.5312356, -0.7707676, -0.07242...</td>\n",
       "      <td>0</td>\n",
       "      <td>0.165100</td>\n",
       "      <td>1</td>\n",
       "      <td>1.000000</td>\n",
       "      <td>1</td>\n",
       "      <td>0.650419</td>\n",
       "    </tr>\n",
       "    <tr>\n",
       "      <th>25421</th>\n",
       "      <td>and hector enter</td>\n",
       "      <td>[-0.10478376, -0.68211913, -0.2959186, -0.3051...</td>\n",
       "      <td>0</td>\n",
       "      <td>0.273185</td>\n",
       "      <td>1</td>\n",
       "      <td>0.993385</td>\n",
       "      <td>1</td>\n",
       "      <td>0.650419</td>\n",
       "    </tr>\n",
       "    <tr>\n",
       "      <th>212239</th>\n",
       "      <td>lady 's face</td>\n",
       "      <td>[0.28690833, -0.62764, -0.42030942, -0.2303094...</td>\n",
       "      <td>0</td>\n",
       "      <td>0.463450</td>\n",
       "      <td>1</td>\n",
       "      <td>0.995959</td>\n",
       "      <td>1</td>\n",
       "      <td>0.650419</td>\n",
       "    </tr>\n",
       "    <tr>\n",
       "      <th>394974</th>\n",
       "      <td>thou how thou</td>\n",
       "      <td>[-0.6872282, -3.232688, 1.1388466, -0.7118684,...</td>\n",
       "      <td>0</td>\n",
       "      <td>0.130205</td>\n",
       "      <td>1</td>\n",
       "      <td>1.000000</td>\n",
       "      <td>1</td>\n",
       "      <td>0.650419</td>\n",
       "    </tr>\n",
       "    <tr>\n",
       "      <th>68174</th>\n",
       "      <td>but hast thou</td>\n",
       "      <td>[-0.42105323, -0.8566782, -0.8044319, -0.60553...</td>\n",
       "      <td>0</td>\n",
       "      <td>0.287916</td>\n",
       "      <td>1</td>\n",
       "      <td>0.999999</td>\n",
       "      <td>1</td>\n",
       "      <td>0.650419</td>\n",
       "    </tr>\n",
       "    <tr>\n",
       "      <th>401772</th>\n",
       "      <td>thy sweets comfort</td>\n",
       "      <td>[-0.75379694, -0.415749, 1.3423016, 0.61131823...</td>\n",
       "      <td>0</td>\n",
       "      <td>0.429292</td>\n",
       "      <td>1</td>\n",
       "      <td>0.982309</td>\n",
       "      <td>1</td>\n",
       "      <td>0.650419</td>\n",
       "    </tr>\n",
       "    <tr>\n",
       "      <th>109510</th>\n",
       "      <td>enter falstaff ,</td>\n",
       "      <td>[1.1176435, -0.11412289, 0.86288315, -0.851101...</td>\n",
       "      <td>0</td>\n",
       "      <td>0.258701</td>\n",
       "      <td>1</td>\n",
       "      <td>0.993795</td>\n",
       "      <td>1</td>\n",
       "      <td>0.650419</td>\n",
       "    </tr>\n",
       "    <tr>\n",
       "      <th>109534</th>\n",
       "      <td>enter gadshill ,</td>\n",
       "      <td>[1.1176435, -0.11412289, 0.86288315, -0.851101...</td>\n",
       "      <td>0</td>\n",
       "      <td>0.218926</td>\n",
       "      <td>1</td>\n",
       "      <td>0.993998</td>\n",
       "      <td>1</td>\n",
       "      <td>0.650419</td>\n",
       "    </tr>\n",
       "    <tr>\n",
       "      <th>315177</th>\n",
       "      <td>sail how thou</td>\n",
       "      <td>[0.082587205, -0.19744435, 0.09569794, -0.1038...</td>\n",
       "      <td>0</td>\n",
       "      <td>0.167054</td>\n",
       "      <td>1</td>\n",
       "      <td>1.000000</td>\n",
       "      <td>1</td>\n",
       "      <td>0.650419</td>\n",
       "    </tr>\n",
       "    <tr>\n",
       "      <th>109415</th>\n",
       "      <td>enter chancellor ,</td>\n",
       "      <td>[1.1176435, -0.11412289, 0.86288315, -0.851101...</td>\n",
       "      <td>0</td>\n",
       "      <td>0.218926</td>\n",
       "      <td>1</td>\n",
       "      <td>0.994174</td>\n",
       "      <td>1</td>\n",
       "      <td>0.650419</td>\n",
       "    </tr>\n",
       "    <tr>\n",
       "      <th>107533</th>\n",
       "      <td>else of thee</td>\n",
       "      <td>[-0.31674212, -0.4421493, -0.36133075, -0.2379...</td>\n",
       "      <td>0</td>\n",
       "      <td>0.275277</td>\n",
       "      <td>1</td>\n",
       "      <td>0.991209</td>\n",
       "      <td>1</td>\n",
       "      <td>0.650419</td>\n",
       "    </tr>\n",
       "    <tr>\n",
       "      <th>88264</th>\n",
       "      <td>crest ere thou</td>\n",
       "      <td>[-0.058298796, -0.083360575, 0.056759395, -0.0...</td>\n",
       "      <td>0</td>\n",
       "      <td>0.463051</td>\n",
       "      <td>1</td>\n",
       "      <td>1.000000</td>\n",
       "      <td>1</td>\n",
       "      <td>0.650419</td>\n",
       "    </tr>\n",
       "    <tr>\n",
       "      <th>401767</th>\n",
       "      <td>thy sweet sake</td>\n",
       "      <td>[-0.75379694, -0.415749, 1.3423016, 0.61131823...</td>\n",
       "      <td>0</td>\n",
       "      <td>0.375870</td>\n",
       "      <td>1</td>\n",
       "      <td>0.994283</td>\n",
       "      <td>1</td>\n",
       "      <td>0.650419</td>\n",
       "    </tr>\n",
       "    <tr>\n",
       "      <th>399751</th>\n",
       "      <td>thy brother edward</td>\n",
       "      <td>[-0.75379694, -0.415749, 1.3423016, 0.61131823...</td>\n",
       "      <td>0</td>\n",
       "      <td>0.306772</td>\n",
       "      <td>1</td>\n",
       "      <td>0.989182</td>\n",
       "      <td>1</td>\n",
       "      <td>0.650419</td>\n",
       "    </tr>\n",
       "    <tr>\n",
       "      <th>109925</th>\n",
       "      <td>enter thurio ,</td>\n",
       "      <td>[1.1176435, -0.11412289, 0.86288315, -0.851101...</td>\n",
       "      <td>0</td>\n",
       "      <td>0.218926</td>\n",
       "      <td>1</td>\n",
       "      <td>0.993577</td>\n",
       "      <td>1</td>\n",
       "      <td>0.650419</td>\n",
       "    </tr>\n",
       "    <tr>\n",
       "      <th>366199</th>\n",
       "      <td>the faith thou</td>\n",
       "      <td>[-0.9592242, 1.2239616, -0.6399064, -0.5107603...</td>\n",
       "      <td>0</td>\n",
       "      <td>0.312056</td>\n",
       "      <td>1</td>\n",
       "      <td>1.000000</td>\n",
       "      <td>1</td>\n",
       "      <td>0.650419</td>\n",
       "    </tr>\n",
       "    <tr>\n",
       "      <th>229856</th>\n",
       "      <td>man 's house</td>\n",
       "      <td>[-0.10247089, -0.18063769, -1.065488, -0.17652...</td>\n",
       "      <td>0</td>\n",
       "      <td>0.466604</td>\n",
       "      <td>1</td>\n",
       "      <td>0.990076</td>\n",
       "      <td>1</td>\n",
       "      <td>0.650419</td>\n",
       "    </tr>\n",
       "    <tr>\n",
       "      <th>109894</th>\n",
       "      <td>enter the lady</td>\n",
       "      <td>[1.1176435, -0.11412289, 0.86288315, -0.851101...</td>\n",
       "      <td>0</td>\n",
       "      <td>0.437654</td>\n",
       "      <td>1</td>\n",
       "      <td>1.000000</td>\n",
       "      <td>1</td>\n",
       "      <td>0.650419</td>\n",
       "    </tr>\n",
       "    <tr>\n",
       "      <th>71962</th>\n",
       "      <td>by our side</td>\n",
       "      <td>[-1.2853718, 0.12453318, 0.7462741, -1.3583035...</td>\n",
       "      <td>0</td>\n",
       "      <td>0.491171</td>\n",
       "      <td>1</td>\n",
       "      <td>0.981402</td>\n",
       "      <td>1</td>\n",
       "      <td>0.650419</td>\n",
       "    </tr>\n",
       "    <tr>\n",
       "      <th>112667</th>\n",
       "      <td>excuse that thou</td>\n",
       "      <td>[-0.05117061, -0.30052057, -0.03138597, -0.126...</td>\n",
       "      <td>0</td>\n",
       "      <td>0.193512</td>\n",
       "      <td>1</td>\n",
       "      <td>1.000000</td>\n",
       "      <td>1</td>\n",
       "      <td>0.650419</td>\n",
       "    </tr>\n",
       "  </tbody>\n",
       "</table>\n",
       "</div>"
      ],
      "text/plain": [
       "                     title                                            w2v_dp1  \\\n",
       "382395      then that thou  [-0.58820623, -0.5312356, -0.7707676, -0.07242...   \n",
       "25421     and hector enter  [-0.10478376, -0.68211913, -0.2959186, -0.3051...   \n",
       "212239        lady 's face  [0.28690833, -0.62764, -0.42030942, -0.2303094...   \n",
       "394974       thou how thou  [-0.6872282, -3.232688, 1.1388466, -0.7118684,...   \n",
       "68174        but hast thou  [-0.42105323, -0.8566782, -0.8044319, -0.60553...   \n",
       "401772  thy sweets comfort  [-0.75379694, -0.415749, 1.3423016, 0.61131823...   \n",
       "109510    enter falstaff ,  [1.1176435, -0.11412289, 0.86288315, -0.851101...   \n",
       "109534    enter gadshill ,  [1.1176435, -0.11412289, 0.86288315, -0.851101...   \n",
       "315177       sail how thou  [0.082587205, -0.19744435, 0.09569794, -0.1038...   \n",
       "109415  enter chancellor ,  [1.1176435, -0.11412289, 0.86288315, -0.851101...   \n",
       "107533        else of thee  [-0.31674212, -0.4421493, -0.36133075, -0.2379...   \n",
       "88264       crest ere thou  [-0.058298796, -0.083360575, 0.056759395, -0.0...   \n",
       "401767      thy sweet sake  [-0.75379694, -0.415749, 1.3423016, 0.61131823...   \n",
       "399751  thy brother edward  [-0.75379694, -0.415749, 1.3423016, 0.61131823...   \n",
       "109925      enter thurio ,  [1.1176435, -0.11412289, 0.86288315, -0.851101...   \n",
       "366199      the faith thou  [-0.9592242, 1.2239616, -0.6399064, -0.5107603...   \n",
       "229856        man 's house  [-0.10247089, -0.18063769, -1.065488, -0.17652...   \n",
       "109894      enter the lady  [1.1176435, -0.11412289, 0.86288315, -0.851101...   \n",
       "71962          by our side  [-1.2853718, 0.12453318, 0.7462741, -1.3583035...   \n",
       "112667    excuse that thou  [-0.05117061, -0.30052057, -0.03138597, -0.126...   \n",
       "\n",
       "        gb_predict  gb_prob_good  svm_predict  svm_prob_good  rnn_predict  \\\n",
       "382395           0      0.165100            1       1.000000            1   \n",
       "25421            0      0.273185            1       0.993385            1   \n",
       "212239           0      0.463450            1       0.995959            1   \n",
       "394974           0      0.130205            1       1.000000            1   \n",
       "68174            0      0.287916            1       0.999999            1   \n",
       "401772           0      0.429292            1       0.982309            1   \n",
       "109510           0      0.258701            1       0.993795            1   \n",
       "109534           0      0.218926            1       0.993998            1   \n",
       "315177           0      0.167054            1       1.000000            1   \n",
       "109415           0      0.218926            1       0.994174            1   \n",
       "107533           0      0.275277            1       0.991209            1   \n",
       "88264            0      0.463051            1       1.000000            1   \n",
       "401767           0      0.375870            1       0.994283            1   \n",
       "399751           0      0.306772            1       0.989182            1   \n",
       "109925           0      0.218926            1       0.993577            1   \n",
       "366199           0      0.312056            1       1.000000            1   \n",
       "229856           0      0.466604            1       0.990076            1   \n",
       "109894           0      0.437654            1       1.000000            1   \n",
       "71962            0      0.491171            1       0.981402            1   \n",
       "112667           0      0.193512            1       1.000000            1   \n",
       "\n",
       "        rnn_prob_good  \n",
       "382395       0.650419  \n",
       "25421        0.650419  \n",
       "212239       0.650419  \n",
       "394974       0.650419  \n",
       "68174        0.650419  \n",
       "401772       0.650419  \n",
       "109510       0.650419  \n",
       "109534       0.650419  \n",
       "315177       0.650419  \n",
       "109415       0.650419  \n",
       "107533       0.650419  \n",
       "88264        0.650419  \n",
       "401767       0.650419  \n",
       "399751       0.650419  \n",
       "109925       0.650419  \n",
       "366199       0.650419  \n",
       "229856       0.650419  \n",
       "109894       0.650419  \n",
       "71962        0.650419  \n",
       "112667       0.650419  "
      ]
     },
     "execution_count": 150,
     "metadata": {},
     "output_type": "execute_result"
    }
   ],
   "source": [
    "bad_good.sample(20)"
   ]
  },
  {
   "cell_type": "markdown",
   "metadata": {},
   "source": [
    "Rubbish! I am curious about the svm_titles that have 100% predicted probabilities."
   ]
  },
  {
   "cell_type": "code",
   "execution_count": 189,
   "metadata": {},
   "outputs": [
    {
     "data": {
      "text/plain": [
       "(1289, 8)"
      ]
     },
     "execution_count": 189,
     "metadata": {},
     "output_type": "execute_result"
    }
   ],
   "source": [
    "perfect_svm = trigram_df1[trigram_df1['svm_prob_good']>0.9999999]\n",
    "perfect_svm.shape"
   ]
  },
  {
   "cell_type": "code",
   "execution_count": 190,
   "metadata": {},
   "outputs": [
    {
     "data": {
      "text/html": [
       "<div>\n",
       "<style scoped>\n",
       "    .dataframe tbody tr th:only-of-type {\n",
       "        vertical-align: middle;\n",
       "    }\n",
       "\n",
       "    .dataframe tbody tr th {\n",
       "        vertical-align: top;\n",
       "    }\n",
       "\n",
       "    .dataframe thead th {\n",
       "        text-align: right;\n",
       "    }\n",
       "</style>\n",
       "<table border=\"1\" class=\"dataframe\">\n",
       "  <thead>\n",
       "    <tr style=\"text-align: right;\">\n",
       "      <th></th>\n",
       "      <th>title</th>\n",
       "      <th>w2v_dp1</th>\n",
       "      <th>gb_predict</th>\n",
       "      <th>gb_prob_good</th>\n",
       "      <th>svm_predict</th>\n",
       "      <th>svm_prob_good</th>\n",
       "      <th>rnn_predict</th>\n",
       "      <th>rnn_prob_good</th>\n",
       "    </tr>\n",
       "  </thead>\n",
       "  <tbody>\n",
       "    <tr>\n",
       "      <th>269052</th>\n",
       "      <td>now if thou</td>\n",
       "      <td>[-0.027101433, 0.33587116, -0.55256146, 0.0537...</td>\n",
       "      <td>0</td>\n",
       "      <td>0.331836</td>\n",
       "      <td>1</td>\n",
       "      <td>1.0</td>\n",
       "      <td>1</td>\n",
       "      <td>0.650419</td>\n",
       "    </tr>\n",
       "    <tr>\n",
       "      <th>14462</th>\n",
       "      <td>alive , thou</td>\n",
       "      <td>[-0.11535847, -0.14156812, 0.045334954, -0.284...</td>\n",
       "      <td>1</td>\n",
       "      <td>0.584753</td>\n",
       "      <td>1</td>\n",
       "      <td>1.0</td>\n",
       "      <td>1</td>\n",
       "      <td>0.650419</td>\n",
       "    </tr>\n",
       "    <tr>\n",
       "      <th>279625</th>\n",
       "      <td>of trees thou</td>\n",
       "      <td>[-0.31132793, -0.26686984, 1.7738771, -0.93247...</td>\n",
       "      <td>0</td>\n",
       "      <td>0.437320</td>\n",
       "      <td>1</td>\n",
       "      <td>1.0</td>\n",
       "      <td>1</td>\n",
       "      <td>0.650419</td>\n",
       "    </tr>\n",
       "    <tr>\n",
       "      <th>45840</th>\n",
       "      <td>at pleasure thou</td>\n",
       "      <td>[-1.0456319, 1.2859956, 0.28057608, -1.2160218...</td>\n",
       "      <td>0</td>\n",
       "      <td>0.291946</td>\n",
       "      <td>1</td>\n",
       "      <td>1.0</td>\n",
       "      <td>1</td>\n",
       "      <td>0.650419</td>\n",
       "    </tr>\n",
       "    <tr>\n",
       "      <th>318808</th>\n",
       "      <td>see as thou</td>\n",
       "      <td>[-0.21275416, 0.15147936, -0.7121132, -0.39120...</td>\n",
       "      <td>0</td>\n",
       "      <td>0.271095</td>\n",
       "      <td>1</td>\n",
       "      <td>1.0</td>\n",
       "      <td>1</td>\n",
       "      <td>0.650419</td>\n",
       "    </tr>\n",
       "    <tr>\n",
       "      <th>431664</th>\n",
       "      <td>water hast thou</td>\n",
       "      <td>[-0.17376123, -0.2336659, -0.07937449, -0.0626...</td>\n",
       "      <td>0</td>\n",
       "      <td>0.456023</td>\n",
       "      <td>1</td>\n",
       "      <td>1.0</td>\n",
       "      <td>1</td>\n",
       "      <td>0.650419</td>\n",
       "    </tr>\n",
       "    <tr>\n",
       "      <th>287671</th>\n",
       "      <td>othello , thou</td>\n",
       "      <td>[-0.011102959, -0.070572056, 0.03733181, 0.017...</td>\n",
       "      <td>1</td>\n",
       "      <td>0.626244</td>\n",
       "      <td>1</td>\n",
       "      <td>1.0</td>\n",
       "      <td>1</td>\n",
       "      <td>0.650419</td>\n",
       "    </tr>\n",
       "    <tr>\n",
       "      <th>116462</th>\n",
       "      <td>farewell , thou</td>\n",
       "      <td>[0.23371723, -0.79356337, -0.40265712, 0.16365...</td>\n",
       "      <td>1</td>\n",
       "      <td>0.626244</td>\n",
       "      <td>1</td>\n",
       "      <td>1.0</td>\n",
       "      <td>1</td>\n",
       "      <td>0.650419</td>\n",
       "    </tr>\n",
       "    <tr>\n",
       "      <th>366311</th>\n",
       "      <td>the fault thou</td>\n",
       "      <td>[-0.9592242, 1.2239616, -0.6399064, -0.5107603...</td>\n",
       "      <td>1</td>\n",
       "      <td>0.632459</td>\n",
       "      <td>1</td>\n",
       "      <td>1.0</td>\n",
       "      <td>1</td>\n",
       "      <td>0.650419</td>\n",
       "    </tr>\n",
       "    <tr>\n",
       "      <th>110687</th>\n",
       "      <td>ergo , thou</td>\n",
       "      <td>[-0.019927675, -0.0287083, 0.023881959, -0.014...</td>\n",
       "      <td>1</td>\n",
       "      <td>0.563954</td>\n",
       "      <td>1</td>\n",
       "      <td>1.0</td>\n",
       "      <td>1</td>\n",
       "      <td>0.650419</td>\n",
       "    </tr>\n",
       "  </tbody>\n",
       "</table>\n",
       "</div>"
      ],
      "text/plain": [
       "                   title                                            w2v_dp1  \\\n",
       "269052       now if thou  [-0.027101433, 0.33587116, -0.55256146, 0.0537...   \n",
       "14462       alive , thou  [-0.11535847, -0.14156812, 0.045334954, -0.284...   \n",
       "279625     of trees thou  [-0.31132793, -0.26686984, 1.7738771, -0.93247...   \n",
       "45840   at pleasure thou  [-1.0456319, 1.2859956, 0.28057608, -1.2160218...   \n",
       "318808       see as thou  [-0.21275416, 0.15147936, -0.7121132, -0.39120...   \n",
       "431664   water hast thou  [-0.17376123, -0.2336659, -0.07937449, -0.0626...   \n",
       "287671    othello , thou  [-0.011102959, -0.070572056, 0.03733181, 0.017...   \n",
       "116462   farewell , thou  [0.23371723, -0.79356337, -0.40265712, 0.16365...   \n",
       "366311    the fault thou  [-0.9592242, 1.2239616, -0.6399064, -0.5107603...   \n",
       "110687       ergo , thou  [-0.019927675, -0.0287083, 0.023881959, -0.014...   \n",
       "\n",
       "        gb_predict  gb_prob_good  svm_predict  svm_prob_good  rnn_predict  \\\n",
       "269052           0      0.331836            1            1.0            1   \n",
       "14462            1      0.584753            1            1.0            1   \n",
       "279625           0      0.437320            1            1.0            1   \n",
       "45840            0      0.291946            1            1.0            1   \n",
       "318808           0      0.271095            1            1.0            1   \n",
       "431664           0      0.456023            1            1.0            1   \n",
       "287671           1      0.626244            1            1.0            1   \n",
       "116462           1      0.626244            1            1.0            1   \n",
       "366311           1      0.632459            1            1.0            1   \n",
       "110687           1      0.563954            1            1.0            1   \n",
       "\n",
       "        rnn_prob_good  \n",
       "269052       0.650419  \n",
       "14462        0.650419  \n",
       "279625       0.650419  \n",
       "45840        0.650419  \n",
       "318808       0.650419  \n",
       "431664       0.650419  \n",
       "287671       0.650419  \n",
       "116462       0.650419  \n",
       "366311       0.650419  \n",
       "110687       0.650419  "
      ]
     },
     "execution_count": 190,
     "metadata": {},
     "output_type": "execute_result"
    }
   ],
   "source": [
    "perfect_svm.sample(10)"
   ]
  },
  {
   "cell_type": "markdown",
   "metadata": {},
   "source": [
    "WOW. What is with all the 'ending in thou' titles?"
   ]
  },
  {
   "cell_type": "code",
   "execution_count": 192,
   "metadata": {},
   "outputs": [
    {
     "data": {
      "text/plain": [
       "True     1242\n",
       "False      47\n",
       "Name: title, dtype: int64"
      ]
     },
     "execution_count": 192,
     "metadata": {},
     "output_type": "execute_result"
    }
   ],
   "source": [
    "perfect_svm.title.str.endswith('thou').value_counts()"
   ]
  },
  {
   "cell_type": "markdown",
   "metadata": {},
   "source": [
    "WOW. Red herring. What else is left?"
   ]
  },
  {
   "cell_type": "code",
   "execution_count": 193,
   "metadata": {},
   "outputs": [
    {
     "data": {
      "text/html": [
       "<div>\n",
       "<style scoped>\n",
       "    .dataframe tbody tr th:only-of-type {\n",
       "        vertical-align: middle;\n",
       "    }\n",
       "\n",
       "    .dataframe tbody tr th {\n",
       "        vertical-align: top;\n",
       "    }\n",
       "\n",
       "    .dataframe thead th {\n",
       "        text-align: right;\n",
       "    }\n",
       "</style>\n",
       "<table border=\"1\" class=\"dataframe\">\n",
       "  <thead>\n",
       "    <tr style=\"text-align: right;\">\n",
       "      <th></th>\n",
       "      <th>title</th>\n",
       "      <th>w2v_dp1</th>\n",
       "      <th>gb_predict</th>\n",
       "      <th>gb_prob_good</th>\n",
       "      <th>svm_predict</th>\n",
       "      <th>svm_prob_good</th>\n",
       "      <th>rnn_predict</th>\n",
       "      <th>rnn_prob_good</th>\n",
       "    </tr>\n",
       "  </thead>\n",
       "  <tbody>\n",
       "    <tr>\n",
       "      <th>15842</th>\n",
       "      <td>all pyramus enter</td>\n",
       "      <td>[-0.18137284, 0.19782384, -0.7731349, -0.13740...</td>\n",
       "      <td>0</td>\n",
       "      <td>0.465372</td>\n",
       "      <td>1</td>\n",
       "      <td>1.0</td>\n",
       "      <td>1</td>\n",
       "      <td>0.650419</td>\n",
       "    </tr>\n",
       "    <tr>\n",
       "      <th>109319</th>\n",
       "      <td>enter and exit</td>\n",
       "      <td>[1.1176435, -0.11412289, 0.86288315, -0.851101...</td>\n",
       "      <td>1</td>\n",
       "      <td>0.821896</td>\n",
       "      <td>1</td>\n",
       "      <td>1.0</td>\n",
       "      <td>1</td>\n",
       "      <td>0.650419</td>\n",
       "    </tr>\n",
       "    <tr>\n",
       "      <th>109484</th>\n",
       "      <td>enter duke frederick</td>\n",
       "      <td>[1.1176435, -0.11412289, 0.86288315, -0.851101...</td>\n",
       "      <td>1</td>\n",
       "      <td>0.924046</td>\n",
       "      <td>1</td>\n",
       "      <td>1.0</td>\n",
       "      <td>1</td>\n",
       "      <td>0.650419</td>\n",
       "    </tr>\n",
       "    <tr>\n",
       "      <th>109486</th>\n",
       "      <td>enter duke orsino</td>\n",
       "      <td>[1.1176435, -0.11412289, 0.86288315, -0.851101...</td>\n",
       "      <td>1</td>\n",
       "      <td>0.924046</td>\n",
       "      <td>1</td>\n",
       "      <td>1.0</td>\n",
       "      <td>1</td>\n",
       "      <td>0.650419</td>\n",
       "    </tr>\n",
       "    <tr>\n",
       "      <th>109488</th>\n",
       "      <td>enter duke solinus</td>\n",
       "      <td>[1.1176435, -0.11412289, 0.86288315, -0.851101...</td>\n",
       "      <td>1</td>\n",
       "      <td>0.924046</td>\n",
       "      <td>1</td>\n",
       "      <td>1.0</td>\n",
       "      <td>1</td>\n",
       "      <td>0.650419</td>\n",
       "    </tr>\n",
       "    <tr>\n",
       "      <th>109560</th>\n",
       "      <td>enter henry bolingbroke</td>\n",
       "      <td>[1.1176435, -0.11412289, 0.86288315, -0.851101...</td>\n",
       "      <td>1</td>\n",
       "      <td>0.863250</td>\n",
       "      <td>1</td>\n",
       "      <td>1.0</td>\n",
       "      <td>1</td>\n",
       "      <td>0.650419</td>\n",
       "    </tr>\n",
       "    <tr>\n",
       "      <th>109561</th>\n",
       "      <td>enter henry percy</td>\n",
       "      <td>[1.1176435, -0.11412289, 0.86288315, -0.851101...</td>\n",
       "      <td>1</td>\n",
       "      <td>0.895344</td>\n",
       "      <td>1</td>\n",
       "      <td>1.0</td>\n",
       "      <td>1</td>\n",
       "      <td>0.650419</td>\n",
       "    </tr>\n",
       "    <tr>\n",
       "      <th>109626</th>\n",
       "      <td>enter king richard</td>\n",
       "      <td>[1.1176435, -0.11412289, 0.86288315, -0.851101...</td>\n",
       "      <td>1</td>\n",
       "      <td>0.693217</td>\n",
       "      <td>1</td>\n",
       "      <td>1.0</td>\n",
       "      <td>1</td>\n",
       "      <td>0.650419</td>\n",
       "    </tr>\n",
       "    <tr>\n",
       "      <th>109733</th>\n",
       "      <td>enter our gates</td>\n",
       "      <td>[1.1176435, -0.11412289, 0.86288315, -0.851101...</td>\n",
       "      <td>1</td>\n",
       "      <td>0.503454</td>\n",
       "      <td>1</td>\n",
       "      <td>1.0</td>\n",
       "      <td>1</td>\n",
       "      <td>0.650419</td>\n",
       "    </tr>\n",
       "    <tr>\n",
       "      <th>109734</th>\n",
       "      <td>enter our rome</td>\n",
       "      <td>[1.1176435, -0.11412289, 0.86288315, -0.851101...</td>\n",
       "      <td>1</td>\n",
       "      <td>0.586346</td>\n",
       "      <td>1</td>\n",
       "      <td>1.0</td>\n",
       "      <td>1</td>\n",
       "      <td>0.650419</td>\n",
       "    </tr>\n",
       "    <tr>\n",
       "      <th>109789</th>\n",
       "      <td>enter queen elizabeth</td>\n",
       "      <td>[1.1176435, -0.11412289, 0.86288315, -0.851101...</td>\n",
       "      <td>1</td>\n",
       "      <td>0.922458</td>\n",
       "      <td>1</td>\n",
       "      <td>1.0</td>\n",
       "      <td>1</td>\n",
       "      <td>0.650419</td>\n",
       "    </tr>\n",
       "    <tr>\n",
       "      <th>109790</th>\n",
       "      <td>enter queen gertrude</td>\n",
       "      <td>[1.1176435, -0.11412289, 0.86288315, -0.851101...</td>\n",
       "      <td>1</td>\n",
       "      <td>0.888524</td>\n",
       "      <td>1</td>\n",
       "      <td>1.0</td>\n",
       "      <td>1</td>\n",
       "      <td>0.650419</td>\n",
       "    </tr>\n",
       "    <tr>\n",
       "      <th>109791</th>\n",
       "      <td>enter queen katharine</td>\n",
       "      <td>[1.1176435, -0.11412289, 0.86288315, -0.851101...</td>\n",
       "      <td>1</td>\n",
       "      <td>0.888524</td>\n",
       "      <td>1</td>\n",
       "      <td>1.0</td>\n",
       "      <td>1</td>\n",
       "      <td>0.650419</td>\n",
       "    </tr>\n",
       "    <tr>\n",
       "      <th>109874</th>\n",
       "      <td>enter the bastard</td>\n",
       "      <td>[1.1176435, -0.11412289, 0.86288315, -0.851101...</td>\n",
       "      <td>1</td>\n",
       "      <td>0.798551</td>\n",
       "      <td>1</td>\n",
       "      <td>1.0</td>\n",
       "      <td>1</td>\n",
       "      <td>0.650419</td>\n",
       "    </tr>\n",
       "    <tr>\n",
       "      <th>109875</th>\n",
       "      <td>enter the boy</td>\n",
       "      <td>[1.1176435, -0.11412289, 0.86288315, -0.851101...</td>\n",
       "      <td>1</td>\n",
       "      <td>0.600232</td>\n",
       "      <td>1</td>\n",
       "      <td>1.0</td>\n",
       "      <td>1</td>\n",
       "      <td>0.650419</td>\n",
       "    </tr>\n",
       "    <tr>\n",
       "      <th>109881</th>\n",
       "      <td>enter the countess</td>\n",
       "      <td>[1.1176435, -0.11412289, 0.86288315, -0.851101...</td>\n",
       "      <td>1</td>\n",
       "      <td>0.855417</td>\n",
       "      <td>1</td>\n",
       "      <td>1.0</td>\n",
       "      <td>1</td>\n",
       "      <td>0.650419</td>\n",
       "    </tr>\n",
       "    <tr>\n",
       "      <th>109885</th>\n",
       "      <td>enter the duke</td>\n",
       "      <td>[1.1176435, -0.11412289, 0.86288315, -0.851101...</td>\n",
       "      <td>1</td>\n",
       "      <td>0.685867</td>\n",
       "      <td>1</td>\n",
       "      <td>1.0</td>\n",
       "      <td>1</td>\n",
       "      <td>0.650419</td>\n",
       "    </tr>\n",
       "    <tr>\n",
       "      <th>109893</th>\n",
       "      <td>enter the king</td>\n",
       "      <td>[1.1176435, -0.11412289, 0.86288315, -0.851101...</td>\n",
       "      <td>1</td>\n",
       "      <td>0.704421</td>\n",
       "      <td>1</td>\n",
       "      <td>1.0</td>\n",
       "      <td>1</td>\n",
       "      <td>0.650419</td>\n",
       "    </tr>\n",
       "    <tr>\n",
       "      <th>109894</th>\n",
       "      <td>enter the lady</td>\n",
       "      <td>[1.1176435, -0.11412289, 0.86288315, -0.851101...</td>\n",
       "      <td>0</td>\n",
       "      <td>0.437654</td>\n",
       "      <td>1</td>\n",
       "      <td>1.0</td>\n",
       "      <td>1</td>\n",
       "      <td>0.650419</td>\n",
       "    </tr>\n",
       "    <tr>\n",
       "      <th>109896</th>\n",
       "      <td>enter the lord</td>\n",
       "      <td>[1.1176435, -0.11412289, 0.86288315, -0.851101...</td>\n",
       "      <td>0</td>\n",
       "      <td>0.380485</td>\n",
       "      <td>1</td>\n",
       "      <td>1.0</td>\n",
       "      <td>1</td>\n",
       "      <td>0.650419</td>\n",
       "    </tr>\n",
       "    <tr>\n",
       "      <th>109897</th>\n",
       "      <td>enter the lords</td>\n",
       "      <td>[1.1176435, -0.11412289, 0.86288315, -0.851101...</td>\n",
       "      <td>0</td>\n",
       "      <td>0.441981</td>\n",
       "      <td>1</td>\n",
       "      <td>1.0</td>\n",
       "      <td>1</td>\n",
       "      <td>0.650419</td>\n",
       "    </tr>\n",
       "    <tr>\n",
       "      <th>109899</th>\n",
       "      <td>enter the messenger</td>\n",
       "      <td>[1.1176435, -0.11412289, 0.86288315, -0.851101...</td>\n",
       "      <td>1</td>\n",
       "      <td>0.515225</td>\n",
       "      <td>1</td>\n",
       "      <td>1.0</td>\n",
       "      <td>1</td>\n",
       "      <td>0.650419</td>\n",
       "    </tr>\n",
       "    <tr>\n",
       "      <th>109901</th>\n",
       "      <td>enter the prince</td>\n",
       "      <td>[1.1176435, -0.11412289, 0.86288315, -0.851101...</td>\n",
       "      <td>1</td>\n",
       "      <td>0.664731</td>\n",
       "      <td>1</td>\n",
       "      <td>1.0</td>\n",
       "      <td>1</td>\n",
       "      <td>0.650419</td>\n",
       "    </tr>\n",
       "    <tr>\n",
       "      <th>109903</th>\n",
       "      <td>enter the queen</td>\n",
       "      <td>[1.1176435, -0.11412289, 0.86288315, -0.851101...</td>\n",
       "      <td>0</td>\n",
       "      <td>0.457306</td>\n",
       "      <td>1</td>\n",
       "      <td>1.0</td>\n",
       "      <td>1</td>\n",
       "      <td>0.650419</td>\n",
       "    </tr>\n",
       "    <tr>\n",
       "      <th>109906</th>\n",
       "      <td>enter the sheriff</td>\n",
       "      <td>[1.1176435, -0.11412289, 0.86288315, -0.851101...</td>\n",
       "      <td>1</td>\n",
       "      <td>0.855417</td>\n",
       "      <td>1</td>\n",
       "      <td>1.0</td>\n",
       "      <td>1</td>\n",
       "      <td>0.650419</td>\n",
       "    </tr>\n",
       "    <tr>\n",
       "      <th>109907</th>\n",
       "      <td>enter the soothsayer</td>\n",
       "      <td>[1.1176435, -0.11412289, 0.86288315, -0.851101...</td>\n",
       "      <td>1</td>\n",
       "      <td>0.855417</td>\n",
       "      <td>1</td>\n",
       "      <td>1.0</td>\n",
       "      <td>1</td>\n",
       "      <td>0.650419</td>\n",
       "    </tr>\n",
       "    <tr>\n",
       "      <th>109913</th>\n",
       "      <td>enter the warwick</td>\n",
       "      <td>[1.1176435, -0.11412289, 0.86288315, -0.851101...</td>\n",
       "      <td>1</td>\n",
       "      <td>0.712006</td>\n",
       "      <td>1</td>\n",
       "      <td>1.0</td>\n",
       "      <td>1</td>\n",
       "      <td>0.650419</td>\n",
       "    </tr>\n",
       "    <tr>\n",
       "      <th>140112</th>\n",
       "      <td>good people enter</td>\n",
       "      <td>[0.89183116, -0.21151099, -0.4573949, 0.003994...</td>\n",
       "      <td>0</td>\n",
       "      <td>0.396686</td>\n",
       "      <td>1</td>\n",
       "      <td>1.0</td>\n",
       "      <td>1</td>\n",
       "      <td>0.650419</td>\n",
       "    </tr>\n",
       "    <tr>\n",
       "      <th>159652</th>\n",
       "      <td>heaven and enter</td>\n",
       "      <td>[-0.26787508, -0.16040882, -0.73043156, 0.4138...</td>\n",
       "      <td>0</td>\n",
       "      <td>0.422395</td>\n",
       "      <td>1</td>\n",
       "      <td>1.0</td>\n",
       "      <td>1</td>\n",
       "      <td>0.650419</td>\n",
       "    </tr>\n",
       "    <tr>\n",
       "      <th>163824</th>\n",
       "      <td>here 's beaufort</td>\n",
       "      <td>[-0.7834921, 1.388132, -0.50344956, -0.4574383...</td>\n",
       "      <td>1</td>\n",
       "      <td>0.929353</td>\n",
       "      <td>1</td>\n",
       "      <td>1.0</td>\n",
       "      <td>1</td>\n",
       "      <td>0.650419</td>\n",
       "    </tr>\n",
       "    <tr>\n",
       "      <th>163833</th>\n",
       "      <td>here 's gloucester</td>\n",
       "      <td>[-0.7834921, 1.388132, -0.50344956, -0.4574383...</td>\n",
       "      <td>1</td>\n",
       "      <td>0.757834</td>\n",
       "      <td>1</td>\n",
       "      <td>1.0</td>\n",
       "      <td>1</td>\n",
       "      <td>0.650419</td>\n",
       "    </tr>\n",
       "    <tr>\n",
       "      <th>163842</th>\n",
       "      <td>here 's metal</td>\n",
       "      <td>[-0.7834921, 1.388132, -0.50344956, -0.4574383...</td>\n",
       "      <td>1</td>\n",
       "      <td>0.929353</td>\n",
       "      <td>1</td>\n",
       "      <td>1.0</td>\n",
       "      <td>1</td>\n",
       "      <td>0.650419</td>\n",
       "    </tr>\n",
       "    <tr>\n",
       "      <th>163844</th>\n",
       "      <td>here 's mistress</td>\n",
       "      <td>[-0.7834921, 1.388132, -0.50344956, -0.4574383...</td>\n",
       "      <td>1</td>\n",
       "      <td>0.700347</td>\n",
       "      <td>1</td>\n",
       "      <td>1.0</td>\n",
       "      <td>1</td>\n",
       "      <td>0.650419</td>\n",
       "    </tr>\n",
       "    <tr>\n",
       "      <th>163860</th>\n",
       "      <td>here 's servilius</td>\n",
       "      <td>[-0.7834921, 1.388132, -0.50344956, -0.4574383...</td>\n",
       "      <td>1</td>\n",
       "      <td>0.954136</td>\n",
       "      <td>1</td>\n",
       "      <td>1.0</td>\n",
       "      <td>1</td>\n",
       "      <td>0.650419</td>\n",
       "    </tr>\n",
       "    <tr>\n",
       "      <th>163861</th>\n",
       "      <td>here 's snip</td>\n",
       "      <td>[-0.7834921, 1.388132, -0.50344956, -0.4574383...</td>\n",
       "      <td>1</td>\n",
       "      <td>0.928917</td>\n",
       "      <td>1</td>\n",
       "      <td>1.0</td>\n",
       "      <td>1</td>\n",
       "      <td>0.650419</td>\n",
       "    </tr>\n",
       "    <tr>\n",
       "      <th>216177</th>\n",
       "      <td>let 's ha</td>\n",
       "      <td>[-1.7783487, 0.5082124, -0.66882604, -0.212988...</td>\n",
       "      <td>0</td>\n",
       "      <td>0.479270</td>\n",
       "      <td>1</td>\n",
       "      <td>1.0</td>\n",
       "      <td>1</td>\n",
       "      <td>0.650419</td>\n",
       "    </tr>\n",
       "    <tr>\n",
       "      <th>216535</th>\n",
       "      <td>let instructions enter</td>\n",
       "      <td>[-1.7783487, 0.5082124, -0.66882604, -0.212988...</td>\n",
       "      <td>0</td>\n",
       "      <td>0.339098</td>\n",
       "      <td>1</td>\n",
       "      <td>1.0</td>\n",
       "      <td>1</td>\n",
       "      <td>0.650419</td>\n",
       "    </tr>\n",
       "    <tr>\n",
       "      <th>217183</th>\n",
       "      <td>let us enter</td>\n",
       "      <td>[-1.7783487, 0.5082124, -0.66882604, -0.212988...</td>\n",
       "      <td>0</td>\n",
       "      <td>0.082868</td>\n",
       "      <td>1</td>\n",
       "      <td>1.0</td>\n",
       "      <td>1</td>\n",
       "      <td>0.650419</td>\n",
       "    </tr>\n",
       "    <tr>\n",
       "      <th>223030</th>\n",
       "      <td>lord , enter</td>\n",
       "      <td>[0.14209582, -1.1874514, -1.0182289, -1.241069...</td>\n",
       "      <td>0</td>\n",
       "      <td>0.280686</td>\n",
       "      <td>1</td>\n",
       "      <td>1.0</td>\n",
       "      <td>1</td>\n",
       "      <td>0.650419</td>\n",
       "    </tr>\n",
       "    <tr>\n",
       "      <th>259113</th>\n",
       "      <td>no creature enter</td>\n",
       "      <td>[-0.08464329, 0.8848814, -0.420693, -0.1841003...</td>\n",
       "      <td>0</td>\n",
       "      <td>0.430797</td>\n",
       "      <td>1</td>\n",
       "      <td>1.0</td>\n",
       "      <td>1</td>\n",
       "      <td>0.650419</td>\n",
       "    </tr>\n",
       "    <tr>\n",
       "      <th>304788</th>\n",
       "      <td>pucelle is enter</td>\n",
       "      <td>[-0.0063148066, -0.11139169, 0.14660886, -0.11...</td>\n",
       "      <td>0</td>\n",
       "      <td>0.280109</td>\n",
       "      <td>1</td>\n",
       "      <td>1.0</td>\n",
       "      <td>1</td>\n",
       "      <td>0.650419</td>\n",
       "    </tr>\n",
       "    <tr>\n",
       "      <th>317597</th>\n",
       "      <td>scene and enter</td>\n",
       "      <td>[0.004221163, -1.2922221, -0.5299831, -0.55320...</td>\n",
       "      <td>0</td>\n",
       "      <td>0.380654</td>\n",
       "      <td>1</td>\n",
       "      <td>1.0</td>\n",
       "      <td>1</td>\n",
       "      <td>0.650419</td>\n",
       "    </tr>\n",
       "    <tr>\n",
       "      <th>336597</th>\n",
       "      <td>soft music enter</td>\n",
       "      <td>[-0.016723292, -0.15839632, -0.025772268, 0.02...</td>\n",
       "      <td>0</td>\n",
       "      <td>0.374104</td>\n",
       "      <td>1</td>\n",
       "      <td>1.0</td>\n",
       "      <td>1</td>\n",
       "      <td>0.650419</td>\n",
       "    </tr>\n",
       "    <tr>\n",
       "      <th>364205</th>\n",
       "      <td>the cloister enter</td>\n",
       "      <td>[-0.9592242, 1.2239616, -0.6399064, -0.5107603...</td>\n",
       "      <td>1</td>\n",
       "      <td>0.507154</td>\n",
       "      <td>1</td>\n",
       "      <td>1.0</td>\n",
       "      <td>1</td>\n",
       "      <td>0.603649</td>\n",
       "    </tr>\n",
       "    <tr>\n",
       "      <th>364397</th>\n",
       "      <td>the competitors enter</td>\n",
       "      <td>[-0.9592242, 1.2239616, -0.6399064, -0.5107603...</td>\n",
       "      <td>0</td>\n",
       "      <td>0.456837</td>\n",
       "      <td>1</td>\n",
       "      <td>1.0</td>\n",
       "      <td>1</td>\n",
       "      <td>0.574053</td>\n",
       "    </tr>\n",
       "    <tr>\n",
       "      <th>390266</th>\n",
       "      <td>this hath enter</td>\n",
       "      <td>[-0.43590978, 0.71614957, -0.36361748, -0.0306...</td>\n",
       "      <td>0</td>\n",
       "      <td>0.456748</td>\n",
       "      <td>1</td>\n",
       "      <td>1.0</td>\n",
       "      <td>0</td>\n",
       "      <td>0.450590</td>\n",
       "    </tr>\n",
       "    <tr>\n",
       "      <th>441649</th>\n",
       "      <td>where 's richard</td>\n",
       "      <td>[-0.82368076, 0.6422253, -0.0019464027, -0.332...</td>\n",
       "      <td>1</td>\n",
       "      <td>0.881868</td>\n",
       "      <td>1</td>\n",
       "      <td>1.0</td>\n",
       "      <td>1</td>\n",
       "      <td>0.650419</td>\n",
       "    </tr>\n",
       "  </tbody>\n",
       "</table>\n",
       "</div>"
      ],
      "text/plain": [
       "                          title  \\\n",
       "15842         all pyramus enter   \n",
       "109319           enter and exit   \n",
       "109484     enter duke frederick   \n",
       "109486        enter duke orsino   \n",
       "109488       enter duke solinus   \n",
       "109560  enter henry bolingbroke   \n",
       "109561        enter henry percy   \n",
       "109626       enter king richard   \n",
       "109733          enter our gates   \n",
       "109734           enter our rome   \n",
       "109789    enter queen elizabeth   \n",
       "109790     enter queen gertrude   \n",
       "109791    enter queen katharine   \n",
       "109874        enter the bastard   \n",
       "109875            enter the boy   \n",
       "109881       enter the countess   \n",
       "109885           enter the duke   \n",
       "109893           enter the king   \n",
       "109894           enter the lady   \n",
       "109896           enter the lord   \n",
       "109897          enter the lords   \n",
       "109899      enter the messenger   \n",
       "109901         enter the prince   \n",
       "109903          enter the queen   \n",
       "109906        enter the sheriff   \n",
       "109907     enter the soothsayer   \n",
       "109913        enter the warwick   \n",
       "140112        good people enter   \n",
       "159652         heaven and enter   \n",
       "163824         here 's beaufort   \n",
       "163833       here 's gloucester   \n",
       "163842            here 's metal   \n",
       "163844         here 's mistress   \n",
       "163860        here 's servilius   \n",
       "163861             here 's snip   \n",
       "216177                let 's ha   \n",
       "216535   let instructions enter   \n",
       "217183             let us enter   \n",
       "223030             lord , enter   \n",
       "259113        no creature enter   \n",
       "304788         pucelle is enter   \n",
       "317597          scene and enter   \n",
       "336597         soft music enter   \n",
       "364205       the cloister enter   \n",
       "364397    the competitors enter   \n",
       "390266          this hath enter   \n",
       "441649         where 's richard   \n",
       "\n",
       "                                                  w2v_dp1  gb_predict  \\\n",
       "15842   [-0.18137284, 0.19782384, -0.7731349, -0.13740...           0   \n",
       "109319  [1.1176435, -0.11412289, 0.86288315, -0.851101...           1   \n",
       "109484  [1.1176435, -0.11412289, 0.86288315, -0.851101...           1   \n",
       "109486  [1.1176435, -0.11412289, 0.86288315, -0.851101...           1   \n",
       "109488  [1.1176435, -0.11412289, 0.86288315, -0.851101...           1   \n",
       "109560  [1.1176435, -0.11412289, 0.86288315, -0.851101...           1   \n",
       "109561  [1.1176435, -0.11412289, 0.86288315, -0.851101...           1   \n",
       "109626  [1.1176435, -0.11412289, 0.86288315, -0.851101...           1   \n",
       "109733  [1.1176435, -0.11412289, 0.86288315, -0.851101...           1   \n",
       "109734  [1.1176435, -0.11412289, 0.86288315, -0.851101...           1   \n",
       "109789  [1.1176435, -0.11412289, 0.86288315, -0.851101...           1   \n",
       "109790  [1.1176435, -0.11412289, 0.86288315, -0.851101...           1   \n",
       "109791  [1.1176435, -0.11412289, 0.86288315, -0.851101...           1   \n",
       "109874  [1.1176435, -0.11412289, 0.86288315, -0.851101...           1   \n",
       "109875  [1.1176435, -0.11412289, 0.86288315, -0.851101...           1   \n",
       "109881  [1.1176435, -0.11412289, 0.86288315, -0.851101...           1   \n",
       "109885  [1.1176435, -0.11412289, 0.86288315, -0.851101...           1   \n",
       "109893  [1.1176435, -0.11412289, 0.86288315, -0.851101...           1   \n",
       "109894  [1.1176435, -0.11412289, 0.86288315, -0.851101...           0   \n",
       "109896  [1.1176435, -0.11412289, 0.86288315, -0.851101...           0   \n",
       "109897  [1.1176435, -0.11412289, 0.86288315, -0.851101...           0   \n",
       "109899  [1.1176435, -0.11412289, 0.86288315, -0.851101...           1   \n",
       "109901  [1.1176435, -0.11412289, 0.86288315, -0.851101...           1   \n",
       "109903  [1.1176435, -0.11412289, 0.86288315, -0.851101...           0   \n",
       "109906  [1.1176435, -0.11412289, 0.86288315, -0.851101...           1   \n",
       "109907  [1.1176435, -0.11412289, 0.86288315, -0.851101...           1   \n",
       "109913  [1.1176435, -0.11412289, 0.86288315, -0.851101...           1   \n",
       "140112  [0.89183116, -0.21151099, -0.4573949, 0.003994...           0   \n",
       "159652  [-0.26787508, -0.16040882, -0.73043156, 0.4138...           0   \n",
       "163824  [-0.7834921, 1.388132, -0.50344956, -0.4574383...           1   \n",
       "163833  [-0.7834921, 1.388132, -0.50344956, -0.4574383...           1   \n",
       "163842  [-0.7834921, 1.388132, -0.50344956, -0.4574383...           1   \n",
       "163844  [-0.7834921, 1.388132, -0.50344956, -0.4574383...           1   \n",
       "163860  [-0.7834921, 1.388132, -0.50344956, -0.4574383...           1   \n",
       "163861  [-0.7834921, 1.388132, -0.50344956, -0.4574383...           1   \n",
       "216177  [-1.7783487, 0.5082124, -0.66882604, -0.212988...           0   \n",
       "216535  [-1.7783487, 0.5082124, -0.66882604, -0.212988...           0   \n",
       "217183  [-1.7783487, 0.5082124, -0.66882604, -0.212988...           0   \n",
       "223030  [0.14209582, -1.1874514, -1.0182289, -1.241069...           0   \n",
       "259113  [-0.08464329, 0.8848814, -0.420693, -0.1841003...           0   \n",
       "304788  [-0.0063148066, -0.11139169, 0.14660886, -0.11...           0   \n",
       "317597  [0.004221163, -1.2922221, -0.5299831, -0.55320...           0   \n",
       "336597  [-0.016723292, -0.15839632, -0.025772268, 0.02...           0   \n",
       "364205  [-0.9592242, 1.2239616, -0.6399064, -0.5107603...           1   \n",
       "364397  [-0.9592242, 1.2239616, -0.6399064, -0.5107603...           0   \n",
       "390266  [-0.43590978, 0.71614957, -0.36361748, -0.0306...           0   \n",
       "441649  [-0.82368076, 0.6422253, -0.0019464027, -0.332...           1   \n",
       "\n",
       "        gb_prob_good  svm_predict  svm_prob_good  rnn_predict  rnn_prob_good  \n",
       "15842       0.465372            1            1.0            1       0.650419  \n",
       "109319      0.821896            1            1.0            1       0.650419  \n",
       "109484      0.924046            1            1.0            1       0.650419  \n",
       "109486      0.924046            1            1.0            1       0.650419  \n",
       "109488      0.924046            1            1.0            1       0.650419  \n",
       "109560      0.863250            1            1.0            1       0.650419  \n",
       "109561      0.895344            1            1.0            1       0.650419  \n",
       "109626      0.693217            1            1.0            1       0.650419  \n",
       "109733      0.503454            1            1.0            1       0.650419  \n",
       "109734      0.586346            1            1.0            1       0.650419  \n",
       "109789      0.922458            1            1.0            1       0.650419  \n",
       "109790      0.888524            1            1.0            1       0.650419  \n",
       "109791      0.888524            1            1.0            1       0.650419  \n",
       "109874      0.798551            1            1.0            1       0.650419  \n",
       "109875      0.600232            1            1.0            1       0.650419  \n",
       "109881      0.855417            1            1.0            1       0.650419  \n",
       "109885      0.685867            1            1.0            1       0.650419  \n",
       "109893      0.704421            1            1.0            1       0.650419  \n",
       "109894      0.437654            1            1.0            1       0.650419  \n",
       "109896      0.380485            1            1.0            1       0.650419  \n",
       "109897      0.441981            1            1.0            1       0.650419  \n",
       "109899      0.515225            1            1.0            1       0.650419  \n",
       "109901      0.664731            1            1.0            1       0.650419  \n",
       "109903      0.457306            1            1.0            1       0.650419  \n",
       "109906      0.855417            1            1.0            1       0.650419  \n",
       "109907      0.855417            1            1.0            1       0.650419  \n",
       "109913      0.712006            1            1.0            1       0.650419  \n",
       "140112      0.396686            1            1.0            1       0.650419  \n",
       "159652      0.422395            1            1.0            1       0.650419  \n",
       "163824      0.929353            1            1.0            1       0.650419  \n",
       "163833      0.757834            1            1.0            1       0.650419  \n",
       "163842      0.929353            1            1.0            1       0.650419  \n",
       "163844      0.700347            1            1.0            1       0.650419  \n",
       "163860      0.954136            1            1.0            1       0.650419  \n",
       "163861      0.928917            1            1.0            1       0.650419  \n",
       "216177      0.479270            1            1.0            1       0.650419  \n",
       "216535      0.339098            1            1.0            1       0.650419  \n",
       "217183      0.082868            1            1.0            1       0.650419  \n",
       "223030      0.280686            1            1.0            1       0.650419  \n",
       "259113      0.430797            1            1.0            1       0.650419  \n",
       "304788      0.280109            1            1.0            1       0.650419  \n",
       "317597      0.380654            1            1.0            1       0.650419  \n",
       "336597      0.374104            1            1.0            1       0.650419  \n",
       "364205      0.507154            1            1.0            1       0.603649  \n",
       "364397      0.456837            1            1.0            1       0.574053  \n",
       "390266      0.456748            1            1.0            0       0.450590  \n",
       "441649      0.881868            1            1.0            1       0.650419  "
      ]
     },
     "execution_count": 193,
     "metadata": {},
     "output_type": "execute_result"
    }
   ],
   "source": [
    "thou = perfect_svm.title.str.endswith('thou')\n",
    "\n",
    "perfect_svm[~thou]"
   ]
  },
  {
   "cell_type": "markdown",
   "metadata": {},
   "source": [
    "Ahh. Enter the [important person]. Another red herring."
   ]
  },
  {
   "cell_type": "code",
   "execution_count": null,
   "metadata": {},
   "outputs": [],
   "source": []
  }
 ],
 "metadata": {
  "kernelspec": {
   "display_name": "Python 3",
   "language": "python",
   "name": "python3"
  },
  "language_info": {
   "codemirror_mode": {
    "name": "ipython",
    "version": 3
   },
   "file_extension": ".py",
   "mimetype": "text/x-python",
   "name": "python",
   "nbconvert_exporter": "python",
   "pygments_lexer": "ipython3",
   "version": "3.8.3"
  }
 },
 "nbformat": 4,
 "nbformat_minor": 4
}
