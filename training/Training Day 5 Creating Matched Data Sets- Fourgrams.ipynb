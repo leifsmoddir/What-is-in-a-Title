{
 "cells": [
  {
   "cell_type": "code",
   "execution_count": 2,
   "metadata": {},
   "outputs": [],
   "source": [
    "import pandas as pd\n",
    "import numpy as np\n",
    "from nltk.tokenize import TreebankWordTokenizer\n",
    "from gensim.models import KeyedVectors\n",
    "from sklearn.model_selection import train_test_split\n",
    "import os"
   ]
  },
  {
   "cell_type": "code",
   "execution_count": 3,
   "metadata": {},
   "outputs": [
    {
     "data": {
      "text/html": [
       "<div>\n",
       "<style scoped>\n",
       "    .dataframe tbody tr th:only-of-type {\n",
       "        vertical-align: middle;\n",
       "    }\n",
       "\n",
       "    .dataframe tbody tr th {\n",
       "        vertical-align: top;\n",
       "    }\n",
       "\n",
       "    .dataframe thead th {\n",
       "        text-align: right;\n",
       "    }\n",
       "</style>\n",
       "<table border=\"1\" class=\"dataframe\">\n",
       "  <thead>\n",
       "    <tr style=\"text-align: right;\">\n",
       "      <th></th>\n",
       "      <th>title</th>\n",
       "      <th>good_title</th>\n",
       "      <th>pos</th>\n",
       "      <th>pos1</th>\n",
       "      <th>pos2</th>\n",
       "      <th>pos3</th>\n",
       "      <th>pos4</th>\n",
       "      <th>title_token</th>\n",
       "      <th>word_vec</th>\n",
       "    </tr>\n",
       "  </thead>\n",
       "  <tbody>\n",
       "    <tr>\n",
       "      <th>0</th>\n",
       "      <td>with him ? knows</td>\n",
       "      <td>0</td>\n",
       "      <td>['IN', 'PRP', '.', 'NNS']</td>\n",
       "      <td>IN</td>\n",
       "      <td>PRP</td>\n",
       "      <td>.</td>\n",
       "      <td>NNS</td>\n",
       "      <td>['with', 'him', '?', 'knows']</td>\n",
       "      <td>[[-7.74908543e-01  7.73788244e-02  5.28766096e...</td>\n",
       "    </tr>\n",
       "    <tr>\n",
       "      <th>1</th>\n",
       "      <td>is good for your</td>\n",
       "      <td>0</td>\n",
       "      <td>['VBZ', 'JJ', 'IN', 'PRP$']</td>\n",
       "      <td>VBZ</td>\n",
       "      <td>JJ</td>\n",
       "      <td>IN</td>\n",
       "      <td>PRP$</td>\n",
       "      <td>['is', 'good', 'for', 'your']</td>\n",
       "      <td>[[-8.93845335e-02 -5.09242773e-01 -1.35309592e...</td>\n",
       "    </tr>\n",
       "    <tr>\n",
       "      <th>2</th>\n",
       "      <td>man ? thy form</td>\n",
       "      <td>0</td>\n",
       "      <td>['NN', '.', 'JJ', 'NN']</td>\n",
       "      <td>NN</td>\n",
       "      <td>.</td>\n",
       "      <td>JJ</td>\n",
       "      <td>NN</td>\n",
       "      <td>['man', '?', 'thy', 'form']</td>\n",
       "      <td>[[-1.02470890e-01 -1.80637687e-01 -1.06548798e...</td>\n",
       "    </tr>\n",
       "    <tr>\n",
       "      <th>3</th>\n",
       "      <td>traitorous father are not</td>\n",
       "      <td>0</td>\n",
       "      <td>['JJ', 'NN', 'VBP', 'RB']</td>\n",
       "      <td>JJ</td>\n",
       "      <td>NN</td>\n",
       "      <td>VBP</td>\n",
       "      <td>RB</td>\n",
       "      <td>['traitorous', 'father', 'are', 'not']</td>\n",
       "      <td>[[ 1.47299841e-02 -5.07809073e-02  3.13400924e...</td>\n",
       "    </tr>\n",
       "    <tr>\n",
       "      <th>4</th>\n",
       "      <td>daintiest last , to</td>\n",
       "      <td>0</td>\n",
       "      <td>['JJS', 'JJ', ',', 'TO']</td>\n",
       "      <td>JJS</td>\n",
       "      <td>JJ</td>\n",
       "      <td>,</td>\n",
       "      <td>TO</td>\n",
       "      <td>['daintiest', 'last', ',', 'to']</td>\n",
       "      <td>[[ 2.92296102e-03 -7.05268141e-03 -5.92417922e...</td>\n",
       "    </tr>\n",
       "  </tbody>\n",
       "</table>\n",
       "</div>"
      ],
      "text/plain": [
       "                       title  good_title                          pos pos1  \\\n",
       "0           with him ? knows           0    ['IN', 'PRP', '.', 'NNS']   IN   \n",
       "1           is good for your           0  ['VBZ', 'JJ', 'IN', 'PRP$']  VBZ   \n",
       "2             man ? thy form           0      ['NN', '.', 'JJ', 'NN']   NN   \n",
       "3  traitorous father are not           0    ['JJ', 'NN', 'VBP', 'RB']   JJ   \n",
       "4        daintiest last , to           0     ['JJS', 'JJ', ',', 'TO']  JJS   \n",
       "\n",
       "  pos2 pos3  pos4                             title_token  \\\n",
       "0  PRP    .   NNS           ['with', 'him', '?', 'knows']   \n",
       "1   JJ   IN  PRP$           ['is', 'good', 'for', 'your']   \n",
       "2    .   JJ    NN             ['man', '?', 'thy', 'form']   \n",
       "3   NN  VBP    RB  ['traitorous', 'father', 'are', 'not']   \n",
       "4   JJ    ,    TO        ['daintiest', 'last', ',', 'to']   \n",
       "\n",
       "                                            word_vec  \n",
       "0  [[-7.74908543e-01  7.73788244e-02  5.28766096e...  \n",
       "1  [[-8.93845335e-02 -5.09242773e-01 -1.35309592e...  \n",
       "2  [[-1.02470890e-01 -1.80637687e-01 -1.06548798e...  \n",
       "3  [[ 1.47299841e-02 -5.07809073e-02  3.13400924e...  \n",
       "4  [[ 2.92296102e-03 -7.05268141e-03 -5.92417922e...  "
      ]
     },
     "execution_count": 3,
     "metadata": {},
     "output_type": "execute_result"
    }
   ],
   "source": [
    "fitles = pd.read_csv('../data/fourgram_titles_pos_w2v.csv')\n",
    "fitles.head()"
   ]
  },
  {
   "cell_type": "code",
   "execution_count": 4,
   "metadata": {},
   "outputs": [
    {
     "data": {
      "text/html": [
       "<div>\n",
       "<style scoped>\n",
       "    .dataframe tbody tr th:only-of-type {\n",
       "        vertical-align: middle;\n",
       "    }\n",
       "\n",
       "    .dataframe tbody tr th {\n",
       "        vertical-align: top;\n",
       "    }\n",
       "\n",
       "    .dataframe thead th {\n",
       "        text-align: right;\n",
       "    }\n",
       "</style>\n",
       "<table border=\"1\" class=\"dataframe\">\n",
       "  <thead>\n",
       "    <tr style=\"text-align: right;\">\n",
       "      <th></th>\n",
       "      <th>title</th>\n",
       "      <th>title_tokenized</th>\n",
       "      <th>pos_tag</th>\n",
       "      <th>pos</th>\n",
       "      <th>pos_len</th>\n",
       "      <th>pos1</th>\n",
       "      <th>pos2</th>\n",
       "      <th>pos3</th>\n",
       "      <th>pos4</th>\n",
       "    </tr>\n",
       "  </thead>\n",
       "  <tbody>\n",
       "    <tr>\n",
       "      <th>64394</th>\n",
       "      <td>bestow her funeral ,</td>\n",
       "      <td>['bestow', 'her', 'funeral', ',']</td>\n",
       "      <td>['IN', 'PRP$', 'JJ', ',']</td>\n",
       "      <td>['IN', 'PRP$', 'JJ', ',']</td>\n",
       "      <td>4</td>\n",
       "      <td>IN</td>\n",
       "      <td>PRP$</td>\n",
       "      <td>JJ</td>\n",
       "      <td>,</td>\n",
       "    </tr>\n",
       "    <tr>\n",
       "      <th>318084</th>\n",
       "      <td>others touch , and</td>\n",
       "      <td>['others', 'touch', ',', 'and']</td>\n",
       "      <td>['NNS', 'JJ', ',', 'CC']</td>\n",
       "      <td>['NNS', 'JJ', ',', 'CC']</td>\n",
       "      <td>4</td>\n",
       "      <td>NNS</td>\n",
       "      <td>JJ</td>\n",
       "      <td>,</td>\n",
       "      <td>CC</td>\n",
       "    </tr>\n",
       "    <tr>\n",
       "      <th>89227</th>\n",
       "      <td>come in my closet</td>\n",
       "      <td>['come', 'in', 'my', 'closet']</td>\n",
       "      <td>['VBN', 'IN', 'PRP$', 'NN']</td>\n",
       "      <td>['VBN', 'IN', 'PRP$', 'NN']</td>\n",
       "      <td>4</td>\n",
       "      <td>VBN</td>\n",
       "      <td>IN</td>\n",
       "      <td>PRP$</td>\n",
       "      <td>NN</td>\n",
       "    </tr>\n",
       "    <tr>\n",
       "      <th>69856</th>\n",
       "      <td>break into a hundred</td>\n",
       "      <td>['break', 'into', 'a', 'hundred']</td>\n",
       "      <td>['NN', 'IN', 'DT', 'JJ']</td>\n",
       "      <td>['NN', 'IN', 'DT', 'JJ']</td>\n",
       "      <td>4</td>\n",
       "      <td>NN</td>\n",
       "      <td>IN</td>\n",
       "      <td>DT</td>\n",
       "      <td>JJ</td>\n",
       "    </tr>\n",
       "    <tr>\n",
       "      <th>69366</th>\n",
       "      <td>boys , are we</td>\n",
       "      <td>['boys', ',', 'are', 'we']</td>\n",
       "      <td>['NNS', ',', 'VBP', 'PRP']</td>\n",
       "      <td>['NNS', ',', 'VBP', 'PRP']</td>\n",
       "      <td>4</td>\n",
       "      <td>NNS</td>\n",
       "      <td>,</td>\n",
       "      <td>VBP</td>\n",
       "      <td>PRP</td>\n",
       "    </tr>\n",
       "  </tbody>\n",
       "</table>\n",
       "</div>"
      ],
      "text/plain": [
       "                       title                    title_tokenized  \\\n",
       "64394   bestow her funeral ,  ['bestow', 'her', 'funeral', ',']   \n",
       "318084    others touch , and    ['others', 'touch', ',', 'and']   \n",
       "89227      come in my closet     ['come', 'in', 'my', 'closet']   \n",
       "69856   break into a hundred  ['break', 'into', 'a', 'hundred']   \n",
       "69366          boys , are we         ['boys', ',', 'are', 'we']   \n",
       "\n",
       "                            pos_tag                          pos  pos_len  \\\n",
       "64394     ['IN', 'PRP$', 'JJ', ',']    ['IN', 'PRP$', 'JJ', ',']        4   \n",
       "318084     ['NNS', 'JJ', ',', 'CC']     ['NNS', 'JJ', ',', 'CC']        4   \n",
       "89227   ['VBN', 'IN', 'PRP$', 'NN']  ['VBN', 'IN', 'PRP$', 'NN']        4   \n",
       "69856      ['NN', 'IN', 'DT', 'JJ']     ['NN', 'IN', 'DT', 'JJ']        4   \n",
       "69366    ['NNS', ',', 'VBP', 'PRP']   ['NNS', ',', 'VBP', 'PRP']        4   \n",
       "\n",
       "       pos1  pos2  pos3 pos4  \n",
       "64394    IN  PRP$    JJ    ,  \n",
       "318084  NNS    JJ     ,   CC  \n",
       "89227   VBN    IN  PRP$   NN  \n",
       "69856    NN    IN    DT   JJ  \n",
       "69366   NNS     ,   VBP  PRP  "
      ]
     },
     "execution_count": 4,
     "metadata": {},
     "output_type": "execute_result"
    }
   ],
   "source": [
    "fourshake = pd.read_csv('../data/shakespearean_fourgrams_pos.csv')\n",
    "fourshake.sample(5)"
   ]
  },
  {
   "cell_type": "markdown",
   "metadata": {},
   "source": [
    "The fourgrams still need word embedding"
   ]
  },
  {
   "cell_type": "code",
   "execution_count": 5,
   "metadata": {},
   "outputs": [],
   "source": [
    "fourshake = fourshake.drop(columns=['title_tokenized', 'pos_tag', 'pos_len'])"
   ]
  },
  {
   "cell_type": "code",
   "execution_count": 6,
   "metadata": {},
   "outputs": [
    {
     "data": {
      "text/html": [
       "<div>\n",
       "<style scoped>\n",
       "    .dataframe tbody tr th:only-of-type {\n",
       "        vertical-align: middle;\n",
       "    }\n",
       "\n",
       "    .dataframe tbody tr th {\n",
       "        vertical-align: top;\n",
       "    }\n",
       "\n",
       "    .dataframe thead th {\n",
       "        text-align: right;\n",
       "    }\n",
       "</style>\n",
       "<table border=\"1\" class=\"dataframe\">\n",
       "  <thead>\n",
       "    <tr style=\"text-align: right;\">\n",
       "      <th></th>\n",
       "      <th>title</th>\n",
       "      <th>pos</th>\n",
       "      <th>pos1</th>\n",
       "      <th>pos2</th>\n",
       "      <th>pos3</th>\n",
       "      <th>pos4</th>\n",
       "      <th>title_token</th>\n",
       "    </tr>\n",
       "  </thead>\n",
       "  <tbody>\n",
       "    <tr>\n",
       "      <th>357540</th>\n",
       "      <td>shillings i won of</td>\n",
       "      <td>['NNS', 'VBP', 'NNS', 'IN']</td>\n",
       "      <td>NNS</td>\n",
       "      <td>VBP</td>\n",
       "      <td>NNS</td>\n",
       "      <td>IN</td>\n",
       "      <td>[shillings, i, won, of]</td>\n",
       "    </tr>\n",
       "    <tr>\n",
       "      <th>473665</th>\n",
       "      <td>we have digested ,</td>\n",
       "      <td>['PRP', 'VBP', 'VBN', ',']</td>\n",
       "      <td>PRP</td>\n",
       "      <td>VBP</td>\n",
       "      <td>VBN</td>\n",
       "      <td>,</td>\n",
       "      <td>[we, have, digested, ,]</td>\n",
       "    </tr>\n",
       "    <tr>\n",
       "      <th>418228</th>\n",
       "      <td>then he is alive</td>\n",
       "      <td>['RB', 'PRP', 'VBZ', 'JJ']</td>\n",
       "      <td>RB</td>\n",
       "      <td>PRP</td>\n",
       "      <td>VBZ</td>\n",
       "      <td>JJ</td>\n",
       "      <td>[then, he, is, alive]</td>\n",
       "    </tr>\n",
       "    <tr>\n",
       "      <th>125788</th>\n",
       "      <td>feel only looking on</td>\n",
       "      <td>['NN', 'RB', 'VBG', 'IN']</td>\n",
       "      <td>NN</td>\n",
       "      <td>RB</td>\n",
       "      <td>VBG</td>\n",
       "      <td>IN</td>\n",
       "      <td>[feel, only, looking, on]</td>\n",
       "    </tr>\n",
       "    <tr>\n",
       "      <th>279411</th>\n",
       "      <td>my sorrows to be</td>\n",
       "      <td>['PRP$', 'NNS', 'TO', 'VB']</td>\n",
       "      <td>PRP$</td>\n",
       "      <td>NNS</td>\n",
       "      <td>TO</td>\n",
       "      <td>VB</td>\n",
       "      <td>[my, sorrows, to, be]</td>\n",
       "    </tr>\n",
       "  </tbody>\n",
       "</table>\n",
       "</div>"
      ],
      "text/plain": [
       "                       title                          pos  pos1 pos2 pos3  \\\n",
       "357540    shillings i won of  ['NNS', 'VBP', 'NNS', 'IN']   NNS  VBP  NNS   \n",
       "473665    we have digested ,   ['PRP', 'VBP', 'VBN', ',']   PRP  VBP  VBN   \n",
       "418228      then he is alive   ['RB', 'PRP', 'VBZ', 'JJ']    RB  PRP  VBZ   \n",
       "125788  feel only looking on    ['NN', 'RB', 'VBG', 'IN']    NN   RB  VBG   \n",
       "279411      my sorrows to be  ['PRP$', 'NNS', 'TO', 'VB']  PRP$  NNS   TO   \n",
       "\n",
       "       pos4                title_token  \n",
       "357540   IN    [shillings, i, won, of]  \n",
       "473665    ,    [we, have, digested, ,]  \n",
       "418228   JJ      [then, he, is, alive]  \n",
       "125788   IN  [feel, only, looking, on]  \n",
       "279411   VB      [my, sorrows, to, be]  "
      ]
     },
     "execution_count": 6,
     "metadata": {},
     "output_type": "execute_result"
    }
   ],
   "source": [
    "twd = TreebankWordTokenizer()\n",
    "\n",
    "fourshake['title_token'] = fourshake['title'].apply(lambda x: twd.tokenize(x))\n",
    "fourshake.sample(5)"
   ]
  },
  {
   "cell_type": "markdown",
   "metadata": {},
   "source": [
    "Now to replace every word in each trigram with the learned word vector"
   ]
  },
  {
   "cell_type": "code",
   "execution_count": 7,
   "metadata": {},
   "outputs": [],
   "source": [
    "wv = KeyedVectors.load(\"../feature_engineering/shake_w2v.wordsvectors\", mmap='r')"
   ]
  },
  {
   "cell_type": "code",
   "execution_count": 8,
   "metadata": {},
   "outputs": [
    {
     "data": {
      "text/plain": [
       "26304"
      ]
     },
     "execution_count": 8,
     "metadata": {},
     "output_type": "execute_result"
    }
   ],
   "source": [
    "words = set(wv.index2word)\n",
    "len(words)"
   ]
  },
  {
   "cell_type": "code",
   "execution_count": 11,
   "metadata": {},
   "outputs": [],
   "source": [
    "fourgram_vect = [np.array([wv[i] for i in ls if i in words])\n",
    "                                for ls in fourshake['title_token']]"
   ]
  },
  {
   "cell_type": "code",
   "execution_count": 15,
   "metadata": {},
   "outputs": [],
   "source": [
    "fourshake['word_vec'] = fourgram_vect"
   ]
  },
  {
   "cell_type": "code",
   "execution_count": 18,
   "metadata": {},
   "outputs": [
    {
     "name": "stdout",
     "output_type": "stream",
     "text": [
      "Number of fourgrams with no word matches from title_token 17181\n"
     ]
    }
   ],
   "source": [
    "loss_title_token = []\n",
    "\n",
    "for i,v in enumerate(fourgram_vect):\n",
    "    if len(v) != 4:\n",
    "        loss_title_token.append(i)\n",
    "\n",
    "print('Number of fourgrams with no word matches from title_token', len(loss_title_token))"
   ]
  },
  {
   "cell_type": "markdown",
   "metadata": {},
   "source": [
    "Previous wrod has shown that many of these title losses are due to pwrds with a period at the end, such as:\n",
    "`a bawd. hold` or ` about him. in`. These occur at sentence breaks, which are areas the we would not want titles generated from.\n",
    "    "
   ]
  },
  {
   "cell_type": "code",
   "execution_count": 20,
   "metadata": {},
   "outputs": [
    {
     "data": {
      "text/plain": [
       "title                                        a full soldier. let\n",
       "pos                                     ['DT', 'JJ', 'NN', 'NN']\n",
       "pos1                                                          DT\n",
       "pos2                                                          JJ\n",
       "pos3                                                          NN\n",
       "pos4                                                          NN\n",
       "title_token                             [a, full, soldier., let]\n",
       "word_vec       [[0.0037827007, 0.38528407, -0.89005077, 0.681...\n",
       "Name: 4626, dtype: object"
      ]
     },
     "execution_count": 20,
     "metadata": {},
     "output_type": "execute_result"
    }
   ],
   "source": [
    "fourshake.iloc[4626]"
   ]
  },
  {
   "cell_type": "code",
   "execution_count": 21,
   "metadata": {},
   "outputs": [
    {
     "data": {
      "text/plain": [
       "(511221, 8)"
      ]
     },
     "execution_count": 21,
     "metadata": {},
     "output_type": "execute_result"
    }
   ],
   "source": [
    "fourshake.drop(index=loss_title_token, inplace=True)\n",
    "fourshake.shape"
   ]
  },
  {
   "cell_type": "code",
   "execution_count": 22,
   "metadata": {},
   "outputs": [
    {
     "data": {
      "text/html": [
       "<div>\n",
       "<style scoped>\n",
       "    .dataframe tbody tr th:only-of-type {\n",
       "        vertical-align: middle;\n",
       "    }\n",
       "\n",
       "    .dataframe tbody tr th {\n",
       "        vertical-align: top;\n",
       "    }\n",
       "\n",
       "    .dataframe thead th {\n",
       "        text-align: right;\n",
       "    }\n",
       "</style>\n",
       "<table border=\"1\" class=\"dataframe\">\n",
       "  <thead>\n",
       "    <tr style=\"text-align: right;\">\n",
       "      <th></th>\n",
       "      <th>title</th>\n",
       "      <th>pos</th>\n",
       "      <th>pos1</th>\n",
       "      <th>pos2</th>\n",
       "      <th>pos3</th>\n",
       "      <th>pos4</th>\n",
       "      <th>title_token</th>\n",
       "      <th>word_vec</th>\n",
       "    </tr>\n",
       "  </thead>\n",
       "  <tbody>\n",
       "    <tr>\n",
       "      <th>156790</th>\n",
       "      <td>have ta'en you at</td>\n",
       "      <td>['VB', 'NN', 'PRP', 'IN']</td>\n",
       "      <td>VB</td>\n",
       "      <td>NN</td>\n",
       "      <td>PRP</td>\n",
       "      <td>IN</td>\n",
       "      <td>[have, ta'en, you, at]</td>\n",
       "      <td>[[0.71699846, -0.31489325, -0.50631213, -1.697...</td>\n",
       "    </tr>\n",
       "    <tr>\n",
       "      <th>103436</th>\n",
       "      <td>do not see them</td>\n",
       "      <td>['VB', 'RB', 'VB', 'PRP']</td>\n",
       "      <td>VB</td>\n",
       "      <td>RB</td>\n",
       "      <td>VB</td>\n",
       "      <td>PRP</td>\n",
       "      <td>[do, not, see, them]</td>\n",
       "      <td>[[-0.5646246, -0.51202106, -1.1728927, 0.00235...</td>\n",
       "    </tr>\n",
       "    <tr>\n",
       "      <th>19752</th>\n",
       "      <td>amendment , lords ?</td>\n",
       "      <td>['NN', ',', 'NNS', '.']</td>\n",
       "      <td>NN</td>\n",
       "      <td>,</td>\n",
       "      <td>NNS</td>\n",
       "      <td>.</td>\n",
       "      <td>[amendment, ,, lords, ?]</td>\n",
       "      <td>[[0.0029164026, -0.009978041, -0.0039208992, -...</td>\n",
       "    </tr>\n",
       "  </tbody>\n",
       "</table>\n",
       "</div>"
      ],
      "text/plain": [
       "                      title                        pos pos1 pos2 pos3 pos4  \\\n",
       "156790    have ta'en you at  ['VB', 'NN', 'PRP', 'IN']   VB   NN  PRP   IN   \n",
       "103436      do not see them  ['VB', 'RB', 'VB', 'PRP']   VB   RB   VB  PRP   \n",
       "19752   amendment , lords ?    ['NN', ',', 'NNS', '.']   NN    ,  NNS    .   \n",
       "\n",
       "                     title_token  \\\n",
       "156790    [have, ta'en, you, at]   \n",
       "103436      [do, not, see, them]   \n",
       "19752   [amendment, ,, lords, ?]   \n",
       "\n",
       "                                                 word_vec  \n",
       "156790  [[0.71699846, -0.31489325, -0.50631213, -1.697...  \n",
       "103436  [[-0.5646246, -0.51202106, -1.1728927, 0.00235...  \n",
       "19752   [[0.0029164026, -0.009978041, -0.0039208992, -...  "
      ]
     },
     "execution_count": 22,
     "metadata": {},
     "output_type": "execute_result"
    }
   ],
   "source": [
    "fourshake.reset_index(drop=True, inplace=True)\n",
    "fourshake.sample(3)"
   ]
  },
  {
   "cell_type": "markdown",
   "metadata": {},
   "source": [
    "I need to to be very careful with the one hot encoding because the title and shakespeare datasets will have different pos tags. I'll need to filter out all the pos tags in the shakespeare dataset that do not appear in the titles dataset, and visa versa"
   ]
  },
  {
   "cell_type": "code",
   "execution_count": 23,
   "metadata": {},
   "outputs": [
    {
     "name": "stdout",
     "output_type": "stream",
     "text": [
      "Number of pos tags in titles pos1: 23\n",
      "Number of pos tags in titles pos2: 27\n",
      "Number of pos tags in titles pos3: 24\n",
      "Number of pos tags in titles pos4: 24\n",
      "Number of pos tags in shakespeare pos1: 32\n",
      "Number of pos tags in shakespeare pos2: 38\n",
      "Number of pos tags in shakespeare pos3: 38\n",
      "Number of pos tags in shakespeare pos4: 37\n"
     ]
    }
   ],
   "source": [
    "all_fitles_pos1 = set(fitles.pos1.tolist())\n",
    "all_fitles_pos2 = set(fitles.pos2.tolist())\n",
    "all_fitles_pos3 = set(fitles.pos3.tolist())\n",
    "all_fitles_pos4 = set(fitles.pos4.tolist())\n",
    "\n",
    "\n",
    "print('Number of pos tags in titles pos1:', len(all_fitles_pos1))\n",
    "print('Number of pos tags in titles pos2:', len(all_fitles_pos2))\n",
    "print('Number of pos tags in titles pos3:', len(all_fitles_pos3))\n",
    "print('Number of pos tags in titles pos4:', len(all_fitles_pos4))\n",
    "\n",
    "all_fourshake_pos1 = set(fourshake.pos1.tolist())\n",
    "all_fourshake_pos2 = set(fourshake.pos2.tolist())\n",
    "all_fourshake_pos3 = set(fourshake.pos3.tolist())\n",
    "all_fourshake_pos4 = set(fourshake.pos4.tolist())\n",
    "\n",
    "print('Number of pos tags in shakespeare pos1:', len(all_fourshake_pos1))\n",
    "print('Number of pos tags in shakespeare pos2:', len(all_fourshake_pos2))\n",
    "print('Number of pos tags in shakespeare pos3:', len(all_fourshake_pos3))\n",
    "print('Number of pos tags in shakespeare pos4:', len(all_fourshake_pos4))"
   ]
  },
  {
   "cell_type": "code",
   "execution_count": 24,
   "metadata": {},
   "outputs": [
    {
     "name": "stdout",
     "output_type": "stream",
     "text": [
      "['UH', 'FW', 'JJR', 'PDT', 'RBS', 'VBP', 'WP$', '.', 'RP']\n",
      "['CD', 'WP', 'NNP', 'UH', 'WDT', 'FW', 'JJR', 'NNPS', 'WP$', ':', '\"\"']\n",
      "['RBR', 'EX', 'NNP', 'UH', 'WDT', 'JJR', 'PDT', 'NNPS', 'VBG', 'JJS', 'RBS', 'WP$', ':', '\"\"']\n",
      "['CD', 'RBR', 'WP', 'UH', 'WDT', 'FW', 'PDT', 'JJS', 'SYM', 'RBS', 'WP$', 'VBG', '\"\"']\n",
      "[]\n",
      "[]\n",
      "[]\n",
      "[]\n"
     ]
    }
   ],
   "source": [
    "pos1_rm = list(all_fourshake_pos1.difference(all_fitles_pos1))\n",
    "print(pos1_rm)\n",
    "\n",
    "pos2_rm = list(all_fourshake_pos2.difference(all_fitles_pos2))\n",
    "print(pos2_rm)\n",
    "\n",
    "pos3_rm = list(all_fourshake_pos3.difference(all_fitles_pos3))\n",
    "print(pos3_rm)\n",
    "\n",
    "pos4_rm = list(all_fourshake_pos4.difference(all_fitles_pos4))\n",
    "print(pos4_rm)\n",
    "\n",
    "pos5_rm = list(all_fitles_pos1.difference(all_fourshake_pos1))\n",
    "print(pos5_rm)\n",
    "\n",
    "pos6_rm = list(all_fitles_pos2.difference(all_fourshake_pos2))\n",
    "print(pos6_rm)\n",
    "\n",
    "pos7_rm = list(all_fitles_pos3.difference(all_fourshake_pos3))\n",
    "print(pos7_rm)\n",
    "\n",
    "pos8_rm = list(all_fitles_pos4.difference(all_fourshake_pos4))\n",
    "print(pos8_rm)"
   ]
  },
  {
   "cell_type": "code",
   "execution_count": 25,
   "metadata": {},
   "outputs": [
    {
     "name": "stdout",
     "output_type": "stream",
     "text": [
      "Starting number of fourgrams 511221\n"
     ]
    },
    {
     "data": {
      "text/plain": [
       "501598"
      ]
     },
     "execution_count": 25,
     "metadata": {},
     "output_type": "execute_result"
    }
   ],
   "source": [
    "print('Starting number of fourgrams', fourshake.shape[0])\n",
    "fourshake = fourshake[~fourshake['pos1'].isin(pos1_rm)]\n",
    "fourshake.shape[0]"
   ]
  },
  {
   "cell_type": "code",
   "execution_count": 26,
   "metadata": {},
   "outputs": [
    {
     "name": "stdout",
     "output_type": "stream",
     "text": [
      "Starting number of fourgrams 501598\n"
     ]
    },
    {
     "data": {
      "text/plain": [
       "492053"
      ]
     },
     "execution_count": 26,
     "metadata": {},
     "output_type": "execute_result"
    }
   ],
   "source": [
    "print('Starting number of fourgrams', fourshake.shape[0])\n",
    "fourshake = fourshake[~fourshake['pos2'].isin(pos2_rm)]\n",
    "fourshake.shape[0]"
   ]
  },
  {
   "cell_type": "code",
   "execution_count": 27,
   "metadata": {},
   "outputs": [
    {
     "name": "stdout",
     "output_type": "stream",
     "text": [
      "Starting number of fourgrams 492053\n"
     ]
    },
    {
     "data": {
      "text/plain": [
       "479694"
      ]
     },
     "execution_count": 27,
     "metadata": {},
     "output_type": "execute_result"
    }
   ],
   "source": [
    "print('Starting number of fourgrams', fourshake.shape[0])\n",
    "fourshake = fourshake[~fourshake['pos3'].isin(pos3_rm)]\n",
    "fourshake.shape[0]"
   ]
  },
  {
   "cell_type": "code",
   "execution_count": 28,
   "metadata": {},
   "outputs": [
    {
     "name": "stdout",
     "output_type": "stream",
     "text": [
      "Starting number of fourgrams 479694\n"
     ]
    },
    {
     "data": {
      "text/plain": [
       "468606"
      ]
     },
     "execution_count": 28,
     "metadata": {},
     "output_type": "execute_result"
    }
   ],
   "source": [
    "print('Starting number of fourgrams', fourshake.shape[0])\n",
    "fourshake = fourshake[~fourshake['pos4'].isin(pos4_rm)]\n",
    "fourshake.shape[0]"
   ]
  },
  {
   "cell_type": "code",
   "execution_count": 29,
   "metadata": {},
   "outputs": [
    {
     "name": "stdout",
     "output_type": "stream",
     "text": [
      "Number of pos tags in titles pos1: 23\n",
      "Number of pos tags in titles pos2: 27\n",
      "Number of pos tags in titles pos3: 24\n",
      "Number of pos tags in titles pos4: 24\n",
      "Number of pos tags in shakespeare pos1: 23\n",
      "Number of pos tags in shakespeare pos2: 27\n",
      "Number of pos tags in shakespeare pos3: 24\n",
      "Number of pos tags in shakespeare pos4: 24\n"
     ]
    }
   ],
   "source": [
    "all_fitles_pos1 = set(fitles.pos1.tolist())\n",
    "all_fitles_pos2 = set(fitles.pos2.tolist())\n",
    "all_fitles_pos3 = set(fitles.pos3.tolist())\n",
    "all_fitles_pos4 = set(fitles.pos4.tolist())\n",
    "\n",
    "\n",
    "print('Number of pos tags in titles pos1:', len(all_fitles_pos1))\n",
    "print('Number of pos tags in titles pos2:', len(all_fitles_pos2))\n",
    "print('Number of pos tags in titles pos3:', len(all_fitles_pos3))\n",
    "print('Number of pos tags in titles pos4:', len(all_fitles_pos4))\n",
    "\n",
    "all_fourshake_pos1 = set(fourshake.pos1.tolist())\n",
    "all_fourshake_pos2 = set(fourshake.pos2.tolist())\n",
    "all_fourshake_pos3 = set(fourshake.pos3.tolist())\n",
    "all_fourshake_pos4 = set(fourshake.pos4.tolist())\n",
    "\n",
    "print('Number of pos tags in shakespeare pos1:', len(all_fourshake_pos1))\n",
    "print('Number of pos tags in shakespeare pos2:', len(all_fourshake_pos2))\n",
    "print('Number of pos tags in shakespeare pos3:', len(all_fourshake_pos3))\n",
    "print('Number of pos tags in shakespeare pos4:', len(all_fourshake_pos4))"
   ]
  },
  {
   "cell_type": "code",
   "execution_count": 30,
   "metadata": {},
   "outputs": [
    {
     "name": "stdout",
     "output_type": "stream",
     "text": [
      "[]\n",
      "[]\n",
      "[]\n",
      "[]\n"
     ]
    }
   ],
   "source": [
    "pos1_rm = list(all_fourshake_pos1.difference(all_fitles_pos1))\n",
    "print(pos1_rm)\n",
    "\n",
    "pos2_rm = list(all_fourshake_pos2.difference(all_fitles_pos2))\n",
    "print(pos2_rm)\n",
    "\n",
    "pos3_rm = list(all_fourshake_pos3.difference(all_fitles_pos3))\n",
    "print(pos3_rm)\n",
    "\n",
    "pos4_rm = list(all_fourshake_pos4.difference(all_fitles_pos4))\n",
    "print(pos4_rm)"
   ]
  },
  {
   "cell_type": "markdown",
   "metadata": {},
   "source": [
    "POS tags synced! Now to create dummy variables from the POS tags."
   ]
  },
  {
   "cell_type": "code",
   "execution_count": 31,
   "metadata": {},
   "outputs": [
    {
     "name": "stdout",
     "output_type": "stream",
     "text": [
      "fitles_pos.shape: (338, 98)\n"
     ]
    },
    {
     "data": {
      "text/html": [
       "<div>\n",
       "<style scoped>\n",
       "    .dataframe tbody tr th:only-of-type {\n",
       "        vertical-align: middle;\n",
       "    }\n",
       "\n",
       "    .dataframe tbody tr th {\n",
       "        vertical-align: top;\n",
       "    }\n",
       "\n",
       "    .dataframe thead th {\n",
       "        text-align: right;\n",
       "    }\n",
       "</style>\n",
       "<table border=\"1\" class=\"dataframe\">\n",
       "  <thead>\n",
       "    <tr style=\"text-align: right;\">\n",
       "      <th></th>\n",
       "      <th>pos1_CC</th>\n",
       "      <th>pos1_CD</th>\n",
       "      <th>pos1_DT</th>\n",
       "      <th>pos1_EX</th>\n",
       "      <th>pos1_IN</th>\n",
       "      <th>pos1_JJ</th>\n",
       "      <th>pos1_JJS</th>\n",
       "      <th>pos1_MD</th>\n",
       "      <th>pos1_NN</th>\n",
       "      <th>pos1_NNS</th>\n",
       "      <th>...</th>\n",
       "      <th>pos4_PRP$</th>\n",
       "      <th>pos4_RB</th>\n",
       "      <th>pos4_RP</th>\n",
       "      <th>pos4_TO</th>\n",
       "      <th>pos4_VB</th>\n",
       "      <th>pos4_VBD</th>\n",
       "      <th>pos4_VBN</th>\n",
       "      <th>pos4_VBP</th>\n",
       "      <th>pos4_VBZ</th>\n",
       "      <th>pos4_WRB</th>\n",
       "    </tr>\n",
       "  </thead>\n",
       "  <tbody>\n",
       "    <tr>\n",
       "      <th>276</th>\n",
       "      <td>0</td>\n",
       "      <td>0</td>\n",
       "      <td>0</td>\n",
       "      <td>0</td>\n",
       "      <td>0</td>\n",
       "      <td>0</td>\n",
       "      <td>0</td>\n",
       "      <td>0</td>\n",
       "      <td>1</td>\n",
       "      <td>0</td>\n",
       "      <td>...</td>\n",
       "      <td>0</td>\n",
       "      <td>0</td>\n",
       "      <td>0</td>\n",
       "      <td>0</td>\n",
       "      <td>0</td>\n",
       "      <td>0</td>\n",
       "      <td>0</td>\n",
       "      <td>0</td>\n",
       "      <td>0</td>\n",
       "      <td>0</td>\n",
       "    </tr>\n",
       "  </tbody>\n",
       "</table>\n",
       "<p>1 rows × 98 columns</p>\n",
       "</div>"
      ],
      "text/plain": [
       "     pos1_CC  pos1_CD  pos1_DT  pos1_EX  pos1_IN  pos1_JJ  pos1_JJS  pos1_MD  \\\n",
       "276        0        0        0        0        0        0         0        0   \n",
       "\n",
       "     pos1_NN  pos1_NNS  ...  pos4_PRP$  pos4_RB  pos4_RP  pos4_TO  pos4_VB  \\\n",
       "276        1         0  ...          0        0        0        0        0   \n",
       "\n",
       "     pos4_VBD  pos4_VBN  pos4_VBP  pos4_VBZ  pos4_WRB  \n",
       "276         0         0         0         0         0  \n",
       "\n",
       "[1 rows x 98 columns]"
      ]
     },
     "execution_count": 31,
     "metadata": {},
     "output_type": "execute_result"
    }
   ],
   "source": [
    "fitles_pos = fitles[['pos1', 'pos2', 'pos3', 'pos4']]\n",
    "fitles_pos = pd.get_dummies(fitles_pos, prefix=['pos1', 'pos2', 'pos3', 'pos4'], columns=['pos1', 'pos2', 'pos3', 'pos4'])\n",
    "print('fitles_pos.shape:', fitles_pos.shape)\n",
    "fitles_pos.sample()"
   ]
  },
  {
   "cell_type": "code",
   "execution_count": 32,
   "metadata": {},
   "outputs": [
    {
     "name": "stdout",
     "output_type": "stream",
     "text": [
      "all_fitles_pos list of lists length: 338\n",
      "length of inner lists aka number of pos tags: 98\n"
     ]
    }
   ],
   "source": [
    "all_fitles_pos = fitles_pos.values.tolist()\n",
    "print('all_fitles_pos list of lists length:', len(all_fitles_pos))\n",
    "print('length of inner lists aka number of pos tags:', len(all_fitles_pos[0]))"
   ]
  },
  {
   "cell_type": "code",
   "execution_count": 33,
   "metadata": {},
   "outputs": [
    {
     "name": "stdout",
     "output_type": "stream",
     "text": [
      "fourshake_pos.shape: (468606, 98)\n"
     ]
    },
    {
     "data": {
      "text/html": [
       "<div>\n",
       "<style scoped>\n",
       "    .dataframe tbody tr th:only-of-type {\n",
       "        vertical-align: middle;\n",
       "    }\n",
       "\n",
       "    .dataframe tbody tr th {\n",
       "        vertical-align: top;\n",
       "    }\n",
       "\n",
       "    .dataframe thead th {\n",
       "        text-align: right;\n",
       "    }\n",
       "</style>\n",
       "<table border=\"1\" class=\"dataframe\">\n",
       "  <thead>\n",
       "    <tr style=\"text-align: right;\">\n",
       "      <th></th>\n",
       "      <th>pos1_CC</th>\n",
       "      <th>pos1_CD</th>\n",
       "      <th>pos1_DT</th>\n",
       "      <th>pos1_EX</th>\n",
       "      <th>pos1_IN</th>\n",
       "      <th>pos1_JJ</th>\n",
       "      <th>pos1_JJS</th>\n",
       "      <th>pos1_MD</th>\n",
       "      <th>pos1_NN</th>\n",
       "      <th>pos1_NNS</th>\n",
       "      <th>...</th>\n",
       "      <th>pos4_PRP$</th>\n",
       "      <th>pos4_RB</th>\n",
       "      <th>pos4_RP</th>\n",
       "      <th>pos4_TO</th>\n",
       "      <th>pos4_VB</th>\n",
       "      <th>pos4_VBD</th>\n",
       "      <th>pos4_VBN</th>\n",
       "      <th>pos4_VBP</th>\n",
       "      <th>pos4_VBZ</th>\n",
       "      <th>pos4_WRB</th>\n",
       "    </tr>\n",
       "  </thead>\n",
       "  <tbody>\n",
       "    <tr>\n",
       "      <th>8809</th>\n",
       "      <td>0</td>\n",
       "      <td>0</td>\n",
       "      <td>1</td>\n",
       "      <td>0</td>\n",
       "      <td>0</td>\n",
       "      <td>0</td>\n",
       "      <td>0</td>\n",
       "      <td>0</td>\n",
       "      <td>0</td>\n",
       "      <td>0</td>\n",
       "      <td>...</td>\n",
       "      <td>0</td>\n",
       "      <td>0</td>\n",
       "      <td>0</td>\n",
       "      <td>0</td>\n",
       "      <td>0</td>\n",
       "      <td>0</td>\n",
       "      <td>0</td>\n",
       "      <td>0</td>\n",
       "      <td>0</td>\n",
       "      <td>0</td>\n",
       "    </tr>\n",
       "  </tbody>\n",
       "</table>\n",
       "<p>1 rows × 98 columns</p>\n",
       "</div>"
      ],
      "text/plain": [
       "      pos1_CC  pos1_CD  pos1_DT  pos1_EX  pos1_IN  pos1_JJ  pos1_JJS  pos1_MD  \\\n",
       "8809        0        0        1        0        0        0         0        0   \n",
       "\n",
       "      pos1_NN  pos1_NNS  ...  pos4_PRP$  pos4_RB  pos4_RP  pos4_TO  pos4_VB  \\\n",
       "8809        0         0  ...          0        0        0        0        0   \n",
       "\n",
       "      pos4_VBD  pos4_VBN  pos4_VBP  pos4_VBZ  pos4_WRB  \n",
       "8809         0         0         0         0         0  \n",
       "\n",
       "[1 rows x 98 columns]"
      ]
     },
     "execution_count": 33,
     "metadata": {},
     "output_type": "execute_result"
    }
   ],
   "source": [
    "fourshake_pos = fourshake[['pos1', 'pos2', 'pos3', 'pos4']]\n",
    "fourshake_pos = pd.get_dummies(fourshake_pos, prefix=['pos1', 'pos2', 'pos3', 'pos4'], columns=['pos1', 'pos2', 'pos3', 'pos4'])\n",
    "print('fourshake_pos.shape:', fourshake_pos.shape)\n",
    "fourshake_pos.sample()"
   ]
  },
  {
   "cell_type": "code",
   "execution_count": 34,
   "metadata": {},
   "outputs": [
    {
     "name": "stdout",
     "output_type": "stream",
     "text": [
      "all_fourshake_pos list of lists length: 468606\n",
      "length of inner lists aka number of pos tags: 98\n"
     ]
    }
   ],
   "source": [
    "all_fourshake_pos = fourshake_pos.values.tolist()\n",
    "print('all_fourshake_pos list of lists length:', len(all_fourshake_pos))\n",
    "print('length of inner lists aka number of pos tags:', len(all_fourshake_pos[0]))"
   ]
  },
  {
   "cell_type": "code",
   "execution_count": 35,
   "metadata": {},
   "outputs": [],
   "source": [
    "title_col = fitles_pos.columns\n",
    "shake_col = fourshake_pos.columns\n",
    "\n",
    "for i in range(0, 98):\n",
    "    if title_col[i] != shake_col[i]:\n",
    "        print('Alas!', title_col[i], shake_col[i])"
   ]
  },
  {
   "cell_type": "code",
   "execution_count": 36,
   "metadata": {},
   "outputs": [
    {
     "data": {
      "text/html": [
       "<div>\n",
       "<style scoped>\n",
       "    .dataframe tbody tr th:only-of-type {\n",
       "        vertical-align: middle;\n",
       "    }\n",
       "\n",
       "    .dataframe tbody tr th {\n",
       "        vertical-align: top;\n",
       "    }\n",
       "\n",
       "    .dataframe thead th {\n",
       "        text-align: right;\n",
       "    }\n",
       "</style>\n",
       "<table border=\"1\" class=\"dataframe\">\n",
       "  <thead>\n",
       "    <tr style=\"text-align: right;\">\n",
       "      <th></th>\n",
       "      <th>title</th>\n",
       "      <th>good_title</th>\n",
       "      <th>pos</th>\n",
       "      <th>pos1</th>\n",
       "      <th>pos2</th>\n",
       "      <th>pos3</th>\n",
       "      <th>pos4</th>\n",
       "      <th>title_token</th>\n",
       "      <th>word_vec</th>\n",
       "      <th>all_pos</th>\n",
       "    </tr>\n",
       "  </thead>\n",
       "  <tbody>\n",
       "    <tr>\n",
       "      <th>314</th>\n",
       "      <td>speak daggers to her</td>\n",
       "      <td>1</td>\n",
       "      <td>['NN', 'NNS', 'TO', 'PRP$']</td>\n",
       "      <td>NN</td>\n",
       "      <td>NNS</td>\n",
       "      <td>TO</td>\n",
       "      <td>PRP$</td>\n",
       "      <td>['speak', 'daggers', 'to', 'her']</td>\n",
       "      <td>[[-2.09728375e-01 -3.97513092e-01 -1.20670378e...</td>\n",
       "      <td>[0, 0, 0, 0, 0, 0, 0, 0, 1, 0, 0, 0, 0, 0, 0, ...</td>\n",
       "    </tr>\n",
       "  </tbody>\n",
       "</table>\n",
       "</div>"
      ],
      "text/plain": [
       "                    title  good_title                          pos pos1 pos2  \\\n",
       "314  speak daggers to her           1  ['NN', 'NNS', 'TO', 'PRP$']   NN  NNS   \n",
       "\n",
       "    pos3  pos4                        title_token  \\\n",
       "314   TO  PRP$  ['speak', 'daggers', 'to', 'her']   \n",
       "\n",
       "                                              word_vec  \\\n",
       "314  [[-2.09728375e-01 -3.97513092e-01 -1.20670378e...   \n",
       "\n",
       "                                               all_pos  \n",
       "314  [0, 0, 0, 0, 0, 0, 0, 0, 1, 0, 0, 0, 0, 0, 0, ...  "
      ]
     },
     "execution_count": 36,
     "metadata": {},
     "output_type": "execute_result"
    }
   ],
   "source": [
    "fitles['all_pos'] = all_fitles_pos\n",
    "fitles.sample()"
   ]
  },
  {
   "cell_type": "code",
   "execution_count": 37,
   "metadata": {},
   "outputs": [
    {
     "data": {
      "text/html": [
       "<div>\n",
       "<style scoped>\n",
       "    .dataframe tbody tr th:only-of-type {\n",
       "        vertical-align: middle;\n",
       "    }\n",
       "\n",
       "    .dataframe tbody tr th {\n",
       "        vertical-align: top;\n",
       "    }\n",
       "\n",
       "    .dataframe thead th {\n",
       "        text-align: right;\n",
       "    }\n",
       "</style>\n",
       "<table border=\"1\" class=\"dataframe\">\n",
       "  <thead>\n",
       "    <tr style=\"text-align: right;\">\n",
       "      <th></th>\n",
       "      <th>title</th>\n",
       "      <th>pos</th>\n",
       "      <th>pos1</th>\n",
       "      <th>pos2</th>\n",
       "      <th>pos3</th>\n",
       "      <th>pos4</th>\n",
       "      <th>title_token</th>\n",
       "      <th>word_vec</th>\n",
       "      <th>all_pos</th>\n",
       "    </tr>\n",
       "  </thead>\n",
       "  <tbody>\n",
       "    <tr>\n",
       "      <th>320167</th>\n",
       "      <td>present medicine must be</td>\n",
       "      <td>['JJ', 'NN', 'MD', 'VB']</td>\n",
       "      <td>JJ</td>\n",
       "      <td>NN</td>\n",
       "      <td>MD</td>\n",
       "      <td>VB</td>\n",
       "      <td>[present, medicine, must, be]</td>\n",
       "      <td>[[-0.32386544, -0.04748271, -0.08426321, -0.33...</td>\n",
       "      <td>[0, 0, 0, 0, 0, 1, 0, 0, 0, 0, 0, 0, 0, 0, 0, ...</td>\n",
       "    </tr>\n",
       "  </tbody>\n",
       "</table>\n",
       "</div>"
      ],
      "text/plain": [
       "                           title                       pos pos1 pos2 pos3  \\\n",
       "320167  present medicine must be  ['JJ', 'NN', 'MD', 'VB']   JJ   NN   MD   \n",
       "\n",
       "       pos4                    title_token  \\\n",
       "320167   VB  [present, medicine, must, be]   \n",
       "\n",
       "                                                 word_vec  \\\n",
       "320167  [[-0.32386544, -0.04748271, -0.08426321, -0.33...   \n",
       "\n",
       "                                                  all_pos  \n",
       "320167  [0, 0, 0, 0, 0, 1, 0, 0, 0, 0, 0, 0, 0, 0, 0, ...  "
      ]
     },
     "execution_count": 37,
     "metadata": {},
     "output_type": "execute_result"
    }
   ],
   "source": [
    "fourshake['all_pos'] = all_fourshake_pos\n",
    "fourshake.sample()"
   ]
  },
  {
   "cell_type": "markdown",
   "metadata": {},
   "source": [
    "And now to create a second dataset by removing the first one-hot encoded category"
   ]
  },
  {
   "cell_type": "code",
   "execution_count": 38,
   "metadata": {},
   "outputs": [
    {
     "name": "stdout",
     "output_type": "stream",
     "text": [
      "fitles_pos2.shape: (338, 94)\n"
     ]
    },
    {
     "data": {
      "text/html": [
       "<div>\n",
       "<style scoped>\n",
       "    .dataframe tbody tr th:only-of-type {\n",
       "        vertical-align: middle;\n",
       "    }\n",
       "\n",
       "    .dataframe tbody tr th {\n",
       "        vertical-align: top;\n",
       "    }\n",
       "\n",
       "    .dataframe thead th {\n",
       "        text-align: right;\n",
       "    }\n",
       "</style>\n",
       "<table border=\"1\" class=\"dataframe\">\n",
       "  <thead>\n",
       "    <tr style=\"text-align: right;\">\n",
       "      <th></th>\n",
       "      <th>pos1_CD</th>\n",
       "      <th>pos1_DT</th>\n",
       "      <th>pos1_EX</th>\n",
       "      <th>pos1_IN</th>\n",
       "      <th>pos1_JJ</th>\n",
       "      <th>pos1_JJS</th>\n",
       "      <th>pos1_MD</th>\n",
       "      <th>pos1_NN</th>\n",
       "      <th>pos1_NNS</th>\n",
       "      <th>pos1_PRP</th>\n",
       "      <th>...</th>\n",
       "      <th>pos4_PRP$</th>\n",
       "      <th>pos4_RB</th>\n",
       "      <th>pos4_RP</th>\n",
       "      <th>pos4_TO</th>\n",
       "      <th>pos4_VB</th>\n",
       "      <th>pos4_VBD</th>\n",
       "      <th>pos4_VBN</th>\n",
       "      <th>pos4_VBP</th>\n",
       "      <th>pos4_VBZ</th>\n",
       "      <th>pos4_WRB</th>\n",
       "    </tr>\n",
       "  </thead>\n",
       "  <tbody>\n",
       "    <tr>\n",
       "      <th>131</th>\n",
       "      <td>0</td>\n",
       "      <td>0</td>\n",
       "      <td>0</td>\n",
       "      <td>0</td>\n",
       "      <td>0</td>\n",
       "      <td>0</td>\n",
       "      <td>0</td>\n",
       "      <td>0</td>\n",
       "      <td>0</td>\n",
       "      <td>1</td>\n",
       "      <td>...</td>\n",
       "      <td>0</td>\n",
       "      <td>1</td>\n",
       "      <td>0</td>\n",
       "      <td>0</td>\n",
       "      <td>0</td>\n",
       "      <td>0</td>\n",
       "      <td>0</td>\n",
       "      <td>0</td>\n",
       "      <td>0</td>\n",
       "      <td>0</td>\n",
       "    </tr>\n",
       "  </tbody>\n",
       "</table>\n",
       "<p>1 rows × 94 columns</p>\n",
       "</div>"
      ],
      "text/plain": [
       "     pos1_CD  pos1_DT  pos1_EX  pos1_IN  pos1_JJ  pos1_JJS  pos1_MD  pos1_NN  \\\n",
       "131        0        0        0        0        0         0        0        0   \n",
       "\n",
       "     pos1_NNS  pos1_PRP  ...  pos4_PRP$  pos4_RB  pos4_RP  pos4_TO  pos4_VB  \\\n",
       "131         0         1  ...          0        1        0        0        0   \n",
       "\n",
       "     pos4_VBD  pos4_VBN  pos4_VBP  pos4_VBZ  pos4_WRB  \n",
       "131         0         0         0         0         0  \n",
       "\n",
       "[1 rows x 94 columns]"
      ]
     },
     "execution_count": 38,
     "metadata": {},
     "output_type": "execute_result"
    }
   ],
   "source": [
    "fitles_pos2 = fitles[['pos1', 'pos2', 'pos3', 'pos4']]\n",
    "fitles_pos2 = pd.get_dummies(fitles_pos2, prefix=['pos1', 'pos2', 'pos3', 'pos4'], columns=['pos1', 'pos2', 'pos3', 'pos4'], drop_first=True)\n",
    "print('fitles_pos2.shape:', fitles_pos2.shape)\n",
    "fitles_pos2.sample()"
   ]
  },
  {
   "cell_type": "code",
   "execution_count": 39,
   "metadata": {},
   "outputs": [
    {
     "name": "stdout",
     "output_type": "stream",
     "text": [
      "dp1_fitles_pos list of lists length: 338\n",
      "length of inner lists aka number of pos tags: 94\n"
     ]
    }
   ],
   "source": [
    "dp1_fitles_pos = fitles_pos2.values.tolist()\n",
    "print('dp1_fitles_pos list of lists length:', len(dp1_fitles_pos))\n",
    "print('length of inner lists aka number of pos tags:', len(dp1_fitles_pos[0]))"
   ]
  },
  {
   "cell_type": "code",
   "execution_count": 40,
   "metadata": {},
   "outputs": [
    {
     "name": "stdout",
     "output_type": "stream",
     "text": [
      "fourshake_pos2.shape: (468606, 94)\n"
     ]
    },
    {
     "data": {
      "text/html": [
       "<div>\n",
       "<style scoped>\n",
       "    .dataframe tbody tr th:only-of-type {\n",
       "        vertical-align: middle;\n",
       "    }\n",
       "\n",
       "    .dataframe tbody tr th {\n",
       "        vertical-align: top;\n",
       "    }\n",
       "\n",
       "    .dataframe thead th {\n",
       "        text-align: right;\n",
       "    }\n",
       "</style>\n",
       "<table border=\"1\" class=\"dataframe\">\n",
       "  <thead>\n",
       "    <tr style=\"text-align: right;\">\n",
       "      <th></th>\n",
       "      <th>pos1_CD</th>\n",
       "      <th>pos1_DT</th>\n",
       "      <th>pos1_EX</th>\n",
       "      <th>pos1_IN</th>\n",
       "      <th>pos1_JJ</th>\n",
       "      <th>pos1_JJS</th>\n",
       "      <th>pos1_MD</th>\n",
       "      <th>pos1_NN</th>\n",
       "      <th>pos1_NNS</th>\n",
       "      <th>pos1_PRP</th>\n",
       "      <th>...</th>\n",
       "      <th>pos4_PRP$</th>\n",
       "      <th>pos4_RB</th>\n",
       "      <th>pos4_RP</th>\n",
       "      <th>pos4_TO</th>\n",
       "      <th>pos4_VB</th>\n",
       "      <th>pos4_VBD</th>\n",
       "      <th>pos4_VBN</th>\n",
       "      <th>pos4_VBP</th>\n",
       "      <th>pos4_VBZ</th>\n",
       "      <th>pos4_WRB</th>\n",
       "    </tr>\n",
       "  </thead>\n",
       "  <tbody>\n",
       "    <tr>\n",
       "      <th>484945</th>\n",
       "      <td>0</td>\n",
       "      <td>0</td>\n",
       "      <td>0</td>\n",
       "      <td>1</td>\n",
       "      <td>0</td>\n",
       "      <td>0</td>\n",
       "      <td>0</td>\n",
       "      <td>0</td>\n",
       "      <td>0</td>\n",
       "      <td>0</td>\n",
       "      <td>...</td>\n",
       "      <td>0</td>\n",
       "      <td>0</td>\n",
       "      <td>0</td>\n",
       "      <td>0</td>\n",
       "      <td>0</td>\n",
       "      <td>0</td>\n",
       "      <td>0</td>\n",
       "      <td>0</td>\n",
       "      <td>0</td>\n",
       "      <td>0</td>\n",
       "    </tr>\n",
       "  </tbody>\n",
       "</table>\n",
       "<p>1 rows × 94 columns</p>\n",
       "</div>"
      ],
      "text/plain": [
       "        pos1_CD  pos1_DT  pos1_EX  pos1_IN  pos1_JJ  pos1_JJS  pos1_MD  \\\n",
       "484945        0        0        0        1        0         0        0   \n",
       "\n",
       "        pos1_NN  pos1_NNS  pos1_PRP  ...  pos4_PRP$  pos4_RB  pos4_RP  \\\n",
       "484945        0         0         0  ...          0        0        0   \n",
       "\n",
       "        pos4_TO  pos4_VB  pos4_VBD  pos4_VBN  pos4_VBP  pos4_VBZ  pos4_WRB  \n",
       "484945        0        0         0         0         0         0         0  \n",
       "\n",
       "[1 rows x 94 columns]"
      ]
     },
     "execution_count": 40,
     "metadata": {},
     "output_type": "execute_result"
    }
   ],
   "source": [
    "fourshake_pos2 = fourshake[['pos1', 'pos2', 'pos3', 'pos4']]\n",
    "fourshake_pos2 = pd.get_dummies(fourshake_pos2, prefix=['pos1', 'pos2', 'pos3', 'pos4'], columns=['pos1', 'pos2', 'pos3', 'pos4'], drop_first=True)\n",
    "print('fourshake_pos2.shape:', fourshake_pos2.shape)\n",
    "fourshake_pos2.sample()"
   ]
  },
  {
   "cell_type": "code",
   "execution_count": 41,
   "metadata": {},
   "outputs": [
    {
     "name": "stdout",
     "output_type": "stream",
     "text": [
      "dp1_fourshake_pos list of lists length: 468606\n",
      "length of inner lists aka number of pos tags: 94\n"
     ]
    }
   ],
   "source": [
    "dp1_fourshake_pos = fourshake_pos2.values.tolist()\n",
    "print('dp1_fourshake_pos list of lists length:', len(dp1_fourshake_pos))\n",
    "print('length of inner lists aka number of pos tags:', len(dp1_fourshake_pos[0]))"
   ]
  },
  {
   "cell_type": "code",
   "execution_count": 42,
   "metadata": {},
   "outputs": [],
   "source": [
    "title_col2 = fitles_pos2.columns\n",
    "shake_col2 = fourshake_pos2.columns\n",
    "\n",
    "for i in range(0, 78):\n",
    "    if title_col2[i] != shake_col2[i]:\n",
    "        print('Alas!', title_col2[i], shake_col2[i])"
   ]
  },
  {
   "cell_type": "code",
   "execution_count": 43,
   "metadata": {},
   "outputs": [
    {
     "data": {
      "text/html": [
       "<div>\n",
       "<style scoped>\n",
       "    .dataframe tbody tr th:only-of-type {\n",
       "        vertical-align: middle;\n",
       "    }\n",
       "\n",
       "    .dataframe tbody tr th {\n",
       "        vertical-align: top;\n",
       "    }\n",
       "\n",
       "    .dataframe thead th {\n",
       "        text-align: right;\n",
       "    }\n",
       "</style>\n",
       "<table border=\"1\" class=\"dataframe\">\n",
       "  <thead>\n",
       "    <tr style=\"text-align: right;\">\n",
       "      <th></th>\n",
       "      <th>title</th>\n",
       "      <th>good_title</th>\n",
       "      <th>pos</th>\n",
       "      <th>pos1</th>\n",
       "      <th>pos2</th>\n",
       "      <th>pos3</th>\n",
       "      <th>pos4</th>\n",
       "      <th>title_token</th>\n",
       "      <th>word_vec</th>\n",
       "      <th>all_pos</th>\n",
       "      <th>dp1_pos</th>\n",
       "    </tr>\n",
       "  </thead>\n",
       "  <tbody>\n",
       "    <tr>\n",
       "      <th>110</th>\n",
       "      <td>thing , yea ,</td>\n",
       "      <td>0</td>\n",
       "      <td>['NN', ',', 'NN', ',']</td>\n",
       "      <td>NN</td>\n",
       "      <td>,</td>\n",
       "      <td>NN</td>\n",
       "      <td>,</td>\n",
       "      <td>['thing', ',', 'yea', ',']</td>\n",
       "      <td>[[-1.03537709e-01 -3.90889376e-01 -5.70682108e...</td>\n",
       "      <td>[0, 0, 0, 0, 0, 0, 0, 0, 1, 0, 0, 0, 0, 0, 0, ...</td>\n",
       "      <td>[0, 0, 0, 0, 0, 0, 0, 1, 0, 0, 0, 0, 0, 0, 0, ...</td>\n",
       "    </tr>\n",
       "  </tbody>\n",
       "</table>\n",
       "</div>"
      ],
      "text/plain": [
       "             title  good_title                     pos pos1 pos2 pos3 pos4  \\\n",
       "110  thing , yea ,           0  ['NN', ',', 'NN', ',']   NN    ,   NN    ,   \n",
       "\n",
       "                    title_token  \\\n",
       "110  ['thing', ',', 'yea', ',']   \n",
       "\n",
       "                                              word_vec  \\\n",
       "110  [[-1.03537709e-01 -3.90889376e-01 -5.70682108e...   \n",
       "\n",
       "                                               all_pos  \\\n",
       "110  [0, 0, 0, 0, 0, 0, 0, 0, 1, 0, 0, 0, 0, 0, 0, ...   \n",
       "\n",
       "                                               dp1_pos  \n",
       "110  [0, 0, 0, 0, 0, 0, 0, 1, 0, 0, 0, 0, 0, 0, 0, ...  "
      ]
     },
     "execution_count": 43,
     "metadata": {},
     "output_type": "execute_result"
    }
   ],
   "source": [
    "fitles['dp1_pos'] = dp1_fitles_pos\n",
    "fitles.sample()"
   ]
  },
  {
   "cell_type": "code",
   "execution_count": 44,
   "metadata": {},
   "outputs": [
    {
     "data": {
      "text/html": [
       "<div>\n",
       "<style scoped>\n",
       "    .dataframe tbody tr th:only-of-type {\n",
       "        vertical-align: middle;\n",
       "    }\n",
       "\n",
       "    .dataframe tbody tr th {\n",
       "        vertical-align: top;\n",
       "    }\n",
       "\n",
       "    .dataframe thead th {\n",
       "        text-align: right;\n",
       "    }\n",
       "</style>\n",
       "<table border=\"1\" class=\"dataframe\">\n",
       "  <thead>\n",
       "    <tr style=\"text-align: right;\">\n",
       "      <th></th>\n",
       "      <th>title</th>\n",
       "      <th>pos</th>\n",
       "      <th>pos1</th>\n",
       "      <th>pos2</th>\n",
       "      <th>pos3</th>\n",
       "      <th>pos4</th>\n",
       "      <th>title_token</th>\n",
       "      <th>word_vec</th>\n",
       "      <th>all_pos</th>\n",
       "      <th>dp1_pos</th>\n",
       "    </tr>\n",
       "  </thead>\n",
       "  <tbody>\n",
       "    <tr>\n",
       "      <th>104299</th>\n",
       "      <td>do you mightily hold</td>\n",
       "      <td>['VB', 'PRP', 'RB', 'VB']</td>\n",
       "      <td>VB</td>\n",
       "      <td>PRP</td>\n",
       "      <td>RB</td>\n",
       "      <td>VB</td>\n",
       "      <td>[do, you, mightily, hold]</td>\n",
       "      <td>[[-0.5646246, -0.51202106, -1.1728927, 0.00235...</td>\n",
       "      <td>[0, 0, 0, 0, 0, 0, 0, 0, 0, 0, 0, 0, 0, 0, 0, ...</td>\n",
       "      <td>[0, 0, 0, 0, 0, 0, 0, 0, 0, 0, 0, 0, 0, 0, 1, ...</td>\n",
       "    </tr>\n",
       "  </tbody>\n",
       "</table>\n",
       "</div>"
      ],
      "text/plain": [
       "                       title                        pos pos1 pos2 pos3 pos4  \\\n",
       "104299  do you mightily hold  ['VB', 'PRP', 'RB', 'VB']   VB  PRP   RB   VB   \n",
       "\n",
       "                      title_token  \\\n",
       "104299  [do, you, mightily, hold]   \n",
       "\n",
       "                                                 word_vec  \\\n",
       "104299  [[-0.5646246, -0.51202106, -1.1728927, 0.00235...   \n",
       "\n",
       "                                                  all_pos  \\\n",
       "104299  [0, 0, 0, 0, 0, 0, 0, 0, 0, 0, 0, 0, 0, 0, 0, ...   \n",
       "\n",
       "                                                  dp1_pos  \n",
       "104299  [0, 0, 0, 0, 0, 0, 0, 0, 0, 0, 0, 0, 0, 0, 1, ...  "
      ]
     },
     "execution_count": 44,
     "metadata": {},
     "output_type": "execute_result"
    }
   ],
   "source": [
    "fourshake['dp1_pos'] = dp1_fourshake_pos\n",
    "fourshake.sample()"
   ]
  },
  {
   "cell_type": "code",
   "execution_count": 45,
   "metadata": {},
   "outputs": [],
   "source": [
    "datapath = '../data'\n",
    "\n",
    "datapath_fourshake = os.path.join(datapath, 'shakespearean_fourgrams.pkl')\n",
    "fourshake.to_pickle(datapath_fourshake)\n",
    "\n",
    "datapath_fitles = os.path.join(datapath, 'fourgram_titles.pkl')\n",
    "fitles.to_pickle(datapath_fitles)"
   ]
  },
  {
   "cell_type": "code",
   "execution_count": 1,
   "metadata": {},
   "outputs": [],
   "source": [
    "import pandas as pd\n",
    "import numpy as np\n",
    "import os"
   ]
  },
  {
   "cell_type": "code",
   "execution_count": 4,
   "metadata": {},
   "outputs": [
    {
     "data": {
      "text/html": [
       "<div>\n",
       "<style scoped>\n",
       "    .dataframe tbody tr th:only-of-type {\n",
       "        vertical-align: middle;\n",
       "    }\n",
       "\n",
       "    .dataframe tbody tr th {\n",
       "        vertical-align: top;\n",
       "    }\n",
       "\n",
       "    .dataframe thead th {\n",
       "        text-align: right;\n",
       "    }\n",
       "</style>\n",
       "<table border=\"1\" class=\"dataframe\">\n",
       "  <thead>\n",
       "    <tr style=\"text-align: right;\">\n",
       "      <th></th>\n",
       "      <th>title</th>\n",
       "      <th>good_title</th>\n",
       "      <th>pos</th>\n",
       "      <th>pos1</th>\n",
       "      <th>pos2</th>\n",
       "      <th>pos3</th>\n",
       "      <th>pos4</th>\n",
       "      <th>title_token</th>\n",
       "      <th>word_vec</th>\n",
       "      <th>all_pos</th>\n",
       "      <th>dp1_pos</th>\n",
       "    </tr>\n",
       "  </thead>\n",
       "  <tbody>\n",
       "    <tr>\n",
       "      <th>0</th>\n",
       "      <td>with him ? knows</td>\n",
       "      <td>0</td>\n",
       "      <td>['IN', 'PRP', '.', 'NNS']</td>\n",
       "      <td>IN</td>\n",
       "      <td>PRP</td>\n",
       "      <td>.</td>\n",
       "      <td>NNS</td>\n",
       "      <td>['with', 'him', '?', 'knows']</td>\n",
       "      <td>[[-7.74908543e-01  7.73788244e-02  5.28766096e...</td>\n",
       "      <td>[0, 0, 0, 0, 1, 0, 0, 0, 0, 0, 0, 0, 0, 0, 0, ...</td>\n",
       "      <td>[0, 0, 0, 1, 0, 0, 0, 0, 0, 0, 0, 0, 0, 0, 0, ...</td>\n",
       "    </tr>\n",
       "    <tr>\n",
       "      <th>1</th>\n",
       "      <td>is good for your</td>\n",
       "      <td>0</td>\n",
       "      <td>['VBZ', 'JJ', 'IN', 'PRP$']</td>\n",
       "      <td>VBZ</td>\n",
       "      <td>JJ</td>\n",
       "      <td>IN</td>\n",
       "      <td>PRP$</td>\n",
       "      <td>['is', 'good', 'for', 'your']</td>\n",
       "      <td>[[-8.93845335e-02 -5.09242773e-01 -1.35309592e...</td>\n",
       "      <td>[0, 0, 0, 0, 0, 0, 0, 0, 0, 0, 0, 0, 0, 0, 0, ...</td>\n",
       "      <td>[0, 0, 0, 0, 0, 0, 0, 0, 0, 0, 0, 0, 0, 0, 0, ...</td>\n",
       "    </tr>\n",
       "    <tr>\n",
       "      <th>2</th>\n",
       "      <td>man ? thy form</td>\n",
       "      <td>0</td>\n",
       "      <td>['NN', '.', 'JJ', 'NN']</td>\n",
       "      <td>NN</td>\n",
       "      <td>.</td>\n",
       "      <td>JJ</td>\n",
       "      <td>NN</td>\n",
       "      <td>['man', '?', 'thy', 'form']</td>\n",
       "      <td>[[-1.02470890e-01 -1.80637687e-01 -1.06548798e...</td>\n",
       "      <td>[0, 0, 0, 0, 0, 0, 0, 0, 1, 0, 0, 0, 0, 0, 0, ...</td>\n",
       "      <td>[0, 0, 0, 0, 0, 0, 0, 1, 0, 0, 0, 0, 0, 0, 0, ...</td>\n",
       "    </tr>\n",
       "    <tr>\n",
       "      <th>3</th>\n",
       "      <td>traitorous father are not</td>\n",
       "      <td>0</td>\n",
       "      <td>['JJ', 'NN', 'VBP', 'RB']</td>\n",
       "      <td>JJ</td>\n",
       "      <td>NN</td>\n",
       "      <td>VBP</td>\n",
       "      <td>RB</td>\n",
       "      <td>['traitorous', 'father', 'are', 'not']</td>\n",
       "      <td>[[ 1.47299841e-02 -5.07809073e-02  3.13400924e...</td>\n",
       "      <td>[0, 0, 0, 0, 0, 1, 0, 0, 0, 0, 0, 0, 0, 0, 0, ...</td>\n",
       "      <td>[0, 0, 0, 0, 1, 0, 0, 0, 0, 0, 0, 0, 0, 0, 0, ...</td>\n",
       "    </tr>\n",
       "    <tr>\n",
       "      <th>4</th>\n",
       "      <td>daintiest last , to</td>\n",
       "      <td>0</td>\n",
       "      <td>['JJS', 'JJ', ',', 'TO']</td>\n",
       "      <td>JJS</td>\n",
       "      <td>JJ</td>\n",
       "      <td>,</td>\n",
       "      <td>TO</td>\n",
       "      <td>['daintiest', 'last', ',', 'to']</td>\n",
       "      <td>[[ 2.92296102e-03 -7.05268141e-03 -5.92417922e...</td>\n",
       "      <td>[0, 0, 0, 0, 0, 0, 1, 0, 0, 0, 0, 0, 0, 0, 0, ...</td>\n",
       "      <td>[0, 0, 0, 0, 0, 1, 0, 0, 0, 0, 0, 0, 0, 0, 0, ...</td>\n",
       "    </tr>\n",
       "  </tbody>\n",
       "</table>\n",
       "</div>"
      ],
      "text/plain": [
       "                       title  good_title                          pos pos1  \\\n",
       "0           with him ? knows           0    ['IN', 'PRP', '.', 'NNS']   IN   \n",
       "1           is good for your           0  ['VBZ', 'JJ', 'IN', 'PRP$']  VBZ   \n",
       "2             man ? thy form           0      ['NN', '.', 'JJ', 'NN']   NN   \n",
       "3  traitorous father are not           0    ['JJ', 'NN', 'VBP', 'RB']   JJ   \n",
       "4        daintiest last , to           0     ['JJS', 'JJ', ',', 'TO']  JJS   \n",
       "\n",
       "  pos2 pos3  pos4                             title_token  \\\n",
       "0  PRP    .   NNS           ['with', 'him', '?', 'knows']   \n",
       "1   JJ   IN  PRP$           ['is', 'good', 'for', 'your']   \n",
       "2    .   JJ    NN             ['man', '?', 'thy', 'form']   \n",
       "3   NN  VBP    RB  ['traitorous', 'father', 'are', 'not']   \n",
       "4   JJ    ,    TO        ['daintiest', 'last', ',', 'to']   \n",
       "\n",
       "                                            word_vec  \\\n",
       "0  [[-7.74908543e-01  7.73788244e-02  5.28766096e...   \n",
       "1  [[-8.93845335e-02 -5.09242773e-01 -1.35309592e...   \n",
       "2  [[-1.02470890e-01 -1.80637687e-01 -1.06548798e...   \n",
       "3  [[ 1.47299841e-02 -5.07809073e-02  3.13400924e...   \n",
       "4  [[ 2.92296102e-03 -7.05268141e-03 -5.92417922e...   \n",
       "\n",
       "                                             all_pos  \\\n",
       "0  [0, 0, 0, 0, 1, 0, 0, 0, 0, 0, 0, 0, 0, 0, 0, ...   \n",
       "1  [0, 0, 0, 0, 0, 0, 0, 0, 0, 0, 0, 0, 0, 0, 0, ...   \n",
       "2  [0, 0, 0, 0, 0, 0, 0, 0, 1, 0, 0, 0, 0, 0, 0, ...   \n",
       "3  [0, 0, 0, 0, 0, 1, 0, 0, 0, 0, 0, 0, 0, 0, 0, ...   \n",
       "4  [0, 0, 0, 0, 0, 0, 1, 0, 0, 0, 0, 0, 0, 0, 0, ...   \n",
       "\n",
       "                                             dp1_pos  \n",
       "0  [0, 0, 0, 1, 0, 0, 0, 0, 0, 0, 0, 0, 0, 0, 0, ...  \n",
       "1  [0, 0, 0, 0, 0, 0, 0, 0, 0, 0, 0, 0, 0, 0, 0, ...  \n",
       "2  [0, 0, 0, 0, 0, 0, 0, 1, 0, 0, 0, 0, 0, 0, 0, ...  \n",
       "3  [0, 0, 0, 0, 1, 0, 0, 0, 0, 0, 0, 0, 0, 0, 0, ...  \n",
       "4  [0, 0, 0, 0, 0, 1, 0, 0, 0, 0, 0, 0, 0, 0, 0, ...  "
      ]
     },
     "execution_count": 4,
     "metadata": {},
     "output_type": "execute_result"
    }
   ],
   "source": [
    "fitles = pd.read_pickle('../data/fourgram_titles.pkl')\n",
    "fitles.head()"
   ]
  },
  {
   "cell_type": "code",
   "execution_count": 5,
   "metadata": {},
   "outputs": [
    {
     "data": {
      "text/html": [
       "<div>\n",
       "<style scoped>\n",
       "    .dataframe tbody tr th:only-of-type {\n",
       "        vertical-align: middle;\n",
       "    }\n",
       "\n",
       "    .dataframe tbody tr th {\n",
       "        vertical-align: top;\n",
       "    }\n",
       "\n",
       "    .dataframe thead th {\n",
       "        text-align: right;\n",
       "    }\n",
       "</style>\n",
       "<table border=\"1\" class=\"dataframe\">\n",
       "  <thead>\n",
       "    <tr style=\"text-align: right;\">\n",
       "      <th></th>\n",
       "      <th>title</th>\n",
       "      <th>good_title</th>\n",
       "      <th>word_vec</th>\n",
       "      <th>all_pos</th>\n",
       "      <th>dp1_pos</th>\n",
       "    </tr>\n",
       "  </thead>\n",
       "  <tbody>\n",
       "    <tr>\n",
       "      <th>333</th>\n",
       "      <td>the eye of heaven</td>\n",
       "      <td>1</td>\n",
       "      <td>[[-9.59224224e-01  1.22396159e+00 -6.39906406e...</td>\n",
       "      <td>[0, 0, 1, 0, 0, 0, 0, 0, 0, 0, 0, 0, 0, 0, 0, ...</td>\n",
       "      <td>[0, 1, 0, 0, 0, 0, 0, 0, 0, 0, 0, 0, 0, 0, 0, ...</td>\n",
       "    </tr>\n",
       "  </tbody>\n",
       "</table>\n",
       "</div>"
      ],
      "text/plain": [
       "                 title  good_title  \\\n",
       "333  the eye of heaven           1   \n",
       "\n",
       "                                              word_vec  \\\n",
       "333  [[-9.59224224e-01  1.22396159e+00 -6.39906406e...   \n",
       "\n",
       "                                               all_pos  \\\n",
       "333  [0, 0, 1, 0, 0, 0, 0, 0, 0, 0, 0, 0, 0, 0, 0, ...   \n",
       "\n",
       "                                               dp1_pos  \n",
       "333  [0, 1, 0, 0, 0, 0, 0, 0, 0, 0, 0, 0, 0, 0, 0, ...  "
      ]
     },
     "execution_count": 5,
     "metadata": {},
     "output_type": "execute_result"
    }
   ],
   "source": [
    "fitles = fitles.drop(columns=['pos', 'pos1', 'pos2', 'pos3', 'pos4', 'title_token'])\n",
    "fitles.sample()"
   ]
  },
  {
   "cell_type": "code",
   "execution_count": 7,
   "metadata": {},
   "outputs": [
    {
     "data": {
      "text/plain": [
       "str"
      ]
     },
     "execution_count": 7,
     "metadata": {},
     "output_type": "execute_result"
    }
   ],
   "source": [
    "type(fitles.iloc[0,2])"
   ]
  },
  {
   "cell_type": "markdown",
   "metadata": {},
   "source": [
    "Now to reformat the `word_vec` column from a string to an 800 dimension word vector."
   ]
  },
  {
   "cell_type": "code",
   "execution_count": 9,
   "metadata": {},
   "outputs": [
    {
     "data": {
      "text/plain": [
       "numpy.ndarray"
      ]
     },
     "execution_count": 9,
     "metadata": {},
     "output_type": "execute_result"
    }
   ],
   "source": [
    "result1 = fitles['word_vec'].apply(lambda x: \n",
    "                           np.fromstring(\n",
    "                               x.replace('\\n','')\n",
    "                                .replace('[','')\n",
    "                                .replace(']','')\n",
    "                                .replace('  ',' '), sep=' '))\n",
    "type(result1[0])"
   ]
  },
  {
   "cell_type": "code",
   "execution_count": 11,
   "metadata": {},
   "outputs": [
    {
     "data": {
      "text/plain": [
       "800"
      ]
     },
     "execution_count": 11,
     "metadata": {},
     "output_type": "execute_result"
    }
   ],
   "source": [
    "len(result1[1])"
   ]
  },
  {
   "cell_type": "code",
   "execution_count": 15,
   "metadata": {},
   "outputs": [
    {
     "data": {
      "text/html": [
       "<div>\n",
       "<style scoped>\n",
       "    .dataframe tbody tr th:only-of-type {\n",
       "        vertical-align: middle;\n",
       "    }\n",
       "\n",
       "    .dataframe tbody tr th {\n",
       "        vertical-align: top;\n",
       "    }\n",
       "\n",
       "    .dataframe thead th {\n",
       "        text-align: right;\n",
       "    }\n",
       "</style>\n",
       "<table border=\"1\" class=\"dataframe\">\n",
       "  <thead>\n",
       "    <tr style=\"text-align: right;\">\n",
       "      <th></th>\n",
       "      <th>title</th>\n",
       "      <th>good_title</th>\n",
       "      <th>word_vec</th>\n",
       "      <th>all_pos</th>\n",
       "      <th>dp1_pos</th>\n",
       "      <th>result</th>\n",
       "    </tr>\n",
       "  </thead>\n",
       "  <tbody>\n",
       "    <tr>\n",
       "      <th>308</th>\n",
       "      <td>trippingly on the tongue</td>\n",
       "      <td>1</td>\n",
       "      <td>[[-9.52565484e-03 -1.08746914e-02 -1.34599209e...</td>\n",
       "      <td>[0, 0, 0, 0, 0, 0, 0, 0, 0, 0, 0, 0, 1, 0, 0, ...</td>\n",
       "      <td>[0, 0, 0, 0, 0, 0, 0, 0, 0, 0, 0, 1, 0, 0, 0, ...</td>\n",
       "      <td>[-0.00952565484, -0.0108746914, -0.0134599209,...</td>\n",
       "    </tr>\n",
       "  </tbody>\n",
       "</table>\n",
       "</div>"
      ],
      "text/plain": [
       "                        title  good_title  \\\n",
       "308  trippingly on the tongue           1   \n",
       "\n",
       "                                              word_vec  \\\n",
       "308  [[-9.52565484e-03 -1.08746914e-02 -1.34599209e...   \n",
       "\n",
       "                                               all_pos  \\\n",
       "308  [0, 0, 0, 0, 0, 0, 0, 0, 0, 0, 0, 0, 1, 0, 0, ...   \n",
       "\n",
       "                                               dp1_pos  \\\n",
       "308  [0, 0, 0, 0, 0, 0, 0, 0, 0, 0, 0, 1, 0, 0, 0, ...   \n",
       "\n",
       "                                                result  \n",
       "308  [-0.00952565484, -0.0108746914, -0.0134599209,...  "
      ]
     },
     "execution_count": 15,
     "metadata": {},
     "output_type": "execute_result"
    }
   ],
   "source": [
    "fitles['result'] = result1\n",
    "fitles.sample()"
   ]
  },
  {
   "cell_type": "code",
   "execution_count": 17,
   "metadata": {},
   "outputs": [
    {
     "data": {
      "text/html": [
       "<div>\n",
       "<style scoped>\n",
       "    .dataframe tbody tr th:only-of-type {\n",
       "        vertical-align: middle;\n",
       "    }\n",
       "\n",
       "    .dataframe tbody tr th {\n",
       "        vertical-align: top;\n",
       "    }\n",
       "\n",
       "    .dataframe thead th {\n",
       "        text-align: right;\n",
       "    }\n",
       "</style>\n",
       "<table border=\"1\" class=\"dataframe\">\n",
       "  <thead>\n",
       "    <tr style=\"text-align: right;\">\n",
       "      <th></th>\n",
       "      <th>title</th>\n",
       "      <th>good_title</th>\n",
       "      <th>word_vec</th>\n",
       "      <th>all_pos</th>\n",
       "      <th>dp1_pos</th>\n",
       "      <th>result</th>\n",
       "      <th>w2v</th>\n",
       "    </tr>\n",
       "  </thead>\n",
       "  <tbody>\n",
       "    <tr>\n",
       "      <th>171</th>\n",
       "      <td>no enemy but winter</td>\n",
       "      <td>1</td>\n",
       "      <td>[[-8.46432894e-02  8.84881377e-01 -4.20693010e...</td>\n",
       "      <td>[0, 0, 1, 0, 0, 0, 0, 0, 0, 0, 0, 0, 0, 0, 0, ...</td>\n",
       "      <td>[0, 1, 0, 0, 0, 0, 0, 0, 0, 0, 0, 0, 0, 0, 0, ...</td>\n",
       "      <td>[-0.0846432894, 0.884881377, -0.42069301, -0.1...</td>\n",
       "      <td>[-0.0846432894, 0.884881377, -0.42069301, -0.1...</td>\n",
       "    </tr>\n",
       "  </tbody>\n",
       "</table>\n",
       "</div>"
      ],
      "text/plain": [
       "                   title  good_title  \\\n",
       "171  no enemy but winter           1   \n",
       "\n",
       "                                              word_vec  \\\n",
       "171  [[-8.46432894e-02  8.84881377e-01 -4.20693010e...   \n",
       "\n",
       "                                               all_pos  \\\n",
       "171  [0, 0, 1, 0, 0, 0, 0, 0, 0, 0, 0, 0, 0, 0, 0, ...   \n",
       "\n",
       "                                               dp1_pos  \\\n",
       "171  [0, 1, 0, 0, 0, 0, 0, 0, 0, 0, 0, 0, 0, 0, 0, ...   \n",
       "\n",
       "                                                result  \\\n",
       "171  [-0.0846432894, 0.884881377, -0.42069301, -0.1...   \n",
       "\n",
       "                                                   w2v  \n",
       "171  [-0.0846432894, 0.884881377, -0.42069301, -0.1...  "
      ]
     },
     "execution_count": 17,
     "metadata": {},
     "output_type": "execute_result"
    }
   ],
   "source": [
    "fitles['w2v'] = fitles['result'].apply(lambda x: list(x))\n",
    "fitles.sample()"
   ]
  },
  {
   "cell_type": "code",
   "execution_count": 21,
   "metadata": {},
   "outputs": [],
   "source": [
    "fitles = fitles.drop(columns=['word_vec', 'result'])"
   ]
  },
  {
   "cell_type": "code",
   "execution_count": 20,
   "metadata": {},
   "outputs": [
    {
     "data": {
      "text/html": [
       "<div>\n",
       "<style scoped>\n",
       "    .dataframe tbody tr th:only-of-type {\n",
       "        vertical-align: middle;\n",
       "    }\n",
       "\n",
       "    .dataframe tbody tr th {\n",
       "        vertical-align: top;\n",
       "    }\n",
       "\n",
       "    .dataframe thead th {\n",
       "        text-align: right;\n",
       "    }\n",
       "</style>\n",
       "<table border=\"1\" class=\"dataframe\">\n",
       "  <thead>\n",
       "    <tr style=\"text-align: right;\">\n",
       "      <th></th>\n",
       "      <th>title</th>\n",
       "      <th>good_title</th>\n",
       "      <th>word_vec</th>\n",
       "      <th>all_pos</th>\n",
       "      <th>dp1_pos</th>\n",
       "      <th>result</th>\n",
       "      <th>w2v</th>\n",
       "    </tr>\n",
       "  </thead>\n",
       "  <tbody>\n",
       "    <tr>\n",
       "      <th>77</th>\n",
       "      <td>any good thing to</td>\n",
       "      <td>0</td>\n",
       "      <td>[[-2.20608994e-01  2.12935314e-01 -3.57046336e...</td>\n",
       "      <td>[0, 0, 1, 0, 0, 0, 0, 0, 0, 0, 0, 0, 0, 0, 0, ...</td>\n",
       "      <td>[0, 1, 0, 0, 0, 0, 0, 0, 0, 0, 0, 0, 0, 0, 0, ...</td>\n",
       "      <td>[-0.220608994, 0.212935314, -0.357046336, -0.1...</td>\n",
       "      <td>[-0.220608994, 0.212935314, -0.357046336, -0.1...</td>\n",
       "    </tr>\n",
       "  </tbody>\n",
       "</table>\n",
       "</div>"
      ],
      "text/plain": [
       "                title  good_title  \\\n",
       "77  any good thing to           0   \n",
       "\n",
       "                                             word_vec  \\\n",
       "77  [[-2.20608994e-01  2.12935314e-01 -3.57046336e...   \n",
       "\n",
       "                                              all_pos  \\\n",
       "77  [0, 0, 1, 0, 0, 0, 0, 0, 0, 0, 0, 0, 0, 0, 0, ...   \n",
       "\n",
       "                                              dp1_pos  \\\n",
       "77  [0, 1, 0, 0, 0, 0, 0, 0, 0, 0, 0, 0, 0, 0, 0, ...   \n",
       "\n",
       "                                               result  \\\n",
       "77  [-0.220608994, 0.212935314, -0.357046336, -0.1...   \n",
       "\n",
       "                                                  w2v  \n",
       "77  [-0.220608994, 0.212935314, -0.357046336, -0.1...  "
      ]
     },
     "execution_count": 20,
     "metadata": {},
     "output_type": "execute_result"
    }
   ],
   "source": [
    "fitles.sample()"
   ]
  },
  {
   "cell_type": "markdown",
   "metadata": {},
   "source": [
    "Now combine `w2v` with `all_pos` and `dp1_pos`"
   ]
  },
  {
   "cell_type": "code",
   "execution_count": 22,
   "metadata": {},
   "outputs": [
    {
     "name": "stdout",
     "output_type": "stream",
     "text": [
      "Length of w2v_dp1 list: 338\n",
      "Length of first element of w2v_dp1 list: 2\n",
      "Length of first element of inner list: 800\n",
      "Type of first element of inner list: <class 'list'>\n",
      "Length of seceond element of inner list 94\n",
      "Type of element of inner list <class 'list'>\n"
     ]
    }
   ],
   "source": [
    "w2v_dp1_pos = fitles[['w2v', 'dp1_pos']]\n",
    "w2v_dp1 = w2v_dp1_pos.values.tolist()\n",
    "\n",
    "print('Length of w2v_dp1 list:', len(w2v_dp1))\n",
    "print('Length of first element of w2v_dp1 list:', len(w2v_dp1[0]))\n",
    "print('Length of first element of inner list:', len(w2v_dp1[0][0]))\n",
    "print('Type of first element of inner list:', type(w2v_dp1[0][0]))\n",
    "print('Length of seceond element of inner list', len(w2v_dp1[0][1]))\n",
    "print('Type of element of inner list', type(w2v_dp1[0][1]))"
   ]
  },
  {
   "cell_type": "code",
   "execution_count": 23,
   "metadata": {},
   "outputs": [
    {
     "name": "stdout",
     "output_type": "stream",
     "text": [
      "Length of new_w2v_dp1 338\n",
      "Length of inner list 894\n"
     ]
    }
   ],
   "source": [
    "new_w2v_dp1 = []\n",
    "\n",
    "for i in range(len(w2v_dp1)):\n",
    "    new_w2v_dp1.append(w2v_dp1[i][0] + w2v_dp1[i][1])\n",
    "    \n",
    "print('Length of new_w2v_dp1', len(new_w2v_dp1))\n",
    "print('Length of inner list', len(new_w2v_dp1[0]))"
   ]
  },
  {
   "cell_type": "code",
   "execution_count": 24,
   "metadata": {},
   "outputs": [
    {
     "data": {
      "text/html": [
       "<div>\n",
       "<style scoped>\n",
       "    .dataframe tbody tr th:only-of-type {\n",
       "        vertical-align: middle;\n",
       "    }\n",
       "\n",
       "    .dataframe tbody tr th {\n",
       "        vertical-align: top;\n",
       "    }\n",
       "\n",
       "    .dataframe thead th {\n",
       "        text-align: right;\n",
       "    }\n",
       "</style>\n",
       "<table border=\"1\" class=\"dataframe\">\n",
       "  <thead>\n",
       "    <tr style=\"text-align: right;\">\n",
       "      <th></th>\n",
       "      <th>title</th>\n",
       "      <th>good_title</th>\n",
       "      <th>all_pos</th>\n",
       "      <th>dp1_pos</th>\n",
       "      <th>w2v</th>\n",
       "      <th>w2v_dp1</th>\n",
       "    </tr>\n",
       "  </thead>\n",
       "  <tbody>\n",
       "    <tr>\n",
       "      <th>221</th>\n",
       "      <td>out, brief candle</td>\n",
       "      <td>1</td>\n",
       "      <td>[0, 0, 0, 0, 1, 0, 0, 0, 0, 0, 0, 0, 0, 0, 0, ...</td>\n",
       "      <td>[0, 0, 0, 1, 0, 0, 0, 0, 0, 0, 0, 0, 0, 0, 0, ...</td>\n",
       "      <td>[-0.939932466, 0.547169149, -0.860268235, 0.06...</td>\n",
       "      <td>[-0.939932466, 0.547169149, -0.860268235, 0.06...</td>\n",
       "    </tr>\n",
       "  </tbody>\n",
       "</table>\n",
       "</div>"
      ],
      "text/plain": [
       "                 title  good_title  \\\n",
       "221  out, brief candle           1   \n",
       "\n",
       "                                               all_pos  \\\n",
       "221  [0, 0, 0, 0, 1, 0, 0, 0, 0, 0, 0, 0, 0, 0, 0, ...   \n",
       "\n",
       "                                               dp1_pos  \\\n",
       "221  [0, 0, 0, 1, 0, 0, 0, 0, 0, 0, 0, 0, 0, 0, 0, ...   \n",
       "\n",
       "                                                   w2v  \\\n",
       "221  [-0.939932466, 0.547169149, -0.860268235, 0.06...   \n",
       "\n",
       "                                               w2v_dp1  \n",
       "221  [-0.939932466, 0.547169149, -0.860268235, 0.06...  "
      ]
     },
     "execution_count": 24,
     "metadata": {},
     "output_type": "execute_result"
    }
   ],
   "source": [
    "fitles['w2v_dp1'] = new_w2v_dp1\n",
    "fitles.sample()"
   ]
  },
  {
   "cell_type": "code",
   "execution_count": 25,
   "metadata": {},
   "outputs": [
    {
     "name": "stdout",
     "output_type": "stream",
     "text": [
      "Length of w2v_all list: 338\n",
      "Length of first element of w2v_all list: 2\n",
      "Length of first element of inner list: 800\n",
      "Type of first element of inner list: <class 'list'>\n",
      "Length of seceond element of inner list 98\n",
      "Type of element of inner list <class 'list'>\n"
     ]
    }
   ],
   "source": [
    "w2v_all_pos = fitles[['w2v', 'all_pos']]\n",
    "w2v_all = w2v_all_pos.values.tolist()\n",
    "\n",
    "print('Length of w2v_all list:', len(w2v_dp1))\n",
    "print('Length of first element of w2v_all list:', len(w2v_all[0]))\n",
    "print('Length of first element of inner list:', len(w2v_all[0][0]))\n",
    "print('Type of first element of inner list:', type(w2v_all[0][0]))\n",
    "print('Length of seceond element of inner list', len(w2v_all[0][1]))\n",
    "print('Type of element of inner list', type(w2v_all[0][1]))"
   ]
  },
  {
   "cell_type": "code",
   "execution_count": 26,
   "metadata": {},
   "outputs": [
    {
     "name": "stdout",
     "output_type": "stream",
     "text": [
      "Length of new_w2v_all 338\n",
      "Length of inner list 898\n"
     ]
    }
   ],
   "source": [
    "new_w2v_all = []\n",
    "\n",
    "for i in range(len(w2v_all)):\n",
    "    new_w2v_all.append(w2v_all[i][0] + w2v_all[i][1])\n",
    "    \n",
    "print('Length of new_w2v_all', len(new_w2v_all))\n",
    "print('Length of inner list', len(new_w2v_all[0]))"
   ]
  },
  {
   "cell_type": "code",
   "execution_count": 27,
   "metadata": {},
   "outputs": [
    {
     "data": {
      "text/html": [
       "<div>\n",
       "<style scoped>\n",
       "    .dataframe tbody tr th:only-of-type {\n",
       "        vertical-align: middle;\n",
       "    }\n",
       "\n",
       "    .dataframe tbody tr th {\n",
       "        vertical-align: top;\n",
       "    }\n",
       "\n",
       "    .dataframe thead th {\n",
       "        text-align: right;\n",
       "    }\n",
       "</style>\n",
       "<table border=\"1\" class=\"dataframe\">\n",
       "  <thead>\n",
       "    <tr style=\"text-align: right;\">\n",
       "      <th></th>\n",
       "      <th>title</th>\n",
       "      <th>good_title</th>\n",
       "      <th>all_pos</th>\n",
       "      <th>dp1_pos</th>\n",
       "      <th>w2v</th>\n",
       "      <th>w2v_dp1</th>\n",
       "      <th>w2v_all</th>\n",
       "    </tr>\n",
       "  </thead>\n",
       "  <tbody>\n",
       "    <tr>\n",
       "      <th>268</th>\n",
       "      <td>tumbling in the hay</td>\n",
       "      <td>1</td>\n",
       "      <td>[0, 0, 0, 0, 0, 0, 0, 0, 0, 0, 0, 0, 0, 0, 0, ...</td>\n",
       "      <td>[0, 0, 0, 0, 0, 0, 0, 0, 0, 0, 0, 0, 0, 0, 0, ...</td>\n",
       "      <td>[-0.0227402654, 0.00145335274, 0.00721915346, ...</td>\n",
       "      <td>[-0.0227402654, 0.00145335274, 0.00721915346, ...</td>\n",
       "      <td>[-0.0227402654, 0.00145335274, 0.00721915346, ...</td>\n",
       "    </tr>\n",
       "  </tbody>\n",
       "</table>\n",
       "</div>"
      ],
      "text/plain": [
       "                   title  good_title  \\\n",
       "268  tumbling in the hay           1   \n",
       "\n",
       "                                               all_pos  \\\n",
       "268  [0, 0, 0, 0, 0, 0, 0, 0, 0, 0, 0, 0, 0, 0, 0, ...   \n",
       "\n",
       "                                               dp1_pos  \\\n",
       "268  [0, 0, 0, 0, 0, 0, 0, 0, 0, 0, 0, 0, 0, 0, 0, ...   \n",
       "\n",
       "                                                   w2v  \\\n",
       "268  [-0.0227402654, 0.00145335274, 0.00721915346, ...   \n",
       "\n",
       "                                               w2v_dp1  \\\n",
       "268  [-0.0227402654, 0.00145335274, 0.00721915346, ...   \n",
       "\n",
       "                                               w2v_all  \n",
       "268  [-0.0227402654, 0.00145335274, 0.00721915346, ...  "
      ]
     },
     "execution_count": 27,
     "metadata": {},
     "output_type": "execute_result"
    }
   ],
   "source": [
    "fitles['w2v_all'] = new_w2v_all\n",
    "fitles.sample()"
   ]
  },
  {
   "cell_type": "code",
   "execution_count": 29,
   "metadata": {},
   "outputs": [],
   "source": [
    "datapath = '../data'\n",
    "\n",
    "datapath_fitles = os.path.join(datapath, 'fourgram_titles_dataset.pkl')\n",
    "fitles.to_pickle(datapath_fitles)"
   ]
  },
  {
   "cell_type": "code",
   "execution_count": null,
   "metadata": {},
   "outputs": [],
   "source": []
  }
 ],
 "metadata": {
  "kernelspec": {
   "display_name": "Python 3",
   "language": "python",
   "name": "python3"
  },
  "language_info": {
   "codemirror_mode": {
    "name": "ipython",
    "version": 3
   },
   "file_extension": ".py",
   "mimetype": "text/x-python",
   "name": "python",
   "nbconvert_exporter": "python",
   "pygments_lexer": "ipython3",
   "version": "3.8.3"
  }
 },
 "nbformat": 4,
 "nbformat_minor": 4
}
