{
 "cells": [
  {
   "cell_type": "code",
   "execution_count": 1,
   "metadata": {},
   "outputs": [],
   "source": [
    "import pandas as pd\n",
    "import numpy as np\n",
    "from nltk.tokenize import TreebankWordTokenizer\n",
    "from gensim.models import KeyedVectors\n",
    "from sklearn.model_selection import train_test_split\n",
    "import os"
   ]
  },
  {
   "cell_type": "code",
   "execution_count": 2,
   "metadata": {},
   "outputs": [
    {
     "data": {
      "text/html": [
       "<div>\n",
       "<style scoped>\n",
       "    .dataframe tbody tr th:only-of-type {\n",
       "        vertical-align: middle;\n",
       "    }\n",
       "\n",
       "    .dataframe tbody tr th {\n",
       "        vertical-align: top;\n",
       "    }\n",
       "\n",
       "    .dataframe thead th {\n",
       "        text-align: right;\n",
       "    }\n",
       "</style>\n",
       "<table border=\"1\" class=\"dataframe\">\n",
       "  <thead>\n",
       "    <tr style=\"text-align: right;\">\n",
       "      <th></th>\n",
       "      <th>title</th>\n",
       "      <th>good_title</th>\n",
       "      <th>pos</th>\n",
       "      <th>pos1</th>\n",
       "      <th>pos2</th>\n",
       "      <th>pos3</th>\n",
       "      <th>title_token</th>\n",
       "      <th>word_vec</th>\n",
       "    </tr>\n",
       "  </thead>\n",
       "  <tbody>\n",
       "    <tr>\n",
       "      <th>0</th>\n",
       "      <td>all's well</td>\n",
       "      <td>1</td>\n",
       "      <td>['DT', 'POS', 'NN']</td>\n",
       "      <td>DT</td>\n",
       "      <td>POS</td>\n",
       "      <td>NN</td>\n",
       "      <td>['all', \"'s\", 'well']</td>\n",
       "      <td>[[-1.81372836e-01  1.97823837e-01 -7.73134887e...</td>\n",
       "    </tr>\n",
       "    <tr>\n",
       "      <th>1</th>\n",
       "      <td>the devil drives</td>\n",
       "      <td>1</td>\n",
       "      <td>['DT', 'NN', 'NNS']</td>\n",
       "      <td>DT</td>\n",
       "      <td>NN</td>\n",
       "      <td>NNS</td>\n",
       "      <td>['the', 'devil', 'drives']</td>\n",
       "      <td>[[-9.59224224e-01  1.22396159e+00 -6.39906406e...</td>\n",
       "    </tr>\n",
       "    <tr>\n",
       "      <th>2</th>\n",
       "      <td>edge of hazard</td>\n",
       "      <td>1</td>\n",
       "      <td>['NN', 'IN', 'NN']</td>\n",
       "      <td>NN</td>\n",
       "      <td>IN</td>\n",
       "      <td>NN</td>\n",
       "      <td>['edge', 'of', 'hazard']</td>\n",
       "      <td>[[-2.87398398e-02 -7.36244917e-02  1.42647075e...</td>\n",
       "    </tr>\n",
       "    <tr>\n",
       "      <th>3</th>\n",
       "      <td>a mingled yarn</td>\n",
       "      <td>1</td>\n",
       "      <td>['DT', 'VBN', 'NN']</td>\n",
       "      <td>DT</td>\n",
       "      <td>VBN</td>\n",
       "      <td>NN</td>\n",
       "      <td>['a', 'mingled', 'yarn']</td>\n",
       "      <td>[[ 3.78270075e-03  3.85284066e-01 -8.90050769e...</td>\n",
       "    </tr>\n",
       "    <tr>\n",
       "      <th>4</th>\n",
       "      <td>love is enough</td>\n",
       "      <td>1</td>\n",
       "      <td>['NN', 'VBZ', 'JJ']</td>\n",
       "      <td>NN</td>\n",
       "      <td>VBZ</td>\n",
       "      <td>JJ</td>\n",
       "      <td>['love', 'is', 'enough']</td>\n",
       "      <td>[[-6.29614413e-01 -7.17607141e-01 -1.16408551e...</td>\n",
       "    </tr>\n",
       "  </tbody>\n",
       "</table>\n",
       "</div>"
      ],
      "text/plain": [
       "              title  good_title                  pos pos1 pos2 pos3  \\\n",
       "0        all's well           1  ['DT', 'POS', 'NN']   DT  POS   NN   \n",
       "1  the devil drives           1  ['DT', 'NN', 'NNS']   DT   NN  NNS   \n",
       "2    edge of hazard           1   ['NN', 'IN', 'NN']   NN   IN   NN   \n",
       "3    a mingled yarn           1  ['DT', 'VBN', 'NN']   DT  VBN   NN   \n",
       "4    love is enough           1  ['NN', 'VBZ', 'JJ']   NN  VBZ   JJ   \n",
       "\n",
       "                  title_token  \\\n",
       "0       ['all', \"'s\", 'well']   \n",
       "1  ['the', 'devil', 'drives']   \n",
       "2    ['edge', 'of', 'hazard']   \n",
       "3    ['a', 'mingled', 'yarn']   \n",
       "4    ['love', 'is', 'enough']   \n",
       "\n",
       "                                            word_vec  \n",
       "0  [[-1.81372836e-01  1.97823837e-01 -7.73134887e...  \n",
       "1  [[-9.59224224e-01  1.22396159e+00 -6.39906406e...  \n",
       "2  [[-2.87398398e-02 -7.36244917e-02  1.42647075e...  \n",
       "3  [[ 3.78270075e-03  3.85284066e-01 -8.90050769e...  \n",
       "4  [[-6.29614413e-01 -7.17607141e-01 -1.16408551e...  "
      ]
     },
     "execution_count": 2,
     "metadata": {},
     "output_type": "execute_result"
    }
   ],
   "source": [
    "tritles = pd.read_csv('../data/trigram_titles_pos_w2v.csv')\n",
    "tritles.head()"
   ]
  },
  {
   "cell_type": "code",
   "execution_count": 3,
   "metadata": {},
   "outputs": [
    {
     "data": {
      "text/html": [
       "<div>\n",
       "<style scoped>\n",
       "    .dataframe tbody tr th:only-of-type {\n",
       "        vertical-align: middle;\n",
       "    }\n",
       "\n",
       "    .dataframe tbody tr th {\n",
       "        vertical-align: top;\n",
       "    }\n",
       "\n",
       "    .dataframe thead th {\n",
       "        text-align: right;\n",
       "    }\n",
       "</style>\n",
       "<table border=\"1\" class=\"dataframe\">\n",
       "  <thead>\n",
       "    <tr style=\"text-align: right;\">\n",
       "      <th></th>\n",
       "      <th>title</th>\n",
       "      <th>title_tokenized</th>\n",
       "      <th>pos_tag</th>\n",
       "      <th>pos</th>\n",
       "      <th>pos_len</th>\n",
       "      <th>pos1</th>\n",
       "      <th>pos2</th>\n",
       "      <th>pos3</th>\n",
       "    </tr>\n",
       "  </thead>\n",
       "  <tbody>\n",
       "    <tr>\n",
       "      <th>135813</th>\n",
       "      <td>from whence his</td>\n",
       "      <td>['from', 'whence', 'his']</td>\n",
       "      <td>['IN', 'NN', 'PRP$']</td>\n",
       "      <td>['IN', 'NN', 'PRP$']</td>\n",
       "      <td>3</td>\n",
       "      <td>IN</td>\n",
       "      <td>NN</td>\n",
       "      <td>PRP$</td>\n",
       "    </tr>\n",
       "    <tr>\n",
       "      <th>62030</th>\n",
       "      <td>blind too .</td>\n",
       "      <td>['blind', 'too', '.']</td>\n",
       "      <td>['VB', 'RB', '.']</td>\n",
       "      <td>['VB', 'RB', '.']</td>\n",
       "      <td>3</td>\n",
       "      <td>VB</td>\n",
       "      <td>RB</td>\n",
       "      <td>.</td>\n",
       "    </tr>\n",
       "    <tr>\n",
       "      <th>175004</th>\n",
       "      <td>his passion is</td>\n",
       "      <td>['his', 'passion', 'is']</td>\n",
       "      <td>['PRP$', 'NN', 'VBZ']</td>\n",
       "      <td>['PRP$', 'NN', 'VBZ']</td>\n",
       "      <td>3</td>\n",
       "      <td>PRP$</td>\n",
       "      <td>NN</td>\n",
       "      <td>VBZ</td>\n",
       "    </tr>\n",
       "    <tr>\n",
       "      <th>314745</th>\n",
       "      <td>quickly to sir</td>\n",
       "      <td>['quickly', 'to', 'sir']</td>\n",
       "      <td>['RB', 'TO', 'VB']</td>\n",
       "      <td>['RB', 'TO', 'VB']</td>\n",
       "      <td>3</td>\n",
       "      <td>RB</td>\n",
       "      <td>TO</td>\n",
       "      <td>VB</td>\n",
       "    </tr>\n",
       "    <tr>\n",
       "      <th>296069</th>\n",
       "      <td>our captain 's</td>\n",
       "      <td>['our', 'captain', \"'s\"]</td>\n",
       "      <td>['PRP$', 'NN', 'POS']</td>\n",
       "      <td>['PRP$', 'NN', 'POS']</td>\n",
       "      <td>3</td>\n",
       "      <td>PRP$</td>\n",
       "      <td>NN</td>\n",
       "      <td>POS</td>\n",
       "    </tr>\n",
       "  </tbody>\n",
       "</table>\n",
       "</div>"
      ],
      "text/plain": [
       "                  title            title_tokenized                pos_tag  \\\n",
       "135813  from whence his  ['from', 'whence', 'his']   ['IN', 'NN', 'PRP$']   \n",
       "62030       blind too .      ['blind', 'too', '.']      ['VB', 'RB', '.']   \n",
       "175004   his passion is   ['his', 'passion', 'is']  ['PRP$', 'NN', 'VBZ']   \n",
       "314745   quickly to sir   ['quickly', 'to', 'sir']     ['RB', 'TO', 'VB']   \n",
       "296069   our captain 's   ['our', 'captain', \"'s\"]  ['PRP$', 'NN', 'POS']   \n",
       "\n",
       "                          pos  pos_len  pos1 pos2  pos3  \n",
       "135813   ['IN', 'NN', 'PRP$']        3    IN   NN  PRP$  \n",
       "62030       ['VB', 'RB', '.']        3    VB   RB     .  \n",
       "175004  ['PRP$', 'NN', 'VBZ']        3  PRP$   NN   VBZ  \n",
       "314745     ['RB', 'TO', 'VB']        3    RB   TO    VB  \n",
       "296069  ['PRP$', 'NN', 'POS']        3  PRP$   NN   POS  "
      ]
     },
     "execution_count": 3,
     "metadata": {},
     "output_type": "execute_result"
    }
   ],
   "source": [
    "trishake = pd.read_csv('../data/shakespearean_trigrams_pos.csv')\n",
    "trishake.sample(5)"
   ]
  },
  {
   "cell_type": "markdown",
   "metadata": {},
   "source": [
    "The trigrams still need word embedding"
   ]
  },
  {
   "cell_type": "code",
   "execution_count": 4,
   "metadata": {},
   "outputs": [],
   "source": [
    "trishake = trishake.drop(columns=['title_tokenized', 'pos_tag', 'pos_len'])"
   ]
  },
  {
   "cell_type": "code",
   "execution_count": 5,
   "metadata": {},
   "outputs": [
    {
     "data": {
      "text/html": [
       "<div>\n",
       "<style scoped>\n",
       "    .dataframe tbody tr th:only-of-type {\n",
       "        vertical-align: middle;\n",
       "    }\n",
       "\n",
       "    .dataframe tbody tr th {\n",
       "        vertical-align: top;\n",
       "    }\n",
       "\n",
       "    .dataframe thead th {\n",
       "        text-align: right;\n",
       "    }\n",
       "</style>\n",
       "<table border=\"1\" class=\"dataframe\">\n",
       "  <thead>\n",
       "    <tr style=\"text-align: right;\">\n",
       "      <th></th>\n",
       "      <th>title</th>\n",
       "      <th>pos</th>\n",
       "      <th>pos1</th>\n",
       "      <th>pos2</th>\n",
       "      <th>pos3</th>\n",
       "      <th>title_token</th>\n",
       "    </tr>\n",
       "  </thead>\n",
       "  <tbody>\n",
       "    <tr>\n",
       "      <th>397231</th>\n",
       "      <td>thick-grown brake we</td>\n",
       "      <td>['JJ', 'NN', 'PRP']</td>\n",
       "      <td>JJ</td>\n",
       "      <td>NN</td>\n",
       "      <td>PRP</td>\n",
       "      <td>[thick-grown, brake, we]</td>\n",
       "    </tr>\n",
       "    <tr>\n",
       "      <th>194285</th>\n",
       "      <td>in continual practise</td>\n",
       "      <td>['IN', 'JJ', 'NN']</td>\n",
       "      <td>IN</td>\n",
       "      <td>JJ</td>\n",
       "      <td>NN</td>\n",
       "      <td>[in, continual, practise]</td>\n",
       "    </tr>\n",
       "    <tr>\n",
       "      <th>133874</th>\n",
       "      <td>friends ! friends</td>\n",
       "      <td>['NNS', '.', 'NNS']</td>\n",
       "      <td>NNS</td>\n",
       "      <td>.</td>\n",
       "      <td>NNS</td>\n",
       "      <td>[friends, !, friends]</td>\n",
       "    </tr>\n",
       "    <tr>\n",
       "      <th>122545</th>\n",
       "      <td>fifty , or</td>\n",
       "      <td>['NN', ',', 'CC']</td>\n",
       "      <td>NN</td>\n",
       "      <td>,</td>\n",
       "      <td>CC</td>\n",
       "      <td>[fifty, ,, or]</td>\n",
       "    </tr>\n",
       "    <tr>\n",
       "      <th>394928</th>\n",
       "      <td>these letters are</td>\n",
       "      <td>['DT', 'NNS', 'VBP']</td>\n",
       "      <td>DT</td>\n",
       "      <td>NNS</td>\n",
       "      <td>VBP</td>\n",
       "      <td>[these, letters, are]</td>\n",
       "    </tr>\n",
       "  </tbody>\n",
       "</table>\n",
       "</div>"
      ],
      "text/plain": [
       "                        title                   pos pos1 pos2 pos3  \\\n",
       "397231   thick-grown brake we   ['JJ', 'NN', 'PRP']   JJ   NN  PRP   \n",
       "194285  in continual practise    ['IN', 'JJ', 'NN']   IN   JJ   NN   \n",
       "133874      friends ! friends   ['NNS', '.', 'NNS']  NNS    .  NNS   \n",
       "122545             fifty , or     ['NN', ',', 'CC']   NN    ,   CC   \n",
       "394928      these letters are  ['DT', 'NNS', 'VBP']   DT  NNS  VBP   \n",
       "\n",
       "                      title_token  \n",
       "397231   [thick-grown, brake, we]  \n",
       "194285  [in, continual, practise]  \n",
       "133874      [friends, !, friends]  \n",
       "122545             [fifty, ,, or]  \n",
       "394928      [these, letters, are]  "
      ]
     },
     "execution_count": 5,
     "metadata": {},
     "output_type": "execute_result"
    }
   ],
   "source": [
    "twd = TreebankWordTokenizer()\n",
    "\n",
    "trishake['title_token'] = trishake['title'].apply(lambda x: twd.tokenize(x))\n",
    "trishake.sample(5)"
   ]
  },
  {
   "cell_type": "markdown",
   "metadata": {},
   "source": [
    "Now to replace every word in each trigram with the learned word vector"
   ]
  },
  {
   "cell_type": "code",
   "execution_count": 6,
   "metadata": {},
   "outputs": [],
   "source": [
    "wv = KeyedVectors.load(\"../feature_engineering/shake_w2v.wordsvectors\", mmap='r')"
   ]
  },
  {
   "cell_type": "code",
   "execution_count": 7,
   "metadata": {},
   "outputs": [
    {
     "data": {
      "text/plain": [
       "26304"
      ]
     },
     "execution_count": 7,
     "metadata": {},
     "output_type": "execute_result"
    }
   ],
   "source": [
    "words = set(wv.index2word)\n",
    "len(words)"
   ]
  },
  {
   "cell_type": "code",
   "execution_count": 8,
   "metadata": {},
   "outputs": [],
   "source": [
    "trigram_vect = [np.array([wv[i] for i in ls if i in words])\n",
    "                                for ls in trishake['title_token']]"
   ]
  },
  {
   "cell_type": "code",
   "execution_count": 9,
   "metadata": {},
   "outputs": [],
   "source": [
    "trishake['word_vec'] = trigram_vect"
   ]
  },
  {
   "cell_type": "code",
   "execution_count": 10,
   "metadata": {},
   "outputs": [
    {
     "name": "stdout",
     "output_type": "stream",
     "text": [
      "Number of trigrams with no word matches from title_token 12284\n"
     ]
    }
   ],
   "source": [
    "loss_title_token = []\n",
    "\n",
    "for i,v in enumerate(trigram_vect):\n",
    "    if len(v) != 3:\n",
    "        loss_title_token.append(i)\n",
    "\n",
    "print('Number of trigrams with no word matches from title_token', len(loss_title_token))"
   ]
  },
  {
   "cell_type": "markdown",
   "metadata": {},
   "source": [
    "Previous wrod has shown that many of these title losses are due to pwrds with a period at the end, such as:\n",
    "`a bawd. hold` or ` about him. in`. These occur at sentence breaks, which are areas the we would not want titles generated from.\n",
    "    "
   ]
  },
  {
   "cell_type": "code",
   "execution_count": 11,
   "metadata": {},
   "outputs": [
    {
     "data": {
      "text/plain": [
       "title                                            absence. let me\n",
       "pos                                          ['NN', 'VB', 'PRP']\n",
       "pos1                                                          NN\n",
       "pos2                                                          VB\n",
       "pos3                                                         PRP\n",
       "title_token                                  [absence., let, me]\n",
       "word_vec       [[-1.7783487, 0.5082124, -0.66882604, -0.21298...\n",
       "Name: 11170, dtype: object"
      ]
     },
     "execution_count": 11,
     "metadata": {},
     "output_type": "execute_result"
    }
   ],
   "source": [
    "trishake.iloc[11170]"
   ]
  },
  {
   "cell_type": "code",
   "execution_count": 12,
   "metadata": {},
   "outputs": [
    {
     "data": {
      "text/plain": [
       "(480426, 7)"
      ]
     },
     "execution_count": 12,
     "metadata": {},
     "output_type": "execute_result"
    }
   ],
   "source": [
    "trishake.drop(index=loss_title_token, inplace=True)\n",
    "trishake.shape"
   ]
  },
  {
   "cell_type": "code",
   "execution_count": 13,
   "metadata": {},
   "outputs": [
    {
     "data": {
      "text/html": [
       "<div>\n",
       "<style scoped>\n",
       "    .dataframe tbody tr th:only-of-type {\n",
       "        vertical-align: middle;\n",
       "    }\n",
       "\n",
       "    .dataframe tbody tr th {\n",
       "        vertical-align: top;\n",
       "    }\n",
       "\n",
       "    .dataframe thead th {\n",
       "        text-align: right;\n",
       "    }\n",
       "</style>\n",
       "<table border=\"1\" class=\"dataframe\">\n",
       "  <thead>\n",
       "    <tr style=\"text-align: right;\">\n",
       "      <th></th>\n",
       "      <th>title</th>\n",
       "      <th>pos</th>\n",
       "      <th>pos1</th>\n",
       "      <th>pos2</th>\n",
       "      <th>pos3</th>\n",
       "      <th>title_token</th>\n",
       "      <th>word_vec</th>\n",
       "    </tr>\n",
       "  </thead>\n",
       "  <tbody>\n",
       "    <tr>\n",
       "      <th>430131</th>\n",
       "      <td>was ever the</td>\n",
       "      <td>['VBD', 'RB', 'DT']</td>\n",
       "      <td>VBD</td>\n",
       "      <td>RB</td>\n",
       "      <td>DT</td>\n",
       "      <td>[was, ever, the]</td>\n",
       "      <td>[[-0.027510468, -0.4950884, -0.21331064, -2.44...</td>\n",
       "    </tr>\n",
       "    <tr>\n",
       "      <th>348189</th>\n",
       "      <td>summers have enrich</td>\n",
       "      <td>['NNS', 'VBP', 'VBN']</td>\n",
       "      <td>NNS</td>\n",
       "      <td>VBP</td>\n",
       "      <td>VBN</td>\n",
       "      <td>[summers, have, enrich]</td>\n",
       "      <td>[[0.017781138, -0.039706722, 0.049680747, -0.0...</td>\n",
       "    </tr>\n",
       "    <tr>\n",
       "      <th>179688</th>\n",
       "      <td>i compile ,</td>\n",
       "      <td>['NN', 'NN', ',']</td>\n",
       "      <td>NN</td>\n",
       "      <td>NN</td>\n",
       "      <td>,</td>\n",
       "      <td>[i, compile, ,]</td>\n",
       "      <td>[[-0.38634965, -0.51687634, -1.2370201, 0.8931...</td>\n",
       "    </tr>\n",
       "  </tbody>\n",
       "</table>\n",
       "</div>"
      ],
      "text/plain": [
       "                      title                    pos pos1 pos2 pos3  \\\n",
       "430131         was ever the    ['VBD', 'RB', 'DT']  VBD   RB   DT   \n",
       "348189  summers have enrich  ['NNS', 'VBP', 'VBN']  NNS  VBP  VBN   \n",
       "179688          i compile ,      ['NN', 'NN', ',']   NN   NN    ,   \n",
       "\n",
       "                    title_token  \\\n",
       "430131         [was, ever, the]   \n",
       "348189  [summers, have, enrich]   \n",
       "179688          [i, compile, ,]   \n",
       "\n",
       "                                                 word_vec  \n",
       "430131  [[-0.027510468, -0.4950884, -0.21331064, -2.44...  \n",
       "348189  [[0.017781138, -0.039706722, 0.049680747, -0.0...  \n",
       "179688  [[-0.38634965, -0.51687634, -1.2370201, 0.8931...  "
      ]
     },
     "execution_count": 13,
     "metadata": {},
     "output_type": "execute_result"
    }
   ],
   "source": [
    "trishake.reset_index(drop=True, inplace=True)\n",
    "trishake.sample(3)"
   ]
  },
  {
   "cell_type": "markdown",
   "metadata": {},
   "source": [
    "I need to to be very careful with the one hot encoding because the title and shakespeare datasets will have different pos tags. I'll need to filter out all the pos tags in the shakespeare dataset that do not appear in the titles dataset, and visa versa"
   ]
  },
  {
   "cell_type": "code",
   "execution_count": 14,
   "metadata": {},
   "outputs": [
    {
     "name": "stdout",
     "output_type": "stream",
     "text": [
      "Number of pos tags in titles pos1: 25\n",
      "Number of pos tags in titles pos2: 29\n",
      "Number of pos tags in titles pos3: 27\n",
      "Number of pos tags in shakespeare pos1: 32\n",
      "Number of pos tags in shakespeare pos2: 37\n",
      "Number of pos tags in shakespeare pos3: 37\n"
     ]
    }
   ],
   "source": [
    "all_tritles_pos1 = set(tritles.pos1.tolist())\n",
    "all_tritles_pos2 = set(tritles.pos2.tolist())\n",
    "all_tritles_pos3 = set(tritles.pos3.tolist())\n",
    "\n",
    "print('Number of pos tags in titles pos1:', len(all_tritles_pos1))\n",
    "print('Number of pos tags in titles pos2:', len(all_tritles_pos2))\n",
    "print('Number of pos tags in titles pos3:', len(all_tritles_pos3))\n",
    "\n",
    "all_trishake_pos1 = set(trishake.pos1.tolist())\n",
    "all_trishake_pos2 = set(trishake.pos2.tolist())\n",
    "all_trishake_pos3 = set(trishake.pos3.tolist())\n",
    "\n",
    "print('Number of pos tags in shakespeare pos1:', len(all_trishake_pos1))\n",
    "print('Number of pos tags in shakespeare pos2:', len(all_trishake_pos2))\n",
    "print('Number of pos tags in shakespeare pos3:', len(all_trishake_pos3))"
   ]
  },
  {
   "cell_type": "code",
   "execution_count": 15,
   "metadata": {},
   "outputs": [
    {
     "name": "stdout",
     "output_type": "stream",
     "text": [
      "['PDT', 'FW', '.', 'UH', 'RP', 'RBS', 'WP']\n",
      "['PDT', 'FW', ':', 'UH', 'WP', '\"\"', 'NNP', 'WP$']\n",
      "['PDT', 'EX', 'FW', ':', 'UH', 'JJS', 'RP', 'WP', '\"\"', 'SYM']\n",
      "[]\n",
      "[]\n",
      "[]\n"
     ]
    }
   ],
   "source": [
    "pos1_rm = list(all_trishake_pos1.difference(all_tritles_pos1))\n",
    "print(pos1_rm)\n",
    "\n",
    "pos2_rm = list(all_trishake_pos2.difference(all_tritles_pos2))\n",
    "print(pos2_rm)\n",
    "\n",
    "pos3_rm = list(all_trishake_pos3.difference(all_tritles_pos3))\n",
    "print(pos3_rm)\n",
    "\n",
    "pos4_rm = list(all_tritles_pos1.difference(all_trishake_pos1))\n",
    "print(pos4_rm)\n",
    "\n",
    "pos5_rm = list(all_tritles_pos2.difference(all_trishake_pos2))\n",
    "print(pos5_rm)\n",
    "\n",
    "pos6_rm = list(all_tritles_pos3.difference(all_trishake_pos3))\n",
    "print(pos6_rm)"
   ]
  },
  {
   "cell_type": "code",
   "execution_count": 16,
   "metadata": {},
   "outputs": [
    {
     "name": "stdout",
     "output_type": "stream",
     "text": [
      "Starting number of trigrams 480426\n"
     ]
    },
    {
     "data": {
      "text/plain": [
       "474371"
      ]
     },
     "execution_count": 16,
     "metadata": {},
     "output_type": "execute_result"
    }
   ],
   "source": [
    "print('Starting number of trigrams', trishake.shape[0])\n",
    "trishake = trishake[~trishake['pos1'].isin(pos1_rm)]\n",
    "trishake.shape[0]"
   ]
  },
  {
   "cell_type": "code",
   "execution_count": 17,
   "metadata": {},
   "outputs": [
    {
     "name": "stdout",
     "output_type": "stream",
     "text": [
      "Starting number of trigrams 474371\n"
     ]
    },
    {
     "data": {
      "text/plain": [
       "471567"
      ]
     },
     "execution_count": 17,
     "metadata": {},
     "output_type": "execute_result"
    }
   ],
   "source": [
    "print('Starting number of trigrams', trishake.shape[0])\n",
    "trishake = trishake[~trishake['pos2'].isin(pos2_rm)]\n",
    "trishake.shape[0]"
   ]
  },
  {
   "cell_type": "code",
   "execution_count": 18,
   "metadata": {},
   "outputs": [
    {
     "name": "stdout",
     "output_type": "stream",
     "text": [
      "Starting number of trigrams 471567\n"
     ]
    },
    {
     "data": {
      "text/plain": [
       "463010"
      ]
     },
     "execution_count": 18,
     "metadata": {},
     "output_type": "execute_result"
    }
   ],
   "source": [
    "print('Starting number of trigrams', trishake.shape[0])\n",
    "trishake = trishake[~trishake['pos3'].isin(pos3_rm)]\n",
    "trishake.shape[0]"
   ]
  },
  {
   "cell_type": "code",
   "execution_count": 19,
   "metadata": {},
   "outputs": [
    {
     "name": "stdout",
     "output_type": "stream",
     "text": [
      "Number of pos tags in shakespeare pos1: 25\n",
      "Number of pos tags in shakespeare pos2: 29\n",
      "Number of pos tags in shakespeare pos3: 27\n"
     ]
    }
   ],
   "source": [
    "all_trishake_pos1 = set(trishake.pos1.tolist())\n",
    "all_trishake_pos2 = set(trishake.pos2.tolist())\n",
    "all_trishake_pos3 = set(trishake.pos3.tolist())\n",
    "\n",
    "print('Number of pos tags in shakespeare pos1:', len(all_trishake_pos1))\n",
    "print('Number of pos tags in shakespeare pos2:', len(all_trishake_pos2))\n",
    "print('Number of pos tags in shakespeare pos3:', len(all_trishake_pos3))"
   ]
  },
  {
   "cell_type": "code",
   "execution_count": 20,
   "metadata": {},
   "outputs": [
    {
     "name": "stdout",
     "output_type": "stream",
     "text": [
      "Number of pos tags in titles pos1: 25\n",
      "Number of pos tags in titles pos2: 29\n",
      "Number of pos tags in titles pos3: 27\n",
      "Number of pos tags in shakespeare pos1: 25\n",
      "Number of pos tags in shakespeare pos2: 29\n",
      "Number of pos tags in shakespeare pos3: 27\n"
     ]
    }
   ],
   "source": [
    "all_tritles_pos1 = set(tritles.pos1.tolist())\n",
    "all_tritles_pos2 = set(tritles.pos2.tolist())\n",
    "all_tritles_pos3 = set(tritles.pos3.tolist())\n",
    "\n",
    "print('Number of pos tags in titles pos1:', len(all_tritles_pos1))\n",
    "print('Number of pos tags in titles pos2:', len(all_tritles_pos2))\n",
    "print('Number of pos tags in titles pos3:', len(all_tritles_pos3))\n",
    "\n",
    "all_trishake_pos1 = set(trishake.pos1.tolist())\n",
    "all_trishake_pos2 = set(trishake.pos2.tolist())\n",
    "all_trishake_pos3 = set(trishake.pos3.tolist())\n",
    "\n",
    "print('Number of pos tags in shakespeare pos1:', len(all_trishake_pos1))\n",
    "print('Number of pos tags in shakespeare pos2:', len(all_trishake_pos2))\n",
    "print('Number of pos tags in shakespeare pos3:', len(all_trishake_pos3))"
   ]
  },
  {
   "cell_type": "code",
   "execution_count": 21,
   "metadata": {},
   "outputs": [
    {
     "name": "stdout",
     "output_type": "stream",
     "text": [
      "[]\n",
      "[]\n",
      "[]\n"
     ]
    }
   ],
   "source": [
    "pos1_rm = list(all_trishake_pos1.difference(all_tritles_pos1))\n",
    "print(pos1_rm)\n",
    "\n",
    "pos2_rm = list(all_trishake_pos2.difference(all_tritles_pos2))\n",
    "print(pos2_rm)\n",
    "\n",
    "pos3_rm = list(all_trishake_pos3.difference(all_tritles_pos3))\n",
    "print(pos3_rm)"
   ]
  },
  {
   "cell_type": "markdown",
   "metadata": {},
   "source": [
    "POS tags synced! Now to create dummy variables from the POS tags."
   ]
  },
  {
   "cell_type": "code",
   "execution_count": 22,
   "metadata": {},
   "outputs": [
    {
     "name": "stdout",
     "output_type": "stream",
     "text": [
      "tritles_pos.shape: (389, 81)\n"
     ]
    },
    {
     "data": {
      "text/html": [
       "<div>\n",
       "<style scoped>\n",
       "    .dataframe tbody tr th:only-of-type {\n",
       "        vertical-align: middle;\n",
       "    }\n",
       "\n",
       "    .dataframe tbody tr th {\n",
       "        vertical-align: top;\n",
       "    }\n",
       "\n",
       "    .dataframe thead th {\n",
       "        text-align: right;\n",
       "    }\n",
       "</style>\n",
       "<table border=\"1\" class=\"dataframe\">\n",
       "  <thead>\n",
       "    <tr style=\"text-align: right;\">\n",
       "      <th></th>\n",
       "      <th>pos1_CC</th>\n",
       "      <th>pos1_CD</th>\n",
       "      <th>pos1_DT</th>\n",
       "      <th>pos1_EX</th>\n",
       "      <th>pos1_IN</th>\n",
       "      <th>pos1_JJ</th>\n",
       "      <th>pos1_JJR</th>\n",
       "      <th>pos1_JJS</th>\n",
       "      <th>pos1_MD</th>\n",
       "      <th>pos1_NN</th>\n",
       "      <th>...</th>\n",
       "      <th>pos3_TO</th>\n",
       "      <th>pos3_VB</th>\n",
       "      <th>pos3_VBD</th>\n",
       "      <th>pos3_VBG</th>\n",
       "      <th>pos3_VBN</th>\n",
       "      <th>pos3_VBP</th>\n",
       "      <th>pos3_VBZ</th>\n",
       "      <th>pos3_WDT</th>\n",
       "      <th>pos3_WP$</th>\n",
       "      <th>pos3_WRB</th>\n",
       "    </tr>\n",
       "  </thead>\n",
       "  <tbody>\n",
       "    <tr>\n",
       "      <th>212</th>\n",
       "      <td>0</td>\n",
       "      <td>0</td>\n",
       "      <td>0</td>\n",
       "      <td>0</td>\n",
       "      <td>1</td>\n",
       "      <td>0</td>\n",
       "      <td>0</td>\n",
       "      <td>0</td>\n",
       "      <td>0</td>\n",
       "      <td>0</td>\n",
       "      <td>...</td>\n",
       "      <td>0</td>\n",
       "      <td>0</td>\n",
       "      <td>0</td>\n",
       "      <td>0</td>\n",
       "      <td>0</td>\n",
       "      <td>0</td>\n",
       "      <td>0</td>\n",
       "      <td>0</td>\n",
       "      <td>0</td>\n",
       "      <td>0</td>\n",
       "    </tr>\n",
       "  </tbody>\n",
       "</table>\n",
       "<p>1 rows × 81 columns</p>\n",
       "</div>"
      ],
      "text/plain": [
       "     pos1_CC  pos1_CD  pos1_DT  pos1_EX  pos1_IN  pos1_JJ  pos1_JJR  pos1_JJS  \\\n",
       "212        0        0        0        0        1        0         0         0   \n",
       "\n",
       "     pos1_MD  pos1_NN  ...  pos3_TO  pos3_VB  pos3_VBD  pos3_VBG  pos3_VBN  \\\n",
       "212        0        0  ...        0        0         0         0         0   \n",
       "\n",
       "     pos3_VBP  pos3_VBZ  pos3_WDT  pos3_WP$  pos3_WRB  \n",
       "212         0         0         0         0         0  \n",
       "\n",
       "[1 rows x 81 columns]"
      ]
     },
     "execution_count": 22,
     "metadata": {},
     "output_type": "execute_result"
    }
   ],
   "source": [
    "tritles_pos = tritles[['pos1', 'pos2', 'pos3']]\n",
    "tritles_pos = pd.get_dummies(tritles_pos, prefix=['pos1', 'pos2', 'pos3'], columns=['pos1', 'pos2', 'pos3'])\n",
    "print('tritles_pos.shape:', tritles_pos.shape)\n",
    "tritles_pos.sample()"
   ]
  },
  {
   "cell_type": "code",
   "execution_count": 23,
   "metadata": {},
   "outputs": [
    {
     "name": "stdout",
     "output_type": "stream",
     "text": [
      "all_tritles_pos list of lists length: 389\n",
      "length of inner lists aka number of pos tags: 81\n"
     ]
    }
   ],
   "source": [
    "all_tritles_pos = tritles_pos.values.tolist()\n",
    "print('all_tritles_pos list of lists length:', len(all_tritles_pos))\n",
    "print('length of inner lists aka number of pos tags:', len(all_tritles_pos[0]))"
   ]
  },
  {
   "cell_type": "code",
   "execution_count": 24,
   "metadata": {},
   "outputs": [
    {
     "name": "stdout",
     "output_type": "stream",
     "text": [
      "trishake_pos.shape: (463010, 81)\n"
     ]
    },
    {
     "data": {
      "text/html": [
       "<div>\n",
       "<style scoped>\n",
       "    .dataframe tbody tr th:only-of-type {\n",
       "        vertical-align: middle;\n",
       "    }\n",
       "\n",
       "    .dataframe tbody tr th {\n",
       "        vertical-align: top;\n",
       "    }\n",
       "\n",
       "    .dataframe thead th {\n",
       "        text-align: right;\n",
       "    }\n",
       "</style>\n",
       "<table border=\"1\" class=\"dataframe\">\n",
       "  <thead>\n",
       "    <tr style=\"text-align: right;\">\n",
       "      <th></th>\n",
       "      <th>pos1_CC</th>\n",
       "      <th>pos1_CD</th>\n",
       "      <th>pos1_DT</th>\n",
       "      <th>pos1_EX</th>\n",
       "      <th>pos1_IN</th>\n",
       "      <th>pos1_JJ</th>\n",
       "      <th>pos1_JJR</th>\n",
       "      <th>pos1_JJS</th>\n",
       "      <th>pos1_MD</th>\n",
       "      <th>pos1_NN</th>\n",
       "      <th>...</th>\n",
       "      <th>pos3_TO</th>\n",
       "      <th>pos3_VB</th>\n",
       "      <th>pos3_VBD</th>\n",
       "      <th>pos3_VBG</th>\n",
       "      <th>pos3_VBN</th>\n",
       "      <th>pos3_VBP</th>\n",
       "      <th>pos3_VBZ</th>\n",
       "      <th>pos3_WDT</th>\n",
       "      <th>pos3_WP$</th>\n",
       "      <th>pos3_WRB</th>\n",
       "    </tr>\n",
       "  </thead>\n",
       "  <tbody>\n",
       "    <tr>\n",
       "      <th>213802</th>\n",
       "      <td>0</td>\n",
       "      <td>0</td>\n",
       "      <td>0</td>\n",
       "      <td>0</td>\n",
       "      <td>0</td>\n",
       "      <td>0</td>\n",
       "      <td>0</td>\n",
       "      <td>0</td>\n",
       "      <td>0</td>\n",
       "      <td>1</td>\n",
       "      <td>...</td>\n",
       "      <td>0</td>\n",
       "      <td>0</td>\n",
       "      <td>0</td>\n",
       "      <td>0</td>\n",
       "      <td>0</td>\n",
       "      <td>0</td>\n",
       "      <td>0</td>\n",
       "      <td>0</td>\n",
       "      <td>0</td>\n",
       "      <td>0</td>\n",
       "    </tr>\n",
       "  </tbody>\n",
       "</table>\n",
       "<p>1 rows × 81 columns</p>\n",
       "</div>"
      ],
      "text/plain": [
       "        pos1_CC  pos1_CD  pos1_DT  pos1_EX  pos1_IN  pos1_JJ  pos1_JJR  \\\n",
       "213802        0        0        0        0        0        0         0   \n",
       "\n",
       "        pos1_JJS  pos1_MD  pos1_NN  ...  pos3_TO  pos3_VB  pos3_VBD  pos3_VBG  \\\n",
       "213802         0        0        1  ...        0        0         0         0   \n",
       "\n",
       "        pos3_VBN  pos3_VBP  pos3_VBZ  pos3_WDT  pos3_WP$  pos3_WRB  \n",
       "213802         0         0         0         0         0         0  \n",
       "\n",
       "[1 rows x 81 columns]"
      ]
     },
     "execution_count": 24,
     "metadata": {},
     "output_type": "execute_result"
    }
   ],
   "source": [
    "trishake_pos = trishake[['pos1', 'pos2', 'pos3']]\n",
    "trishake_pos = pd.get_dummies(trishake_pos, prefix=['pos1', 'pos2', 'pos3'], columns=['pos1', 'pos2', 'pos3'])\n",
    "print('trishake_pos.shape:', trishake_pos.shape)\n",
    "trishake_pos.sample()"
   ]
  },
  {
   "cell_type": "code",
   "execution_count": 25,
   "metadata": {},
   "outputs": [
    {
     "name": "stdout",
     "output_type": "stream",
     "text": [
      "all_trishake_pos list of lists length: 463010\n",
      "length of inner lists aka number of pos tags: 81\n"
     ]
    }
   ],
   "source": [
    "all_trishake_pos = trishake_pos.values.tolist()\n",
    "print('all_trishake_pos list of lists length:', len(all_trishake_pos))\n",
    "print('length of inner lists aka number of pos tags:', len(all_trishake_pos[0]))"
   ]
  },
  {
   "cell_type": "code",
   "execution_count": 26,
   "metadata": {},
   "outputs": [],
   "source": [
    "title_col = tritles_pos.columns\n",
    "shake_col = trishake_pos.columns\n",
    "\n",
    "for i in range(0, 81):\n",
    "    if title_col[i] != shake_col[i]:\n",
    "        print('Alas!', title_col[i], shake_col[i])"
   ]
  },
  {
   "cell_type": "code",
   "execution_count": 27,
   "metadata": {},
   "outputs": [
    {
     "data": {
      "text/html": [
       "<div>\n",
       "<style scoped>\n",
       "    .dataframe tbody tr th:only-of-type {\n",
       "        vertical-align: middle;\n",
       "    }\n",
       "\n",
       "    .dataframe tbody tr th {\n",
       "        vertical-align: top;\n",
       "    }\n",
       "\n",
       "    .dataframe thead th {\n",
       "        text-align: right;\n",
       "    }\n",
       "</style>\n",
       "<table border=\"1\" class=\"dataframe\">\n",
       "  <thead>\n",
       "    <tr style=\"text-align: right;\">\n",
       "      <th></th>\n",
       "      <th>title</th>\n",
       "      <th>good_title</th>\n",
       "      <th>pos</th>\n",
       "      <th>pos1</th>\n",
       "      <th>pos2</th>\n",
       "      <th>pos3</th>\n",
       "      <th>title_token</th>\n",
       "      <th>word_vec</th>\n",
       "      <th>all_pos</th>\n",
       "    </tr>\n",
       "  </thead>\n",
       "  <tbody>\n",
       "    <tr>\n",
       "      <th>373</th>\n",
       "      <td>facile question bear</td>\n",
       "      <td>0</td>\n",
       "      <td>['JJ', 'NN', 'NN']</td>\n",
       "      <td>JJ</td>\n",
       "      <td>NN</td>\n",
       "      <td>NN</td>\n",
       "      <td>['facile', 'question', 'bear']</td>\n",
       "      <td>[[ 7.76453083e-03 -1.61159341e-03 -1.35662211e...</td>\n",
       "      <td>[0, 0, 0, 0, 0, 1, 0, 0, 0, 0, 0, 0, 0, 0, 0, ...</td>\n",
       "    </tr>\n",
       "  </tbody>\n",
       "</table>\n",
       "</div>"
      ],
      "text/plain": [
       "                    title  good_title                 pos pos1 pos2 pos3  \\\n",
       "373  facile question bear           0  ['JJ', 'NN', 'NN']   JJ   NN   NN   \n",
       "\n",
       "                        title_token  \\\n",
       "373  ['facile', 'question', 'bear']   \n",
       "\n",
       "                                              word_vec  \\\n",
       "373  [[ 7.76453083e-03 -1.61159341e-03 -1.35662211e...   \n",
       "\n",
       "                                               all_pos  \n",
       "373  [0, 0, 0, 0, 0, 1, 0, 0, 0, 0, 0, 0, 0, 0, 0, ...  "
      ]
     },
     "execution_count": 27,
     "metadata": {},
     "output_type": "execute_result"
    }
   ],
   "source": [
    "tritles['all_pos'] = all_tritles_pos\n",
    "tritles.sample()"
   ]
  },
  {
   "cell_type": "code",
   "execution_count": 28,
   "metadata": {},
   "outputs": [
    {
     "data": {
      "text/html": [
       "<div>\n",
       "<style scoped>\n",
       "    .dataframe tbody tr th:only-of-type {\n",
       "        vertical-align: middle;\n",
       "    }\n",
       "\n",
       "    .dataframe tbody tr th {\n",
       "        vertical-align: top;\n",
       "    }\n",
       "\n",
       "    .dataframe thead th {\n",
       "        text-align: right;\n",
       "    }\n",
       "</style>\n",
       "<table border=\"1\" class=\"dataframe\">\n",
       "  <thead>\n",
       "    <tr style=\"text-align: right;\">\n",
       "      <th></th>\n",
       "      <th>title</th>\n",
       "      <th>pos</th>\n",
       "      <th>pos1</th>\n",
       "      <th>pos2</th>\n",
       "      <th>pos3</th>\n",
       "      <th>title_token</th>\n",
       "      <th>word_vec</th>\n",
       "      <th>all_pos</th>\n",
       "    </tr>\n",
       "  </thead>\n",
       "  <tbody>\n",
       "    <tr>\n",
       "      <th>194636</th>\n",
       "      <td>in your deeds</td>\n",
       "      <td>['IN', 'PRP$', 'NNS']</td>\n",
       "      <td>IN</td>\n",
       "      <td>PRP$</td>\n",
       "      <td>NNS</td>\n",
       "      <td>[in, your, deeds]</td>\n",
       "      <td>[[-1.1804608, 0.88281506, 0.58544093, -1.35429...</td>\n",
       "      <td>[0, 0, 0, 0, 1, 0, 0, 0, 0, 0, 0, 0, 0, 0, 0, ...</td>\n",
       "    </tr>\n",
       "  </tbody>\n",
       "</table>\n",
       "</div>"
      ],
      "text/plain": [
       "                title                    pos pos1  pos2 pos3  \\\n",
       "194636  in your deeds  ['IN', 'PRP$', 'NNS']   IN  PRP$  NNS   \n",
       "\n",
       "              title_token                                           word_vec  \\\n",
       "194636  [in, your, deeds]  [[-1.1804608, 0.88281506, 0.58544093, -1.35429...   \n",
       "\n",
       "                                                  all_pos  \n",
       "194636  [0, 0, 0, 0, 1, 0, 0, 0, 0, 0, 0, 0, 0, 0, 0, ...  "
      ]
     },
     "execution_count": 28,
     "metadata": {},
     "output_type": "execute_result"
    }
   ],
   "source": [
    "trishake['all_pos'] = all_trishake_pos\n",
    "trishake.sample()"
   ]
  },
  {
   "cell_type": "markdown",
   "metadata": {},
   "source": [
    "And now to create a second dataset by removing the first one-hot encoded category"
   ]
  },
  {
   "cell_type": "code",
   "execution_count": 29,
   "metadata": {},
   "outputs": [
    {
     "name": "stdout",
     "output_type": "stream",
     "text": [
      "tritles_pos2.shape: (389, 78)\n"
     ]
    },
    {
     "data": {
      "text/html": [
       "<div>\n",
       "<style scoped>\n",
       "    .dataframe tbody tr th:only-of-type {\n",
       "        vertical-align: middle;\n",
       "    }\n",
       "\n",
       "    .dataframe tbody tr th {\n",
       "        vertical-align: top;\n",
       "    }\n",
       "\n",
       "    .dataframe thead th {\n",
       "        text-align: right;\n",
       "    }\n",
       "</style>\n",
       "<table border=\"1\" class=\"dataframe\">\n",
       "  <thead>\n",
       "    <tr style=\"text-align: right;\">\n",
       "      <th></th>\n",
       "      <th>pos1_CD</th>\n",
       "      <th>pos1_DT</th>\n",
       "      <th>pos1_EX</th>\n",
       "      <th>pos1_IN</th>\n",
       "      <th>pos1_JJ</th>\n",
       "      <th>pos1_JJR</th>\n",
       "      <th>pos1_JJS</th>\n",
       "      <th>pos1_MD</th>\n",
       "      <th>pos1_NN</th>\n",
       "      <th>pos1_NNS</th>\n",
       "      <th>...</th>\n",
       "      <th>pos3_TO</th>\n",
       "      <th>pos3_VB</th>\n",
       "      <th>pos3_VBD</th>\n",
       "      <th>pos3_VBG</th>\n",
       "      <th>pos3_VBN</th>\n",
       "      <th>pos3_VBP</th>\n",
       "      <th>pos3_VBZ</th>\n",
       "      <th>pos3_WDT</th>\n",
       "      <th>pos3_WP$</th>\n",
       "      <th>pos3_WRB</th>\n",
       "    </tr>\n",
       "  </thead>\n",
       "  <tbody>\n",
       "    <tr>\n",
       "      <th>237</th>\n",
       "      <td>0</td>\n",
       "      <td>0</td>\n",
       "      <td>0</td>\n",
       "      <td>0</td>\n",
       "      <td>0</td>\n",
       "      <td>0</td>\n",
       "      <td>0</td>\n",
       "      <td>0</td>\n",
       "      <td>0</td>\n",
       "      <td>0</td>\n",
       "      <td>...</td>\n",
       "      <td>0</td>\n",
       "      <td>0</td>\n",
       "      <td>0</td>\n",
       "      <td>0</td>\n",
       "      <td>0</td>\n",
       "      <td>0</td>\n",
       "      <td>0</td>\n",
       "      <td>0</td>\n",
       "      <td>0</td>\n",
       "      <td>0</td>\n",
       "    </tr>\n",
       "  </tbody>\n",
       "</table>\n",
       "<p>1 rows × 78 columns</p>\n",
       "</div>"
      ],
      "text/plain": [
       "     pos1_CD  pos1_DT  pos1_EX  pos1_IN  pos1_JJ  pos1_JJR  pos1_JJS  pos1_MD  \\\n",
       "237        0        0        0        0        0         0         0        0   \n",
       "\n",
       "     pos1_NN  pos1_NNS  ...  pos3_TO  pos3_VB  pos3_VBD  pos3_VBG  pos3_VBN  \\\n",
       "237        0         0  ...        0        0         0         0         0   \n",
       "\n",
       "     pos3_VBP  pos3_VBZ  pos3_WDT  pos3_WP$  pos3_WRB  \n",
       "237         0         0         0         0         0  \n",
       "\n",
       "[1 rows x 78 columns]"
      ]
     },
     "execution_count": 29,
     "metadata": {},
     "output_type": "execute_result"
    }
   ],
   "source": [
    "tritles_pos2 = tritles[['pos1', 'pos2', 'pos3']]\n",
    "tritles_pos2 = pd.get_dummies(tritles_pos2, prefix=['pos1', 'pos2', 'pos3'], columns=['pos1', 'pos2', 'pos3'], drop_first=True)\n",
    "print('tritles_pos2.shape:', tritles_pos2.shape)\n",
    "tritles_pos2.sample()"
   ]
  },
  {
   "cell_type": "code",
   "execution_count": 30,
   "metadata": {},
   "outputs": [
    {
     "name": "stdout",
     "output_type": "stream",
     "text": [
      "dp1_tritles_pos list of lists length: 389\n",
      "length of inner lists aka number of pos tags: 78\n"
     ]
    }
   ],
   "source": [
    "dp1_tritles_pos = tritles_pos2.values.tolist()\n",
    "print('dp1_tritles_pos list of lists length:', len(dp1_tritles_pos))\n",
    "print('length of inner lists aka number of pos tags:', len(dp1_tritles_pos[0]))"
   ]
  },
  {
   "cell_type": "code",
   "execution_count": 31,
   "metadata": {},
   "outputs": [
    {
     "name": "stdout",
     "output_type": "stream",
     "text": [
      "trishake_pos2.shape: (463010, 78)\n"
     ]
    },
    {
     "data": {
      "text/html": [
       "<div>\n",
       "<style scoped>\n",
       "    .dataframe tbody tr th:only-of-type {\n",
       "        vertical-align: middle;\n",
       "    }\n",
       "\n",
       "    .dataframe tbody tr th {\n",
       "        vertical-align: top;\n",
       "    }\n",
       "\n",
       "    .dataframe thead th {\n",
       "        text-align: right;\n",
       "    }\n",
       "</style>\n",
       "<table border=\"1\" class=\"dataframe\">\n",
       "  <thead>\n",
       "    <tr style=\"text-align: right;\">\n",
       "      <th></th>\n",
       "      <th>pos1_CD</th>\n",
       "      <th>pos1_DT</th>\n",
       "      <th>pos1_EX</th>\n",
       "      <th>pos1_IN</th>\n",
       "      <th>pos1_JJ</th>\n",
       "      <th>pos1_JJR</th>\n",
       "      <th>pos1_JJS</th>\n",
       "      <th>pos1_MD</th>\n",
       "      <th>pos1_NN</th>\n",
       "      <th>pos1_NNS</th>\n",
       "      <th>...</th>\n",
       "      <th>pos3_TO</th>\n",
       "      <th>pos3_VB</th>\n",
       "      <th>pos3_VBD</th>\n",
       "      <th>pos3_VBG</th>\n",
       "      <th>pos3_VBN</th>\n",
       "      <th>pos3_VBP</th>\n",
       "      <th>pos3_VBZ</th>\n",
       "      <th>pos3_WDT</th>\n",
       "      <th>pos3_WP$</th>\n",
       "      <th>pos3_WRB</th>\n",
       "    </tr>\n",
       "  </thead>\n",
       "  <tbody>\n",
       "    <tr>\n",
       "      <th>91362</th>\n",
       "      <td>0</td>\n",
       "      <td>0</td>\n",
       "      <td>0</td>\n",
       "      <td>0</td>\n",
       "      <td>0</td>\n",
       "      <td>0</td>\n",
       "      <td>0</td>\n",
       "      <td>0</td>\n",
       "      <td>1</td>\n",
       "      <td>0</td>\n",
       "      <td>...</td>\n",
       "      <td>0</td>\n",
       "      <td>0</td>\n",
       "      <td>0</td>\n",
       "      <td>0</td>\n",
       "      <td>0</td>\n",
       "      <td>0</td>\n",
       "      <td>0</td>\n",
       "      <td>0</td>\n",
       "      <td>0</td>\n",
       "      <td>0</td>\n",
       "    </tr>\n",
       "  </tbody>\n",
       "</table>\n",
       "<p>1 rows × 78 columns</p>\n",
       "</div>"
      ],
      "text/plain": [
       "       pos1_CD  pos1_DT  pos1_EX  pos1_IN  pos1_JJ  pos1_JJR  pos1_JJS  \\\n",
       "91362        0        0        0        0        0         0         0   \n",
       "\n",
       "       pos1_MD  pos1_NN  pos1_NNS  ...  pos3_TO  pos3_VB  pos3_VBD  pos3_VBG  \\\n",
       "91362        0        1         0  ...        0        0         0         0   \n",
       "\n",
       "       pos3_VBN  pos3_VBP  pos3_VBZ  pos3_WDT  pos3_WP$  pos3_WRB  \n",
       "91362         0         0         0         0         0         0  \n",
       "\n",
       "[1 rows x 78 columns]"
      ]
     },
     "execution_count": 31,
     "metadata": {},
     "output_type": "execute_result"
    }
   ],
   "source": [
    "trishake_pos2 = trishake[['pos1', 'pos2', 'pos3']]\n",
    "trishake_pos2 = pd.get_dummies(trishake_pos2, prefix=['pos1', 'pos2', 'pos3'], columns=['pos1', 'pos2', 'pos3'], drop_first=True)\n",
    "print('trishake_pos2.shape:', trishake_pos2.shape)\n",
    "trishake_pos2.sample()"
   ]
  },
  {
   "cell_type": "code",
   "execution_count": 32,
   "metadata": {},
   "outputs": [
    {
     "name": "stdout",
     "output_type": "stream",
     "text": [
      "dp1_trishake_pos list of lists length: 463010\n",
      "length of inner lists aka number of pos tags: 78\n"
     ]
    }
   ],
   "source": [
    "dp1_trishake_pos = trishake_pos2.values.tolist()\n",
    "print('dp1_trishake_pos list of lists length:', len(dp1_trishake_pos))\n",
    "print('length of inner lists aka number of pos tags:', len(dp1_trishake_pos[0]))"
   ]
  },
  {
   "cell_type": "code",
   "execution_count": 33,
   "metadata": {},
   "outputs": [],
   "source": [
    "title_col2 = tritles_pos2.columns\n",
    "shake_col2 = trishake_pos2.columns\n",
    "\n",
    "for i in range(0, 78):\n",
    "    if title_col2[i] != shake_col2[i]:\n",
    "        print('Alas!', title_col2[i], shake_col2[i])"
   ]
  },
  {
   "cell_type": "code",
   "execution_count": 34,
   "metadata": {},
   "outputs": [
    {
     "data": {
      "text/html": [
       "<div>\n",
       "<style scoped>\n",
       "    .dataframe tbody tr th:only-of-type {\n",
       "        vertical-align: middle;\n",
       "    }\n",
       "\n",
       "    .dataframe tbody tr th {\n",
       "        vertical-align: top;\n",
       "    }\n",
       "\n",
       "    .dataframe thead th {\n",
       "        text-align: right;\n",
       "    }\n",
       "</style>\n",
       "<table border=\"1\" class=\"dataframe\">\n",
       "  <thead>\n",
       "    <tr style=\"text-align: right;\">\n",
       "      <th></th>\n",
       "      <th>title</th>\n",
       "      <th>good_title</th>\n",
       "      <th>pos</th>\n",
       "      <th>pos1</th>\n",
       "      <th>pos2</th>\n",
       "      <th>pos3</th>\n",
       "      <th>title_token</th>\n",
       "      <th>word_vec</th>\n",
       "      <th>all_pos</th>\n",
       "      <th>dp1_pos</th>\n",
       "    </tr>\n",
       "  </thead>\n",
       "  <tbody>\n",
       "    <tr>\n",
       "      <th>222</th>\n",
       "      <td>but throw her</td>\n",
       "      <td>0</td>\n",
       "      <td>['CC', 'VB', 'PRP$']</td>\n",
       "      <td>CC</td>\n",
       "      <td>VB</td>\n",
       "      <td>PRP$</td>\n",
       "      <td>['but', 'throw', 'her']</td>\n",
       "      <td>[[-4.21053231e-01 -8.56678188e-01 -8.04431915e...</td>\n",
       "      <td>[1, 0, 0, 0, 0, 0, 0, 0, 0, 0, 0, 0, 0, 0, 0, ...</td>\n",
       "      <td>[0, 0, 0, 0, 0, 0, 0, 0, 0, 0, 0, 0, 0, 0, 0, ...</td>\n",
       "    </tr>\n",
       "  </tbody>\n",
       "</table>\n",
       "</div>"
      ],
      "text/plain": [
       "             title  good_title                   pos pos1 pos2  pos3  \\\n",
       "222  but throw her           0  ['CC', 'VB', 'PRP$']   CC   VB  PRP$   \n",
       "\n",
       "                 title_token  \\\n",
       "222  ['but', 'throw', 'her']   \n",
       "\n",
       "                                              word_vec  \\\n",
       "222  [[-4.21053231e-01 -8.56678188e-01 -8.04431915e...   \n",
       "\n",
       "                                               all_pos  \\\n",
       "222  [1, 0, 0, 0, 0, 0, 0, 0, 0, 0, 0, 0, 0, 0, 0, ...   \n",
       "\n",
       "                                               dp1_pos  \n",
       "222  [0, 0, 0, 0, 0, 0, 0, 0, 0, 0, 0, 0, 0, 0, 0, ...  "
      ]
     },
     "execution_count": 34,
     "metadata": {},
     "output_type": "execute_result"
    }
   ],
   "source": [
    "tritles['dp1_pos'] = dp1_tritles_pos\n",
    "tritles.sample()"
   ]
  },
  {
   "cell_type": "code",
   "execution_count": 35,
   "metadata": {},
   "outputs": [
    {
     "data": {
      "text/html": [
       "<div>\n",
       "<style scoped>\n",
       "    .dataframe tbody tr th:only-of-type {\n",
       "        vertical-align: middle;\n",
       "    }\n",
       "\n",
       "    .dataframe tbody tr th {\n",
       "        vertical-align: top;\n",
       "    }\n",
       "\n",
       "    .dataframe thead th {\n",
       "        text-align: right;\n",
       "    }\n",
       "</style>\n",
       "<table border=\"1\" class=\"dataframe\">\n",
       "  <thead>\n",
       "    <tr style=\"text-align: right;\">\n",
       "      <th></th>\n",
       "      <th>title</th>\n",
       "      <th>pos</th>\n",
       "      <th>pos1</th>\n",
       "      <th>pos2</th>\n",
       "      <th>pos3</th>\n",
       "      <th>title_token</th>\n",
       "      <th>word_vec</th>\n",
       "      <th>all_pos</th>\n",
       "      <th>dp1_pos</th>\n",
       "    </tr>\n",
       "  </thead>\n",
       "  <tbody>\n",
       "    <tr>\n",
       "      <th>136416</th>\n",
       "      <td>given him any</td>\n",
       "      <td>['VBN', 'PRP', 'DT']</td>\n",
       "      <td>VBN</td>\n",
       "      <td>PRP</td>\n",
       "      <td>DT</td>\n",
       "      <td>[given, him, any]</td>\n",
       "      <td>[[-0.3254524, 0.10828757, 0.021896513, -0.2253...</td>\n",
       "      <td>[0, 0, 0, 0, 0, 0, 0, 0, 0, 0, 0, 0, 0, 0, 0, ...</td>\n",
       "      <td>[0, 0, 0, 0, 0, 0, 0, 0, 0, 0, 0, 0, 0, 0, 0, ...</td>\n",
       "    </tr>\n",
       "  </tbody>\n",
       "</table>\n",
       "</div>"
      ],
      "text/plain": [
       "                title                   pos pos1 pos2 pos3        title_token  \\\n",
       "136416  given him any  ['VBN', 'PRP', 'DT']  VBN  PRP   DT  [given, him, any]   \n",
       "\n",
       "                                                 word_vec  \\\n",
       "136416  [[-0.3254524, 0.10828757, 0.021896513, -0.2253...   \n",
       "\n",
       "                                                  all_pos  \\\n",
       "136416  [0, 0, 0, 0, 0, 0, 0, 0, 0, 0, 0, 0, 0, 0, 0, ...   \n",
       "\n",
       "                                                  dp1_pos  \n",
       "136416  [0, 0, 0, 0, 0, 0, 0, 0, 0, 0, 0, 0, 0, 0, 0, ...  "
      ]
     },
     "execution_count": 35,
     "metadata": {},
     "output_type": "execute_result"
    }
   ],
   "source": [
    "trishake['dp1_pos'] = dp1_trishake_pos\n",
    "trishake.sample()"
   ]
  },
  {
   "cell_type": "markdown",
   "metadata": {},
   "source": [
    "The vector in `word_vec` is stored as a string. Need to convert into a 600 dimension word vector."
   ]
  },
  {
   "cell_type": "code",
   "execution_count": 36,
   "metadata": {},
   "outputs": [
    {
     "data": {
      "text/plain": [
       "600"
      ]
     },
     "execution_count": 36,
     "metadata": {},
     "output_type": "execute_result"
    }
   ],
   "source": [
    "result = tritles['word_vec'].apply(lambda x: \n",
    "                           np.fromstring(\n",
    "                               x.replace('\\n','')\n",
    "                                .replace('[','')\n",
    "                                .replace(']','')\n",
    "                                .replace('  ',' '), sep=' '))\n",
    "\n",
    "len(result[0])"
   ]
  },
  {
   "cell_type": "code",
   "execution_count": 37,
   "metadata": {},
   "outputs": [
    {
     "data": {
      "text/html": [
       "<div>\n",
       "<style scoped>\n",
       "    .dataframe tbody tr th:only-of-type {\n",
       "        vertical-align: middle;\n",
       "    }\n",
       "\n",
       "    .dataframe tbody tr th {\n",
       "        vertical-align: top;\n",
       "    }\n",
       "\n",
       "    .dataframe thead th {\n",
       "        text-align: right;\n",
       "    }\n",
       "</style>\n",
       "<table border=\"1\" class=\"dataframe\">\n",
       "  <thead>\n",
       "    <tr style=\"text-align: right;\">\n",
       "      <th></th>\n",
       "      <th>title</th>\n",
       "      <th>good_title</th>\n",
       "      <th>pos</th>\n",
       "      <th>pos1</th>\n",
       "      <th>pos2</th>\n",
       "      <th>pos3</th>\n",
       "      <th>title_token</th>\n",
       "      <th>word_vec</th>\n",
       "      <th>all_pos</th>\n",
       "      <th>dp1_pos</th>\n",
       "      <th>w2v</th>\n",
       "    </tr>\n",
       "  </thead>\n",
       "  <tbody>\n",
       "    <tr>\n",
       "      <th>25</th>\n",
       "      <td>the brightest heaven</td>\n",
       "      <td>1</td>\n",
       "      <td>['DT', 'JJS', 'NN']</td>\n",
       "      <td>DT</td>\n",
       "      <td>JJS</td>\n",
       "      <td>NN</td>\n",
       "      <td>['the', 'brightest', 'heaven']</td>\n",
       "      <td>[[-9.59224224e-01  1.22396159e+00 -6.39906406e...</td>\n",
       "      <td>[0, 0, 1, 0, 0, 0, 0, 0, 0, 0, 0, 0, 0, 0, 0, ...</td>\n",
       "      <td>[0, 1, 0, 0, 0, 0, 0, 0, 0, 0, 0, 0, 0, 0, 0, ...</td>\n",
       "      <td>[-0.959224224, 1.22396159, -0.639906406, -0.51...</td>\n",
       "    </tr>\n",
       "  </tbody>\n",
       "</table>\n",
       "</div>"
      ],
      "text/plain": [
       "                   title  good_title                  pos pos1 pos2 pos3  \\\n",
       "25  the brightest heaven           1  ['DT', 'JJS', 'NN']   DT  JJS   NN   \n",
       "\n",
       "                       title_token  \\\n",
       "25  ['the', 'brightest', 'heaven']   \n",
       "\n",
       "                                             word_vec  \\\n",
       "25  [[-9.59224224e-01  1.22396159e+00 -6.39906406e...   \n",
       "\n",
       "                                              all_pos  \\\n",
       "25  [0, 0, 1, 0, 0, 0, 0, 0, 0, 0, 0, 0, 0, 0, 0, ...   \n",
       "\n",
       "                                              dp1_pos  \\\n",
       "25  [0, 1, 0, 0, 0, 0, 0, 0, 0, 0, 0, 0, 0, 0, 0, ...   \n",
       "\n",
       "                                                  w2v  \n",
       "25  [-0.959224224, 1.22396159, -0.639906406, -0.51...  "
      ]
     },
     "execution_count": 37,
     "metadata": {},
     "output_type": "execute_result"
    }
   ],
   "source": [
    "tritles['w2v'] = result\n",
    "tritles.sample()"
   ]
  },
  {
   "cell_type": "markdown",
   "metadata": {},
   "source": [
    "Combine the `word_vec` and `pos` arrays "
   ]
  },
  {
   "cell_type": "code",
   "execution_count": 38,
   "metadata": {},
   "outputs": [
    {
     "name": "stdout",
     "output_type": "stream",
     "text": [
      "Length of w2v_all list: 389\n",
      "Length of first element of w2v_all list: 2\n",
      "Length of first element of inner list: 600\n",
      "Type of first element of inner list: <class 'numpy.ndarray'>\n",
      "Length of seceond element of inner list 81\n",
      "Type of element of inner list <class 'list'>\n"
     ]
    }
   ],
   "source": [
    "w2v_all_pos = tritles[['w2v', 'all_pos']]\n",
    "w2v_all = w2v_all_pos.values.tolist()\n",
    "\n",
    "w2v_dp1_pos = tritles[['w2v', 'dp1_pos']]\n",
    "w2v_dp1 = w2v_dp1_pos.values.tolist()\n",
    "\n",
    "print('Length of w2v_all list:', len(w2v_all))\n",
    "print('Length of first element of w2v_all list:', len(w2v_all[0]))\n",
    "print('Length of first element of inner list:', len(w2v_all[0][0]))\n",
    "print('Type of first element of inner list:', type(w2v_all[0][0]))\n",
    "print('Length of seceond element of inner list', len(w2v_all[0][1]))\n",
    "print('Type of element of inner list', type(w2v_all[0][1]))"
   ]
  },
  {
   "cell_type": "code",
   "execution_count": 39,
   "metadata": {},
   "outputs": [
    {
     "name": "stdout",
     "output_type": "stream",
     "text": [
      "Length of new_w2v_all 389\n",
      "Length of inner list 681\n"
     ]
    }
   ],
   "source": [
    "new_w2v_all = []\n",
    "\n",
    "for i in range(len(w2v_all)):\n",
    "    new_w2v_all.append(list(w2v_all[i][0]) + w2v_all[i][1])\n",
    "    \n",
    "print('Length of new_w2v_all', len(new_w2v_all))\n",
    "print('Length of inner list', len(new_w2v_all[0]))"
   ]
  },
  {
   "cell_type": "code",
   "execution_count": 40,
   "metadata": {},
   "outputs": [
    {
     "name": "stdout",
     "output_type": "stream",
     "text": [
      "Length of new_w2v_dp1 389\n",
      "Length of inner list 678\n"
     ]
    }
   ],
   "source": [
    "new_w2v_dp1 = []\n",
    "\n",
    "for i in range(len(w2v_dp1)):\n",
    "    new_w2v_dp1.append(list(w2v_dp1[i][0]) + w2v_dp1[i][1])\n",
    "    \n",
    "print('Length of new_w2v_dp1', len(new_w2v_dp1))\n",
    "print('Length of inner list', len(new_w2v_dp1[0]))"
   ]
  },
  {
   "cell_type": "code",
   "execution_count": 41,
   "metadata": {},
   "outputs": [
    {
     "data": {
      "text/html": [
       "<div>\n",
       "<style scoped>\n",
       "    .dataframe tbody tr th:only-of-type {\n",
       "        vertical-align: middle;\n",
       "    }\n",
       "\n",
       "    .dataframe tbody tr th {\n",
       "        vertical-align: top;\n",
       "    }\n",
       "\n",
       "    .dataframe thead th {\n",
       "        text-align: right;\n",
       "    }\n",
       "</style>\n",
       "<table border=\"1\" class=\"dataframe\">\n",
       "  <thead>\n",
       "    <tr style=\"text-align: right;\">\n",
       "      <th></th>\n",
       "      <th>title</th>\n",
       "      <th>good_title</th>\n",
       "      <th>pos</th>\n",
       "      <th>pos1</th>\n",
       "      <th>pos2</th>\n",
       "      <th>pos3</th>\n",
       "      <th>title_token</th>\n",
       "      <th>word_vec</th>\n",
       "      <th>all_pos</th>\n",
       "      <th>dp1_pos</th>\n",
       "      <th>w2v</th>\n",
       "      <th>w2v_all</th>\n",
       "      <th>w2v_dp1</th>\n",
       "    </tr>\n",
       "  </thead>\n",
       "  <tbody>\n",
       "    <tr>\n",
       "      <th>160</th>\n",
       "      <td>perchance to dream</td>\n",
       "      <td>1</td>\n",
       "      <td>['NN', 'TO', 'VB']</td>\n",
       "      <td>NN</td>\n",
       "      <td>TO</td>\n",
       "      <td>VB</td>\n",
       "      <td>['perchance', 'to', 'dream']</td>\n",
       "      <td>[[-3.04288212e-02 -1.39931336e-01 -2.82580741e...</td>\n",
       "      <td>[0, 0, 0, 0, 0, 0, 0, 0, 0, 1, 0, 0, 0, 0, 0, ...</td>\n",
       "      <td>[0, 0, 0, 0, 0, 0, 0, 0, 1, 0, 0, 0, 0, 0, 0, ...</td>\n",
       "      <td>[-0.0304288212, -0.139931336, -0.0282580741, 0...</td>\n",
       "      <td>[-0.0304288212, -0.139931336, -0.0282580741, 0...</td>\n",
       "      <td>[-0.0304288212, -0.139931336, -0.0282580741, 0...</td>\n",
       "    </tr>\n",
       "  </tbody>\n",
       "</table>\n",
       "</div>"
      ],
      "text/plain": [
       "                  title  good_title                 pos pos1 pos2 pos3  \\\n",
       "160  perchance to dream           1  ['NN', 'TO', 'VB']   NN   TO   VB   \n",
       "\n",
       "                      title_token  \\\n",
       "160  ['perchance', 'to', 'dream']   \n",
       "\n",
       "                                              word_vec  \\\n",
       "160  [[-3.04288212e-02 -1.39931336e-01 -2.82580741e...   \n",
       "\n",
       "                                               all_pos  \\\n",
       "160  [0, 0, 0, 0, 0, 0, 0, 0, 0, 1, 0, 0, 0, 0, 0, ...   \n",
       "\n",
       "                                               dp1_pos  \\\n",
       "160  [0, 0, 0, 0, 0, 0, 0, 0, 1, 0, 0, 0, 0, 0, 0, ...   \n",
       "\n",
       "                                                   w2v  \\\n",
       "160  [-0.0304288212, -0.139931336, -0.0282580741, 0...   \n",
       "\n",
       "                                               w2v_all  \\\n",
       "160  [-0.0304288212, -0.139931336, -0.0282580741, 0...   \n",
       "\n",
       "                                               w2v_dp1  \n",
       "160  [-0.0304288212, -0.139931336, -0.0282580741, 0...  "
      ]
     },
     "execution_count": 41,
     "metadata": {},
     "output_type": "execute_result"
    }
   ],
   "source": [
    "tritles['w2v_all'] = new_w2v_all\n",
    "tritles['w2v_dp1'] = new_w2v_dp1\n",
    "tritles.sample()"
   ]
  },
  {
   "cell_type": "markdown",
   "metadata": {},
   "source": [
    "Do the same for the shakepeare trigrams `word_vec` and `pos` arrays. Also need to flatten `word_vec` which is an array of three 200 dimension word vectors."
   ]
  },
  {
   "cell_type": "code",
   "execution_count": 42,
   "metadata": {},
   "outputs": [
    {
     "data": {
      "text/plain": [
       "463010"
      ]
     },
     "execution_count": 42,
     "metadata": {},
     "output_type": "execute_result"
    }
   ],
   "source": [
    "result = trishake['word_vec'].apply(lambda x: x.flatten())\n",
    "\n",
    "len(result)"
   ]
  },
  {
   "cell_type": "code",
   "execution_count": 43,
   "metadata": {},
   "outputs": [
    {
     "data": {
      "text/html": [
       "<div>\n",
       "<style scoped>\n",
       "    .dataframe tbody tr th:only-of-type {\n",
       "        vertical-align: middle;\n",
       "    }\n",
       "\n",
       "    .dataframe tbody tr th {\n",
       "        vertical-align: top;\n",
       "    }\n",
       "\n",
       "    .dataframe thead th {\n",
       "        text-align: right;\n",
       "    }\n",
       "</style>\n",
       "<table border=\"1\" class=\"dataframe\">\n",
       "  <thead>\n",
       "    <tr style=\"text-align: right;\">\n",
       "      <th></th>\n",
       "      <th>title</th>\n",
       "      <th>pos</th>\n",
       "      <th>pos1</th>\n",
       "      <th>pos2</th>\n",
       "      <th>pos3</th>\n",
       "      <th>title_token</th>\n",
       "      <th>word_vec</th>\n",
       "      <th>all_pos</th>\n",
       "      <th>dp1_pos</th>\n",
       "      <th>w2v</th>\n",
       "    </tr>\n",
       "  </thead>\n",
       "  <tbody>\n",
       "    <tr>\n",
       "      <th>139976</th>\n",
       "      <td>good mistress page</td>\n",
       "      <td>['JJ', 'NN', 'NN']</td>\n",
       "      <td>JJ</td>\n",
       "      <td>NN</td>\n",
       "      <td>NN</td>\n",
       "      <td>[good, mistress, page]</td>\n",
       "      <td>[[0.89183116, -0.21151099, -0.4573949, 0.00399...</td>\n",
       "      <td>[0, 0, 0, 0, 0, 1, 0, 0, 0, 0, 0, 0, 0, 0, 0, ...</td>\n",
       "      <td>[0, 0, 0, 0, 1, 0, 0, 0, 0, 0, 0, 0, 0, 0, 0, ...</td>\n",
       "      <td>[0.89183116, -0.21151099, -0.4573949, 0.003994...</td>\n",
       "    </tr>\n",
       "  </tbody>\n",
       "</table>\n",
       "</div>"
      ],
      "text/plain": [
       "                     title                 pos pos1 pos2 pos3  \\\n",
       "139976  good mistress page  ['JJ', 'NN', 'NN']   JJ   NN   NN   \n",
       "\n",
       "                   title_token  \\\n",
       "139976  [good, mistress, page]   \n",
       "\n",
       "                                                 word_vec  \\\n",
       "139976  [[0.89183116, -0.21151099, -0.4573949, 0.00399...   \n",
       "\n",
       "                                                  all_pos  \\\n",
       "139976  [0, 0, 0, 0, 0, 1, 0, 0, 0, 0, 0, 0, 0, 0, 0, ...   \n",
       "\n",
       "                                                  dp1_pos  \\\n",
       "139976  [0, 0, 0, 0, 1, 0, 0, 0, 0, 0, 0, 0, 0, 0, 0, ...   \n",
       "\n",
       "                                                      w2v  \n",
       "139976  [0.89183116, -0.21151099, -0.4573949, 0.003994...  "
      ]
     },
     "execution_count": 43,
     "metadata": {},
     "output_type": "execute_result"
    }
   ],
   "source": [
    "trishake['w2v'] = result\n",
    "trishake.sample()"
   ]
  },
  {
   "cell_type": "code",
   "execution_count": 44,
   "metadata": {},
   "outputs": [],
   "source": [
    "datapath = '../data'\n",
    "\n",
    "datapath_trishake = os.path.join(datapath, 'shakespearean_trigrams.pkl')\n",
    "trishake.to_pickle(datapath_trishake)\n",
    "\n",
    "datapath_tritles = os.path.join(datapath, 'trigram_titles.pkl')\n",
    "tritles.to_pickle(datapath_tritles)"
   ]
  },
  {
   "cell_type": "code",
   "execution_count": 72,
   "metadata": {},
   "outputs": [
    {
     "name": "stdout",
     "output_type": "stream",
     "text": [
      "Length of w2v_all list: 463010\n",
      "Length of first element of w2v_all list: 2\n",
      "Length of first element of inner list: 600\n",
      "Type of first element of inner list: <class 'numpy.ndarray'>\n",
      "Length of seceond element of inner list 81\n",
      "Type of element of inner list <class 'list'>\n"
     ]
    }
   ],
   "source": [
    "# w2v_all_pos = trishake[['w2v', 'all_pos']]\n",
    "# w2v_all = w2v_all_pos.values.tolist()\n",
    "\n",
    "# w2v_dp1_pos = trishake[['w2v', 'dp1_pos']]\n",
    "# w2v_dp1 = w2v_dp1_pos.values.tolist()\n",
    "\n",
    "# print('Length of w2v_all list:', len(w2v_all))\n",
    "# print('Length of first element of w2v_all list:', len(w2v_all[0]))\n",
    "# print('Length of first element of inner list:', len(w2v_all[0][0]))\n",
    "# print('Type of first element of inner list:', type(w2v_all[0][0]))\n",
    "# print('Length of seceond element of inner list', len(w2v_all[0][1]))\n",
    "# print('Type of element of inner list', type(w2v_all[0][1]))"
   ]
  },
  {
   "cell_type": "markdown",
   "metadata": {},
   "source": [
    "These dataframes are getting too large for my processor, so I am splitting them now:\n",
    "\n",
    "**trigram_df1**, which will retain the dropped first one-hot encoding and **trigram_df2** which will retain all of the pos encoding"
   ]
  },
  {
   "cell_type": "code",
   "execution_count": 45,
   "metadata": {},
   "outputs": [
    {
     "data": {
      "text/html": [
       "<div>\n",
       "<style scoped>\n",
       "    .dataframe tbody tr th:only-of-type {\n",
       "        vertical-align: middle;\n",
       "    }\n",
       "\n",
       "    .dataframe tbody tr th {\n",
       "        vertical-align: top;\n",
       "    }\n",
       "\n",
       "    .dataframe thead th {\n",
       "        text-align: right;\n",
       "    }\n",
       "</style>\n",
       "<table border=\"1\" class=\"dataframe\">\n",
       "  <thead>\n",
       "    <tr style=\"text-align: right;\">\n",
       "      <th></th>\n",
       "      <th>title</th>\n",
       "      <th>w2v</th>\n",
       "      <th>dp1_pos</th>\n",
       "    </tr>\n",
       "  </thead>\n",
       "  <tbody>\n",
       "    <tr>\n",
       "      <th>82164</th>\n",
       "      <td>come to cressid</td>\n",
       "      <td>[-0.43055856, 0.2836218, -1.549295, 0.44880795...</td>\n",
       "      <td>[0, 0, 0, 0, 0, 0, 0, 0, 0, 0, 0, 0, 0, 0, 0, ...</td>\n",
       "    </tr>\n",
       "  </tbody>\n",
       "</table>\n",
       "</div>"
      ],
      "text/plain": [
       "                 title                                                w2v  \\\n",
       "82164  come to cressid  [-0.43055856, 0.2836218, -1.549295, 0.44880795...   \n",
       "\n",
       "                                                 dp1_pos  \n",
       "82164  [0, 0, 0, 0, 0, 0, 0, 0, 0, 0, 0, 0, 0, 0, 0, ...  "
      ]
     },
     "execution_count": 45,
     "metadata": {},
     "output_type": "execute_result"
    }
   ],
   "source": [
    "trigram_df1 = trishake[['title', 'w2v', 'dp1_pos']]\n",
    "trigram_df1.sample()"
   ]
  },
  {
   "cell_type": "code",
   "execution_count": 48,
   "metadata": {},
   "outputs": [],
   "source": [
    "word_vec2 = trigram_df1['w2v'].apply(lambda x: list(x))"
   ]
  },
  {
   "cell_type": "code",
   "execution_count": 49,
   "metadata": {},
   "outputs": [
    {
     "name": "stderr",
     "output_type": "stream",
     "text": [
      "<ipython-input-49-95fa05c39137>:1: SettingWithCopyWarning: \n",
      "A value is trying to be set on a copy of a slice from a DataFrame.\n",
      "Try using .loc[row_indexer,col_indexer] = value instead\n",
      "\n",
      "See the caveats in the documentation: https://pandas.pydata.org/pandas-docs/stable/user_guide/indexing.html#returning-a-view-versus-a-copy\n",
      "  trigram_df1['w2v'] = word_vec2\n"
     ]
    }
   ],
   "source": [
    "trigram_df1['w2v'] = word_vec2"
   ]
  },
  {
   "cell_type": "code",
   "execution_count": 46,
   "metadata": {},
   "outputs": [
    {
     "data": {
      "text/html": [
       "<div>\n",
       "<style scoped>\n",
       "    .dataframe tbody tr th:only-of-type {\n",
       "        vertical-align: middle;\n",
       "    }\n",
       "\n",
       "    .dataframe tbody tr th {\n",
       "        vertical-align: top;\n",
       "    }\n",
       "\n",
       "    .dataframe thead th {\n",
       "        text-align: right;\n",
       "    }\n",
       "</style>\n",
       "<table border=\"1\" class=\"dataframe\">\n",
       "  <thead>\n",
       "    <tr style=\"text-align: right;\">\n",
       "      <th></th>\n",
       "      <th>title</th>\n",
       "      <th>w2v</th>\n",
       "      <th>all_pos</th>\n",
       "    </tr>\n",
       "  </thead>\n",
       "  <tbody>\n",
       "    <tr>\n",
       "      <th>463302</th>\n",
       "      <td>ye should jar</td>\n",
       "      <td>[0.38721955, -0.6298508, -0.64152753, 0.548075...</td>\n",
       "      <td>[0, 0, 0, 0, 0, 0, 0, 0, 0, 1, 0, 0, 0, 0, 0, ...</td>\n",
       "    </tr>\n",
       "  </tbody>\n",
       "</table>\n",
       "</div>"
      ],
      "text/plain": [
       "                title                                                w2v  \\\n",
       "463302  ye should jar  [0.38721955, -0.6298508, -0.64152753, 0.548075...   \n",
       "\n",
       "                                                  all_pos  \n",
       "463302  [0, 0, 0, 0, 0, 0, 0, 0, 0, 1, 0, 0, 0, 0, 0, ...  "
      ]
     },
     "execution_count": 46,
     "metadata": {},
     "output_type": "execute_result"
    }
   ],
   "source": [
    "trigram_df2 = trishake[['title', 'w2v', 'all_pos']]\n",
    "trigram_df2.sample()"
   ]
  },
  {
   "cell_type": "code",
   "execution_count": 50,
   "metadata": {},
   "outputs": [
    {
     "name": "stdout",
     "output_type": "stream",
     "text": [
      "Length of w2v_dp1 list: 463010\n",
      "Length of first element of w2v_dp1 list: 2\n",
      "Length of first element of inner list: 600\n",
      "Type of first element of inner list: <class 'list'>\n",
      "Length of seceond element of inner list 78\n",
      "Type of element of inner list <class 'list'>\n"
     ]
    }
   ],
   "source": [
    "w2v_dp1_pos = trigram_df1[['w2v', 'dp1_pos']]\n",
    "w2v_dp1 = w2v_dp1_pos.values.tolist()\n",
    "\n",
    "print('Length of w2v_dp1 list:', len(w2v_dp1))\n",
    "print('Length of first element of w2v_dp1 list:', len(w2v_dp1[0]))\n",
    "print('Length of first element of inner list:', len(w2v_dp1[0][0]))\n",
    "print('Type of first element of inner list:', type(w2v_dp1[0][0]))\n",
    "print('Length of seceond element of inner list', len(w2v_dp1[0][1]))\n",
    "print('Type of element of inner list', type(w2v_dp1[0][1]))"
   ]
  },
  {
   "cell_type": "code",
   "execution_count": 51,
   "metadata": {},
   "outputs": [
    {
     "name": "stdout",
     "output_type": "stream",
     "text": [
      "Length of new_w2v_dp1 463010\n",
      "Length of inner list 678\n"
     ]
    }
   ],
   "source": [
    "new_w2v_dp1 = []\n",
    "\n",
    "for i in range(len(w2v_dp1)):\n",
    "    new_w2v_dp1.append(w2v_dp1[i][0] + w2v_dp1[i][1])\n",
    "    \n",
    "print('Length of new_w2v_dp1', len(new_w2v_dp1))\n",
    "print('Length of inner list', len(new_w2v_dp1[0]))"
   ]
  },
  {
   "cell_type": "code",
   "execution_count": 52,
   "metadata": {},
   "outputs": [
    {
     "name": "stderr",
     "output_type": "stream",
     "text": [
      "<ipython-input-52-fc4abffa4148>:1: SettingWithCopyWarning: \n",
      "A value is trying to be set on a copy of a slice from a DataFrame.\n",
      "Try using .loc[row_indexer,col_indexer] = value instead\n",
      "\n",
      "See the caveats in the documentation: https://pandas.pydata.org/pandas-docs/stable/user_guide/indexing.html#returning-a-view-versus-a-copy\n",
      "  trigram_df1['w2v_dp1'] = new_w2v_dp1\n"
     ]
    },
    {
     "data": {
      "text/html": [
       "<div>\n",
       "<style scoped>\n",
       "    .dataframe tbody tr th:only-of-type {\n",
       "        vertical-align: middle;\n",
       "    }\n",
       "\n",
       "    .dataframe tbody tr th {\n",
       "        vertical-align: top;\n",
       "    }\n",
       "\n",
       "    .dataframe thead th {\n",
       "        text-align: right;\n",
       "    }\n",
       "</style>\n",
       "<table border=\"1\" class=\"dataframe\">\n",
       "  <thead>\n",
       "    <tr style=\"text-align: right;\">\n",
       "      <th></th>\n",
       "      <th>title</th>\n",
       "      <th>w2v</th>\n",
       "      <th>dp1_pos</th>\n",
       "      <th>w2v_dp1</th>\n",
       "    </tr>\n",
       "  </thead>\n",
       "  <tbody>\n",
       "    <tr>\n",
       "      <th>188486</th>\n",
       "      <td>impudence to gainsay</td>\n",
       "      <td>[0.00053952844, -0.018305901, 0.015596594, -0....</td>\n",
       "      <td>[0, 0, 0, 0, 0, 0, 0, 0, 1, 0, 0, 0, 0, 0, 0, ...</td>\n",
       "      <td>[0.00053952844, -0.018305901, 0.015596594, -0....</td>\n",
       "    </tr>\n",
       "  </tbody>\n",
       "</table>\n",
       "</div>"
      ],
      "text/plain": [
       "                       title  \\\n",
       "188486  impudence to gainsay   \n",
       "\n",
       "                                                      w2v  \\\n",
       "188486  [0.00053952844, -0.018305901, 0.015596594, -0....   \n",
       "\n",
       "                                                  dp1_pos  \\\n",
       "188486  [0, 0, 0, 0, 0, 0, 0, 0, 1, 0, 0, 0, 0, 0, 0, ...   \n",
       "\n",
       "                                                  w2v_dp1  \n",
       "188486  [0.00053952844, -0.018305901, 0.015596594, -0....  "
      ]
     },
     "execution_count": 52,
     "metadata": {},
     "output_type": "execute_result"
    }
   ],
   "source": [
    "trigram_df1['w2v_dp1'] = new_w2v_dp1\n",
    "trigram_df1.sample()"
   ]
  },
  {
   "cell_type": "code",
   "execution_count": 53,
   "metadata": {},
   "outputs": [
    {
     "name": "stdout",
     "output_type": "stream",
     "text": [
      "[0.0807096, -1.3587284, -1.0823939, -1.0976366, 0.047064725, -0.06557366, 0.2576524, -1.729977, -0.08876638, -0.7768364, -1.1120688, 0.1703223, -0.80719894, -1.0509889, -0.9496145, 1.399656, -0.61601216, 1.1853921, 0.14824629, -0.118394315, -0.9897278, 1.070386, -0.7828252, -1.138204, -0.53862935, -0.24603614, 0.5009268, 0.17365944, 1.430671, -0.15076216, -1.0192459, -1.5335596, 0.24154729, -1.075438, 0.8162576, 0.033223614, 2.2081532, -0.732324, -0.2924743, 0.8710904, -0.48896503, -1.2354227, 1.1289583, -0.0779926, -0.82045686, -0.4268056, -0.33609322, -0.17917156, -0.035220284, 0.4964373, 0.004385288, -0.58764887, -0.29082775, -0.02412139, -0.6514667, -0.35490793, 1.027432, -1.621269, -1.1602274, 1.2093196, -1.1650782, 0.06542528, -1.1833655, -0.2689617, -0.7662771, -0.02973663, 0.7769583, -0.3336884, -2.047132, -1.342562, 2.3502333, -0.9453741, 0.015789187, 0.32739648, 1.1115769, -0.16643466, 0.5801253, 0.15593454, 0.6774502, -0.2628041, 0.29531765, 0.43133, 0.92916787, -0.1544743, -0.599276, -0.07438286, 0.3746718, -1.3803067, -0.7154767, 0.83213234, -0.81052953, 0.66046363, 0.6788389, 1.0525353, 0.41109553, 0.96686405, -0.23534824, 0.8504038, -0.36952746, 1.068778, -0.8644103, 0.80628955, 1.0060912, 0.10006128, -0.96244866, 0.18580213, -1.6020461, -0.49940905, 0.15579018, 0.05760148, -0.73853886, -1.5971285, 0.15587708, -0.2135399, 0.0843289, 0.30564815, -0.37007344, 1.4341378, 0.7818292, -0.40802866, 1.5402122, 0.59425396, 0.12263276, -0.4657366, -0.16971114, -0.52073175, 0.86989427, 0.44083813, -0.03219739, 1.6826719, 1.0924591, 0.5812575, -0.28634343, -0.24587047, 0.98015296, 0.30372855, 1.0105855, 0.18019472, 0.80047834, -1.6008816, 1.0717963, 0.646171, -1.0600276, 0.15806134, -0.6750927, -0.7843703, -1.1307079, 0.37157223, -1.1912122, -1.0613298, -0.042417053, -0.73651123, 0.4452372, 0.6275196, 0.7198686, 0.74594504, 1.2221024, -0.4012134, 0.67491263, -0.45646432, -0.7944258, 0.68068635, 0.08950396, -0.47032943, -0.5137353, -0.13131055, 0.17182864, -0.5346991, 0.30630723, 0.12336527, -0.53608066, 1.0954292, -1.2065607, 0.096781515, -0.04599751, 0.6036333, -0.7366285, 0.94877845, 0.38215336, 0.015681403, -1.0007704, 0.9658127, 0.32570264, 0.5272143, 2.0911322, -0.12386512, -1.5717021, 0.062984616, -0.37944773, 0.49340966, 0.68704087, -0.26111332, 0.042092916, -0.08636644, -0.94178486, 0.20921741, -2.593324, -0.79202163, 1.0331166, -1.0732385, 0.0030465529, -0.060628854, 0.047387373, -0.042362537, -0.06811994, -0.032947823, -0.118068986, -0.02763459, -0.068754, 0.0088506825, -0.046918906, -0.07676075, 0.04883813, 0.001808859, -0.08021202, -0.0126135405, 0.07902236, 0.14306334, 0.036556363, -0.012291567, -0.010265067, 0.007745824, 0.14883137, -0.029906895, 0.15893501, 0.016979119, -0.11322198, -0.07301486, 0.039246444, 0.020915233, 0.1245075, 0.06055164, 0.101274595, -0.0728147, -0.050302908, -0.1302395, -0.027370712, -0.03317976, -0.01606005, -0.14505026, -0.051241845, -0.045099873, -0.013998008, -0.16134539, -0.093929164, 0.045323048, -0.07171312, 0.17311639, 0.031218294, -0.09360685, 0.019428056, 0.20496444, 0.013060645, -0.10057742, -0.08999517, -0.15473233, 0.020177158, -0.16429202, -0.052870322, -0.011026755, 0.15447137, 0.05006741, -0.14307319, 0.046419054, 0.070407435, -0.012143777, 0.25469145, -0.060056698, 0.080396675, -0.082022734, -0.07307268, -0.1401117, -0.08793174, -0.018757135, 0.09542555, -0.041595016, -0.03881626, -0.037928253, 0.056477595, -0.05306399, 0.11002781, 0.019085085, -0.04179539, 0.015596788, -0.11713975, -0.10229046, 0.03146989, 0.002104067, -0.06289225, -0.054906234, 0.012160864, 0.00333679, 0.09006598, 0.041268423, 0.111986235, -0.0462166, -0.08769084, -0.04164847, -0.08913694, -0.036312647, 0.101813786, -0.04255255, -0.04986724, 0.03361189, 0.04202041, 0.02007308, -0.048906814, -0.08365504, -0.016123872, 0.0124884425, -0.091908924, -0.068040475, -0.12294854, 0.06971202, 0.039147537, 0.0014575925, 0.049403045, -0.019646829, -0.1501673, -0.015964983, 0.032021783, 0.036070447, 0.022470498, -0.03474887, -0.05545667, 0.082584836, -0.19071554, -0.056026325, 0.032157235, 0.27701348, -0.041600313, 0.052154317, 0.13824412, -0.011609287, 0.13147411, 0.0024480044, -0.027203295, -0.07679944, -0.00063035503, 0.0053845015, -0.025734473, 0.13820179, -0.036831755, 0.006459346, -0.04308254, -0.07047688, -0.03339346, 0.09622018, 0.06812578, 0.04228123, 0.094480485, -0.09763772, -0.035343748, 0.16420579, -0.054080527, -0.013452107, 0.052060798, 0.122110896, 0.05841649, -0.038008094, 0.0014470698, -0.057430286, 0.048640423, -0.06426207, 0.043384366, 0.08911793, 0.05239381, -0.02516283, 0.032061625, 0.019155283, 0.07416668, 0.02043656, -0.004254972, -0.011405362, 0.12842646, 0.07685535, 0.06784457, 0.01170826, 0.090561815, 0.09909292, 0.0766961, -0.031040777, -0.14899917, -0.14011519, -0.06477866, 0.06985528, -0.12026809, 0.06779043, -0.055838816, 0.049866382, -0.0019012373, 0.024309402, 0.1677698, -0.06706405, -0.004758566, 0.012922566, -0.0989746, -0.1118483, -0.03393228, -0.06975813, -0.3279227, 0.38756633, -0.17210919, 0.04726681, -0.08017915, -0.16016743, 0.8797931, -0.32348406, -0.14858791, -0.42529047, -0.48177198, -0.47076476, 0.024735734, 0.027438378, 0.034735236, 0.2869428, 0.8931072, 0.6789869, -0.089313716, -0.15307762, 0.5003265, -0.2358758, 0.3204782, 0.5789605, 0.28051746, 0.18198504, 0.33081964, 0.047373436, 0.7862352, 0.076504104, 0.42679754, -0.17226094, 0.07710449, -0.1113167, -0.28313714, -0.44856036, 0.64627147, -0.24177958, 1.064243, 0.692316, 0.2912251, -0.38698405, 0.7593072, -0.43944344, 0.5299959, 0.2497093, -0.12124397, 0.49571908, 0.05151171, -0.28020623, 0.5702732, -0.18138884, 0.31195757, 0.80425096, -0.85279596, -0.0279466, 0.10603146, -0.7544191, -0.18526821, 0.30627, -0.41508552, 0.76075274, -0.6784123, 0.4464534, 0.7442478, 0.25103945, 0.3092647, -0.4260401, 0.18557301, 0.020405328, 0.48126706, -0.6262513, -0.98064595, -0.13274096, 0.64300925, -0.13418439, 0.21875931, -0.123292305, 0.46243107, -1.1701741, 0.10257643, 0.106764115, 0.078322515, -0.6046887, -0.41619223, -0.7309546, -0.5227141, -0.5097465, -0.81997776, 0.8163654, -0.5122745, -0.55176383, 0.05551095, 0.3256876, 0.15667188, -0.03227257, -0.6376021, -0.03432656, 0.100785315, -0.07138874, 0.37017262, 0.108135834, 0.20088162, 0.4941562, 0.3419437, -0.15820582, -0.45438978, -0.40956032, -0.48306724, 0.11195121, 0.051253513, -0.5207721, 0.04136663, -0.009700651, 0.0085688615, 0.23356065, -0.31466046, 0.2851347, -0.41228873, -0.10358469, 0.682928, 0.024022669, -1.0295714, 0.17753236, 0.34422332, 0.2917822, -0.5478245, 0.56776136, 0.0850066, 0.90565944, -0.14340822, 0.45771727, 0.817639, -0.7108892, -0.33514816, 0.41354468, -0.06937815, 0.21692179, 0.19780338, -0.16585141, 0.51086944, 0.8414757, -0.19911902, 0.18752758, -0.80600005, 0.080150925, -0.16288202, 0.77876294, 0.03166411, -0.09464785, 0.666415, 0.11806665, -0.101350754, 0.6569814, 0.35918483, -0.4224806, -0.13470213, 0.5799906, -0.16116779, -0.11588275, -0.09495597, -0.23772025, -0.10365151, -1.0970719, 0.6703465, -0.31527445, 0.2216615, -0.4035149, -0.34093398, -0.24568115, -0.13530031, 0.8194441, -0.20938864, -0.7681672, 0.24643797, 0.08940469, 0.8633532, 0.21134274, 1.2474859, -0.032577436, -0.45702216, 0.53541094, -0.14425148, -0.32920983, 0.9452575, -0.34219605, -0.7783397, 0.5905905, -0.31743944, -0.4017558, 0.50911313, 0.074069545, -0.28079823, 0.44758415, 0.34292257, -0.031128503, -0.07273974, -0.3075268, 0.10950057, -0.25136292, 0, 0, 0, 0, 0, 0, 0, 0, 0, 0, 0, 0, 0, 0, 0, 0, 0, 0, 0, 1, 0, 0, 0, 0, 0, 0, 0, 0, 0, 0, 0, 0, 0, 0, 1, 0, 0, 0, 0, 0, 0, 0, 0, 0, 0, 0, 0, 0, 0, 0, 0, 0, 0, 0, 0, 0, 0, 0, 0, 0, 0, 0, 0, 0, 0, 0, 0, 0, 0, 0, 0, 0, 0, 0, 0, 0, 0, 0]\n"
     ]
    }
   ],
   "source": [
    "print(trigram_df1.iloc[15654,3])"
   ]
  },
  {
   "cell_type": "code",
   "execution_count": 54,
   "metadata": {},
   "outputs": [
    {
     "name": "stdout",
     "output_type": "stream",
     "text": [
      "am dancing ,\n"
     ]
    }
   ],
   "source": [
    "print(trigram_df1.iloc[15654,0])"
   ]
  },
  {
   "cell_type": "code",
   "execution_count": null,
   "metadata": {},
   "outputs": [],
   "source": [
    "datapath_trigram_df1 = os.path.join(datapath, 'trigram_df1.pkl')\n",
    "trigram_df1.to_pickle(datapath_trigram_df1)"
   ]
  },
  {
   "cell_type": "code",
   "execution_count": null,
   "metadata": {},
   "outputs": [],
   "source": []
  },
  {
   "cell_type": "code",
   "execution_count": null,
   "metadata": {},
   "outputs": [],
   "source": []
  },
  {
   "cell_type": "code",
   "execution_count": null,
   "metadata": {},
   "outputs": [],
   "source": []
  },
  {
   "cell_type": "code",
   "execution_count": null,
   "metadata": {},
   "outputs": [],
   "source": []
  },
  {
   "cell_type": "markdown",
   "metadata": {},
   "source": [
    "Create train and test sets"
   ]
  },
  {
   "cell_type": "code",
   "execution_count": 56,
   "metadata": {},
   "outputs": [],
   "source": [
    "X = tritles[['title', 'w2v_all', 'w2v_dp1']]\n",
    "y = tritles[['title', 'good_title']]"
   ]
  },
  {
   "cell_type": "code",
   "execution_count": null,
   "metadata": {},
   "outputs": [],
   "source": []
  }
 ],
 "metadata": {
  "kernelspec": {
   "display_name": "Python 3",
   "language": "python",
   "name": "python3"
  },
  "language_info": {
   "codemirror_mode": {
    "name": "ipython",
    "version": 3
   },
   "file_extension": ".py",
   "mimetype": "text/x-python",
   "name": "python",
   "nbconvert_exporter": "python",
   "pygments_lexer": "ipython3",
   "version": "3.8.3"
  }
 },
 "nbformat": 4,
 "nbformat_minor": 4
}
