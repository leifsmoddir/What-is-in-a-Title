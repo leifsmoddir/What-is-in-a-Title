{
 "cells": [
  {
   "cell_type": "code",
   "execution_count": 1,
   "metadata": {},
   "outputs": [],
   "source": [
    "import pandas as pd\n",
    "import numpy as np\n",
    "from sklearn.model_selection import train_test_split\n",
    "import os"
   ]
  },
  {
   "cell_type": "code",
   "execution_count": 2,
   "metadata": {},
   "outputs": [],
   "source": [
    "tritles = pd.read_csv('../data/trigram_titles_pos_w2v.csv')"
   ]
  },
  {
   "cell_type": "code",
   "execution_count": 3,
   "metadata": {},
   "outputs": [
    {
     "data": {
      "text/html": [
       "<div>\n",
       "<style scoped>\n",
       "    .dataframe tbody tr th:only-of-type {\n",
       "        vertical-align: middle;\n",
       "    }\n",
       "\n",
       "    .dataframe tbody tr th {\n",
       "        vertical-align: top;\n",
       "    }\n",
       "\n",
       "    .dataframe thead th {\n",
       "        text-align: right;\n",
       "    }\n",
       "</style>\n",
       "<table border=\"1\" class=\"dataframe\">\n",
       "  <thead>\n",
       "    <tr style=\"text-align: right;\">\n",
       "      <th></th>\n",
       "      <th>title</th>\n",
       "      <th>good_title</th>\n",
       "      <th>pos</th>\n",
       "      <th>pos1</th>\n",
       "      <th>pos2</th>\n",
       "      <th>pos3</th>\n",
       "      <th>title_token</th>\n",
       "      <th>word_vec</th>\n",
       "    </tr>\n",
       "  </thead>\n",
       "  <tbody>\n",
       "    <tr>\n",
       "      <th>0</th>\n",
       "      <td>all's well</td>\n",
       "      <td>1</td>\n",
       "      <td>['DT', 'POS', 'NN']</td>\n",
       "      <td>DT</td>\n",
       "      <td>POS</td>\n",
       "      <td>NN</td>\n",
       "      <td>['all', \"'s\", 'well']</td>\n",
       "      <td>[[-1.81372836e-01  1.97823837e-01 -7.73134887e...</td>\n",
       "    </tr>\n",
       "    <tr>\n",
       "      <th>1</th>\n",
       "      <td>the devil drives</td>\n",
       "      <td>1</td>\n",
       "      <td>['DT', 'NN', 'NNS']</td>\n",
       "      <td>DT</td>\n",
       "      <td>NN</td>\n",
       "      <td>NNS</td>\n",
       "      <td>['the', 'devil', 'drives']</td>\n",
       "      <td>[[-9.59224224e-01  1.22396159e+00 -6.39906406e...</td>\n",
       "    </tr>\n",
       "    <tr>\n",
       "      <th>2</th>\n",
       "      <td>edge of hazard</td>\n",
       "      <td>1</td>\n",
       "      <td>['NN', 'IN', 'NN']</td>\n",
       "      <td>NN</td>\n",
       "      <td>IN</td>\n",
       "      <td>NN</td>\n",
       "      <td>['edge', 'of', 'hazard']</td>\n",
       "      <td>[[-2.87398398e-02 -7.36244917e-02  1.42647075e...</td>\n",
       "    </tr>\n",
       "    <tr>\n",
       "      <th>3</th>\n",
       "      <td>a mingled yarn</td>\n",
       "      <td>1</td>\n",
       "      <td>['DT', 'VBN', 'NN']</td>\n",
       "      <td>DT</td>\n",
       "      <td>VBN</td>\n",
       "      <td>NN</td>\n",
       "      <td>['a', 'mingled', 'yarn']</td>\n",
       "      <td>[[ 3.78270075e-03  3.85284066e-01 -8.90050769e...</td>\n",
       "    </tr>\n",
       "    <tr>\n",
       "      <th>4</th>\n",
       "      <td>love is enough</td>\n",
       "      <td>1</td>\n",
       "      <td>['NN', 'VBZ', 'JJ']</td>\n",
       "      <td>NN</td>\n",
       "      <td>VBZ</td>\n",
       "      <td>JJ</td>\n",
       "      <td>['love', 'is', 'enough']</td>\n",
       "      <td>[[-6.29614413e-01 -7.17607141e-01 -1.16408551e...</td>\n",
       "    </tr>\n",
       "  </tbody>\n",
       "</table>\n",
       "</div>"
      ],
      "text/plain": [
       "              title  good_title                  pos pos1 pos2 pos3  \\\n",
       "0        all's well           1  ['DT', 'POS', 'NN']   DT  POS   NN   \n",
       "1  the devil drives           1  ['DT', 'NN', 'NNS']   DT   NN  NNS   \n",
       "2    edge of hazard           1   ['NN', 'IN', 'NN']   NN   IN   NN   \n",
       "3    a mingled yarn           1  ['DT', 'VBN', 'NN']   DT  VBN   NN   \n",
       "4    love is enough           1  ['NN', 'VBZ', 'JJ']   NN  VBZ   JJ   \n",
       "\n",
       "                  title_token  \\\n",
       "0       ['all', \"'s\", 'well']   \n",
       "1  ['the', 'devil', 'drives']   \n",
       "2    ['edge', 'of', 'hazard']   \n",
       "3    ['a', 'mingled', 'yarn']   \n",
       "4    ['love', 'is', 'enough']   \n",
       "\n",
       "                                            word_vec  \n",
       "0  [[-1.81372836e-01  1.97823837e-01 -7.73134887e...  \n",
       "1  [[-9.59224224e-01  1.22396159e+00 -6.39906406e...  \n",
       "2  [[-2.87398398e-02 -7.36244917e-02  1.42647075e...  \n",
       "3  [[ 3.78270075e-03  3.85284066e-01 -8.90050769e...  \n",
       "4  [[-6.29614413e-01 -7.17607141e-01 -1.16408551e...  "
      ]
     },
     "execution_count": 3,
     "metadata": {},
     "output_type": "execute_result"
    }
   ],
   "source": [
    "tritles.head()"
   ]
  },
  {
   "cell_type": "markdown",
   "metadata": {},
   "source": [
    "`tritles.word_vec` is an array that contains three 200-dimension word vectors for each word in the title, and it is saved as a string in the DataFrame (an artifact of saving the df as a csv). Below I will tranform it into a 600 dimenion vectors of all three vectors."
   ]
  },
  {
   "cell_type": "code",
   "execution_count": 4,
   "metadata": {},
   "outputs": [
    {
     "data": {
      "text/plain": [
       "600"
      ]
     },
     "execution_count": 4,
     "metadata": {},
     "output_type": "execute_result"
    }
   ],
   "source": [
    "result = tritles['word_vec'].apply(lambda x: \n",
    "                           np.fromstring(\n",
    "                               x.replace('\\n','')\n",
    "                                .replace('[','')\n",
    "                                .replace(']','')\n",
    "                                .replace('  ',' '), sep=' '))\n",
    "len(result[0])"
   ]
  },
  {
   "cell_type": "code",
   "execution_count": 5,
   "metadata": {},
   "outputs": [],
   "source": [
    "tritles['result'] = result"
   ]
  },
  {
   "cell_type": "markdown",
   "metadata": {},
   "source": [
    "Make dummy variables for the POS tags and create a single array for the set of dummy variables. Create two lists: `all_pos` and `dp1_pos` in which we drop the first category for `pos1`, `pos2`, `pos3`"
   ]
  },
  {
   "cell_type": "code",
   "execution_count": 12,
   "metadata": {},
   "outputs": [
    {
     "name": "stdout",
     "output_type": "stream",
     "text": [
      "tritles_pos.shape: (389, 81)\n"
     ]
    }
   ],
   "source": [
    "tritles_pos = tritles[['pos1', 'pos2', 'pos3']]\n",
    "tritles_pos = pd.get_dummies(tritles_pos, prefix=['pos1', 'pos2', 'pos3'], columns=['pos1', 'pos2', 'pos3'])\n",
    "\n",
    "print('tritles_pos.shape:', tritles_pos.shape)"
   ]
  },
  {
   "cell_type": "code",
   "execution_count": 25,
   "metadata": {},
   "outputs": [
    {
     "data": {
      "text/html": [
       "<div>\n",
       "<style scoped>\n",
       "    .dataframe tbody tr th:only-of-type {\n",
       "        vertical-align: middle;\n",
       "    }\n",
       "\n",
       "    .dataframe tbody tr th {\n",
       "        vertical-align: top;\n",
       "    }\n",
       "\n",
       "    .dataframe thead th {\n",
       "        text-align: right;\n",
       "    }\n",
       "</style>\n",
       "<table border=\"1\" class=\"dataframe\">\n",
       "  <thead>\n",
       "    <tr style=\"text-align: right;\">\n",
       "      <th></th>\n",
       "      <th>pos1_CC</th>\n",
       "      <th>pos1_CD</th>\n",
       "      <th>pos1_DT</th>\n",
       "      <th>pos1_EX</th>\n",
       "      <th>pos1_IN</th>\n",
       "      <th>pos1_JJ</th>\n",
       "      <th>pos1_JJR</th>\n",
       "      <th>pos1_JJS</th>\n",
       "      <th>pos1_MD</th>\n",
       "      <th>pos1_NN</th>\n",
       "      <th>...</th>\n",
       "      <th>pos3_TO</th>\n",
       "      <th>pos3_VB</th>\n",
       "      <th>pos3_VBD</th>\n",
       "      <th>pos3_VBG</th>\n",
       "      <th>pos3_VBN</th>\n",
       "      <th>pos3_VBP</th>\n",
       "      <th>pos3_VBZ</th>\n",
       "      <th>pos3_WDT</th>\n",
       "      <th>pos3_WP$</th>\n",
       "      <th>pos3_WRB</th>\n",
       "    </tr>\n",
       "  </thead>\n",
       "  <tbody>\n",
       "    <tr>\n",
       "      <th>99</th>\n",
       "      <td>0</td>\n",
       "      <td>0</td>\n",
       "      <td>0</td>\n",
       "      <td>0</td>\n",
       "      <td>0</td>\n",
       "      <td>0</td>\n",
       "      <td>0</td>\n",
       "      <td>0</td>\n",
       "      <td>0</td>\n",
       "      <td>1</td>\n",
       "      <td>...</td>\n",
       "      <td>0</td>\n",
       "      <td>0</td>\n",
       "      <td>0</td>\n",
       "      <td>0</td>\n",
       "      <td>0</td>\n",
       "      <td>0</td>\n",
       "      <td>0</td>\n",
       "      <td>0</td>\n",
       "      <td>0</td>\n",
       "      <td>0</td>\n",
       "    </tr>\n",
       "  </tbody>\n",
       "</table>\n",
       "<p>1 rows × 81 columns</p>\n",
       "</div>"
      ],
      "text/plain": [
       "    pos1_CC  pos1_CD  pos1_DT  pos1_EX  pos1_IN  pos1_JJ  pos1_JJR  pos1_JJS  \\\n",
       "99        0        0        0        0        0        0         0         0   \n",
       "\n",
       "    pos1_MD  pos1_NN  ...  pos3_TO  pos3_VB  pos3_VBD  pos3_VBG  pos3_VBN  \\\n",
       "99        0        1  ...        0        0         0         0         0   \n",
       "\n",
       "    pos3_VBP  pos3_VBZ  pos3_WDT  pos3_WP$  pos3_WRB  \n",
       "99         0         0         0         0         0  \n",
       "\n",
       "[1 rows x 81 columns]"
      ]
     },
     "execution_count": 25,
     "metadata": {},
     "output_type": "execute_result"
    }
   ],
   "source": [
    "tritles_pos.sample()"
   ]
  },
  {
   "cell_type": "code",
   "execution_count": 178,
   "metadata": {},
   "outputs": [
    {
     "name": "stdout",
     "output_type": "stream",
     "text": [
      "Index(['pos1_CC', 'pos1_CD', 'pos1_DT', 'pos1_EX', 'pos1_IN', 'pos1_JJ',\n",
      "       'pos1_JJR', 'pos1_JJS', 'pos1_MD', 'pos1_NN', 'pos1_NNS', 'pos1_PRP',\n",
      "       'pos1_PRP$', 'pos1_RB', 'pos1_RBR', 'pos1_TO', 'pos1_VB', 'pos1_VBD',\n",
      "       'pos1_VBG', 'pos1_VBN', 'pos1_VBP', 'pos1_VBZ', 'pos1_WDT', 'pos1_WP$',\n",
      "       'pos1_WRB', 'pos2_,', 'pos2_.', 'pos2_CC', 'pos2_CD', 'pos2_DT',\n",
      "       'pos2_EX', 'pos2_IN', 'pos2_JJ', 'pos2_JJR', 'pos2_JJS', 'pos2_MD',\n",
      "       'pos2_NN', 'pos2_NNS', 'pos2_POS', 'pos2_PRP', 'pos2_PRP$', 'pos2_RB',\n",
      "       'pos2_RBR', 'pos2_RBS', 'pos2_RP', 'pos2_TO', 'pos2_VB', 'pos2_VBD',\n",
      "       'pos2_VBG', 'pos2_VBN', 'pos2_VBP', 'pos2_VBZ', 'pos2_WDT', 'pos2_WRB',\n",
      "       'pos3_,', 'pos3_.', 'pos3_CC', 'pos3_CD', 'pos3_DT', 'pos3_IN',\n",
      "       'pos3_JJ', 'pos3_JJR', 'pos3_MD', 'pos3_NN', 'pos3_NNS', 'pos3_POS',\n",
      "       'pos3_PRP', 'pos3_PRP$', 'pos3_RB', 'pos3_RBR', 'pos3_RBS', 'pos3_TO',\n",
      "       'pos3_VB', 'pos3_VBD', 'pos3_VBG', 'pos3_VBN', 'pos3_VBP', 'pos3_VBZ',\n",
      "       'pos3_WDT', 'pos3_WP$', 'pos3_WRB'],\n",
      "      dtype='object')\n"
     ]
    }
   ],
   "source": [
    "print(tritles_pos.columns)"
   ]
  },
  {
   "cell_type": "code",
   "execution_count": 28,
   "metadata": {},
   "outputs": [
    {
     "name": "stdout",
     "output_type": "stream",
     "text": [
      "all_pos list of lists length: 389\n",
      "length of inner lists aka number of pos tags: 81\n"
     ]
    }
   ],
   "source": [
    "all_pos = tritles_pos.values.tolist()\n",
    "print('all_pos list of lists length:', len(all_pos))\n",
    "print('length of inner lists aka number of pos tags:', len(all_pos[0]))"
   ]
  },
  {
   "cell_type": "code",
   "execution_count": 29,
   "metadata": {},
   "outputs": [
    {
     "name": "stdout",
     "output_type": "stream",
     "text": [
      "tritles_pos2.shape: (389, 78)\n"
     ]
    }
   ],
   "source": [
    "tritles_pos2 = tritles[['pos1', 'pos2', 'pos3']]\n",
    "tritles_pos2 = pd.get_dummies(tritles_pos2, prefix=['pos1', 'pos2', 'pos3'], columns=['pos1', 'pos2', 'pos3'], drop_first=True)\n",
    "\n",
    "print('tritles_pos2.shape:', tritles_pos2.shape)"
   ]
  },
  {
   "cell_type": "code",
   "execution_count": 180,
   "metadata": {},
   "outputs": [
    {
     "name": "stdout",
     "output_type": "stream",
     "text": [
      "Index(['pos1_CD', 'pos1_DT', 'pos1_EX', 'pos1_IN', 'pos1_JJ', 'pos1_JJR',\n",
      "       'pos1_JJS', 'pos1_MD', 'pos1_NN', 'pos1_NNS', 'pos1_PRP', 'pos1_PRP$',\n",
      "       'pos1_RB', 'pos1_RBR', 'pos1_TO', 'pos1_VB', 'pos1_VBD', 'pos1_VBG',\n",
      "       'pos1_VBN', 'pos1_VBP', 'pos1_VBZ', 'pos1_WDT', 'pos1_WP$', 'pos1_WRB',\n",
      "       'pos2_.', 'pos2_CC', 'pos2_CD', 'pos2_DT', 'pos2_EX', 'pos2_IN',\n",
      "       'pos2_JJ', 'pos2_JJR', 'pos2_JJS', 'pos2_MD', 'pos2_NN', 'pos2_NNS',\n",
      "       'pos2_POS', 'pos2_PRP', 'pos2_PRP$', 'pos2_RB', 'pos2_RBR', 'pos2_RBS',\n",
      "       'pos2_RP', 'pos2_TO', 'pos2_VB', 'pos2_VBD', 'pos2_VBG', 'pos2_VBN',\n",
      "       'pos2_VBP', 'pos2_VBZ', 'pos2_WDT', 'pos2_WRB', 'pos3_.', 'pos3_CC',\n",
      "       'pos3_CD', 'pos3_DT', 'pos3_IN', 'pos3_JJ', 'pos3_JJR', 'pos3_MD',\n",
      "       'pos3_NN', 'pos3_NNS', 'pos3_POS', 'pos3_PRP', 'pos3_PRP$', 'pos3_RB',\n",
      "       'pos3_RBR', 'pos3_RBS', 'pos3_TO', 'pos3_VB', 'pos3_VBD', 'pos3_VBG',\n",
      "       'pos3_VBN', 'pos3_VBP', 'pos3_VBZ', 'pos3_WDT', 'pos3_WP$', 'pos3_WRB'],\n",
      "      dtype='object')\n"
     ]
    }
   ],
   "source": [
    "print(tritles_pos2.columns)"
   ]
  },
  {
   "cell_type": "code",
   "execution_count": 31,
   "metadata": {},
   "outputs": [
    {
     "name": "stdout",
     "output_type": "stream",
     "text": [
      "dp1_pos list of lists length: 389\n",
      "length of inner lists aka number of pos tags: 78\n"
     ]
    }
   ],
   "source": [
    "dp1_pos = tritles_pos2.values.tolist()\n",
    "print('dp1_pos list of lists length:', len(dp1_pos))\n",
    "print('length of inner lists aka number of pos tags:', len(dp1_pos[0]))"
   ]
  },
  {
   "cell_type": "code",
   "execution_count": 33,
   "metadata": {},
   "outputs": [
    {
     "data": {
      "text/html": [
       "<div>\n",
       "<style scoped>\n",
       "    .dataframe tbody tr th:only-of-type {\n",
       "        vertical-align: middle;\n",
       "    }\n",
       "\n",
       "    .dataframe tbody tr th {\n",
       "        vertical-align: top;\n",
       "    }\n",
       "\n",
       "    .dataframe thead th {\n",
       "        text-align: right;\n",
       "    }\n",
       "</style>\n",
       "<table border=\"1\" class=\"dataframe\">\n",
       "  <thead>\n",
       "    <tr style=\"text-align: right;\">\n",
       "      <th></th>\n",
       "      <th>title</th>\n",
       "      <th>good_title</th>\n",
       "      <th>pos</th>\n",
       "      <th>pos1</th>\n",
       "      <th>pos2</th>\n",
       "      <th>pos3</th>\n",
       "      <th>title_token</th>\n",
       "      <th>word_vec</th>\n",
       "      <th>result</th>\n",
       "      <th>all_pos</th>\n",
       "      <th>dp1_pos</th>\n",
       "    </tr>\n",
       "  </thead>\n",
       "  <tbody>\n",
       "    <tr>\n",
       "      <th>68</th>\n",
       "      <td>a poor player</td>\n",
       "      <td>1</td>\n",
       "      <td>['DT', 'JJ', 'NN']</td>\n",
       "      <td>DT</td>\n",
       "      <td>JJ</td>\n",
       "      <td>NN</td>\n",
       "      <td>['a', 'poor', 'player']</td>\n",
       "      <td>[[ 3.78270075e-03  3.85284066e-01 -8.90050769e...</td>\n",
       "      <td>[0.00378270075, 0.385284066, -0.890050769, 0.6...</td>\n",
       "      <td>[0, 0, 1, 0, 0, 0, 0, 0, 0, 0, 0, 0, 0, 0, 0, ...</td>\n",
       "      <td>[0, 1, 0, 0, 0, 0, 0, 0, 0, 0, 0, 0, 0, 0, 0, ...</td>\n",
       "    </tr>\n",
       "  </tbody>\n",
       "</table>\n",
       "</div>"
      ],
      "text/plain": [
       "            title  good_title                 pos pos1 pos2 pos3  \\\n",
       "68  a poor player           1  ['DT', 'JJ', 'NN']   DT   JJ   NN   \n",
       "\n",
       "                title_token  \\\n",
       "68  ['a', 'poor', 'player']   \n",
       "\n",
       "                                             word_vec  \\\n",
       "68  [[ 3.78270075e-03  3.85284066e-01 -8.90050769e...   \n",
       "\n",
       "                                               result  \\\n",
       "68  [0.00378270075, 0.385284066, -0.890050769, 0.6...   \n",
       "\n",
       "                                              all_pos  \\\n",
       "68  [0, 0, 1, 0, 0, 0, 0, 0, 0, 0, 0, 0, 0, 0, 0, ...   \n",
       "\n",
       "                                              dp1_pos  \n",
       "68  [0, 1, 0, 0, 0, 0, 0, 0, 0, 0, 0, 0, 0, 0, 0, ...  "
      ]
     },
     "execution_count": 33,
     "metadata": {},
     "output_type": "execute_result"
    }
   ],
   "source": [
    "tritles['all_pos'] = all_pos\n",
    "tritles['dp1_pos'] = dp1_pos\n",
    "\n",
    "tritles.sample()"
   ]
  },
  {
   "cell_type": "markdown",
   "metadata": {},
   "source": [
    "Now I need to combine `result` with `all_pos` and `dp1_pos` to create a single list for training."
   ]
  },
  {
   "cell_type": "code",
   "execution_count": 50,
   "metadata": {},
   "outputs": [
    {
     "data": {
      "text/plain": [
       "389"
      ]
     },
     "execution_count": 50,
     "metadata": {},
     "output_type": "execute_result"
    }
   ],
   "source": [
    "res_all_df = tritles[['result', 'all_pos']]\n",
    "res_all = res_all_df.values.tolist()\n",
    "\n",
    "len(res_all)"
   ]
  },
  {
   "cell_type": "code",
   "execution_count": 86,
   "metadata": {},
   "outputs": [
    {
     "name": "stdout",
     "output_type": "stream",
     "text": [
      "len(res_all[0]): 2\n",
      "len(res_all[0][0]): 600\n",
      "len(res_all[0][1]): 81\n",
      "type(res_all[0][0]): <class 'numpy.ndarray'>\n",
      "type(res_all[0][1]): <class 'list'>\n"
     ]
    }
   ],
   "source": [
    "print('len(res_all[0]):', len(res_all[0]))\n",
    "print('len(res_all[0][0]):', len(res_all[0][0]))\n",
    "print('len(res_all[0][1]):', len(res_all[0][1]))\n",
    "print('type(res_all[0][0]):', type(res_all[0][0]))\n",
    "print('type(res_all[0][1]):', type(res_all[0][1]))\n"
   ]
  },
  {
   "cell_type": "code",
   "execution_count": 87,
   "metadata": {},
   "outputs": [],
   "source": [
    "new_res_all = []\n",
    "\n",
    "for i in range(len(res_all)):\n",
    "    new_res_all.append(list(res_all[i][0]) + res_all[i][1])"
   ]
  },
  {
   "cell_type": "code",
   "execution_count": 88,
   "metadata": {},
   "outputs": [
    {
     "name": "stdout",
     "output_type": "stream",
     "text": [
      "len(new_res_all): 389\n",
      "len(new_res_all[0]): 681\n"
     ]
    }
   ],
   "source": [
    "print('len(new_res_all):', len(new_res_all))\n",
    "print('len(new_res_all[0]):', len(new_res_all[0]))"
   ]
  },
  {
   "cell_type": "code",
   "execution_count": 89,
   "metadata": {},
   "outputs": [
    {
     "data": {
      "text/html": [
       "<div>\n",
       "<style scoped>\n",
       "    .dataframe tbody tr th:only-of-type {\n",
       "        vertical-align: middle;\n",
       "    }\n",
       "\n",
       "    .dataframe tbody tr th {\n",
       "        vertical-align: top;\n",
       "    }\n",
       "\n",
       "    .dataframe thead th {\n",
       "        text-align: right;\n",
       "    }\n",
       "</style>\n",
       "<table border=\"1\" class=\"dataframe\">\n",
       "  <thead>\n",
       "    <tr style=\"text-align: right;\">\n",
       "      <th></th>\n",
       "      <th>title</th>\n",
       "      <th>good_title</th>\n",
       "      <th>pos</th>\n",
       "      <th>pos1</th>\n",
       "      <th>pos2</th>\n",
       "      <th>pos3</th>\n",
       "      <th>title_token</th>\n",
       "      <th>word_vec</th>\n",
       "      <th>result</th>\n",
       "      <th>all_pos</th>\n",
       "      <th>dp1_pos</th>\n",
       "      <th>res_all</th>\n",
       "    </tr>\n",
       "  </thead>\n",
       "  <tbody>\n",
       "    <tr>\n",
       "      <th>75</th>\n",
       "      <td>rain from heaven</td>\n",
       "      <td>1</td>\n",
       "      <td>['NN', 'IN', 'NN']</td>\n",
       "      <td>NN</td>\n",
       "      <td>IN</td>\n",
       "      <td>NN</td>\n",
       "      <td>['rain', 'from', 'heaven']</td>\n",
       "      <td>[[-1.14613073e-02 -1.20824695e-01  7.44598508e...</td>\n",
       "      <td>[-0.0114613073, -0.120824695, 0.0744598508, -0...</td>\n",
       "      <td>[0, 0, 0, 0, 0, 0, 0, 0, 0, 1, 0, 0, 0, 0, 0, ...</td>\n",
       "      <td>[0, 0, 0, 0, 0, 0, 0, 0, 1, 0, 0, 0, 0, 0, 0, ...</td>\n",
       "      <td>[-0.0114613073, -0.120824695, 0.0744598508, -0...</td>\n",
       "    </tr>\n",
       "  </tbody>\n",
       "</table>\n",
       "</div>"
      ],
      "text/plain": [
       "               title  good_title                 pos pos1 pos2 pos3  \\\n",
       "75  rain from heaven           1  ['NN', 'IN', 'NN']   NN   IN   NN   \n",
       "\n",
       "                   title_token  \\\n",
       "75  ['rain', 'from', 'heaven']   \n",
       "\n",
       "                                             word_vec  \\\n",
       "75  [[-1.14613073e-02 -1.20824695e-01  7.44598508e...   \n",
       "\n",
       "                                               result  \\\n",
       "75  [-0.0114613073, -0.120824695, 0.0744598508, -0...   \n",
       "\n",
       "                                              all_pos  \\\n",
       "75  [0, 0, 0, 0, 0, 0, 0, 0, 0, 1, 0, 0, 0, 0, 0, ...   \n",
       "\n",
       "                                              dp1_pos  \\\n",
       "75  [0, 0, 0, 0, 0, 0, 0, 0, 1, 0, 0, 0, 0, 0, 0, ...   \n",
       "\n",
       "                                              res_all  \n",
       "75  [-0.0114613073, -0.120824695, 0.0744598508, -0...  "
      ]
     },
     "execution_count": 89,
     "metadata": {},
     "output_type": "execute_result"
    }
   ],
   "source": [
    "tritles['res_all'] = new_res_all\n",
    "tritles.sample()"
   ]
  },
  {
   "cell_type": "code",
   "execution_count": 90,
   "metadata": {},
   "outputs": [
    {
     "data": {
      "text/plain": [
       "389"
      ]
     },
     "execution_count": 90,
     "metadata": {},
     "output_type": "execute_result"
    }
   ],
   "source": [
    "res_dp1_df = tritles[['result', 'dp1_pos']]\n",
    "res_dp1 = res_dp1_df.values.tolist()\n",
    "len(res_dp1)"
   ]
  },
  {
   "cell_type": "code",
   "execution_count": 91,
   "metadata": {},
   "outputs": [
    {
     "name": "stdout",
     "output_type": "stream",
     "text": [
      "len(new_res_dp1): 389\n",
      "len(new_res_dp1[0]): 678\n"
     ]
    }
   ],
   "source": [
    "new_res_dp1 = []\n",
    "\n",
    "for i in range(len(res_dp1)):\n",
    "    new_res_dp1.append(list(res_dp1[i][0]) + res_dp1[i][1])\n",
    "\n",
    "print('len(new_res_dp1):', len(new_res_dp1))\n",
    "print('len(new_res_dp1[0]):', len(new_res_dp1[0]))"
   ]
  },
  {
   "cell_type": "code",
   "execution_count": 120,
   "metadata": {},
   "outputs": [
    {
     "data": {
      "text/html": [
       "<div>\n",
       "<style scoped>\n",
       "    .dataframe tbody tr th:only-of-type {\n",
       "        vertical-align: middle;\n",
       "    }\n",
       "\n",
       "    .dataframe tbody tr th {\n",
       "        vertical-align: top;\n",
       "    }\n",
       "\n",
       "    .dataframe thead th {\n",
       "        text-align: right;\n",
       "    }\n",
       "</style>\n",
       "<table border=\"1\" class=\"dataframe\">\n",
       "  <thead>\n",
       "    <tr style=\"text-align: right;\">\n",
       "      <th></th>\n",
       "      <th>title</th>\n",
       "      <th>good_title</th>\n",
       "      <th>pos</th>\n",
       "      <th>pos1</th>\n",
       "      <th>pos2</th>\n",
       "      <th>pos3</th>\n",
       "      <th>title_token</th>\n",
       "      <th>word_vec</th>\n",
       "      <th>result</th>\n",
       "      <th>all_pos</th>\n",
       "      <th>dp1_pos</th>\n",
       "      <th>res_all</th>\n",
       "      <th>res_dp1</th>\n",
       "    </tr>\n",
       "  </thead>\n",
       "  <tbody>\n",
       "    <tr>\n",
       "      <th>211</th>\n",
       "      <td>the cordial of</td>\n",
       "      <td>0</td>\n",
       "      <td>['DT', 'NN', 'IN']</td>\n",
       "      <td>DT</td>\n",
       "      <td>NN</td>\n",
       "      <td>IN</td>\n",
       "      <td>['the', 'cordial', 'of']</td>\n",
       "      <td>[[-9.59224224e-01  1.22396159e+00 -6.39906406e...</td>\n",
       "      <td>[-0.959224224, 1.22396159, -0.639906406, -0.51...</td>\n",
       "      <td>[0, 0, 1, 0, 0, 0, 0, 0, 0, 0, 0, 0, 0, 0, 0, ...</td>\n",
       "      <td>[0, 1, 0, 0, 0, 0, 0, 0, 0, 0, 0, 0, 0, 0, 0, ...</td>\n",
       "      <td>[-0.959224224, 1.22396159, -0.639906406, -0.51...</td>\n",
       "      <td>[-0.959224224, 1.22396159, -0.639906406, -0.51...</td>\n",
       "    </tr>\n",
       "  </tbody>\n",
       "</table>\n",
       "</div>"
      ],
      "text/plain": [
       "              title  good_title                 pos pos1 pos2 pos3  \\\n",
       "211  the cordial of           0  ['DT', 'NN', 'IN']   DT   NN   IN   \n",
       "\n",
       "                  title_token  \\\n",
       "211  ['the', 'cordial', 'of']   \n",
       "\n",
       "                                              word_vec  \\\n",
       "211  [[-9.59224224e-01  1.22396159e+00 -6.39906406e...   \n",
       "\n",
       "                                                result  \\\n",
       "211  [-0.959224224, 1.22396159, -0.639906406, -0.51...   \n",
       "\n",
       "                                               all_pos  \\\n",
       "211  [0, 0, 1, 0, 0, 0, 0, 0, 0, 0, 0, 0, 0, 0, 0, ...   \n",
       "\n",
       "                                               dp1_pos  \\\n",
       "211  [0, 1, 0, 0, 0, 0, 0, 0, 0, 0, 0, 0, 0, 0, 0, ...   \n",
       "\n",
       "                                               res_all  \\\n",
       "211  [-0.959224224, 1.22396159, -0.639906406, -0.51...   \n",
       "\n",
       "                                               res_dp1  \n",
       "211  [-0.959224224, 1.22396159, -0.639906406, -0.51...  "
      ]
     },
     "execution_count": 120,
     "metadata": {},
     "output_type": "execute_result"
    }
   ],
   "source": [
    "tritles['res_dp1'] = new_res_dp1\n",
    "tritles.sample()"
   ]
  },
  {
   "cell_type": "markdown",
   "metadata": {},
   "source": [
    "Split into training and test sets. Xa is `res_all` and Xd is `res_dp1`. Will use random_state=46 during training to compare the two sets"
   ]
  },
  {
   "cell_type": "code",
   "execution_count": 121,
   "metadata": {},
   "outputs": [
    {
     "data": {
      "text/plain": [
       "(389, 3)"
      ]
     },
     "execution_count": 121,
     "metadata": {},
     "output_type": "execute_result"
    }
   ],
   "source": [
    "X = tritles[['title', 'res_all', 'res_dp1']]\n",
    "X.shape"
   ]
  },
  {
   "cell_type": "code",
   "execution_count": 122,
   "metadata": {},
   "outputs": [
    {
     "data": {
      "text/plain": [
       "(389, 2)"
      ]
     },
     "execution_count": 122,
     "metadata": {},
     "output_type": "execute_result"
    }
   ],
   "source": [
    "y = tritles[['title', 'good_title']]\n",
    "y.shape"
   ]
  },
  {
   "cell_type": "code",
   "execution_count": 128,
   "metadata": {},
   "outputs": [],
   "source": [
    "Xa = X['res_all'].tolist()\n",
    "Xd = X['res_dp1'].tolist()\n",
    "y = y['good_title'].to_numpy()"
   ]
  },
  {
   "cell_type": "code",
   "execution_count": 129,
   "metadata": {},
   "outputs": [
    {
     "name": "stdout",
     "output_type": "stream",
     "text": [
      "Xa_train length: 291\n",
      "Xa_test length: 98\n"
     ]
    }
   ],
   "source": [
    "Xa_train, Xa_test, y_train, y_test = train_test_split(Xa, y, test_size=0.25, random_state=46)\n",
    "\n",
    "print('Xa_train length:', len(Xa_train))\n",
    "print('Xa_test length:', len(Xa_test))"
   ]
  },
  {
   "cell_type": "code",
   "execution_count": 130,
   "metadata": {},
   "outputs": [
    {
     "name": "stdout",
     "output_type": "stream",
     "text": [
      "Xd_train length: 291\n",
      "Xd_test length: 98\n"
     ]
    }
   ],
   "source": [
    "Xd_train, Xd_test, y_train, y_test = train_test_split(Xd, y, test_size=0.25, random_state=46)\n",
    "\n",
    "print('Xd_train length:', len(Xd_train))\n",
    "print('Xd_test length:', len(Xd_test))"
   ]
  },
  {
   "cell_type": "markdown",
   "metadata": {},
   "source": [
    "## Gradient Boosting ##"
   ]
  },
  {
   "cell_type": "code",
   "execution_count": 152,
   "metadata": {},
   "outputs": [],
   "source": [
    "from sklearn.ensemble import GradientBoostingClassifier\n",
    "from sklearn.metrics import classification_report, confusion_matrix, precision_score, recall_score, plot_confusion_matrix\n",
    "import matplotlib.pyplot as plt"
   ]
  },
  {
   "cell_type": "markdown",
   "metadata": {},
   "source": [
    "First with all pos tags"
   ]
  },
  {
   "cell_type": "code",
   "execution_count": 150,
   "metadata": {},
   "outputs": [
    {
     "name": "stdout",
     "output_type": "stream",
     "text": [
      "Learning rate:  0.05\n",
      "Accuracy (training): 0.955\n",
      "Accuracy (validation): 0.867\n",
      "Precision: 0.878\n",
      "Recall: 0.86\n",
      "\n",
      "Learning rate:  0.1\n",
      "Accuracy (training): 0.948\n",
      "Accuracy (validation): 0.878\n",
      "Precision: 0.839\n",
      "Recall: 0.94\n",
      "\n",
      "Learning rate:  0.25\n",
      "Accuracy (training): 0.986\n",
      "Accuracy (validation): 0.847\n",
      "Precision: 0.857\n",
      "Recall: 0.84\n",
      "\n",
      "Learning rate:  0.5\n",
      "Accuracy (training): 0.993\n",
      "Accuracy (validation): 0.878\n",
      "Precision: 0.88\n",
      "Recall: 0.88\n",
      "\n",
      "Learning rate:  0.75\n",
      "Accuracy (training): 1.0\n",
      "Accuracy (validation): 0.857\n",
      "Precision: 0.81\n",
      "Recall: 0.94\n",
      "\n",
      "Learning rate:  1\n",
      "Accuracy (training): 1.0\n",
      "Accuracy (validation): 0.837\n",
      "Precision: 0.827\n",
      "Recall: 0.86\n",
      "\n"
     ]
    }
   ],
   "source": [
    "learning_rates = [0.05, 0.1, 0.25, 0.5, 0.75, 1]\n",
    "for learning_rate in learning_rates:\n",
    "    gb = GradientBoostingClassifier(n_estimators=20, learning_rate = learning_rate, max_features=3, max_depth = 3)\n",
    "    gb.fit(Xa_train, y_train.ravel())\n",
    "    y_pred = gb.predict(Xa_test)\n",
    "    print('Learning rate: ', learning_rate)\n",
    "    print('Accuracy (training): {}'.format(round(gb.score(Xa_train, y_train), 3)))\n",
    "    print('Accuracy (validation): {}'.format(round(gb.score(Xa_test, y_test), 3)))\n",
    "    print('Precision: {}'.format(round(precision_score(y_test, y_pred), 3)))\n",
    "    print('Recall: {}'.format(round(recall_score(y_test, y_pred), 3)))\n",
    "    print()"
   ]
  },
  {
   "cell_type": "markdown",
   "metadata": {},
   "source": [
    "Re-running with a learning rate of 0.5 (I value precision over recall)"
   ]
  },
  {
   "cell_type": "code",
   "execution_count": 154,
   "metadata": {},
   "outputs": [
    {
     "name": "stdout",
     "output_type": "stream",
     "text": [
      "              precision    recall  f1-score   support\n",
      "\n",
      "           0       0.93      0.85      0.89        48\n",
      "           1       0.87      0.94      0.90        50\n",
      "\n",
      "    accuracy                           0.90        98\n",
      "   macro avg       0.90      0.90      0.90        98\n",
      "weighted avg       0.90      0.90      0.90        98\n",
      "\n"
     ]
    },
    {
     "data": {
      "text/plain": [
       "<Figure size 432x288 with 0 Axes>"
      ]
     },
     "metadata": {},
     "output_type": "display_data"
    },
    {
     "data": {
      "image/png": "[encoded data removed]",
      "text/plain": [
       "<Figure size 432x288 with 2 Axes>"
      ]
     },
     "metadata": {
      "needs_background": "light"
     },
     "output_type": "display_data"
    }
   ],
   "source": [
    "gb = GradientBoostingClassifier(n_estimators=20, learning_rate = 0.5, max_features=3, max_depth=3)\n",
    "gb.fit(Xa_train, y_train.ravel())\n",
    "y_pred = gb.predict(Xa_test)\n",
    "\n",
    "print(classification_report(y_test, y_pred))\n",
    "\n",
    "plt.figure()\n",
    "plot_confusion_matrix(gb, Xa_test, y_test)\n",
    "plt.show()"
   ]
  },
  {
   "cell_type": "markdown",
   "metadata": {},
   "source": [
    "Next with the first POS categories dropped"
   ]
  },
  {
   "cell_type": "code",
   "execution_count": 142,
   "metadata": {},
   "outputs": [
    {
     "name": "stdout",
     "output_type": "stream",
     "text": [
      "Learning rate:  0.05\n",
      "Accuracy (training): 0.959\n",
      "Accuracy (validation): 0.806\n",
      "Precision: 0.804\n",
      "Recall: 0.82\n",
      "\n",
      "Learning rate:  0.1\n",
      "Accuracy (training): 0.962\n",
      "Accuracy (validation): 0.847\n",
      "Precision: 0.83\n",
      "Recall: 0.88\n",
      "\n",
      "Learning rate:  0.25\n",
      "Accuracy (training): 0.979\n",
      "Accuracy (validation): 0.878\n",
      "Precision: 0.865\n",
      "Recall: 0.9\n",
      "\n",
      "Learning rate:  0.5\n",
      "Accuracy (training): 0.997\n",
      "Accuracy (validation): 0.867\n",
      "Precision: 0.825\n",
      "Recall: 0.94\n",
      "\n",
      "Learning rate:  0.75\n",
      "Accuracy (training): 1.0\n",
      "Accuracy (validation): 0.857\n",
      "Precision: 0.833\n",
      "Recall: 0.9\n",
      "\n",
      "Learning rate:  1\n",
      "Accuracy (training): 1.0\n",
      "Accuracy (validation): 0.898\n",
      "Precision: 0.885\n",
      "Recall: 0.92\n",
      "\n"
     ]
    }
   ],
   "source": [
    "learning_rates = [0.05, 0.1, 0.25, 0.5, 0.75, 1]\n",
    "for learning_rate in learning_rates:\n",
    "    gb = GradientBoostingClassifier(n_estimators=20, learning_rate = learning_rate, max_features=3, max_depth = 3)\n",
    "    gb.fit(Xd_train, y_train.ravel())\n",
    "    y_pred = gb.predict(Xd_test)\n",
    "    print('Learning rate: ', learning_rate)\n",
    "    print('Accuracy (training): {}'.format(round(gb.score(Xd_train, y_train), 3)))\n",
    "    print('Accuracy (validation): {}'.format(round(gb.score(Xd_test, y_test), 3)))\n",
    "    print('Precision: {}'.format(round(precision_score(y_test, y_pred), 3)))\n",
    "    print('Recall: {}'.format(round(recall_score(y_test, y_pred), 3)))\n",
    "    print()"
   ]
  },
  {
   "cell_type": "markdown",
   "metadata": {},
   "source": [
    "With a learning rate of 0.25"
   ]
  },
  {
   "cell_type": "code",
   "execution_count": 155,
   "metadata": {},
   "outputs": [
    {
     "name": "stdout",
     "output_type": "stream",
     "text": [
      "              precision    recall  f1-score   support\n",
      "\n",
      "           0       0.95      0.88      0.91        48\n",
      "           1       0.89      0.96      0.92        50\n",
      "\n",
      "    accuracy                           0.92        98\n",
      "   macro avg       0.92      0.92      0.92        98\n",
      "weighted avg       0.92      0.92      0.92        98\n",
      "\n"
     ]
    },
    {
     "data": {
      "text/plain": [
       "<Figure size 432x288 with 0 Axes>"
      ]
     },
     "metadata": {},
     "output_type": "display_data"
    },
    {
     "data": {
      "image/png": "[encoded data removed]",
      "text/plain": [
       "<Figure size 432x288 with 2 Axes>"
      ]
     },
     "metadata": {
      "needs_background": "light"
     },
     "output_type": "display_data"
    }
   ],
   "source": [
    "gb = GradientBoostingClassifier(n_estimators=20, learning_rate = 0.25, max_features=3, max_depth=3)\n",
    "gb.fit(Xd_train, y_train.ravel())\n",
    "y_pred = gb.predict(Xd_test)\n",
    "\n",
    "print(classification_report(y_test, y_pred))\n",
    "\n",
    "plt.figure()\n",
    "plot_confusion_matrix(gb, Xd_test, y_test)\n",
    "plt.show()"
   ]
  },
  {
   "cell_type": "markdown",
   "metadata": {},
   "source": [
    "## SVM ##"
   ]
  },
  {
   "cell_type": "code",
   "execution_count": 144,
   "metadata": {},
   "outputs": [],
   "source": [
    "from sklearn import svm"
   ]
  },
  {
   "cell_type": "markdown",
   "metadata": {},
   "source": [
    "First with all pos tags"
   ]
  },
  {
   "cell_type": "code",
   "execution_count": 156,
   "metadata": {},
   "outputs": [
    {
     "name": "stdout",
     "output_type": "stream",
     "text": [
      "Regularization parameter:  0.01\n",
      "Accuracy (training): 0.505\n",
      "Accuracy (validation): 0.49\n",
      "Precision: 0.0\n",
      "Recall: 0.0\n",
      "\n",
      "Regularization parameter:  0.1\n"
     ]
    },
    {
     "name": "stderr",
     "output_type": "stream",
     "text": [
      "C:\\Users\\gcn4\\anaconda3\\lib\\site-packages\\sklearn\\metrics\\_classification.py:1221: UndefinedMetricWarning: Precision is ill-defined and being set to 0.0 due to no predicted samples. Use `zero_division` parameter to control this behavior.\n",
      "  _warn_prf(average, modifier, msg_start, len(result))\n"
     ]
    },
    {
     "name": "stdout",
     "output_type": "stream",
     "text": [
      "Accuracy (training): 0.849\n",
      "Accuracy (validation): 0.837\n",
      "Precision: 0.87\n",
      "Recall: 0.8\n",
      "\n",
      "Regularization parameter:  1\n",
      "Accuracy (training): 0.966\n",
      "Accuracy (validation): 0.908\n",
      "Precision: 0.887\n",
      "Recall: 0.94\n",
      "\n",
      "Regularization parameter:  10\n",
      "Accuracy (training): 0.993\n",
      "Accuracy (validation): 0.918\n",
      "Precision: 0.904\n",
      "Recall: 0.94\n",
      "\n",
      "Regularization parameter:  100\n",
      "Accuracy (training): 1.0\n",
      "Accuracy (validation): 0.918\n",
      "Precision: 0.92\n",
      "Recall: 0.92\n",
      "\n"
     ]
    }
   ],
   "source": [
    "C_list = [0.01, 0.1, 1, 10, 100]\n",
    "\n",
    "for C in C_list:\n",
    "    clf = svm.SVC(C=C, kernel='rbf')\n",
    "    clf.fit(Xa_train, y_train.ravel())\n",
    "    y_pred = clf.predict(Xa_test)\n",
    "    print('Regularization parameter: ', C)\n",
    "    print('Accuracy (training): {}'.format(round(clf.score(Xa_train, y_train), 3)))\n",
    "    print('Accuracy (validation): {}'.format(round(clf.score(Xa_test, y_test), 3)))\n",
    "    print('Precision: {}'.format(round(precision_score(y_test, y_pred), 3)))\n",
    "    print('Recall: {}'.format(round(recall_score(y_test, y_pred), 3)))\n",
    "    print()"
   ]
  },
  {
   "cell_type": "markdown",
   "metadata": {},
   "source": [
    "Rerun with C=10"
   ]
  },
  {
   "cell_type": "code",
   "execution_count": 157,
   "metadata": {},
   "outputs": [
    {
     "name": "stdout",
     "output_type": "stream",
     "text": [
      "              precision    recall  f1-score   support\n",
      "\n",
      "           0       0.93      0.90      0.91        48\n",
      "           1       0.90      0.94      0.92        50\n",
      "\n",
      "    accuracy                           0.92        98\n",
      "   macro avg       0.92      0.92      0.92        98\n",
      "weighted avg       0.92      0.92      0.92        98\n",
      "\n"
     ]
    },
    {
     "data": {
      "text/plain": [
       "<Figure size 432x288 with 0 Axes>"
      ]
     },
     "metadata": {},
     "output_type": "display_data"
    },
    {
     "data": {
      "image/png": "[encoded data removed]",
      "text/plain": [
       "<Figure size 432x288 with 2 Axes>"
      ]
     },
     "metadata": {
      "needs_background": "light"
     },
     "output_type": "display_data"
    }
   ],
   "source": [
    "clf = svm.SVC(C=10, kernel='rbf')\n",
    "clf.fit(Xa_train, y_train.ravel())\n",
    "y_pred = clf.predict(Xa_test)\n",
    "\n",
    "print(classification_report(y_test, y_pred))\n",
    "\n",
    "plt.figure()\n",
    "plot_confusion_matrix(clf, Xa_test, y_test)\n",
    "plt.show()"
   ]
  },
  {
   "cell_type": "markdown",
   "metadata": {},
   "source": [
    "Next with the first POS categories dropped"
   ]
  },
  {
   "cell_type": "code",
   "execution_count": 159,
   "metadata": {},
   "outputs": [
    {
     "name": "stdout",
     "output_type": "stream",
     "text": [
      "Regularization parameter:  0.01\n",
      "Accuracy (training): 0.505\n",
      "Accuracy (validation): 0.49\n",
      "Precision: 0.0\n",
      "Recall: 0.0\n",
      "\n",
      "Regularization parameter:  0.1\n"
     ]
    },
    {
     "name": "stderr",
     "output_type": "stream",
     "text": [
      "C:\\Users\\gcn4\\anaconda3\\lib\\site-packages\\sklearn\\metrics\\_classification.py:1221: UndefinedMetricWarning: Precision is ill-defined and being set to 0.0 due to no predicted samples. Use `zero_division` parameter to control this behavior.\n",
      "  _warn_prf(average, modifier, msg_start, len(result))\n"
     ]
    },
    {
     "name": "stdout",
     "output_type": "stream",
     "text": [
      "Accuracy (training): 0.849\n",
      "Accuracy (validation): 0.837\n",
      "Precision: 0.87\n",
      "Recall: 0.8\n",
      "\n",
      "Regularization parameter:  1\n",
      "Accuracy (training): 0.966\n",
      "Accuracy (validation): 0.908\n",
      "Precision: 0.887\n",
      "Recall: 0.94\n",
      "\n",
      "Regularization parameter:  10\n",
      "Accuracy (training): 0.993\n",
      "Accuracy (validation): 0.918\n",
      "Precision: 0.904\n",
      "Recall: 0.94\n",
      "\n",
      "Regularization parameter:  100\n",
      "Accuracy (training): 1.0\n",
      "Accuracy (validation): 0.918\n",
      "Precision: 0.92\n",
      "Recall: 0.92\n",
      "\n"
     ]
    }
   ],
   "source": [
    "C_list = [0.01, 0.1, 1, 10, 100]\n",
    "\n",
    "for C in C_list:\n",
    "    clf = svm.SVC(C=C, kernel='rbf')\n",
    "    clf.fit(Xd_train, y_train.ravel())\n",
    "    y_pred = clf.predict(Xd_test)\n",
    "    print('Regularization parameter: ', C)\n",
    "    print('Accuracy (training): {}'.format(round(clf.score(Xd_train, y_train), 3)))\n",
    "    print('Accuracy (validation): {}'.format(round(clf.score(Xd_test, y_test), 3)))\n",
    "    print('Precision: {}'.format(round(precision_score(y_test, y_pred), 3)))\n",
    "    print('Recall: {}'.format(round(recall_score(y_test, y_pred), 3)))\n",
    "    print()"
   ]
  },
  {
   "cell_type": "markdown",
   "metadata": {},
   "source": [
    "Rerun with C=10"
   ]
  },
  {
   "cell_type": "code",
   "execution_count": 160,
   "metadata": {},
   "outputs": [
    {
     "name": "stdout",
     "output_type": "stream",
     "text": [
      "              precision    recall  f1-score   support\n",
      "\n",
      "           0       0.93      0.90      0.91        48\n",
      "           1       0.90      0.94      0.92        50\n",
      "\n",
      "    accuracy                           0.92        98\n",
      "   macro avg       0.92      0.92      0.92        98\n",
      "weighted avg       0.92      0.92      0.92        98\n",
      "\n"
     ]
    },
    {
     "data": {
      "text/plain": [
       "<Figure size 432x288 with 0 Axes>"
      ]
     },
     "metadata": {},
     "output_type": "display_data"
    },
    {
     "data": {
      "image/png": "[encoded data removed]",
      "text/plain": [
       "<Figure size 432x288 with 2 Axes>"
      ]
     },
     "metadata": {
      "needs_background": "light"
     },
     "output_type": "display_data"
    }
   ],
   "source": [
    "clf = svm.SVC(C=10, kernel='rbf')\n",
    "clf.fit(Xd_train, y_train.ravel())\n",
    "y_pred = clf.predict(Xd_test)\n",
    "\n",
    "print(classification_report(y_test, y_pred))\n",
    "\n",
    "plt.figure()\n",
    "plot_confusion_matrix(clf, Xd_test, y_test)\n",
    "plt.show()"
   ]
  },
  {
   "cell_type": "markdown",
   "metadata": {},
   "source": [
    "There does not seem to be any performance differences between the `res_all` and `res_dp1` sets using a rbf kernel. Let's try a linear kernel"
   ]
  },
  {
   "cell_type": "code",
   "execution_count": 164,
   "metadata": {},
   "outputs": [
    {
     "name": "stdout",
     "output_type": "stream",
     "text": [
      "Regularization parameter:  0.01\n",
      "Accuracy (training): 0.948\n",
      "Accuracy (validation): 0.918\n",
      "Precision: 0.904\n",
      "Recall: 0.94\n",
      "\n",
      "Regularization parameter:  0.1\n",
      "Accuracy (training): 0.986\n",
      "Accuracy (validation): 0.908\n",
      "Precision: 0.873\n",
      "Recall: 0.96\n",
      "\n",
      "Regularization parameter:  1\n",
      "Accuracy (training): 1.0\n",
      "Accuracy (validation): 0.878\n",
      "Precision: 0.852\n",
      "Recall: 0.92\n",
      "\n",
      "Regularization parameter:  10\n",
      "Accuracy (training): 1.0\n",
      "Accuracy (validation): 0.888\n",
      "Precision: 0.868\n",
      "Recall: 0.92\n",
      "\n",
      "Regularization parameter:  100\n",
      "Accuracy (training): 1.0\n",
      "Accuracy (validation): 0.888\n",
      "Precision: 0.868\n",
      "Recall: 0.92\n",
      "\n"
     ]
    }
   ],
   "source": [
    "C_list = [0.01, 0.1, 1, 10, 100]\n",
    "\n",
    "for C in C_list:\n",
    "    clf = svm.SVC(C=C, kernel='linear')\n",
    "    clf.fit(Xa_train, y_train.ravel())\n",
    "    y_pred = clf.predict(Xa_test)\n",
    "    print('Regularization parameter: ', C)\n",
    "    print('Accuracy (training): {}'.format(round(clf.score(Xa_train, y_train), 3)))\n",
    "    print('Accuracy (validation): {}'.format(round(clf.score(Xa_test, y_test), 3)))\n",
    "    print('Precision: {}'.format(round(precision_score(y_test, y_pred), 3)))\n",
    "    print('Recall: {}'.format(round(recall_score(y_test, y_pred), 3)))\n",
    "    print()"
   ]
  },
  {
   "cell_type": "code",
   "execution_count": 165,
   "metadata": {},
   "outputs": [
    {
     "name": "stdout",
     "output_type": "stream",
     "text": [
      "              precision    recall  f1-score   support\n",
      "\n",
      "           0       0.93      0.90      0.91        48\n",
      "           1       0.90      0.94      0.92        50\n",
      "\n",
      "    accuracy                           0.92        98\n",
      "   macro avg       0.92      0.92      0.92        98\n",
      "weighted avg       0.92      0.92      0.92        98\n",
      "\n"
     ]
    },
    {
     "data": {
      "text/plain": [
       "<Figure size 432x288 with 0 Axes>"
      ]
     },
     "metadata": {},
     "output_type": "display_data"
    },
    {
     "data": {
      "image/png": "[encoded data removed]",
      "text/plain": [
       "<Figure size 432x288 with 2 Axes>"
      ]
     },
     "metadata": {
      "needs_background": "light"
     },
     "output_type": "display_data"
    }
   ],
   "source": [
    "clf = svm.SVC(C=0.01, kernel='linear')\n",
    "clf.fit(Xa_train, y_train.ravel())\n",
    "y_pred = clf.predict(Xa_test)\n",
    "\n",
    "print(classification_report(y_test, y_pred))\n",
    "\n",
    "plt.figure()\n",
    "plot_confusion_matrix(clf, Xa_test, y_test)\n",
    "plt.show()"
   ]
  },
  {
   "cell_type": "code",
   "execution_count": 166,
   "metadata": {},
   "outputs": [
    {
     "name": "stdout",
     "output_type": "stream",
     "text": [
      "Regularization parameter:  0.01\n",
      "Accuracy (training): 0.948\n",
      "Accuracy (validation): 0.918\n",
      "Precision: 0.904\n",
      "Recall: 0.94\n",
      "\n",
      "Regularization parameter:  0.1\n",
      "Accuracy (training): 0.986\n",
      "Accuracy (validation): 0.908\n",
      "Precision: 0.873\n",
      "Recall: 0.96\n",
      "\n",
      "Regularization parameter:  1\n",
      "Accuracy (training): 1.0\n",
      "Accuracy (validation): 0.878\n",
      "Precision: 0.852\n",
      "Recall: 0.92\n",
      "\n",
      "Regularization parameter:  10\n",
      "Accuracy (training): 1.0\n",
      "Accuracy (validation): 0.888\n",
      "Precision: 0.868\n",
      "Recall: 0.92\n",
      "\n",
      "Regularization parameter:  100\n",
      "Accuracy (training): 1.0\n",
      "Accuracy (validation): 0.888\n",
      "Precision: 0.868\n",
      "Recall: 0.92\n",
      "\n"
     ]
    }
   ],
   "source": [
    "C_list = [0.01, 0.1, 1, 10, 100]\n",
    "\n",
    "for C in C_list:\n",
    "    clf = svm.SVC(C=C, kernel='linear')\n",
    "    clf.fit(Xd_train, y_train.ravel())\n",
    "    y_pred = clf.predict(Xd_test)\n",
    "    print('Regularization parameter: ', C)\n",
    "    print('Accuracy (training): {}'.format(round(clf.score(Xd_train, y_train), 3)))\n",
    "    print('Accuracy (validation): {}'.format(round(clf.score(Xd_test, y_test), 3)))\n",
    "    print('Precision: {}'.format(round(precision_score(y_test, y_pred), 3)))\n",
    "    print('Recall: {}'.format(round(recall_score(y_test, y_pred), 3)))\n",
    "    print()"
   ]
  },
  {
   "cell_type": "code",
   "execution_count": 167,
   "metadata": {},
   "outputs": [
    {
     "name": "stdout",
     "output_type": "stream",
     "text": [
      "              precision    recall  f1-score   support\n",
      "\n",
      "           0       0.93      0.90      0.91        48\n",
      "           1       0.90      0.94      0.92        50\n",
      "\n",
      "    accuracy                           0.92        98\n",
      "   macro avg       0.92      0.92      0.92        98\n",
      "weighted avg       0.92      0.92      0.92        98\n",
      "\n"
     ]
    },
    {
     "data": {
      "text/plain": [
       "<Figure size 432x288 with 0 Axes>"
      ]
     },
     "metadata": {},
     "output_type": "display_data"
    },
    {
     "data": {
      "image/png": "[encoded data removed]",
      "text/plain": [
       "<Figure size 432x288 with 2 Axes>"
      ]
     },
     "metadata": {
      "needs_background": "light"
     },
     "output_type": "display_data"
    }
   ],
   "source": [
    "clf = svm.SVC(C=0.01, kernel='linear')\n",
    "clf.fit(Xd_train, y_train.ravel())\n",
    "y_pred = clf.predict(Xd_test)\n",
    "\n",
    "print(classification_report(y_test, y_pred))\n",
    "\n",
    "plt.figure()\n",
    "plot_confusion_matrix(clf, Xd_test, y_test)\n",
    "plt.show()"
   ]
  },
  {
   "cell_type": "code",
   "execution_count": 171,
   "metadata": {},
   "outputs": [],
   "source": [
    "datapath = '../data'"
   ]
  },
  {
   "cell_type": "code",
   "execution_count": 173,
   "metadata": {},
   "outputs": [
    {
     "data": {
      "text/html": [
       "<div>\n",
       "<style scoped>\n",
       "    .dataframe tbody tr th:only-of-type {\n",
       "        vertical-align: middle;\n",
       "    }\n",
       "\n",
       "    .dataframe tbody tr th {\n",
       "        vertical-align: top;\n",
       "    }\n",
       "\n",
       "    .dataframe thead th {\n",
       "        text-align: right;\n",
       "    }\n",
       "</style>\n",
       "<table border=\"1\" class=\"dataframe\">\n",
       "  <thead>\n",
       "    <tr style=\"text-align: right;\">\n",
       "      <th></th>\n",
       "      <th>title</th>\n",
       "      <th>res_all</th>\n",
       "      <th>res_dp1</th>\n",
       "    </tr>\n",
       "  </thead>\n",
       "  <tbody>\n",
       "    <tr>\n",
       "      <th>172</th>\n",
       "      <td>such bitter business</td>\n",
       "      <td>[-0.149283633, -0.0175612476, -0.453710228, -0...</td>\n",
       "      <td>[-0.149283633, -0.0175612476, -0.453710228, -0...</td>\n",
       "    </tr>\n",
       "  </tbody>\n",
       "</table>\n",
       "</div>"
      ],
      "text/plain": [
       "                    title                                            res_all  \\\n",
       "172  such bitter business  [-0.149283633, -0.0175612476, -0.453710228, -0...   \n",
       "\n",
       "                                               res_dp1  \n",
       "172  [-0.149283633, -0.0175612476, -0.453710228, -0...  "
      ]
     },
     "execution_count": 173,
     "metadata": {},
     "output_type": "execute_result"
    }
   ],
   "source": [
    "X.sample()"
   ]
  },
  {
   "cell_type": "code",
   "execution_count": 175,
   "metadata": {},
   "outputs": [
    {
     "data": {
      "text/plain": [
       "(389, 2)"
      ]
     },
     "execution_count": 175,
     "metadata": {},
     "output_type": "execute_result"
    }
   ],
   "source": [
    "y = tritles[['title', 'good_title']]\n",
    "y.shape"
   ]
  },
  {
   "cell_type": "code",
   "execution_count": 176,
   "metadata": {},
   "outputs": [],
   "source": [
    "datapath_X = os.path.join(datapath, 'X_tri.pkl')\n",
    "X.to_pickle(datapath_X)\n",
    "\n",
    "datapath_y = os.path.join(datapath, 'y_tri.pkl')\n",
    "y.to_pickle(datapath_y)"
   ]
  },
  {
   "cell_type": "code",
   "execution_count": 177,
   "metadata": {},
   "outputs": [],
   "source": [
    "datapath_tritles = os.path.join(datapath, 'tritles.pkl')\n",
    "tritles.to_pickle(datapath_tritles)"
   ]
  },
  {
   "cell_type": "code",
   "execution_count": null,
   "metadata": {},
   "outputs": [],
   "source": []
  }
 ],
 "metadata": {
  "kernelspec": {
   "display_name": "Python 3",
   "language": "python",
   "name": "python3"
  },
  "language_info": {
   "codemirror_mode": {
    "name": "ipython",
    "version": 3
   },
   "file_extension": ".py",
   "mimetype": "text/x-python",
   "name": "python",
   "nbconvert_exporter": "python",
   "pygments_lexer": "ipython3",
   "version": "3.8.3"
  }
 },
 "nbformat": 4,
 "nbformat_minor": 4
}
