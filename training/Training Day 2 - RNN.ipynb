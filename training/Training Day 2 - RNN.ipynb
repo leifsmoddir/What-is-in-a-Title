{
 "cells": [
  {
   "cell_type": "code",
   "execution_count": 49,
   "metadata": {},
   "outputs": [],
   "source": [
    "from keras.preprocessing.text import Tokenizer\n",
    "from keras.preprocessing.sequence import pad_sequences\n",
    "from sklearn.model_selection import train_test_split\n",
    "import pandas as pd\n",
    "import numpy as np"
   ]
  },
  {
   "cell_type": "code",
   "execution_count": 50,
   "metadata": {},
   "outputs": [],
   "source": [
    "shake_bi = pd.read_csv('../data/bigram_titles_pos.csv')\n",
    "shake_tri = pd.read_csv('../data/trigram_titles_pos.csv')\n",
    "shake_four = pd.read_csv('../data/fourgram_titles_pos.csv')"
   ]
  },
  {
   "cell_type": "code",
   "execution_count": 51,
   "metadata": {},
   "outputs": [
    {
     "data": {
      "text/html": [
       "<div>\n",
       "<style scoped>\n",
       "    .dataframe tbody tr th:only-of-type {\n",
       "        vertical-align: middle;\n",
       "    }\n",
       "\n",
       "    .dataframe tbody tr th {\n",
       "        vertical-align: top;\n",
       "    }\n",
       "\n",
       "    .dataframe thead th {\n",
       "        text-align: right;\n",
       "    }\n",
       "</style>\n",
       "<table border=\"1\" class=\"dataframe\">\n",
       "  <thead>\n",
       "    <tr style=\"text-align: right;\">\n",
       "      <th></th>\n",
       "      <th>title</th>\n",
       "      <th>title_tokenized</th>\n",
       "      <th>pos_tag</th>\n",
       "      <th>good_title</th>\n",
       "      <th>pos</th>\n",
       "      <th>pos1</th>\n",
       "      <th>pos2</th>\n",
       "    </tr>\n",
       "  </thead>\n",
       "  <tbody>\n",
       "    <tr>\n",
       "      <th>45</th>\n",
       "      <td>midnight hag</td>\n",
       "      <td>['midnight', 'hag']</td>\n",
       "      <td>['NN', 'NN']</td>\n",
       "      <td>1</td>\n",
       "      <td>['NN', 'NN']</td>\n",
       "      <td>NN</td>\n",
       "      <td>NN</td>\n",
       "    </tr>\n",
       "    <tr>\n",
       "      <th>214</th>\n",
       "      <td>is bitter</td>\n",
       "      <td>['is', 'bitter']</td>\n",
       "      <td>['VBZ', 'JJ']</td>\n",
       "      <td>0</td>\n",
       "      <td>['VBZ', 'JJ']</td>\n",
       "      <td>VBZ</td>\n",
       "      <td>JJ</td>\n",
       "    </tr>\n",
       "    <tr>\n",
       "      <th>19</th>\n",
       "      <td>sweet poison</td>\n",
       "      <td>['sweet', 'poison']</td>\n",
       "      <td>['JJ', 'NN']</td>\n",
       "      <td>1</td>\n",
       "      <td>['JJ', 'NN']</td>\n",
       "      <td>JJ</td>\n",
       "      <td>NN</td>\n",
       "    </tr>\n",
       "    <tr>\n",
       "      <th>115</th>\n",
       "      <td>casual slaughters</td>\n",
       "      <td>['casual', 'slaughters']</td>\n",
       "      <td>['JJ', 'NNS']</td>\n",
       "      <td>1</td>\n",
       "      <td>['JJ', 'NNS']</td>\n",
       "      <td>JJ</td>\n",
       "      <td>NNS</td>\n",
       "    </tr>\n",
       "    <tr>\n",
       "      <th>81</th>\n",
       "      <td>present laughter</td>\n",
       "      <td>['present', 'laughter']</td>\n",
       "      <td>['JJ', 'NN']</td>\n",
       "      <td>1</td>\n",
       "      <td>['JJ', 'NN']</td>\n",
       "      <td>JJ</td>\n",
       "      <td>NN</td>\n",
       "    </tr>\n",
       "  </tbody>\n",
       "</table>\n",
       "</div>"
      ],
      "text/plain": [
       "                 title           title_tokenized        pos_tag  good_title  \\\n",
       "45        midnight hag       ['midnight', 'hag']   ['NN', 'NN']           1   \n",
       "214          is bitter          ['is', 'bitter']  ['VBZ', 'JJ']           0   \n",
       "19        sweet poison       ['sweet', 'poison']   ['JJ', 'NN']           1   \n",
       "115  casual slaughters  ['casual', 'slaughters']  ['JJ', 'NNS']           1   \n",
       "81    present laughter   ['present', 'laughter']   ['JJ', 'NN']           1   \n",
       "\n",
       "               pos pos1 pos2  \n",
       "45    ['NN', 'NN']   NN   NN  \n",
       "214  ['VBZ', 'JJ']  VBZ   JJ  \n",
       "19    ['JJ', 'NN']   JJ   NN  \n",
       "115  ['JJ', 'NNS']   JJ  NNS  \n",
       "81    ['JJ', 'NN']   JJ   NN  "
      ]
     },
     "execution_count": 51,
     "metadata": {},
     "output_type": "execute_result"
    }
   ],
   "source": [
    "shake_bi.sample(5)"
   ]
  },
  {
   "cell_type": "code",
   "execution_count": 52,
   "metadata": {},
   "outputs": [
    {
     "data": {
      "text/html": [
       "<div>\n",
       "<style scoped>\n",
       "    .dataframe tbody tr th:only-of-type {\n",
       "        vertical-align: middle;\n",
       "    }\n",
       "\n",
       "    .dataframe tbody tr th {\n",
       "        vertical-align: top;\n",
       "    }\n",
       "\n",
       "    .dataframe thead th {\n",
       "        text-align: right;\n",
       "    }\n",
       "</style>\n",
       "<table border=\"1\" class=\"dataframe\">\n",
       "  <thead>\n",
       "    <tr style=\"text-align: right;\">\n",
       "      <th></th>\n",
       "      <th>title</th>\n",
       "      <th>title_tokenized</th>\n",
       "      <th>pos_tag</th>\n",
       "      <th>good_title</th>\n",
       "      <th>pos</th>\n",
       "      <th>pos1</th>\n",
       "      <th>pos2</th>\n",
       "      <th>pos3</th>\n",
       "    </tr>\n",
       "  </thead>\n",
       "  <tbody>\n",
       "    <tr>\n",
       "      <th>30</th>\n",
       "      <td>taste of death</td>\n",
       "      <td>['taste', 'of', 'death']</td>\n",
       "      <td>['NN', 'IN', 'NN']</td>\n",
       "      <td>1</td>\n",
       "      <td>['NN', 'IN', 'NN']</td>\n",
       "      <td>NN</td>\n",
       "      <td>IN</td>\n",
       "      <td>NN</td>\n",
       "    </tr>\n",
       "    <tr>\n",
       "      <th>254</th>\n",
       "      <td>they call the</td>\n",
       "      <td>['they', 'call', 'the']</td>\n",
       "      <td>['PRP', 'VBP', 'DT']</td>\n",
       "      <td>0</td>\n",
       "      <td>['PRP', 'VBP', 'DT']</td>\n",
       "      <td>PRP</td>\n",
       "      <td>VBP</td>\n",
       "      <td>DT</td>\n",
       "    </tr>\n",
       "    <tr>\n",
       "      <th>14</th>\n",
       "      <td>by the book</td>\n",
       "      <td>['by', 'the', 'book']</td>\n",
       "      <td>['IN', 'DT', 'NN']</td>\n",
       "      <td>1</td>\n",
       "      <td>['IN', 'DT', 'NN']</td>\n",
       "      <td>IN</td>\n",
       "      <td>DT</td>\n",
       "      <td>NN</td>\n",
       "    </tr>\n",
       "    <tr>\n",
       "      <th>170</th>\n",
       "      <td>some must watch</td>\n",
       "      <td>['some', 'must', 'watch']</td>\n",
       "      <td>['DT', 'MD', 'VB']</td>\n",
       "      <td>1</td>\n",
       "      <td>['DT', 'MD', 'VB']</td>\n",
       "      <td>DT</td>\n",
       "      <td>MD</td>\n",
       "      <td>VB</td>\n",
       "    </tr>\n",
       "    <tr>\n",
       "      <th>279</th>\n",
       "      <td>alley up and</td>\n",
       "      <td>['alley', 'up', 'and']</td>\n",
       "      <td>['VB', 'RP', 'CC']</td>\n",
       "      <td>0</td>\n",
       "      <td>['VB', 'RP', 'CC']</td>\n",
       "      <td>VB</td>\n",
       "      <td>RP</td>\n",
       "      <td>CC</td>\n",
       "    </tr>\n",
       "  </tbody>\n",
       "</table>\n",
       "</div>"
      ],
      "text/plain": [
       "               title            title_tokenized               pos_tag  \\\n",
       "30    taste of death   ['taste', 'of', 'death']    ['NN', 'IN', 'NN']   \n",
       "254    they call the    ['they', 'call', 'the']  ['PRP', 'VBP', 'DT']   \n",
       "14       by the book      ['by', 'the', 'book']    ['IN', 'DT', 'NN']   \n",
       "170  some must watch  ['some', 'must', 'watch']    ['DT', 'MD', 'VB']   \n",
       "279     alley up and     ['alley', 'up', 'and']    ['VB', 'RP', 'CC']   \n",
       "\n",
       "     good_title                   pos pos1 pos2 pos3  \n",
       "30            1    ['NN', 'IN', 'NN']   NN   IN   NN  \n",
       "254           0  ['PRP', 'VBP', 'DT']  PRP  VBP   DT  \n",
       "14            1    ['IN', 'DT', 'NN']   IN   DT   NN  \n",
       "170           1    ['DT', 'MD', 'VB']   DT   MD   VB  \n",
       "279           0    ['VB', 'RP', 'CC']   VB   RP   CC  "
      ]
     },
     "execution_count": 52,
     "metadata": {},
     "output_type": "execute_result"
    }
   ],
   "source": [
    "shake_tri.sample(5)"
   ]
  },
  {
   "cell_type": "code",
   "execution_count": 53,
   "metadata": {},
   "outputs": [
    {
     "data": {
      "text/html": [
       "<div>\n",
       "<style scoped>\n",
       "    .dataframe tbody tr th:only-of-type {\n",
       "        vertical-align: middle;\n",
       "    }\n",
       "\n",
       "    .dataframe tbody tr th {\n",
       "        vertical-align: top;\n",
       "    }\n",
       "\n",
       "    .dataframe thead th {\n",
       "        text-align: right;\n",
       "    }\n",
       "</style>\n",
       "<table border=\"1\" class=\"dataframe\">\n",
       "  <thead>\n",
       "    <tr style=\"text-align: right;\">\n",
       "      <th></th>\n",
       "      <th>title</th>\n",
       "      <th>title_tokenized</th>\n",
       "      <th>pos_tag</th>\n",
       "      <th>good_title</th>\n",
       "      <th>pos</th>\n",
       "      <th>pos1</th>\n",
       "      <th>pos2</th>\n",
       "      <th>pos3</th>\n",
       "      <th>pos4</th>\n",
       "    </tr>\n",
       "  </thead>\n",
       "  <tbody>\n",
       "    <tr>\n",
       "      <th>149</th>\n",
       "      <td>day will it be</td>\n",
       "      <td>['day', 'will', 'it', 'be']</td>\n",
       "      <td>['NN', 'MD', 'PRP', 'VB']</td>\n",
       "      <td>0</td>\n",
       "      <td>['NN', 'MD', 'PRP', 'VB']</td>\n",
       "      <td>NN</td>\n",
       "      <td>MD</td>\n",
       "      <td>PRP</td>\n",
       "      <td>VB</td>\n",
       "    </tr>\n",
       "    <tr>\n",
       "      <th>49</th>\n",
       "      <td>that he is a</td>\n",
       "      <td>['that', 'he', 'is', 'a']</td>\n",
       "      <td>['IN', 'PRP', 'VBZ', 'DT']</td>\n",
       "      <td>0</td>\n",
       "      <td>['IN', 'PRP', 'VBZ', 'DT']</td>\n",
       "      <td>IN</td>\n",
       "      <td>PRP</td>\n",
       "      <td>VBZ</td>\n",
       "      <td>DT</td>\n",
       "    </tr>\n",
       "    <tr>\n",
       "      <th>254</th>\n",
       "      <td>too like the lightning</td>\n",
       "      <td>['too', 'like', 'the', 'lightning']</td>\n",
       "      <td>['RB', 'IN', 'DT', 'NN']</td>\n",
       "      <td>1</td>\n",
       "      <td>['RB', 'IN', 'DT', 'NN']</td>\n",
       "      <td>RB</td>\n",
       "      <td>IN</td>\n",
       "      <td>DT</td>\n",
       "      <td>NN</td>\n",
       "    </tr>\n",
       "    <tr>\n",
       "      <th>182</th>\n",
       "      <td>summon up the blood</td>\n",
       "      <td>['summon', 'up', 'the', 'blood']</td>\n",
       "      <td>['VB', 'RP', 'DT', 'NN']</td>\n",
       "      <td>1</td>\n",
       "      <td>['VB', 'RP', 'DT', 'NN']</td>\n",
       "      <td>VB</td>\n",
       "      <td>RP</td>\n",
       "      <td>DT</td>\n",
       "      <td>NN</td>\n",
       "    </tr>\n",
       "    <tr>\n",
       "      <th>189</th>\n",
       "      <td>evil that men do</td>\n",
       "      <td>['evil', 'that', 'men', 'do']</td>\n",
       "      <td>['NN', 'IN', 'NNS', 'VBP']</td>\n",
       "      <td>1</td>\n",
       "      <td>['NN', 'IN', 'NNS', 'VBP']</td>\n",
       "      <td>NN</td>\n",
       "      <td>IN</td>\n",
       "      <td>NNS</td>\n",
       "      <td>VBP</td>\n",
       "    </tr>\n",
       "  </tbody>\n",
       "</table>\n",
       "</div>"
      ],
      "text/plain": [
       "                      title                      title_tokenized  \\\n",
       "149          day will it be          ['day', 'will', 'it', 'be']   \n",
       "49             that he is a            ['that', 'he', 'is', 'a']   \n",
       "254  too like the lightning  ['too', 'like', 'the', 'lightning']   \n",
       "182     summon up the blood     ['summon', 'up', 'the', 'blood']   \n",
       "189        evil that men do        ['evil', 'that', 'men', 'do']   \n",
       "\n",
       "                        pos_tag  good_title                         pos pos1  \\\n",
       "149   ['NN', 'MD', 'PRP', 'VB']           0   ['NN', 'MD', 'PRP', 'VB']   NN   \n",
       "49   ['IN', 'PRP', 'VBZ', 'DT']           0  ['IN', 'PRP', 'VBZ', 'DT']   IN   \n",
       "254    ['RB', 'IN', 'DT', 'NN']           1    ['RB', 'IN', 'DT', 'NN']   RB   \n",
       "182    ['VB', 'RP', 'DT', 'NN']           1    ['VB', 'RP', 'DT', 'NN']   VB   \n",
       "189  ['NN', 'IN', 'NNS', 'VBP']           1  ['NN', 'IN', 'NNS', 'VBP']   NN   \n",
       "\n",
       "    pos2 pos3 pos4  \n",
       "149   MD  PRP   VB  \n",
       "49   PRP  VBZ   DT  \n",
       "254   IN   DT   NN  \n",
       "182   RP   DT   NN  \n",
       "189   IN  NNS  VBP  "
      ]
     },
     "execution_count": 53,
     "metadata": {},
     "output_type": "execute_result"
    }
   ],
   "source": [
    "shake_four.sample(5)"
   ]
  },
  {
   "cell_type": "code",
   "execution_count": 54,
   "metadata": {},
   "outputs": [
    {
     "data": {
      "text/html": [
       "<div>\n",
       "<style scoped>\n",
       "    .dataframe tbody tr th:only-of-type {\n",
       "        vertical-align: middle;\n",
       "    }\n",
       "\n",
       "    .dataframe tbody tr th {\n",
       "        vertical-align: top;\n",
       "    }\n",
       "\n",
       "    .dataframe thead th {\n",
       "        text-align: right;\n",
       "    }\n",
       "</style>\n",
       "<table border=\"1\" class=\"dataframe\">\n",
       "  <thead>\n",
       "    <tr style=\"text-align: right;\">\n",
       "      <th></th>\n",
       "      <th>title</th>\n",
       "      <th>good_title</th>\n",
       "    </tr>\n",
       "  </thead>\n",
       "  <tbody>\n",
       "    <tr>\n",
       "      <th>737</th>\n",
       "      <td>is the sum of</td>\n",
       "      <td>0</td>\n",
       "    </tr>\n",
       "    <tr>\n",
       "      <th>254</th>\n",
       "      <td>jealous in honour</td>\n",
       "      <td>1</td>\n",
       "    </tr>\n",
       "    <tr>\n",
       "      <th>227</th>\n",
       "      <td>fruits are</td>\n",
       "      <td>0</td>\n",
       "    </tr>\n",
       "    <tr>\n",
       "      <th>717</th>\n",
       "      <td>her away , use</td>\n",
       "      <td>0</td>\n",
       "    </tr>\n",
       "    <tr>\n",
       "      <th>729</th>\n",
       "      <td>and held in idle</td>\n",
       "      <td>0</td>\n",
       "    </tr>\n",
       "  </tbody>\n",
       "</table>\n",
       "</div>"
      ],
      "text/plain": [
       "                 title  good_title\n",
       "737      is the sum of           0\n",
       "254  jealous in honour           1\n",
       "227         fruits are           0\n",
       "717     her away , use           0\n",
       "729   and held in idle           0"
      ]
     },
     "execution_count": 54,
     "metadata": {},
     "output_type": "execute_result"
    }
   ],
   "source": [
    "all_titles = pd.concat([shake_bi[['title', 'good_title']], \n",
    "                        shake_tri[['title', 'good_title']], \n",
    "                        shake_four[['title', 'good_title']]], ignore_index=True)\n",
    "all_titles.sample(5)"
   ]
  },
  {
   "cell_type": "code",
   "execution_count": 55,
   "metadata": {},
   "outputs": [
    {
     "data": {
      "text/plain": [
       "972"
      ]
     },
     "execution_count": 55,
     "metadata": {},
     "output_type": "execute_result"
    }
   ],
   "source": [
    "len(all_titles)"
   ]
  },
  {
   "cell_type": "code",
   "execution_count": 56,
   "metadata": {},
   "outputs": [
    {
     "data": {
      "text/plain": [
       "1    486\n",
       "0    486\n",
       "Name: good_title, dtype: int64"
      ]
     },
     "execution_count": 56,
     "metadata": {},
     "output_type": "execute_result"
    }
   ],
   "source": [
    "all_titles.good_title.value_counts()"
   ]
  },
  {
   "cell_type": "code",
   "execution_count": 57,
   "metadata": {},
   "outputs": [],
   "source": [
    "X = all_titles['title']\n",
    "y = all_titles['good_title']"
   ]
  },
  {
   "cell_type": "code",
   "execution_count": 58,
   "metadata": {},
   "outputs": [
    {
     "name": "stdout",
     "output_type": "stream",
     "text": [
      "X_train shape: (729,)\n",
      "X_test shape: (243,)\n"
     ]
    }
   ],
   "source": [
    "X_train, X_test, y_train, y_test = train_test_split(X, y, test_size=0.25)\n",
    "\n",
    "print('X_train shape:', X_train.shape)\n",
    "print('X_test shape:', X_test.shape)"
   ]
  },
  {
   "cell_type": "code",
   "execution_count": 59,
   "metadata": {},
   "outputs": [
    {
     "data": {
      "text/plain": [
       "101          bare bodkin\n",
       "191             also how\n",
       "695    who even now gave\n",
       "679    be ransomed , and\n",
       "290     come full circle\n",
       "Name: title, dtype: object"
      ]
     },
     "execution_count": 59,
     "metadata": {},
     "output_type": "execute_result"
    }
   ],
   "source": [
    "X_train.head()"
   ]
  },
  {
   "cell_type": "markdown",
   "metadata": {},
   "source": [
    "### Prep Data ###\n",
    "\n",
    "Train the tokenizer and use that tokenizer to convert the sentences to sequences of numbers"
   ]
  },
  {
   "cell_type": "code",
   "execution_count": 60,
   "metadata": {},
   "outputs": [],
   "source": [
    "tokenizer = Tokenizer(num_words=None, filters='\\t\\n')\n",
    "tokenizer.fit_on_texts(X_train)\n",
    "X_train_seq = tokenizer.texts_to_sequences(X_train)\n",
    "X_test_seq = tokenizer.texts_to_sequences(X_test)\n",
    "\n",
    "#Note: Default filters are '!\"#$%&()*+,-./:;<=>?@[\\\\]^_`{|}~\\t\\n'"
   ]
  },
  {
   "cell_type": "code",
   "execution_count": 61,
   "metadata": {},
   "outputs": [
    {
     "data": {
      "text/plain": [
       "[[148, 149], [289, 38], [290, 150, 77, 291], [21, 292, 11, 3], [151, 78, 152]]"
      ]
     },
     "execution_count": 61,
     "metadata": {},
     "output_type": "execute_result"
    }
   ],
   "source": [
    "X_train_seq[0:5]"
   ]
  },
  {
   "cell_type": "markdown",
   "metadata": {},
   "source": [
    "Pad the sequences so each sequence is the same length"
   ]
  },
  {
   "cell_type": "code",
   "execution_count": 62,
   "metadata": {},
   "outputs": [
    {
     "data": {
      "text/plain": [
       "list"
      ]
     },
     "execution_count": 62,
     "metadata": {},
     "output_type": "execute_result"
    }
   ],
   "source": [
    "type(X_train_seq)"
   ]
  },
  {
   "cell_type": "code",
   "execution_count": 63,
   "metadata": {},
   "outputs": [
    {
     "data": {
      "text/plain": [
       "{2, 3, 4}"
      ]
     },
     "execution_count": 63,
     "metadata": {},
     "output_type": "execute_result"
    }
   ],
   "source": [
    "all_len = set([len(item) for item in X_train_seq])\n",
    "all_len"
   ]
  },
  {
   "cell_type": "code",
   "execution_count": 64,
   "metadata": {},
   "outputs": [
    {
     "data": {
      "text/plain": [
       "array([[  0,   0, 148, 149],\n",
       "       [  0,   0, 289,  38],\n",
       "       [290, 150,  77, 291],\n",
       "       [ 21, 292,  11,   3],\n",
       "       [  0, 151,  78, 152]])"
      ]
     },
     "execution_count": 64,
     "metadata": {},
     "output_type": "execute_result"
    }
   ],
   "source": [
    "X_train_seq_padded = pad_sequences(X_train_seq, 4)\n",
    "X_test_seq_padded = pad_sequences(X_test_seq, 4)\n",
    "\n",
    "X_train_seq_padded[0:5]"
   ]
  },
  {
   "cell_type": "markdown",
   "metadata": {},
   "source": [
    "### Build and Evaluate RNN ###\n",
    "\n",
    "Functions to calculate precision and recall and plots previously defined in the invaluable training provided by *Advanced NLP with Python for Machine Learning* course developed by Derek Jedamski through LinkedIn Learning"
   ]
  },
  {
   "cell_type": "code",
   "execution_count": 65,
   "metadata": {},
   "outputs": [],
   "source": [
    "import keras.backend as K\n",
    "from keras.layers import Dense, Embedding, LSTM\n",
    "from keras.models import Sequential\n",
    "\n",
    "def recall_m(y_true, y_pred):\n",
    "        true_positives = K.sum(K.round(K.clip(y_true * y_pred, 0, 1)))\n",
    "        possible_positives = K.sum(K.round(K.clip(y_true, 0, 1)))\n",
    "        recall = true_positives / (possible_positives + K.epsilon())\n",
    "        return recall\n",
    "\n",
    "def precision_m(y_true, y_pred):\n",
    "        true_positives = K.sum(K.round(K.clip(y_true * y_pred, 0, 1)))\n",
    "        predicted_positives = K.sum(K.round(K.clip(y_pred, 0, 1)))\n",
    "        precision = true_positives / (predicted_positives + K.epsilon())\n",
    "        return precision"
   ]
  },
  {
   "cell_type": "markdown",
   "metadata": {},
   "source": [
    "First run of model gave this error: `InvalidArgumentError:  indices[24,2] = 942 is not in [0, 936)` I began my investigation (below) with this parameter: `model.add(Embedding(len(tokenizer.index_word)+1, 32))`. By only taking words, it omitted punctuation."
   ]
  },
  {
   "cell_type": "code",
   "execution_count": 67,
   "metadata": {},
   "outputs": [
    {
     "data": {
      "text/plain": [
       "948"
      ]
     },
     "execution_count": 67,
     "metadata": {},
     "output_type": "execute_result"
    }
   ],
   "source": [
    "#Input Dimensionality\n",
    "\n",
    "max_features = len(tokenizer.index_word)+1\n",
    "max_features"
   ]
  },
  {
   "cell_type": "markdown",
   "metadata": {},
   "source": [
    "The third layer is a Dense layer, a standard, fully connected layer that includes some kind of transformation, and I used the `relu` activation function for this.\n",
    "The final layer is where the prediction is made (hence the dimensionality of 1), and the `sigmoid` activation function is used for this."
   ]
  },
  {
   "cell_type": "code",
   "execution_count": 70,
   "metadata": {},
   "outputs": [
    {
     "name": "stdout",
     "output_type": "stream",
     "text": [
      "Model: \"sequential_2\"\n",
      "_________________________________________________________________\n",
      "Layer (type)                 Output Shape              Param #   \n",
      "=================================================================\n",
      "embedding_2 (Embedding)      (None, None, 32)          30624     \n",
      "_________________________________________________________________\n",
      "lstm_2 (LSTM)                (None, 32)                8320      \n",
      "_________________________________________________________________\n",
      "dense_4 (Dense)              (None, 32)                1056      \n",
      "_________________________________________________________________\n",
      "dense_5 (Dense)              (None, 1)                 33        \n",
      "=================================================================\n",
      "Total params: 40,033\n",
      "Trainable params: 40,033\n",
      "Non-trainable params: 0\n",
      "_________________________________________________________________\n"
     ]
    }
   ],
   "source": [
    "model = Sequential()\n",
    "\n",
    "model.add(Embedding(len(tokenizer.index_word)+10, 32))\n",
    "model.add(LSTM(32, dropout=0, recurrent_dropout=0))\n",
    "model.add(Dense(32, activation='relu'))\n",
    "model.add(Dense(1, activation='sigmoid'))\n",
    "model.summary()"
   ]
  },
  {
   "cell_type": "markdown",
   "metadata": {},
   "source": [
    "The optimizer is how the model improves with each step. Here, I used `optimizer='adam'`"
   ]
  },
  {
   "cell_type": "code",
   "execution_count": 71,
   "metadata": {},
   "outputs": [],
   "source": [
    "model.compile(optimizer='adam',\n",
    "              loss='binary_crossentropy',\n",
    "              metrics=['accuracy', precision_m, recall_m])"
   ]
  },
  {
   "cell_type": "code",
   "execution_count": 72,
   "metadata": {},
   "outputs": [
    {
     "name": "stdout",
     "output_type": "stream",
     "text": [
      "Epoch 1/10\n",
      "23/23 [==============================] - 3s 29ms/step - loss: 0.6926 - accuracy: 0.5113 - precision_m: 0.5127 - recall_m: 0.8290 - val_loss: 0.6879 - val_accuracy: 0.6667 - val_precision_m: 0.6090 - val_recall_m: 0.9175\n",
      "Epoch 2/10\n",
      "23/23 [==============================] - 0s 5ms/step - loss: 0.6812 - accuracy: 0.7951 - precision_m: 0.7446 - recall_m: 0.8980 - val_loss: 0.6652 - val_accuracy: 0.7078 - val_precision_m: 0.6426 - val_recall_m: 0.9253\n",
      "Epoch 3/10\n",
      "23/23 [==============================] - 0s 5ms/step - loss: 0.6292 - accuracy: 0.8461 - precision_m: 0.8052 - recall_m: 0.9301 - val_loss: 0.5862 - val_accuracy: 0.7737 - val_precision_m: 0.7567 - val_recall_m: 0.8338\n",
      "Epoch 4/10\n",
      "23/23 [==============================] - 0s 5ms/step - loss: 0.4699 - accuracy: 0.8732 - precision_m: 0.8569 - recall_m: 0.8870 - val_loss: 0.4752 - val_accuracy: 0.8066 - val_precision_m: 0.7927 - val_recall_m: 0.8396\n",
      "Epoch 5/10\n",
      "23/23 [==============================] - 0s 5ms/step - loss: 0.2060 - accuracy: 0.9404 - precision_m: 0.9517 - recall_m: 0.9225 - val_loss: 0.5069 - val_accuracy: 0.8066 - val_precision_m: 0.8694 - val_recall_m: 0.7389\n",
      "Epoch 6/10\n",
      "23/23 [==============================] - 0s 5ms/step - loss: 0.1028 - accuracy: 0.9734 - precision_m: 0.9726 - recall_m: 0.9760 - val_loss: 0.6561 - val_accuracy: 0.7572 - val_precision_m: 0.9210 - val_recall_m: 0.5527\n",
      "Epoch 7/10\n",
      "23/23 [==============================] - 0s 5ms/step - loss: 0.0338 - accuracy: 0.9956 - precision_m: 0.9958 - recall_m: 0.9946 - val_loss: 0.6887 - val_accuracy: 0.7778 - val_precision_m: 0.9064 - val_recall_m: 0.6174\n",
      "Epoch 8/10\n",
      "23/23 [==============================] - 0s 5ms/step - loss: 0.0164 - accuracy: 0.9978 - precision_m: 0.9953 - recall_m: 1.0000 - val_loss: 0.7765 - val_accuracy: 0.7613 - val_precision_m: 0.8848 - val_recall_m: 0.6022\n",
      "Epoch 9/10\n",
      "23/23 [==============================] - 0s 5ms/step - loss: 0.0054 - accuracy: 1.0000 - precision_m: 1.0000 - recall_m: 1.0000 - val_loss: 1.0720 - val_accuracy: 0.7325 - val_precision_m: 0.9051 - val_recall_m: 0.5155\n",
      "Epoch 10/10\n",
      "23/23 [==============================] - 0s 5ms/step - loss: 0.0041 - accuracy: 1.0000 - precision_m: 1.0000 - recall_m: 1.0000 - val_loss: 0.8000 - val_accuracy: 0.7613 - val_precision_m: 0.8211 - val_recall_m: 0.6629\n"
     ]
    }
   ],
   "source": [
    "history = model.fit(X_train_seq_padded, y_train, \n",
    "                    batch_size=32, epochs=10,\n",
    "                    validation_data=(X_test_seq_padded, y_test))"
   ]
  },
  {
   "cell_type": "code",
   "execution_count": 76,
   "metadata": {},
   "outputs": [
    {
     "data": {
      "image/png": "[encoded data removed]",
      "text/plain": [
       "<Figure size 432x288 with 1 Axes>"
      ]
     },
     "metadata": {
      "needs_background": "light"
     },
     "output_type": "display_data"
    },
    {
     "data": {
      "image/png": "[encoded data removed]",
      "text/plain": [
       "<Figure size 432x288 with 1 Axes>"
      ]
     },
     "metadata": {
      "needs_background": "light"
     },
     "output_type": "display_data"
    },
    {
     "data": {
      "image/png": "[encoded data removed]",
      "text/plain": [
       "<Figure size 432x288 with 1 Axes>"
      ]
     },
     "metadata": {
      "needs_background": "light"
     },
     "output_type": "display_data"
    }
   ],
   "source": [
    "import matplotlib.pyplot as plt\n",
    "%matplotlib inline\n",
    "\n",
    "for i in ['accuracy', 'precision_m', 'recall_m']:\n",
    "    acc = history.history[i]\n",
    "    val_acc = history.history['val_{}'.format(i)]\n",
    "    epochs = range(1, len(acc) + 1)\n",
    "\n",
    "    plt.figure()\n",
    "    plt.plot(epochs, acc, label='Training Accuracy', color='g')\n",
    "    plt.plot(epochs, val_acc, label='Validation Accuracy', color='m')\n",
    "    plt.title('Results for {}'.format(i))\n",
    "    plt.legend()\n",
    "    plt.show()"
   ]
  },
  {
   "cell_type": "code",
   "execution_count": 77,
   "metadata": {},
   "outputs": [
    {
     "name": "stdout",
     "output_type": "stream",
     "text": [
      "Model: \"sequential_3\"\n",
      "_________________________________________________________________\n",
      "Layer (type)                 Output Shape              Param #   \n",
      "=================================================================\n",
      "embedding_3 (Embedding)      (None, None, 32)          30624     \n",
      "_________________________________________________________________\n",
      "lstm_3 (LSTM)                (None, 32)                8320      \n",
      "_________________________________________________________________\n",
      "dense_6 (Dense)              (None, 32)                1056      \n",
      "_________________________________________________________________\n",
      "dense_7 (Dense)              (None, 1)                 33        \n",
      "=================================================================\n",
      "Total params: 40,033\n",
      "Trainable params: 40,033\n",
      "Non-trainable params: 0\n",
      "_________________________________________________________________\n"
     ]
    }
   ],
   "source": [
    "model = Sequential()\n",
    "\n",
    "model.add(Embedding(len(tokenizer.index_word)+10, 32))\n",
    "model.add(LSTM(32, dropout=0, recurrent_dropout=0))\n",
    "model.add(Dense(32, activation='softmax'))\n",
    "model.add(Dense(1, activation='sigmoid'))\n",
    "model.summary()"
   ]
  },
  {
   "cell_type": "code",
   "execution_count": 78,
   "metadata": {},
   "outputs": [],
   "source": [
    "model.compile(optimizer='adam',\n",
    "              loss='binary_crossentropy',\n",
    "              metrics=['accuracy', precision_m, recall_m])"
   ]
  },
  {
   "cell_type": "code",
   "execution_count": 79,
   "metadata": {},
   "outputs": [
    {
     "name": "stdout",
     "output_type": "stream",
     "text": [
      "Epoch 1/10\n",
      "23/23 [==============================] - 3s 32ms/step - loss: 0.6933 - accuracy: 0.4997 - precision_m: 0.0000e+00 - recall_m: 0.0000e+00 - val_loss: 0.6931 - val_accuracy: 0.4979 - val_precision_m: 0.0000e+00 - val_recall_m: 0.0000e+00\n",
      "Epoch 2/10\n",
      "23/23 [==============================] - 0s 5ms/step - loss: 0.6924 - accuracy: 0.5118 - precision_m: 0.0000e+00 - recall_m: 0.0000e+00 - val_loss: 0.6916 - val_accuracy: 0.4979 - val_precision_m: 0.0000e+00 - val_recall_m: 0.0000e+00\n",
      "Epoch 3/10\n",
      "23/23 [==============================] - 0s 5ms/step - loss: 0.6892 - accuracy: 0.5634 - precision_m: 0.2690 - recall_m: 0.1805 - val_loss: 0.6835 - val_accuracy: 0.6255 - val_precision_m: 0.5757 - val_recall_m: 0.9096\n",
      "Epoch 4/10\n",
      "23/23 [==============================] - 0s 5ms/step - loss: 0.6709 - accuracy: 0.7294 - precision_m: 0.6885 - recall_m: 0.8645 - val_loss: 0.6650 - val_accuracy: 0.6379 - val_precision_m: 0.5811 - val_recall_m: 0.9309\n",
      "Epoch 5/10\n",
      "23/23 [==============================] - 0s 5ms/step - loss: 0.6322 - accuracy: 0.7880 - precision_m: 0.7399 - recall_m: 0.8932 - val_loss: 0.6397 - val_accuracy: 0.7366 - val_precision_m: 0.6833 - val_recall_m: 0.8716\n",
      "Epoch 6/10\n",
      "23/23 [==============================] - 0s 5ms/step - loss: 0.5921 - accuracy: 0.8847 - precision_m: 0.8691 - recall_m: 0.8729 - val_loss: 0.6189 - val_accuracy: 0.7531 - val_precision_m: 0.7275 - val_recall_m: 0.8323\n",
      "Epoch 7/10\n",
      "23/23 [==============================] - 0s 5ms/step - loss: 0.5555 - accuracy: 0.9086 - precision_m: 0.9014 - recall_m: 0.9069 - val_loss: 0.5996 - val_accuracy: 0.7778 - val_precision_m: 0.7581 - val_recall_m: 0.8249\n",
      "Epoch 8/10\n",
      "23/23 [==============================] - 0s 5ms/step - loss: 0.5209 - accuracy: 0.9319 - precision_m: 0.9517 - recall_m: 0.9107 - val_loss: 0.6044 - val_accuracy: 0.7284 - val_precision_m: 0.8920 - val_recall_m: 0.5263\n",
      "Epoch 9/10\n",
      "23/23 [==============================] - 0s 5ms/step - loss: 0.4870 - accuracy: 0.9465 - precision_m: 0.9627 - recall_m: 0.9324 - val_loss: 0.5831 - val_accuracy: 0.7737 - val_precision_m: 0.8519 - val_recall_m: 0.6747\n",
      "Epoch 10/10\n",
      "23/23 [==============================] - 0s 5ms/step - loss: 0.4510 - accuracy: 0.9806 - precision_m: 0.9898 - recall_m: 0.9711 - val_loss: 0.5654 - val_accuracy: 0.7737 - val_precision_m: 0.8477 - val_recall_m: 0.6820\n"
     ]
    }
   ],
   "source": [
    "history = model.fit(X_train_seq_padded, y_train, \n",
    "                    batch_size=32, epochs=10,\n",
    "                    validation_data=(X_test_seq_padded, y_test))"
   ]
  },
  {
   "cell_type": "code",
   "execution_count": 80,
   "metadata": {},
   "outputs": [
    {
     "data": {
      "image/png": "[encoded data removed]",
      "text/plain": [
       "<Figure size 432x288 with 1 Axes>"
      ]
     },
     "metadata": {
      "needs_background": "light"
     },
     "output_type": "display_data"
    },
    {
     "data": {
      "image/png": "[encoded data removed]",
      "text/plain": [
       "<Figure size 432x288 with 1 Axes>"
      ]
     },
     "metadata": {
      "needs_background": "light"
     },
     "output_type": "display_data"
    },
    {
     "data": {
      "image/png": "[encoded data removed]",
      "text/plain": [
       "<Figure size 432x288 with 1 Axes>"
      ]
     },
     "metadata": {
      "needs_background": "light"
     },
     "output_type": "display_data"
    }
   ],
   "source": [
    "for i in ['accuracy', 'precision_m', 'recall_m']:\n",
    "    acc = history.history[i]\n",
    "    val_acc = history.history['val_{}'.format(i)]\n",
    "    epochs = range(1, len(acc) + 1)\n",
    "\n",
    "    plt.figure()\n",
    "    plt.plot(epochs, acc, label='Training Accuracy', color='g')\n",
    "    plt.plot(epochs, val_acc, label='Validation Accuracy', color='m')\n",
    "    plt.title('Results for {} using softmax'.format(i))\n",
    "    plt.legend()\n",
    "    plt.show()"
   ]
  },
  {
   "cell_type": "code",
   "execution_count": null,
   "metadata": {},
   "outputs": [],
   "source": []
  }
 ],
 "metadata": {
  "kernelspec": {
   "display_name": "Python 3",
   "language": "python",
   "name": "python3"
  },
  "language_info": {
   "codemirror_mode": {
    "name": "ipython",
    "version": 3
   },
   "file_extension": ".py",
   "mimetype": "text/x-python",
   "name": "python",
   "nbconvert_exporter": "python",
   "pygments_lexer": "ipython3",
   "version": "3.8.3"
  }
 },
 "nbformat": 4,
 "nbformat_minor": 4
}
