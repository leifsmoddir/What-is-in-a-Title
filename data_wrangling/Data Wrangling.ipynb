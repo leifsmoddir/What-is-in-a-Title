{
 "cells": [
  {
   "cell_type": "code",
   "execution_count": 2,
   "metadata": {},
   "outputs": [],
   "source": [
    "import pandas as pd\n",
    "import collections\n",
    "import fuzzywuzzy\n",
    "from fuzzywuzzy import process\n",
    "import pprint\n",
    "\n",
    "pd.set_option('display.max_colwidth', None)"
   ]
  },
  {
   "cell_type": "markdown",
   "metadata": {},
   "source": [
    "Using data from Wikipedia, I've generate two dictionaries for the categorization of Shakespeare's plays. The first dictionary `play_cat_strict` uses the traditional categorization of plays into comedy, history, and tragedy. The second dictionary `play_cat_modern` has been reorganized to better reflect the tone of the play. Histories have been collapsed into the tragedy category and tragicomedies have been grouped as romances. "
   ]
  },
  {
   "cell_type": "code",
   "execution_count": 3,
   "metadata": {},
   "outputs": [
    {
     "name": "stdout",
     "output_type": "stream",
     "text": [
      "Number of plays per category in the traditional dataset\n",
      "comedy : 16\n",
      "history : 11\n",
      "tragedy : 12\n",
      "Number of plays per category in the modern dataset\n",
      "comedy : 12\n",
      "romance : 5\n",
      "tragedy : 22\n"
     ]
    }
   ],
   "source": [
    "play_cat_strict = {'comedy' : ['The Tempest',  'The Two Gentlemen of Verona',  'The Merry Wives of Windsor',  'Measure for Measure',  'The Comedy of Errors',  'Much Ado About Nothing',  'Loves Labours Lost',  'A Midsummer Nights Dream',  'The Merchant of Venice',  'As You Like It',  'The Taming of the Shrew',  'Alls Well That Ends Well',  'Twelfth Night',  'The Winters Tale',  'Pericles, Prince of Tyre',  'The Two Noble Kinsmen'], 'history' : ['King John', 'Edward III',  'Richard II',  'Henry IV, Part 1',  'Henry IV, Part 2',  'Henry V',  'Henry VI, Part 1',  'Henry VI, Part 2',  'Henry VI, Part 3',  'Richard III',  'Henry VIII'], 'tragedy' : ['Troilus and Cressida', 'Coriolanus', 'Titus Andronicus',  'Romeo and Juliet',  'Timon of Athens',  'Julius Caesar',  'Macbeth',  'Hamlet',  'King Lear',  'Othello',  'Antony and Cleopatra',  'Cymbeline']}\n",
    "print('Number of plays per category in the traditional dataset')\n",
    "for cat, plays in play_cat_strict.items():\n",
    "    print(cat, ':', len(plays))\n",
    "\n",
    "play_cat_modern = {'comedy' : ['The Two Gentlemen of Verona',  'The Merry Wives of Windsor',  'Measure for Measure',  'The Comedy of Errors',  'Much Ado About Nothing',  'Loves Labours Lost',  'A Midsummer Nights Dream',  'The Merchant of Venice',  'As You Like It',  'The Taming of the Shrew',  'Alls Well That Ends Well',  'Twelfth Night'], 'romance' : ['Pericles, Prince of Tyre',  'Cymbeline',  'The Winters Tale',  'The Tempest',  'The Two Noble Kinsmen'],  'tragedy' : ['Troilus and Cressida', 'Coriolanus', 'Titus Andronicus',  'Romeo and Juliet',  'Timon of Athens',  'Julius Caesar',  'Macbeth',  'Hamlet',  'King Lear',  'Othello',  'Antony and Cleopatra', 'King John', 'Edward III',  'Richard II',  'Henry IV, Part 1',  'Henry IV, Part 2',  'Henry V',  'Henry VI, Part 1',  'Henry VI, Part 2',  'Henry VI, Part 3',  'Richard III',  'Henry VIII']}\n",
    "print('Number of plays per category in the modern dataset')\n",
    "for cat, plays in play_cat_modern.items():\n",
    "    print(cat, ':', len(plays))"
   ]
  },
  {
   "cell_type": "markdown",
   "metadata": {},
   "source": [
    "I am grouping like this to keep my options open during sentiment analysis. There may be discernable differences in tone between comedies and tragedies (light/dark, happy/sad, fun/serious). Simimaly, the histories category may be more neutral (traditional dataset) or appropriately binned as a tragedy (modern). Finally, the romance plays are are different from the rest in that they are a mixture of comedy and tradegy, and the comingling may muddy sentiment analysis of the strict dataset."
   ]
  },
  {
   "cell_type": "code",
   "execution_count": 4,
   "metadata": {},
   "outputs": [],
   "source": [
    "wiki_plays = collections.OrderedDict()\n",
    "\n",
    "for cat, plays in play_cat_strict.items():\n",
    "    for i in range(len(plays)):\n",
    "        wiki_plays[plays[i]] = []\n",
    "        wiki_plays[plays[i]].append(cat)\n",
    "\n",
    "for cat, plays in play_cat_modern.items():\n",
    "    for i in range(len(plays)):\n",
    "        wiki_plays[plays[i]].append(cat)"
   ]
  },
  {
   "cell_type": "code",
   "execution_count": 5,
   "metadata": {},
   "outputs": [
    {
     "name": "stdout",
     "output_type": "stream",
     "text": [
      "['comedy', 'romance']\n"
     ]
    }
   ],
   "source": [
    "print(wiki_plays['The Tempest'])"
   ]
  },
  {
   "cell_type": "code",
   "execution_count": 6,
   "metadata": {},
   "outputs": [
    {
     "name": "stdout",
     "output_type": "stream",
     "text": [
      "<class 'pandas.core.frame.DataFrame'>\n",
      "Index: 39 entries, The Tempest to Cymbeline\n",
      "Data columns (total 2 columns):\n",
      " #   Column       Non-Null Count  Dtype \n",
      "---  ------       --------------  ----- \n",
      " 0   Traditional  39 non-null     object\n",
      " 1   Modern       39 non-null     object\n",
      "dtypes: object(2)\n",
      "memory usage: 936.0+ bytes\n"
     ]
    }
   ],
   "source": [
    "wiki_df = pd.DataFrame.from_dict(wiki_plays, orient='index', columns=['Traditional', 'Modern'])\n",
    "wiki_df.info()"
   ]
  },
  {
   "cell_type": "code",
   "execution_count": 7,
   "metadata": {},
   "outputs": [],
   "source": [
    "wiki_df = wiki_df.reset_index()\n",
    "wiki_df = wiki_df.rename(columns={'index':'Play'})\n"
   ]
  },
  {
   "cell_type": "code",
   "execution_count": 8,
   "metadata": {},
   "outputs": [
    {
     "data": {
      "text/html": [
       "<div>\n",
       "<style scoped>\n",
       "    .dataframe tbody tr th:only-of-type {\n",
       "        vertical-align: middle;\n",
       "    }\n",
       "\n",
       "    .dataframe tbody tr th {\n",
       "        vertical-align: top;\n",
       "    }\n",
       "\n",
       "    .dataframe thead th {\n",
       "        text-align: right;\n",
       "    }\n",
       "</style>\n",
       "<table border=\"1\" class=\"dataframe\">\n",
       "  <thead>\n",
       "    <tr style=\"text-align: right;\">\n",
       "      <th></th>\n",
       "      <th>Play</th>\n",
       "      <th>Traditional</th>\n",
       "      <th>Modern</th>\n",
       "    </tr>\n",
       "  </thead>\n",
       "  <tbody>\n",
       "    <tr>\n",
       "      <th>26</th>\n",
       "      <td>henry viii</td>\n",
       "      <td>history</td>\n",
       "      <td>tragedy</td>\n",
       "    </tr>\n",
       "    <tr>\n",
       "      <th>15</th>\n",
       "      <td>the two noble kinsmen</td>\n",
       "      <td>comedy</td>\n",
       "      <td>romance</td>\n",
       "    </tr>\n",
       "    <tr>\n",
       "      <th>13</th>\n",
       "      <td>the winters tale</td>\n",
       "      <td>comedy</td>\n",
       "      <td>romance</td>\n",
       "    </tr>\n",
       "    <tr>\n",
       "      <th>12</th>\n",
       "      <td>twelfth night</td>\n",
       "      <td>comedy</td>\n",
       "      <td>comedy</td>\n",
       "    </tr>\n",
       "    <tr>\n",
       "      <th>5</th>\n",
       "      <td>much ado about nothing</td>\n",
       "      <td>comedy</td>\n",
       "      <td>comedy</td>\n",
       "    </tr>\n",
       "  </tbody>\n",
       "</table>\n",
       "</div>"
      ],
      "text/plain": [
       "                      Play Traditional   Modern\n",
       "26              henry viii     history  tragedy\n",
       "15   the two noble kinsmen      comedy  romance\n",
       "13        the winters tale      comedy  romance\n",
       "12           twelfth night      comedy   comedy\n",
       "5   much ado about nothing      comedy   comedy"
      ]
     },
     "execution_count": 8,
     "metadata": {},
     "output_type": "execute_result"
    }
   ],
   "source": [
    "wiki_df['Play'] = wiki_df['Play'].str.lower()\n",
    "wiki_df.sample(5)"
   ]
  },
  {
   "cell_type": "markdown",
   "metadata": {},
   "source": [
    "Shalespeare's plays have been generously textised and are as a csv on Kaggle: https://www.kaggle.com/kingburrito666/shakespeare-plays"
   ]
  },
  {
   "cell_type": "code",
   "execution_count": 9,
   "metadata": {},
   "outputs": [],
   "source": [
    "shakespeare_plays = pd.read_csv('../data/Shakespeare_data.csv')"
   ]
  },
  {
   "cell_type": "code",
   "execution_count": 10,
   "metadata": {},
   "outputs": [
    {
     "name": "stdout",
     "output_type": "stream",
     "text": [
      "<class 'pandas.core.frame.DataFrame'>\n",
      "RangeIndex: 111396 entries, 0 to 111395\n",
      "Data columns (total 6 columns):\n",
      " #   Column            Non-Null Count   Dtype  \n",
      "---  ------            --------------   -----  \n",
      " 0   Dataline          111396 non-null  int64  \n",
      " 1   Play              111396 non-null  object \n",
      " 2   PlayerLinenumber  111393 non-null  float64\n",
      " 3   ActSceneLine      105153 non-null  object \n",
      " 4   Player            111389 non-null  object \n",
      " 5   PlayerLine        111396 non-null  object \n",
      "dtypes: float64(1), int64(1), object(4)\n",
      "memory usage: 5.1+ MB\n"
     ]
    }
   ],
   "source": [
    "shakespeare_plays.info()"
   ]
  },
  {
   "cell_type": "markdown",
   "metadata": {},
   "source": [
    "Compare play names in `wiki_plays` with `shakespeare_plays`"
   ]
  },
  {
   "cell_type": "code",
   "execution_count": 11,
   "metadata": {},
   "outputs": [
    {
     "data": {
      "text/html": [
       "<div>\n",
       "<style scoped>\n",
       "    .dataframe tbody tr th:only-of-type {\n",
       "        vertical-align: middle;\n",
       "    }\n",
       "\n",
       "    .dataframe tbody tr th {\n",
       "        vertical-align: top;\n",
       "    }\n",
       "\n",
       "    .dataframe thead th {\n",
       "        text-align: right;\n",
       "    }\n",
       "</style>\n",
       "<table border=\"1\" class=\"dataframe\">\n",
       "  <thead>\n",
       "    <tr style=\"text-align: right;\">\n",
       "      <th></th>\n",
       "      <th>Dataline</th>\n",
       "      <th>Play</th>\n",
       "      <th>PlayerLinenumber</th>\n",
       "      <th>ActSceneLine</th>\n",
       "      <th>Player</th>\n",
       "      <th>PlayerLine</th>\n",
       "    </tr>\n",
       "  </thead>\n",
       "  <tbody>\n",
       "    <tr>\n",
       "      <th>17372</th>\n",
       "      <td>17373</td>\n",
       "      <td>as you like it</td>\n",
       "      <td>5.0</td>\n",
       "      <td>3.3.11</td>\n",
       "      <td>TOUCHSTONE</td>\n",
       "      <td>Understanding, it strikes a man more dead than a</td>\n",
       "    </tr>\n",
       "    <tr>\n",
       "      <th>34766</th>\n",
       "      <td>34767</td>\n",
       "      <td>hamlet</td>\n",
       "      <td>137.0</td>\n",
       "      <td>3.2.372</td>\n",
       "      <td>HAMLET</td>\n",
       "      <td>Or like a whale?</td>\n",
       "    </tr>\n",
       "    <tr>\n",
       "      <th>62439</th>\n",
       "      <td>62440</td>\n",
       "      <td>merchant of venice</td>\n",
       "      <td>6.0</td>\n",
       "      <td>2.7.78</td>\n",
       "      <td>MOROCCO</td>\n",
       "      <td>To take a tedious leave: thus losers part.</td>\n",
       "    </tr>\n",
       "    <tr>\n",
       "      <th>61556</th>\n",
       "      <td>61557</td>\n",
       "      <td>merchant of venice</td>\n",
       "      <td>32.0</td>\n",
       "      <td>1.1.188</td>\n",
       "      <td>ANTONIO</td>\n",
       "      <td>To have it of my trust or for my sake.</td>\n",
       "    </tr>\n",
       "    <tr>\n",
       "      <th>92479</th>\n",
       "      <td>92480</td>\n",
       "      <td>the tempest</td>\n",
       "      <td>160.0</td>\n",
       "      <td>NaN</td>\n",
       "      <td>ARIEL</td>\n",
       "      <td>Enter CALIBAN with a burden of wood. A noise of thunder heard</td>\n",
       "    </tr>\n",
       "  </tbody>\n",
       "</table>\n",
       "</div>"
      ],
      "text/plain": [
       "       Dataline                Play  PlayerLinenumber ActSceneLine  \\\n",
       "17372     17373      as you like it               5.0       3.3.11   \n",
       "34766     34767              hamlet             137.0      3.2.372   \n",
       "62439     62440  merchant of venice               6.0       2.7.78   \n",
       "61556     61557  merchant of venice              32.0      1.1.188   \n",
       "92479     92480         the tempest             160.0          NaN   \n",
       "\n",
       "           Player  \\\n",
       "17372  TOUCHSTONE   \n",
       "34766      HAMLET   \n",
       "62439     MOROCCO   \n",
       "61556     ANTONIO   \n",
       "92479       ARIEL   \n",
       "\n",
       "                                                          PlayerLine  \n",
       "17372               Understanding, it strikes a man more dead than a  \n",
       "34766                                               Or like a whale?  \n",
       "62439                     To take a tedious leave: thus losers part.  \n",
       "61556                         To have it of my trust or for my sake.  \n",
       "92479  Enter CALIBAN with a burden of wood. A noise of thunder heard  "
      ]
     },
     "execution_count": 11,
     "metadata": {},
     "output_type": "execute_result"
    }
   ],
   "source": [
    "shakespeare_plays['Play'] = shakespeare_plays['Play'].str.lower()\n",
    "shakespeare_plays.sample(5)"
   ]
  },
  {
   "cell_type": "code",
   "execution_count": 12,
   "metadata": {},
   "outputs": [],
   "source": [
    "shake_uniq = shakespeare_plays.Play.unique()\n",
    "wiki_uniq = wiki_df.Play.unique()"
   ]
  },
  {
   "cell_type": "code",
   "execution_count": 13,
   "metadata": {},
   "outputs": [
    {
     "name": "stdout",
     "output_type": "stream",
     "text": [
      "Number of plays in kaggle file: 36\n",
      "Number of plays in wiki categeory files: 39\n"
     ]
    }
   ],
   "source": [
    "print('Number of plays in kaggle file:', len(shake_uniq))\n",
    "print('Number of plays in wiki categeory files:', len(wiki_uniq))"
   ]
  },
  {
   "cell_type": "code",
   "execution_count": 14,
   "metadata": {},
   "outputs": [
    {
     "name": "stdout",
     "output_type": "stream",
     "text": [
      "14 {'henry iv, part 1', 'the merchant of venice', 'the taming of the shrew', 'edward iii', 'the winters tale', 'henry vi, part 2', 'pericles, prince of tyre', 'henry iv, part 2', 'the merry wives of windsor', 'the two noble kinsmen', 'henry vi, part 1', 'the two gentlemen of verona', 'the comedy of errors', 'henry vi, part 3'}\n"
     ]
    }
   ],
   "source": [
    "inconsistent = set(wiki_df.Play).difference(shakespeare_plays.Play)\n",
    "print(len(inconsistent), inconsistent)"
   ]
  },
  {
   "cell_type": "markdown",
   "metadata": {},
   "source": [
    "Three of Shakespeare's plays are not prepresented in the kaggle dataset, and there is a namining discrepency between 14 plays. Investigating further..."
   ]
  },
  {
   "cell_type": "code",
   "execution_count": 15,
   "metadata": {},
   "outputs": [
    {
     "data": {
      "text/plain": [
       "array(['a comedy of errors', 'a midsummer nights dream', 'a winters tale',\n",
       "       'alls well that ends well', 'antony and cleopatra',\n",
       "       'as you like it', 'coriolanus', 'cymbeline', 'hamlet', 'henry iv',\n",
       "       'henry v', 'henry vi part 1', 'henry vi part 2', 'henry vi part 3',\n",
       "       'henry viii', 'julius caesar', 'king john', 'king lear',\n",
       "       'loves labours lost', 'macbeth', 'measure for measure',\n",
       "       'merchant of venice', 'merry wives of windsor',\n",
       "       'much ado about nothing', 'othello', 'pericles', 'richard ii',\n",
       "       'richard iii', 'romeo and juliet', 'taming of the shrew',\n",
       "       'the tempest', 'timon of athens', 'titus andronicus',\n",
       "       'troilus and cressida', 'twelfth night', 'two gentlemen of verona'],\n",
       "      dtype=object)"
      ]
     },
     "execution_count": 15,
     "metadata": {},
     "output_type": "execute_result"
    }
   ],
   "source": [
    "shake_uniq.sort()\n",
    "shake_uniq"
   ]
  },
  {
   "cell_type": "code",
   "execution_count": 16,
   "metadata": {},
   "outputs": [
    {
     "data": {
      "text/plain": [
       "array(['a midsummer nights dream', 'alls well that ends well',\n",
       "       'antony and cleopatra', 'as you like it', 'coriolanus',\n",
       "       'cymbeline', 'edward iii', 'hamlet', 'henry iv, part 1',\n",
       "       'henry iv, part 2', 'henry v', 'henry vi, part 1',\n",
       "       'henry vi, part 2', 'henry vi, part 3', 'henry viii',\n",
       "       'julius caesar', 'king john', 'king lear', 'loves labours lost',\n",
       "       'macbeth', 'measure for measure', 'much ado about nothing',\n",
       "       'othello', 'pericles, prince of tyre', 'richard ii', 'richard iii',\n",
       "       'romeo and juliet', 'the comedy of errors',\n",
       "       'the merchant of venice', 'the merry wives of windsor',\n",
       "       'the taming of the shrew', 'the tempest',\n",
       "       'the two gentlemen of verona', 'the two noble kinsmen',\n",
       "       'the winters tale', 'timon of athens', 'titus andronicus',\n",
       "       'troilus and cressida', 'twelfth night'], dtype=object)"
      ]
     },
     "execution_count": 16,
     "metadata": {},
     "output_type": "execute_result"
    }
   ],
   "source": [
    "wiki_uniq.sort()\n",
    "wiki_uniq"
   ]
  },
  {
   "cell_type": "code",
   "execution_count": 17,
   "metadata": {},
   "outputs": [],
   "source": [
    "fuzzy_scores = {}\n",
    "\n",
    "for proper_name in inconsistent:\n",
    "    fuzzy_scores[proper_name] = fuzzywuzzy.process.extract(proper_name, shake_uniq, limit=2, scorer=fuzzywuzzy.fuzz.token_sort_ratio)"
   ]
  },
  {
   "cell_type": "code",
   "execution_count": 18,
   "metadata": {},
   "outputs": [
    {
     "name": "stdout",
     "output_type": "stream",
     "text": [
      "{'edward iii': [('henry viii', 60), ('henry iv', 44)],\n",
      " 'henry iv, part 1': [('henry vi part 1', 80), ('henry vi part 2', 73)],\n",
      " 'henry iv, part 2': [('henry vi part 2', 80), ('henry vi part 1', 73)],\n",
      " 'henry vi, part 1': [('henry vi part 1', 100), ('henry vi part 2', 93)],\n",
      " 'henry vi, part 2': [('henry vi part 2', 100), ('henry vi part 1', 93)],\n",
      " 'henry vi, part 3': [('henry vi part 3', 100), ('henry vi part 1', 93)],\n",
      " 'pericles, prince of tyre': [('pericles', 52), ('taming of the shrew', 48)],\n",
      " 'the comedy of errors': [('a comedy of errors', 84), ('the tempest', 45)],\n",
      " 'the merchant of venice': [('merchant of venice', 90),\n",
      "                            ('two gentlemen of verona', 53)],\n",
      " 'the merry wives of windsor': [('merry wives of windsor', 92),\n",
      "                                ('merchant of venice', 41)],\n",
      " 'the taming of the shrew': [('taming of the shrew', 90),\n",
      "                             ('a midsummer nights dream', 38)],\n",
      " 'the two gentlemen of verona': [('two gentlemen of verona', 92),\n",
      "                                 ('merchant of venice', 44)],\n",
      " 'the two noble kinsmen': [('two gentlemen of verona', 45),\n",
      "                           ('alls well that ends well', 40)],\n",
      " 'the winters tale': [('a winters tale', 80), ('alls well that ends well', 45)]}\n"
     ]
    }
   ],
   "source": [
    "pprint.pprint(fuzzy_scores)"
   ]
  },
  {
   "cell_type": "markdown",
   "metadata": {},
   "source": [
    "'Henry IV, Part 2', 'The Two Noble Kinsmen', and 'Edward III' are completely missing from the `shakespeare_plays` dataset. The kaggle discussion seems to indicate that Part 1 and Part 2 have been collapesed into a single play. It looks like articles (\"The\" and \"A\") have been stripped from some of the plays in `shakespeare_plays`; however, there are also several instances of an incorrect article. There is also inconsistent capitalization in that dataset as well. I can use fuzzywuzzy scores to safely replace all the 100 score matches. The next closest score of 93 with start changing around the Henry IV and Henry the VI datasets."
   ]
  },
  {
   "cell_type": "code",
   "execution_count": 19,
   "metadata": {},
   "outputs": [],
   "source": [
    "def replace_col_matches(df, column, string_to_match, min_ratio = 100):\n",
    "    \"\"\"This function gets the top closest matches to our input string a list of unique strings and \n",
    "    replaces all rows with matches with a fuzzy ratio = 100 matches with the input matches\n",
    "    \"\"\"\n",
    "    strings = df[column].unique()\n",
    "    matches = fuzzywuzzy.process.extract(string_to_match, strings, \n",
    "                                         limit=1, scorer=fuzzywuzzy.fuzz.token_sort_ratio)\n",
    "\n",
    "    close_matches = [matches[0] for matches in matches if matches[1] >= min_ratio]\n",
    "    rows_with_matches = df[column].isin(close_matches)\n",
    "    df.loc[rows_with_matches, column] = string_to_match"
   ]
  },
  {
   "cell_type": "code",
   "execution_count": 20,
   "metadata": {},
   "outputs": [
    {
     "data": {
      "text/plain": [
       "pandas.core.frame.DataFrame"
      ]
     },
     "execution_count": 20,
     "metadata": {},
     "output_type": "execute_result"
    }
   ],
   "source": [
    "remakespeare_plays = shakespeare_plays\n",
    "type(remakespeare_plays)"
   ]
  },
  {
   "cell_type": "code",
   "execution_count": 21,
   "metadata": {},
   "outputs": [],
   "source": [
    "for proper_name in inconsistent:\n",
    "    replace_col_matches(remakespeare_plays, 'Play', proper_name)"
   ]
  },
  {
   "cell_type": "code",
   "execution_count": 22,
   "metadata": {},
   "outputs": [
    {
     "name": "stdout",
     "output_type": "stream",
     "text": [
      "{'henry iv, part 1', 'the merchant of venice', 'the taming of the shrew', 'edward iii', 'the winters tale', 'pericles, prince of tyre', 'henry iv, part 2', 'the merry wives of windsor', 'the two noble kinsmen', 'the two gentlemen of verona', 'the comedy of errors'}\n"
     ]
    }
   ],
   "source": [
    "print(set(wiki_df.Play).difference(remakespeare_plays.Play))\n"
   ]
  },
  {
   "cell_type": "code",
   "execution_count": 23,
   "metadata": {},
   "outputs": [
    {
     "name": "stdout",
     "output_type": "stream",
     "text": [
      "{'a comedy of errors', 'henry iv', 'merchant of venice', 'taming of the shrew', 'a winters tale', 'merry wives of windsor', 'pericles', 'two gentlemen of verona'}\n"
     ]
    }
   ],
   "source": [
    "print(set(remakespeare_plays.Play).difference(wiki_df.Play))\n"
   ]
  },
  {
   "cell_type": "markdown",
   "metadata": {},
   "source": [
    "<div class=\"alert alert-block alert-info\">\n",
    "As much as it pains me, I think it is prudent to remove the articles 'The' and 'A', as this seems to be an area of frequent error and/or omission.</div>"
   ]
  },
  {
   "cell_type": "code",
   "execution_count": 24,
   "metadata": {},
   "outputs": [],
   "source": [
    "renaming_sk = {'a comedy of errors':'comedy of errors', 'a winters tale':'winters tale', 'a midsummer nights dream':'midsummer nights dream'}\n",
    "remakespeare_plays.Play = remakespeare_plays.Play.replace(renaming_sk)"
   ]
  },
  {
   "cell_type": "code",
   "execution_count": 25,
   "metadata": {},
   "outputs": [],
   "source": [
    "renaming_wi = {'the comedy of errors':'comedy of errors', 'the winters tale':'winters tale', 'pericles, prince of tyre':'pericles', 'the merchant of venice':'merchant of venice', 'the merry wives of windsor':'merry wives of windsor', 'henry iv, part 1':'henry iv', 'the two gentlemen of verona':'two gentlemen of verona', 'the taming of the shrew':'taming of the shrew', 'a midsummer nights dream':'midsummer nights dream'}\n",
    "wiki_df.Play = wiki_df.Play.replace(renaming_wi)"
   ]
  },
  {
   "cell_type": "code",
   "execution_count": 26,
   "metadata": {},
   "outputs": [
    {
     "name": "stdout",
     "output_type": "stream",
     "text": [
      "set()\n"
     ]
    }
   ],
   "source": [
    "print(set(remakespeare_plays.Play).difference(wiki_df.Play))"
   ]
  },
  {
   "cell_type": "markdown",
   "metadata": {},
   "source": [
    "<div class=\"alert alert-block alert-info\">\n",
    "Combining the shakespeare plays dataset with the wiki play categories of Traditional and Modern</div>"
   ]
  },
  {
   "cell_type": "code",
   "execution_count": 27,
   "metadata": {},
   "outputs": [
    {
     "data": {
      "text/html": [
       "<div>\n",
       "<style scoped>\n",
       "    .dataframe tbody tr th:only-of-type {\n",
       "        vertical-align: middle;\n",
       "    }\n",
       "\n",
       "    .dataframe tbody tr th {\n",
       "        vertical-align: top;\n",
       "    }\n",
       "\n",
       "    .dataframe thead th {\n",
       "        text-align: right;\n",
       "    }\n",
       "</style>\n",
       "<table border=\"1\" class=\"dataframe\">\n",
       "  <thead>\n",
       "    <tr style=\"text-align: right;\">\n",
       "      <th></th>\n",
       "      <th>Dataline</th>\n",
       "      <th>Play</th>\n",
       "      <th>PlayerLinenumber</th>\n",
       "      <th>ActSceneLine</th>\n",
       "      <th>Player</th>\n",
       "      <th>PlayerLine</th>\n",
       "      <th>Traditional</th>\n",
       "      <th>Modern</th>\n",
       "    </tr>\n",
       "  </thead>\n",
       "  <tbody>\n",
       "    <tr>\n",
       "      <th>64305</th>\n",
       "      <td>64306</td>\n",
       "      <td>merry wives of windsor</td>\n",
       "      <td>69.0</td>\n",
       "      <td>1.1.135</td>\n",
       "      <td>SLENDER</td>\n",
       "      <td>never come in mine own great chamber again else, of</td>\n",
       "      <td>comedy</td>\n",
       "      <td>comedy</td>\n",
       "    </tr>\n",
       "    <tr>\n",
       "      <th>57085</th>\n",
       "      <td>57086</td>\n",
       "      <td>macbeth</td>\n",
       "      <td>9.0</td>\n",
       "      <td>3.4.21</td>\n",
       "      <td>MACBETH</td>\n",
       "      <td>Thou art the nonpareil.</td>\n",
       "      <td>tragedy</td>\n",
       "      <td>tragedy</td>\n",
       "    </tr>\n",
       "    <tr>\n",
       "      <th>27497</th>\n",
       "      <td>27498</td>\n",
       "      <td>coriolanus</td>\n",
       "      <td>11.0</td>\n",
       "      <td>4.6.25</td>\n",
       "      <td>SICINIUS</td>\n",
       "      <td>God-den, our neighbours.</td>\n",
       "      <td>tragedy</td>\n",
       "      <td>tragedy</td>\n",
       "    </tr>\n",
       "    <tr>\n",
       "      <th>37749</th>\n",
       "      <td>37750</td>\n",
       "      <td>henry v</td>\n",
       "      <td>1.0</td>\n",
       "      <td>3.0.13</td>\n",
       "      <td>Chorus</td>\n",
       "      <td>Breasting the lofty surge: O, do but think</td>\n",
       "      <td>history</td>\n",
       "      <td>tragedy</td>\n",
       "    </tr>\n",
       "    <tr>\n",
       "      <th>88352</th>\n",
       "      <td>88353</td>\n",
       "      <td>romeo and juliet</td>\n",
       "      <td>15.0</td>\n",
       "      <td>5.3.100</td>\n",
       "      <td>ROMEO</td>\n",
       "      <td>Than with that hand that cut thy youth in twain</td>\n",
       "      <td>tragedy</td>\n",
       "      <td>tragedy</td>\n",
       "    </tr>\n",
       "  </tbody>\n",
       "</table>\n",
       "</div>"
      ],
      "text/plain": [
       "       Dataline                    Play  PlayerLinenumber ActSceneLine  \\\n",
       "64305     64306  merry wives of windsor              69.0      1.1.135   \n",
       "57085     57086                 macbeth               9.0       3.4.21   \n",
       "27497     27498              coriolanus              11.0       4.6.25   \n",
       "37749     37750                 henry v               1.0       3.0.13   \n",
       "88352     88353        romeo and juliet              15.0      5.3.100   \n",
       "\n",
       "         Player                                           PlayerLine  \\\n",
       "64305   SLENDER  never come in mine own great chamber again else, of   \n",
       "57085   MACBETH                              Thou art the nonpareil.   \n",
       "27497  SICINIUS                             God-den, our neighbours.   \n",
       "37749    Chorus           Breasting the lofty surge: O, do but think   \n",
       "88352     ROMEO      Than with that hand that cut thy youth in twain   \n",
       "\n",
       "      Traditional   Modern  \n",
       "64305      comedy   comedy  \n",
       "57085     tragedy  tragedy  \n",
       "27497     tragedy  tragedy  \n",
       "37749     history  tragedy  \n",
       "88352     tragedy  tragedy  "
      ]
     },
     "execution_count": 27,
     "metadata": {},
     "output_type": "execute_result"
    }
   ],
   "source": [
    "shake_df = pd.merge(remakespeare_plays, wiki_df, how='left', on='Play')\n",
    "shake_df.sample(5)"
   ]
  },
  {
   "cell_type": "code",
   "execution_count": 28,
   "metadata": {},
   "outputs": [
    {
     "name": "stdout",
     "output_type": "stream",
     "text": [
      "<class 'pandas.core.frame.DataFrame'>\n",
      "Int64Index: 111396 entries, 0 to 111395\n",
      "Data columns (total 8 columns):\n",
      " #   Column            Non-Null Count   Dtype  \n",
      "---  ------            --------------   -----  \n",
      " 0   Dataline          111396 non-null  int64  \n",
      " 1   Play              111396 non-null  object \n",
      " 2   PlayerLinenumber  111393 non-null  float64\n",
      " 3   ActSceneLine      105153 non-null  object \n",
      " 4   Player            111389 non-null  object \n",
      " 5   PlayerLine        111396 non-null  object \n",
      " 6   Traditional       111396 non-null  object \n",
      " 7   Modern            111396 non-null  object \n",
      "dtypes: float64(1), int64(1), object(6)\n",
      "memory usage: 7.6+ MB\n"
     ]
    }
   ],
   "source": [
    "shake_df.info()"
   ]
  },
  {
   "cell_type": "markdown",
   "metadata": {},
   "source": [
    "<div class=\"alert alert-block alert-info\">\n",
    "Investigation of the missing values in the `ActSceneLine` column indicates that these appear to be stage directions. Consider keeping as titles can be obtained from stage direction, such as Anthony Boucher's <i>Exeunt Murderers</i> and Sara Woods's <i>Enter a Gentlewoman</i>.</div>"
   ]
  },
  {
   "cell_type": "code",
   "execution_count": 29,
   "metadata": {},
   "outputs": [
    {
     "data": {
      "text/html": [
       "<div>\n",
       "<style scoped>\n",
       "    .dataframe tbody tr th:only-of-type {\n",
       "        vertical-align: middle;\n",
       "    }\n",
       "\n",
       "    .dataframe tbody tr th {\n",
       "        vertical-align: top;\n",
       "    }\n",
       "\n",
       "    .dataframe thead th {\n",
       "        text-align: right;\n",
       "    }\n",
       "</style>\n",
       "<table border=\"1\" class=\"dataframe\">\n",
       "  <thead>\n",
       "    <tr style=\"text-align: right;\">\n",
       "      <th></th>\n",
       "      <th>Dataline</th>\n",
       "      <th>Play</th>\n",
       "      <th>PlayerLinenumber</th>\n",
       "      <th>ActSceneLine</th>\n",
       "      <th>Player</th>\n",
       "      <th>PlayerLine</th>\n",
       "      <th>Traditional</th>\n",
       "      <th>Modern</th>\n",
       "    </tr>\n",
       "  </thead>\n",
       "  <tbody>\n",
       "    <tr>\n",
       "      <th>39279</th>\n",
       "      <td>39280</td>\n",
       "      <td>henry v</td>\n",
       "      <td>13.0</td>\n",
       "      <td>NaN</td>\n",
       "      <td>KING HENRY V</td>\n",
       "      <td>Enter MONTJOY</td>\n",
       "      <td>history</td>\n",
       "      <td>tragedy</td>\n",
       "    </tr>\n",
       "    <tr>\n",
       "      <th>8679</th>\n",
       "      <td>8680</td>\n",
       "      <td>henry vi, part 2</td>\n",
       "      <td>5.0</td>\n",
       "      <td>NaN</td>\n",
       "      <td>CADE</td>\n",
       "      <td>Putting on SIR HUMPHREY'S brigandine</td>\n",
       "      <td>history</td>\n",
       "      <td>tragedy</td>\n",
       "    </tr>\n",
       "    <tr>\n",
       "      <th>110847</th>\n",
       "      <td>110848</td>\n",
       "      <td>winters tale</td>\n",
       "      <td>24.0</td>\n",
       "      <td>NaN</td>\n",
       "      <td>PAULINA</td>\n",
       "      <td>Enter a Gentleman</td>\n",
       "      <td>comedy</td>\n",
       "      <td>romance</td>\n",
       "    </tr>\n",
       "    <tr>\n",
       "      <th>15744</th>\n",
       "      <td>15745</td>\n",
       "      <td>as you like it</td>\n",
       "      <td>114.0</td>\n",
       "      <td>NaN</td>\n",
       "      <td>KING</td>\n",
       "      <td>SCENE I. Orchard of Oliver's house.</td>\n",
       "      <td>comedy</td>\n",
       "      <td>comedy</td>\n",
       "    </tr>\n",
       "    <tr>\n",
       "      <th>12661</th>\n",
       "      <td>12662</td>\n",
       "      <td>alls well that ends well</td>\n",
       "      <td>9.0</td>\n",
       "      <td>NaN</td>\n",
       "      <td>KING EDWARD IV</td>\n",
       "      <td>SCENE I. Rousillon. The COUNT's palace.</td>\n",
       "      <td>comedy</td>\n",
       "      <td>comedy</td>\n",
       "    </tr>\n",
       "    <tr>\n",
       "      <th>63309</th>\n",
       "      <td>63310</td>\n",
       "      <td>merchant of venice</td>\n",
       "      <td>28.0</td>\n",
       "      <td>NaN</td>\n",
       "      <td>JESSICA</td>\n",
       "      <td>ACT IV</td>\n",
       "      <td>comedy</td>\n",
       "      <td>comedy</td>\n",
       "    </tr>\n",
       "    <tr>\n",
       "      <th>79314</th>\n",
       "      <td>79315</td>\n",
       "      <td>richard ii</td>\n",
       "      <td>33.0</td>\n",
       "      <td>NaN</td>\n",
       "      <td>KING RICHARD II</td>\n",
       "      <td>Flourish. Exeunt KING RICHARD II, QUEEN, DUKE OF AUMERLE, BUSHY, GREEN, and BAGOT</td>\n",
       "      <td>history</td>\n",
       "      <td>tragedy</td>\n",
       "    </tr>\n",
       "    <tr>\n",
       "      <th>19599</th>\n",
       "      <td>19600</td>\n",
       "      <td>antony and cleopatra</td>\n",
       "      <td>13.0</td>\n",
       "      <td>NaN</td>\n",
       "      <td>MARK ANTONY</td>\n",
       "      <td>Exeunt</td>\n",
       "      <td>tragedy</td>\n",
       "      <td>tragedy</td>\n",
       "    </tr>\n",
       "    <tr>\n",
       "      <th>28575</th>\n",
       "      <td>28576</td>\n",
       "      <td>cymbeline</td>\n",
       "      <td>22.0</td>\n",
       "      <td>NaN</td>\n",
       "      <td>QUEEN</td>\n",
       "      <td>Exit</td>\n",
       "      <td>tragedy</td>\n",
       "      <td>romance</td>\n",
       "    </tr>\n",
       "    <tr>\n",
       "      <th>34931</th>\n",
       "      <td>34932</td>\n",
       "      <td>hamlet</td>\n",
       "      <td>18.0</td>\n",
       "      <td>NaN</td>\n",
       "      <td>LORD POLONIUS</td>\n",
       "      <td>Falls and dies</td>\n",
       "      <td>tragedy</td>\n",
       "      <td>tragedy</td>\n",
       "    </tr>\n",
       "  </tbody>\n",
       "</table>\n",
       "</div>"
      ],
      "text/plain": [
       "        Dataline                      Play  PlayerLinenumber ActSceneLine  \\\n",
       "39279      39280                   henry v              13.0          NaN   \n",
       "8679        8680          henry vi, part 2               5.0          NaN   \n",
       "110847    110848              winters tale              24.0          NaN   \n",
       "15744      15745            as you like it             114.0          NaN   \n",
       "12661      12662  alls well that ends well               9.0          NaN   \n",
       "63309      63310        merchant of venice              28.0          NaN   \n",
       "79314      79315                richard ii              33.0          NaN   \n",
       "19599      19600      antony and cleopatra              13.0          NaN   \n",
       "28575      28576                 cymbeline              22.0          NaN   \n",
       "34931      34932                    hamlet              18.0          NaN   \n",
       "\n",
       "                 Player  \\\n",
       "39279      KING HENRY V   \n",
       "8679               CADE   \n",
       "110847          PAULINA   \n",
       "15744              KING   \n",
       "12661    KING EDWARD IV   \n",
       "63309           JESSICA   \n",
       "79314   KING RICHARD II   \n",
       "19599       MARK ANTONY   \n",
       "28575             QUEEN   \n",
       "34931     LORD POLONIUS   \n",
       "\n",
       "                                                                               PlayerLine  \\\n",
       "39279                                                                       Enter MONTJOY   \n",
       "8679                                                 Putting on SIR HUMPHREY'S brigandine   \n",
       "110847                                                                  Enter a Gentleman   \n",
       "15744                                                 SCENE I. Orchard of Oliver's house.   \n",
       "12661                                             SCENE I. Rousillon. The COUNT's palace.   \n",
       "63309                                                                              ACT IV   \n",
       "79314   Flourish. Exeunt KING RICHARD II, QUEEN, DUKE OF AUMERLE, BUSHY, GREEN, and BAGOT   \n",
       "19599                                                                              Exeunt   \n",
       "28575                                                                                Exit   \n",
       "34931                                                                      Falls and dies   \n",
       "\n",
       "       Traditional   Modern  \n",
       "39279      history  tragedy  \n",
       "8679       history  tragedy  \n",
       "110847      comedy  romance  \n",
       "15744       comedy   comedy  \n",
       "12661       comedy   comedy  \n",
       "63309       comedy   comedy  \n",
       "79314      history  tragedy  \n",
       "19599      tragedy  tragedy  \n",
       "28575      tragedy  romance  \n",
       "34931      tragedy  tragedy  "
      ]
     },
     "execution_count": 29,
     "metadata": {},
     "output_type": "execute_result"
    }
   ],
   "source": [
    "no_asl = shake_df['ActSceneLine'].isna()\n",
    "shake_df[no_asl].sample(10)"
   ]
  },
  {
   "cell_type": "markdown",
   "metadata": {},
   "source": [
    "Note to Self: I particularly like these stage directions as titles:\n",
    "- shake_df.loc[shake_df['Dataline']==3066]  *Dies*\n",
    "- shake_df.loc[shake_df['Dataline']==33372] *They swear*\n",
    "\n"
   ]
  },
  {
   "cell_type": "code",
   "execution_count": 30,
   "metadata": {},
   "outputs": [],
   "source": [
    "shake_df['ActSceneLine'] = shake_df['ActSceneLine'].fillna(method='backfill', axis=0)"
   ]
  },
  {
   "cell_type": "code",
   "execution_count": 31,
   "metadata": {},
   "outputs": [
    {
     "data": {
      "text/html": [
       "<div>\n",
       "<style scoped>\n",
       "    .dataframe tbody tr th:only-of-type {\n",
       "        vertical-align: middle;\n",
       "    }\n",
       "\n",
       "    .dataframe tbody tr th {\n",
       "        vertical-align: top;\n",
       "    }\n",
       "\n",
       "    .dataframe thead th {\n",
       "        text-align: right;\n",
       "    }\n",
       "</style>\n",
       "<table border=\"1\" class=\"dataframe\">\n",
       "  <thead>\n",
       "    <tr style=\"text-align: right;\">\n",
       "      <th></th>\n",
       "      <th>Dataline</th>\n",
       "      <th>Play</th>\n",
       "      <th>PlayerLinenumber</th>\n",
       "      <th>ActSceneLine</th>\n",
       "      <th>Player</th>\n",
       "      <th>PlayerLine</th>\n",
       "      <th>Traditional</th>\n",
       "      <th>Modern</th>\n",
       "    </tr>\n",
       "  </thead>\n",
       "  <tbody>\n",
       "    <tr>\n",
       "      <th>0</th>\n",
       "      <td>1</td>\n",
       "      <td>henry iv</td>\n",
       "      <td>NaN</td>\n",
       "      <td>1.1.1</td>\n",
       "      <td>NaN</td>\n",
       "      <td>ACT I</td>\n",
       "      <td>history</td>\n",
       "      <td>tragedy</td>\n",
       "    </tr>\n",
       "    <tr>\n",
       "      <th>1</th>\n",
       "      <td>2</td>\n",
       "      <td>henry iv</td>\n",
       "      <td>NaN</td>\n",
       "      <td>1.1.1</td>\n",
       "      <td>NaN</td>\n",
       "      <td>SCENE I. London. The palace.</td>\n",
       "      <td>history</td>\n",
       "      <td>tragedy</td>\n",
       "    </tr>\n",
       "    <tr>\n",
       "      <th>2</th>\n",
       "      <td>3</td>\n",
       "      <td>henry iv</td>\n",
       "      <td>NaN</td>\n",
       "      <td>1.1.1</td>\n",
       "      <td>NaN</td>\n",
       "      <td>Enter KING HENRY, LORD JOHN OF LANCASTER, the EARL of WESTMORELAND, SIR WALTER BLUNT, and others</td>\n",
       "      <td>history</td>\n",
       "      <td>tragedy</td>\n",
       "    </tr>\n",
       "    <tr>\n",
       "      <th>3</th>\n",
       "      <td>4</td>\n",
       "      <td>henry iv</td>\n",
       "      <td>1.0</td>\n",
       "      <td>1.1.1</td>\n",
       "      <td>KING HENRY IV</td>\n",
       "      <td>So shaken as we are, so wan with care,</td>\n",
       "      <td>history</td>\n",
       "      <td>tragedy</td>\n",
       "    </tr>\n",
       "    <tr>\n",
       "      <th>4</th>\n",
       "      <td>5</td>\n",
       "      <td>henry iv</td>\n",
       "      <td>1.0</td>\n",
       "      <td>1.1.2</td>\n",
       "      <td>KING HENRY IV</td>\n",
       "      <td>Find we a time for frighted peace to pant,</td>\n",
       "      <td>history</td>\n",
       "      <td>tragedy</td>\n",
       "    </tr>\n",
       "  </tbody>\n",
       "</table>\n",
       "</div>"
      ],
      "text/plain": [
       "   Dataline      Play  PlayerLinenumber ActSceneLine         Player  \\\n",
       "0         1  henry iv               NaN        1.1.1            NaN   \n",
       "1         2  henry iv               NaN        1.1.1            NaN   \n",
       "2         3  henry iv               NaN        1.1.1            NaN   \n",
       "3         4  henry iv               1.0        1.1.1  KING HENRY IV   \n",
       "4         5  henry iv               1.0        1.1.2  KING HENRY IV   \n",
       "\n",
       "                                                                                         PlayerLine  \\\n",
       "0                                                                                             ACT I   \n",
       "1                                                                      SCENE I. London. The palace.   \n",
       "2  Enter KING HENRY, LORD JOHN OF LANCASTER, the EARL of WESTMORELAND, SIR WALTER BLUNT, and others   \n",
       "3                                                            So shaken as we are, so wan with care,   \n",
       "4                                                        Find we a time for frighted peace to pant,   \n",
       "\n",
       "  Traditional   Modern  \n",
       "0     history  tragedy  \n",
       "1     history  tragedy  \n",
       "2     history  tragedy  \n",
       "3     history  tragedy  \n",
       "4     history  tragedy  "
      ]
     },
     "execution_count": 31,
     "metadata": {},
     "output_type": "execute_result"
    }
   ],
   "source": [
    "shake_df.head()"
   ]
  },
  {
   "cell_type": "markdown",
   "metadata": {},
   "source": [
    "<div class=\"alert alert-block alert-info\">There seems to be some issues with the PlayerLinenumber column that I discivered while looking through the data for the different plays. I also con't imagine this column being of much utility, even it was accurate. I will back fill the 3 missing values for now, and likely ignore/remove the column altogether at a later time. I will also backfill the 7 missing Players in the df, since it is likely the the next person to speak can be attributed to these scene directions.\n",
    "</div>"
   ]
  },
  {
   "cell_type": "code",
   "execution_count": 32,
   "metadata": {},
   "outputs": [
    {
     "data": {
      "text/html": [
       "<div>\n",
       "<style scoped>\n",
       "    .dataframe tbody tr th:only-of-type {\n",
       "        vertical-align: middle;\n",
       "    }\n",
       "\n",
       "    .dataframe tbody tr th {\n",
       "        vertical-align: top;\n",
       "    }\n",
       "\n",
       "    .dataframe thead th {\n",
       "        text-align: right;\n",
       "    }\n",
       "</style>\n",
       "<table border=\"1\" class=\"dataframe\">\n",
       "  <thead>\n",
       "    <tr style=\"text-align: right;\">\n",
       "      <th></th>\n",
       "      <th>Dataline</th>\n",
       "      <th>Play</th>\n",
       "      <th>PlayerLinenumber</th>\n",
       "      <th>ActSceneLine</th>\n",
       "      <th>Player</th>\n",
       "      <th>PlayerLine</th>\n",
       "      <th>Traditional</th>\n",
       "      <th>Modern</th>\n",
       "    </tr>\n",
       "  </thead>\n",
       "  <tbody>\n",
       "    <tr>\n",
       "      <th>0</th>\n",
       "      <td>1</td>\n",
       "      <td>henry iv</td>\n",
       "      <td>1.0</td>\n",
       "      <td>1.1.1</td>\n",
       "      <td>NaN</td>\n",
       "      <td>ACT I</td>\n",
       "      <td>history</td>\n",
       "      <td>tragedy</td>\n",
       "    </tr>\n",
       "    <tr>\n",
       "      <th>1</th>\n",
       "      <td>2</td>\n",
       "      <td>henry iv</td>\n",
       "      <td>1.0</td>\n",
       "      <td>1.1.1</td>\n",
       "      <td>NaN</td>\n",
       "      <td>SCENE I. London. The palace.</td>\n",
       "      <td>history</td>\n",
       "      <td>tragedy</td>\n",
       "    </tr>\n",
       "    <tr>\n",
       "      <th>2</th>\n",
       "      <td>3</td>\n",
       "      <td>henry iv</td>\n",
       "      <td>1.0</td>\n",
       "      <td>1.1.1</td>\n",
       "      <td>NaN</td>\n",
       "      <td>Enter KING HENRY, LORD JOHN OF LANCASTER, the EARL of WESTMORELAND, SIR WALTER BLUNT, and others</td>\n",
       "      <td>history</td>\n",
       "      <td>tragedy</td>\n",
       "    </tr>\n",
       "    <tr>\n",
       "      <th>3</th>\n",
       "      <td>4</td>\n",
       "      <td>henry iv</td>\n",
       "      <td>1.0</td>\n",
       "      <td>1.1.1</td>\n",
       "      <td>KING HENRY IV</td>\n",
       "      <td>So shaken as we are, so wan with care,</td>\n",
       "      <td>history</td>\n",
       "      <td>tragedy</td>\n",
       "    </tr>\n",
       "    <tr>\n",
       "      <th>4</th>\n",
       "      <td>5</td>\n",
       "      <td>henry iv</td>\n",
       "      <td>1.0</td>\n",
       "      <td>1.1.2</td>\n",
       "      <td>KING HENRY IV</td>\n",
       "      <td>Find we a time for frighted peace to pant,</td>\n",
       "      <td>history</td>\n",
       "      <td>tragedy</td>\n",
       "    </tr>\n",
       "  </tbody>\n",
       "</table>\n",
       "</div>"
      ],
      "text/plain": [
       "   Dataline      Play  PlayerLinenumber ActSceneLine         Player  \\\n",
       "0         1  henry iv               1.0        1.1.1            NaN   \n",
       "1         2  henry iv               1.0        1.1.1            NaN   \n",
       "2         3  henry iv               1.0        1.1.1            NaN   \n",
       "3         4  henry iv               1.0        1.1.1  KING HENRY IV   \n",
       "4         5  henry iv               1.0        1.1.2  KING HENRY IV   \n",
       "\n",
       "                                                                                         PlayerLine  \\\n",
       "0                                                                                             ACT I   \n",
       "1                                                                      SCENE I. London. The palace.   \n",
       "2  Enter KING HENRY, LORD JOHN OF LANCASTER, the EARL of WESTMORELAND, SIR WALTER BLUNT, and others   \n",
       "3                                                            So shaken as we are, so wan with care,   \n",
       "4                                                        Find we a time for frighted peace to pant,   \n",
       "\n",
       "  Traditional   Modern  \n",
       "0     history  tragedy  \n",
       "1     history  tragedy  \n",
       "2     history  tragedy  \n",
       "3     history  tragedy  \n",
       "4     history  tragedy  "
      ]
     },
     "execution_count": 32,
     "metadata": {},
     "output_type": "execute_result"
    }
   ],
   "source": [
    "shake_df['PlayerLinenumber'] = shake_df['PlayerLinenumber'].fillna(method='backfill', axis=0)\n",
    "shake_df.head()"
   ]
  },
  {
   "cell_type": "code",
   "execution_count": 33,
   "metadata": {},
   "outputs": [
    {
     "data": {
      "text/html": [
       "<div>\n",
       "<style scoped>\n",
       "    .dataframe tbody tr th:only-of-type {\n",
       "        vertical-align: middle;\n",
       "    }\n",
       "\n",
       "    .dataframe tbody tr th {\n",
       "        vertical-align: top;\n",
       "    }\n",
       "\n",
       "    .dataframe thead th {\n",
       "        text-align: right;\n",
       "    }\n",
       "</style>\n",
       "<table border=\"1\" class=\"dataframe\">\n",
       "  <thead>\n",
       "    <tr style=\"text-align: right;\">\n",
       "      <th></th>\n",
       "      <th>Dataline</th>\n",
       "      <th>Play</th>\n",
       "      <th>PlayerLinenumber</th>\n",
       "      <th>ActSceneLine</th>\n",
       "      <th>Player</th>\n",
       "      <th>PlayerLine</th>\n",
       "      <th>Traditional</th>\n",
       "      <th>Modern</th>\n",
       "    </tr>\n",
       "  </thead>\n",
       "  <tbody>\n",
       "    <tr>\n",
       "      <th>0</th>\n",
       "      <td>1</td>\n",
       "      <td>henry iv</td>\n",
       "      <td>1.0</td>\n",
       "      <td>1.1.1</td>\n",
       "      <td>NaN</td>\n",
       "      <td>ACT I</td>\n",
       "      <td>history</td>\n",
       "      <td>tragedy</td>\n",
       "    </tr>\n",
       "    <tr>\n",
       "      <th>1</th>\n",
       "      <td>2</td>\n",
       "      <td>henry iv</td>\n",
       "      <td>1.0</td>\n",
       "      <td>1.1.1</td>\n",
       "      <td>NaN</td>\n",
       "      <td>SCENE I. London. The palace.</td>\n",
       "      <td>history</td>\n",
       "      <td>tragedy</td>\n",
       "    </tr>\n",
       "    <tr>\n",
       "      <th>2</th>\n",
       "      <td>3</td>\n",
       "      <td>henry iv</td>\n",
       "      <td>1.0</td>\n",
       "      <td>1.1.1</td>\n",
       "      <td>NaN</td>\n",
       "      <td>Enter KING HENRY, LORD JOHN OF LANCASTER, the EARL of WESTMORELAND, SIR WALTER BLUNT, and others</td>\n",
       "      <td>history</td>\n",
       "      <td>tragedy</td>\n",
       "    </tr>\n",
       "    <tr>\n",
       "      <th>2015</th>\n",
       "      <td>2016</td>\n",
       "      <td>henry iv</td>\n",
       "      <td>10.0</td>\n",
       "      <td>3.2.183</td>\n",
       "      <td>NaN</td>\n",
       "      <td>Eastcheap. The Boar's-Head Tavern.</td>\n",
       "      <td>history</td>\n",
       "      <td>tragedy</td>\n",
       "    </tr>\n",
       "    <tr>\n",
       "      <th>2016</th>\n",
       "      <td>2017</td>\n",
       "      <td>henry iv</td>\n",
       "      <td>10.0</td>\n",
       "      <td>3.2.183</td>\n",
       "      <td>NaN</td>\n",
       "      <td>Enter FALSTAFF and BARDOLPH</td>\n",
       "      <td>history</td>\n",
       "      <td>tragedy</td>\n",
       "    </tr>\n",
       "    <tr>\n",
       "      <th>29459</th>\n",
       "      <td>29460</td>\n",
       "      <td>cymbeline</td>\n",
       "      <td>7.0</td>\n",
       "      <td>2.2.55</td>\n",
       "      <td>NaN</td>\n",
       "      <td>An ante-chamber adjoining Imogen's apartments.</td>\n",
       "      <td>tragedy</td>\n",
       "      <td>romance</td>\n",
       "    </tr>\n",
       "    <tr>\n",
       "      <th>29460</th>\n",
       "      <td>29461</td>\n",
       "      <td>cymbeline</td>\n",
       "      <td>7.0</td>\n",
       "      <td>2.2.56</td>\n",
       "      <td>NaN</td>\n",
       "      <td>Enter CLOTEN and Lords</td>\n",
       "      <td>tragedy</td>\n",
       "      <td>romance</td>\n",
       "    </tr>\n",
       "  </tbody>\n",
       "</table>\n",
       "</div>"
      ],
      "text/plain": [
       "       Dataline       Play  PlayerLinenumber ActSceneLine Player  \\\n",
       "0             1   henry iv               1.0        1.1.1    NaN   \n",
       "1             2   henry iv               1.0        1.1.1    NaN   \n",
       "2             3   henry iv               1.0        1.1.1    NaN   \n",
       "2015       2016   henry iv              10.0      3.2.183    NaN   \n",
       "2016       2017   henry iv              10.0      3.2.183    NaN   \n",
       "29459     29460  cymbeline               7.0       2.2.55    NaN   \n",
       "29460     29461  cymbeline               7.0       2.2.56    NaN   \n",
       "\n",
       "                                                                                             PlayerLine  \\\n",
       "0                                                                                                 ACT I   \n",
       "1                                                                          SCENE I. London. The palace.   \n",
       "2      Enter KING HENRY, LORD JOHN OF LANCASTER, the EARL of WESTMORELAND, SIR WALTER BLUNT, and others   \n",
       "2015                                                                 Eastcheap. The Boar's-Head Tavern.   \n",
       "2016                                                                        Enter FALSTAFF and BARDOLPH   \n",
       "29459                                                    An ante-chamber adjoining Imogen's apartments.   \n",
       "29460                                                                            Enter CLOTEN and Lords   \n",
       "\n",
       "      Traditional   Modern  \n",
       "0         history  tragedy  \n",
       "1         history  tragedy  \n",
       "2         history  tragedy  \n",
       "2015      history  tragedy  \n",
       "2016      history  tragedy  \n",
       "29459     tragedy  romance  \n",
       "29460     tragedy  romance  "
      ]
     },
     "execution_count": 33,
     "metadata": {},
     "output_type": "execute_result"
    }
   ],
   "source": [
    "no_player = shake_df['Player'].isna()\n",
    "shake_df[no_player].head(7)"
   ]
  },
  {
   "cell_type": "code",
   "execution_count": 34,
   "metadata": {},
   "outputs": [],
   "source": [
    "shake_df['Player'] = shake_df['Player'].fillna(method='backfill', axis=0)"
   ]
  },
  {
   "cell_type": "code",
   "execution_count": 35,
   "metadata": {},
   "outputs": [
    {
     "name": "stdout",
     "output_type": "stream",
     "text": [
      "        Dataline          Play  PlayerLinenumber ActSceneLine   Player  \\\n",
      "111395    111396  winters tale              38.0          NaN  LEONTES   \n",
      "\n",
      "       PlayerLine Traditional   Modern  \n",
      "111395     Exeunt      comedy  romance  \n"
     ]
    }
   ],
   "source": [
    "print(shake_df[shake_df['ActSceneLine'].isna()])"
   ]
  },
  {
   "cell_type": "code",
   "execution_count": 36,
   "metadata": {},
   "outputs": [],
   "source": [
    "shake_df['ActSceneLine'] = shake_df['ActSceneLine'].fillna(method='ffill', axis=0)"
   ]
  },
  {
   "cell_type": "code",
   "execution_count": 37,
   "metadata": {},
   "outputs": [],
   "source": [
    "rename_again = {'henry vi, part 1':'henry vi part 1', 'henry vi, part 2':'henry vi part 2', 'henry vi, part 3':'henry vi part 3', 'the tempest':'tempest'}\n",
    "shake_df.Play = shake_df.Play.replace(rename_again)"
   ]
  },
  {
   "cell_type": "code",
   "execution_count": 38,
   "metadata": {},
   "outputs": [
    {
     "name": "stdout",
     "output_type": "stream",
     "text": [
      "<class 'pandas.core.frame.DataFrame'>\n",
      "Int64Index: 111396 entries, 0 to 111395\n",
      "Data columns (total 8 columns):\n",
      " #   Column            Non-Null Count   Dtype  \n",
      "---  ------            --------------   -----  \n",
      " 0   Dataline          111396 non-null  int64  \n",
      " 1   Play              111396 non-null  object \n",
      " 2   PlayerLinenumber  111396 non-null  float64\n",
      " 3   ActSceneLine      111396 non-null  object \n",
      " 4   Player            111396 non-null  object \n",
      " 5   PlayerLine        111396 non-null  object \n",
      " 6   Traditional       111396 non-null  object \n",
      " 7   Modern            111396 non-null  object \n",
      "dtypes: float64(1), int64(1), object(6)\n",
      "memory usage: 7.6+ MB\n"
     ]
    }
   ],
   "source": [
    "shake_df.info()"
   ]
  },
  {
   "cell_type": "markdown",
   "metadata": {},
   "source": [
    "<div class=\"alert alert-block alert-info\">I was curious if there were common lines, particulaly those in the stage directions (like \"Exit\"). For now, I'll likely keep them in- I don't think they will have much influence. </div>"
   ]
  },
  {
   "cell_type": "code",
   "execution_count": 39,
   "metadata": {},
   "outputs": [],
   "source": [
    "duplicates = shake_df.PlayerLine.duplicated()\n",
    "dup_df = shake_df[duplicates]"
   ]
  },
  {
   "cell_type": "code",
   "execution_count": 40,
   "metadata": {},
   "outputs": [],
   "source": [
    "duplicated_lines = {}\n",
    "\n",
    "for line in dup_df.PlayerLine:\n",
    "    if line in duplicated_lines:\n",
    "        duplicated_lines[line] += 1\n",
    "    else:\n",
    "        duplicated_lines[line] = 1"
   ]
  },
  {
   "cell_type": "code",
   "execution_count": 41,
   "metadata": {},
   "outputs": [
    {
     "name": "stdout",
     "output_type": "stream",
     "text": [
      "{'Exeunt', 'DON', 'Enter a Messenger', 'ACT II', 'Exit', 'ACT III', 'ACT IV', 'ACT V', 'Reads', 'Aside', 'Dies', 'ACT I', 'ANTIPHOLUS'}\n"
     ]
    }
   ],
   "source": [
    "print({k for k, v in duplicated_lines.items() if v >= 30})"
   ]
  },
  {
   "cell_type": "markdown",
   "metadata": {},
   "source": [
    "<div class=\"alert alert-block alert-info\"> The list of Shakespearean titles contains titles derived from Shakespeare's sonnets, so I thought the inclusion of the sonnets would strengthen the dataset. The text of Shakespeare's sonnets has been curated by Prooffreader and downloaded from GitHub: https://github.com/Prooffreader/Datasets/tree/master/shakespeare_complete_works_data </div>"
   ]
  },
  {
   "cell_type": "code",
   "execution_count": 42,
   "metadata": {},
   "outputs": [
    {
     "name": "stdout",
     "output_type": "stream",
     "text": [
      "<class 'pandas.core.frame.DataFrame'>\n",
      "RangeIndex: 6043 entries, 0 to 6042\n",
      "Data columns (total 18 columns):\n",
      " #   Column              Non-Null Count  Dtype  \n",
      "---  ------              --------------  -----  \n",
      " 0   id                  6043 non-null   int64  \n",
      " 1   title               6043 non-null   object \n",
      " 2   intro_or_body       3886 non-null   object \n",
      " 3   sonnet_num          2157 non-null   float64\n",
      " 4   stanza_num          3873 non-null   float64\n",
      " 5   quatrain_num        2295 non-null   float64\n",
      " 6   quatrain_bool       6043 non-null   int64  \n",
      " 7   stanzasmall_bool    6043 non-null   int64  \n",
      " 8   couplet_bool        6043 non-null   int64  \n",
      " 9   tercet_bool         6043 non-null   int64  \n",
      " 10  dedication_bool     6043 non-null   int64  \n",
      " 11  subtitle_bool       6043 non-null   int64  \n",
      " 12  line                6043 non-null   object \n",
      " 13  line_number_global  6039 non-null   float64\n",
      " 14  line_number         3014 non-null   float64\n",
      " 15  offset              2 non-null      float64\n",
      " 16  rhyme               3004 non-null   object \n",
      " 17  contains_tags       3 non-null      object \n",
      "dtypes: float64(6), int64(7), object(5)\n",
      "memory usage: 849.9+ KB\n"
     ]
    }
   ],
   "source": [
    "shakespeare_poems = pd.read_csv('../data/poem_lines.csv', encoding='latin-1')\n",
    "shakespeare_poems.info()"
   ]
  },
  {
   "cell_type": "code",
   "execution_count": 43,
   "metadata": {},
   "outputs": [
    {
     "data": {
      "text/html": [
       "<div>\n",
       "<style scoped>\n",
       "    .dataframe tbody tr th:only-of-type {\n",
       "        vertical-align: middle;\n",
       "    }\n",
       "\n",
       "    .dataframe tbody tr th {\n",
       "        vertical-align: top;\n",
       "    }\n",
       "\n",
       "    .dataframe thead th {\n",
       "        text-align: right;\n",
       "    }\n",
       "</style>\n",
       "<table border=\"1\" class=\"dataframe\">\n",
       "  <thead>\n",
       "    <tr style=\"text-align: right;\">\n",
       "      <th></th>\n",
       "      <th>id</th>\n",
       "      <th>title</th>\n",
       "      <th>intro_or_body</th>\n",
       "      <th>sonnet_num</th>\n",
       "      <th>stanza_num</th>\n",
       "      <th>quatrain_num</th>\n",
       "      <th>quatrain_bool</th>\n",
       "      <th>stanzasmall_bool</th>\n",
       "      <th>couplet_bool</th>\n",
       "      <th>tercet_bool</th>\n",
       "      <th>dedication_bool</th>\n",
       "      <th>subtitle_bool</th>\n",
       "      <th>line</th>\n",
       "      <th>line_number_global</th>\n",
       "      <th>line_number</th>\n",
       "      <th>offset</th>\n",
       "      <th>rhyme</th>\n",
       "      <th>contains_tags</th>\n",
       "    </tr>\n",
       "  </thead>\n",
       "  <tbody>\n",
       "    <tr>\n",
       "      <th>5426</th>\n",
       "      <td>5427</td>\n",
       "      <td>Venus &amp; Adonis</td>\n",
       "      <td>Body</td>\n",
       "      <td>NaN</td>\n",
       "      <td>97.0</td>\n",
       "      <td>NaN</td>\n",
       "      <td>0</td>\n",
       "      <td>0</td>\n",
       "      <td>0</td>\n",
       "      <td>0</td>\n",
       "      <td>0</td>\n",
       "      <td>0</td>\n",
       "      <td>The poor fool prays her that he may depart.</td>\n",
       "      <td>584.0</td>\n",
       "      <td>287.0</td>\n",
       "      <td>NaN</td>\n",
       "      <td>NaN</td>\n",
       "      <td>NaN</td>\n",
       "    </tr>\n",
       "    <tr>\n",
       "      <th>5158</th>\n",
       "      <td>5159</td>\n",
       "      <td>Venus &amp; Adonis</td>\n",
       "      <td>Body</td>\n",
       "      <td>NaN</td>\n",
       "      <td>52.0</td>\n",
       "      <td>NaN</td>\n",
       "      <td>0</td>\n",
       "      <td>0</td>\n",
       "      <td>0</td>\n",
       "      <td>0</td>\n",
       "      <td>0</td>\n",
       "      <td>0</td>\n",
       "      <td>She puts on outward strangeness, seems unkind,</td>\n",
       "      <td>316.0</td>\n",
       "      <td>153.0</td>\n",
       "      <td>NaN</td>\n",
       "      <td>NaN</td>\n",
       "      <td>NaN</td>\n",
       "    </tr>\n",
       "    <tr>\n",
       "      <th>4457</th>\n",
       "      <td>4458</td>\n",
       "      <td>Sonnets</td>\n",
       "      <td>NaN</td>\n",
       "      <td>128.0</td>\n",
       "      <td>NaN</td>\n",
       "      <td>3.0</td>\n",
       "      <td>1</td>\n",
       "      <td>0</td>\n",
       "      <td>0</td>\n",
       "      <td>0</td>\n",
       "      <td>0</td>\n",
       "      <td>0</td>\n",
       "      <td>And situation with those dancing chips,</td>\n",
       "      <td>1789.0</td>\n",
       "      <td>13.0</td>\n",
       "      <td>NaN</td>\n",
       "      <td>c</td>\n",
       "      <td>NaN</td>\n",
       "    </tr>\n",
       "    <tr>\n",
       "      <th>2064</th>\n",
       "      <td>2065</td>\n",
       "      <td>The Rape of Lucrece</td>\n",
       "      <td>Body</td>\n",
       "      <td>NaN</td>\n",
       "      <td>179.0</td>\n",
       "      <td>NaN</td>\n",
       "      <td>0</td>\n",
       "      <td>0</td>\n",
       "      <td>0</td>\n",
       "      <td>0</td>\n",
       "      <td>0</td>\n",
       "      <td>0</td>\n",
       "      <td>Through crystal walls each little mote will peep;</td>\n",
       "      <td>1255.0</td>\n",
       "      <td>NaN</td>\n",
       "      <td>NaN</td>\n",
       "      <td>a</td>\n",
       "      <td>NaN</td>\n",
       "    </tr>\n",
       "    <tr>\n",
       "      <th>3809</th>\n",
       "      <td>3810</td>\n",
       "      <td>Sonnets</td>\n",
       "      <td>NaN</td>\n",
       "      <td>82.0</td>\n",
       "      <td>NaN</td>\n",
       "      <td>2.0</td>\n",
       "      <td>1</td>\n",
       "      <td>0</td>\n",
       "      <td>0</td>\n",
       "      <td>0</td>\n",
       "      <td>0</td>\n",
       "      <td>0</td>\n",
       "      <td>And therefore art enforc'd to seek anew</td>\n",
       "      <td>1141.0</td>\n",
       "      <td>11.0</td>\n",
       "      <td>NaN</td>\n",
       "      <td>a</td>\n",
       "      <td>NaN</td>\n",
       "    </tr>\n",
       "  </tbody>\n",
       "</table>\n",
       "</div>"
      ],
      "text/plain": [
       "        id                title intro_or_body  sonnet_num  stanza_num  \\\n",
       "5426  5427       Venus & Adonis          Body         NaN        97.0   \n",
       "5158  5159       Venus & Adonis          Body         NaN        52.0   \n",
       "4457  4458              Sonnets           NaN       128.0         NaN   \n",
       "2064  2065  The Rape of Lucrece          Body         NaN       179.0   \n",
       "3809  3810              Sonnets           NaN        82.0         NaN   \n",
       "\n",
       "      quatrain_num  quatrain_bool  stanzasmall_bool  couplet_bool  \\\n",
       "5426           NaN              0                 0             0   \n",
       "5158           NaN              0                 0             0   \n",
       "4457           3.0              1                 0             0   \n",
       "2064           NaN              0                 0             0   \n",
       "3809           2.0              1                 0             0   \n",
       "\n",
       "      tercet_bool  dedication_bool  subtitle_bool  \\\n",
       "5426            0                0              0   \n",
       "5158            0                0              0   \n",
       "4457            0                0              0   \n",
       "2064            0                0              0   \n",
       "3809            0                0              0   \n",
       "\n",
       "                                                   line  line_number_global  \\\n",
       "5426        The poor fool prays her that he may depart.               584.0   \n",
       "5158     She puts on outward strangeness, seems unkind,               316.0   \n",
       "4457            And situation with those dancing chips,              1789.0   \n",
       "2064  Through crystal walls each little mote will peep;              1255.0   \n",
       "3809            And therefore art enforc'd to seek anew              1141.0   \n",
       "\n",
       "      line_number  offset rhyme contains_tags  \n",
       "5426        287.0     NaN   NaN           NaN  \n",
       "5158        153.0     NaN   NaN           NaN  \n",
       "4457         13.0     NaN     c           NaN  \n",
       "2064          NaN     NaN     a           NaN  \n",
       "3809         11.0     NaN     a           NaN  "
      ]
     },
     "execution_count": 43,
     "metadata": {},
     "output_type": "execute_result"
    }
   ],
   "source": [
    "shakespeare_poems.sample(5)"
   ]
  },
  {
   "cell_type": "markdown",
   "metadata": {},
   "source": [
    "<div class=\"alert alert-block alert-info\">\n",
    "This dataset contains all of Shakespeare's poems. I have parsed out only the sonnets, including their line number in order to maintain the poems' orders. I am also forward-fillling the NaN line numbers in order to keep them together.</div>"
   ]
  },
  {
   "cell_type": "code",
   "execution_count": 44,
   "metadata": {},
   "outputs": [
    {
     "data": {
      "text/html": [
       "<div>\n",
       "<style scoped>\n",
       "    .dataframe tbody tr th:only-of-type {\n",
       "        vertical-align: middle;\n",
       "    }\n",
       "\n",
       "    .dataframe tbody tr th {\n",
       "        vertical-align: top;\n",
       "    }\n",
       "\n",
       "    .dataframe thead th {\n",
       "        text-align: right;\n",
       "    }\n",
       "</style>\n",
       "<table border=\"1\" class=\"dataframe\">\n",
       "  <thead>\n",
       "    <tr style=\"text-align: right;\">\n",
       "      <th></th>\n",
       "      <th>id</th>\n",
       "      <th>title</th>\n",
       "      <th>sonnet_num</th>\n",
       "      <th>line</th>\n",
       "      <th>line_number</th>\n",
       "    </tr>\n",
       "  </thead>\n",
       "  <tbody>\n",
       "    <tr>\n",
       "      <th>0</th>\n",
       "      <td>2670</td>\n",
       "      <td>Sonnets</td>\n",
       "      <td>1.0</td>\n",
       "      <td>From fairest creatures we desire increase,</td>\n",
       "      <td>1.0</td>\n",
       "    </tr>\n",
       "    <tr>\n",
       "      <th>1</th>\n",
       "      <td>2671</td>\n",
       "      <td>Sonnets</td>\n",
       "      <td>1.0</td>\n",
       "      <td>That thereby beauty's rose might never die,</td>\n",
       "      <td>NaN</td>\n",
       "    </tr>\n",
       "    <tr>\n",
       "      <th>2</th>\n",
       "      <td>2672</td>\n",
       "      <td>Sonnets</td>\n",
       "      <td>1.0</td>\n",
       "      <td>But as the riper should by time decease,</td>\n",
       "      <td>2.0</td>\n",
       "    </tr>\n",
       "    <tr>\n",
       "      <th>3</th>\n",
       "      <td>2673</td>\n",
       "      <td>Sonnets</td>\n",
       "      <td>1.0</td>\n",
       "      <td>His tender heir might bear his memory:</td>\n",
       "      <td>NaN</td>\n",
       "    </tr>\n",
       "    <tr>\n",
       "      <th>4</th>\n",
       "      <td>2674</td>\n",
       "      <td>Sonnets</td>\n",
       "      <td>1.0</td>\n",
       "      <td>But thou, contracted to thine own bright eyes,</td>\n",
       "      <td>3.0</td>\n",
       "    </tr>\n",
       "  </tbody>\n",
       "</table>\n",
       "</div>"
      ],
      "text/plain": [
       "     id    title  sonnet_num                                            line  \\\n",
       "0  2670  Sonnets         1.0      From fairest creatures we desire increase,   \n",
       "1  2671  Sonnets         1.0     That thereby beauty's rose might never die,   \n",
       "2  2672  Sonnets         1.0        But as the riper should by time decease,   \n",
       "3  2673  Sonnets         1.0          His tender heir might bear his memory:   \n",
       "4  2674  Sonnets         1.0  But thou, contracted to thine own bright eyes,   \n",
       "\n",
       "   line_number  \n",
       "0          1.0  \n",
       "1          NaN  \n",
       "2          2.0  \n",
       "3          NaN  \n",
       "4          3.0  "
      ]
     },
     "execution_count": 44,
     "metadata": {},
     "output_type": "execute_result"
    }
   ],
   "source": [
    "sonnets = shakespeare_poems[shakespeare_poems.title == 'Sonnets']\n",
    "sonnets = sonnets[['id', 'title', 'sonnet_num', 'line', 'line_number']].reset_index()\n",
    "sonnets.drop(columns=['index'], inplace=True)\n",
    "sonnets.head()"
   ]
  },
  {
   "cell_type": "code",
   "execution_count": 45,
   "metadata": {},
   "outputs": [
    {
     "data": {
      "text/html": [
       "<div>\n",
       "<style scoped>\n",
       "    .dataframe tbody tr th:only-of-type {\n",
       "        vertical-align: middle;\n",
       "    }\n",
       "\n",
       "    .dataframe tbody tr th {\n",
       "        vertical-align: top;\n",
       "    }\n",
       "\n",
       "    .dataframe thead th {\n",
       "        text-align: right;\n",
       "    }\n",
       "</style>\n",
       "<table border=\"1\" class=\"dataframe\">\n",
       "  <thead>\n",
       "    <tr style=\"text-align: right;\">\n",
       "      <th></th>\n",
       "      <th>id</th>\n",
       "      <th>title</th>\n",
       "      <th>sonnet_num</th>\n",
       "      <th>line</th>\n",
       "      <th>line_number</th>\n",
       "    </tr>\n",
       "  </thead>\n",
       "  <tbody>\n",
       "    <tr>\n",
       "      <th>0</th>\n",
       "      <td>2670</td>\n",
       "      <td>Sonnets</td>\n",
       "      <td>1.0</td>\n",
       "      <td>From fairest creatures we desire increase,</td>\n",
       "      <td>1.0</td>\n",
       "    </tr>\n",
       "    <tr>\n",
       "      <th>1</th>\n",
       "      <td>2671</td>\n",
       "      <td>Sonnets</td>\n",
       "      <td>1.0</td>\n",
       "      <td>That thereby beauty's rose might never die,</td>\n",
       "      <td>1.0</td>\n",
       "    </tr>\n",
       "    <tr>\n",
       "      <th>2</th>\n",
       "      <td>2672</td>\n",
       "      <td>Sonnets</td>\n",
       "      <td>1.0</td>\n",
       "      <td>But as the riper should by time decease,</td>\n",
       "      <td>2.0</td>\n",
       "    </tr>\n",
       "    <tr>\n",
       "      <th>3</th>\n",
       "      <td>2673</td>\n",
       "      <td>Sonnets</td>\n",
       "      <td>1.0</td>\n",
       "      <td>His tender heir might bear his memory:</td>\n",
       "      <td>2.0</td>\n",
       "    </tr>\n",
       "    <tr>\n",
       "      <th>4</th>\n",
       "      <td>2674</td>\n",
       "      <td>Sonnets</td>\n",
       "      <td>1.0</td>\n",
       "      <td>But thou, contracted to thine own bright eyes,</td>\n",
       "      <td>3.0</td>\n",
       "    </tr>\n",
       "  </tbody>\n",
       "</table>\n",
       "</div>"
      ],
      "text/plain": [
       "     id    title  sonnet_num                                            line  \\\n",
       "0  2670  Sonnets         1.0      From fairest creatures we desire increase,   \n",
       "1  2671  Sonnets         1.0     That thereby beauty's rose might never die,   \n",
       "2  2672  Sonnets         1.0        But as the riper should by time decease,   \n",
       "3  2673  Sonnets         1.0          His tender heir might bear his memory:   \n",
       "4  2674  Sonnets         1.0  But thou, contracted to thine own bright eyes,   \n",
       "\n",
       "   line_number  \n",
       "0          1.0  \n",
       "1          1.0  \n",
       "2          2.0  \n",
       "3          2.0  \n",
       "4          3.0  "
      ]
     },
     "execution_count": 45,
     "metadata": {},
     "output_type": "execute_result"
    }
   ],
   "source": [
    "sonnets['line_number'] = sonnets['line_number'].fillna(method='ffill', axis=0)\n",
    "sonnets.head()"
   ]
  },
  {
   "cell_type": "markdown",
   "metadata": {},
   "source": [
    "<div class=\"alert alert-block alert-info\"> Comparings this df to the main shake_df to see if they can/should be merged. The 154 sonnets are largely concerned with love, so the Traditional/Modern catagorization for (potential) sentiment analysis won'e match 1:1.\n",
    "</div>"
   ]
  },
  {
   "cell_type": "code",
   "execution_count": 46,
   "metadata": {},
   "outputs": [
    {
     "data": {
      "text/html": [
       "<div>\n",
       "<style scoped>\n",
       "    .dataframe tbody tr th:only-of-type {\n",
       "        vertical-align: middle;\n",
       "    }\n",
       "\n",
       "    .dataframe tbody tr th {\n",
       "        vertical-align: top;\n",
       "    }\n",
       "\n",
       "    .dataframe thead th {\n",
       "        text-align: right;\n",
       "    }\n",
       "</style>\n",
       "<table border=\"1\" class=\"dataframe\">\n",
       "  <thead>\n",
       "    <tr style=\"text-align: right;\">\n",
       "      <th></th>\n",
       "      <th>id</th>\n",
       "      <th>title</th>\n",
       "      <th>sonnet_num</th>\n",
       "      <th>line</th>\n",
       "      <th>line_number</th>\n",
       "    </tr>\n",
       "  </thead>\n",
       "  <tbody>\n",
       "    <tr>\n",
       "      <th>28</th>\n",
       "      <td>2698</td>\n",
       "      <td>Sonnets</td>\n",
       "      <td>3.0</td>\n",
       "      <td>Look in thy glass and tell the face thou viewest,</td>\n",
       "      <td>1.0</td>\n",
       "    </tr>\n",
       "    <tr>\n",
       "      <th>1032</th>\n",
       "      <td>3702</td>\n",
       "      <td>Sonnets</td>\n",
       "      <td>74.0</td>\n",
       "      <td>The coward conquest of a wretch's knife,</td>\n",
       "      <td>13.0</td>\n",
       "    </tr>\n",
       "    <tr>\n",
       "      <th>731</th>\n",
       "      <td>3401</td>\n",
       "      <td>Sonnets</td>\n",
       "      <td>53.0</td>\n",
       "      <td>And you, but one, can every shadow lend:</td>\n",
       "      <td>2.0</td>\n",
       "    </tr>\n",
       "    <tr>\n",
       "      <th>826</th>\n",
       "      <td>3496</td>\n",
       "      <td>Sonnets</td>\n",
       "      <td>60.0</td>\n",
       "      <td>Like as the waves make towards the pibbled shore,</td>\n",
       "      <td>8.0</td>\n",
       "    </tr>\n",
       "    <tr>\n",
       "      <th>183</th>\n",
       "      <td>2853</td>\n",
       "      <td>Sonnets</td>\n",
       "      <td>14.0</td>\n",
       "      <td>And yet methinks I have astronomy,</td>\n",
       "      <td>8.0</td>\n",
       "    </tr>\n",
       "  </tbody>\n",
       "</table>\n",
       "</div>"
      ],
      "text/plain": [
       "        id    title  sonnet_num  \\\n",
       "28    2698  Sonnets         3.0   \n",
       "1032  3702  Sonnets        74.0   \n",
       "731   3401  Sonnets        53.0   \n",
       "826   3496  Sonnets        60.0   \n",
       "183   2853  Sonnets        14.0   \n",
       "\n",
       "                                                   line  line_number  \n",
       "28    Look in thy glass and tell the face thou viewest,          1.0  \n",
       "1032           The coward conquest of a wretch's knife,         13.0  \n",
       "731            And you, but one, can every shadow lend:          2.0  \n",
       "826   Like as the waves make towards the pibbled shore,          8.0  \n",
       "183                  And yet methinks I have astronomy,          8.0  "
      ]
     },
     "execution_count": 46,
     "metadata": {},
     "output_type": "execute_result"
    }
   ],
   "source": [
    "sonnets.sample(5)"
   ]
  },
  {
   "cell_type": "code",
   "execution_count": 47,
   "metadata": {},
   "outputs": [
    {
     "data": {
      "text/html": [
       "<div>\n",
       "<style scoped>\n",
       "    .dataframe tbody tr th:only-of-type {\n",
       "        vertical-align: middle;\n",
       "    }\n",
       "\n",
       "    .dataframe tbody tr th {\n",
       "        vertical-align: top;\n",
       "    }\n",
       "\n",
       "    .dataframe thead th {\n",
       "        text-align: right;\n",
       "    }\n",
       "</style>\n",
       "<table border=\"1\" class=\"dataframe\">\n",
       "  <thead>\n",
       "    <tr style=\"text-align: right;\">\n",
       "      <th></th>\n",
       "      <th>Dataline</th>\n",
       "      <th>Play</th>\n",
       "      <th>PlayerLinenumber</th>\n",
       "      <th>ActSceneLine</th>\n",
       "      <th>Player</th>\n",
       "      <th>PlayerLine</th>\n",
       "      <th>Traditional</th>\n",
       "      <th>Modern</th>\n",
       "    </tr>\n",
       "  </thead>\n",
       "  <tbody>\n",
       "    <tr>\n",
       "      <th>44107</th>\n",
       "      <td>44108</td>\n",
       "      <td>king john</td>\n",
       "      <td>71.0</td>\n",
       "      <td>2.1.320</td>\n",
       "      <td>French Herald</td>\n",
       "      <td>Enter English Herald, with trumpet</td>\n",
       "      <td>history</td>\n",
       "      <td>tragedy</td>\n",
       "    </tr>\n",
       "    <tr>\n",
       "      <th>43537</th>\n",
       "      <td>43538</td>\n",
       "      <td>king john</td>\n",
       "      <td>13.0</td>\n",
       "      <td>1.1.44</td>\n",
       "      <td>QUEEN ELINOR</td>\n",
       "      <td>Enter a Sheriff</td>\n",
       "      <td>history</td>\n",
       "      <td>tragedy</td>\n",
       "    </tr>\n",
       "    <tr>\n",
       "      <th>58696</th>\n",
       "      <td>58697</td>\n",
       "      <td>measure for measure</td>\n",
       "      <td>7.0</td>\n",
       "      <td>1.3.41</td>\n",
       "      <td>DUKE VINCENTIO</td>\n",
       "      <td>When evil deeds have their permissive pass</td>\n",
       "      <td>comedy</td>\n",
       "      <td>comedy</td>\n",
       "    </tr>\n",
       "    <tr>\n",
       "      <th>64753</th>\n",
       "      <td>64754</td>\n",
       "      <td>merry wives of windsor</td>\n",
       "      <td>1.0</td>\n",
       "      <td>2.1.16</td>\n",
       "      <td>MISTRESS PAGE</td>\n",
       "      <td>Or any kind of light,</td>\n",
       "      <td>comedy</td>\n",
       "      <td>comedy</td>\n",
       "    </tr>\n",
       "    <tr>\n",
       "      <th>14090</th>\n",
       "      <td>14091</td>\n",
       "      <td>alls well that ends well</td>\n",
       "      <td>9.0</td>\n",
       "      <td>3.2.25</td>\n",
       "      <td>COUNTESS</td>\n",
       "      <td>BERTRAM.</td>\n",
       "      <td>comedy</td>\n",
       "      <td>comedy</td>\n",
       "    </tr>\n",
       "  </tbody>\n",
       "</table>\n",
       "</div>"
      ],
      "text/plain": [
       "       Dataline                      Play  PlayerLinenumber ActSceneLine  \\\n",
       "44107     44108                 king john              71.0      2.1.320   \n",
       "43537     43538                 king john              13.0       1.1.44   \n",
       "58696     58697       measure for measure               7.0       1.3.41   \n",
       "64753     64754    merry wives of windsor               1.0       2.1.16   \n",
       "14090     14091  alls well that ends well               9.0       3.2.25   \n",
       "\n",
       "               Player                                  PlayerLine Traditional  \\\n",
       "44107   French Herald          Enter English Herald, with trumpet     history   \n",
       "43537    QUEEN ELINOR                             Enter a Sheriff     history   \n",
       "58696  DUKE VINCENTIO  When evil deeds have their permissive pass      comedy   \n",
       "64753   MISTRESS PAGE                       Or any kind of light,      comedy   \n",
       "14090        COUNTESS                                    BERTRAM.      comedy   \n",
       "\n",
       "        Modern  \n",
       "44107  tragedy  \n",
       "43537  tragedy  \n",
       "58696   comedy  \n",
       "64753   comedy  \n",
       "14090   comedy  "
      ]
     },
     "execution_count": 47,
     "metadata": {},
     "output_type": "execute_result"
    }
   ],
   "source": [
    "shake_df.sample(5)"
   ]
  },
  {
   "cell_type": "markdown",
   "metadata": {},
   "source": [
    "<div class=\"alert alert-block alert-info\"> Make the sonnets lower case and combine the `title` and `sonnet_num' column. Also converting the line_number column of the sonnets into a form that coincides with the plays `ActSceneLine` column. Finally, the shake_df has an ordered column called DataLine that ends at 111396. I am starting the sonnets id column at 111397 so that I can concatenante the two dfs together\n",
    "</div>"
   ]
  },
  {
   "cell_type": "code",
   "execution_count": 49,
   "metadata": {},
   "outputs": [],
   "source": [
    "sonnets['title'] = 'sonnet'\n",
    "sonnets['sonnet_num'] = sonnets['sonnet_num'].astype(int).astype(str)"
   ]
  },
  {
   "cell_type": "code",
   "execution_count": 50,
   "metadata": {},
   "outputs": [],
   "source": [
    "sonnets_df = sonnets\n",
    "sonnets_df['title'] = sonnets['title'] + ' ' + sonnets['sonnet_num']\n",
    "sonnets_df.drop(columns=['sonnet_num'], inplace=True)"
   ]
  },
  {
   "cell_type": "code",
   "execution_count": 51,
   "metadata": {},
   "outputs": [
    {
     "data": {
      "text/html": [
       "<div>\n",
       "<style scoped>\n",
       "    .dataframe tbody tr th:only-of-type {\n",
       "        vertical-align: middle;\n",
       "    }\n",
       "\n",
       "    .dataframe tbody tr th {\n",
       "        vertical-align: top;\n",
       "    }\n",
       "\n",
       "    .dataframe thead th {\n",
       "        text-align: right;\n",
       "    }\n",
       "</style>\n",
       "<table border=\"1\" class=\"dataframe\">\n",
       "  <thead>\n",
       "    <tr style=\"text-align: right;\">\n",
       "      <th></th>\n",
       "      <th>id</th>\n",
       "      <th>title</th>\n",
       "      <th>line</th>\n",
       "      <th>line_number</th>\n",
       "    </tr>\n",
       "  </thead>\n",
       "  <tbody>\n",
       "    <tr>\n",
       "      <th>0</th>\n",
       "      <td>2670</td>\n",
       "      <td>sonnet 1</td>\n",
       "      <td>From fairest creatures we desire increase,</td>\n",
       "      <td>1.0</td>\n",
       "    </tr>\n",
       "    <tr>\n",
       "      <th>1</th>\n",
       "      <td>2671</td>\n",
       "      <td>sonnet 1</td>\n",
       "      <td>That thereby beauty's rose might never die,</td>\n",
       "      <td>1.0</td>\n",
       "    </tr>\n",
       "    <tr>\n",
       "      <th>2</th>\n",
       "      <td>2672</td>\n",
       "      <td>sonnet 1</td>\n",
       "      <td>But as the riper should by time decease,</td>\n",
       "      <td>2.0</td>\n",
       "    </tr>\n",
       "    <tr>\n",
       "      <th>3</th>\n",
       "      <td>2673</td>\n",
       "      <td>sonnet 1</td>\n",
       "      <td>His tender heir might bear his memory:</td>\n",
       "      <td>2.0</td>\n",
       "    </tr>\n",
       "    <tr>\n",
       "      <th>4</th>\n",
       "      <td>2674</td>\n",
       "      <td>sonnet 1</td>\n",
       "      <td>But thou, contracted to thine own bright eyes,</td>\n",
       "      <td>3.0</td>\n",
       "    </tr>\n",
       "  </tbody>\n",
       "</table>\n",
       "</div>"
      ],
      "text/plain": [
       "     id     title                                            line  line_number\n",
       "0  2670  sonnet 1      From fairest creatures we desire increase,          1.0\n",
       "1  2671  sonnet 1     That thereby beauty's rose might never die,          1.0\n",
       "2  2672  sonnet 1        But as the riper should by time decease,          2.0\n",
       "3  2673  sonnet 1          His tender heir might bear his memory:          2.0\n",
       "4  2674  sonnet 1  But thou, contracted to thine own bright eyes,          3.0"
      ]
     },
     "execution_count": 51,
     "metadata": {},
     "output_type": "execute_result"
    }
   ],
   "source": [
    "sonnets_df.head()"
   ]
  },
  {
   "cell_type": "code",
   "execution_count": 52,
   "metadata": {},
   "outputs": [],
   "source": [
    "sonnets_df2 = sonnets_df.copy(deep=True)"
   ]
  },
  {
   "cell_type": "code",
   "execution_count": 53,
   "metadata": {},
   "outputs": [],
   "source": [
    "sonnets_df2.id = sonnets_df2.id + 108727\n"
   ]
  },
  {
   "cell_type": "code",
   "execution_count": 54,
   "metadata": {},
   "outputs": [
    {
     "data": {
      "text/html": [
       "<div>\n",
       "<style scoped>\n",
       "    .dataframe tbody tr th:only-of-type {\n",
       "        vertical-align: middle;\n",
       "    }\n",
       "\n",
       "    .dataframe tbody tr th {\n",
       "        vertical-align: top;\n",
       "    }\n",
       "\n",
       "    .dataframe thead th {\n",
       "        text-align: right;\n",
       "    }\n",
       "</style>\n",
       "<table border=\"1\" class=\"dataframe\">\n",
       "  <thead>\n",
       "    <tr style=\"text-align: right;\">\n",
       "      <th></th>\n",
       "      <th>id</th>\n",
       "      <th>title</th>\n",
       "      <th>line</th>\n",
       "      <th>line_number</th>\n",
       "    </tr>\n",
       "  </thead>\n",
       "  <tbody>\n",
       "    <tr>\n",
       "      <th>0</th>\n",
       "      <td>111397</td>\n",
       "      <td>sonnet 1</td>\n",
       "      <td>From fairest creatures we desire increase,</td>\n",
       "      <td>1.0</td>\n",
       "    </tr>\n",
       "    <tr>\n",
       "      <th>1</th>\n",
       "      <td>111398</td>\n",
       "      <td>sonnet 1</td>\n",
       "      <td>That thereby beauty's rose might never die,</td>\n",
       "      <td>1.0</td>\n",
       "    </tr>\n",
       "    <tr>\n",
       "      <th>2</th>\n",
       "      <td>111399</td>\n",
       "      <td>sonnet 1</td>\n",
       "      <td>But as the riper should by time decease,</td>\n",
       "      <td>2.0</td>\n",
       "    </tr>\n",
       "    <tr>\n",
       "      <th>3</th>\n",
       "      <td>111400</td>\n",
       "      <td>sonnet 1</td>\n",
       "      <td>His tender heir might bear his memory:</td>\n",
       "      <td>2.0</td>\n",
       "    </tr>\n",
       "    <tr>\n",
       "      <th>4</th>\n",
       "      <td>111401</td>\n",
       "      <td>sonnet 1</td>\n",
       "      <td>But thou, contracted to thine own bright eyes,</td>\n",
       "      <td>3.0</td>\n",
       "    </tr>\n",
       "  </tbody>\n",
       "</table>\n",
       "</div>"
      ],
      "text/plain": [
       "       id     title                                            line  \\\n",
       "0  111397  sonnet 1      From fairest creatures we desire increase,   \n",
       "1  111398  sonnet 1     That thereby beauty's rose might never die,   \n",
       "2  111399  sonnet 1        But as the riper should by time decease,   \n",
       "3  111400  sonnet 1          His tender heir might bear his memory:   \n",
       "4  111401  sonnet 1  But thou, contracted to thine own bright eyes,   \n",
       "\n",
       "   line_number  \n",
       "0          1.0  \n",
       "1          1.0  \n",
       "2          2.0  \n",
       "3          2.0  \n",
       "4          3.0  "
      ]
     },
     "execution_count": 54,
     "metadata": {},
     "output_type": "execute_result"
    }
   ],
   "source": [
    "sonnets_df2.head()"
   ]
  },
  {
   "cell_type": "code",
   "execution_count": 55,
   "metadata": {},
   "outputs": [],
   "source": [
    "sonnets_df2 = sonnets_df2.rename(columns={'id':'Dataline', 'title':'Play', 'line':'Line', 'line_number':'ActSceneLine'})\n",
    "\n"
   ]
  },
  {
   "cell_type": "code",
   "execution_count": 56,
   "metadata": {},
   "outputs": [],
   "source": [
    "sonnets_df2['ActSceneLine'] = sonnets_df2['ActSceneLine'].astype(int).astype(str)\n",
    "sonnets_df2['ActSceneLine'] = '0.0.' + sonnets_df2['ActSceneLine']"
   ]
  },
  {
   "cell_type": "code",
   "execution_count": 57,
   "metadata": {},
   "outputs": [
    {
     "data": {
      "text/html": [
       "<div>\n",
       "<style scoped>\n",
       "    .dataframe tbody tr th:only-of-type {\n",
       "        vertical-align: middle;\n",
       "    }\n",
       "\n",
       "    .dataframe tbody tr th {\n",
       "        vertical-align: top;\n",
       "    }\n",
       "\n",
       "    .dataframe thead th {\n",
       "        text-align: right;\n",
       "    }\n",
       "</style>\n",
       "<table border=\"1\" class=\"dataframe\">\n",
       "  <thead>\n",
       "    <tr style=\"text-align: right;\">\n",
       "      <th></th>\n",
       "      <th>Dataline</th>\n",
       "      <th>Play</th>\n",
       "      <th>Line</th>\n",
       "      <th>ActSceneLine</th>\n",
       "    </tr>\n",
       "  </thead>\n",
       "  <tbody>\n",
       "    <tr>\n",
       "      <th>0</th>\n",
       "      <td>111397</td>\n",
       "      <td>sonnet 1</td>\n",
       "      <td>From fairest creatures we desire increase,</td>\n",
       "      <td>0.0.1</td>\n",
       "    </tr>\n",
       "    <tr>\n",
       "      <th>1</th>\n",
       "      <td>111398</td>\n",
       "      <td>sonnet 1</td>\n",
       "      <td>That thereby beauty's rose might never die,</td>\n",
       "      <td>0.0.1</td>\n",
       "    </tr>\n",
       "    <tr>\n",
       "      <th>2</th>\n",
       "      <td>111399</td>\n",
       "      <td>sonnet 1</td>\n",
       "      <td>But as the riper should by time decease,</td>\n",
       "      <td>0.0.2</td>\n",
       "    </tr>\n",
       "    <tr>\n",
       "      <th>3</th>\n",
       "      <td>111400</td>\n",
       "      <td>sonnet 1</td>\n",
       "      <td>His tender heir might bear his memory:</td>\n",
       "      <td>0.0.2</td>\n",
       "    </tr>\n",
       "    <tr>\n",
       "      <th>4</th>\n",
       "      <td>111401</td>\n",
       "      <td>sonnet 1</td>\n",
       "      <td>But thou, contracted to thine own bright eyes,</td>\n",
       "      <td>0.0.3</td>\n",
       "    </tr>\n",
       "  </tbody>\n",
       "</table>\n",
       "</div>"
      ],
      "text/plain": [
       "   Dataline      Play                                            Line  \\\n",
       "0    111397  sonnet 1      From fairest creatures we desire increase,   \n",
       "1    111398  sonnet 1     That thereby beauty's rose might never die,   \n",
       "2    111399  sonnet 1        But as the riper should by time decease,   \n",
       "3    111400  sonnet 1          His tender heir might bear his memory:   \n",
       "4    111401  sonnet 1  But thou, contracted to thine own bright eyes,   \n",
       "\n",
       "  ActSceneLine  \n",
       "0        0.0.1  \n",
       "1        0.0.1  \n",
       "2        0.0.2  \n",
       "3        0.0.2  \n",
       "4        0.0.3  "
      ]
     },
     "execution_count": 57,
     "metadata": {},
     "output_type": "execute_result"
    }
   ],
   "source": [
    "sonnets_df2.head()"
   ]
  },
  {
   "cell_type": "code",
   "execution_count": 58,
   "metadata": {},
   "outputs": [],
   "source": [
    "shake_df2 = shake_df[['Dataline', 'Play', 'PlayerLine', 'ActSceneLine']]"
   ]
  },
  {
   "cell_type": "code",
   "execution_count": 59,
   "metadata": {},
   "outputs": [],
   "source": [
    "shake_df2 = shake_df2.rename(columns={'PlayerLine':'Line'})"
   ]
  },
  {
   "cell_type": "code",
   "execution_count": 60,
   "metadata": {},
   "outputs": [
    {
     "name": "stdout",
     "output_type": "stream",
     "text": [
      "(111396, 4)\n",
      "(2157, 4)\n"
     ]
    }
   ],
   "source": [
    "print(shake_df2.shape)\n",
    "print(sonnets_df2.shape)"
   ]
  },
  {
   "cell_type": "code",
   "execution_count": 61,
   "metadata": {},
   "outputs": [
    {
     "name": "stdout",
     "output_type": "stream",
     "text": [
      "The lines_df has 113553 rows and 4 columns.\n"
     ]
    }
   ],
   "source": [
    "lines_df = pd.concat([shake_df2, sonnets_df2], ignore_index=True)\n",
    "print('The lines_df has', lines_df.shape[0], 'rows and', lines_df.shape[1], 'columns.')"
   ]
  },
  {
   "cell_type": "code",
   "execution_count": 62,
   "metadata": {},
   "outputs": [
    {
     "data": {
      "text/html": [
       "<div>\n",
       "<style scoped>\n",
       "    .dataframe tbody tr th:only-of-type {\n",
       "        vertical-align: middle;\n",
       "    }\n",
       "\n",
       "    .dataframe tbody tr th {\n",
       "        vertical-align: top;\n",
       "    }\n",
       "\n",
       "    .dataframe thead th {\n",
       "        text-align: right;\n",
       "    }\n",
       "</style>\n",
       "<table border=\"1\" class=\"dataframe\">\n",
       "  <thead>\n",
       "    <tr style=\"text-align: right;\">\n",
       "      <th></th>\n",
       "      <th>Dataline</th>\n",
       "      <th>Play</th>\n",
       "      <th>Line</th>\n",
       "      <th>ActSceneLine</th>\n",
       "    </tr>\n",
       "  </thead>\n",
       "  <tbody>\n",
       "    <tr>\n",
       "      <th>0</th>\n",
       "      <td>1</td>\n",
       "      <td>henry iv</td>\n",
       "      <td>ACT I</td>\n",
       "      <td>1.1.1</td>\n",
       "    </tr>\n",
       "    <tr>\n",
       "      <th>1</th>\n",
       "      <td>2</td>\n",
       "      <td>henry iv</td>\n",
       "      <td>SCENE I. London. The palace.</td>\n",
       "      <td>1.1.1</td>\n",
       "    </tr>\n",
       "    <tr>\n",
       "      <th>2</th>\n",
       "      <td>3</td>\n",
       "      <td>henry iv</td>\n",
       "      <td>Enter KING HENRY, LORD JOHN OF LANCASTER, the EARL of WESTMORELAND, SIR WALTER BLUNT, and others</td>\n",
       "      <td>1.1.1</td>\n",
       "    </tr>\n",
       "    <tr>\n",
       "      <th>3</th>\n",
       "      <td>4</td>\n",
       "      <td>henry iv</td>\n",
       "      <td>So shaken as we are, so wan with care,</td>\n",
       "      <td>1.1.1</td>\n",
       "    </tr>\n",
       "    <tr>\n",
       "      <th>4</th>\n",
       "      <td>5</td>\n",
       "      <td>henry iv</td>\n",
       "      <td>Find we a time for frighted peace to pant,</td>\n",
       "      <td>1.1.2</td>\n",
       "    </tr>\n",
       "  </tbody>\n",
       "</table>\n",
       "</div>"
      ],
      "text/plain": [
       "   Dataline      Play  \\\n",
       "0         1  henry iv   \n",
       "1         2  henry iv   \n",
       "2         3  henry iv   \n",
       "3         4  henry iv   \n",
       "4         5  henry iv   \n",
       "\n",
       "                                                                                               Line  \\\n",
       "0                                                                                             ACT I   \n",
       "1                                                                      SCENE I. London. The palace.   \n",
       "2  Enter KING HENRY, LORD JOHN OF LANCASTER, the EARL of WESTMORELAND, SIR WALTER BLUNT, and others   \n",
       "3                                                            So shaken as we are, so wan with care,   \n",
       "4                                                        Find we a time for frighted peace to pant,   \n",
       "\n",
       "  ActSceneLine  \n",
       "0        1.1.1  \n",
       "1        1.1.1  \n",
       "2        1.1.1  \n",
       "3        1.1.1  \n",
       "4        1.1.2  "
      ]
     },
     "execution_count": 62,
     "metadata": {},
     "output_type": "execute_result"
    }
   ],
   "source": [
    "lines_df.head()"
   ]
  },
  {
   "cell_type": "code",
   "execution_count": 63,
   "metadata": {},
   "outputs": [
    {
     "data": {
      "text/html": [
       "<div>\n",
       "<style scoped>\n",
       "    .dataframe tbody tr th:only-of-type {\n",
       "        vertical-align: middle;\n",
       "    }\n",
       "\n",
       "    .dataframe tbody tr th {\n",
       "        vertical-align: top;\n",
       "    }\n",
       "\n",
       "    .dataframe thead th {\n",
       "        text-align: right;\n",
       "    }\n",
       "</style>\n",
       "<table border=\"1\" class=\"dataframe\">\n",
       "  <thead>\n",
       "    <tr style=\"text-align: right;\">\n",
       "      <th></th>\n",
       "      <th>Dataline</th>\n",
       "      <th>Play</th>\n",
       "      <th>Line</th>\n",
       "      <th>ActSceneLine</th>\n",
       "    </tr>\n",
       "  </thead>\n",
       "  <tbody>\n",
       "    <tr>\n",
       "      <th>113548</th>\n",
       "      <td>113549</td>\n",
       "      <td>sonnet 154</td>\n",
       "      <td>Which from Love's fire took heat perpetual,</td>\n",
       "      <td>0.0.13</td>\n",
       "    </tr>\n",
       "    <tr>\n",
       "      <th>113549</th>\n",
       "      <td>113550</td>\n",
       "      <td>sonnet 154</td>\n",
       "      <td>Growing a bath and healthful remedy</td>\n",
       "      <td>0.0.13</td>\n",
       "    </tr>\n",
       "    <tr>\n",
       "      <th>113550</th>\n",
       "      <td>113551</td>\n",
       "      <td>sonnet 154</td>\n",
       "      <td>For men diseas'd, but I, my mistress' thrall,</td>\n",
       "      <td>0.0.14</td>\n",
       "    </tr>\n",
       "    <tr>\n",
       "      <th>113551</th>\n",
       "      <td>113552</td>\n",
       "      <td>sonnet 154</td>\n",
       "      <td>Came there for cure, and this by that I prove:</td>\n",
       "      <td>0.0.14</td>\n",
       "    </tr>\n",
       "    <tr>\n",
       "      <th>113552</th>\n",
       "      <td>113553</td>\n",
       "      <td>sonnet 154</td>\n",
       "      <td>Love's fire heats water, water cools not love.</td>\n",
       "      <td>0.0.1</td>\n",
       "    </tr>\n",
       "  </tbody>\n",
       "</table>\n",
       "</div>"
      ],
      "text/plain": [
       "        Dataline        Play                                            Line  \\\n",
       "113548    113549  sonnet 154     Which from Love's fire took heat perpetual,   \n",
       "113549    113550  sonnet 154             Growing a bath and healthful remedy   \n",
       "113550    113551  sonnet 154   For men diseas'd, but I, my mistress' thrall,   \n",
       "113551    113552  sonnet 154  Came there for cure, and this by that I prove:   \n",
       "113552    113553  sonnet 154  Love's fire heats water, water cools not love.   \n",
       "\n",
       "       ActSceneLine  \n",
       "113548       0.0.13  \n",
       "113549       0.0.13  \n",
       "113550       0.0.14  \n",
       "113551       0.0.14  \n",
       "113552        0.0.1  "
      ]
     },
     "execution_count": 63,
     "metadata": {},
     "output_type": "execute_result"
    }
   ],
   "source": [
    "lines_df.tail()"
   ]
  },
  {
   "cell_type": "code",
   "execution_count": 65,
   "metadata": {},
   "outputs": [],
   "source": [
    "datapath = '../data'"
   ]
  },
  {
   "cell_type": "code",
   "execution_count": 67,
   "metadata": {},
   "outputs": [],
   "source": [
    "import os"
   ]
  },
  {
   "cell_type": "code",
   "execution_count": 68,
   "metadata": {},
   "outputs": [],
   "source": [
    "datapath_lines_df = os.path.join(datapath, 'lines_cleaned.csv')\n",
    "lines_df.to_csv(datapath_lines_df, index=False)"
   ]
  },
  {
   "cell_type": "code",
   "execution_count": 69,
   "metadata": {},
   "outputs": [],
   "source": [
    "datapath_shake_df = os.path.join(datapath, 'shake_plays_cleaned.csv')\n",
    "shake_df.to_csv(datapath_shake_df, index=False)"
   ]
  },
  {
   "cell_type": "code",
   "execution_count": 70,
   "metadata": {},
   "outputs": [],
   "source": [
    "datapath_sonnets_df2 = os.path.join(datapath, 'shake_sonnets_cleaned.csv')\n",
    "sonnets_df2.to_csv(datapath_sonnets_df2, index=False)"
   ]
  },
  {
   "cell_type": "code",
   "execution_count": null,
   "metadata": {},
   "outputs": [],
   "source": []
  }
 ],
 "metadata": {
  "kernelspec": {
   "display_name": "Python 3",
   "language": "python",
   "name": "python3"
  },
  "language_info": {
   "codemirror_mode": {
    "name": "ipython",
    "version": 3
   },
   "file_extension": ".py",
   "mimetype": "text/x-python",
   "name": "python",
   "nbconvert_exporter": "python",
   "pygments_lexer": "ipython3",
   "version": "3.8.3"
  }
 },
 "nbformat": 4,
 "nbformat_minor": 4
}
