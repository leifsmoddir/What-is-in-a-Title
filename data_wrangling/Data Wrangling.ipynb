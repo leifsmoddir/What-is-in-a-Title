{
 "cells": [
  {
   "cell_type": "code",
   "execution_count": 2,
   "metadata": {},
   "outputs": [],
   "source": [
    "import pandas as pd\n",
    "import collections\n",
    "import fuzzywuzzy\n",
    "from fuzzywuzzy import process\n",
    "import pprint"
   ]
  },
  {
   "cell_type": "markdown",
   "metadata": {},
   "source": [
    "Using data from Wikipedia, I've generate two dictionaries for the categorization of Shakespeare's plays. The first dictionary `play_cat_strict` uses the traditional categorization of plays into comedy, history, and tragedy. The second dictionary `play_cat_modern` has been reorganized to better reflect the tone of the play. Histories have been collapsed into the tragedy category and tragicomedies have been grouped as romances. "
   ]
  },
  {
   "cell_type": "code",
   "execution_count": 3,
   "metadata": {},
   "outputs": [
    {
     "name": "stdout",
     "output_type": "stream",
     "text": [
      "Number of plays per category in the strict dataset\n",
      "Comedy : 16\n",
      "History : 11\n",
      "Tragedy : 12\n",
      "Number of plays per category in the modern dataset\n",
      "Comedy : 12\n",
      "Romance : 5\n",
      "Tragedy : 22\n"
     ]
    }
   ],
   "source": [
    "play_cat_strict = {'Comedy' : ['The Tempest',  'The Two Gentlemen of Verona',  'The Merry Wives of Windsor',  'Measure for Measure',  'The Comedy of Errors',  'Much Ado About Nothing',  'Loves Labours Lost',  'A Midsummer Nights Dream',  'The Merchant of Venice',  'As You Like It',  'The Taming of the Shrew',  'Alls Well That Ends Well',  'Twelfth Night',  'The Winters Tale',  'Pericles, Prince of Tyre',  'The Two Noble Kinsmen'], 'History' : ['King John', 'Edward III',  'Richard II',  'Henry IV, Part 1',  'Henry IV, Part 2',  'Henry V',  'Henry VI, Part 1',  'Henry VI, Part 2',  'Henry VI, Part 3',  'Richard III',  'Henry VIII'], 'Tragedy' : ['Troilus and Cressida', 'Coriolanus', 'Titus Andronicus',  'Romeo and Juliet',  'Timon of Athens',  'Julius Caesar',  'Macbeth',  'Hamlet',  'King Lear',  'Othello',  'Antony and Cleopatra',  'Cymbeline']}\n",
    "print('Number of plays per category in the strict dataset')\n",
    "for cat, plays in play_cat_strict.items():\n",
    "    print(cat, ':', len(plays))\n",
    "\n",
    "play_cat_modern = {'Comedy' : ['The Two Gentlemen of Verona',  'The Merry Wives of Windsor',  'Measure for Measure',  'The Comedy of Errors',  'Much Ado About Nothing',  'Loves Labours Lost',  'A Midsummer Nights Dream',  'The Merchant of Venice',  'As You Like It',  'The Taming of the Shrew',  'Alls Well That Ends Well',  'Twelfth Night'], 'Romance' : ['Pericles, Prince of Tyre',  'Cymbeline',  'The Winters Tale',  'The Tempest',  'The Two Noble Kinsmen'],  'Tragedy' : ['Troilus and Cressida', 'Coriolanus', 'Titus Andronicus',  'Romeo and Juliet',  'Timon of Athens',  'Julius Caesar',  'Macbeth',  'Hamlet',  'King Lear',  'Othello',  'Antony and Cleopatra', 'King John', 'Edward III',  'Richard II',  'Henry IV, Part 1',  'Henry IV, Part 2',  'Henry V',  'Henry VI, Part 1',  'Henry VI, Part 2',  'Henry VI, Part 3',  'Richard III',  'Henry VIII']}\n",
    "print('Number of plays per category in the modern dataset')\n",
    "for cat, plays in play_cat_modern.items():\n",
    "    print(cat, ':', len(plays))"
   ]
  },
  {
   "cell_type": "markdown",
   "metadata": {},
   "source": [
    "I am grouping like this to keep my options open during sentiment analysis. There may be discernable differences in tone between comedies and tragedies (light/dark, happy/sad, fun/serious). Simimaly, the histories category may be more neutral (strict dataset) or appropriately binned as a tragedy (modern). Finally, the romance plays are are different from the rest in that they are a mixture of comedy and tradegy, and the comingling may muddy sentiment analysis of the strict dataset."
   ]
  },
  {
   "cell_type": "code",
   "execution_count": 4,
   "metadata": {},
   "outputs": [],
   "source": [
    "wiki_plays = collections.OrderedDict()\n",
    "\n",
    "for cat, plays in play_cat_strict.items():\n",
    "    for i in range(len(plays)):\n",
    "        wiki_plays[plays[i]] = []\n",
    "        wiki_plays[plays[i]].append(cat)\n",
    "\n",
    "for cat, plays in play_cat_modern.items():\n",
    "    for i in range(len(plays)):\n",
    "        wiki_plays[plays[i]].append(cat)"
   ]
  },
  {
   "cell_type": "code",
   "execution_count": 5,
   "metadata": {},
   "outputs": [
    {
     "name": "stdout",
     "output_type": "stream",
     "text": [
      "['Comedy', 'Romance']\n"
     ]
    }
   ],
   "source": [
    "print(wiki_plays['The Tempest'])"
   ]
  },
  {
   "cell_type": "code",
   "execution_count": 6,
   "metadata": {},
   "outputs": [
    {
     "name": "stdout",
     "output_type": "stream",
     "text": [
      "<class 'pandas.core.frame.DataFrame'>\n",
      "Index: 39 entries, The Tempest to Cymbeline\n",
      "Data columns (total 2 columns):\n",
      " #   Column  Non-Null Count  Dtype \n",
      "---  ------  --------------  ----- \n",
      " 0   Strict  39 non-null     object\n",
      " 1   Modern  39 non-null     object\n",
      "dtypes: object(2)\n",
      "memory usage: 936.0+ bytes\n"
     ]
    }
   ],
   "source": [
    "wiki_df = pd.DataFrame.from_dict(wiki_plays, orient='index', columns=['Strict', 'Modern'])\n",
    "wiki_df.info()"
   ]
  },
  {
   "cell_type": "code",
   "execution_count": 7,
   "metadata": {},
   "outputs": [
    {
     "data": {
      "text/html": [
       "<div>\n",
       "<style scoped>\n",
       "    .dataframe tbody tr th:only-of-type {\n",
       "        vertical-align: middle;\n",
       "    }\n",
       "\n",
       "    .dataframe tbody tr th {\n",
       "        vertical-align: top;\n",
       "    }\n",
       "\n",
       "    .dataframe thead th {\n",
       "        text-align: right;\n",
       "    }\n",
       "</style>\n",
       "<table border=\"1\" class=\"dataframe\">\n",
       "  <thead>\n",
       "    <tr style=\"text-align: right;\">\n",
       "      <th></th>\n",
       "      <th>Play</th>\n",
       "      <th>Strict</th>\n",
       "      <th>Modern</th>\n",
       "    </tr>\n",
       "  </thead>\n",
       "  <tbody>\n",
       "    <tr>\n",
       "      <th>6</th>\n",
       "      <td>Loves Labours Lost</td>\n",
       "      <td>Comedy</td>\n",
       "      <td>Comedy</td>\n",
       "    </tr>\n",
       "    <tr>\n",
       "      <th>10</th>\n",
       "      <td>The Taming of the Shrew</td>\n",
       "      <td>Comedy</td>\n",
       "      <td>Comedy</td>\n",
       "    </tr>\n",
       "    <tr>\n",
       "      <th>26</th>\n",
       "      <td>Henry VIII</td>\n",
       "      <td>History</td>\n",
       "      <td>Tragedy</td>\n",
       "    </tr>\n",
       "    <tr>\n",
       "      <th>19</th>\n",
       "      <td>Henry IV, Part 1</td>\n",
       "      <td>History</td>\n",
       "      <td>Tragedy</td>\n",
       "    </tr>\n",
       "    <tr>\n",
       "      <th>5</th>\n",
       "      <td>Much Ado About Nothing</td>\n",
       "      <td>Comedy</td>\n",
       "      <td>Comedy</td>\n",
       "    </tr>\n",
       "  </tbody>\n",
       "</table>\n",
       "</div>"
      ],
      "text/plain": [
       "                       Play   Strict   Modern\n",
       "6        Loves Labours Lost   Comedy   Comedy\n",
       "10  The Taming of the Shrew   Comedy   Comedy\n",
       "26               Henry VIII  History  Tragedy\n",
       "19         Henry IV, Part 1  History  Tragedy\n",
       "5    Much Ado About Nothing   Comedy   Comedy"
      ]
     },
     "execution_count": 7,
     "metadata": {},
     "output_type": "execute_result"
    }
   ],
   "source": [
    "wiki_df = wiki_df.reset_index()\n",
    "wiki_df = wiki_df.rename(columns={'index':'Play'})\n",
    "wiki_df.sample(5)"
   ]
  },
  {
   "cell_type": "markdown",
   "metadata": {},
   "source": [
    "Shalespeare's plays have been generously textised and are as a csv on Kaggle: https://www.kaggle.com/kingburrito666/shakespeare-plays"
   ]
  },
  {
   "cell_type": "code",
   "execution_count": 8,
   "metadata": {},
   "outputs": [],
   "source": [
    "shakespeare_plays = pd.read_csv('../data/Shakespeare_data.csv')"
   ]
  },
  {
   "cell_type": "code",
   "execution_count": 9,
   "metadata": {},
   "outputs": [
    {
     "name": "stdout",
     "output_type": "stream",
     "text": [
      "<class 'pandas.core.frame.DataFrame'>\n",
      "RangeIndex: 111396 entries, 0 to 111395\n",
      "Data columns (total 6 columns):\n",
      " #   Column            Non-Null Count   Dtype  \n",
      "---  ------            --------------   -----  \n",
      " 0   Dataline          111396 non-null  int64  \n",
      " 1   Play              111396 non-null  object \n",
      " 2   PlayerLinenumber  111393 non-null  float64\n",
      " 3   ActSceneLine      105153 non-null  object \n",
      " 4   Player            111389 non-null  object \n",
      " 5   PlayerLine        111396 non-null  object \n",
      "dtypes: float64(1), int64(1), object(4)\n",
      "memory usage: 5.1+ MB\n"
     ]
    }
   ],
   "source": [
    "shakespeare_plays.info()"
   ]
  },
  {
   "cell_type": "markdown",
   "metadata": {},
   "source": [
    "Compare play names in `wiki_plays` with `shakespeare_plays`"
   ]
  },
  {
   "cell_type": "code",
   "execution_count": 22,
   "metadata": {},
   "outputs": [
    {
     "data": {
      "text/html": [
       "<div>\n",
       "<style scoped>\n",
       "    .dataframe tbody tr th:only-of-type {\n",
       "        vertical-align: middle;\n",
       "    }\n",
       "\n",
       "    .dataframe tbody tr th {\n",
       "        vertical-align: top;\n",
       "    }\n",
       "\n",
       "    .dataframe thead th {\n",
       "        text-align: right;\n",
       "    }\n",
       "</style>\n",
       "<table border=\"1\" class=\"dataframe\">\n",
       "  <thead>\n",
       "    <tr style=\"text-align: right;\">\n",
       "      <th></th>\n",
       "      <th>Dataline</th>\n",
       "      <th>Play</th>\n",
       "      <th>PlayerLinenumber</th>\n",
       "      <th>ActSceneLine</th>\n",
       "      <th>Player</th>\n",
       "      <th>PlayerLine</th>\n",
       "    </tr>\n",
       "  </thead>\n",
       "  <tbody>\n",
       "    <tr>\n",
       "      <th>35552</th>\n",
       "      <td>35553</td>\n",
       "      <td>Hamlet</td>\n",
       "      <td>45.0</td>\n",
       "      <td>4.5.151</td>\n",
       "      <td>KING CLAUDIUS</td>\n",
       "      <td>If you desire to know the certainty</td>\n",
       "    </tr>\n",
       "    <tr>\n",
       "      <th>5205</th>\n",
       "      <td>5206</td>\n",
       "      <td>Henry VI, Part 1</td>\n",
       "      <td>2.0</td>\n",
       "      <td>4.2.20</td>\n",
       "      <td>General</td>\n",
       "      <td>And strong enough to issue out and fight:</td>\n",
       "    </tr>\n",
       "    <tr>\n",
       "      <th>54571</th>\n",
       "      <td>54572</td>\n",
       "      <td>Loves Labours Lost</td>\n",
       "      <td>93.0</td>\n",
       "      <td>4.3.361</td>\n",
       "      <td>BIRON</td>\n",
       "      <td>They are the books, the arts, the academes,</td>\n",
       "    </tr>\n",
       "    <tr>\n",
       "      <th>28440</th>\n",
       "      <td>28441</td>\n",
       "      <td>Coriolanus</td>\n",
       "      <td>38.0</td>\n",
       "      <td>5.6.150</td>\n",
       "      <td>CORIOLANUS</td>\n",
       "      <td>With six Aufidiuses, or more, his tribe,</td>\n",
       "    </tr>\n",
       "    <tr>\n",
       "      <th>11624</th>\n",
       "      <td>11625</td>\n",
       "      <td>Henry VI, Part 3</td>\n",
       "      <td>42.0</td>\n",
       "      <td>4.1.124</td>\n",
       "      <td>CLARENCE</td>\n",
       "      <td>You that love me and Warwick, follow me.</td>\n",
       "    </tr>\n",
       "  </tbody>\n",
       "</table>\n",
       "</div>"
      ],
      "text/plain": [
       "       Dataline                Play  PlayerLinenumber ActSceneLine  \\\n",
       "35552     35553              Hamlet              45.0      4.5.151   \n",
       "5205       5206    Henry VI, Part 1               2.0       4.2.20   \n",
       "54571     54572  Loves Labours Lost              93.0      4.3.361   \n",
       "28440     28441          Coriolanus              38.0      5.6.150   \n",
       "11624     11625    Henry VI, Part 3              42.0      4.1.124   \n",
       "\n",
       "              Player                                   PlayerLine  \n",
       "35552  KING CLAUDIUS          If you desire to know the certainty  \n",
       "5205         General    And strong enough to issue out and fight:  \n",
       "54571          BIRON  They are the books, the arts, the academes,  \n",
       "28440     CORIOLANUS     With six Aufidiuses, or more, his tribe,  \n",
       "11624       CLARENCE     You that love me and Warwick, follow me.  "
      ]
     },
     "execution_count": 22,
     "metadata": {},
     "output_type": "execute_result"
    }
   ],
   "source": [
    "shakespeare_plays.sample(5)"
   ]
  },
  {
   "cell_type": "code",
   "execution_count": 10,
   "metadata": {},
   "outputs": [],
   "source": [
    "shake_uniq = shakespeare_plays.Play.unique()\n",
    "wiki_uniq = wiki_df.Play.unique()"
   ]
  },
  {
   "cell_type": "code",
   "execution_count": 11,
   "metadata": {},
   "outputs": [
    {
     "name": "stdout",
     "output_type": "stream",
     "text": [
      "Number of plays in kaggle file: 36\n",
      "Number of plays in wiki categeory files: 39\n"
     ]
    }
   ],
   "source": [
    "print('Number of plays in kaggle file:', len(shake_uniq))\n",
    "print('Number of plays in wiki categeory files:', len(wiki_uniq))"
   ]
  },
  {
   "cell_type": "code",
   "execution_count": 12,
   "metadata": {},
   "outputs": [
    {
     "name": "stdout",
     "output_type": "stream",
     "text": [
      "20 {'The Winters Tale', 'The Two Noble Kinsmen', 'Henry IV, Part 2', 'Henry IV, Part 1', 'A Midsummer Nights Dream', 'Edward III', 'Henry VI, Part 2', 'The Merry Wives of Windsor', 'Pericles, Prince of Tyre', 'The Two Gentlemen of Verona', 'Alls Well That Ends Well', 'Much Ado About Nothing', 'As You Like It', 'Henry VI, Part 3', 'Macbeth', 'The Comedy of Errors', 'The Taming of the Shrew', 'The Merchant of Venice', 'Henry VI, Part 1', 'Measure for Measure'}\n"
     ]
    }
   ],
   "source": [
    "inconsistent = set(wiki_df.Play).difference(shakespeare_plays.Play)\n",
    "print(len(inconsistent), inconsistent)"
   ]
  },
  {
   "cell_type": "markdown",
   "metadata": {},
   "source": [
    "Three of Shakespeare's plays are not prepresented in the kaggle dataset, and there is a namining discrepency between 20 plays. Investigating further..."
   ]
  },
  {
   "cell_type": "code",
   "execution_count": 13,
   "metadata": {},
   "outputs": [
    {
     "data": {
      "text/plain": [
       "array(['A Comedy of Errors', 'A Midsummer nights dream', 'A Winters Tale',\n",
       "       'Alls well that ends well', 'Antony and Cleopatra',\n",
       "       'As you like it', 'Coriolanus', 'Cymbeline', 'Hamlet', 'Henry IV',\n",
       "       'Henry V', 'Henry VI Part 1', 'Henry VI Part 2', 'Henry VI Part 3',\n",
       "       'Henry VIII', 'Julius Caesar', 'King John', 'King Lear',\n",
       "       'Loves Labours Lost', 'Measure for measure', 'Merchant of Venice',\n",
       "       'Merry Wives of Windsor', 'Much Ado about nothing', 'Othello',\n",
       "       'Pericles', 'Richard II', 'Richard III', 'Romeo and Juliet',\n",
       "       'Taming of the Shrew', 'The Tempest', 'Timon of Athens',\n",
       "       'Titus Andronicus', 'Troilus and Cressida', 'Twelfth Night',\n",
       "       'Two Gentlemen of Verona', 'macbeth'], dtype=object)"
      ]
     },
     "execution_count": 13,
     "metadata": {},
     "output_type": "execute_result"
    }
   ],
   "source": [
    "shake_uniq.sort()\n",
    "shake_uniq"
   ]
  },
  {
   "cell_type": "code",
   "execution_count": 14,
   "metadata": {},
   "outputs": [
    {
     "data": {
      "text/plain": [
       "array(['A Midsummer Nights Dream', 'Alls Well That Ends Well',\n",
       "       'Antony and Cleopatra', 'As You Like It', 'Coriolanus',\n",
       "       'Cymbeline', 'Edward III', 'Hamlet', 'Henry IV, Part 1',\n",
       "       'Henry IV, Part 2', 'Henry V', 'Henry VI, Part 1',\n",
       "       'Henry VI, Part 2', 'Henry VI, Part 3', 'Henry VIII',\n",
       "       'Julius Caesar', 'King John', 'King Lear', 'Loves Labours Lost',\n",
       "       'Macbeth', 'Measure for Measure', 'Much Ado About Nothing',\n",
       "       'Othello', 'Pericles, Prince of Tyre', 'Richard II', 'Richard III',\n",
       "       'Romeo and Juliet', 'The Comedy of Errors',\n",
       "       'The Merchant of Venice', 'The Merry Wives of Windsor',\n",
       "       'The Taming of the Shrew', 'The Tempest',\n",
       "       'The Two Gentlemen of Verona', 'The Two Noble Kinsmen',\n",
       "       'The Winters Tale', 'Timon of Athens', 'Titus Andronicus',\n",
       "       'Troilus and Cressida', 'Twelfth Night'], dtype=object)"
      ]
     },
     "execution_count": 14,
     "metadata": {},
     "output_type": "execute_result"
    }
   ],
   "source": [
    "wiki_uniq.sort()\n",
    "wiki_uniq"
   ]
  },
  {
   "cell_type": "code",
   "execution_count": 15,
   "metadata": {},
   "outputs": [],
   "source": [
    "fuzzy_scores = {}\n",
    "\n",
    "for proper_name in inconsistent:\n",
    "    fuzzy_scores[proper_name] = fuzzywuzzy.process.extract(proper_name, shake_uniq, limit=3, scorer=fuzzywuzzy.fuzz.token_sort_ratio)"
   ]
  },
  {
   "cell_type": "code",
   "execution_count": 16,
   "metadata": {},
   "outputs": [
    {
     "name": "stdout",
     "output_type": "stream",
     "text": [
      "{'A Midsummer Nights Dream': [('A Midsummer nights dream', 100),\n",
      "                              ('Much Ado about nothing', 43),\n",
      "                              ('A Winters Tale', 42)],\n",
      " 'Alls Well That Ends Well': [('Alls well that ends well', 100),\n",
      "                              ('As you like it', 37),\n",
      "                              ('Henry VI Part 1', 36)],\n",
      " 'As You Like It': [('As you like it', 100),\n",
      "                    ('Romeo and Juliet', 47),\n",
      "                    ('Julius Caesar', 44)],\n",
      " 'Edward III': [('Henry VIII', 60), ('Henry IV', 44), ('Julius Caesar', 43)],\n",
      " 'Henry IV, Part 1': [('Henry VI Part 1', 80),\n",
      "                      ('Henry VI Part 2', 73),\n",
      "                      ('Henry VI Part 3', 73)],\n",
      " 'Henry IV, Part 2': [('Henry VI Part 2', 80),\n",
      "                      ('Henry VI Part 1', 73),\n",
      "                      ('Henry VI Part 3', 73)],\n",
      " 'Henry VI, Part 1': [('Henry VI Part 1', 100),\n",
      "                      ('Henry VI Part 2', 93),\n",
      "                      ('Henry VI Part 3', 93)],\n",
      " 'Henry VI, Part 2': [('Henry VI Part 2', 100),\n",
      "                      ('Henry VI Part 1', 93),\n",
      "                      ('Henry VI Part 3', 93)],\n",
      " 'Henry VI, Part 3': [('Henry VI Part 3', 100),\n",
      "                      ('Henry VI Part 1', 93),\n",
      "                      ('Henry VI Part 2', 93)],\n",
      " 'Macbeth': [('macbeth', 100), ('Hamlet', 46), ('The Tempest', 44)],\n",
      " 'Measure for Measure': [('Measure for measure', 100),\n",
      "                         ('Taming of the Shrew', 42),\n",
      "                         ('A Winters Tale', 36)],\n",
      " 'Much Ado About Nothing': [('Much Ado about nothing', 100),\n",
      "                            ('A Midsummer nights dream', 39),\n",
      "                            ('Antony and Cleopatra', 38)],\n",
      " 'Pericles, Prince of Tyre': [('Pericles', 52),\n",
      "                              ('Taming of the Shrew', 48),\n",
      "                              ('Measure for measure', 38)],\n",
      " 'The Comedy of Errors': [('A Comedy of Errors', 84),\n",
      "                          ('The Tempest', 45),\n",
      "                          ('Merry Wives of Windsor', 43)],\n",
      " 'The Merchant of Venice': [('Merchant of Venice', 90),\n",
      "                            ('Two Gentlemen of Verona', 53),\n",
      "                            ('Merry Wives of Windsor', 45)],\n",
      " 'The Merry Wives of Windsor': [('Merry Wives of Windsor', 92),\n",
      "                                ('Merchant of Venice', 41),\n",
      "                                ('Two Gentlemen of Verona', 41)],\n",
      " 'The Taming of the Shrew': [('Taming of the Shrew', 90),\n",
      "                             ('A Midsummer nights dream', 38),\n",
      "                             ('A Winters Tale', 38)],\n",
      " 'The Two Gentlemen of Verona': [('Two Gentlemen of Verona', 92),\n",
      "                                 ('Merchant of Venice', 44),\n",
      "                                 ('Timon of Athens', 43)],\n",
      " 'The Two Noble Kinsmen': [('Two Gentlemen of Verona', 45),\n",
      "                           ('Alls well that ends well', 40),\n",
      "                           ('King Lear', 40)],\n",
      " 'The Winters Tale': [('A Winters Tale', 80),\n",
      "                      ('Alls well that ends well', 45),\n",
      "                      ('Timon of Athens', 45)]}\n"
     ]
    }
   ],
   "source": [
    "pprint.pprint(fuzzy_scores)"
   ]
  },
  {
   "cell_type": "markdown",
   "metadata": {},
   "source": [
    "'Henry IV, Part 2', 'The Two Noble Kinsmen', and 'Edward III' are completely missing from the `shakespeare_plays` dataset. The kaggle discussion seems to indicate that Part 1 and Part 2 have been collapesed into a single play. It looks like articles (\"The\" and \"A\") have been stripped from some of the plays in `shakespeare_plays`; however, there are also several instances of an incorrect article. There is also inconsistent capitalization in that dataset as well. I can use fuzzywuzzy scores to safely replace all the 100 score matches. The next closest score of 93 with start changing around the Henry IV and Henry the VI datasets."
   ]
  },
  {
   "cell_type": "code",
   "execution_count": 18,
   "metadata": {},
   "outputs": [],
   "source": [
    "def replace_col_matches(df, column, string_to_match, min_ratio = 100):\n",
    "    \"\"\"This function gets the top 10 closest matches to our input string a list of unique strings and \n",
    "    replaces all rows with matches with a fuzzy ratio > 90 matches with the input matches\n",
    "    \"\"\"\n",
    "    strings = df[column].unique()\n",
    "    matches = fuzzywuzzy.process.extract(string_to_match, strings, \n",
    "                                         limit=1, scorer=fuzzywuzzy.fuzz.token_sort_ratio)\n",
    "\n",
    "    close_matches = [matches[0] for matches in matches if matches[1] >= min_ratio]\n",
    "    rows_with_matches = df[column].isin(close_matches)\n",
    "    df.loc[rows_with_matches, column] = string_to_match"
   ]
  },
  {
   "cell_type": "code",
   "execution_count": 19,
   "metadata": {},
   "outputs": [
    {
     "data": {
      "text/plain": [
       "pandas.core.frame.DataFrame"
      ]
     },
     "execution_count": 19,
     "metadata": {},
     "output_type": "execute_result"
    }
   ],
   "source": [
    "remakespeare_plays = shakespeare_plays\n",
    "type(remakespeare_plays)"
   ]
  },
  {
   "cell_type": "code",
   "execution_count": 20,
   "metadata": {},
   "outputs": [],
   "source": [
    "for proper_name in inconsistent:\n",
    "    replace_col_matches(remakespeare_plays, 'Play', proper_name)"
   ]
  },
  {
   "cell_type": "code",
   "execution_count": 47,
   "metadata": {},
   "outputs": [
    {
     "name": "stdout",
     "output_type": "stream",
     "text": [
      "{'The Winters Tale', 'The Two Noble Kinsmen', 'Henry IV, Part 2', 'Henry IV, Part 1', 'Edward III', 'The Merry Wives of Windsor', 'Pericles, Prince of Tyre', 'The Two Gentlemen of Verona', 'The Comedy of Errors', 'The Taming of the Shrew', 'The Merchant of Venice'}\n"
     ]
    }
   ],
   "source": [
    "print(set(wiki_df.Play).difference(remakespeare_plays.Play))\n"
   ]
  },
  {
   "cell_type": "code",
   "execution_count": 48,
   "metadata": {},
   "outputs": [
    {
     "name": "stdout",
     "output_type": "stream",
     "text": [
      "{'Henry IV', 'Taming of the Shrew', 'A Winters Tale', 'Pericles', 'A Comedy of Errors', 'Merchant of Venice', 'Merry Wives of Windsor', 'Two Gentlemen of Verona'}\n"
     ]
    }
   ],
   "source": [
    "print(set(remakespeare_plays.Play).difference(wiki_df.Play))\n"
   ]
  },
  {
   "cell_type": "markdown",
   "metadata": {},
   "source": [
    "As much as it pains me, I think it is prudent to remove the articles 'The' and 'A', as this seems to be an area of frequent error and/or omission"
   ]
  },
  {
   "cell_type": "code",
   "execution_count": 50,
   "metadata": {},
   "outputs": [
    {
     "data": {
      "text/plain": [
       "array(['Henry IV', 'Henry VI, Part 1', 'Henry VI, Part 2',\n",
       "       'Henry VI, Part 3', 'Alls Well That Ends Well', 'As You Like It',\n",
       "       'Antony and Cleopatra', 'Comedy of Errors', 'Coriolanus',\n",
       "       'Cymbeline', 'Hamlet', 'Henry V', 'Henry VIII', 'King John',\n",
       "       'Julius Caesar', 'King Lear', 'Loves Labours Lost', 'Macbeth',\n",
       "       'Measure for Measure', 'Merchant of Venice',\n",
       "       'Merry Wives of Windsor', 'Midsummer Nights Dream',\n",
       "       'Much Ado About Nothing', 'Othello', 'Pericles, Prince of Tyre',\n",
       "       'Richard II', 'Richard III', 'Romeo and Juliet',\n",
       "       'Taming of the Shrew', 'Tempest', 'Timon of Athens',\n",
       "       'Titus Andronicus', 'Troilus and Cressida', 'Twelfth Night',\n",
       "       'Two Gentlemen of Verona', 'Winters Tale'], dtype=object)"
      ]
     },
     "execution_count": 50,
     "metadata": {},
     "output_type": "execute_result"
    }
   ],
   "source": [
    "renaming = {'A Winters Tale':'Winters Tale', 'Pericles': 'Pericles, Prince of Tyre', 'A Comedy of Errors': 'Comedy of Errors', 'A Midsummer Nights Dream': 'Midsummer Nights Dream', 'The Tempest':'Tempest' }\n",
    "remakespeare_plays.Play = remakespeare_plays.Play.replace(renaming)\n",
    "remakespeare_plays.Play.unique()"
   ]
  },
  {
   "cell_type": "code",
   "execution_count": 51,
   "metadata": {},
   "outputs": [
    {
     "data": {
      "text/html": [
       "<div>\n",
       "<style scoped>\n",
       "    .dataframe tbody tr th:only-of-type {\n",
       "        vertical-align: middle;\n",
       "    }\n",
       "\n",
       "    .dataframe tbody tr th {\n",
       "        vertical-align: top;\n",
       "    }\n",
       "\n",
       "    .dataframe thead th {\n",
       "        text-align: right;\n",
       "    }\n",
       "</style>\n",
       "<table border=\"1\" class=\"dataframe\">\n",
       "  <thead>\n",
       "    <tr style=\"text-align: right;\">\n",
       "      <th></th>\n",
       "      <th>Dataline</th>\n",
       "      <th>Play</th>\n",
       "      <th>PlayerLinenumber</th>\n",
       "      <th>ActSceneLine</th>\n",
       "      <th>Player</th>\n",
       "      <th>PlayerLine</th>\n",
       "      <th>Strict</th>\n",
       "      <th>Modern</th>\n",
       "    </tr>\n",
       "  </thead>\n",
       "  <tbody>\n",
       "    <tr>\n",
       "      <th>74037</th>\n",
       "      <td>74038</td>\n",
       "      <td>Othello</td>\n",
       "      <td>126.0</td>\n",
       "      <td>3.3.391</td>\n",
       "      <td>OTHELLO</td>\n",
       "      <td>Farewell the plumed troop, and the big wars,</td>\n",
       "      <td>Tragedy</td>\n",
       "      <td>Tragedy</td>\n",
       "    </tr>\n",
       "    <tr>\n",
       "      <th>95032</th>\n",
       "      <td>95033</td>\n",
       "      <td>Timon of Athens</td>\n",
       "      <td>26.0</td>\n",
       "      <td>NaN</td>\n",
       "      <td>FLAVIUS</td>\n",
       "      <td>Exit</td>\n",
       "      <td>Tragedy</td>\n",
       "      <td>Tragedy</td>\n",
       "    </tr>\n",
       "    <tr>\n",
       "      <th>98465</th>\n",
       "      <td>98466</td>\n",
       "      <td>Titus Andronicus</td>\n",
       "      <td>1.0</td>\n",
       "      <td>4.4.15</td>\n",
       "      <td>SATURNINUS</td>\n",
       "      <td>This to Apollo, this to the god of war,</td>\n",
       "      <td>Tragedy</td>\n",
       "      <td>Tragedy</td>\n",
       "    </tr>\n",
       "    <tr>\n",
       "      <th>49998</th>\n",
       "      <td>49999</td>\n",
       "      <td>King Lear</td>\n",
       "      <td>2.0</td>\n",
       "      <td>1.5.6</td>\n",
       "      <td>KENT</td>\n",
       "      <td>your letter.</td>\n",
       "      <td>Tragedy</td>\n",
       "      <td>Tragedy</td>\n",
       "    </tr>\n",
       "    <tr>\n",
       "      <th>8544</th>\n",
       "      <td>8545</td>\n",
       "      <td>Henry VI, Part 2</td>\n",
       "      <td>39.0</td>\n",
       "      <td>4.2.65</td>\n",
       "      <td>CADE</td>\n",
       "      <td>all shall eat and drink on my score, and I will</td>\n",
       "      <td>History</td>\n",
       "      <td>Tragedy</td>\n",
       "    </tr>\n",
       "  </tbody>\n",
       "</table>\n",
       "</div>"
      ],
      "text/plain": [
       "       Dataline              Play  PlayerLinenumber ActSceneLine      Player  \\\n",
       "74037     74038           Othello             126.0      3.3.391     OTHELLO   \n",
       "95032     95033   Timon of Athens              26.0          NaN     FLAVIUS   \n",
       "98465     98466  Titus Andronicus               1.0       4.4.15  SATURNINUS   \n",
       "49998     49999         King Lear               2.0        1.5.6        KENT   \n",
       "8544       8545  Henry VI, Part 2              39.0       4.2.65        CADE   \n",
       "\n",
       "                                            PlayerLine   Strict   Modern  \n",
       "74037     Farewell the plumed troop, and the big wars,  Tragedy  Tragedy  \n",
       "95032                                             Exit  Tragedy  Tragedy  \n",
       "98465          This to Apollo, this to the god of war,  Tragedy  Tragedy  \n",
       "49998                                     your letter.  Tragedy  Tragedy  \n",
       "8544   all shall eat and drink on my score, and I will  History  Tragedy  "
      ]
     },
     "execution_count": 51,
     "metadata": {},
     "output_type": "execute_result"
    }
   ],
   "source": [
    "shake_df = pd.merge(remakespeare_plays, wiki_df,how='left', on='Play')\n",
    "shake_df.sample(5)"
   ]
  },
  {
   "cell_type": "markdown",
   "metadata": {},
   "source": [
    "## Data Cleaning in Progress..."
   ]
  },
  {
   "cell_type": "code",
   "execution_count": null,
   "metadata": {},
   "outputs": [],
   "source": []
  }
 ],
 "metadata": {
  "kernelspec": {
   "display_name": "Python 3",
   "language": "python",
   "name": "python3"
  },
  "language_info": {
   "codemirror_mode": {
    "name": "ipython",
    "version": 3
   },
   "file_extension": ".py",
   "mimetype": "text/x-python",
   "name": "python",
   "nbconvert_exporter": "python",
   "pygments_lexer": "ipython3",
   "version": "3.8.3"
  }
 },
 "nbformat": 4,
 "nbformat_minor": 4
}
