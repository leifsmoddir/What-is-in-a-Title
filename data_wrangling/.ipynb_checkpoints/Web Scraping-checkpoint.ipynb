{
 "cells": [
  {
   "cell_type": "markdown",
   "metadata": {},
   "source": [
    "Lists of titles derived from the works of William Shakespeare are housed at **Titles from Shakespeare**: http://www.barbarapaul.com/shake.html\n",
    "\n",
    "The website above contains links to 37 subpages, one for each of Shakepseare's works, that list the title, author, and quoted passage. The exception is Hamlet, in which the site is broken up into five individual acts."
   ]
  },
  {
   "cell_type": "code",
   "execution_count": 22,
   "metadata": {},
   "outputs": [],
   "source": [
    "import pandas as pd\n",
    "from bs4 import BeautifulSoup\n",
    "import requests, re\n",
    "\n",
    "pd.set_option('display.max_colwidth', None)"
   ]
  },
  {
   "cell_type": "markdown",
   "metadata": {},
   "source": [
    "Scraping the 37 urls from the main site:"
   ]
  },
  {
   "cell_type": "code",
   "execution_count": 23,
   "metadata": {},
   "outputs": [],
   "source": [
    "url = 'http://www.barbarapaul.com/shake.html'\n",
    "r = requests.get(url)\n",
    "html_doc = r.text\n",
    "soup = BeautifulSoup(html_doc, 'html.parser')"
   ]
  },
  {
   "cell_type": "code",
   "execution_count": 24,
   "metadata": {},
   "outputs": [],
   "source": [
    "links ={}\n",
    "\n",
    "for link in soup.find_all('a', style=\"text-decoration:none;\"):\n",
    "    href = link.get('href')\n",
    "    abb = href.replace('http://www.barbarapaul.com/shake/', '').replace('.html', '')\n",
    "    links[abb] = href\n",
    "    \n",
    "assert len(links) == 37"
   ]
  },
  {
   "cell_type": "code",
   "execution_count": 25,
   "metadata": {},
   "outputs": [],
   "source": [
    "#hamlet.html contains 5 subpages. Remove hamlet and add the five subpages\n",
    "\n",
    "links.pop('hamlet')\n",
    "\n",
    "links['hamlet1'] = 'http://www.barbarapaul.com/shake/hamlet1.html'\n",
    "links['hamlet2'] = 'http://www.barbarapaul.com/shake/hamlet2.html'\n",
    "links['hamlet3'] = 'http://www.barbarapaul.com/shake/hamlet3.html'\n",
    "links['hamlet4'] = 'http://www.barbarapaul.com/shake/hamlet4.html'\n",
    "links['hamlet5'] = 'http://www.barbarapaul.com/shake/hamlet5.html'"
   ]
  },
  {
   "cell_type": "code",
   "execution_count": 26,
   "metadata": {},
   "outputs": [
    {
     "name": "stdout",
     "output_type": "stream",
     "text": [
      "Number of plays in dictionary: 41\n",
      "allswell : http://www.barbarapaul.com/shake/allswell.html\n",
      "antony : http://www.barbarapaul.com/shake/antony.html\n",
      "ayli : http://www.barbarapaul.com/shake/ayli.html\n",
      "errors : http://www.barbarapaul.com/shake/errors.html\n",
      "corio : http://www.barbarapaul.com/shake/corio.html\n",
      "cymb : http://www.barbarapaul.com/shake/cymb.html\n",
      "1henryiv : http://www.barbarapaul.com/shake/1henryiv.html\n",
      "2henryiv : http://www.barbarapaul.com/shake/2henryiv.html\n",
      "henryv : http://www.barbarapaul.com/shake/henryv.html\n",
      "1henryvi : http://www.barbarapaul.com/shake/1henryvi.html\n",
      "2henryvi : http://www.barbarapaul.com/shake/2henryvi.html\n",
      "3henryvi : http://www.barbarapaul.com/shake/3henryvi.html\n",
      "julius : http://www.barbarapaul.com/shake/julius.html\n",
      "john : http://www.barbarapaul.com/shake/john.html\n",
      "lear : http://www.barbarapaul.com/shake/lear.html\n",
      "labours : http://www.barbarapaul.com/shake/labours.html\n",
      "macbeth : http://www.barbarapaul.com/shake/macbeth.html\n",
      "m4m : http://www.barbarapaul.com/shake/m4m.html\n",
      "merchant : http://www.barbarapaul.com/shake/merchant.html\n",
      "wives : http://www.barbarapaul.com/shake/wives.html\n",
      "mnd : http://www.barbarapaul.com/shake/mnd.html\n",
      "muchado : http://www.barbarapaul.com/shake/muchado.html\n",
      "othello : http://www.barbarapaul.com/shake/othello.html\n",
      "pericles : http://www.barbarapaul.com/shake/pericles.html\n",
      "richii : http://www.barbarapaul.com/shake/richii.html\n",
      "richiii : http://www.barbarapaul.com/shake/richiii.html\n",
      "romeo : http://www.barbarapaul.com/shake/romeo.html\n",
      "shrew : http://www.barbarapaul.com/shake/shrew.html\n",
      "tempest : http://www.barbarapaul.com/shake/tempest.html\n",
      "timon : http://www.barbarapaul.com/shake/timon.html\n",
      "titus : http://www.barbarapaul.com/shake/titus.html\n",
      "troilus : http://www.barbarapaul.com/shake/troilus.html\n",
      "12n : http://www.barbarapaul.com/shake/12n.html\n",
      "2gents : http://www.barbarapaul.com/shake/2gents.html\n",
      "winter : http://www.barbarapaul.com/shake/winter.html\n",
      "sonnets : http://www.barbarapaul.com/shake/sonnets.html\n",
      "hamlet1 : http://www.barbarapaul.com/shake/hamlet1.html\n",
      "hamlet2 : http://www.barbarapaul.com/shake/hamlet2.html\n",
      "hamlet3 : http://www.barbarapaul.com/shake/hamlet3.html\n",
      "hamlet4 : http://www.barbarapaul.com/shake/hamlet4.html\n",
      "hamlet5 : http://www.barbarapaul.com/shake/hamlet5.html\n"
     ]
    }
   ],
   "source": [
    "print('Number of plays in dictionary:', len(links))\n",
    "for key, value in links.items():\n",
    "    print(key, ':', value)"
   ]
  },
  {
   "cell_type": "markdown",
   "metadata": {},
   "source": [
    "Using the `links` dictionary and Beautiful Soup, I have extracted the title, author, and shakepearean play the title was derived from and create a data frame for each play. I then merged the 41 dataframes together into one large dataframe."
   ]
  },
  {
   "cell_type": "code",
   "execution_count": 27,
   "metadata": {},
   "outputs": [
    {
     "name": "stdout",
     "output_type": "stream",
     "text": [
      "allswell (37, 3)\n",
      "antony (18, 3)\n",
      "ayli (129, 3)\n",
      "errors (6, 3)\n",
      "corio (6, 3)\n",
      "cymb (3, 3)\n",
      "1henryiv (18, 3)\n",
      "2henryiv (14, 3)\n",
      "henryv (34, 3)\n",
      "1henryvi (3, 3)\n",
      "2henryvi (13, 3)\n",
      "3henryvi (17, 3)\n",
      "julius (86, 3)\n",
      "john (44, 3)\n",
      "lear (250, 3)\n",
      "labours (9, 3)\n",
      "macbeth (289, 3)\n",
      "m4m (11, 3)\n",
      "merchant (123, 3)\n",
      "wives (15, 3)\n",
      "mnd (71, 3)\n",
      "muchado (37, 3)\n",
      "othello (90, 3)\n",
      "pericles (2, 3)\n",
      "richii (102, 3)\n",
      "richiii (43, 3)\n",
      "romeo (79, 3)\n",
      "shrew (16, 3)\n",
      "tempest (111, 3)\n",
      "timon (12, 3)\n",
      "titus (12, 3)\n",
      "troilus (12, 3)\n",
      "12n (86, 3)\n",
      "2gents (25, 3)\n",
      "winter (25, 3)\n",
      "sonnets (66, 3)\n",
      "hamlet1 (195, 3)\n",
      "hamlet2 (105, 3)\n",
      "hamlet3 (252, 3)\n",
      "hamlet4 (54, 3)\n",
      "hamlet5 (64, 3)\n"
     ]
    }
   ],
   "source": [
    "big_df = pd.DataFrame(columns = ['Play', 'Author', 'Title'])\n",
    "\n",
    "for key, value in links.items():\n",
    "    url = value\n",
    "    r = requests.get(url)\n",
    "    html_doc = r.text\n",
    "    soup = BeautifulSoup(html_doc)\n",
    "    \n",
    "    shake_titles = []\n",
    "\n",
    "    for item in soup.find_all('li'):\n",
    "        title = item.text\n",
    "        title = re.sub(' +', ' ', title) \n",
    "        shake_titles.append(title.replace('\\n', ''))\n",
    "        \n",
    "    title_df = pd.DataFrame(shake_titles, columns=['Play'])\n",
    "\n",
    "    new = title_df['Play'].str.split(\": \", n=1, expand=True)\n",
    "    title_df['Author'] = new[0]\n",
    "    title_df['Title'] = new[1]\n",
    "    title_df['Play'].replace(to_replace=r'.+', value=key, regex=True, inplace=True)\n",
    "        \n",
    "    print(key, title_df.shape)\n",
    "    big_df = big_df.append(title_df)"
   ]
  },
  {
   "cell_type": "code",
   "execution_count": 28,
   "metadata": {},
   "outputs": [
    {
     "name": "stdout",
     "output_type": "stream",
     "text": [
      "<class 'pandas.core.frame.DataFrame'>\n",
      "Int64Index: 2584 entries, 0 to 63\n",
      "Data columns (total 3 columns):\n",
      " #   Column  Non-Null Count  Dtype \n",
      "---  ------  --------------  ----- \n",
      " 0   Play    2584 non-null   object\n",
      " 1   Author  2584 non-null   object\n",
      " 2   Title   2577 non-null   object\n",
      "dtypes: object(3)\n",
      "memory usage: 80.8+ KB\n"
     ]
    }
   ],
   "source": [
    "big_df.info()"
   ]
  },
  {
   "cell_type": "code",
   "execution_count": 31,
   "metadata": {
    "scrolled": true
   },
   "outputs": [
    {
     "data": {
      "text/html": [
       "<div>\n",
       "<style scoped>\n",
       "    .dataframe tbody tr th:only-of-type {\n",
       "        vertical-align: middle;\n",
       "    }\n",
       "\n",
       "    .dataframe tbody tr th {\n",
       "        vertical-align: top;\n",
       "    }\n",
       "\n",
       "    .dataframe thead th {\n",
       "        text-align: right;\n",
       "    }\n",
       "</style>\n",
       "<table border=\"1\" class=\"dataframe\">\n",
       "  <thead>\n",
       "    <tr style=\"text-align: right;\">\n",
       "      <th></th>\n",
       "      <th>Play</th>\n",
       "      <th>Author</th>\n",
       "      <th>Title</th>\n",
       "    </tr>\n",
       "  </thead>\n",
       "  <tbody>\n",
       "    <tr>\n",
       "      <th>9</th>\n",
       "      <td>m4m</td>\n",
       "      <td>Rebecca Pitts</td>\n",
       "      <td>Brief Authority: Fragments of One Woman's Testament</td>\n",
       "    </tr>\n",
       "    <tr>\n",
       "      <th>168</th>\n",
       "      <td>hamlet1</td>\n",
       "      <td>Fiona Sinclair</td>\n",
       "      <td>Most Unnatural Murder</td>\n",
       "    </tr>\n",
       "    <tr>\n",
       "      <th>79</th>\n",
       "      <td>lear</td>\n",
       "      <td>Norman S. Barrett</td>\n",
       "      <td>Monsters of the Deep</td>\n",
       "    </tr>\n",
       "    <tr>\n",
       "      <th>83</th>\n",
       "      <td>ayli</td>\n",
       "      <td>Maurice Druon</td>\n",
       "      <td>The Seven Ages of Paris</td>\n",
       "    </tr>\n",
       "    <tr>\n",
       "      <th>277</th>\n",
       "      <td>macbeth</td>\n",
       "      <td>M. C. Varley</td>\n",
       "      <td>A Charmed Life</td>\n",
       "    </tr>\n",
       "    <tr>\n",
       "      <th>12</th>\n",
       "      <td>hamlet1</td>\n",
       "      <td>Saul Landau</td>\n",
       "      <td>My Dad Was Not Hamlet</td>\n",
       "    </tr>\n",
       "    <tr>\n",
       "      <th>100</th>\n",
       "      <td>merchant</td>\n",
       "      <td>Eugene England</td>\n",
       "      <td>The Quality of Mercy: Personal Essays on Mormon Experience</td>\n",
       "    </tr>\n",
       "    <tr>\n",
       "      <th>28</th>\n",
       "      <td>allswell</td>\n",
       "      <td>Emma Erichson</td>\n",
       "      <td>The Waif; or, The Web of Life</td>\n",
       "    </tr>\n",
       "    <tr>\n",
       "      <th>34</th>\n",
       "      <td>hamlet5</td>\n",
       "      <td>Frederick May</td>\n",
       "      <td>The Rest Is Silence</td>\n",
       "    </tr>\n",
       "    <tr>\n",
       "      <th>35</th>\n",
       "      <td>lear</td>\n",
       "      <td>Doris G. Bargen</td>\n",
       "      <td>A Woman's Weapon: Spirit Possession in The Tale of Genji</td>\n",
       "    </tr>\n",
       "  </tbody>\n",
       "</table>\n",
       "</div>"
      ],
      "text/plain": [
       "         Play             Author  \\\n",
       "9         m4m      Rebecca Pitts   \n",
       "168   hamlet1     Fiona Sinclair   \n",
       "79       lear  Norman S. Barrett   \n",
       "83       ayli      Maurice Druon   \n",
       "277   macbeth       M. C. Varley   \n",
       "12    hamlet1        Saul Landau   \n",
       "100  merchant     Eugene England   \n",
       "28   allswell      Emma Erichson   \n",
       "34    hamlet5      Frederick May   \n",
       "35       lear    Doris G. Bargen   \n",
       "\n",
       "                                                          Title  \n",
       "9           Brief Authority: Fragments of One Woman's Testament  \n",
       "168                                       Most Unnatural Murder  \n",
       "79                                         Monsters of the Deep  \n",
       "83                                      The Seven Ages of Paris  \n",
       "277                                              A Charmed Life  \n",
       "12                                        My Dad Was Not Hamlet  \n",
       "100  The Quality of Mercy: Personal Essays on Mormon Experience  \n",
       "28                                The Waif; or, The Web of Life  \n",
       "34                                          The Rest Is Silence  \n",
       "35     A Woman's Weapon: Spirit Possession in The Tale of Genji  "
      ]
     },
     "execution_count": 31,
     "metadata": {},
     "output_type": "execute_result"
    }
   ],
   "source": [
    "big_df.sample(10)"
   ]
  },
  {
   "cell_type": "code",
   "execution_count": 40,
   "metadata": {},
   "outputs": [],
   "source": [
    "big_dfv2 = big_df.reset_index()\n",
    "big_dfv2.drop(columns=['index'], inplace=True)"
   ]
  },
  {
   "cell_type": "code",
   "execution_count": 41,
   "metadata": {},
   "outputs": [
    {
     "data": {
      "text/html": [
       "<div>\n",
       "<style scoped>\n",
       "    .dataframe tbody tr th:only-of-type {\n",
       "        vertical-align: middle;\n",
       "    }\n",
       "\n",
       "    .dataframe tbody tr th {\n",
       "        vertical-align: top;\n",
       "    }\n",
       "\n",
       "    .dataframe thead th {\n",
       "        text-align: right;\n",
       "    }\n",
       "</style>\n",
       "<table border=\"1\" class=\"dataframe\">\n",
       "  <thead>\n",
       "    <tr style=\"text-align: right;\">\n",
       "      <th></th>\n",
       "      <th>Play</th>\n",
       "      <th>Author</th>\n",
       "      <th>Title</th>\n",
       "    </tr>\n",
       "  </thead>\n",
       "  <tbody>\n",
       "    <tr>\n",
       "      <th>343</th>\n",
       "      <td>julius</td>\n",
       "      <td>William Saffire, comp.:Lend Me Your Ears</td>\n",
       "      <td>None</td>\n",
       "    </tr>\n",
       "    <tr>\n",
       "      <th>1086</th>\n",
       "      <td>merchant</td>\n",
       "      <td>The Gentler Virtues in Greek Literature</td>\n",
       "      <td>None</td>\n",
       "    </tr>\n",
       "    <tr>\n",
       "      <th>1980</th>\n",
       "      <td>hamlet1</td>\n",
       "      <td>Power of Imagery for Personal Enrichment</td>\n",
       "      <td>None</td>\n",
       "    </tr>\n",
       "    <tr>\n",
       "      <th>2074</th>\n",
       "      <td>hamlet1</td>\n",
       "      <td>Violence, Horror &amp; Sensationalism in Stories for Children</td>\n",
       "      <td>None</td>\n",
       "    </tr>\n",
       "    <tr>\n",
       "      <th>2107</th>\n",
       "      <td>hamlet1</td>\n",
       "      <td>New Environments and Why They Happen</td>\n",
       "      <td>None</td>\n",
       "    </tr>\n",
       "    <tr>\n",
       "      <th>2134</th>\n",
       "      <td>hamlet2</td>\n",
       "      <td>Sydney Sipho Sepamla:Children of the Earth</td>\n",
       "      <td>None</td>\n",
       "    </tr>\n",
       "    <tr>\n",
       "      <th>2357</th>\n",
       "      <td>hamlet3</td>\n",
       "      <td>David Christie Murray &amp; Henry Herman:One Traveller Returns</td>\n",
       "      <td>None</td>\n",
       "    </tr>\n",
       "  </tbody>\n",
       "</table>\n",
       "</div>"
      ],
      "text/plain": [
       "          Play                                                      Author  \\\n",
       "343     julius                    William Saffire, comp.:Lend Me Your Ears   \n",
       "1086  merchant                     The Gentler Virtues in Greek Literature   \n",
       "1980   hamlet1                    Power of Imagery for Personal Enrichment   \n",
       "2074   hamlet1   Violence, Horror & Sensationalism in Stories for Children   \n",
       "2107   hamlet1                        New Environments and Why They Happen   \n",
       "2134   hamlet2                  Sydney Sipho Sepamla:Children of the Earth   \n",
       "2357   hamlet3  David Christie Murray & Henry Herman:One Traveller Returns   \n",
       "\n",
       "     Title  \n",
       "343   None  \n",
       "1086  None  \n",
       "1980  None  \n",
       "2074  None  \n",
       "2107  None  \n",
       "2134  None  \n",
       "2357  None  "
      ]
     },
     "execution_count": 41,
     "metadata": {},
     "output_type": "execute_result"
    }
   ],
   "source": [
    "no_title = big_dfv2['Title'].isna()\n",
    "big_dfv2[no_title]"
   ]
  },
  {
   "cell_type": "markdown",
   "metadata": {},
   "source": [
    "Data cleaning notes:\n",
    "1. The author:title for `big_dfv2.iloc[2357]` was not split properly. Correct this entry.\n",
    "2. The author:title for `big_dfv2.iloc[2134]` was not split properly. Correct this entry.\n",
    "3. `big_dfv2.loc[2107]` was improperly added as a separate list item. Partial non-shakespearean title: delete\n",
    "4. `big_dfv2.loc[2074]` was improperly added as a separate list item. Partial non-shakespearean title: delete\n",
    "5. `big_dfv2.loc[1980]` was a) improperly added as a separate list item and belows to `big_dfv2.loc[1979]` and b) this book is duplicated `big_dfv2.iloc[2000]`. Delete these two entries.\n",
    "6. `big_dfv2.loc[1086]` was improperly added as a separate list item. Partial non-shakespearean title: delete\n",
    "7. The author:title for `big_dfv2.iloc[343]` was not split properly. Correct this entry."
   ]
  },
  {
   "cell_type": "code",
   "execution_count": 48,
   "metadata": {},
   "outputs": [],
   "source": [
    "big_dfv2.iloc[2357]['Title'] = 'One Traveller Returns'\n",
    "big_dfv2.iloc[2357]['Author'] = 'David Christie Murray & Henry Herman'\n",
    "\n",
    "big_dfv2.iloc[2134]['Author'] = 'Sydney Sipho Sepamla'\n",
    "big_dfv2.iloc[2134]['Title'] = 'Children of the Earth'\n",
    "\n",
    "big_dfv2.iloc[343]['Author'] = 'William Saffire'\n",
    "big_dfv2.iloc[343]['Title'] = 'Lend Me Your Ears'"
   ]
  },
  {
   "cell_type": "code",
   "execution_count": 50,
   "metadata": {},
   "outputs": [],
   "source": [
    "big_dfv2 = big_dfv2.drop(index=[2107, 2074, 1980, 1979, 1086])"
   ]
  },
  {
   "cell_type": "code",
   "execution_count": 52,
   "metadata": {},
   "outputs": [
    {
     "name": "stdout",
     "output_type": "stream",
     "text": [
      "<class 'pandas.core.frame.DataFrame'>\n",
      "Int64Index: 2579 entries, 0 to 2583\n",
      "Data columns (total 3 columns):\n",
      " #   Column  Non-Null Count  Dtype \n",
      "---  ------  --------------  ----- \n",
      " 0   Play    2579 non-null   object\n",
      " 1   Author  2579 non-null   object\n",
      " 2   Title   2579 non-null   object\n",
      "dtypes: object(3)\n",
      "memory usage: 80.6+ KB\n"
     ]
    }
   ],
   "source": [
    "big_dfv2.info()"
   ]
  },
  {
   "cell_type": "code",
   "execution_count": null,
   "metadata": {},
   "outputs": [],
   "source": []
  }
 ],
 "metadata": {
  "kernelspec": {
   "display_name": "Python 3",
   "language": "python",
   "name": "python3"
  },
  "language_info": {
   "codemirror_mode": {
    "name": "ipython",
    "version": 3
   },
   "file_extension": ".py",
   "mimetype": "text/x-python",
   "name": "python",
   "nbconvert_exporter": "python",
   "pygments_lexer": "ipython3",
   "version": "3.8.3"
  }
 },
 "nbformat": 4,
 "nbformat_minor": 4
}
