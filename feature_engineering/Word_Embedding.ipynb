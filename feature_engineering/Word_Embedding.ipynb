{
 "cells": [
  {
   "cell_type": "code",
   "execution_count": 1,
   "metadata": {},
   "outputs": [],
   "source": [
    "import gensim\n",
    "import numpy as np\n",
    "import pandas as pd\n",
    "from nltk.tokenize import TreebankWordTokenizer\n",
    "import os\n",
    "\n",
    "pd.set_option('display.max_colwidth', None)"
   ]
  },
  {
   "cell_type": "code",
   "execution_count": 2,
   "metadata": {},
   "outputs": [
    {
     "data": {
      "text/html": [
       "<div>\n",
       "<style scoped>\n",
       "    .dataframe tbody tr th:only-of-type {\n",
       "        vertical-align: middle;\n",
       "    }\n",
       "\n",
       "    .dataframe tbody tr th {\n",
       "        vertical-align: top;\n",
       "    }\n",
       "\n",
       "    .dataframe thead th {\n",
       "        text-align: right;\n",
       "    }\n",
       "</style>\n",
       "<table border=\"1\" class=\"dataframe\">\n",
       "  <thead>\n",
       "    <tr style=\"text-align: right;\">\n",
       "      <th></th>\n",
       "      <th>Dataline</th>\n",
       "      <th>Play</th>\n",
       "      <th>Line</th>\n",
       "      <th>ActSceneLine</th>\n",
       "      <th>Player</th>\n",
       "      <th>PlayerLinenumber</th>\n",
       "      <th>Traditional</th>\n",
       "      <th>Modern</th>\n",
       "    </tr>\n",
       "  </thead>\n",
       "  <tbody>\n",
       "    <tr>\n",
       "      <th>19807</th>\n",
       "      <td>19808</td>\n",
       "      <td>antony and cleopatra</td>\n",
       "      <td>We'll speak with thee at sea: at land, thou know'st</td>\n",
       "      <td>2.6.28</td>\n",
       "      <td>MARK ANTONY</td>\n",
       "      <td>5.0</td>\n",
       "      <td>tragedy</td>\n",
       "      <td>tragedy</td>\n",
       "    </tr>\n",
       "    <tr>\n",
       "      <th>49819</th>\n",
       "      <td>49820</td>\n",
       "      <td>king lear</td>\n",
       "      <td>But other of your insolent retinue</td>\n",
       "      <td>1.4.193</td>\n",
       "      <td>GONERIL</td>\n",
       "      <td>75.0</td>\n",
       "      <td>tragedy</td>\n",
       "      <td>tragedy</td>\n",
       "    </tr>\n",
       "    <tr>\n",
       "      <th>111930</th>\n",
       "      <td>111931</td>\n",
       "      <td>sonnet 39</td>\n",
       "      <td>What can mine own praise to mine own self bring?</td>\n",
       "      <td>0.0.2</td>\n",
       "      <td>Poet</td>\n",
       "      <td>2.0</td>\n",
       "      <td>sonnet</td>\n",
       "      <td>romance</td>\n",
       "    </tr>\n",
       "    <tr>\n",
       "      <th>43425</th>\n",
       "      <td>43426</td>\n",
       "      <td>henry viii</td>\n",
       "      <td>Holy and heavenly thoughts still counsel her:</td>\n",
       "      <td>5.5.34</td>\n",
       "      <td>CRANMER</td>\n",
       "      <td>8.0</td>\n",
       "      <td>history</td>\n",
       "      <td>tragedy</td>\n",
       "    </tr>\n",
       "    <tr>\n",
       "      <th>104950</th>\n",
       "      <td>104951</td>\n",
       "      <td>twelfth night</td>\n",
       "      <td>become the function well, nor lean enough to be</td>\n",
       "      <td>4.2.7</td>\n",
       "      <td>Clown</td>\n",
       "      <td>2.0</td>\n",
       "      <td>comedy</td>\n",
       "      <td>comedy</td>\n",
       "    </tr>\n",
       "  </tbody>\n",
       "</table>\n",
       "</div>"
      ],
      "text/plain": [
       "        Dataline                  Play  \\\n",
       "19807      19808  antony and cleopatra   \n",
       "49819      49820             king lear   \n",
       "111930    111931             sonnet 39   \n",
       "43425      43426            henry viii   \n",
       "104950    104951         twelfth night   \n",
       "\n",
       "                                                       Line ActSceneLine  \\\n",
       "19807   We'll speak with thee at sea: at land, thou know'st       2.6.28   \n",
       "49819                    But other of your insolent retinue      1.4.193   \n",
       "111930     What can mine own praise to mine own self bring?        0.0.2   \n",
       "43425         Holy and heavenly thoughts still counsel her:       5.5.34   \n",
       "104950      become the function well, nor lean enough to be        4.2.7   \n",
       "\n",
       "             Player  PlayerLinenumber Traditional   Modern  \n",
       "19807   MARK ANTONY               5.0     tragedy  tragedy  \n",
       "49819       GONERIL              75.0     tragedy  tragedy  \n",
       "111930         Poet               2.0      sonnet  romance  \n",
       "43425       CRANMER               8.0     history  tragedy  \n",
       "104950        Clown               2.0      comedy   comedy  "
      ]
     },
     "execution_count": 2,
     "metadata": {},
     "output_type": "execute_result"
    }
   ],
   "source": [
    "shake_df = pd.read_csv('../data/shake_corpus.csv')\n",
    "shake_df.sample(5)"
   ]
  },
  {
   "cell_type": "code",
   "execution_count": 6,
   "metadata": {},
   "outputs": [
    {
     "data": {
      "text/html": [
       "<div>\n",
       "<style scoped>\n",
       "    .dataframe tbody tr th:only-of-type {\n",
       "        vertical-align: middle;\n",
       "    }\n",
       "\n",
       "    .dataframe tbody tr th {\n",
       "        vertical-align: top;\n",
       "    }\n",
       "\n",
       "    .dataframe thead th {\n",
       "        text-align: right;\n",
       "    }\n",
       "</style>\n",
       "<table border=\"1\" class=\"dataframe\">\n",
       "  <thead>\n",
       "    <tr style=\"text-align: right;\">\n",
       "      <th></th>\n",
       "      <th>Dataline</th>\n",
       "      <th>Play</th>\n",
       "      <th>Line</th>\n",
       "      <th>ActSceneLine</th>\n",
       "      <th>Player</th>\n",
       "      <th>PlayerLinenumber</th>\n",
       "      <th>Traditional</th>\n",
       "      <th>Modern</th>\n",
       "      <th>line_clean</th>\n",
       "    </tr>\n",
       "  </thead>\n",
       "  <tbody>\n",
       "    <tr>\n",
       "      <th>12850</th>\n",
       "      <td>12851</td>\n",
       "      <td>alls well that ends well</td>\n",
       "      <td>Exit</td>\n",
       "      <td>1.1.183</td>\n",
       "      <td>Page</td>\n",
       "      <td>48.0</td>\n",
       "      <td>comedy</td>\n",
       "      <td>comedy</td>\n",
       "      <td>[exit]</td>\n",
       "    </tr>\n",
       "    <tr>\n",
       "      <th>61570</th>\n",
       "      <td>61571</td>\n",
       "      <td>merchant of venice</td>\n",
       "      <td>They would be better, if well followed.</td>\n",
       "      <td>1.1.200</td>\n",
       "      <td>NERISSA</td>\n",
       "      <td>36.0</td>\n",
       "      <td>comedy</td>\n",
       "      <td>comedy</td>\n",
       "      <td>[they, would, be, better, if, well, followed]</td>\n",
       "    </tr>\n",
       "    <tr>\n",
       "      <th>68929</th>\n",
       "      <td>68930</td>\n",
       "      <td>midsummer nights dream</td>\n",
       "      <td>Exit PHILOSTRATE</td>\n",
       "      <td>5.1.90</td>\n",
       "      <td>THESEUS</td>\n",
       "      <td>16.0</td>\n",
       "      <td>comedy</td>\n",
       "      <td>comedy</td>\n",
       "      <td>[exit, philostrate]</td>\n",
       "    </tr>\n",
       "    <tr>\n",
       "      <th>50902</th>\n",
       "      <td>50903</td>\n",
       "      <td>king lear</td>\n",
       "      <td>My wits begin to turn.</td>\n",
       "      <td>3.2.70</td>\n",
       "      <td>KING LEAR</td>\n",
       "      <td>11.0</td>\n",
       "      <td>tragedy</td>\n",
       "      <td>tragedy</td>\n",
       "      <td>[my, wits, begin, to, turn]</td>\n",
       "    </tr>\n",
       "    <tr>\n",
       "      <th>108266</th>\n",
       "      <td>108267</td>\n",
       "      <td>winters tale</td>\n",
       "      <td>I play'd the fool, it was my negligence,</td>\n",
       "      <td>1.2.305</td>\n",
       "      <td>CAMILLO</td>\n",
       "      <td>68.0</td>\n",
       "      <td>comedy</td>\n",
       "      <td>romance</td>\n",
       "      <td>[play, the, fool, it, was, my, negligence]</td>\n",
       "    </tr>\n",
       "  </tbody>\n",
       "</table>\n",
       "</div>"
      ],
      "text/plain": [
       "        Dataline                      Play  \\\n",
       "12850      12851  alls well that ends well   \n",
       "61570      61571        merchant of venice   \n",
       "68929      68930    midsummer nights dream   \n",
       "50902      50903                 king lear   \n",
       "108266    108267              winters tale   \n",
       "\n",
       "                                            Line ActSceneLine     Player  \\\n",
       "12850                                       Exit      1.1.183       Page   \n",
       "61570    They would be better, if well followed.      1.1.200    NERISSA   \n",
       "68929                           Exit PHILOSTRATE       5.1.90    THESEUS   \n",
       "50902                     My wits begin to turn.       3.2.70  KING LEAR   \n",
       "108266  I play'd the fool, it was my negligence,      1.2.305    CAMILLO   \n",
       "\n",
       "        PlayerLinenumber Traditional   Modern  \\\n",
       "12850               48.0      comedy   comedy   \n",
       "61570               36.0      comedy   comedy   \n",
       "68929               16.0      comedy   comedy   \n",
       "50902               11.0     tragedy  tragedy   \n",
       "108266              68.0      comedy  romance   \n",
       "\n",
       "                                           line_clean  \n",
       "12850                                          [exit]  \n",
       "61570   [they, would, be, better, if, well, followed]  \n",
       "68929                             [exit, philostrate]  \n",
       "50902                     [my, wits, begin, to, turn]  \n",
       "108266     [play, the, fool, it, was, my, negligence]  "
      ]
     },
     "execution_count": 6,
     "metadata": {},
     "output_type": "execute_result"
    }
   ],
   "source": [
    "shake_df['line_clean'] = shake_df['Line'].apply(lambda x: gensim.utils.simple_preprocess(x))\n",
    "shake_df.sample(5)"
   ]
  },
  {
   "cell_type": "markdown",
   "metadata": {},
   "source": [
    "Processing the lines above treats each document as a fragment of line. The document should be the entire line itself. Below I will join the lines, and then split into individual lines based on '.'"
   ]
  },
  {
   "cell_type": "code",
   "execution_count": 8,
   "metadata": {},
   "outputs": [
    {
     "data": {
      "text/plain": [
       "113553"
      ]
     },
     "execution_count": 8,
     "metadata": {},
     "output_type": "execute_result"
    }
   ],
   "source": [
    "shake_lines = shake_df.Line.tolist()\n",
    "len(shake_lines)"
   ]
  },
  {
   "cell_type": "code",
   "execution_count": 10,
   "metadata": {},
   "outputs": [
    {
     "data": {
      "text/plain": [
       "'ACT I SCENE I. London. The palace. Enter KING HENRY, LORD JOHN OF LANCASTER, the EARL of WESTMORELAN'"
      ]
     },
     "execution_count": 10,
     "metadata": {},
     "output_type": "execute_result"
    }
   ],
   "source": [
    "shake_all = ' '.join(shake_lines)\n",
    "shake_all[:100]"
   ]
  },
  {
   "cell_type": "code",
   "execution_count": 11,
   "metadata": {},
   "outputs": [
    {
     "data": {
      "text/plain": [
       "['ACT I SCENE I',\n",
       " ' London',\n",
       " ' The palace',\n",
       " ' Enter KING HENRY, LORD JOHN OF LANCASTER, the EARL of WESTMORELAND, SIR WALTER BLUNT, and others So shaken as we are, so wan with care, Find we a time for frighted peace to pant, And breathe short-winded accents of new broils To be commenced in strands afar remote',\n",
       " \" No more the thirsty entrance of this soil Shall daub her lips with her own children's blood, Nor more shall trenching war channel her fields, Nor bruise her flowerets with the armed hoofs Of hostile paces: those opposed eyes, Which, like the meteors of a troubled heaven, All of one nature, of one substance bred, Did lately meet in the intestine shock And furious close of civil butchery Shall now, in mutual well-beseeming ranks, March all one way and be no more opposed Against acquaintance, kindred and allies: The edge of war, like an ill-sheathed knife, No more shall cut his master\"]"
      ]
     },
     "execution_count": 11,
     "metadata": {},
     "output_type": "execute_result"
    }
   ],
   "source": [
    "shake_corpus = shake_all.split('.')\n",
    "shake_corpus[:5]"
   ]
  },
  {
   "cell_type": "code",
   "execution_count": 14,
   "metadata": {},
   "outputs": [],
   "source": [
    "shake_corpus_df = pd.DataFrame(shake_corpus, columns=['line'])"
   ]
  },
  {
   "cell_type": "code",
   "execution_count": 15,
   "metadata": {},
   "outputs": [
    {
     "data": {
      "text/html": [
       "<div>\n",
       "<style scoped>\n",
       "    .dataframe tbody tr th:only-of-type {\n",
       "        vertical-align: middle;\n",
       "    }\n",
       "\n",
       "    .dataframe tbody tr th {\n",
       "        vertical-align: top;\n",
       "    }\n",
       "\n",
       "    .dataframe thead th {\n",
       "        text-align: right;\n",
       "    }\n",
       "</style>\n",
       "<table border=\"1\" class=\"dataframe\">\n",
       "  <thead>\n",
       "    <tr style=\"text-align: right;\">\n",
       "      <th></th>\n",
       "      <th>line</th>\n",
       "      <th>line_clean</th>\n",
       "    </tr>\n",
       "  </thead>\n",
       "  <tbody>\n",
       "    <tr>\n",
       "      <th>0</th>\n",
       "      <td>ACT I SCENE I</td>\n",
       "      <td>[act, scene]</td>\n",
       "    </tr>\n",
       "    <tr>\n",
       "      <th>1</th>\n",
       "      <td>London</td>\n",
       "      <td>[london]</td>\n",
       "    </tr>\n",
       "    <tr>\n",
       "      <th>2</th>\n",
       "      <td>The palace</td>\n",
       "      <td>[the, palace]</td>\n",
       "    </tr>\n",
       "    <tr>\n",
       "      <th>3</th>\n",
       "      <td>Enter KING HENRY, LORD JOHN OF LANCASTER, the EARL of WESTMORELAND, SIR WALTER BLUNT, and others So shaken as we are, so wan with care, Find we a time for frighted peace to pant, And breathe short-winded accents of new broils To be commenced in strands afar remote</td>\n",
       "      <td>[enter, king, henry, lord, john, of, lancaster, the, earl, of, westmoreland, sir, walter, blunt, and, others, so, shaken, as, we, are, so, wan, with, care, find, we, time, for, frighted, peace, to, pant, and, breathe, short, winded, accents, of, new, broils, to, be, commenced, in, strands, afar, remote]</td>\n",
       "    </tr>\n",
       "    <tr>\n",
       "      <th>4</th>\n",
       "      <td>No more the thirsty entrance of this soil Shall daub her lips with her own children's blood, Nor more shall trenching war channel her fields, Nor bruise her flowerets with the armed hoofs Of hostile paces: those opposed eyes, Which, like the meteors of a troubled heaven, All of one nature, of one substance bred, Did lately meet in the intestine shock And furious close of civil butchery Shall now, in mutual well-beseeming ranks, March all one way and be no more opposed Against acquaintance, kindred and allies: The edge of war, like an ill-sheathed knife, No more shall cut his master</td>\n",
       "      <td>[no, more, the, thirsty, entrance, of, this, soil, shall, daub, her, lips, with, her, own, children, blood, nor, more, shall, trenching, war, channel, her, fields, nor, bruise, her, flowerets, with, the, armed, hoofs, of, hostile, paces, those, opposed, eyes, which, like, the, meteors, of, troubled, heaven, all, of, one, nature, of, one, substance, bred, did, lately, meet, in, the, intestine, shock, and, furious, close, of, civil, butchery, shall, now, in, mutual, well, beseeming, ranks, march, all, one, way, and, be, no, more, opposed, against, acquaintance, kindred, and, allies, the, edge, of, war, like, an, ill, sheathed, knife, no, more, shall, ...]</td>\n",
       "    </tr>\n",
       "  </tbody>\n",
       "</table>\n",
       "</div>"
      ],
      "text/plain": [
       "                                                                                                                                                                                                                                                                                                                                                                                                                                                                                                                                                                                                            line  \\\n",
       "0                                                                                                                                                                                                                                                                                                                                                                                                                                                                                                                                                                                                  ACT I SCENE I   \n",
       "1                                                                                                                                                                                                                                                                                                                                                                                                                                                                                                                                                                                                         London   \n",
       "2                                                                                                                                                                                                                                                                                                                                                                                                                                                                                                                                                                                                     The palace   \n",
       "3                                                                                                                                                                                                                                                                                                                                       Enter KING HENRY, LORD JOHN OF LANCASTER, the EARL of WESTMORELAND, SIR WALTER BLUNT, and others So shaken as we are, so wan with care, Find we a time for frighted peace to pant, And breathe short-winded accents of new broils To be commenced in strands afar remote   \n",
       "4   No more the thirsty entrance of this soil Shall daub her lips with her own children's blood, Nor more shall trenching war channel her fields, Nor bruise her flowerets with the armed hoofs Of hostile paces: those opposed eyes, Which, like the meteors of a troubled heaven, All of one nature, of one substance bred, Did lately meet in the intestine shock And furious close of civil butchery Shall now, in mutual well-beseeming ranks, March all one way and be no more opposed Against acquaintance, kindred and allies: The edge of war, like an ill-sheathed knife, No more shall cut his master   \n",
       "\n",
       "                                                                                                                                                                                                                                                                                                                                                                                                                                                                                                                                                                                                                                                                              line_clean  \n",
       "0                                                                                                                                                                                                                                                                                                                                                                                                                                                                                                                                                                                                                                                                           [act, scene]  \n",
       "1                                                                                                                                                                                                                                                                                                                                                                                                                                                                                                                                                                                                                                                                               [london]  \n",
       "2                                                                                                                                                                                                                                                                                                                                                                                                                                                                                                                                                                                                                                                                          [the, palace]  \n",
       "3                                                                                                                                                                                                                                                                                                                                                                       [enter, king, henry, lord, john, of, lancaster, the, earl, of, westmoreland, sir, walter, blunt, and, others, so, shaken, as, we, are, so, wan, with, care, find, we, time, for, frighted, peace, to, pant, and, breathe, short, winded, accents, of, new, broils, to, be, commenced, in, strands, afar, remote]  \n",
       "4  [no, more, the, thirsty, entrance, of, this, soil, shall, daub, her, lips, with, her, own, children, blood, nor, more, shall, trenching, war, channel, her, fields, nor, bruise, her, flowerets, with, the, armed, hoofs, of, hostile, paces, those, opposed, eyes, which, like, the, meteors, of, troubled, heaven, all, of, one, nature, of, one, substance, bred, did, lately, meet, in, the, intestine, shock, and, furious, close, of, civil, butchery, shall, now, in, mutual, well, beseeming, ranks, march, all, one, way, and, be, no, more, opposed, against, acquaintance, kindred, and, allies, the, edge, of, war, like, an, ill, sheathed, knife, no, more, shall, ...]  "
      ]
     },
     "execution_count": 15,
     "metadata": {},
     "output_type": "execute_result"
    }
   ],
   "source": [
    "shake_corpus_df['line_clean'] = shake_corpus_df['line'].apply(lambda x: gensim.utils.simple_preprocess(x))\n",
    "shake_corpus_df.head()"
   ]
  },
  {
   "cell_type": "code",
   "execution_count": 29,
   "metadata": {},
   "outputs": [],
   "source": [
    "w2v_model = gensim.models.Word2Vec(shake_corpus_df['line_clean'], size=100, window=5, min_count=2)"
   ]
  },
  {
   "cell_type": "markdown",
   "metadata": {},
   "source": [
    "Find the most similar words to the most frequently used words in our set of actual titles"
   ]
  },
  {
   "cell_type": "code",
   "execution_count": 26,
   "metadata": {},
   "outputs": [
    {
     "data": {
      "text/plain": [
       "[('merchandise', 0.8550989031791687),\n",
       " ('light', 0.8457979559898376),\n",
       " ('death', 0.845095157623291),\n",
       " ('fortune', 0.8397153615951538),\n",
       " ('fall', 0.8270392417907715),\n",
       " ('work', 0.819554328918457),\n",
       " ('myself', 0.8163576722145081),\n",
       " ('consent', 0.8109981417655945),\n",
       " ('revenge', 0.8102153539657593),\n",
       " ('part', 0.8084492087364197)]"
      ]
     },
     "execution_count": 26,
     "metadata": {},
     "output_type": "execute_result"
    }
   ],
   "source": [
    "w2v_model.wv.most_similar('heaven')"
   ]
  },
  {
   "cell_type": "code",
   "execution_count": 27,
   "metadata": {},
   "outputs": [
    {
     "data": {
      "text/plain": [
       "[('age', 0.916276216506958),\n",
       " ('beauty', 0.9095497727394104),\n",
       " ('virtue', 0.9070041179656982),\n",
       " ('flesh', 0.8985511064529419),\n",
       " ('breath', 0.893226683139801),\n",
       " ('birth', 0.8926401734352112),\n",
       " ('eye', 0.8921049237251282),\n",
       " ('grief', 0.8842465877532959),\n",
       " ('loss', 0.8809669017791748),\n",
       " ('sorrow', 0.8796870708465576)]"
      ]
     },
     "execution_count": 27,
     "metadata": {},
     "output_type": "execute_result"
    }
   ],
   "source": [
    "w2v_model.wv.most_similar('blood')"
   ]
  },
  {
   "cell_type": "code",
   "execution_count": 28,
   "metadata": {},
   "outputs": [
    {
     "data": {
      "text/plain": [
       "[('worst', 0.8616856336593628),\n",
       " ('end', 0.804405927658081),\n",
       " ('truth', 0.8005660772323608),\n",
       " ('time', 0.7947704792022705),\n",
       " ('thing', 0.7887304425239563),\n",
       " ('deed', 0.7839971780776978),\n",
       " ('law', 0.77757728099823),\n",
       " ('earth', 0.7765325903892517),\n",
       " ('nature', 0.7726906538009644),\n",
       " ('depth', 0.7712389826774597)]"
      ]
     },
     "execution_count": 28,
     "metadata": {},
     "output_type": "execute_result"
    }
   ],
   "source": [
    "w2v_model.wv.most_similar('world')"
   ]
  },
  {
   "cell_type": "code",
   "execution_count": 24,
   "metadata": {},
   "outputs": [
    {
     "data": {
      "text/plain": [
       "[('day', 0.9143925905227661),\n",
       " ('time', 0.8499373197555542),\n",
       " ('morning', 0.8498775959014893),\n",
       " ('court', 0.837300717830658),\n",
       " ('business', 0.8262588977813721),\n",
       " ('watch', 0.8227887153625488),\n",
       " ('morrow', 0.8107404112815857),\n",
       " ('rest', 0.8095710277557373),\n",
       " ('last', 0.8034456968307495),\n",
       " ('place', 0.7928426861763)]"
      ]
     },
     "execution_count": 24,
     "metadata": {},
     "output_type": "execute_result"
    }
   ],
   "source": [
    "w2v_model.wv.most_similar('night')"
   ]
  },
  {
   "cell_type": "markdown",
   "metadata": {},
   "source": [
    "Refer to https://radimrehurek.com/gensim/models/word2vec.html"
   ]
  },
  {
   "cell_type": "code",
   "execution_count": 30,
   "metadata": {},
   "outputs": [],
   "source": [
    "shake_word_vectors = w2v_model.wv"
   ]
  },
  {
   "cell_type": "code",
   "execution_count": 31,
   "metadata": {},
   "outputs": [],
   "source": [
    "shake_word_vectors.save('shake_w2v.wordsvectors')"
   ]
  },
  {
   "cell_type": "code",
   "execution_count": null,
   "metadata": {},
   "outputs": [],
   "source": []
  }
 ],
 "metadata": {
  "kernelspec": {
   "display_name": "Python 3",
   "language": "python",
   "name": "python3"
  },
  "language_info": {
   "codemirror_mode": {
    "name": "ipython",
    "version": 3
   },
   "file_extension": ".py",
   "mimetype": "text/x-python",
   "name": "python",
   "nbconvert_exporter": "python",
   "pygments_lexer": "ipython3",
   "version": "3.8.3"
  }
 },
 "nbformat": 4,
 "nbformat_minor": 4
}
