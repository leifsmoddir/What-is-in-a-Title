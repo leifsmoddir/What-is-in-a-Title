{
 "cells": [
  {
   "cell_type": "code",
   "execution_count": 1,
   "metadata": {},
   "outputs": [],
   "source": [
    "import gensim\n",
    "import numpy as np\n",
    "import pandas as pd\n",
    "from nltk.tokenize import TreebankWordTokenizer\n",
    "import os\n",
    "\n",
    "pd.set_option('display.max_colwidth', None)"
   ]
  },
  {
   "cell_type": "code",
   "execution_count": 2,
   "metadata": {},
   "outputs": [
    {
     "data": {
      "text/html": [
       "<div>\n",
       "<style scoped>\n",
       "    .dataframe tbody tr th:only-of-type {\n",
       "        vertical-align: middle;\n",
       "    }\n",
       "\n",
       "    .dataframe tbody tr th {\n",
       "        vertical-align: top;\n",
       "    }\n",
       "\n",
       "    .dataframe thead th {\n",
       "        text-align: right;\n",
       "    }\n",
       "</style>\n",
       "<table border=\"1\" class=\"dataframe\">\n",
       "  <thead>\n",
       "    <tr style=\"text-align: right;\">\n",
       "      <th></th>\n",
       "      <th>Dataline</th>\n",
       "      <th>Play</th>\n",
       "      <th>Line</th>\n",
       "      <th>ActSceneLine</th>\n",
       "      <th>Player</th>\n",
       "      <th>PlayerLinenumber</th>\n",
       "      <th>Traditional</th>\n",
       "      <th>Modern</th>\n",
       "    </tr>\n",
       "  </thead>\n",
       "  <tbody>\n",
       "    <tr>\n",
       "      <th>16236</th>\n",
       "      <td>16237</td>\n",
       "      <td>as you like it</td>\n",
       "      <td>Within these ten days if that thou be'st found</td>\n",
       "      <td>1.3.38</td>\n",
       "      <td>DUKE FREDERICK</td>\n",
       "      <td>22.0</td>\n",
       "      <td>comedy</td>\n",
       "      <td>comedy</td>\n",
       "    </tr>\n",
       "    <tr>\n",
       "      <th>1541</th>\n",
       "      <td>1542</td>\n",
       "      <td>henry iv</td>\n",
       "      <td>charge of foot, and I know his death will be a</td>\n",
       "      <td>2.4.528</td>\n",
       "      <td>PRINCE HENRY</td>\n",
       "      <td>197.0</td>\n",
       "      <td>history</td>\n",
       "      <td>tragedy</td>\n",
       "    </tr>\n",
       "    <tr>\n",
       "      <th>14189</th>\n",
       "      <td>14190</td>\n",
       "      <td>alls well that ends well</td>\n",
       "      <td>Whoever charges on his forward breast,</td>\n",
       "      <td>3.2.119</td>\n",
       "      <td>HELENA</td>\n",
       "      <td>42.0</td>\n",
       "      <td>comedy</td>\n",
       "      <td>comedy</td>\n",
       "    </tr>\n",
       "    <tr>\n",
       "      <th>17668</th>\n",
       "      <td>17669</td>\n",
       "      <td>as you like it</td>\n",
       "      <td>SCENE I. The forest.</td>\n",
       "      <td>4.1.1</td>\n",
       "      <td>PHEBE</td>\n",
       "      <td>24.0</td>\n",
       "      <td>comedy</td>\n",
       "      <td>comedy</td>\n",
       "    </tr>\n",
       "    <tr>\n",
       "      <th>63734</th>\n",
       "      <td>63735</td>\n",
       "      <td>merchant of venice</td>\n",
       "      <td>Sir, I entreat you home with me to dinner.</td>\n",
       "      <td>4.1.417</td>\n",
       "      <td>DUKE</td>\n",
       "      <td>120.0</td>\n",
       "      <td>comedy</td>\n",
       "      <td>comedy</td>\n",
       "    </tr>\n",
       "  </tbody>\n",
       "</table>\n",
       "</div>"
      ],
      "text/plain": [
       "       Dataline                      Play  \\\n",
       "16236     16237            as you like it   \n",
       "1541       1542                  henry iv   \n",
       "14189     14190  alls well that ends well   \n",
       "17668     17669            as you like it   \n",
       "63734     63735        merchant of venice   \n",
       "\n",
       "                                                 Line ActSceneLine  \\\n",
       "16236  Within these ten days if that thou be'st found       1.3.38   \n",
       "1541   charge of foot, and I know his death will be a      2.4.528   \n",
       "14189          Whoever charges on his forward breast,      3.2.119   \n",
       "17668                            SCENE I. The forest.        4.1.1   \n",
       "63734      Sir, I entreat you home with me to dinner.      4.1.417   \n",
       "\n",
       "               Player  PlayerLinenumber Traditional   Modern  \n",
       "16236  DUKE FREDERICK              22.0      comedy   comedy  \n",
       "1541     PRINCE HENRY             197.0     history  tragedy  \n",
       "14189          HELENA              42.0      comedy   comedy  \n",
       "17668           PHEBE              24.0      comedy   comedy  \n",
       "63734            DUKE             120.0      comedy   comedy  "
      ]
     },
     "execution_count": 2,
     "metadata": {},
     "output_type": "execute_result"
    }
   ],
   "source": [
    "shake_df = pd.read_csv('../data/shake_corpus.csv')\n",
    "shake_df.sample(5)"
   ]
  },
  {
   "cell_type": "code",
   "execution_count": 3,
   "metadata": {},
   "outputs": [
    {
     "data": {
      "text/html": [
       "<div>\n",
       "<style scoped>\n",
       "    .dataframe tbody tr th:only-of-type {\n",
       "        vertical-align: middle;\n",
       "    }\n",
       "\n",
       "    .dataframe tbody tr th {\n",
       "        vertical-align: top;\n",
       "    }\n",
       "\n",
       "    .dataframe thead th {\n",
       "        text-align: right;\n",
       "    }\n",
       "</style>\n",
       "<table border=\"1\" class=\"dataframe\">\n",
       "  <thead>\n",
       "    <tr style=\"text-align: right;\">\n",
       "      <th></th>\n",
       "      <th>Dataline</th>\n",
       "      <th>Play</th>\n",
       "      <th>Line</th>\n",
       "      <th>ActSceneLine</th>\n",
       "      <th>Player</th>\n",
       "      <th>PlayerLinenumber</th>\n",
       "      <th>Traditional</th>\n",
       "      <th>Modern</th>\n",
       "      <th>line_clean</th>\n",
       "    </tr>\n",
       "  </thead>\n",
       "  <tbody>\n",
       "    <tr>\n",
       "      <th>36255</th>\n",
       "      <td>36256</td>\n",
       "      <td>hamlet</td>\n",
       "      <td>Is't possible?</td>\n",
       "      <td>5.2.27</td>\n",
       "      <td>HORATIO</td>\n",
       "      <td>6.0</td>\n",
       "      <td>tragedy</td>\n",
       "      <td>tragedy</td>\n",
       "      <td>[is, possible]</td>\n",
       "    </tr>\n",
       "    <tr>\n",
       "      <th>109133</th>\n",
       "      <td>109134</td>\n",
       "      <td>winters tale</td>\n",
       "      <td>Produce the prisoner.</td>\n",
       "      <td>3.2.8</td>\n",
       "      <td>LEONTES</td>\n",
       "      <td>1.0</td>\n",
       "      <td>comedy</td>\n",
       "      <td>romance</td>\n",
       "      <td>[produce, the, prisoner]</td>\n",
       "    </tr>\n",
       "    <tr>\n",
       "      <th>1641</th>\n",
       "      <td>1642</td>\n",
       "      <td>henry iv</td>\n",
       "      <td>A shorter time shall send me to you, lords:</td>\n",
       "      <td>3.1.92</td>\n",
       "      <td>GLENDOWER</td>\n",
       "      <td>23.0</td>\n",
       "      <td>history</td>\n",
       "      <td>tragedy</td>\n",
       "      <td>[shorter, time, shall, send, me, to, you, lords]</td>\n",
       "    </tr>\n",
       "    <tr>\n",
       "      <th>52878</th>\n",
       "      <td>52879</td>\n",
       "      <td>loves labours lost</td>\n",
       "      <td>And give him light that it was blinded by.</td>\n",
       "      <td>1.1.83</td>\n",
       "      <td>BIRON</td>\n",
       "      <td>14.0</td>\n",
       "      <td>comedy</td>\n",
       "      <td>comedy</td>\n",
       "      <td>[and, give, him, light, that, it, was, blinded, by]</td>\n",
       "    </tr>\n",
       "    <tr>\n",
       "      <th>21478</th>\n",
       "      <td>21479</td>\n",
       "      <td>antony and cleopatra</td>\n",
       "      <td>does stand,</td>\n",
       "      <td>4.12.2</td>\n",
       "      <td>MARK ANTONY</td>\n",
       "      <td>1.0</td>\n",
       "      <td>tragedy</td>\n",
       "      <td>tragedy</td>\n",
       "      <td>[does, stand]</td>\n",
       "    </tr>\n",
       "  </tbody>\n",
       "</table>\n",
       "</div>"
      ],
      "text/plain": [
       "        Dataline                  Play  \\\n",
       "36255      36256                hamlet   \n",
       "109133    109134          winters tale   \n",
       "1641        1642              henry iv   \n",
       "52878      52879    loves labours lost   \n",
       "21478      21479  antony and cleopatra   \n",
       "\n",
       "                                               Line ActSceneLine       Player  \\\n",
       "36255                                Is't possible?       5.2.27      HORATIO   \n",
       "109133                        Produce the prisoner.        3.2.8      LEONTES   \n",
       "1641    A shorter time shall send me to you, lords:       3.1.92    GLENDOWER   \n",
       "52878    And give him light that it was blinded by.       1.1.83        BIRON   \n",
       "21478                                   does stand,       4.12.2  MARK ANTONY   \n",
       "\n",
       "        PlayerLinenumber Traditional   Modern  \\\n",
       "36255                6.0     tragedy  tragedy   \n",
       "109133               1.0      comedy  romance   \n",
       "1641                23.0     history  tragedy   \n",
       "52878               14.0      comedy   comedy   \n",
       "21478                1.0     tragedy  tragedy   \n",
       "\n",
       "                                                 line_clean  \n",
       "36255                                        [is, possible]  \n",
       "109133                             [produce, the, prisoner]  \n",
       "1641       [shorter, time, shall, send, me, to, you, lords]  \n",
       "52878   [and, give, him, light, that, it, was, blinded, by]  \n",
       "21478                                         [does, stand]  "
      ]
     },
     "execution_count": 3,
     "metadata": {},
     "output_type": "execute_result"
    }
   ],
   "source": [
    "shake_df['line_clean'] = shake_df['Line'].apply(lambda x: gensim.utils.simple_preprocess(x))\n",
    "shake_df.sample(5)"
   ]
  },
  {
   "cell_type": "markdown",
   "metadata": {},
   "source": [
    "Processing the lines above treats each document as a fragment of line. The document should be the entire line itself. Below I will join the lines, and then split into individual lines based on '.'"
   ]
  },
  {
   "cell_type": "code",
   "execution_count": 6,
   "metadata": {},
   "outputs": [
    {
     "data": {
      "text/plain": [
       "113553"
      ]
     },
     "execution_count": 6,
     "metadata": {},
     "output_type": "execute_result"
    }
   ],
   "source": [
    "shake_lines = shake_df.Line.tolist()\n",
    "len(shake_lines)"
   ]
  },
  {
   "cell_type": "code",
   "execution_count": 7,
   "metadata": {},
   "outputs": [
    {
     "data": {
      "text/plain": [
       "'ACT I SCENE I. London. The palace. Enter KING HENRY, LORD JOHN OF LANCASTER, the EARL of WESTMORELAN'"
      ]
     },
     "execution_count": 7,
     "metadata": {},
     "output_type": "execute_result"
    }
   ],
   "source": [
    "shake_all = ' '.join(shake_lines)\n",
    "shake_all[:100]"
   ]
  },
  {
   "cell_type": "code",
   "execution_count": 8,
   "metadata": {},
   "outputs": [
    {
     "data": {
      "text/plain": [
       "['ACT I SCENE I.',\n",
       " ' London.',\n",
       " ' The palace.',\n",
       " ' Enter KING HENRY, LORD JOHN OF LANCASTER, the EARL of WESTMORELAND, SIR WALTER BLUNT, and others So shaken as we are, so wan with care, Find we a time for frighted peace to pant, And breathe short-winded accents of new broils To be commenced in strands afar remote.',\n",
       " \" No more the thirsty entrance of this soil Shall daub her lips with her own children's blood, Nor more shall trenching war channel her fields, Nor bruise her flowerets with the armed hoofs Of hostile paces: those opposed eyes, Which, like the meteors of a troubled heaven, All of one nature, of one substance bred, Did lately meet in the intestine shock And furious close of civil butchery Shall now, in mutual well-beseeming ranks, March all one way and be no more opposed Against acquaintance, kindred and allies: The edge of war, like an ill-sheathed knife, No more shall cut his master.\"]"
      ]
     },
     "execution_count": 8,
     "metadata": {},
     "output_type": "execute_result"
    }
   ],
   "source": [
    "shake_corpu = shake_all.split('.')\n",
    "shake_corpus = [i + '.' for i in shake_corpu]\n",
    "shake_corpus[:5]"
   ]
  },
  {
   "cell_type": "code",
   "execution_count": 9,
   "metadata": {},
   "outputs": [],
   "source": [
    "shake_corpus_df = pd.DataFrame(shake_corpus, columns=['line']).reset_index()"
   ]
  },
  {
   "cell_type": "markdown",
   "metadata": {},
   "source": [
    "In earlier work, the pre-processing step that I used removed punctuation. Since the good Shakespearean titles do contain punctuation, I need to rerun this word-embedding"
   ]
  },
  {
   "cell_type": "code",
   "execution_count": 10,
   "metadata": {},
   "outputs": [
    {
     "data": {
      "text/html": [
       "<div>\n",
       "<style scoped>\n",
       "    .dataframe tbody tr th:only-of-type {\n",
       "        vertical-align: middle;\n",
       "    }\n",
       "\n",
       "    .dataframe tbody tr th {\n",
       "        vertical-align: top;\n",
       "    }\n",
       "\n",
       "    .dataframe thead th {\n",
       "        text-align: right;\n",
       "    }\n",
       "</style>\n",
       "<table border=\"1\" class=\"dataframe\">\n",
       "  <thead>\n",
       "    <tr style=\"text-align: right;\">\n",
       "      <th></th>\n",
       "      <th>index</th>\n",
       "      <th>line</th>\n",
       "      <th>line_tokenized</th>\n",
       "    </tr>\n",
       "  </thead>\n",
       "  <tbody>\n",
       "    <tr>\n",
       "      <th>0</th>\n",
       "      <td>0</td>\n",
       "      <td>ACT I SCENE I.</td>\n",
       "      <td>[act, i, scene, i, .]</td>\n",
       "    </tr>\n",
       "    <tr>\n",
       "      <th>1</th>\n",
       "      <td>1</td>\n",
       "      <td>London.</td>\n",
       "      <td>[london, .]</td>\n",
       "    </tr>\n",
       "    <tr>\n",
       "      <th>2</th>\n",
       "      <td>2</td>\n",
       "      <td>The palace.</td>\n",
       "      <td>[the, palace, .]</td>\n",
       "    </tr>\n",
       "    <tr>\n",
       "      <th>3</th>\n",
       "      <td>3</td>\n",
       "      <td>Enter KING HENRY, LORD JOHN OF LANCASTER, the EARL of WESTMORELAND, SIR WALTER BLUNT, and others So shaken as we are, so wan with care, Find we a time for frighted peace to pant, And breathe short-winded accents of new broils To be commenced in strands afar remote.</td>\n",
       "      <td>[enter, king, henry, ,, lord, john, of, lancaster, ,, the, earl, of, westmoreland, ,, sir, walter, blunt, ,, and, others, so, shaken, as, we, are, ,, so, wan, with, care, ,, find, we, a, time, for, frighted, peace, to, pant, ,, and, breathe, short-winded, accents, of, new, broils, to, be, commenced, in, strands, afar, remote, .]</td>\n",
       "    </tr>\n",
       "    <tr>\n",
       "      <th>4</th>\n",
       "      <td>4</td>\n",
       "      <td>No more the thirsty entrance of this soil Shall daub her lips with her own children's blood, Nor more shall trenching war channel her fields, Nor bruise her flowerets with the armed hoofs Of hostile paces: those opposed eyes, Which, like the meteors of a troubled heaven, All of one nature, of one substance bred, Did lately meet in the intestine shock And furious close of civil butchery Shall now, in mutual well-beseeming ranks, March all one way and be no more opposed Against acquaintance, kindred and allies: The edge of war, like an ill-sheathed knife, No more shall cut his master.</td>\n",
       "      <td>[no, more, the, thirsty, entrance, of, this, soil, shall, daub, her, lips, with, her, own, children, 's, blood, ,, nor, more, shall, trenching, war, channel, her, fields, ,, nor, bruise, her, flowerets, with, the, armed, hoofs, of, hostile, paces, :, those, opposed, eyes, ,, which, ,, like, the, meteors, of, a, troubled, heaven, ,, all, of, one, nature, ,, of, one, substance, bred, ,, did, lately, meet, in, the, intestine, shock, and, furious, close, of, civil, butchery, shall, now, ,, in, mutual, well-beseeming, ranks, ,, march, all, one, way, and, be, no, more, opposed, against, acquaintance, ,, kindred, and, allies, ...]</td>\n",
       "    </tr>\n",
       "  </tbody>\n",
       "</table>\n",
       "</div>"
      ],
      "text/plain": [
       "   index  \\\n",
       "0      0   \n",
       "1      1   \n",
       "2      2   \n",
       "3      3   \n",
       "4      4   \n",
       "\n",
       "                                                                                                                                                                                                                                                                                                                                                                                                                                                                                                                                                                                                             line  \\\n",
       "0                                                                                                                                                                                                                                                                                                                                                                                                                                                                                                                                                                                                  ACT I SCENE I.   \n",
       "1                                                                                                                                                                                                                                                                                                                                                                                                                                                                                                                                                                                                         London.   \n",
       "2                                                                                                                                                                                                                                                                                                                                                                                                                                                                                                                                                                                                     The palace.   \n",
       "3                                                                                                                                                                                                                                                                                                                                       Enter KING HENRY, LORD JOHN OF LANCASTER, the EARL of WESTMORELAND, SIR WALTER BLUNT, and others So shaken as we are, so wan with care, Find we a time for frighted peace to pant, And breathe short-winded accents of new broils To be commenced in strands afar remote.   \n",
       "4   No more the thirsty entrance of this soil Shall daub her lips with her own children's blood, Nor more shall trenching war channel her fields, Nor bruise her flowerets with the armed hoofs Of hostile paces: those opposed eyes, Which, like the meteors of a troubled heaven, All of one nature, of one substance bred, Did lately meet in the intestine shock And furious close of civil butchery Shall now, in mutual well-beseeming ranks, March all one way and be no more opposed Against acquaintance, kindred and allies: The edge of war, like an ill-sheathed knife, No more shall cut his master.   \n",
       "\n",
       "                                                                                                                                                                                                                                                                                                                                                                                                                                                                                                                                                                                                                                            line_tokenized  \n",
       "0                                                                                                                                                                                                                                                                                                                                                                                                                                                                                                                                                                                                                                    [act, i, scene, i, .]  \n",
       "1                                                                                                                                                                                                                                                                                                                                                                                                                                                                                                                                                                                                                                              [london, .]  \n",
       "2                                                                                                                                                                                                                                                                                                                                                                                                                                                                                                                                                                                                                                         [the, palace, .]  \n",
       "3                                                                                                                                                                                                                                                                                                               [enter, king, henry, ,, lord, john, of, lancaster, ,, the, earl, of, westmoreland, ,, sir, walter, blunt, ,, and, others, so, shaken, as, we, are, ,, so, wan, with, care, ,, find, we, a, time, for, frighted, peace, to, pant, ,, and, breathe, short-winded, accents, of, new, broils, to, be, commenced, in, strands, afar, remote, .]  \n",
       "4  [no, more, the, thirsty, entrance, of, this, soil, shall, daub, her, lips, with, her, own, children, 's, blood, ,, nor, more, shall, trenching, war, channel, her, fields, ,, nor, bruise, her, flowerets, with, the, armed, hoofs, of, hostile, paces, :, those, opposed, eyes, ,, which, ,, like, the, meteors, of, a, troubled, heaven, ,, all, of, one, nature, ,, of, one, substance, bred, ,, did, lately, meet, in, the, intestine, shock, and, furious, close, of, civil, butchery, shall, now, ,, in, mutual, well-beseeming, ranks, ,, march, all, one, way, and, be, no, more, opposed, against, acquaintance, ,, kindred, and, allies, ...]  "
      ]
     },
     "execution_count": 10,
     "metadata": {},
     "output_type": "execute_result"
    }
   ],
   "source": [
    "twd = TreebankWordTokenizer()\n",
    "\n",
    "shake_corpus_df['line_tokenized'] = shake_corpus_df['line'].apply(lambda x: twd.tokenize(x.lower()))\n",
    "shake_corpus_df.head()"
   ]
  },
  {
   "cell_type": "code",
   "execution_count": 33,
   "metadata": {},
   "outputs": [],
   "source": [
    "w2v_model = gensim.models.Word2Vec(shake_corpus_df['line_tokenized'], size=200, min_count=1)"
   ]
  },
  {
   "cell_type": "code",
   "execution_count": 34,
   "metadata": {},
   "outputs": [
    {
     "data": {
      "text/plain": [
       "[('death', 0.8017988204956055),\n",
       " ('fortune', 0.785474956035614),\n",
       " ('justice', 0.7817237377166748),\n",
       " ('light', 0.7672446966171265),\n",
       " ('shame', 0.7604905962944031),\n",
       " ('sleep', 0.7568939924240112),\n",
       " ('truth', 0.744155764579773),\n",
       " ('fall', 0.7391270995140076),\n",
       " ('life', 0.7375586032867432),\n",
       " ('work', 0.7349543571472168)]"
      ]
     },
     "execution_count": 34,
     "metadata": {},
     "output_type": "execute_result"
    }
   ],
   "source": [
    "w2v_model.wv.most_similar('heaven')"
   ]
  },
  {
   "cell_type": "code",
   "execution_count": 12,
   "metadata": {},
   "outputs": [
    {
     "data": {
      "text/plain": [
       "[('fortune', 0.7843260169029236),\n",
       " ('death', 0.7688287496566772),\n",
       " ('justice', 0.7674165964126587),\n",
       " ('life', 0.7351908683776855),\n",
       " ('fall', 0.7195068597793579),\n",
       " ('sight', 0.7181484699249268),\n",
       " ('hand', 0.7088948488235474),\n",
       " ('heart', 0.7060418128967285),\n",
       " ('truth', 0.7049264907836914),\n",
       " ('consent', 0.7034521102905273)]"
      ]
     },
     "execution_count": 12,
     "metadata": {},
     "output_type": "execute_result"
    }
   ],
   "source": [
    "#For size=100\n",
    "w2v_model.wv.most_similar('heaven')"
   ]
  },
  {
   "cell_type": "code",
   "execution_count": 23,
   "metadata": {},
   "outputs": [
    {
     "data": {
      "text/plain": [
       "[('worst', 0.8217633962631226),\n",
       " ('law', 0.7874565124511719),\n",
       " ('day', 0.7549046277999878),\n",
       " ('time', 0.7488061189651489),\n",
       " ('end', 0.743834376335144),\n",
       " ('truth', 0.743759274482727),\n",
       " ('same', 0.7346682548522949),\n",
       " ('deed', 0.7189449071884155),\n",
       " ('thing', 0.6993948221206665),\n",
       " ('oven', 0.6911342144012451)]"
      ]
     },
     "execution_count": 23,
     "metadata": {},
     "output_type": "execute_result"
    }
   ],
   "source": [
    "w2v_model.wv.most_similar('world')"
   ]
  },
  {
   "cell_type": "code",
   "execution_count": 13,
   "metadata": {},
   "outputs": [
    {
     "data": {
      "text/plain": [
       "[('worst', 0.8164222836494446),\n",
       " ('law', 0.8012160062789917),\n",
       " ('day', 0.7675077319145203),\n",
       " ('truth', 0.7648465037345886),\n",
       " ('end', 0.7643637657165527),\n",
       " ('deed', 0.7616981267929077),\n",
       " ('same', 0.7466306090354919),\n",
       " ('play', 0.7381706833839417),\n",
       " ('time', 0.7246567010879517),\n",
       " ('wonder', 0.7157785892486572)]"
      ]
     },
     "execution_count": 13,
     "metadata": {},
     "output_type": "execute_result"
    }
   ],
   "source": [
    "#Size=100, window=5\n",
    "w2v_model.wv.most_similar('world')"
   ]
  },
  {
   "cell_type": "code",
   "execution_count": 24,
   "metadata": {},
   "outputs": [
    {
     "data": {
      "text/plain": [
       "[('day', 0.8524144887924194),\n",
       " ('morning', 0.7778862714767456),\n",
       " ('court', 0.7676215171813965),\n",
       " ('field', 0.765507698059082),\n",
       " ('time', 0.7567277550697327),\n",
       " ('town', 0.7555402517318726),\n",
       " ('watch', 0.7429038286209106),\n",
       " ('next', 0.742796003818512),\n",
       " ('last', 0.7361685633659363),\n",
       " ('city', 0.7351863384246826)]"
      ]
     },
     "execution_count": 24,
     "metadata": {},
     "output_type": "execute_result"
    }
   ],
   "source": [
    "w2v_model.wv.most_similar('night')"
   ]
  },
  {
   "cell_type": "code",
   "execution_count": 14,
   "metadata": {},
   "outputs": [
    {
     "data": {
      "text/plain": [
       "[('day', 0.8597347736358643),\n",
       " ('court', 0.7767656445503235),\n",
       " ('morning', 0.7702602744102478),\n",
       " ('city', 0.7587684988975525),\n",
       " ('field', 0.7552789449691772),\n",
       " ('town', 0.7385793924331665),\n",
       " ('watch', 0.735870361328125),\n",
       " ('general', 0.7355765104293823),\n",
       " ('last', 0.7352584600448608),\n",
       " ('time', 0.7326194047927856)]"
      ]
     },
     "execution_count": 14,
     "metadata": {},
     "output_type": "execute_result"
    }
   ],
   "source": [
    "#size=100, window=5\n",
    "w2v_model.wv.most_similar('night')"
   ]
  },
  {
   "cell_type": "code",
   "execution_count": 41,
   "metadata": {},
   "outputs": [
    {
     "data": {
      "text/plain": [
       "[('river', 0.9589923620223999),\n",
       " ('hapless', 0.953300416469574),\n",
       " ('double', 0.9523762464523315),\n",
       " ('tyrant', 0.9509615302085876),\n",
       " ('dragon', 0.9505335092544556),\n",
       " ('silk', 0.950354278087616),\n",
       " ('crow', 0.9498463869094849),\n",
       " ('chair', 0.9497067928314209),\n",
       " ('combustion', 0.9493871927261353),\n",
       " ('conqueror', 0.9483494162559509)]"
      ]
     },
     "execution_count": 41,
     "metadata": {},
     "output_type": "execute_result"
    }
   ],
   "source": [
    "w2v_model.wv.most_similar('mouse')"
   ]
  },
  {
   "cell_type": "code",
   "execution_count": 35,
   "metadata": {},
   "outputs": [],
   "source": [
    "shake_word_vectors = w2v_model.wv"
   ]
  },
  {
   "cell_type": "code",
   "execution_count": 36,
   "metadata": {},
   "outputs": [],
   "source": [
    "shake_word_vectors.save('shake_w2v.wordsvectors')"
   ]
  },
  {
   "cell_type": "code",
   "execution_count": 37,
   "metadata": {},
   "outputs": [
    {
     "data": {
      "text/plain": [
       "26304"
      ]
     },
     "execution_count": 37,
     "metadata": {},
     "output_type": "execute_result"
    }
   ],
   "source": [
    "words = set(w2v_model.wv.index2word)\n",
    "len(words)"
   ]
  },
  {
   "cell_type": "code",
   "execution_count": 19,
   "metadata": {},
   "outputs": [
    {
     "data": {
      "text/plain": [
       "[(':', 0.739151120185852),\n",
       " ('agitation', 0.6338746547698975),\n",
       " ('peaceable', 0.5971411466598511),\n",
       " ('learns', 0.5911572575569153),\n",
       " ('isbel', 0.5676355361938477),\n",
       " ('unload', 0.5560346841812134),\n",
       " ('liable', 0.5466629266738892),\n",
       " ('recompense', 0.5443294048309326),\n",
       " ('betake', 0.5420522689819336),\n",
       " ('spend', 0.5376721024513245)]"
      ]
     },
     "execution_count": 19,
     "metadata": {},
     "output_type": "execute_result"
    }
   ],
   "source": [
    "w2v_model.wv.most_similar('.')"
   ]
  },
  {
   "cell_type": "code",
   "execution_count": 43,
   "metadata": {},
   "outputs": [
    {
     "data": {
      "text/plain": [
       "[('river', 0.9589923620223999),\n",
       " ('hapless', 0.953300416469574),\n",
       " ('double', 0.9523762464523315),\n",
       " ('tyrant', 0.9509615302085876),\n",
       " ('dragon', 0.9505335092544556),\n",
       " ('silk', 0.950354278087616),\n",
       " ('crow', 0.9498463869094849),\n",
       " ('chair', 0.9497067928314209),\n",
       " ('combustion', 0.9493871927261353),\n",
       " ('conqueror', 0.9483494162559509)]"
      ]
     },
     "execution_count": 43,
     "metadata": {},
     "output_type": "execute_result"
    }
   ],
   "source": [
    "w2v_model.wv.most_similar('mouse')"
   ]
  },
  {
   "cell_type": "code",
   "execution_count": 48,
   "metadata": {},
   "outputs": [
    {
     "data": {
      "text/html": [
       "<div>\n",
       "<style scoped>\n",
       "    .dataframe tbody tr th:only-of-type {\n",
       "        vertical-align: middle;\n",
       "    }\n",
       "\n",
       "    .dataframe tbody tr th {\n",
       "        vertical-align: top;\n",
       "    }\n",
       "\n",
       "    .dataframe thead th {\n",
       "        text-align: right;\n",
       "    }\n",
       "</style>\n",
       "<table border=\"1\" class=\"dataframe\">\n",
       "  <thead>\n",
       "    <tr style=\"text-align: right;\">\n",
       "      <th></th>\n",
       "      <th>index</th>\n",
       "      <th>line</th>\n",
       "      <th>line_tokenized</th>\n",
       "    </tr>\n",
       "  </thead>\n",
       "  <tbody>\n",
       "    <tr>\n",
       "      <th>8300</th>\n",
       "      <td>8300</td>\n",
       "      <td>Let him alone, He did inform the truth: but for our gentlemen, The common file--a plague! tribunes for them!-- The mouse ne'er shunn'd the cat as they did budge From rascals worse than they.</td>\n",
       "      <td>[let, him, alone, ,, he, did, inform, the, truth, :, but, for, our, gentlemen, ,, the, common, file, --, a, plague, !, tribunes, for, them, !, --, the, mouse, ne'er, shunn, 'd, the, cat, as, they, did, budge, from, rascals, worse, than, they, .]</td>\n",
       "    </tr>\n",
       "    <tr>\n",
       "      <th>10539</th>\n",
       "      <td>10539</td>\n",
       "      <td>Have you had quiet guard? Not a mouse stirring.</td>\n",
       "      <td>[have, you, had, quiet, guard, ?, not, a, mouse, stirring, .]</td>\n",
       "    </tr>\n",
       "    <tr>\n",
       "      <th>11329</th>\n",
       "      <td>11329</td>\n",
       "      <td>What shall I do? Not this, by no means, that I bid you do: Let the bloat king tempt you again to bed, Pinch wanton on your cheek, call you his mouse, And let him, for a pair of reechy kisses, Or paddling in your neck with his damn'd fingers, Make you to ravel all this matter out, That I essentially am not in madness, But mad in craft.</td>\n",
       "      <td>[what, shall, i, do, ?, not, this, ,, by, no, means, ,, that, i, bid, you, do, :, let, the, bloat, king, tempt, you, again, to, bed, ,, pinch, wanton, on, your, cheek, ,, call, you, his, mouse, ,, and, let, him, ,, for, a, pair, of, reechy, kisses, ,, or, paddling, in, your, neck, with, his, damn, 'd, fingers, ,, make, you, to, ravel, all, this, matter, out, ,, that, i, essentially, am, not, in, madness, ,, but, mad, in, craft, .]</td>\n",
       "    </tr>\n",
       "    <tr>\n",
       "      <th>11887</th>\n",
       "      <td>11887</td>\n",
       "      <td>But there's a saying very old and true, 'If that you will France win, Then with Scotland first begin:' For once the eagle England being in prey, To her unguarded nest the weasel Scot Comes sneaking and so sucks her princely eggs, Playing the mouse in absence of the cat, To tear and havoc more than she can eat.</td>\n",
       "      <td>[but, there, 's, a, saying, very, old, and, true, ,, 'if, that, you, will, france, win, ,, then, with, scotland, first, begin, :, ', for, once, the, eagle, england, being, in, prey, ,, to, her, unguarded, nest, the, weasel, scot, comes, sneaking, and, so, sucks, her, princely, eggs, ,, playing, the, mouse, in, absence, of, the, cat, ,, to, tear, and, havoc, more, than, she, can, eat, .]</td>\n",
       "    </tr>\n",
       "    <tr>\n",
       "      <th>16380</th>\n",
       "      <td>16380</td>\n",
       "      <td>Look, look, a mouse! Peace, peace, this piece of toasted cheese will do 't.</td>\n",
       "      <td>[look, ,, look, ,, a, mouse, !, peace, ,, peace, ,, this, piece, of, toasted, cheese, will, do, 't, .]</td>\n",
       "    </tr>\n",
       "    <tr>\n",
       "      <th>17389</th>\n",
       "      <td>17389</td>\n",
       "      <td>What's your dark meaning, mouse, of this light word? A light condition in a beauty dark.</td>\n",
       "      <td>[what, 's, your, dark, meaning, ,, mouse, ,, of, this, light, word, ?, a, light, condition, in, a, beauty, dark, .]</td>\n",
       "    </tr>\n",
       "    <tr>\n",
       "      <th>22318</th>\n",
       "      <td>22318</td>\n",
       "      <td>Enter Lion and Moonshine You, ladies, you, whose gentle hearts do fear The smallest monstrous mouse that creeps on floor, May now perchance both quake and tremble here, When lion rough in wildest rage doth roar.</td>\n",
       "      <td>[enter, lion, and, moonshine, you, ,, ladies, ,, you, ,, whose, gentle, hearts, do, fear, the, smallest, monstrous, mouse, that, creeps, on, floor, ,, may, now, perchance, both, quake, and, tremble, here, ,, when, lion, rough, in, wildest, rage, doth, roar, .]</td>\n",
       "    </tr>\n",
       "    <tr>\n",
       "      <th>22342</th>\n",
       "      <td>22342</td>\n",
       "      <td>The Lion shakes Thisbe's mantle, and exit Well moused, Lion.</td>\n",
       "      <td>[the, lion, shakes, thisbe, 's, mantle, ,, and, exit, well, moused, ,, lion, .]</td>\n",
       "    </tr>\n",
       "    <tr>\n",
       "      <th>22378</th>\n",
       "      <td>22378</td>\n",
       "      <td>Now it is the time of night That the graves all gaping wide, Every one lets forth his sprite, In the church-way paths to glide: And we fairies, that do run By the triple Hecate's team, From the presence of the sun, Following darkness like a dream, Now are frolic: not a mouse Shall disturb this hallow'd house: I am sent with broom before, To sweep the dust behind the door.</td>\n",
       "      <td>[now, it, is, the, time, of, night, that, the, graves, all, gaping, wide, ,, every, one, lets, forth, his, sprite, ,, in, the, church-way, paths, to, glide, :, and, we, fairies, ,, that, do, run, by, the, triple, hecate, 's, team, ,, from, the, presence, of, the, sun, ,, following, darkness, like, a, dream, ,, now, are, frolic, :, not, a, mouse, shall, disturb, this, hallow, 'd, house, :, i, am, sent, with, broom, before, ,, to, sweep, the, dust, behind, the, door, .]</td>\n",
       "    </tr>\n",
       "    <tr>\n",
       "      <th>25000</th>\n",
       "      <td>25000</td>\n",
       "      <td>The cat, with eyne of burning coal, Now crouches fore the mouse's hole, And crickets sing at the oven's mouth, E'er the blither for their drouth.</td>\n",
       "      <td>[the, cat, ,, with, eyne, of, burning, coal, ,, now, crouches, fore, the, mouse, 's, hole, ,, and, crickets, sing, at, the, oven, 's, mouth, ,, e'er, the, blither, for, their, drouth, .]</td>\n",
       "    </tr>\n",
       "    <tr>\n",
       "      <th>25164</th>\n",
       "      <td>25164</td>\n",
       "      <td>Why would she have me kill'd? Now, as I can remember, by my troth, I never did her hurt in all my life: I never spake bad word, nor did ill turn To any living creature: believe me, la, I never kill'd a mouse, nor hurt a fly: I trod upon a worm against my will, But I wept for it.</td>\n",
       "      <td>[why, would, she, have, me, kill, 'd, ?, now, ,, as, i, can, remember, ,, by, my, troth, ,, i, never, did, her, hurt, in, all, my, life, :, i, never, spake, bad, word, ,, nor, did, ill, turn, to, any, living, creature, :, believe, me, ,, la, ,, i, never, kill, 'd, a, mouse, ,, nor, hurt, a, fly, :, i, trod, upon, a, worm, against, my, will, ,, but, i, wept, for, it, .]</td>\n",
       "    </tr>\n",
       "    <tr>\n",
       "      <th>27678</th>\n",
       "      <td>27678</td>\n",
       "      <td>Tut, dun's the mouse, the constable's own word: If thou art dun, we'll draw thee from the mire Of this sir-reverence love, wherein thou stick'st Up to the ears.</td>\n",
       "      <td>[tut, ,, dun, 's, the, mouse, ,, the, constable, 's, own, word, :, if, thou, art, dun, ,, we, 'll, draw, thee, from, the, mire, of, this, sir-reverence, love, ,, wherein, thou, stick'st, up, to, the, ears, .]</td>\n",
       "    </tr>\n",
       "    <tr>\n",
       "      <th>28016</th>\n",
       "      <td>28016</td>\n",
       "      <td>A plague o' both your houses! 'Zounds, a dog, a rat, a mouse, a cat, to scratch a man to death! a braggart, a rogue, a villain, that fights by the book of arithmetic! Why the devil came you between us? I was hurt under your arm.</td>\n",
       "      <td>[a, plague, o, ', both, your, houses, !, 'zounds, ,, a, dog, ,, a, rat, ,, a, mouse, ,, a, cat, ,, to, scratch, a, man, to, death, !, a, braggart, ,, a, rogue, ,, a, villain, ,, that, fights, by, the, book, of, arithmetic, !, why, the, devil, came, you, between, us, ?, i, was, hurt, under, your, arm, .]</td>\n",
       "    </tr>\n",
       "    <tr>\n",
       "      <th>28077</th>\n",
       "      <td>28077</td>\n",
       "      <td>'Tis torture, and not mercy: heaven is here, Where Juliet lives, and every cat and dog And little mouse, every unworthy thing, Live here in heaven and may look on her, But Romeo may not: more validity, More honourable state, more courtship lives In carrion-flies than Romeo: they my seize On the white wonder of dear Juliet's hand And steal immortal blessing from her lips, Who even in pure and vestal modesty, Still blush, as thinking their own kisses sin, But Romeo may not, he is banished: Flies may do this, but I from this must fly: They are free men, but I am banished.</td>\n",
       "      <td>['t, is, torture, ,, and, not, mercy, :, heaven, is, here, ,, where, juliet, lives, ,, and, every, cat, and, dog, and, little, mouse, ,, every, unworthy, thing, ,, live, here, in, heaven, and, may, look, on, her, ,, but, romeo, may, not, :, more, validity, ,, more, honourable, state, ,, more, courtship, lives, in, carrion-flies, than, romeo, :, they, my, seize, on, the, white, wonder, of, dear, juliet, 's, hand, and, steal, immortal, blessing, from, her, lips, ,, who, even, in, pure, and, vestal, modesty, ,, still, blush, ,, as, thinking, their, own, kisses, sin, ,, but, romeo, may, ...]</td>\n",
       "    </tr>\n",
       "    <tr>\n",
       "      <th>28281</th>\n",
       "      <td>28281</td>\n",
       "      <td>Ay, you have been a mouse-hunt in your time, But I will watch you from such watching now.</td>\n",
       "      <td>[ay, ,, you, have, been, a, mouse-hunt, in, your, time, ,, but, i, will, watch, you, from, such, watching, now, .]</td>\n",
       "    </tr>\n",
       "    <tr>\n",
       "      <th>32893</th>\n",
       "      <td>32893</td>\n",
       "      <td>O' the t'other side, the policy of those crafty swearing rascals, that stale old mouse-eaten dry cheese, Nestor, and that same dog-fox, Ulysses, is not proved worthy a blackberry: they set me up, in policy, that mongrel cur, Ajax, against that dog of as bad a kind, Achilles: and now is the cur Ajax prouder than the cur Achilles, and will not arm to-day, whereupon the Grecians begin to proclaim barbarism, and policy grows into an ill opinion.</td>\n",
       "      <td>[o, ', the, t'other, side, ,, the, policy, of, those, crafty, swearing, rascals, ,, that, stale, old, mouse-eaten, dry, cheese, ,, nestor, ,, and, that, same, dog-fox, ,, ulysses, ,, is, not, proved, worthy, a, blackberry, :, they, set, me, up, ,, in, policy, ,, that, mongrel, cur, ,, ajax, ,, against, that, dog, of, as, bad, a, kind, ,, achilles, :, and, now, is, the, cur, ajax, prouder, than, the, cur, achilles, ,, and, will, not, arm, to-day, ,, whereupon, the, grecians, begin, to, proclaim, barbarism, ,, and, policy, grows, into, an, ill, opinion, .]</td>\n",
       "    </tr>\n",
       "    <tr>\n",
       "      <th>33104</th>\n",
       "      <td>33104</td>\n",
       "      <td>I must catechise you for it, madonna: good my mouse of virtue, answer me.</td>\n",
       "      <td>[i, must, catechise, you, for, it, ,, madonna, :, good, my, mouse, of, virtue, ,, answer, me, .]</td>\n",
       "    </tr>\n",
       "    <tr>\n",
       "      <th>33530</th>\n",
       "      <td>33530</td>\n",
       "      <td>She did show favour to the youth in your sight only to exasperate you, to awake your dormouse valour, to put fire in your heart and brimstone in your liver.</td>\n",
       "      <td>[she, did, show, favour, to, the, youth, in, your, sight, only, to, exasperate, you, ,, to, awake, your, dormouse, valour, ,, to, put, fire, in, your, heart, and, brimstone, in, your, liver, .]</td>\n",
       "    </tr>\n",
       "    <tr>\n",
       "      <th>35904</th>\n",
       "      <td>35904</td>\n",
       "      <td>The painful warrior famoused for fight, After a thousand victories once foil'd, Is from the book of honor rased quite, And all the rest forgot for which he toil'd.</td>\n",
       "      <td>[the, painful, warrior, famoused, for, fight, ,, after, a, thousand, victories, once, foil, 'd, ,, is, from, the, book, of, honor, rased, quite, ,, and, all, the, rest, forgot, for, which, he, toil, 'd, .]</td>\n",
       "    </tr>\n",
       "  </tbody>\n",
       "</table>\n",
       "</div>"
      ],
      "text/plain": [
       "       index  \\\n",
       "8300    8300   \n",
       "10539  10539   \n",
       "11329  11329   \n",
       "11887  11887   \n",
       "16380  16380   \n",
       "17389  17389   \n",
       "22318  22318   \n",
       "22342  22342   \n",
       "22378  22378   \n",
       "25000  25000   \n",
       "25164  25164   \n",
       "27678  27678   \n",
       "28016  28016   \n",
       "28077  28077   \n",
       "28281  28281   \n",
       "32893  32893   \n",
       "33104  33104   \n",
       "33530  33530   \n",
       "35904  35904   \n",
       "\n",
       "                                                                                                                                                                                                                                                                                                                                                                                                                                                                                                                                                                                                   line  \\\n",
       "8300                                                                                                                                                                                                                                                                                                                                                                                                     Let him alone, He did inform the truth: but for our gentlemen, The common file--a plague! tribunes for them!-- The mouse ne'er shunn'd the cat as they did budge From rascals worse than they.   \n",
       "10539                                                                                                                                                                                                                                                                                                                                                                                                                                                                                                                                                   Have you had quiet guard? Not a mouse stirring.   \n",
       "11329                                                                                                                                                                                                                                                  What shall I do? Not this, by no means, that I bid you do: Let the bloat king tempt you again to bed, Pinch wanton on your cheek, call you his mouse, And let him, for a pair of reechy kisses, Or paddling in your neck with his damn'd fingers, Make you to ravel all this matter out, That I essentially am not in madness, But mad in craft.   \n",
       "11887                                                                                                                                                                                                                                                                           But there's a saying very old and true, 'If that you will France win, Then with Scotland first begin:' For once the eagle England being in prey, To her unguarded nest the weasel Scot Comes sneaking and so sucks her princely eggs, Playing the mouse in absence of the cat, To tear and havoc more than she can eat.   \n",
       "16380                                                                                                                                                                                                                                                                                                                                                                                                                                                                                                                       Look, look, a mouse! Peace, peace, this piece of toasted cheese will do 't.   \n",
       "17389                                                                                                                                                                                                                                                                                                                                                                                                                                                                                                          What's your dark meaning, mouse, of this light word? A light condition in a beauty dark.   \n",
       "22318                                                                                                                                                                                                                                                                                                                                                                               Enter Lion and Moonshine You, ladies, you, whose gentle hearts do fear The smallest monstrous mouse that creeps on floor, May now perchance both quake and tremble here, When lion rough in wildest rage doth roar.   \n",
       "22342                                                                                                                                                                                                                                                                                                                                                                                                                                                                                                                                      The Lion shakes Thisbe's mantle, and exit Well moused, Lion.   \n",
       "22378                                                                                                                                                                                                            Now it is the time of night That the graves all gaping wide, Every one lets forth his sprite, In the church-way paths to glide: And we fairies, that do run By the triple Hecate's team, From the presence of the sun, Following darkness like a dream, Now are frolic: not a mouse Shall disturb this hallow'd house: I am sent with broom before, To sweep the dust behind the door.   \n",
       "25000                                                                                                                                                                                                                                                                                                                                                                                                                                                 The cat, with eyne of burning coal, Now crouches fore the mouse's hole, And crickets sing at the oven's mouth, E'er the blither for their drouth.   \n",
       "25164                                                                                                                                                                                                                                                                                                           Why would she have me kill'd? Now, as I can remember, by my troth, I never did her hurt in all my life: I never spake bad word, nor did ill turn To any living creature: believe me, la, I never kill'd a mouse, nor hurt a fly: I trod upon a worm against my will, But I wept for it.   \n",
       "27678                                                                                                                                                                                                                                                                                                                                                                                                                                  Tut, dun's the mouse, the constable's own word: If thou art dun, we'll draw thee from the mire Of this sir-reverence love, wherein thou stick'st Up to the ears.   \n",
       "28016                                                                                                                                                                                                                                                                                                                                                              A plague o' both your houses! 'Zounds, a dog, a rat, a mouse, a cat, to scratch a man to death! a braggart, a rogue, a villain, that fights by the book of arithmetic! Why the devil came you between us? I was hurt under your arm.   \n",
       "28077   'Tis torture, and not mercy: heaven is here, Where Juliet lives, and every cat and dog And little mouse, every unworthy thing, Live here in heaven and may look on her, But Romeo may not: more validity, More honourable state, more courtship lives In carrion-flies than Romeo: they my seize On the white wonder of dear Juliet's hand And steal immortal blessing from her lips, Who even in pure and vestal modesty, Still blush, as thinking their own kisses sin, But Romeo may not, he is banished: Flies may do this, but I from this must fly: They are free men, but I am banished.   \n",
       "28281                                                                                                                                                                                                                                                                                                                                                                                                                                                                                                         Ay, you have been a mouse-hunt in your time, But I will watch you from such watching now.   \n",
       "32893                                                                                                                                     O' the t'other side, the policy of those crafty swearing rascals, that stale old mouse-eaten dry cheese, Nestor, and that same dog-fox, Ulysses, is not proved worthy a blackberry: they set me up, in policy, that mongrel cur, Ajax, against that dog of as bad a kind, Achilles: and now is the cur Ajax prouder than the cur Achilles, and will not arm to-day, whereupon the Grecians begin to proclaim barbarism, and policy grows into an ill opinion.   \n",
       "33104                                                                                                                                                                                                                                                                                                                                                                                                                                                                                                                         I must catechise you for it, madonna: good my mouse of virtue, answer me.   \n",
       "33530                                                                                                                                                                                                                                                                                                                                                                                                                                      She did show favour to the youth in your sight only to exasperate you, to awake your dormouse valour, to put fire in your heart and brimstone in your liver.   \n",
       "35904                                                                                                                                                                                                                                                                                                                                                                                                                               The painful warrior famoused for fight, After a thousand victories once foil'd, Is from the book of honor rased quite, And all the rest forgot for which he toil'd.   \n",
       "\n",
       "                                                                                                                                                                                                                                                                                                                                                                                                                                                                                                                                                                                                           line_tokenized  \n",
       "8300                                                                                                                                                                                                                                                                                                                                                                [let, him, alone, ,, he, did, inform, the, truth, :, but, for, our, gentlemen, ,, the, common, file, --, a, plague, !, tribunes, for, them, !, --, the, mouse, ne'er, shunn, 'd, the, cat, as, they, did, budge, from, rascals, worse, than, they, .]  \n",
       "10539                                                                                                                                                                                                                                                                                                                                                                                                                                                                                                                                                       [have, you, had, quiet, guard, ?, not, a, mouse, stirring, .]  \n",
       "11329                                                                                                                                                                  [what, shall, i, do, ?, not, this, ,, by, no, means, ,, that, i, bid, you, do, :, let, the, bloat, king, tempt, you, again, to, bed, ,, pinch, wanton, on, your, cheek, ,, call, you, his, mouse, ,, and, let, him, ,, for, a, pair, of, reechy, kisses, ,, or, paddling, in, your, neck, with, his, damn, 'd, fingers, ,, make, you, to, ravel, all, this, matter, out, ,, that, i, essentially, am, not, in, madness, ,, but, mad, in, craft, .]  \n",
       "11887                                                                                                                                                                                                               [but, there, 's, a, saying, very, old, and, true, ,, 'if, that, you, will, france, win, ,, then, with, scotland, first, begin, :, ', for, once, the, eagle, england, being, in, prey, ,, to, her, unguarded, nest, the, weasel, scot, comes, sneaking, and, so, sucks, her, princely, eggs, ,, playing, the, mouse, in, absence, of, the, cat, ,, to, tear, and, havoc, more, than, she, can, eat, .]  \n",
       "16380                                                                                                                                                                                                                                                                                                                                                                                                                                                                                                              [look, ,, look, ,, a, mouse, !, peace, ,, peace, ,, this, piece, of, toasted, cheese, will, do, 't, .]  \n",
       "17389                                                                                                                                                                                                                                                                                                                                                                                                                                                                                                 [what, 's, your, dark, meaning, ,, mouse, ,, of, this, light, word, ?, a, light, condition, in, a, beauty, dark, .]  \n",
       "22318                                                                                                                                                                                                                                                                                                                                                [enter, lion, and, moonshine, you, ,, ladies, ,, you, ,, whose, gentle, hearts, do, fear, the, smallest, monstrous, mouse, that, creeps, on, floor, ,, may, now, perchance, both, quake, and, tremble, here, ,, when, lion, rough, in, wildest, rage, doth, roar, .]  \n",
       "22342                                                                                                                                                                                                                                                                                                                                                                                                                                                                                                                                     [the, lion, shakes, thisbe, 's, mantle, ,, and, exit, well, moused, ,, lion, .]  \n",
       "22378                                                                                                                            [now, it, is, the, time, of, night, that, the, graves, all, gaping, wide, ,, every, one, lets, forth, his, sprite, ,, in, the, church-way, paths, to, glide, :, and, we, fairies, ,, that, do, run, by, the, triple, hecate, 's, team, ,, from, the, presence, of, the, sun, ,, following, darkness, like, a, dream, ,, now, are, frolic, :, not, a, mouse, shall, disturb, this, hallow, 'd, house, :, i, am, sent, with, broom, before, ,, to, sweep, the, dust, behind, the, door, .]  \n",
       "25000                                                                                                                                                                                                                                                                                                                                                                                                                          [the, cat, ,, with, eyne, of, burning, coal, ,, now, crouches, fore, the, mouse, 's, hole, ,, and, crickets, sing, at, the, oven, 's, mouth, ,, e'er, the, blither, for, their, drouth, .]  \n",
       "25164                                                                                                                                                                                                                                 [why, would, she, have, me, kill, 'd, ?, now, ,, as, i, can, remember, ,, by, my, troth, ,, i, never, did, her, hurt, in, all, my, life, :, i, never, spake, bad, word, ,, nor, did, ill, turn, to, any, living, creature, :, believe, me, ,, la, ,, i, never, kill, 'd, a, mouse, ,, nor, hurt, a, fly, :, i, trod, upon, a, worm, against, my, will, ,, but, i, wept, for, it, .]  \n",
       "27678                                                                                                                                                                                                                                                                                                                                                                                                    [tut, ,, dun, 's, the, mouse, ,, the, constable, 's, own, word, :, if, thou, art, dun, ,, we, 'll, draw, thee, from, the, mire, of, this, sir-reverence, love, ,, wherein, thou, stick'st, up, to, the, ears, .]  \n",
       "28016                                                                                                                                                                                                                                                                                                    [a, plague, o, ', both, your, houses, !, 'zounds, ,, a, dog, ,, a, rat, ,, a, mouse, ,, a, cat, ,, to, scratch, a, man, to, death, !, a, braggart, ,, a, rogue, ,, a, villain, ,, that, fights, by, the, book, of, arithmetic, !, why, the, devil, came, you, between, us, ?, i, was, hurt, under, your, arm, .]  \n",
       "28077  ['t, is, torture, ,, and, not, mercy, :, heaven, is, here, ,, where, juliet, lives, ,, and, every, cat, and, dog, and, little, mouse, ,, every, unworthy, thing, ,, live, here, in, heaven, and, may, look, on, her, ,, but, romeo, may, not, :, more, validity, ,, more, honourable, state, ,, more, courtship, lives, in, carrion-flies, than, romeo, :, they, my, seize, on, the, white, wonder, of, dear, juliet, 's, hand, and, steal, immortal, blessing, from, her, lips, ,, who, even, in, pure, and, vestal, modesty, ,, still, blush, ,, as, thinking, their, own, kisses, sin, ,, but, romeo, may, ...]  \n",
       "28281                                                                                                                                                                                                                                                                                                                                                                                                                                                                                                  [ay, ,, you, have, been, a, mouse-hunt, in, your, time, ,, but, i, will, watch, you, from, such, watching, now, .]  \n",
       "32893                                    [o, ', the, t'other, side, ,, the, policy, of, those, crafty, swearing, rascals, ,, that, stale, old, mouse-eaten, dry, cheese, ,, nestor, ,, and, that, same, dog-fox, ,, ulysses, ,, is, not, proved, worthy, a, blackberry, :, they, set, me, up, ,, in, policy, ,, that, mongrel, cur, ,, ajax, ,, against, that, dog, of, as, bad, a, kind, ,, achilles, :, and, now, is, the, cur, ajax, prouder, than, the, cur, achilles, ,, and, will, not, arm, to-day, ,, whereupon, the, grecians, begin, to, proclaim, barbarism, ,, and, policy, grows, into, an, ill, opinion, .]  \n",
       "33104                                                                                                                                                                                                                                                                                                                                                                                                                                                                                                                    [i, must, catechise, you, for, it, ,, madonna, :, good, my, mouse, of, virtue, ,, answer, me, .]  \n",
       "33530                                                                                                                                                                                                                                                                                                                                                                                                                   [she, did, show, favour, to, the, youth, in, your, sight, only, to, exasperate, you, ,, to, awake, your, dormouse, valour, ,, to, put, fire, in, your, heart, and, brimstone, in, your, liver, .]  \n",
       "35904                                                                                                                                                                                                                                                                                                                                                                                                       [the, painful, warrior, famoused, for, fight, ,, after, a, thousand, victories, once, foil, 'd, ,, is, from, the, book, of, honor, rased, quite, ,, and, all, the, rest, forgot, for, which, he, toil, 'd, .]  "
      ]
     },
     "execution_count": 48,
     "metadata": {},
     "output_type": "execute_result"
    }
   ],
   "source": [
    "shake_corpus_df[shake_corpus_df.line.str.contains('mouse')]"
   ]
  },
  {
   "cell_type": "code",
   "execution_count": null,
   "metadata": {},
   "outputs": [],
   "source": []
  },
  {
   "cell_type": "code",
   "execution_count": null,
   "metadata": {},
   "outputs": [],
   "source": []
  },
  {
   "cell_type": "markdown",
   "metadata": {},
   "source": [
    "Earlier work below this line"
   ]
  },
  {
   "cell_type": "code",
   "execution_count": 15,
   "metadata": {},
   "outputs": [
    {
     "data": {
      "text/html": [
       "<div>\n",
       "<style scoped>\n",
       "    .dataframe tbody tr th:only-of-type {\n",
       "        vertical-align: middle;\n",
       "    }\n",
       "\n",
       "    .dataframe tbody tr th {\n",
       "        vertical-align: top;\n",
       "    }\n",
       "\n",
       "    .dataframe thead th {\n",
       "        text-align: right;\n",
       "    }\n",
       "</style>\n",
       "<table border=\"1\" class=\"dataframe\">\n",
       "  <thead>\n",
       "    <tr style=\"text-align: right;\">\n",
       "      <th></th>\n",
       "      <th>line</th>\n",
       "      <th>line_clean</th>\n",
       "    </tr>\n",
       "  </thead>\n",
       "  <tbody>\n",
       "    <tr>\n",
       "      <th>0</th>\n",
       "      <td>ACT I SCENE I</td>\n",
       "      <td>[act, scene]</td>\n",
       "    </tr>\n",
       "    <tr>\n",
       "      <th>1</th>\n",
       "      <td>London</td>\n",
       "      <td>[london]</td>\n",
       "    </tr>\n",
       "    <tr>\n",
       "      <th>2</th>\n",
       "      <td>The palace</td>\n",
       "      <td>[the, palace]</td>\n",
       "    </tr>\n",
       "    <tr>\n",
       "      <th>3</th>\n",
       "      <td>Enter KING HENRY, LORD JOHN OF LANCASTER, the EARL of WESTMORELAND, SIR WALTER BLUNT, and others So shaken as we are, so wan with care, Find we a time for frighted peace to pant, And breathe short-winded accents of new broils To be commenced in strands afar remote</td>\n",
       "      <td>[enter, king, henry, lord, john, of, lancaster, the, earl, of, westmoreland, sir, walter, blunt, and, others, so, shaken, as, we, are, so, wan, with, care, find, we, time, for, frighted, peace, to, pant, and, breathe, short, winded, accents, of, new, broils, to, be, commenced, in, strands, afar, remote]</td>\n",
       "    </tr>\n",
       "    <tr>\n",
       "      <th>4</th>\n",
       "      <td>No more the thirsty entrance of this soil Shall daub her lips with her own children's blood, Nor more shall trenching war channel her fields, Nor bruise her flowerets with the armed hoofs Of hostile paces: those opposed eyes, Which, like the meteors of a troubled heaven, All of one nature, of one substance bred, Did lately meet in the intestine shock And furious close of civil butchery Shall now, in mutual well-beseeming ranks, March all one way and be no more opposed Against acquaintance, kindred and allies: The edge of war, like an ill-sheathed knife, No more shall cut his master</td>\n",
       "      <td>[no, more, the, thirsty, entrance, of, this, soil, shall, daub, her, lips, with, her, own, children, blood, nor, more, shall, trenching, war, channel, her, fields, nor, bruise, her, flowerets, with, the, armed, hoofs, of, hostile, paces, those, opposed, eyes, which, like, the, meteors, of, troubled, heaven, all, of, one, nature, of, one, substance, bred, did, lately, meet, in, the, intestine, shock, and, furious, close, of, civil, butchery, shall, now, in, mutual, well, beseeming, ranks, march, all, one, way, and, be, no, more, opposed, against, acquaintance, kindred, and, allies, the, edge, of, war, like, an, ill, sheathed, knife, no, more, shall, ...]</td>\n",
       "    </tr>\n",
       "  </tbody>\n",
       "</table>\n",
       "</div>"
      ],
      "text/plain": [
       "                                                                                                                                                                                                                                                                                                                                                                                                                                                                                                                                                                                                            line  \\\n",
       "0                                                                                                                                                                                                                                                                                                                                                                                                                                                                                                                                                                                                  ACT I SCENE I   \n",
       "1                                                                                                                                                                                                                                                                                                                                                                                                                                                                                                                                                                                                         London   \n",
       "2                                                                                                                                                                                                                                                                                                                                                                                                                                                                                                                                                                                                     The palace   \n",
       "3                                                                                                                                                                                                                                                                                                                                       Enter KING HENRY, LORD JOHN OF LANCASTER, the EARL of WESTMORELAND, SIR WALTER BLUNT, and others So shaken as we are, so wan with care, Find we a time for frighted peace to pant, And breathe short-winded accents of new broils To be commenced in strands afar remote   \n",
       "4   No more the thirsty entrance of this soil Shall daub her lips with her own children's blood, Nor more shall trenching war channel her fields, Nor bruise her flowerets with the armed hoofs Of hostile paces: those opposed eyes, Which, like the meteors of a troubled heaven, All of one nature, of one substance bred, Did lately meet in the intestine shock And furious close of civil butchery Shall now, in mutual well-beseeming ranks, March all one way and be no more opposed Against acquaintance, kindred and allies: The edge of war, like an ill-sheathed knife, No more shall cut his master   \n",
       "\n",
       "                                                                                                                                                                                                                                                                                                                                                                                                                                                                                                                                                                                                                                                                              line_clean  \n",
       "0                                                                                                                                                                                                                                                                                                                                                                                                                                                                                                                                                                                                                                                                           [act, scene]  \n",
       "1                                                                                                                                                                                                                                                                                                                                                                                                                                                                                                                                                                                                                                                                               [london]  \n",
       "2                                                                                                                                                                                                                                                                                                                                                                                                                                                                                                                                                                                                                                                                          [the, palace]  \n",
       "3                                                                                                                                                                                                                                                                                                                                                                       [enter, king, henry, lord, john, of, lancaster, the, earl, of, westmoreland, sir, walter, blunt, and, others, so, shaken, as, we, are, so, wan, with, care, find, we, time, for, frighted, peace, to, pant, and, breathe, short, winded, accents, of, new, broils, to, be, commenced, in, strands, afar, remote]  \n",
       "4  [no, more, the, thirsty, entrance, of, this, soil, shall, daub, her, lips, with, her, own, children, blood, nor, more, shall, trenching, war, channel, her, fields, nor, bruise, her, flowerets, with, the, armed, hoofs, of, hostile, paces, those, opposed, eyes, which, like, the, meteors, of, troubled, heaven, all, of, one, nature, of, one, substance, bred, did, lately, meet, in, the, intestine, shock, and, furious, close, of, civil, butchery, shall, now, in, mutual, well, beseeming, ranks, march, all, one, way, and, be, no, more, opposed, against, acquaintance, kindred, and, allies, the, edge, of, war, like, an, ill, sheathed, knife, no, more, shall, ...]  "
      ]
     },
     "execution_count": 15,
     "metadata": {},
     "output_type": "execute_result"
    }
   ],
   "source": [
    "shake_corpus_df['line_clean'] = shake_corpus_df['line'].apply(lambda x: gensim.utils.simple_preprocess(x))\n",
    "shake_corpus_df.head()"
   ]
  },
  {
   "cell_type": "code",
   "execution_count": 29,
   "metadata": {},
   "outputs": [],
   "source": [
    "w2v_model = gensim.models.Word2Vec(shake_corpus_df['line_clean'], size=100, window=5, min_count=2)"
   ]
  },
  {
   "cell_type": "markdown",
   "metadata": {},
   "source": [
    "Find the most similar words to the most frequently used words in our set of actual titles"
   ]
  },
  {
   "cell_type": "code",
   "execution_count": 26,
   "metadata": {},
   "outputs": [
    {
     "data": {
      "text/plain": [
       "[('merchandise', 0.8550989031791687),\n",
       " ('light', 0.8457979559898376),\n",
       " ('death', 0.845095157623291),\n",
       " ('fortune', 0.8397153615951538),\n",
       " ('fall', 0.8270392417907715),\n",
       " ('work', 0.819554328918457),\n",
       " ('myself', 0.8163576722145081),\n",
       " ('consent', 0.8109981417655945),\n",
       " ('revenge', 0.8102153539657593),\n",
       " ('part', 0.8084492087364197)]"
      ]
     },
     "execution_count": 26,
     "metadata": {},
     "output_type": "execute_result"
    }
   ],
   "source": [
    "w2v_model.wv.most_similar('heaven')"
   ]
  },
  {
   "cell_type": "code",
   "execution_count": 27,
   "metadata": {},
   "outputs": [
    {
     "data": {
      "text/plain": [
       "[('age', 0.916276216506958),\n",
       " ('beauty', 0.9095497727394104),\n",
       " ('virtue', 0.9070041179656982),\n",
       " ('flesh', 0.8985511064529419),\n",
       " ('breath', 0.893226683139801),\n",
       " ('birth', 0.8926401734352112),\n",
       " ('eye', 0.8921049237251282),\n",
       " ('grief', 0.8842465877532959),\n",
       " ('loss', 0.8809669017791748),\n",
       " ('sorrow', 0.8796870708465576)]"
      ]
     },
     "execution_count": 27,
     "metadata": {},
     "output_type": "execute_result"
    }
   ],
   "source": [
    "w2v_model.wv.most_similar('blood')"
   ]
  },
  {
   "cell_type": "code",
   "execution_count": 28,
   "metadata": {},
   "outputs": [
    {
     "data": {
      "text/plain": [
       "[('worst', 0.8616856336593628),\n",
       " ('end', 0.804405927658081),\n",
       " ('truth', 0.8005660772323608),\n",
       " ('time', 0.7947704792022705),\n",
       " ('thing', 0.7887304425239563),\n",
       " ('deed', 0.7839971780776978),\n",
       " ('law', 0.77757728099823),\n",
       " ('earth', 0.7765325903892517),\n",
       " ('nature', 0.7726906538009644),\n",
       " ('depth', 0.7712389826774597)]"
      ]
     },
     "execution_count": 28,
     "metadata": {},
     "output_type": "execute_result"
    }
   ],
   "source": [
    "w2v_model.wv.most_similar('world')"
   ]
  },
  {
   "cell_type": "code",
   "execution_count": 24,
   "metadata": {},
   "outputs": [
    {
     "data": {
      "text/plain": [
       "[('day', 0.9143925905227661),\n",
       " ('time', 0.8499373197555542),\n",
       " ('morning', 0.8498775959014893),\n",
       " ('court', 0.837300717830658),\n",
       " ('business', 0.8262588977813721),\n",
       " ('watch', 0.8227887153625488),\n",
       " ('morrow', 0.8107404112815857),\n",
       " ('rest', 0.8095710277557373),\n",
       " ('last', 0.8034456968307495),\n",
       " ('place', 0.7928426861763)]"
      ]
     },
     "execution_count": 24,
     "metadata": {},
     "output_type": "execute_result"
    }
   ],
   "source": [
    "w2v_model.wv.most_similar('night')"
   ]
  },
  {
   "cell_type": "markdown",
   "metadata": {},
   "source": [
    "Refer to https://radimrehurek.com/gensim/models/word2vec.html"
   ]
  },
  {
   "cell_type": "code",
   "execution_count": 30,
   "metadata": {},
   "outputs": [],
   "source": [
    "shake_word_vectors = w2v_model.wv"
   ]
  },
  {
   "cell_type": "code",
   "execution_count": 31,
   "metadata": {},
   "outputs": [],
   "source": [
    "shake_word_vectors.save('shake_w2v.wordsvectors')"
   ]
  },
  {
   "cell_type": "markdown",
   "metadata": {},
   "source": [
    "I am not sure that I can use the vector dictionary generated from the shakespeare corpus. My concern about using a pre-trained model was that the language would be too modern to be useful. Word Embeddings for Historical Text (https://github.com/williamleif/histwords) offers pre-trained historical embeddings, and I am going to try the English fiction (1800s-1990s) w2v embedding."
   ]
  },
  {
   "cell_type": "code",
   "execution_count": 8,
   "metadata": {},
   "outputs": [],
   "source": [
    "import gensim.downloader as api\n",
    "\n",
    "wiki_embd = api.load('glove-wiki-gigaword-100')"
   ]
  },
  {
   "cell_type": "code",
   "execution_count": 15,
   "metadata": {},
   "outputs": [
    {
     "data": {
      "text/plain": [
       "[('evening', 0.8429070711135864),\n",
       " ('morning', 0.8382436037063599),\n",
       " ('day', 0.8261710405349731),\n",
       " ('sunday', 0.8161605596542358),\n",
       " ('saturday', 0.8128535747528076),\n",
       " ('afternoon', 0.8067009449005127),\n",
       " ('weekend', 0.8065499067306519),\n",
       " ('days', 0.8000710606575012),\n",
       " ('hours', 0.7879374027252197),\n",
       " ('week', 0.7607038021087646)]"
      ]
     },
     "execution_count": 15,
     "metadata": {},
     "output_type": "execute_result"
    }
   ],
   "source": [
    "wiki_embd.most_similar('night')"
   ]
  },
  {
   "cell_type": "code",
   "execution_count": 16,
   "metadata": {},
   "outputs": [
    {
     "data": {
      "text/plain": [
       "[('hell', 0.7834520936012268),\n",
       " ('god', 0.7678099870681763),\n",
       " ('heavens', 0.6618111729621887),\n",
       " ('eternity', 0.6466289758682251),\n",
       " ('christ', 0.6430902481079102),\n",
       " ('heavenly', 0.6338659524917603),\n",
       " ('gods', 0.6257569193840027),\n",
       " ('love', 0.6231491565704346),\n",
       " ('divine', 0.6199791431427002),\n",
       " ('devil', 0.6167252063751221)]"
      ]
     },
     "execution_count": 16,
     "metadata": {},
     "output_type": "execute_result"
    }
   ],
   "source": [
    "wiki_embd.most_similar('heaven')"
   ]
  },
  {
   "cell_type": "code",
   "execution_count": 46,
   "metadata": {},
   "outputs": [],
   "source": [
    "title_bigram = pd.read_csv('../data/good_titles_bigrams.csv')"
   ]
  },
  {
   "cell_type": "code",
   "execution_count": 47,
   "metadata": {},
   "outputs": [
    {
     "data": {
      "text/plain": [
       "400000"
      ]
     },
     "execution_count": 47,
     "metadata": {},
     "output_type": "execute_result"
    }
   ],
   "source": [
    "words = set(wiki_embd.index2word)\n",
    "len(words)"
   ]
  },
  {
   "cell_type": "code",
   "execution_count": 50,
   "metadata": {},
   "outputs": [
    {
     "data": {
      "text/html": [
       "<div>\n",
       "<style scoped>\n",
       "    .dataframe tbody tr th:only-of-type {\n",
       "        vertical-align: middle;\n",
       "    }\n",
       "\n",
       "    .dataframe tbody tr th {\n",
       "        vertical-align: top;\n",
       "    }\n",
       "\n",
       "    .dataframe thead th {\n",
       "        text-align: right;\n",
       "    }\n",
       "</style>\n",
       "<table border=\"1\" class=\"dataframe\">\n",
       "  <thead>\n",
       "    <tr style=\"text-align: right;\">\n",
       "      <th></th>\n",
       "      <th>uniq_id</th>\n",
       "      <th>Title</th>\n",
       "      <th>pos_tag</th>\n",
       "    </tr>\n",
       "  </thead>\n",
       "  <tbody>\n",
       "    <tr>\n",
       "      <th>0</th>\n",
       "      <td>14</td>\n",
       "      <td>mingled yarn</td>\n",
       "      <td>['VBN', 'NN']</td>\n",
       "    </tr>\n",
       "    <tr>\n",
       "      <th>1</th>\n",
       "      <td>17</td>\n",
       "      <td>stiff news</td>\n",
       "      <td>['JJ', 'NN']</td>\n",
       "    </tr>\n",
       "    <tr>\n",
       "      <th>2</th>\n",
       "      <td>18</td>\n",
       "      <td>salad days</td>\n",
       "      <td>['JJ', 'NNS']</td>\n",
       "    </tr>\n",
       "    <tr>\n",
       "      <th>3</th>\n",
       "      <td>23</td>\n",
       "      <td>gaudy night</td>\n",
       "      <td>['NN', 'NN']</td>\n",
       "    </tr>\n",
       "    <tr>\n",
       "      <th>4</th>\n",
       "      <td>25</td>\n",
       "      <td>immortal longings</td>\n",
       "      <td>['JJ', 'NNS']</td>\n",
       "    </tr>\n",
       "  </tbody>\n",
       "</table>\n",
       "</div>"
      ],
      "text/plain": [
       "   uniq_id              Title        pos_tag\n",
       "0       14       mingled yarn  ['VBN', 'NN']\n",
       "1       17         stiff news   ['JJ', 'NN']\n",
       "2       18         salad days  ['JJ', 'NNS']\n",
       "3       23        gaudy night   ['NN', 'NN']\n",
       "4       25  immortal longings  ['JJ', 'NNS']"
      ]
     },
     "execution_count": 50,
     "metadata": {},
     "output_type": "execute_result"
    }
   ],
   "source": [
    "title_bigram.drop(columns=['Play', 'Occurences', 'title_tokenized', 'title_pos', 'actual_title_len', 'tokenized_len'], inplace=True)\n",
    "title_bigram.head()"
   ]
  },
  {
   "cell_type": "code",
   "execution_count": 51,
   "metadata": {},
   "outputs": [
    {
     "data": {
      "text/html": [
       "<div>\n",
       "<style scoped>\n",
       "    .dataframe tbody tr th:only-of-type {\n",
       "        vertical-align: middle;\n",
       "    }\n",
       "\n",
       "    .dataframe tbody tr th {\n",
       "        vertical-align: top;\n",
       "    }\n",
       "\n",
       "    .dataframe thead th {\n",
       "        text-align: right;\n",
       "    }\n",
       "</style>\n",
       "<table border=\"1\" class=\"dataframe\">\n",
       "  <thead>\n",
       "    <tr style=\"text-align: right;\">\n",
       "      <th></th>\n",
       "      <th>uniq_id</th>\n",
       "      <th>Title</th>\n",
       "      <th>pos_tag</th>\n",
       "      <th>line_clean</th>\n",
       "    </tr>\n",
       "  </thead>\n",
       "  <tbody>\n",
       "    <tr>\n",
       "      <th>0</th>\n",
       "      <td>14</td>\n",
       "      <td>mingled yarn</td>\n",
       "      <td>['VBN', 'NN']</td>\n",
       "      <td>[mingled, yarn]</td>\n",
       "    </tr>\n",
       "    <tr>\n",
       "      <th>1</th>\n",
       "      <td>17</td>\n",
       "      <td>stiff news</td>\n",
       "      <td>['JJ', 'NN']</td>\n",
       "      <td>[stiff, news]</td>\n",
       "    </tr>\n",
       "    <tr>\n",
       "      <th>2</th>\n",
       "      <td>18</td>\n",
       "      <td>salad days</td>\n",
       "      <td>['JJ', 'NNS']</td>\n",
       "      <td>[salad, days]</td>\n",
       "    </tr>\n",
       "    <tr>\n",
       "      <th>3</th>\n",
       "      <td>23</td>\n",
       "      <td>gaudy night</td>\n",
       "      <td>['NN', 'NN']</td>\n",
       "      <td>[gaudy, night]</td>\n",
       "    </tr>\n",
       "    <tr>\n",
       "      <th>4</th>\n",
       "      <td>25</td>\n",
       "      <td>immortal longings</td>\n",
       "      <td>['JJ', 'NNS']</td>\n",
       "      <td>[immortal, longings]</td>\n",
       "    </tr>\n",
       "  </tbody>\n",
       "</table>\n",
       "</div>"
      ],
      "text/plain": [
       "   uniq_id              Title        pos_tag            line_clean\n",
       "0       14       mingled yarn  ['VBN', 'NN']       [mingled, yarn]\n",
       "1       17         stiff news   ['JJ', 'NN']         [stiff, news]\n",
       "2       18         salad days  ['JJ', 'NNS']         [salad, days]\n",
       "3       23        gaudy night   ['NN', 'NN']        [gaudy, night]\n",
       "4       25  immortal longings  ['JJ', 'NNS']  [immortal, longings]"
      ]
     },
     "execution_count": 51,
     "metadata": {},
     "output_type": "execute_result"
    }
   ],
   "source": [
    "title_bigram['line_clean'] = title_bigram['Title'].apply(lambda x: gensim.utils.simple_preprocess(x))\n",
    "title_bigram.head()"
   ]
  },
  {
   "cell_type": "code",
   "execution_count": 53,
   "metadata": {},
   "outputs": [],
   "source": [
    "title_bigram_vect = [np.array([wiki_embd[i] for i in ls if i in words])\n",
    "                                for ls in title_bigram['line_clean']]"
   ]
  },
  {
   "cell_type": "code",
   "execution_count": 61,
   "metadata": {},
   "outputs": [
    {
     "name": "stdout",
     "output_type": "stream",
     "text": [
      "uniq_id                          645\n",
      "Title            unbreathed memories\n",
      "pos_tag                ['JJ', 'NNS']\n",
      "line_clean    [unbreathed, memories]\n",
      "Name: 60, dtype: object\n",
      "Vector len: 1\n",
      "uniq_id                848\n",
      "Title              o romeo\n",
      "pos_tag       ['NN', 'NN']\n",
      "line_clean         [romeo]\n",
      "Name: 74, dtype: object\n",
      "Vector len: 1\n",
      "uniq_id                 870\n",
      "Title            jocund day\n",
      "pos_tag        ['NN', 'NN']\n",
      "line_clean    [jocund, day]\n",
      "Name: 76, dtype: object\n",
      "Vector len: 1\n",
      "uniq_id                       157\n",
      "Title            exeunt murderers\n",
      "pos_tag             ['NN', 'NNS']\n",
      "line_clean    [exeunt, murderers]\n",
      "Name: 117, dtype: object\n",
      "Vector len: 1\n"
     ]
    }
   ],
   "source": [
    "for i,v in enumerate(title_bigram_vect):\n",
    "    if len(v) != 2:\n",
    "        print(title_bigram.iloc[i])\n",
    "        print('Vector len:', len(v))"
   ]
  }
 ],
 "metadata": {
  "kernelspec": {
   "display_name": "Python 3",
   "language": "python",
   "name": "python3"
  },
  "language_info": {
   "codemirror_mode": {
    "name": "ipython",
    "version": 3
   },
   "file_extension": ".py",
   "mimetype": "text/x-python",
   "name": "python",
   "nbconvert_exporter": "python",
   "pygments_lexer": "ipython3",
   "version": "3.8.3"
  }
 },
 "nbformat": 4,
 "nbformat_minor": 4
}
