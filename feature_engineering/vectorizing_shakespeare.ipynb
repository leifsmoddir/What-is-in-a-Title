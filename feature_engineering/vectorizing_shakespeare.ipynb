{
 "cells": [
  {
   "cell_type": "code",
   "execution_count": 1,
   "metadata": {},
   "outputs": [],
   "source": [
    "from sklearn.feature_extraction.text import CountVectorizer\n",
    "import pandas as pd\n",
    "import numpy as np\n",
    "from random import sample \n",
    "import os\n",
    "\n",
    "pd.set_option('display.max_colwidth', None)"
   ]
  },
  {
   "cell_type": "code",
   "execution_count": 2,
   "metadata": {},
   "outputs": [],
   "source": [
    "plays_sonnets = pd.read_csv('../data/lines_cleaned.csv')"
   ]
  },
  {
   "cell_type": "code",
   "execution_count": 3,
   "metadata": {},
   "outputs": [
    {
     "data": {
      "text/html": [
       "<div>\n",
       "<style scoped>\n",
       "    .dataframe tbody tr th:only-of-type {\n",
       "        vertical-align: middle;\n",
       "    }\n",
       "\n",
       "    .dataframe tbody tr th {\n",
       "        vertical-align: top;\n",
       "    }\n",
       "\n",
       "    .dataframe thead th {\n",
       "        text-align: right;\n",
       "    }\n",
       "</style>\n",
       "<table border=\"1\" class=\"dataframe\">\n",
       "  <thead>\n",
       "    <tr style=\"text-align: right;\">\n",
       "      <th></th>\n",
       "      <th>Dataline</th>\n",
       "      <th>Play</th>\n",
       "      <th>Line</th>\n",
       "      <th>ActSceneLine</th>\n",
       "    </tr>\n",
       "  </thead>\n",
       "  <tbody>\n",
       "    <tr>\n",
       "      <th>0</th>\n",
       "      <td>1</td>\n",
       "      <td>henry iv</td>\n",
       "      <td>ACT I</td>\n",
       "      <td>1.1.1</td>\n",
       "    </tr>\n",
       "    <tr>\n",
       "      <th>1</th>\n",
       "      <td>2</td>\n",
       "      <td>henry iv</td>\n",
       "      <td>SCENE I. London. The palace.</td>\n",
       "      <td>1.1.1</td>\n",
       "    </tr>\n",
       "    <tr>\n",
       "      <th>2</th>\n",
       "      <td>3</td>\n",
       "      <td>henry iv</td>\n",
       "      <td>Enter KING HENRY, LORD JOHN OF LANCASTER, the EARL of WESTMORELAND, SIR WALTER BLUNT, and others</td>\n",
       "      <td>1.1.1</td>\n",
       "    </tr>\n",
       "    <tr>\n",
       "      <th>3</th>\n",
       "      <td>4</td>\n",
       "      <td>henry iv</td>\n",
       "      <td>So shaken as we are, so wan with care,</td>\n",
       "      <td>1.1.1</td>\n",
       "    </tr>\n",
       "    <tr>\n",
       "      <th>4</th>\n",
       "      <td>5</td>\n",
       "      <td>henry iv</td>\n",
       "      <td>Find we a time for frighted peace to pant,</td>\n",
       "      <td>1.1.2</td>\n",
       "    </tr>\n",
       "  </tbody>\n",
       "</table>\n",
       "</div>"
      ],
      "text/plain": [
       "   Dataline      Play  \\\n",
       "0         1  henry iv   \n",
       "1         2  henry iv   \n",
       "2         3  henry iv   \n",
       "3         4  henry iv   \n",
       "4         5  henry iv   \n",
       "\n",
       "                                                                                               Line  \\\n",
       "0                                                                                             ACT I   \n",
       "1                                                                      SCENE I. London. The palace.   \n",
       "2  Enter KING HENRY, LORD JOHN OF LANCASTER, the EARL of WESTMORELAND, SIR WALTER BLUNT, and others   \n",
       "3                                                            So shaken as we are, so wan with care,   \n",
       "4                                                        Find we a time for frighted peace to pant,   \n",
       "\n",
       "  ActSceneLine  \n",
       "0        1.1.1  \n",
       "1        1.1.1  \n",
       "2        1.1.1  \n",
       "3        1.1.1  \n",
       "4        1.1.2  "
      ]
     },
     "execution_count": 3,
     "metadata": {},
     "output_type": "execute_result"
    }
   ],
   "source": [
    "plays_sonnets.head()"
   ]
  },
  {
   "cell_type": "markdown",
   "metadata": {},
   "source": [
    "Testing N-Gram generation on a small subset first"
   ]
  },
  {
   "cell_type": "code",
   "execution_count": 4,
   "metadata": {},
   "outputs": [
    {
     "data": {
      "text/html": [
       "<div>\n",
       "<style scoped>\n",
       "    .dataframe tbody tr th:only-of-type {\n",
       "        vertical-align: middle;\n",
       "    }\n",
       "\n",
       "    .dataframe tbody tr th {\n",
       "        vertical-align: top;\n",
       "    }\n",
       "\n",
       "    .dataframe thead th {\n",
       "        text-align: right;\n",
       "    }\n",
       "</style>\n",
       "<table border=\"1\" class=\"dataframe\">\n",
       "  <thead>\n",
       "    <tr style=\"text-align: right;\">\n",
       "      <th></th>\n",
       "      <th>Dataline</th>\n",
       "      <th>Play</th>\n",
       "      <th>Line</th>\n",
       "      <th>ActSceneLine</th>\n",
       "    </tr>\n",
       "  </thead>\n",
       "  <tbody>\n",
       "    <tr>\n",
       "      <th>55779</th>\n",
       "      <td>55780</td>\n",
       "      <td>macbeth</td>\n",
       "      <td>ACT I</td>\n",
       "      <td>1.1.1</td>\n",
       "    </tr>\n",
       "    <tr>\n",
       "      <th>55780</th>\n",
       "      <td>55781</td>\n",
       "      <td>macbeth</td>\n",
       "      <td>SCENE I. A desert place.</td>\n",
       "      <td>1.1.1</td>\n",
       "    </tr>\n",
       "    <tr>\n",
       "      <th>55781</th>\n",
       "      <td>55782</td>\n",
       "      <td>macbeth</td>\n",
       "      <td>Thunder and lightning. Enter three Witches</td>\n",
       "      <td>1.1.1</td>\n",
       "    </tr>\n",
       "    <tr>\n",
       "      <th>55782</th>\n",
       "      <td>55783</td>\n",
       "      <td>macbeth</td>\n",
       "      <td>When shall we three meet again</td>\n",
       "      <td>1.1.1</td>\n",
       "    </tr>\n",
       "    <tr>\n",
       "      <th>55783</th>\n",
       "      <td>55784</td>\n",
       "      <td>macbeth</td>\n",
       "      <td>In thunder, lightning, or in rain?</td>\n",
       "      <td>1.1.2</td>\n",
       "    </tr>\n",
       "  </tbody>\n",
       "</table>\n",
       "</div>"
      ],
      "text/plain": [
       "       Dataline     Play                                        Line  \\\n",
       "55779     55780  macbeth                                       ACT I   \n",
       "55780     55781  macbeth                    SCENE I. A desert place.   \n",
       "55781     55782  macbeth  Thunder and lightning. Enter three Witches   \n",
       "55782     55783  macbeth              When shall we three meet again   \n",
       "55783     55784  macbeth          In thunder, lightning, or in rain?   \n",
       "\n",
       "      ActSceneLine  \n",
       "55779        1.1.1  \n",
       "55780        1.1.1  \n",
       "55781        1.1.1  \n",
       "55782        1.1.1  \n",
       "55783        1.1.2  "
      ]
     },
     "execution_count": 4,
     "metadata": {},
     "output_type": "execute_result"
    }
   ],
   "source": [
    "macbeth_df = plays_sonnets[plays_sonnets['Play'] == 'macbeth']\n",
    "\n",
    "macbeth_df.head()"
   ]
  },
  {
   "cell_type": "code",
   "execution_count": 5,
   "metadata": {},
   "outputs": [
    {
     "name": "stderr",
     "output_type": "stream",
     "text": [
      "<ipython-input-5-c84d61505c45>:1: SettingWithCopyWarning: \n",
      "A value is trying to be set on a copy of a slice from a DataFrame.\n",
      "Try using .loc[row_indexer,col_indexer] = value instead\n",
      "\n",
      "See the caveats in the documentation: https://pandas.pydata.org/pandas-docs/stable/user_guide/indexing.html#returning-a-view-versus-a-copy\n",
      "  macbeth_df['Lower'] = macbeth_df['Line'].apply(lambda x: x.lower())\n"
     ]
    },
    {
     "data": {
      "text/html": [
       "<div>\n",
       "<style scoped>\n",
       "    .dataframe tbody tr th:only-of-type {\n",
       "        vertical-align: middle;\n",
       "    }\n",
       "\n",
       "    .dataframe tbody tr th {\n",
       "        vertical-align: top;\n",
       "    }\n",
       "\n",
       "    .dataframe thead th {\n",
       "        text-align: right;\n",
       "    }\n",
       "</style>\n",
       "<table border=\"1\" class=\"dataframe\">\n",
       "  <thead>\n",
       "    <tr style=\"text-align: right;\">\n",
       "      <th></th>\n",
       "      <th>Dataline</th>\n",
       "      <th>Play</th>\n",
       "      <th>Line</th>\n",
       "      <th>ActSceneLine</th>\n",
       "      <th>Lower</th>\n",
       "    </tr>\n",
       "  </thead>\n",
       "  <tbody>\n",
       "    <tr>\n",
       "      <th>55779</th>\n",
       "      <td>55780</td>\n",
       "      <td>macbeth</td>\n",
       "      <td>ACT I</td>\n",
       "      <td>1.1.1</td>\n",
       "      <td>act i</td>\n",
       "    </tr>\n",
       "    <tr>\n",
       "      <th>55780</th>\n",
       "      <td>55781</td>\n",
       "      <td>macbeth</td>\n",
       "      <td>SCENE I. A desert place.</td>\n",
       "      <td>1.1.1</td>\n",
       "      <td>scene i. a desert place.</td>\n",
       "    </tr>\n",
       "    <tr>\n",
       "      <th>55781</th>\n",
       "      <td>55782</td>\n",
       "      <td>macbeth</td>\n",
       "      <td>Thunder and lightning. Enter three Witches</td>\n",
       "      <td>1.1.1</td>\n",
       "      <td>thunder and lightning. enter three witches</td>\n",
       "    </tr>\n",
       "    <tr>\n",
       "      <th>55782</th>\n",
       "      <td>55783</td>\n",
       "      <td>macbeth</td>\n",
       "      <td>When shall we three meet again</td>\n",
       "      <td>1.1.1</td>\n",
       "      <td>when shall we three meet again</td>\n",
       "    </tr>\n",
       "    <tr>\n",
       "      <th>55783</th>\n",
       "      <td>55784</td>\n",
       "      <td>macbeth</td>\n",
       "      <td>In thunder, lightning, or in rain?</td>\n",
       "      <td>1.1.2</td>\n",
       "      <td>in thunder, lightning, or in rain?</td>\n",
       "    </tr>\n",
       "  </tbody>\n",
       "</table>\n",
       "</div>"
      ],
      "text/plain": [
       "       Dataline     Play                                        Line  \\\n",
       "55779     55780  macbeth                                       ACT I   \n",
       "55780     55781  macbeth                    SCENE I. A desert place.   \n",
       "55781     55782  macbeth  Thunder and lightning. Enter three Witches   \n",
       "55782     55783  macbeth              When shall we three meet again   \n",
       "55783     55784  macbeth          In thunder, lightning, or in rain?   \n",
       "\n",
       "      ActSceneLine                                       Lower  \n",
       "55779        1.1.1                                       act i  \n",
       "55780        1.1.1                    scene i. a desert place.  \n",
       "55781        1.1.1  thunder and lightning. enter three witches  \n",
       "55782        1.1.1              when shall we three meet again  \n",
       "55783        1.1.2          in thunder, lightning, or in rain?  "
      ]
     },
     "execution_count": 5,
     "metadata": {},
     "output_type": "execute_result"
    }
   ],
   "source": [
    "macbeth_df['Lower'] = macbeth_df['Line'].apply(lambda x: x.lower())\n",
    "\n",
    "macbeth_df.head()"
   ]
  },
  {
   "cell_type": "code",
   "execution_count": 6,
   "metadata": {},
   "outputs": [
    {
     "name": "stdout",
     "output_type": "stream",
     "text": [
      "(2586, 11378)\n"
     ]
    }
   ],
   "source": [
    "ngram_cv = CountVectorizer(ngram_range=(3,3))\n",
    "mac_trigram_matrix = ngram_cv.fit_transform(macbeth_df['Lower'])\n",
    "\n",
    "print(mac_trigram_matrix.shape)"
   ]
  },
  {
   "cell_type": "code",
   "execution_count": 7,
   "metadata": {},
   "outputs": [
    {
     "name": "stdout",
     "output_type": "stream",
     "text": [
      "There are 11378 unique trigrams from the 2586 lines of Macbeth\n"
     ]
    }
   ],
   "source": [
    "mac_trigrams = ngram_cv.get_feature_names()\n",
    "\n",
    "print('There are {} unique trigrams from the {} lines of Macbeth'.format(len(mac_trigrams), mac_trigram_matrix.shape[0]))"
   ]
  },
  {
   "cell_type": "code",
   "execution_count": 8,
   "metadata": {},
   "outputs": [
    {
     "data": {
      "text/plain": [
       "['abhorred tyrant with',\n",
       " 'another yet seventh',\n",
       " 'brow the round',\n",
       " 'did line the',\n",
       " 'for all your',\n",
       " 'have you left',\n",
       " 'in sow blood',\n",
       " 'like lead upon',\n",
       " 'must seem their',\n",
       " 'of the sun',\n",
       " 'revenges burn in',\n",
       " 'spent swimmers that',\n",
       " 'the gentle weal',\n",
       " 'think you can',\n",
       " 'torches enter sewer',\n",
       " 'where did find',\n",
       " 'you lack the']"
      ]
     },
     "execution_count": 8,
     "metadata": {},
     "output_type": "execute_result"
    }
   ],
   "source": [
    "mac_trigrams[::700]"
   ]
  },
  {
   "cell_type": "code",
   "execution_count": 9,
   "metadata": {},
   "outputs": [
    {
     "data": {
      "text/plain": [
       "(2586, 11378)"
      ]
     },
     "execution_count": 9,
     "metadata": {},
     "output_type": "execute_result"
    }
   ],
   "source": [
    "mac_tri_df = pd.DataFrame(mac_trigram_matrix.toarray())\n",
    "mac_tri_df.columns = mac_trigrams\n",
    "mac_tri_df.shape"
   ]
  },
  {
   "cell_type": "code",
   "execution_count": 10,
   "metadata": {},
   "outputs": [
    {
     "data": {
      "text/html": [
       "<div>\n",
       "<style scoped>\n",
       "    .dataframe tbody tr th:only-of-type {\n",
       "        vertical-align: middle;\n",
       "    }\n",
       "\n",
       "    .dataframe tbody tr th {\n",
       "        vertical-align: top;\n",
       "    }\n",
       "\n",
       "    .dataframe thead th {\n",
       "        text-align: right;\n",
       "    }\n",
       "</style>\n",
       "<table border=\"1\" class=\"dataframe\">\n",
       "  <thead>\n",
       "    <tr style=\"text-align: right;\">\n",
       "      <th></th>\n",
       "      <th>abhorred tyrant with</th>\n",
       "      <th>abide no longer</th>\n",
       "      <th>about him like</th>\n",
       "      <th>about his throne</th>\n",
       "      <th>about the cauldron</th>\n",
       "      <th>about their necks</th>\n",
       "      <th>about you here</th>\n",
       "      <th>abroad unnatural deeds</th>\n",
       "      <th>absence is no</th>\n",
       "      <th>absolute fear of</th>\n",
       "      <th>...</th>\n",
       "      <th>your wife and</th>\n",
       "      <th>your wife withal</th>\n",
       "      <th>your wives your</th>\n",
       "      <th>your wrath if</th>\n",
       "      <th>yours for ever</th>\n",
       "      <th>yours you may</th>\n",
       "      <th>yourself but for</th>\n",
       "      <th>yourself hath it</th>\n",
       "      <th>youth pray you</th>\n",
       "      <th>youths that even</th>\n",
       "    </tr>\n",
       "  </thead>\n",
       "  <tbody>\n",
       "    <tr>\n",
       "      <th>0</th>\n",
       "      <td>0</td>\n",
       "      <td>0</td>\n",
       "      <td>0</td>\n",
       "      <td>0</td>\n",
       "      <td>0</td>\n",
       "      <td>0</td>\n",
       "      <td>0</td>\n",
       "      <td>0</td>\n",
       "      <td>0</td>\n",
       "      <td>0</td>\n",
       "      <td>...</td>\n",
       "      <td>0</td>\n",
       "      <td>0</td>\n",
       "      <td>0</td>\n",
       "      <td>0</td>\n",
       "      <td>0</td>\n",
       "      <td>0</td>\n",
       "      <td>0</td>\n",
       "      <td>0</td>\n",
       "      <td>0</td>\n",
       "      <td>0</td>\n",
       "    </tr>\n",
       "    <tr>\n",
       "      <th>1</th>\n",
       "      <td>0</td>\n",
       "      <td>0</td>\n",
       "      <td>0</td>\n",
       "      <td>0</td>\n",
       "      <td>0</td>\n",
       "      <td>0</td>\n",
       "      <td>0</td>\n",
       "      <td>0</td>\n",
       "      <td>0</td>\n",
       "      <td>0</td>\n",
       "      <td>...</td>\n",
       "      <td>0</td>\n",
       "      <td>0</td>\n",
       "      <td>0</td>\n",
       "      <td>0</td>\n",
       "      <td>0</td>\n",
       "      <td>0</td>\n",
       "      <td>0</td>\n",
       "      <td>0</td>\n",
       "      <td>0</td>\n",
       "      <td>0</td>\n",
       "    </tr>\n",
       "    <tr>\n",
       "      <th>2</th>\n",
       "      <td>0</td>\n",
       "      <td>0</td>\n",
       "      <td>0</td>\n",
       "      <td>0</td>\n",
       "      <td>0</td>\n",
       "      <td>0</td>\n",
       "      <td>0</td>\n",
       "      <td>0</td>\n",
       "      <td>0</td>\n",
       "      <td>0</td>\n",
       "      <td>...</td>\n",
       "      <td>0</td>\n",
       "      <td>0</td>\n",
       "      <td>0</td>\n",
       "      <td>0</td>\n",
       "      <td>0</td>\n",
       "      <td>0</td>\n",
       "      <td>0</td>\n",
       "      <td>0</td>\n",
       "      <td>0</td>\n",
       "      <td>0</td>\n",
       "    </tr>\n",
       "    <tr>\n",
       "      <th>3</th>\n",
       "      <td>0</td>\n",
       "      <td>0</td>\n",
       "      <td>0</td>\n",
       "      <td>0</td>\n",
       "      <td>0</td>\n",
       "      <td>0</td>\n",
       "      <td>0</td>\n",
       "      <td>0</td>\n",
       "      <td>0</td>\n",
       "      <td>0</td>\n",
       "      <td>...</td>\n",
       "      <td>0</td>\n",
       "      <td>0</td>\n",
       "      <td>0</td>\n",
       "      <td>0</td>\n",
       "      <td>0</td>\n",
       "      <td>0</td>\n",
       "      <td>0</td>\n",
       "      <td>0</td>\n",
       "      <td>0</td>\n",
       "      <td>0</td>\n",
       "    </tr>\n",
       "    <tr>\n",
       "      <th>4</th>\n",
       "      <td>0</td>\n",
       "      <td>0</td>\n",
       "      <td>0</td>\n",
       "      <td>0</td>\n",
       "      <td>0</td>\n",
       "      <td>0</td>\n",
       "      <td>0</td>\n",
       "      <td>0</td>\n",
       "      <td>0</td>\n",
       "      <td>0</td>\n",
       "      <td>...</td>\n",
       "      <td>0</td>\n",
       "      <td>0</td>\n",
       "      <td>0</td>\n",
       "      <td>0</td>\n",
       "      <td>0</td>\n",
       "      <td>0</td>\n",
       "      <td>0</td>\n",
       "      <td>0</td>\n",
       "      <td>0</td>\n",
       "      <td>0</td>\n",
       "    </tr>\n",
       "  </tbody>\n",
       "</table>\n",
       "<p>5 rows × 11378 columns</p>\n",
       "</div>"
      ],
      "text/plain": [
       "   abhorred tyrant with  abide no longer  about him like  about his throne  \\\n",
       "0                     0                0               0                 0   \n",
       "1                     0                0               0                 0   \n",
       "2                     0                0               0                 0   \n",
       "3                     0                0               0                 0   \n",
       "4                     0                0               0                 0   \n",
       "\n",
       "   about the cauldron  about their necks  about you here  \\\n",
       "0                   0                  0               0   \n",
       "1                   0                  0               0   \n",
       "2                   0                  0               0   \n",
       "3                   0                  0               0   \n",
       "4                   0                  0               0   \n",
       "\n",
       "   abroad unnatural deeds  absence is no  absolute fear of  ...  \\\n",
       "0                       0              0                 0  ...   \n",
       "1                       0              0                 0  ...   \n",
       "2                       0              0                 0  ...   \n",
       "3                       0              0                 0  ...   \n",
       "4                       0              0                 0  ...   \n",
       "\n",
       "   your wife and  your wife withal  your wives your  your wrath if  \\\n",
       "0              0                 0                0              0   \n",
       "1              0                 0                0              0   \n",
       "2              0                 0                0              0   \n",
       "3              0                 0                0              0   \n",
       "4              0                 0                0              0   \n",
       "\n",
       "   yours for ever  yours you may  yourself but for  yourself hath it  \\\n",
       "0               0              0                 0                 0   \n",
       "1               0              0                 0                 0   \n",
       "2               0              0                 0                 0   \n",
       "3               0              0                 0                 0   \n",
       "4               0              0                 0                 0   \n",
       "\n",
       "   youth pray you  youths that even  \n",
       "0               0                 0  \n",
       "1               0                 0  \n",
       "2               0                 0  \n",
       "3               0                 0  \n",
       "4               0                 0  \n",
       "\n",
       "[5 rows x 11378 columns]"
      ]
     },
     "execution_count": 10,
     "metadata": {},
     "output_type": "execute_result"
    }
   ],
   "source": [
    "mac_tri_df.head()"
   ]
  },
  {
   "cell_type": "markdown",
   "metadata": {},
   "source": [
    "Trigramming all of Shakespeare's corpus"
   ]
  },
  {
   "cell_type": "code",
   "execution_count": 11,
   "metadata": {},
   "outputs": [
    {
     "data": {
      "text/html": [
       "<div>\n",
       "<style scoped>\n",
       "    .dataframe tbody tr th:only-of-type {\n",
       "        vertical-align: middle;\n",
       "    }\n",
       "\n",
       "    .dataframe tbody tr th {\n",
       "        vertical-align: top;\n",
       "    }\n",
       "\n",
       "    .dataframe thead th {\n",
       "        text-align: right;\n",
       "    }\n",
       "</style>\n",
       "<table border=\"1\" class=\"dataframe\">\n",
       "  <thead>\n",
       "    <tr style=\"text-align: right;\">\n",
       "      <th></th>\n",
       "      <th>Dataline</th>\n",
       "      <th>Play</th>\n",
       "      <th>Line</th>\n",
       "      <th>ActSceneLine</th>\n",
       "      <th>Lower</th>\n",
       "    </tr>\n",
       "  </thead>\n",
       "  <tbody>\n",
       "    <tr>\n",
       "      <th>0</th>\n",
       "      <td>1</td>\n",
       "      <td>henry iv</td>\n",
       "      <td>ACT I</td>\n",
       "      <td>1.1.1</td>\n",
       "      <td>act i</td>\n",
       "    </tr>\n",
       "    <tr>\n",
       "      <th>1</th>\n",
       "      <td>2</td>\n",
       "      <td>henry iv</td>\n",
       "      <td>SCENE I. London. The palace.</td>\n",
       "      <td>1.1.1</td>\n",
       "      <td>scene i. london. the palace.</td>\n",
       "    </tr>\n",
       "    <tr>\n",
       "      <th>2</th>\n",
       "      <td>3</td>\n",
       "      <td>henry iv</td>\n",
       "      <td>Enter KING HENRY, LORD JOHN OF LANCASTER, the EARL of WESTMORELAND, SIR WALTER BLUNT, and others</td>\n",
       "      <td>1.1.1</td>\n",
       "      <td>enter king henry, lord john of lancaster, the earl of westmoreland, sir walter blunt, and others</td>\n",
       "    </tr>\n",
       "    <tr>\n",
       "      <th>3</th>\n",
       "      <td>4</td>\n",
       "      <td>henry iv</td>\n",
       "      <td>So shaken as we are, so wan with care,</td>\n",
       "      <td>1.1.1</td>\n",
       "      <td>so shaken as we are, so wan with care,</td>\n",
       "    </tr>\n",
       "    <tr>\n",
       "      <th>4</th>\n",
       "      <td>5</td>\n",
       "      <td>henry iv</td>\n",
       "      <td>Find we a time for frighted peace to pant,</td>\n",
       "      <td>1.1.2</td>\n",
       "      <td>find we a time for frighted peace to pant,</td>\n",
       "    </tr>\n",
       "  </tbody>\n",
       "</table>\n",
       "</div>"
      ],
      "text/plain": [
       "   Dataline      Play  \\\n",
       "0         1  henry iv   \n",
       "1         2  henry iv   \n",
       "2         3  henry iv   \n",
       "3         4  henry iv   \n",
       "4         5  henry iv   \n",
       "\n",
       "                                                                                               Line  \\\n",
       "0                                                                                             ACT I   \n",
       "1                                                                      SCENE I. London. The palace.   \n",
       "2  Enter KING HENRY, LORD JOHN OF LANCASTER, the EARL of WESTMORELAND, SIR WALTER BLUNT, and others   \n",
       "3                                                            So shaken as we are, so wan with care,   \n",
       "4                                                        Find we a time for frighted peace to pant,   \n",
       "\n",
       "  ActSceneLine  \\\n",
       "0        1.1.1   \n",
       "1        1.1.1   \n",
       "2        1.1.1   \n",
       "3        1.1.1   \n",
       "4        1.1.2   \n",
       "\n",
       "                                                                                              Lower  \n",
       "0                                                                                             act i  \n",
       "1                                                                      scene i. london. the palace.  \n",
       "2  enter king henry, lord john of lancaster, the earl of westmoreland, sir walter blunt, and others  \n",
       "3                                                            so shaken as we are, so wan with care,  \n",
       "4                                                        find we a time for frighted peace to pant,  "
      ]
     },
     "execution_count": 11,
     "metadata": {},
     "output_type": "execute_result"
    }
   ],
   "source": [
    "plays_sonnets['Lower'] = plays_sonnets['Line'].apply(lambda x: x.lower())\n",
    "\n",
    "plays_sonnets.head()"
   ]
  },
  {
   "cell_type": "code",
   "execution_count": 12,
   "metadata": {},
   "outputs": [],
   "source": [
    "ngram_cv = CountVectorizer(ngram_range=(3,3))\n",
    "all_trigram_matrix = ngram_cv.fit_transform(plays_sonnets['Lower'])"
   ]
  },
  {
   "cell_type": "code",
   "execution_count": 13,
   "metadata": {},
   "outputs": [
    {
     "name": "stdout",
     "output_type": "stream",
     "text": [
      "There are 480628 unique trigrams from the 113553 lines of Shakespearean text\n"
     ]
    }
   ],
   "source": [
    "all_trigrams = ngram_cv.get_feature_names()\n",
    "\n",
    "print('There are {} unique trigrams from the {} lines of Shakespearean text'.format(len(all_trigrams), all_trigram_matrix.shape[0]))"
   ]
  },
  {
   "cell_type": "code",
   "execution_count": 14,
   "metadata": {},
   "outputs": [
    {
     "data": {
      "text/plain": [
       "['as tis received',\n",
       " 'as tis reported',\n",
       " 'as tis said',\n",
       " 'as tis the',\n",
       " 'as tis thought',\n",
       " 'as tis to',\n",
       " 'as tis valued',\n",
       " 'as tis with',\n",
       " 'as titan face',\n",
       " 'as titan rays']"
      ]
     },
     "execution_count": 14,
     "metadata": {},
     "output_type": "execute_result"
    }
   ],
   "source": [
    "all_trigrams[34567:34577]"
   ]
  },
  {
   "cell_type": "code",
   "execution_count": 15,
   "metadata": {},
   "outputs": [
    {
     "data": {
      "text/plain": [
       "['th inviting time',\n",
       " 'saved the treacherous',\n",
       " 'part us northumberland',\n",
       " 'working days your',\n",
       " 'make therefore ladies',\n",
       " 'your royal preparation',\n",
       " 'and learnedly for',\n",
       " 'thou dost suspect',\n",
       " 'befriend us as',\n",
       " 'shows but little']"
      ]
     },
     "execution_count": 15,
     "metadata": {},
     "output_type": "execute_result"
    }
   ],
   "source": [
    "sample(all_trigrams, 10)"
   ]
  },
  {
   "cell_type": "markdown",
   "metadata": {},
   "source": [
    "And now four-grams!"
   ]
  },
  {
   "cell_type": "code",
   "execution_count": 124,
   "metadata": {},
   "outputs": [],
   "source": [
    "ngram_cv2 = CountVectorizer(ngram_range=(4,4))\n",
    "all_fourgram_matrix = ngram_cv2.fit_transform(plays_sonnets['Lower'])"
   ]
  },
  {
   "cell_type": "code",
   "execution_count": 125,
   "metadata": {},
   "outputs": [
    {
     "name": "stdout",
     "output_type": "stream",
     "text": [
      "There are 457661 unique fourgrams from the 113553 lines of Shakespearean text\n"
     ]
    }
   ],
   "source": [
    "all_fourgrams = ngram_cv2.get_feature_names()\n",
    "\n",
    "print('There are {} unique fourgrams from the {} lines of Shakespearean text'.format(len(all_fourgrams), all_fourgram_matrix.shape[0]))"
   ]
  },
  {
   "cell_type": "code",
   "execution_count": 127,
   "metadata": {},
   "outputs": [
    {
     "data": {
      "text/plain": [
       "['unbolted villain into mortar',\n",
       " 'unbonneted to as proud',\n",
       " 'unbookish jealousy must construe',\n",
       " 'unborn and accents yet',\n",
       " 'unborn could never be',\n",
       " 'unborn sorrow ripe in',\n",
       " 'unbound the rest and',\n",
       " 'unbounded stomach ever ranking',\n",
       " 'unbow alas poor milan',\n",
       " 'unbraced and suck up']"
      ]
     },
     "execution_count": 127,
     "metadata": {},
     "output_type": "execute_result"
    }
   ],
   "source": [
    "all_fourgrams[400000:400010]"
   ]
  },
  {
   "cell_type": "code",
   "execution_count": 152,
   "metadata": {},
   "outputs": [
    {
     "data": {
      "text/plain": [
       "['myself and so my',\n",
       " 'by the joiner squirrel',\n",
       " 'drowned we will inherit',\n",
       " 'as nature was in',\n",
       " 'and fate of him',\n",
       " 'divinity that shapes our',\n",
       " 'the house on purpose',\n",
       " 'which straight she gave',\n",
       " 'to make men glorious',\n",
       " 'exeunt lucius quintus martius']"
      ]
     },
     "execution_count": 152,
     "metadata": {},
     "output_type": "execute_result"
    }
   ],
   "source": [
    "sample(all_fourgrams, 10)"
   ]
  },
  {
   "cell_type": "code",
   "execution_count": 133,
   "metadata": {},
   "outputs": [
    {
     "data": {
      "text/plain": [
       "267400"
      ]
     },
     "execution_count": 133,
     "metadata": {},
     "output_type": "execute_result"
    }
   ],
   "source": [
    "all_fourgrams.index('otter sir john why')"
   ]
  },
  {
   "cell_type": "code",
   "execution_count": 149,
   "metadata": {},
   "outputs": [
    {
     "data": {
      "text/plain": [
       "['otherwise that could beat',\n",
       " 'otherwise tis labour well',\n",
       " 'otherwise tis light and',\n",
       " 'otherwise will henry ne',\n",
       " 'otherwise would grow into',\n",
       " 'otter sir john why',\n",
       " 'ottomites reverend and gracious',\n",
       " 'oublie ce que je',\n",
       " 'oublie de elbow comment',\n",
       " 'oublie dere is some']"
      ]
     },
     "execution_count": 149,
     "metadata": {},
     "output_type": "execute_result"
    }
   ],
   "source": [
    "all_fourgrams[267395:267405]"
   ]
  },
  {
   "cell_type": "code",
   "execution_count": 137,
   "metadata": {},
   "outputs": [
    {
     "data": {
      "text/html": [
       "<div>\n",
       "<style scoped>\n",
       "    .dataframe tbody tr th:only-of-type {\n",
       "        vertical-align: middle;\n",
       "    }\n",
       "\n",
       "    .dataframe tbody tr th {\n",
       "        vertical-align: top;\n",
       "    }\n",
       "\n",
       "    .dataframe thead th {\n",
       "        text-align: right;\n",
       "    }\n",
       "</style>\n",
       "<table border=\"1\" class=\"dataframe\">\n",
       "  <thead>\n",
       "    <tr style=\"text-align: right;\">\n",
       "      <th></th>\n",
       "      <th>Dataline</th>\n",
       "      <th>Play</th>\n",
       "      <th>Line</th>\n",
       "      <th>ActSceneLine</th>\n",
       "      <th>Lower</th>\n",
       "    </tr>\n",
       "  </thead>\n",
       "  <tbody>\n",
       "    <tr>\n",
       "      <th>2144</th>\n",
       "      <td>2145</td>\n",
       "      <td>henry iv</td>\n",
       "      <td>What beast! why, an otter.</td>\n",
       "      <td>3.2.308</td>\n",
       "      <td>what beast! why, an otter.</td>\n",
       "    </tr>\n",
       "    <tr>\n",
       "      <th>2145</th>\n",
       "      <td>2146</td>\n",
       "      <td>henry iv</td>\n",
       "      <td>An otter, Sir John! Why an otter?</td>\n",
       "      <td>3.2.309</td>\n",
       "      <td>an otter, sir john! why an otter?</td>\n",
       "    </tr>\n",
       "  </tbody>\n",
       "</table>\n",
       "</div>"
      ],
      "text/plain": [
       "      Dataline      Play                               Line ActSceneLine  \\\n",
       "2144      2145  henry iv         What beast! why, an otter.      3.2.308   \n",
       "2145      2146  henry iv  An otter, Sir John! Why an otter?      3.2.309   \n",
       "\n",
       "                                  Lower  \n",
       "2144         what beast! why, an otter.  \n",
       "2145  an otter, sir john! why an otter?  "
      ]
     },
     "execution_count": 137,
     "metadata": {},
     "output_type": "execute_result"
    }
   ],
   "source": [
    "plays_sonnets[plays_sonnets['Lower'].str.contains('an otter')]"
   ]
  },
  {
   "cell_type": "markdown",
   "metadata": {},
   "source": [
    "There seems to be a lot of non-English words in the ngrams, such as 'enseignez il faut', 'oublie ce que je', or 'he shall to partha'. This might be a good opportunity to whittle down these huge datasets with a non-english prefilter."
   ]
  },
  {
   "cell_type": "code",
   "execution_count": 145,
   "metadata": {},
   "outputs": [],
   "source": [
    "import nltk\n",
    "\n",
    "eng_words = set(nltk.corpus.words.words())"
   ]
  },
  {
   "cell_type": "code",
   "execution_count": 169,
   "metadata": {},
   "outputs": [
    {
     "data": {
      "text/plain": [
       "146248"
      ]
     },
     "execution_count": 169,
     "metadata": {},
     "output_type": "execute_result"
    }
   ],
   "source": [
    "not_eng = []\n",
    "\n",
    "for title in all_trigrams:\n",
    "    for word in title.split():\n",
    "        if word not in eng_words:\n",
    "            not_eng.append(word)\n",
    "            \n",
    "len(not_eng)"
   ]
  },
  {
   "cell_type": "code",
   "execution_count": 170,
   "metadata": {},
   "outputs": [
    {
     "data": {
      "text/plain": [
       "9686"
      ]
     },
     "execution_count": 170,
     "metadata": {},
     "output_type": "execute_result"
    }
   ],
   "source": [
    "not_eng = set(not_eng)\n",
    "\n",
    "len(not_eng)"
   ]
  },
  {
   "cell_type": "code",
   "execution_count": 172,
   "metadata": {},
   "outputs": [
    {
     "data": {
      "text/plain": [
       "['judases',\n",
       " 'halberds',\n",
       " 'calls',\n",
       " 'loathed',\n",
       " 'couronne',\n",
       " 'pleaders',\n",
       " 'mediators',\n",
       " 'witches',\n",
       " 'entertainest',\n",
       " 'guichard',\n",
       " 'practised',\n",
       " 'wilful',\n",
       " 'envenoms',\n",
       " 'furies',\n",
       " 'newest',\n",
       " 'followest',\n",
       " 'bounced',\n",
       " 'crannies',\n",
       " 'depths',\n",
       " 'hopes',\n",
       " 'damon',\n",
       " 'intitle',\n",
       " 'shores',\n",
       " 'aldermen',\n",
       " 'assence',\n",
       " 'synods',\n",
       " 'appelez',\n",
       " 'pioner',\n",
       " 'spieth',\n",
       " 'dowle',\n",
       " 'reliances',\n",
       " 'lifteth',\n",
       " 'auditors',\n",
       " 'awakens',\n",
       " 'cinna',\n",
       " 'erboard',\n",
       " 'alencon',\n",
       " 'breese',\n",
       " 'maidens',\n",
       " 'centuries',\n",
       " 'enkindled',\n",
       " 'aeson',\n",
       " 'impaled',\n",
       " 'dissembling',\n",
       " 'stubbornest',\n",
       " 'inforced',\n",
       " 'trowest',\n",
       " 'gascony',\n",
       " 'tangled',\n",
       " 'parthian']"
      ]
     },
     "execution_count": 172,
     "metadata": {},
     "output_type": "execute_result"
    }
   ],
   "source": [
    "sample(not_eng, 50)"
   ]
  },
  {
   "cell_type": "markdown",
   "metadata": {},
   "source": [
    "There are a lot of English words in the 'not english' list that would be removed. I wonder if these would be ignored anyway in POS tagging. I will create a new list anyway and see how it goes."
   ]
  },
  {
   "cell_type": "code",
   "execution_count": 185,
   "metadata": {},
   "outputs": [
    {
     "name": "stdout",
     "output_type": "stream",
     "text": [
      "Starting trigram number: 480628\n",
      "Filtered trigram number: 348051\n"
     ]
    }
   ],
   "source": [
    "print('Starting trigram number:', len(all_trigrams))\n",
    "\n",
    "eng_trigrams = []\n",
    "\n",
    "for title in all_trigrams:\n",
    "    count = sum([1 for word in title.split() if word in eng_words])\n",
    "    if count == 3:\n",
    "        eng_trigrams.append(title)\n",
    "\n",
    "print('Filtered trigram number:', len(eng_trigrams))"
   ]
  },
  {
   "cell_type": "code",
   "execution_count": 186,
   "metadata": {},
   "outputs": [
    {
     "name": "stdout",
     "output_type": "stream",
     "text": [
      "Starting fourgram number: 457661\n",
      "Filtered fourgram number: 311903\n"
     ]
    }
   ],
   "source": [
    "print('Starting fourgram number:', len(all_fourgrams))\n",
    "\n",
    "eng_fourgrams = []\n",
    "\n",
    "for title in all_fourgrams:\n",
    "    count = sum([1 for word in title.split() if word in eng_words])\n",
    "    if count == 4:\n",
    "        eng_fourgrams.append(title)\n",
    "\n",
    "print('Filtered fourgram number:', len(eng_fourgrams))"
   ]
  },
  {
   "cell_type": "code",
   "execution_count": 187,
   "metadata": {},
   "outputs": [],
   "source": [
    "all_trigrams_df = pd.DataFrame(all_trigrams, columns=['title'])\n",
    "eng_trigrams_df = pd.DataFrame(eng_trigrams, columns=['title'])\n",
    "\n",
    "all_fourgrams_df = pd.DataFrame(all_fourgrams, columns=['title'])\n",
    "eng_fourgrams_df = pd.DataFrame(eng_fourgrams, columns=['title'])"
   ]
  },
  {
   "cell_type": "code",
   "execution_count": 190,
   "metadata": {},
   "outputs": [
    {
     "data": {
      "text/html": [
       "<div>\n",
       "<style scoped>\n",
       "    .dataframe tbody tr th:only-of-type {\n",
       "        vertical-align: middle;\n",
       "    }\n",
       "\n",
       "    .dataframe tbody tr th {\n",
       "        vertical-align: top;\n",
       "    }\n",
       "\n",
       "    .dataframe thead th {\n",
       "        text-align: right;\n",
       "    }\n",
       "</style>\n",
       "<table border=\"1\" class=\"dataframe\">\n",
       "  <thead>\n",
       "    <tr style=\"text-align: right;\">\n",
       "      <th></th>\n",
       "      <th>title</th>\n",
       "      <th>title_tokenized</th>\n",
       "      <th>title_tokenized_pos</th>\n",
       "      <th>title_pos</th>\n",
       "    </tr>\n",
       "  </thead>\n",
       "  <tbody>\n",
       "    <tr>\n",
       "      <th>0</th>\n",
       "      <td>10 certain ladies</td>\n",
       "      <td>[10, certain, ladies]</td>\n",
       "      <td>[(10, CD), (certain, JJ), (ladies, NNS)]</td>\n",
       "      <td>[CD, JJ, NNS]</td>\n",
       "    </tr>\n",
       "    <tr>\n",
       "      <th>1</th>\n",
       "      <td>aaron and other</td>\n",
       "      <td>[aaron, and, other]</td>\n",
       "      <td>[(aaron, NN), (and, CC), (other, JJ)]</td>\n",
       "      <td>[NN, CC, JJ]</td>\n",
       "    </tr>\n",
       "    <tr>\n",
       "      <th>2</th>\n",
       "      <td>aaron and thou</td>\n",
       "      <td>[aaron, and, thou]</td>\n",
       "      <td>[(aaron, NN), (and, CC), (thou, NN)]</td>\n",
       "      <td>[NN, CC, NN]</td>\n",
       "    </tr>\n",
       "    <tr>\n",
       "      <th>3</th>\n",
       "      <td>aaron arm thy</td>\n",
       "      <td>[aaron, arm, thy]</td>\n",
       "      <td>[(aaron, NN), (arm, NN), (thy, NN)]</td>\n",
       "      <td>[NN, NN, NN]</td>\n",
       "    </tr>\n",
       "    <tr>\n",
       "      <th>4</th>\n",
       "      <td>aaron bid us</td>\n",
       "      <td>[aaron, bid, us]</td>\n",
       "      <td>[(aaron, NN), (bid, NN), (us, PRP)]</td>\n",
       "      <td>[NN, NN, PRP]</td>\n",
       "    </tr>\n",
       "  </tbody>\n",
       "</table>\n",
       "</div>"
      ],
      "text/plain": [
       "               title        title_tokenized  \\\n",
       "0  10 certain ladies  [10, certain, ladies]   \n",
       "1    aaron and other    [aaron, and, other]   \n",
       "2     aaron and thou     [aaron, and, thou]   \n",
       "3      aaron arm thy      [aaron, arm, thy]   \n",
       "4       aaron bid us       [aaron, bid, us]   \n",
       "\n",
       "                        title_tokenized_pos      title_pos  \n",
       "0  [(10, CD), (certain, JJ), (ladies, NNS)]  [CD, JJ, NNS]  \n",
       "1     [(aaron, NN), (and, CC), (other, JJ)]   [NN, CC, JJ]  \n",
       "2      [(aaron, NN), (and, CC), (thou, NN)]   [NN, CC, NN]  \n",
       "3       [(aaron, NN), (arm, NN), (thy, NN)]   [NN, NN, NN]  \n",
       "4       [(aaron, NN), (bid, NN), (us, PRP)]  [NN, NN, PRP]  "
      ]
     },
     "execution_count": 190,
     "metadata": {},
     "output_type": "execute_result"
    }
   ],
   "source": [
    "all_trigrams_df['title_tokenized'] = all_trigrams_df['title'].apply(lambda x: nltk.word_tokenize(x))\n",
    "all_trigrams_df['title_tokenized_pos'] = all_trigrams_df['title_tokenized'].apply(lambda x: nltk.pos_tag(x))\n",
    "all_trigrams_df['title_pos'] = all_trigrams_df['title_tokenized_pos'].apply(lambda x: [i[1] for i in x])\n",
    "\n",
    "all_trigrams_df.head()"
   ]
  },
  {
   "cell_type": "code",
   "execution_count": 191,
   "metadata": {},
   "outputs": [
    {
     "data": {
      "text/html": [
       "<div>\n",
       "<style scoped>\n",
       "    .dataframe tbody tr th:only-of-type {\n",
       "        vertical-align: middle;\n",
       "    }\n",
       "\n",
       "    .dataframe tbody tr th {\n",
       "        vertical-align: top;\n",
       "    }\n",
       "\n",
       "    .dataframe thead th {\n",
       "        text-align: right;\n",
       "    }\n",
       "</style>\n",
       "<table border=\"1\" class=\"dataframe\">\n",
       "  <thead>\n",
       "    <tr style=\"text-align: right;\">\n",
       "      <th></th>\n",
       "      <th>title</th>\n",
       "      <th>title_tokenized</th>\n",
       "      <th>title_tokenized_pos</th>\n",
       "      <th>title_pos</th>\n",
       "    </tr>\n",
       "  </thead>\n",
       "  <tbody>\n",
       "    <tr>\n",
       "      <th>0</th>\n",
       "      <td>10 certain ladies or</td>\n",
       "      <td>[10, certain, ladies, or]</td>\n",
       "      <td>[(10, CD), (certain, JJ), (ladies, NNS), (or, CC)]</td>\n",
       "      <td>[CD, JJ, NNS, CC]</td>\n",
       "    </tr>\n",
       "    <tr>\n",
       "      <th>1</th>\n",
       "      <td>aaron and other goths</td>\n",
       "      <td>[aaron, and, other, goths]</td>\n",
       "      <td>[(aaron, NN), (and, CC), (other, JJ), (goths, NNS)]</td>\n",
       "      <td>[NN, CC, JJ, NNS]</td>\n",
       "    </tr>\n",
       "    <tr>\n",
       "      <th>2</th>\n",
       "      <td>aaron and thou look</td>\n",
       "      <td>[aaron, and, thou, look]</td>\n",
       "      <td>[(aaron, NN), (and, CC), (thou, NN), (look, NN)]</td>\n",
       "      <td>[NN, CC, NN, NN]</td>\n",
       "    </tr>\n",
       "    <tr>\n",
       "      <th>3</th>\n",
       "      <td>aaron arm thy heart</td>\n",
       "      <td>[aaron, arm, thy, heart]</td>\n",
       "      <td>[(aaron, NN), (arm, NN), (thy, JJ), (heart, NN)]</td>\n",
       "      <td>[NN, NN, JJ, NN]</td>\n",
       "    </tr>\n",
       "    <tr>\n",
       "      <th>4</th>\n",
       "      <td>aaron bid us hide</td>\n",
       "      <td>[aaron, bid, us, hide]</td>\n",
       "      <td>[(aaron, NN), (bid, NN), (us, PRP), (hide, VB)]</td>\n",
       "      <td>[NN, NN, PRP, VB]</td>\n",
       "    </tr>\n",
       "  </tbody>\n",
       "</table>\n",
       "</div>"
      ],
      "text/plain": [
       "                   title             title_tokenized  \\\n",
       "0   10 certain ladies or   [10, certain, ladies, or]   \n",
       "1  aaron and other goths  [aaron, and, other, goths]   \n",
       "2    aaron and thou look    [aaron, and, thou, look]   \n",
       "3    aaron arm thy heart    [aaron, arm, thy, heart]   \n",
       "4      aaron bid us hide      [aaron, bid, us, hide]   \n",
       "\n",
       "                                   title_tokenized_pos          title_pos  \n",
       "0   [(10, CD), (certain, JJ), (ladies, NNS), (or, CC)]  [CD, JJ, NNS, CC]  \n",
       "1  [(aaron, NN), (and, CC), (other, JJ), (goths, NNS)]  [NN, CC, JJ, NNS]  \n",
       "2     [(aaron, NN), (and, CC), (thou, NN), (look, NN)]   [NN, CC, NN, NN]  \n",
       "3     [(aaron, NN), (arm, NN), (thy, JJ), (heart, NN)]   [NN, NN, JJ, NN]  \n",
       "4      [(aaron, NN), (bid, NN), (us, PRP), (hide, VB)]  [NN, NN, PRP, VB]  "
      ]
     },
     "execution_count": 191,
     "metadata": {},
     "output_type": "execute_result"
    }
   ],
   "source": [
    "all_fourgrams_df['title_tokenized'] = all_fourgrams_df['title'].apply(lambda x: nltk.word_tokenize(x))\n",
    "all_fourgrams_df['title_tokenized_pos'] = all_fourgrams_df['title_tokenized'].apply(lambda x: nltk.pos_tag(x))\n",
    "all_fourgrams_df['title_pos'] = all_fourgrams_df['title_tokenized_pos'].apply(lambda x: [i[1] for i in x])\n",
    "\n",
    "all_fourgrams_df.head()"
   ]
  },
  {
   "cell_type": "code",
   "execution_count": null,
   "metadata": {},
   "outputs": [],
   "source": []
  }
 ],
 "metadata": {
  "kernelspec": {
   "display_name": "Python 3",
   "language": "python",
   "name": "python3"
  },
  "language_info": {
   "codemirror_mode": {
    "name": "ipython",
    "version": 3
   },
   "file_extension": ".py",
   "mimetype": "text/x-python",
   "name": "python",
   "nbconvert_exporter": "python",
   "pygments_lexer": "ipython3",
   "version": "3.8.3"
  }
 },
 "nbformat": 4,
 "nbformat_minor": 4
}
