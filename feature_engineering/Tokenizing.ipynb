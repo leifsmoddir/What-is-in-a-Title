{
 "cells": [
  {
   "cell_type": "code",
   "execution_count": 1,
   "metadata": {},
   "outputs": [],
   "source": [
    "import nltk\n",
    "from sklearn.feature_extraction.text import CountVectorizer\n",
    "from nltk.tokenize import TreebankWordTokenizer\n",
    "import pandas as pd\n",
    "import numpy as np\n",
    "import os\n",
    "\n",
    "pd.set_option('display.max_colwidth', None)"
   ]
  },
  {
   "cell_type": "code",
   "execution_count": 2,
   "metadata": {},
   "outputs": [
    {
     "data": {
      "text/html": [
       "<div>\n",
       "<style scoped>\n",
       "    .dataframe tbody tr th:only-of-type {\n",
       "        vertical-align: middle;\n",
       "    }\n",
       "\n",
       "    .dataframe tbody tr th {\n",
       "        vertical-align: top;\n",
       "    }\n",
       "\n",
       "    .dataframe thead th {\n",
       "        text-align: right;\n",
       "    }\n",
       "</style>\n",
       "<table border=\"1\" class=\"dataframe\">\n",
       "  <thead>\n",
       "    <tr style=\"text-align: right;\">\n",
       "      <th></th>\n",
       "      <th>Dataline</th>\n",
       "      <th>Play</th>\n",
       "      <th>Line</th>\n",
       "      <th>ActSceneLine</th>\n",
       "      <th>Player</th>\n",
       "      <th>PlayerLinenumber</th>\n",
       "      <th>Traditional</th>\n",
       "      <th>Modern</th>\n",
       "    </tr>\n",
       "  </thead>\n",
       "  <tbody>\n",
       "    <tr>\n",
       "      <th>35423</th>\n",
       "      <td>35424</td>\n",
       "      <td>hamlet</td>\n",
       "      <td>He is dead and gone,</td>\n",
       "      <td>4.5.33</td>\n",
       "      <td>OPHELIA</td>\n",
       "      <td>11.0</td>\n",
       "      <td>tragedy</td>\n",
       "      <td>tragedy</td>\n",
       "    </tr>\n",
       "    <tr>\n",
       "      <th>66654</th>\n",
       "      <td>66655</td>\n",
       "      <td>merry wives of windsor</td>\n",
       "      <td>To give our hearts united ceremony.</td>\n",
       "      <td>4.6.50</td>\n",
       "      <td>FENTON</td>\n",
       "      <td>6.0</td>\n",
       "      <td>comedy</td>\n",
       "      <td>comedy</td>\n",
       "    </tr>\n",
       "    <tr>\n",
       "      <th>62566</th>\n",
       "      <td>62567</td>\n",
       "      <td>merchant of venice</td>\n",
       "      <td>And of opposed natures.</td>\n",
       "      <td>2.9.61</td>\n",
       "      <td>PORTIA</td>\n",
       "      <td>8.0</td>\n",
       "      <td>comedy</td>\n",
       "      <td>comedy</td>\n",
       "    </tr>\n",
       "    <tr>\n",
       "      <th>56324</th>\n",
       "      <td>56325</td>\n",
       "      <td>macbeth</td>\n",
       "      <td>But screw your courage to the sticking-place,</td>\n",
       "      <td>1.7.67</td>\n",
       "      <td>LADY MACBETH</td>\n",
       "      <td>10.0</td>\n",
       "      <td>tragedy</td>\n",
       "      <td>tragedy</td>\n",
       "    </tr>\n",
       "    <tr>\n",
       "      <th>27005</th>\n",
       "      <td>27006</td>\n",
       "      <td>coriolanus</td>\n",
       "      <td>Six of his labours you'ld have done, and saved</td>\n",
       "      <td>4.1.20</td>\n",
       "      <td>CORIOLANUS</td>\n",
       "      <td>5.0</td>\n",
       "      <td>tragedy</td>\n",
       "      <td>tragedy</td>\n",
       "    </tr>\n",
       "  </tbody>\n",
       "</table>\n",
       "</div>"
      ],
      "text/plain": [
       "       Dataline                    Play  \\\n",
       "35423     35424                  hamlet   \n",
       "66654     66655  merry wives of windsor   \n",
       "62566     62567      merchant of venice   \n",
       "56324     56325                 macbeth   \n",
       "27005     27006              coriolanus   \n",
       "\n",
       "                                                 Line ActSceneLine  \\\n",
       "35423                            He is dead and gone,       4.5.33   \n",
       "66654             To give our hearts united ceremony.       4.6.50   \n",
       "62566                         And of opposed natures.       2.9.61   \n",
       "56324   But screw your courage to the sticking-place,       1.7.67   \n",
       "27005  Six of his labours you'ld have done, and saved       4.1.20   \n",
       "\n",
       "             Player  PlayerLinenumber Traditional   Modern  \n",
       "35423       OPHELIA              11.0     tragedy  tragedy  \n",
       "66654        FENTON               6.0      comedy   comedy  \n",
       "62566        PORTIA               8.0      comedy   comedy  \n",
       "56324  LADY MACBETH              10.0     tragedy  tragedy  \n",
       "27005    CORIOLANUS               5.0     tragedy  tragedy  "
      ]
     },
     "execution_count": 2,
     "metadata": {},
     "output_type": "execute_result"
    }
   ],
   "source": [
    "shake_df = pd.read_csv('../data/shake_corpus.csv')\n",
    "\n",
    "shake_df.sample(5)"
   ]
  },
  {
   "cell_type": "markdown",
   "metadata": {},
   "source": [
    "Subset shake_df in order to investigate tokenizing and n-gram generation with punctuation."
   ]
  },
  {
   "cell_type": "code",
   "execution_count": 3,
   "metadata": {},
   "outputs": [
    {
     "data": {
      "text/html": [
       "<div>\n",
       "<style scoped>\n",
       "    .dataframe tbody tr th:only-of-type {\n",
       "        vertical-align: middle;\n",
       "    }\n",
       "\n",
       "    .dataframe tbody tr th {\n",
       "        vertical-align: top;\n",
       "    }\n",
       "\n",
       "    .dataframe thead th {\n",
       "        text-align: right;\n",
       "    }\n",
       "</style>\n",
       "<table border=\"1\" class=\"dataframe\">\n",
       "  <thead>\n",
       "    <tr style=\"text-align: right;\">\n",
       "      <th></th>\n",
       "      <th>Dataline</th>\n",
       "      <th>Play</th>\n",
       "      <th>Line</th>\n",
       "      <th>ActSceneLine</th>\n",
       "      <th>Player</th>\n",
       "      <th>PlayerLinenumber</th>\n",
       "      <th>Traditional</th>\n",
       "      <th>Modern</th>\n",
       "    </tr>\n",
       "  </thead>\n",
       "  <tbody>\n",
       "    <tr>\n",
       "      <th>55779</th>\n",
       "      <td>55780</td>\n",
       "      <td>macbeth</td>\n",
       "      <td>ACT I</td>\n",
       "      <td>1.1.1</td>\n",
       "      <td>ADRIANO DE ARMADO</td>\n",
       "      <td>405.0</td>\n",
       "      <td>tragedy</td>\n",
       "      <td>tragedy</td>\n",
       "    </tr>\n",
       "    <tr>\n",
       "      <th>55780</th>\n",
       "      <td>55781</td>\n",
       "      <td>macbeth</td>\n",
       "      <td>SCENE I. A desert place.</td>\n",
       "      <td>1.1.1</td>\n",
       "      <td>ADRIANO DE ARMADO</td>\n",
       "      <td>405.0</td>\n",
       "      <td>tragedy</td>\n",
       "      <td>tragedy</td>\n",
       "    </tr>\n",
       "    <tr>\n",
       "      <th>55781</th>\n",
       "      <td>55782</td>\n",
       "      <td>macbeth</td>\n",
       "      <td>Thunder and lightning. Enter three Witches</td>\n",
       "      <td>1.1.1</td>\n",
       "      <td>ADRIANO DE ARMADO</td>\n",
       "      <td>405.0</td>\n",
       "      <td>tragedy</td>\n",
       "      <td>tragedy</td>\n",
       "    </tr>\n",
       "    <tr>\n",
       "      <th>55782</th>\n",
       "      <td>55783</td>\n",
       "      <td>macbeth</td>\n",
       "      <td>When shall we three meet again</td>\n",
       "      <td>1.1.1</td>\n",
       "      <td>First Witch</td>\n",
       "      <td>1.0</td>\n",
       "      <td>tragedy</td>\n",
       "      <td>tragedy</td>\n",
       "    </tr>\n",
       "    <tr>\n",
       "      <th>55783</th>\n",
       "      <td>55784</td>\n",
       "      <td>macbeth</td>\n",
       "      <td>In thunder, lightning, or in rain?</td>\n",
       "      <td>1.1.2</td>\n",
       "      <td>First Witch</td>\n",
       "      <td>1.0</td>\n",
       "      <td>tragedy</td>\n",
       "      <td>tragedy</td>\n",
       "    </tr>\n",
       "  </tbody>\n",
       "</table>\n",
       "</div>"
      ],
      "text/plain": [
       "       Dataline     Play                                        Line  \\\n",
       "55779     55780  macbeth                                       ACT I   \n",
       "55780     55781  macbeth                    SCENE I. A desert place.   \n",
       "55781     55782  macbeth  Thunder and lightning. Enter three Witches   \n",
       "55782     55783  macbeth              When shall we three meet again   \n",
       "55783     55784  macbeth          In thunder, lightning, or in rain?   \n",
       "\n",
       "      ActSceneLine             Player  PlayerLinenumber Traditional   Modern  \n",
       "55779        1.1.1  ADRIANO DE ARMADO             405.0     tragedy  tragedy  \n",
       "55780        1.1.1  ADRIANO DE ARMADO             405.0     tragedy  tragedy  \n",
       "55781        1.1.1  ADRIANO DE ARMADO             405.0     tragedy  tragedy  \n",
       "55782        1.1.1        First Witch               1.0     tragedy  tragedy  \n",
       "55783        1.1.2        First Witch               1.0     tragedy  tragedy  "
      ]
     },
     "execution_count": 3,
     "metadata": {},
     "output_type": "execute_result"
    }
   ],
   "source": [
    "macbeth = shake_df[shake_df['Play'] == 'macbeth']\n",
    "macbeth.head()"
   ]
  },
  {
   "cell_type": "markdown",
   "metadata": {},
   "source": [
    "TreebankWordTokenizer performs the following steps: \n",
    "- split standard contractions, e.g. ``don't`` -> ``do n't`` and ``they'll`` -> ``they 'll``\n",
    "- treat most punctuation characters as separate tokens\n",
    "- split off commas and single quotes, when followed by whitespace\n",
    "- separate periods that appear at the end of line"
   ]
  },
  {
   "cell_type": "code",
   "execution_count": 4,
   "metadata": {},
   "outputs": [
    {
     "name": "stderr",
     "output_type": "stream",
     "text": [
      "<ipython-input-4-3053f9e6ce36>:3: SettingWithCopyWarning: \n",
      "A value is trying to be set on a copy of a slice from a DataFrame.\n",
      "Try using .loc[row_indexer,col_indexer] = value instead\n",
      "\n",
      "See the caveats in the documentation: https://pandas.pydata.org/pandas-docs/stable/user_guide/indexing.html#returning-a-view-versus-a-copy\n",
      "  macbeth['line_tokenized'] = macbeth['Line'].apply(lambda x: twd.tokenize(x.lower()))\n"
     ]
    },
    {
     "data": {
      "text/html": [
       "<div>\n",
       "<style scoped>\n",
       "    .dataframe tbody tr th:only-of-type {\n",
       "        vertical-align: middle;\n",
       "    }\n",
       "\n",
       "    .dataframe tbody tr th {\n",
       "        vertical-align: top;\n",
       "    }\n",
       "\n",
       "    .dataframe thead th {\n",
       "        text-align: right;\n",
       "    }\n",
       "</style>\n",
       "<table border=\"1\" class=\"dataframe\">\n",
       "  <thead>\n",
       "    <tr style=\"text-align: right;\">\n",
       "      <th></th>\n",
       "      <th>Dataline</th>\n",
       "      <th>Play</th>\n",
       "      <th>Line</th>\n",
       "      <th>ActSceneLine</th>\n",
       "      <th>Player</th>\n",
       "      <th>PlayerLinenumber</th>\n",
       "      <th>Traditional</th>\n",
       "      <th>Modern</th>\n",
       "      <th>line_tokenized</th>\n",
       "    </tr>\n",
       "  </thead>\n",
       "  <tbody>\n",
       "    <tr>\n",
       "      <th>55779</th>\n",
       "      <td>55780</td>\n",
       "      <td>macbeth</td>\n",
       "      <td>ACT I</td>\n",
       "      <td>1.1.1</td>\n",
       "      <td>ADRIANO DE ARMADO</td>\n",
       "      <td>405.0</td>\n",
       "      <td>tragedy</td>\n",
       "      <td>tragedy</td>\n",
       "      <td>[act, i]</td>\n",
       "    </tr>\n",
       "    <tr>\n",
       "      <th>55780</th>\n",
       "      <td>55781</td>\n",
       "      <td>macbeth</td>\n",
       "      <td>SCENE I. A desert place.</td>\n",
       "      <td>1.1.1</td>\n",
       "      <td>ADRIANO DE ARMADO</td>\n",
       "      <td>405.0</td>\n",
       "      <td>tragedy</td>\n",
       "      <td>tragedy</td>\n",
       "      <td>[scene, i., a, desert, place, .]</td>\n",
       "    </tr>\n",
       "    <tr>\n",
       "      <th>55781</th>\n",
       "      <td>55782</td>\n",
       "      <td>macbeth</td>\n",
       "      <td>Thunder and lightning. Enter three Witches</td>\n",
       "      <td>1.1.1</td>\n",
       "      <td>ADRIANO DE ARMADO</td>\n",
       "      <td>405.0</td>\n",
       "      <td>tragedy</td>\n",
       "      <td>tragedy</td>\n",
       "      <td>[thunder, and, lightning., enter, three, witches]</td>\n",
       "    </tr>\n",
       "  </tbody>\n",
       "</table>\n",
       "</div>"
      ],
      "text/plain": [
       "       Dataline     Play                                        Line  \\\n",
       "55779     55780  macbeth                                       ACT I   \n",
       "55780     55781  macbeth                    SCENE I. A desert place.   \n",
       "55781     55782  macbeth  Thunder and lightning. Enter three Witches   \n",
       "\n",
       "      ActSceneLine             Player  PlayerLinenumber Traditional   Modern  \\\n",
       "55779        1.1.1  ADRIANO DE ARMADO             405.0     tragedy  tragedy   \n",
       "55780        1.1.1  ADRIANO DE ARMADO             405.0     tragedy  tragedy   \n",
       "55781        1.1.1  ADRIANO DE ARMADO             405.0     tragedy  tragedy   \n",
       "\n",
       "                                          line_tokenized  \n",
       "55779                                           [act, i]  \n",
       "55780                   [scene, i., a, desert, place, .]  \n",
       "55781  [thunder, and, lightning., enter, three, witches]  "
      ]
     },
     "execution_count": 4,
     "metadata": {},
     "output_type": "execute_result"
    }
   ],
   "source": [
    "twd = TreebankWordTokenizer()\n",
    "\n",
    "macbeth['line_tokenized'] = macbeth['Line'].apply(lambda x: twd.tokenize(x.lower()))\n",
    "macbeth.head(3)"
   ]
  },
  {
   "cell_type": "markdown",
   "metadata": {},
   "source": [
    "The TreebankWordTokenizer looks good. Lets try the full process using CountVectorizer. CountVectorizer will convert to lowercase by default"
   ]
  },
  {
   "cell_type": "code",
   "execution_count": 5,
   "metadata": {},
   "outputs": [
    {
     "name": "stdout",
     "output_type": "stream",
     "text": [
      "Number of trigrams from Macbeth: 15016\n"
     ]
    }
   ],
   "source": [
    "ngram_cv = CountVectorizer(ngram_range=(3,3), tokenizer=TreebankWordTokenizer().tokenize, analyzer='word')\n",
    "macbeth_matrix = ngram_cv.fit_transform(macbeth['Line'])\n",
    "\n",
    "macbeth_trigrams = ngram_cv.get_feature_names()\n",
    "\n",
    "print('Number of trigrams from Macbeth:', len(macbeth_trigrams))"
   ]
  },
  {
   "cell_type": "code",
   "execution_count": 6,
   "metadata": {},
   "outputs": [
    {
     "data": {
      "text/html": [
       "<div>\n",
       "<style scoped>\n",
       "    .dataframe tbody tr th:only-of-type {\n",
       "        vertical-align: middle;\n",
       "    }\n",
       "\n",
       "    .dataframe tbody tr th {\n",
       "        vertical-align: top;\n",
       "    }\n",
       "\n",
       "    .dataframe thead th {\n",
       "        text-align: right;\n",
       "    }\n",
       "</style>\n",
       "<table border=\"1\" class=\"dataframe\">\n",
       "  <thead>\n",
       "    <tr style=\"text-align: right;\">\n",
       "      <th></th>\n",
       "      <th>title</th>\n",
       "    </tr>\n",
       "  </thead>\n",
       "  <tbody>\n",
       "    <tr>\n",
       "      <th>0</th>\n",
       "      <td>! ' and</td>\n",
       "    </tr>\n",
       "    <tr>\n",
       "      <th>1</th>\n",
       "      <td>! ' exeunt</td>\n",
       "    </tr>\n",
       "    <tr>\n",
       "      <th>2</th>\n",
       "      <td>! ' the</td>\n",
       "    </tr>\n",
       "    <tr>\n",
       "      <th>3</th>\n",
       "      <td>! ' this</td>\n",
       "    </tr>\n",
       "    <tr>\n",
       "      <th>4</th>\n",
       "      <td>! ' to</td>\n",
       "    </tr>\n",
       "  </tbody>\n",
       "</table>\n",
       "</div>"
      ],
      "text/plain": [
       "        title\n",
       "0     ! ' and\n",
       "1  ! ' exeunt\n",
       "2     ! ' the\n",
       "3    ! ' this\n",
       "4      ! ' to"
      ]
     },
     "execution_count": 6,
     "metadata": {},
     "output_type": "execute_result"
    }
   ],
   "source": [
    "mac_tri_df = pd.DataFrame(macbeth_trigrams, columns=['title'])\n",
    "mac_tri_df.head()"
   ]
  },
  {
   "cell_type": "markdown",
   "metadata": {},
   "source": [
    "POS Tagging using nltk"
   ]
  },
  {
   "cell_type": "code",
   "execution_count": 7,
   "metadata": {},
   "outputs": [
    {
     "data": {
      "text/html": [
       "<div>\n",
       "<style scoped>\n",
       "    .dataframe tbody tr th:only-of-type {\n",
       "        vertical-align: middle;\n",
       "    }\n",
       "\n",
       "    .dataframe tbody tr th {\n",
       "        vertical-align: top;\n",
       "    }\n",
       "\n",
       "    .dataframe thead th {\n",
       "        text-align: right;\n",
       "    }\n",
       "</style>\n",
       "<table border=\"1\" class=\"dataframe\">\n",
       "  <thead>\n",
       "    <tr style=\"text-align: right;\">\n",
       "      <th></th>\n",
       "      <th>title</th>\n",
       "      <th>title_tokenized</th>\n",
       "      <th>title_pos</th>\n",
       "      <th>pos_tag</th>\n",
       "    </tr>\n",
       "  </thead>\n",
       "  <tbody>\n",
       "    <tr>\n",
       "      <th>13967</th>\n",
       "      <td>what you were</td>\n",
       "      <td>[what, you, were]</td>\n",
       "      <td>[(what, WP), (you, PRP), (were, VBD)]</td>\n",
       "      <td>[WP, PRP, VBD]</td>\n",
       "    </tr>\n",
       "    <tr>\n",
       "      <th>101</th>\n",
       "      <td>' pardon and</td>\n",
       "      <td>[', pardon, and]</td>\n",
       "      <td>[(', POS), (pardon, NN), (and, CC)]</td>\n",
       "      <td>[POS, NN, CC]</td>\n",
       "    </tr>\n",
       "    <tr>\n",
       "      <th>5125</th>\n",
       "      <td>foreign levy ,</td>\n",
       "      <td>[foreign, levy, ,]</td>\n",
       "      <td>[(foreign, JJ), (levy, NN), (,, ,)]</td>\n",
       "      <td>[JJ, NN, ,]</td>\n",
       "    </tr>\n",
       "    <tr>\n",
       "      <th>3710</th>\n",
       "      <td>can not conceive</td>\n",
       "      <td>[can, not, conceive]</td>\n",
       "      <td>[(can, MD), (not, RB), (conceive, VB)]</td>\n",
       "      <td>[MD, RB, VB]</td>\n",
       "    </tr>\n",
       "    <tr>\n",
       "      <th>2237</th>\n",
       "      <td>and an old</td>\n",
       "      <td>[and, an, old]</td>\n",
       "      <td>[(and, CC), (an, DT), (old, JJ)]</td>\n",
       "      <td>[CC, DT, JJ]</td>\n",
       "    </tr>\n",
       "    <tr>\n",
       "      <th>13163</th>\n",
       "      <td>to this terrible</td>\n",
       "      <td>[to, this, terrible]</td>\n",
       "      <td>[(to, TO), (this, DT), (terrible, JJ)]</td>\n",
       "      <td>[TO, DT, JJ]</td>\n",
       "    </tr>\n",
       "    <tr>\n",
       "      <th>13536</th>\n",
       "      <td>venom breed ,</td>\n",
       "      <td>[venom, breed, ,]</td>\n",
       "      <td>[(venom, NNS), (breed, NN), (,, ,)]</td>\n",
       "      <td>[NNS, NN, ,]</td>\n",
       "    </tr>\n",
       "    <tr>\n",
       "      <th>6548</th>\n",
       "      <td>i do think</td>\n",
       "      <td>[i, do, think]</td>\n",
       "      <td>[(i, NNS), (do, VBP), (think, VB)]</td>\n",
       "      <td>[NNS, VBP, VB]</td>\n",
       "    </tr>\n",
       "    <tr>\n",
       "      <th>11969</th>\n",
       "      <td>the selfsame day</td>\n",
       "      <td>[the, selfsame, day]</td>\n",
       "      <td>[(the, DT), (selfsame, NN), (day, NN)]</td>\n",
       "      <td>[DT, NN, NN]</td>\n",
       "    </tr>\n",
       "    <tr>\n",
       "      <th>2636</th>\n",
       "      <td>and what i</td>\n",
       "      <td>[and, what, i]</td>\n",
       "      <td>[(and, CC), (what, WP), (i, NN)]</td>\n",
       "      <td>[CC, WP, NN]</td>\n",
       "    </tr>\n",
       "  </tbody>\n",
       "</table>\n",
       "</div>"
      ],
      "text/plain": [
       "                  title       title_tokenized  \\\n",
       "13967     what you were     [what, you, were]   \n",
       "101        ' pardon and      [', pardon, and]   \n",
       "5125     foreign levy ,    [foreign, levy, ,]   \n",
       "3710   can not conceive  [can, not, conceive]   \n",
       "2237         and an old        [and, an, old]   \n",
       "13163  to this terrible  [to, this, terrible]   \n",
       "13536     venom breed ,     [venom, breed, ,]   \n",
       "6548         i do think        [i, do, think]   \n",
       "11969  the selfsame day  [the, selfsame, day]   \n",
       "2636         and what i        [and, what, i]   \n",
       "\n",
       "                                    title_pos         pos_tag  \n",
       "13967   [(what, WP), (you, PRP), (were, VBD)]  [WP, PRP, VBD]  \n",
       "101       [(', POS), (pardon, NN), (and, CC)]   [POS, NN, CC]  \n",
       "5125      [(foreign, JJ), (levy, NN), (,, ,)]     [JJ, NN, ,]  \n",
       "3710   [(can, MD), (not, RB), (conceive, VB)]    [MD, RB, VB]  \n",
       "2237         [(and, CC), (an, DT), (old, JJ)]    [CC, DT, JJ]  \n",
       "13163  [(to, TO), (this, DT), (terrible, JJ)]    [TO, DT, JJ]  \n",
       "13536     [(venom, NNS), (breed, NN), (,, ,)]    [NNS, NN, ,]  \n",
       "6548       [(i, NNS), (do, VBP), (think, VB)]  [NNS, VBP, VB]  \n",
       "11969  [(the, DT), (selfsame, NN), (day, NN)]    [DT, NN, NN]  \n",
       "2636         [(and, CC), (what, WP), (i, NN)]    [CC, WP, NN]  "
      ]
     },
     "execution_count": 7,
     "metadata": {},
     "output_type": "execute_result"
    }
   ],
   "source": [
    "mac_tri_df['title_tokenized'] = mac_tri_df['title'].apply(lambda x: twd.tokenize(x))\n",
    "mac_tri_df['title_pos'] = mac_tri_df['title_tokenized'].apply(lambda x: nltk.pos_tag(x))\n",
    "mac_tri_df['pos_tag'] = mac_tri_df['title_pos'].apply(lambda x: [i[1] for i in x])\n",
    "\n",
    "mac_tri_df.sample(10)"
   ]
  },
  {
   "cell_type": "markdown",
   "metadata": {},
   "source": [
    "Let's try on the full Shakespearean dataset"
   ]
  },
  {
   "cell_type": "code",
   "execution_count": 8,
   "metadata": {},
   "outputs": [
    {
     "name": "stdout",
     "output_type": "stream",
     "text": [
      "Number of trigrams from the Shakespeare plays and sonnets DataFrame: 556864\n"
     ]
    }
   ],
   "source": [
    "n3gram_cv = CountVectorizer(ngram_range=(3,3), tokenizer=TreebankWordTokenizer().tokenize, analyzer='word')\n",
    "shake_matrix = n3gram_cv.fit_transform(shake_df['Line'])\n",
    "\n",
    "shake_trigrams = n3gram_cv.get_feature_names()\n",
    "\n",
    "print('Number of trigrams from the Shakespeare plays and sonnets DataFrame:', len(shake_trigrams))"
   ]
  },
  {
   "cell_type": "code",
   "execution_count": 54,
   "metadata": {},
   "outputs": [
    {
     "data": {
      "text/html": [
       "<div>\n",
       "<style scoped>\n",
       "    .dataframe tbody tr th:only-of-type {\n",
       "        vertical-align: middle;\n",
       "    }\n",
       "\n",
       "    .dataframe tbody tr th {\n",
       "        vertical-align: top;\n",
       "    }\n",
       "\n",
       "    .dataframe thead th {\n",
       "        text-align: right;\n",
       "    }\n",
       "</style>\n",
       "<table border=\"1\" class=\"dataframe\">\n",
       "  <thead>\n",
       "    <tr style=\"text-align: right;\">\n",
       "      <th></th>\n",
       "      <th>title</th>\n",
       "    </tr>\n",
       "  </thead>\n",
       "  <tbody>\n",
       "    <tr>\n",
       "      <th>0</th>\n",
       "      <td>! ' 'brutus</td>\n",
       "    </tr>\n",
       "    <tr>\n",
       "      <th>1</th>\n",
       "      <td>! ' 'citizens</td>\n",
       "    </tr>\n",
       "    <tr>\n",
       "      <th>2</th>\n",
       "      <td>! ' 'coriolanus</td>\n",
       "    </tr>\n",
       "    <tr>\n",
       "      <th>3</th>\n",
       "      <td>! ' 'patricians</td>\n",
       "    </tr>\n",
       "    <tr>\n",
       "      <th>4</th>\n",
       "      <td>! ' 'stay</td>\n",
       "    </tr>\n",
       "  </tbody>\n",
       "</table>\n",
       "</div>"
      ],
      "text/plain": [
       "             title\n",
       "0      ! ' 'brutus\n",
       "1    ! ' 'citizens\n",
       "2  ! ' 'coriolanus\n",
       "3  ! ' 'patricians\n",
       "4        ! ' 'stay"
      ]
     },
     "execution_count": 54,
     "metadata": {},
     "output_type": "execute_result"
    }
   ],
   "source": [
    "shake_tri_df = pd.DataFrame(shake_trigrams, columns=['title'])\n",
    "shake_tri_df.head()"
   ]
  },
  {
   "cell_type": "markdown",
   "metadata": {},
   "source": [
    "I am curious about the punctuation used in the real titles and the punctuation captured in the entire shakespeare ngram set."
   ]
  },
  {
   "cell_type": "code",
   "execution_count": 10,
   "metadata": {},
   "outputs": [
    {
     "data": {
      "text/plain": [
       "'!\"#$%&\\'()*+,-./:;<=>?@[\\\\]^_`{|}~'"
      ]
     },
     "execution_count": 10,
     "metadata": {},
     "output_type": "execute_result"
    }
   ],
   "source": [
    "import string\n",
    "string.punctuation"
   ]
  },
  {
   "cell_type": "code",
   "execution_count": 11,
   "metadata": {},
   "outputs": [
    {
     "data": {
      "text/plain": [
       "['!', '$', \"'\", '(', ')', ',', '-', '.', ':', ';', '?', '[', ']', '`']"
      ]
     },
     "execution_count": 11,
     "metadata": {},
     "output_type": "execute_result"
    }
   ],
   "source": [
    "punct = list(string.punctuation)\n",
    "flat_list = ' '.join(shake_trigrams)\n",
    "present_punct_shake = [i for i in punct if i in flat_list]\n",
    "present_punct_shake"
   ]
  },
  {
   "cell_type": "code",
   "execution_count": 12,
   "metadata": {},
   "outputs": [],
   "source": [
    "titles_df = pd.read_csv('../data/clean_titles.csv')"
   ]
  },
  {
   "cell_type": "code",
   "execution_count": 13,
   "metadata": {},
   "outputs": [
    {
     "data": {
      "text/plain": [
       "['!', \"'\", ',', '-', '.', '?']"
      ]
     },
     "execution_count": 13,
     "metadata": {},
     "output_type": "execute_result"
    }
   ],
   "source": [
    "flat_title = ' '.join(titles_df.Title.tolist())\n",
    "title_present_punct = [i for i in punct if i in flat_title]\n",
    "title_present_punct"
   ]
  },
  {
   "cell_type": "markdown",
   "metadata": {},
   "source": [
    "In order to shrink the dataset, I'd like to explore removing the ngrams that contain punctuation not found in the real titles."
   ]
  },
  {
   "cell_type": "code",
   "execution_count": 32,
   "metadata": {},
   "outputs": [
    {
     "data": {
      "text/plain": [
       "['$', '(', ')', ':', ';', '[', ']', '`']"
      ]
     },
     "execution_count": 32,
     "metadata": {},
     "output_type": "execute_result"
    }
   ],
   "source": [
    "punct_2delete = [i for i in present_punct_shake if i not in title_present_punct]\n",
    "punct_2delete"
   ]
  },
  {
   "cell_type": "code",
   "execution_count": 55,
   "metadata": {},
   "outputs": [
    {
     "name": "stdout",
     "output_type": "stream",
     "text": [
      "ngrams before punctuation removal: 556864\n"
     ]
    }
   ],
   "source": [
    "print('ngrams before punctuation removal:', shake_tri_df.shape[0])\n",
    "\n",
    "# for index, row in shake_tri_df.iterrows():\n",
    "#     if '$' in row['title']:\n",
    "#         shake_tri_df.drop(index, inplace=True)\n",
    "#     elif '(' in row['title']:\n",
    "#         shake_tri_df.drop(index, inplace=True)\n",
    "#     elif ')' in row['title']:\n",
    "#         shake_tri_df.drop(index, inplace=True)\n",
    "#     elif ':' in row['title']:\n",
    "#         shake_tri_df.drop(index, inplace=True)\n",
    "#     elif ';' in row['title']:\n",
    "#         shake_tri_df.drop(index, inplace=True)\n",
    "#     elif '[' in row['title']:\n",
    "#         shake_tri_df.drop(index, inplace=True)\n",
    "#     elif ']' in row['title']:\n",
    "#         shake_tri_df.drop(index, inplace=True)\n",
    "#     elif '`' in row['title']:\n",
    "#         shake_tri_df.drop(index, inplace=True)\n",
    "\n",
    "# print('ngrams after punctuation removal:', shake_tri_df.shape)       "
   ]
  },
  {
   "cell_type": "markdown",
   "metadata": {},
   "source": [
    "The method above was WAY to slow to be useful."
   ]
  },
  {
   "cell_type": "code",
   "execution_count": 56,
   "metadata": {},
   "outputs": [
    {
     "data": {
      "text/plain": [
       "556861"
      ]
     },
     "execution_count": 56,
     "metadata": {},
     "output_type": "execute_result"
    }
   ],
   "source": [
    "dollar = shake_tri_df.title.str.contains('$', regex=False)\n",
    "shake_tri_df = shake_tri_df[~dollar]\n",
    "\n",
    "shake_tri_df.shape[0]"
   ]
  },
  {
   "cell_type": "code",
   "execution_count": 41,
   "metadata": {},
   "outputs": [
    {
     "data": {
      "text/html": [
       "<div>\n",
       "<style scoped>\n",
       "    .dataframe tbody tr th:only-of-type {\n",
       "        vertical-align: middle;\n",
       "    }\n",
       "\n",
       "    .dataframe tbody tr th {\n",
       "        vertical-align: top;\n",
       "    }\n",
       "\n",
       "    .dataframe thead th {\n",
       "        text-align: right;\n",
       "    }\n",
       "</style>\n",
       "<table border=\"1\" class=\"dataframe\">\n",
       "  <thead>\n",
       "    <tr style=\"text-align: right;\">\n",
       "      <th></th>\n",
       "      <th>title</th>\n",
       "    </tr>\n",
       "  </thead>\n",
       "  <tbody>\n",
       "    <tr>\n",
       "      <th>556859</th>\n",
       "      <td>zo long as</td>\n",
       "    </tr>\n",
       "    <tr>\n",
       "      <th>556860</th>\n",
       "      <td>zodiac in his</td>\n",
       "    </tr>\n",
       "    <tr>\n",
       "      <th>556861</th>\n",
       "      <td>zodiacs have gone</td>\n",
       "    </tr>\n",
       "    <tr>\n",
       "      <th>556862</th>\n",
       "      <td>zounds ! i</td>\n",
       "    </tr>\n",
       "    <tr>\n",
       "      <th>556863</th>\n",
       "      <td>zwaggered out of</td>\n",
       "    </tr>\n",
       "  </tbody>\n",
       "</table>\n",
       "</div>"
      ],
      "text/plain": [
       "                    title\n",
       "556859         zo long as\n",
       "556860      zodiac in his\n",
       "556861  zodiacs have gone\n",
       "556862         zounds ! i\n",
       "556863   zwaggered out of"
      ]
     },
     "execution_count": 41,
     "metadata": {},
     "output_type": "execute_result"
    }
   ],
   "source": [
    "shake_tri_df.tail()"
   ]
  },
  {
   "cell_type": "code",
   "execution_count": 57,
   "metadata": {},
   "outputs": [
    {
     "data": {
      "text/plain": [
       "556767"
      ]
     },
     "execution_count": 57,
     "metadata": {},
     "output_type": "execute_result"
    }
   ],
   "source": [
    "lparen = shake_tri_df.title.str.contains('(', regex=False)\n",
    "shake_tri_df = shake_tri_df[~lparen]\n",
    "shake_tri_df.shape[0]"
   ]
  },
  {
   "cell_type": "code",
   "execution_count": 58,
   "metadata": {},
   "outputs": [
    {
     "data": {
      "text/plain": [
       "556697"
      ]
     },
     "execution_count": 58,
     "metadata": {},
     "output_type": "execute_result"
    }
   ],
   "source": [
    "rparen = shake_tri_df.title.str.contains(')', regex=False)\n",
    "shake_tri_df = shake_tri_df[~rparen]\n",
    "shake_tri_df.shape[0]"
   ]
  },
  {
   "cell_type": "code",
   "execution_count": 59,
   "metadata": {},
   "outputs": [
    {
     "data": {
      "text/plain": [
       "536384"
      ]
     },
     "execution_count": 59,
     "metadata": {},
     "output_type": "execute_result"
    }
   ],
   "source": [
    "colon = shake_tri_df.title.str.contains(':', regex=False)\n",
    "shake_tri_df = shake_tri_df[~colon]\n",
    "shake_tri_df.shape[0]"
   ]
  },
  {
   "cell_type": "code",
   "execution_count": 60,
   "metadata": {},
   "outputs": [
    {
     "data": {
      "text/plain": [
       "536199"
      ]
     },
     "execution_count": 60,
     "metadata": {},
     "output_type": "execute_result"
    }
   ],
   "source": [
    "semi = shake_tri_df.title.str.contains(';', regex=False)\n",
    "shake_tri_df = shake_tri_df[~semi]\n",
    "shake_tri_df.shape[0]"
   ]
  },
  {
   "cell_type": "code",
   "execution_count": 61,
   "metadata": {},
   "outputs": [
    {
     "data": {
      "text/plain": [
       "536090"
      ]
     },
     "execution_count": 61,
     "metadata": {},
     "output_type": "execute_result"
    }
   ],
   "source": [
    "lbrack = shake_tri_df.title.str.contains('[', regex=False)\n",
    "shake_tri_df = shake_tri_df[~lbrack]\n",
    "shake_tri_df.shape[0]"
   ]
  },
  {
   "cell_type": "code",
   "execution_count": 62,
   "metadata": {},
   "outputs": [
    {
     "data": {
      "text/plain": [
       "535194"
      ]
     },
     "execution_count": 62,
     "metadata": {},
     "output_type": "execute_result"
    }
   ],
   "source": [
    "rbrack = shake_tri_df.title.str.contains(']', regex=False)\n",
    "shake_tri_df = shake_tri_df[~rbrack]\n",
    "shake_tri_df.shape[0]"
   ]
  },
  {
   "cell_type": "code",
   "execution_count": 64,
   "metadata": {},
   "outputs": [
    {
     "data": {
      "text/plain": [
       "535152"
      ]
     },
     "execution_count": 64,
     "metadata": {},
     "output_type": "execute_result"
    }
   ],
   "source": [
    "whatisthisthing = shake_tri_df.title.str.contains('`', regex=False)\n",
    "shake_tri_df = shake_tri_df[~whatisthisthing]\n",
    "shake_tri_df.shape[0]"
   ]
  },
  {
   "cell_type": "code",
   "execution_count": 66,
   "metadata": {},
   "outputs": [
    {
     "data": {
      "text/html": [
       "<div>\n",
       "<style scoped>\n",
       "    .dataframe tbody tr th:only-of-type {\n",
       "        vertical-align: middle;\n",
       "    }\n",
       "\n",
       "    .dataframe tbody tr th {\n",
       "        vertical-align: top;\n",
       "    }\n",
       "\n",
       "    .dataframe thead th {\n",
       "        text-align: right;\n",
       "    }\n",
       "</style>\n",
       "<table border=\"1\" class=\"dataframe\">\n",
       "  <thead>\n",
       "    <tr style=\"text-align: right;\">\n",
       "      <th></th>\n",
       "      <th>title</th>\n",
       "      <th>title_tokenized</th>\n",
       "      <th>title_pos</th>\n",
       "      <th>pos_tag</th>\n",
       "    </tr>\n",
       "  </thead>\n",
       "  <tbody>\n",
       "    <tr>\n",
       "      <th>128184</th>\n",
       "      <td>captain-general of the</td>\n",
       "      <td>[captain-general, of, the]</td>\n",
       "      <td>[(captain-general, JJ), (of, IN), (the, DT)]</td>\n",
       "      <td>[JJ, IN, DT]</td>\n",
       "    </tr>\n",
       "    <tr>\n",
       "      <th>478714</th>\n",
       "      <td>till destruction sicken</td>\n",
       "      <td>[till, destruction, sicken]</td>\n",
       "      <td>[(till, NN), (destruction, NN), (sicken, NN)]</td>\n",
       "      <td>[NN, NN, NN]</td>\n",
       "    </tr>\n",
       "    <tr>\n",
       "      <th>182668</th>\n",
       "      <td>for there young</td>\n",
       "      <td>[for, there, young]</td>\n",
       "      <td>[(for, IN), (there, EX), (young, JJ)]</td>\n",
       "      <td>[IN, EX, JJ]</td>\n",
       "    </tr>\n",
       "    <tr>\n",
       "      <th>55617</th>\n",
       "      <td>a rude tomb</td>\n",
       "      <td>[a, rude, tomb]</td>\n",
       "      <td>[(a, DT), (rude, NN), (tomb, NN)]</td>\n",
       "      <td>[DT, NN, NN]</td>\n",
       "    </tr>\n",
       "    <tr>\n",
       "      <th>381103</th>\n",
       "      <td>rest shall bear</td>\n",
       "      <td>[rest, shall, bear]</td>\n",
       "      <td>[(rest, VB), (shall, MD), (bear, VB)]</td>\n",
       "      <td>[VB, MD, VB]</td>\n",
       "    </tr>\n",
       "  </tbody>\n",
       "</table>\n",
       "</div>"
      ],
      "text/plain": [
       "                          title              title_tokenized  \\\n",
       "128184   captain-general of the   [captain-general, of, the]   \n",
       "478714  till destruction sicken  [till, destruction, sicken]   \n",
       "182668          for there young          [for, there, young]   \n",
       "55617               a rude tomb              [a, rude, tomb]   \n",
       "381103          rest shall bear          [rest, shall, bear]   \n",
       "\n",
       "                                            title_pos       pos_tag  \n",
       "128184   [(captain-general, JJ), (of, IN), (the, DT)]  [JJ, IN, DT]  \n",
       "478714  [(till, NN), (destruction, NN), (sicken, NN)]  [NN, NN, NN]  \n",
       "182668          [(for, IN), (there, EX), (young, JJ)]  [IN, EX, JJ]  \n",
       "55617               [(a, DT), (rude, NN), (tomb, NN)]  [DT, NN, NN]  \n",
       "381103          [(rest, VB), (shall, MD), (bear, VB)]  [VB, MD, VB]  "
      ]
     },
     "execution_count": 66,
     "metadata": {},
     "output_type": "execute_result"
    }
   ],
   "source": [
    "shake_tri_df['title_tokenized'] = shake_tri_df['title'].apply(lambda x: twd.tokenize(x))\n",
    "shake_tri_df['title_pos'] = shake_tri_df['title_tokenized'].apply(lambda x: nltk.pos_tag(x))\n",
    "shake_tri_df['pos_tag'] = shake_tri_df['title_pos'].apply(lambda x: [i[1] for i in x])\n",
    "\n",
    "shake_tri_df.sample(5)"
   ]
  },
  {
   "cell_type": "markdown",
   "metadata": {},
   "source": [
    "Repeat the process for fourgrams and bigrams."
   ]
  },
  {
   "cell_type": "code",
   "execution_count": 79,
   "metadata": {},
   "outputs": [
    {
     "name": "stdout",
     "output_type": "stream",
     "text": [
      "Number of bigrams from the Shakespeare plays and sonnets DataFrame: 265248\n"
     ]
    }
   ],
   "source": [
    "n2gram_cv = CountVectorizer(ngram_range=(2,2), tokenizer=TreebankWordTokenizer().tokenize, analyzer='word')\n",
    "shake_2matrix = n2gram_cv.fit_transform(shake_df['Line'])\n",
    "\n",
    "shake_bigrams = n2gram_cv.get_feature_names()\n",
    "\n",
    "print('Number of bigrams from the Shakespeare plays and sonnets DataFrame:', len(shake_bigrams))"
   ]
  },
  {
   "cell_type": "code",
   "execution_count": 80,
   "metadata": {},
   "outputs": [
    {
     "data": {
      "text/html": [
       "<div>\n",
       "<style scoped>\n",
       "    .dataframe tbody tr th:only-of-type {\n",
       "        vertical-align: middle;\n",
       "    }\n",
       "\n",
       "    .dataframe tbody tr th {\n",
       "        vertical-align: top;\n",
       "    }\n",
       "\n",
       "    .dataframe thead th {\n",
       "        text-align: right;\n",
       "    }\n",
       "</style>\n",
       "<table border=\"1\" class=\"dataframe\">\n",
       "  <thead>\n",
       "    <tr style=\"text-align: right;\">\n",
       "      <th></th>\n",
       "      <th>title</th>\n",
       "    </tr>\n",
       "  </thead>\n",
       "  <tbody>\n",
       "    <tr>\n",
       "      <th>137102</th>\n",
       "      <td>marseilles. a</td>\n",
       "    </tr>\n",
       "    <tr>\n",
       "      <th>165237</th>\n",
       "      <td>our hot</td>\n",
       "    </tr>\n",
       "    <tr>\n",
       "      <th>43205</th>\n",
       "      <td>bloody parliament</td>\n",
       "    </tr>\n",
       "    <tr>\n",
       "      <th>125155</th>\n",
       "      <td>kings in</td>\n",
       "    </tr>\n",
       "    <tr>\n",
       "      <th>63383</th>\n",
       "      <td>dear madam.</td>\n",
       "    </tr>\n",
       "  </tbody>\n",
       "</table>\n",
       "</div>"
      ],
      "text/plain": [
       "                    title\n",
       "137102      marseilles. a\n",
       "165237            our hot\n",
       "43205   bloody parliament\n",
       "125155           kings in\n",
       "63383         dear madam."
      ]
     },
     "execution_count": 80,
     "metadata": {},
     "output_type": "execute_result"
    }
   ],
   "source": [
    "shake_bi_df = pd.DataFrame(shake_bigrams, columns=['title'])\n",
    "shake_bi_df.sample(5)"
   ]
  },
  {
   "cell_type": "code",
   "execution_count": 81,
   "metadata": {},
   "outputs": [
    {
     "data": {
      "text/plain": [
       "259594"
      ]
     },
     "execution_count": 81,
     "metadata": {},
     "output_type": "execute_result"
    }
   ],
   "source": [
    "dollar = shake_bi_df.title.str.contains('$', regex=False)\n",
    "shake_bi_df = shake_bi_df[~dollar]\n",
    "\n",
    "lparen = shake_bi_df.title.str.contains('(', regex=False)\n",
    "shake_bi_df = shake_bi_df[~lparen]\n",
    "\n",
    "rparen = shake_bi_df.title.str.contains(')', regex=False)\n",
    "shake_bi_df = shake_bi_df[~rparen]\n",
    "\n",
    "colon = shake_bi_df.title.str.contains(':', regex=False)\n",
    "shake_bi_df = shake_bi_df[~colon]\n",
    "\n",
    "semi = shake_bi_df.title.str.contains(';', regex=False)\n",
    "shake_bi_df = shake_bi_df[~semi]\n",
    "\n",
    "lbrack = shake_bi_df.title.str.contains('[', regex=False)\n",
    "shake_bi_df = shake_bi_df[~lbrack]\n",
    "\n",
    "rbrack = shake_bi_df.title.str.contains(']', regex=False)\n",
    "shake_bi_df = shake_bi_df[~rbrack]\n",
    "\n",
    "whatisthisthing = shake_bi_df.title.str.contains('`', regex=False)\n",
    "shake_bi_df = shake_bi_df[~whatisthisthing]\n",
    "\n",
    "shake_bi_df.shape[0]"
   ]
  },
  {
   "cell_type": "code",
   "execution_count": 83,
   "metadata": {},
   "outputs": [
    {
     "data": {
      "text/html": [
       "<div>\n",
       "<style scoped>\n",
       "    .dataframe tbody tr th:only-of-type {\n",
       "        vertical-align: middle;\n",
       "    }\n",
       "\n",
       "    .dataframe tbody tr th {\n",
       "        vertical-align: top;\n",
       "    }\n",
       "\n",
       "    .dataframe thead th {\n",
       "        text-align: right;\n",
       "    }\n",
       "</style>\n",
       "<table border=\"1\" class=\"dataframe\">\n",
       "  <thead>\n",
       "    <tr style=\"text-align: right;\">\n",
       "      <th></th>\n",
       "      <th>title</th>\n",
       "      <th>title_tokenized</th>\n",
       "      <th>title_pos</th>\n",
       "      <th>pos_tag</th>\n",
       "    </tr>\n",
       "  </thead>\n",
       "  <tbody>\n",
       "    <tr>\n",
       "      <th>158400</th>\n",
       "      <td>of date-broke</td>\n",
       "      <td>[of, date-broke]</td>\n",
       "      <td>[(of, IN), (date-broke, NN)]</td>\n",
       "      <td>[IN, NN]</td>\n",
       "    </tr>\n",
       "    <tr>\n",
       "      <th>244380</th>\n",
       "      <td>walls they</td>\n",
       "      <td>[walls, they]</td>\n",
       "      <td>[(walls, NNS), (they, PRP)]</td>\n",
       "      <td>[NNS, PRP]</td>\n",
       "    </tr>\n",
       "    <tr>\n",
       "      <th>202534</th>\n",
       "      <td>still 'they</td>\n",
       "      <td>[still, 'they]</td>\n",
       "      <td>[(still, RB), ('they, VB)]</td>\n",
       "      <td>[RB, VB]</td>\n",
       "    </tr>\n",
       "    <tr>\n",
       "      <th>190487</th>\n",
       "      <td>shall lay</td>\n",
       "      <td>[shall, lay]</td>\n",
       "      <td>[(shall, MD), (lay, VB)]</td>\n",
       "      <td>[MD, VB]</td>\n",
       "    </tr>\n",
       "    <tr>\n",
       "      <th>4083</th>\n",
       "      <td>'s castle</td>\n",
       "      <td>['s, castle]</td>\n",
       "      <td>[('s, POS), (castle, NN)]</td>\n",
       "      <td>[POS, NN]</td>\n",
       "    </tr>\n",
       "  </tbody>\n",
       "</table>\n",
       "</div>"
      ],
      "text/plain": [
       "                title   title_tokenized                     title_pos  \\\n",
       "158400  of date-broke  [of, date-broke]  [(of, IN), (date-broke, NN)]   \n",
       "244380     walls they     [walls, they]   [(walls, NNS), (they, PRP)]   \n",
       "202534    still 'they    [still, 'they]    [(still, RB), ('they, VB)]   \n",
       "190487      shall lay      [shall, lay]      [(shall, MD), (lay, VB)]   \n",
       "4083        's castle      ['s, castle]     [('s, POS), (castle, NN)]   \n",
       "\n",
       "           pos_tag  \n",
       "158400    [IN, NN]  \n",
       "244380  [NNS, PRP]  \n",
       "202534    [RB, VB]  \n",
       "190487    [MD, VB]  \n",
       "4083     [POS, NN]  "
      ]
     },
     "execution_count": 83,
     "metadata": {},
     "output_type": "execute_result"
    }
   ],
   "source": [
    "shake_bi_df['title_tokenized'] = shake_bi_df['title'].apply(lambda x: twd.tokenize(x))\n",
    "shake_bi_df['title_pos'] = shake_bi_df['title_tokenized'].apply(lambda x: nltk.pos_tag(x))\n",
    "shake_bi_df['pos_tag'] = shake_bi_df['title_pos'].apply(lambda x: [i[1] for i in x])\n",
    "\n",
    "shake_bi_df.sample(5)"
   ]
  },
  {
   "cell_type": "code",
   "execution_count": 84,
   "metadata": {},
   "outputs": [
    {
     "name": "stdout",
     "output_type": "stream",
     "text": [
      "Number of fourgrams from the Shakespeare plays and sonnets DataFrame: 625445\n"
     ]
    }
   ],
   "source": [
    "n4gram_cv = CountVectorizer(ngram_range=(4,4), tokenizer=TreebankWordTokenizer().tokenize, analyzer='word')\n",
    "shake_4matrix = n4gram_cv.fit_transform(shake_df['Line'])\n",
    "\n",
    "shake_fourgrams = n4gram_cv.get_feature_names()\n",
    "\n",
    "print('Number of fourgrams from the Shakespeare plays and sonnets DataFrame:', len(shake_fourgrams))"
   ]
  },
  {
   "cell_type": "code",
   "execution_count": 85,
   "metadata": {},
   "outputs": [
    {
     "data": {
      "text/html": [
       "<div>\n",
       "<style scoped>\n",
       "    .dataframe tbody tr th:only-of-type {\n",
       "        vertical-align: middle;\n",
       "    }\n",
       "\n",
       "    .dataframe tbody tr th {\n",
       "        vertical-align: top;\n",
       "    }\n",
       "\n",
       "    .dataframe thead th {\n",
       "        text-align: right;\n",
       "    }\n",
       "</style>\n",
       "<table border=\"1\" class=\"dataframe\">\n",
       "  <thead>\n",
       "    <tr style=\"text-align: right;\">\n",
       "      <th></th>\n",
       "      <th>title</th>\n",
       "    </tr>\n",
       "  </thead>\n",
       "  <tbody>\n",
       "    <tr>\n",
       "      <th>133278</th>\n",
       "      <td>be ransomed , and</td>\n",
       "    </tr>\n",
       "    <tr>\n",
       "      <th>13278</th>\n",
       "      <td>'s master , how</td>\n",
       "    </tr>\n",
       "    <tr>\n",
       "      <th>545401</th>\n",
       "      <td>to last resolve you</td>\n",
       "    </tr>\n",
       "    <tr>\n",
       "      <th>391722</th>\n",
       "      <td>of breath , prompt</td>\n",
       "    </tr>\n",
       "    <tr>\n",
       "      <th>513652</th>\n",
       "      <td>them this discomfort ?</td>\n",
       "    </tr>\n",
       "  </tbody>\n",
       "</table>\n",
       "</div>"
      ],
      "text/plain": [
       "                         title\n",
       "133278       be ransomed , and\n",
       "13278          's master , how\n",
       "545401     to last resolve you\n",
       "391722      of breath , prompt\n",
       "513652  them this discomfort ?"
      ]
     },
     "execution_count": 85,
     "metadata": {},
     "output_type": "execute_result"
    }
   ],
   "source": [
    "shake_tetra_df = pd.DataFrame(shake_fourgrams, columns=['title'])\n",
    "shake_tetra_df.sample(5)"
   ]
  },
  {
   "cell_type": "code",
   "execution_count": 86,
   "metadata": {},
   "outputs": [
    {
     "data": {
      "text/plain": [
       "591514"
      ]
     },
     "execution_count": 86,
     "metadata": {},
     "output_type": "execute_result"
    }
   ],
   "source": [
    "dollar = shake_tetra_df.title.str.contains('$', regex=False)\n",
    "shake_tetra_df = shake_tetra_df[~dollar]\n",
    "\n",
    "lparen = shake_tetra_df.title.str.contains('(', regex=False)\n",
    "shake_tetra_df = shake_tetra_df[~lparen]\n",
    "\n",
    "rparen = shake_tetra_df.title.str.contains(')', regex=False)\n",
    "shake_tetra_df = shake_tetra_df[~rparen]\n",
    "\n",
    "colon = shake_tetra_df.title.str.contains(':', regex=False)\n",
    "shake_tetra_df = shake_tetra_df[~colon]\n",
    "\n",
    "semi = shake_tetra_df.title.str.contains(';', regex=False)\n",
    "shake_tetra_df = shake_tetra_df[~semi]\n",
    "\n",
    "lbrack = shake_tetra_df.title.str.contains('[', regex=False)\n",
    "shake_tetra_df = shake_tetra_df[~lbrack]\n",
    "\n",
    "rbrack = shake_tetra_df.title.str.contains(']', regex=False)\n",
    "shake_tetra_df = shake_tetra_df[~rbrack]\n",
    "\n",
    "whatisthisthing = shake_tetra_df.title.str.contains('`', regex=False)\n",
    "shake_tetra_df = shake_tetra_df[~whatisthisthing]\n",
    "\n",
    "shake_tetra_df.shape[0]"
   ]
  },
  {
   "cell_type": "code",
   "execution_count": 87,
   "metadata": {},
   "outputs": [
    {
     "data": {
      "text/html": [
       "<div>\n",
       "<style scoped>\n",
       "    .dataframe tbody tr th:only-of-type {\n",
       "        vertical-align: middle;\n",
       "    }\n",
       "\n",
       "    .dataframe tbody tr th {\n",
       "        vertical-align: top;\n",
       "    }\n",
       "\n",
       "    .dataframe thead th {\n",
       "        text-align: right;\n",
       "    }\n",
       "</style>\n",
       "<table border=\"1\" class=\"dataframe\">\n",
       "  <thead>\n",
       "    <tr style=\"text-align: right;\">\n",
       "      <th></th>\n",
       "      <th>title</th>\n",
       "      <th>title_tokenized</th>\n",
       "      <th>title_pos</th>\n",
       "      <th>pos_tag</th>\n",
       "    </tr>\n",
       "  </thead>\n",
       "  <tbody>\n",
       "    <tr>\n",
       "      <th>465152</th>\n",
       "      <td>sounding and discovery ,</td>\n",
       "      <td>[sounding, and, discovery, ,]</td>\n",
       "      <td>[(sounding, NN), (and, CC), (discovery, NN), (,, ,)]</td>\n",
       "      <td>[NN, CC, NN, ,]</td>\n",
       "    </tr>\n",
       "    <tr>\n",
       "      <th>19112</th>\n",
       "      <td>, all sorts of</td>\n",
       "      <td>[,, all, sorts, of]</td>\n",
       "      <td>[(,, ,), (all, DT), (sorts, NNS), (of, IN)]</td>\n",
       "      <td>[,, DT, NNS, IN]</td>\n",
       "    </tr>\n",
       "    <tr>\n",
       "      <th>505592</th>\n",
       "      <td>the sleepers. let us</td>\n",
       "      <td>[the, sleepers., let, us]</td>\n",
       "      <td>[(the, DT), (sleepers., NN), (let, VBD), (us, PRP)]</td>\n",
       "      <td>[DT, NN, VBD, PRP]</td>\n",
       "    </tr>\n",
       "    <tr>\n",
       "      <th>498075</th>\n",
       "      <td>the heart to do</td>\n",
       "      <td>[the, heart, to, do]</td>\n",
       "      <td>[(the, DT), (heart, NN), (to, TO), (do, VB)]</td>\n",
       "      <td>[DT, NN, TO, VB]</td>\n",
       "    </tr>\n",
       "    <tr>\n",
       "      <th>276329</th>\n",
       "      <td>i counterfeit him .</td>\n",
       "      <td>[i, counterfeit, him, .]</td>\n",
       "      <td>[(i, JJ), (counterfeit, VBD), (him, PRP), (., .)]</td>\n",
       "      <td>[JJ, VBD, PRP, .]</td>\n",
       "    </tr>\n",
       "  </tbody>\n",
       "</table>\n",
       "</div>"
      ],
      "text/plain": [
       "                           title                title_tokenized  \\\n",
       "465152  sounding and discovery ,  [sounding, and, discovery, ,]   \n",
       "19112             , all sorts of            [,, all, sorts, of]   \n",
       "505592      the sleepers. let us      [the, sleepers., let, us]   \n",
       "498075           the heart to do           [the, heart, to, do]   \n",
       "276329       i counterfeit him .       [i, counterfeit, him, .]   \n",
       "\n",
       "                                                   title_pos  \\\n",
       "465152  [(sounding, NN), (and, CC), (discovery, NN), (,, ,)]   \n",
       "19112            [(,, ,), (all, DT), (sorts, NNS), (of, IN)]   \n",
       "505592   [(the, DT), (sleepers., NN), (let, VBD), (us, PRP)]   \n",
       "498075          [(the, DT), (heart, NN), (to, TO), (do, VB)]   \n",
       "276329     [(i, JJ), (counterfeit, VBD), (him, PRP), (., .)]   \n",
       "\n",
       "                   pos_tag  \n",
       "465152     [NN, CC, NN, ,]  \n",
       "19112     [,, DT, NNS, IN]  \n",
       "505592  [DT, NN, VBD, PRP]  \n",
       "498075    [DT, NN, TO, VB]  \n",
       "276329   [JJ, VBD, PRP, .]  "
      ]
     },
     "execution_count": 87,
     "metadata": {},
     "output_type": "execute_result"
    }
   ],
   "source": [
    "shake_tetra_df['title_tokenized'] = shake_tetra_df['title'].apply(lambda x: twd.tokenize(x))\n",
    "shake_tetra_df['title_pos'] = shake_tetra_df['title_tokenized'].apply(lambda x: nltk.pos_tag(x))\n",
    "shake_tetra_df['pos_tag'] = shake_tetra_df['title_pos'].apply(lambda x: [i[1] for i in x])\n",
    "\n",
    "shake_tetra_df.sample(5)"
   ]
  },
  {
   "cell_type": "code",
   "execution_count": 88,
   "metadata": {},
   "outputs": [],
   "source": [
    "datapath = '../data'"
   ]
  },
  {
   "cell_type": "code",
   "execution_count": 89,
   "metadata": {},
   "outputs": [],
   "source": [
    "datapath_shake_tri_df = os.path.join(datapath, 'shakespearean_trigrams.csv')\n",
    "shake_tri_df.to_csv(datapath_shake_tri_df, index=False)"
   ]
  },
  {
   "cell_type": "code",
   "execution_count": 90,
   "metadata": {},
   "outputs": [],
   "source": [
    "datapath_shake_tetra_df = os.path.join(datapath, 'shakespearean_fourgrams.csv')\n",
    "shake_tetra_df.to_csv(datapath_shake_tetra_df, index=False)"
   ]
  },
  {
   "cell_type": "code",
   "execution_count": 91,
   "metadata": {},
   "outputs": [],
   "source": [
    "datapath_shake_bi_df = os.path.join(datapath, 'shakespearean_bigrams.csv')\n",
    "shake_bi_df.to_csv(datapath_shake_bi_df, index=False)"
   ]
  },
  {
   "cell_type": "code",
   "execution_count": null,
   "metadata": {},
   "outputs": [],
   "source": []
  }
 ],
 "metadata": {
  "kernelspec": {
   "display_name": "Python 3",
   "language": "python",
   "name": "python3"
  },
  "language_info": {
   "codemirror_mode": {
    "name": "ipython",
    "version": 3
   },
   "file_extension": ".py",
   "mimetype": "text/x-python",
   "name": "python",
   "nbconvert_exporter": "python",
   "pygments_lexer": "ipython3",
   "version": "3.8.3"
  }
 },
 "nbformat": 4,
 "nbformat_minor": 4
}
