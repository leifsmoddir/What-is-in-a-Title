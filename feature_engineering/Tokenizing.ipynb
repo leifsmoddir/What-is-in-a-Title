{
 "cells": [
  {
   "cell_type": "code",
   "execution_count": 1,
   "metadata": {},
   "outputs": [],
   "source": [
    "import nltk\n",
    "from sklearn.feature_extraction.text import CountVectorizer\n",
    "from nltk.tokenize import TreebankWordTokenizer\n",
    "import pandas as pd\n",
    "import numpy as np\n",
    "import os\n",
    "\n",
    "pd.set_option('display.max_colwidth', None)"
   ]
  },
  {
   "cell_type": "code",
   "execution_count": 3,
   "metadata": {},
   "outputs": [
    {
     "data": {
      "text/html": [
       "<div>\n",
       "<style scoped>\n",
       "    .dataframe tbody tr th:only-of-type {\n",
       "        vertical-align: middle;\n",
       "    }\n",
       "\n",
       "    .dataframe tbody tr th {\n",
       "        vertical-align: top;\n",
       "    }\n",
       "\n",
       "    .dataframe thead th {\n",
       "        text-align: right;\n",
       "    }\n",
       "</style>\n",
       "<table border=\"1\" class=\"dataframe\">\n",
       "  <thead>\n",
       "    <tr style=\"text-align: right;\">\n",
       "      <th></th>\n",
       "      <th>Dataline</th>\n",
       "      <th>Play</th>\n",
       "      <th>Line</th>\n",
       "      <th>ActSceneLine</th>\n",
       "      <th>Player</th>\n",
       "      <th>PlayerLinenumber</th>\n",
       "      <th>Traditional</th>\n",
       "      <th>Modern</th>\n",
       "    </tr>\n",
       "  </thead>\n",
       "  <tbody>\n",
       "    <tr>\n",
       "      <th>48346</th>\n",
       "      <td>48347</td>\n",
       "      <td>julius caesar</td>\n",
       "      <td>Dearer than Plutus' mine, richer than gold:</td>\n",
       "      <td>4.3.111</td>\n",
       "      <td>CASSIUS</td>\n",
       "      <td>39.0</td>\n",
       "      <td>tragedy</td>\n",
       "      <td>tragedy</td>\n",
       "    </tr>\n",
       "    <tr>\n",
       "      <th>49875</th>\n",
       "      <td>49876</td>\n",
       "      <td>king lear</td>\n",
       "      <td>You strike my people, and your disorder'd rabble</td>\n",
       "      <td>1.4.249</td>\n",
       "      <td>GONERIL</td>\n",
       "      <td>87.0</td>\n",
       "      <td>tragedy</td>\n",
       "      <td>tragedy</td>\n",
       "    </tr>\n",
       "    <tr>\n",
       "      <th>10913</th>\n",
       "      <td>10914</td>\n",
       "      <td>henry vi part 3</td>\n",
       "      <td>Ay, here's a deer whose skin's a keeper's fee:</td>\n",
       "      <td>3.1.22</td>\n",
       "      <td>First Keeper</td>\n",
       "      <td>6.0</td>\n",
       "      <td>history</td>\n",
       "      <td>tragedy</td>\n",
       "    </tr>\n",
       "    <tr>\n",
       "      <th>58581</th>\n",
       "      <td>58582</td>\n",
       "      <td>measure for measure</td>\n",
       "      <td>From too much liberty, my Lucio, liberty:</td>\n",
       "      <td>1.2.113</td>\n",
       "      <td>CLAUDIO</td>\n",
       "      <td>63.0</td>\n",
       "      <td>comedy</td>\n",
       "      <td>comedy</td>\n",
       "    </tr>\n",
       "    <tr>\n",
       "      <th>96362</th>\n",
       "      <td>96363</td>\n",
       "      <td>timon of athens</td>\n",
       "      <td>A parley sounded</td>\n",
       "      <td>5.4.3</td>\n",
       "      <td>ALCIBIADES</td>\n",
       "      <td>1.0</td>\n",
       "      <td>tragedy</td>\n",
       "      <td>tragedy</td>\n",
       "    </tr>\n",
       "  </tbody>\n",
       "</table>\n",
       "</div>"
      ],
      "text/plain": [
       "       Dataline                 Play  \\\n",
       "48346     48347        julius caesar   \n",
       "49875     49876            king lear   \n",
       "10913     10914      henry vi part 3   \n",
       "58581     58582  measure for measure   \n",
       "96362     96363      timon of athens   \n",
       "\n",
       "                                                   Line ActSceneLine  \\\n",
       "48346       Dearer than Plutus' mine, richer than gold:      4.3.111   \n",
       "49875  You strike my people, and your disorder'd rabble      1.4.249   \n",
       "10913    Ay, here's a deer whose skin's a keeper's fee:       3.1.22   \n",
       "58581         From too much liberty, my Lucio, liberty:      1.2.113   \n",
       "96362                                  A parley sounded        5.4.3   \n",
       "\n",
       "             Player  PlayerLinenumber Traditional   Modern  \n",
       "48346       CASSIUS              39.0     tragedy  tragedy  \n",
       "49875       GONERIL              87.0     tragedy  tragedy  \n",
       "10913  First Keeper               6.0     history  tragedy  \n",
       "58581       CLAUDIO              63.0      comedy   comedy  \n",
       "96362    ALCIBIADES               1.0     tragedy  tragedy  "
      ]
     },
     "execution_count": 3,
     "metadata": {},
     "output_type": "execute_result"
    }
   ],
   "source": [
    "shake_df = pd.read_csv('../data/shake_corpus.csv')\n",
    "\n",
    "shake_df.sample(5)"
   ]
  },
  {
   "cell_type": "markdown",
   "metadata": {},
   "source": [
    "Subset shake_df in order to investigate tokenizing and n-gram generation with punctuation."
   ]
  },
  {
   "cell_type": "code",
   "execution_count": 3,
   "metadata": {},
   "outputs": [
    {
     "data": {
      "text/html": [
       "<div>\n",
       "<style scoped>\n",
       "    .dataframe tbody tr th:only-of-type {\n",
       "        vertical-align: middle;\n",
       "    }\n",
       "\n",
       "    .dataframe tbody tr th {\n",
       "        vertical-align: top;\n",
       "    }\n",
       "\n",
       "    .dataframe thead th {\n",
       "        text-align: right;\n",
       "    }\n",
       "</style>\n",
       "<table border=\"1\" class=\"dataframe\">\n",
       "  <thead>\n",
       "    <tr style=\"text-align: right;\">\n",
       "      <th></th>\n",
       "      <th>Dataline</th>\n",
       "      <th>Play</th>\n",
       "      <th>Line</th>\n",
       "      <th>ActSceneLine</th>\n",
       "      <th>Player</th>\n",
       "      <th>PlayerLinenumber</th>\n",
       "      <th>Traditional</th>\n",
       "      <th>Modern</th>\n",
       "    </tr>\n",
       "  </thead>\n",
       "  <tbody>\n",
       "    <tr>\n",
       "      <th>55779</th>\n",
       "      <td>55780</td>\n",
       "      <td>macbeth</td>\n",
       "      <td>ACT I</td>\n",
       "      <td>1.1.1</td>\n",
       "      <td>ADRIANO DE ARMADO</td>\n",
       "      <td>405.0</td>\n",
       "      <td>tragedy</td>\n",
       "      <td>tragedy</td>\n",
       "    </tr>\n",
       "    <tr>\n",
       "      <th>55780</th>\n",
       "      <td>55781</td>\n",
       "      <td>macbeth</td>\n",
       "      <td>SCENE I. A desert place.</td>\n",
       "      <td>1.1.1</td>\n",
       "      <td>ADRIANO DE ARMADO</td>\n",
       "      <td>405.0</td>\n",
       "      <td>tragedy</td>\n",
       "      <td>tragedy</td>\n",
       "    </tr>\n",
       "    <tr>\n",
       "      <th>55781</th>\n",
       "      <td>55782</td>\n",
       "      <td>macbeth</td>\n",
       "      <td>Thunder and lightning. Enter three Witches</td>\n",
       "      <td>1.1.1</td>\n",
       "      <td>ADRIANO DE ARMADO</td>\n",
       "      <td>405.0</td>\n",
       "      <td>tragedy</td>\n",
       "      <td>tragedy</td>\n",
       "    </tr>\n",
       "    <tr>\n",
       "      <th>55782</th>\n",
       "      <td>55783</td>\n",
       "      <td>macbeth</td>\n",
       "      <td>When shall we three meet again</td>\n",
       "      <td>1.1.1</td>\n",
       "      <td>First Witch</td>\n",
       "      <td>1.0</td>\n",
       "      <td>tragedy</td>\n",
       "      <td>tragedy</td>\n",
       "    </tr>\n",
       "    <tr>\n",
       "      <th>55783</th>\n",
       "      <td>55784</td>\n",
       "      <td>macbeth</td>\n",
       "      <td>In thunder, lightning, or in rain?</td>\n",
       "      <td>1.1.2</td>\n",
       "      <td>First Witch</td>\n",
       "      <td>1.0</td>\n",
       "      <td>tragedy</td>\n",
       "      <td>tragedy</td>\n",
       "    </tr>\n",
       "  </tbody>\n",
       "</table>\n",
       "</div>"
      ],
      "text/plain": [
       "       Dataline     Play                                        Line  \\\n",
       "55779     55780  macbeth                                       ACT I   \n",
       "55780     55781  macbeth                    SCENE I. A desert place.   \n",
       "55781     55782  macbeth  Thunder and lightning. Enter three Witches   \n",
       "55782     55783  macbeth              When shall we three meet again   \n",
       "55783     55784  macbeth          In thunder, lightning, or in rain?   \n",
       "\n",
       "      ActSceneLine             Player  PlayerLinenumber Traditional   Modern  \n",
       "55779        1.1.1  ADRIANO DE ARMADO             405.0     tragedy  tragedy  \n",
       "55780        1.1.1  ADRIANO DE ARMADO             405.0     tragedy  tragedy  \n",
       "55781        1.1.1  ADRIANO DE ARMADO             405.0     tragedy  tragedy  \n",
       "55782        1.1.1        First Witch               1.0     tragedy  tragedy  \n",
       "55783        1.1.2        First Witch               1.0     tragedy  tragedy  "
      ]
     },
     "execution_count": 3,
     "metadata": {},
     "output_type": "execute_result"
    }
   ],
   "source": [
    "macbeth = shake_df[shake_df['Play'] == 'macbeth']\n",
    "macbeth.head()"
   ]
  },
  {
   "cell_type": "markdown",
   "metadata": {},
   "source": [
    "TreebankWordTokenizer performs the following steps: \n",
    "- split standard contractions, e.g. ``don't`` -> ``do n't`` and ``they'll`` -> ``they 'll``\n",
    "- treat most punctuation characters as separate tokens\n",
    "- split off commas and single quotes, when followed by whitespace\n",
    "- separate periods that appear at the end of line"
   ]
  },
  {
   "cell_type": "code",
   "execution_count": 4,
   "metadata": {},
   "outputs": [
    {
     "name": "stderr",
     "output_type": "stream",
     "text": [
      "<ipython-input-4-3053f9e6ce36>:3: SettingWithCopyWarning: \n",
      "A value is trying to be set on a copy of a slice from a DataFrame.\n",
      "Try using .loc[row_indexer,col_indexer] = value instead\n",
      "\n",
      "See the caveats in the documentation: https://pandas.pydata.org/pandas-docs/stable/user_guide/indexing.html#returning-a-view-versus-a-copy\n",
      "  macbeth['line_tokenized'] = macbeth['Line'].apply(lambda x: twd.tokenize(x.lower()))\n"
     ]
    },
    {
     "data": {
      "text/html": [
       "<div>\n",
       "<style scoped>\n",
       "    .dataframe tbody tr th:only-of-type {\n",
       "        vertical-align: middle;\n",
       "    }\n",
       "\n",
       "    .dataframe tbody tr th {\n",
       "        vertical-align: top;\n",
       "    }\n",
       "\n",
       "    .dataframe thead th {\n",
       "        text-align: right;\n",
       "    }\n",
       "</style>\n",
       "<table border=\"1\" class=\"dataframe\">\n",
       "  <thead>\n",
       "    <tr style=\"text-align: right;\">\n",
       "      <th></th>\n",
       "      <th>Dataline</th>\n",
       "      <th>Play</th>\n",
       "      <th>Line</th>\n",
       "      <th>ActSceneLine</th>\n",
       "      <th>Player</th>\n",
       "      <th>PlayerLinenumber</th>\n",
       "      <th>Traditional</th>\n",
       "      <th>Modern</th>\n",
       "      <th>line_tokenized</th>\n",
       "    </tr>\n",
       "  </thead>\n",
       "  <tbody>\n",
       "    <tr>\n",
       "      <th>55779</th>\n",
       "      <td>55780</td>\n",
       "      <td>macbeth</td>\n",
       "      <td>ACT I</td>\n",
       "      <td>1.1.1</td>\n",
       "      <td>ADRIANO DE ARMADO</td>\n",
       "      <td>405.0</td>\n",
       "      <td>tragedy</td>\n",
       "      <td>tragedy</td>\n",
       "      <td>[act, i]</td>\n",
       "    </tr>\n",
       "    <tr>\n",
       "      <th>55780</th>\n",
       "      <td>55781</td>\n",
       "      <td>macbeth</td>\n",
       "      <td>SCENE I. A desert place.</td>\n",
       "      <td>1.1.1</td>\n",
       "      <td>ADRIANO DE ARMADO</td>\n",
       "      <td>405.0</td>\n",
       "      <td>tragedy</td>\n",
       "      <td>tragedy</td>\n",
       "      <td>[scene, i., a, desert, place, .]</td>\n",
       "    </tr>\n",
       "    <tr>\n",
       "      <th>55781</th>\n",
       "      <td>55782</td>\n",
       "      <td>macbeth</td>\n",
       "      <td>Thunder and lightning. Enter three Witches</td>\n",
       "      <td>1.1.1</td>\n",
       "      <td>ADRIANO DE ARMADO</td>\n",
       "      <td>405.0</td>\n",
       "      <td>tragedy</td>\n",
       "      <td>tragedy</td>\n",
       "      <td>[thunder, and, lightning., enter, three, witches]</td>\n",
       "    </tr>\n",
       "  </tbody>\n",
       "</table>\n",
       "</div>"
      ],
      "text/plain": [
       "       Dataline     Play                                        Line  \\\n",
       "55779     55780  macbeth                                       ACT I   \n",
       "55780     55781  macbeth                    SCENE I. A desert place.   \n",
       "55781     55782  macbeth  Thunder and lightning. Enter three Witches   \n",
       "\n",
       "      ActSceneLine             Player  PlayerLinenumber Traditional   Modern  \\\n",
       "55779        1.1.1  ADRIANO DE ARMADO             405.0     tragedy  tragedy   \n",
       "55780        1.1.1  ADRIANO DE ARMADO             405.0     tragedy  tragedy   \n",
       "55781        1.1.1  ADRIANO DE ARMADO             405.0     tragedy  tragedy   \n",
       "\n",
       "                                          line_tokenized  \n",
       "55779                                           [act, i]  \n",
       "55780                   [scene, i., a, desert, place, .]  \n",
       "55781  [thunder, and, lightning., enter, three, witches]  "
      ]
     },
     "execution_count": 4,
     "metadata": {},
     "output_type": "execute_result"
    }
   ],
   "source": [
    "twd = TreebankWordTokenizer()\n",
    "\n",
    "macbeth['line_tokenized'] = macbeth['Line'].apply(lambda x: twd.tokenize(x.lower()))\n",
    "macbeth.head(3)"
   ]
  },
  {
   "cell_type": "markdown",
   "metadata": {},
   "source": [
    "The TreebankWordTokenizer looks good. Lets try the full process using CountVectorizer. CountVectorizer will convert to lowercase by default"
   ]
  },
  {
   "cell_type": "code",
   "execution_count": 5,
   "metadata": {},
   "outputs": [
    {
     "name": "stdout",
     "output_type": "stream",
     "text": [
      "Number of trigrams from Macbeth: 15016\n"
     ]
    }
   ],
   "source": [
    "ngram_cv = CountVectorizer(ngram_range=(3,3), tokenizer=TreebankWordTokenizer().tokenize, analyzer='word')\n",
    "macbeth_matrix = ngram_cv.fit_transform(macbeth['Line'])\n",
    "\n",
    "macbeth_trigrams = ngram_cv.get_feature_names()\n",
    "\n",
    "print('Number of trigrams from Macbeth:', len(macbeth_trigrams))"
   ]
  },
  {
   "cell_type": "code",
   "execution_count": 6,
   "metadata": {},
   "outputs": [
    {
     "data": {
      "text/html": [
       "<div>\n",
       "<style scoped>\n",
       "    .dataframe tbody tr th:only-of-type {\n",
       "        vertical-align: middle;\n",
       "    }\n",
       "\n",
       "    .dataframe tbody tr th {\n",
       "        vertical-align: top;\n",
       "    }\n",
       "\n",
       "    .dataframe thead th {\n",
       "        text-align: right;\n",
       "    }\n",
       "</style>\n",
       "<table border=\"1\" class=\"dataframe\">\n",
       "  <thead>\n",
       "    <tr style=\"text-align: right;\">\n",
       "      <th></th>\n",
       "      <th>title</th>\n",
       "    </tr>\n",
       "  </thead>\n",
       "  <tbody>\n",
       "    <tr>\n",
       "      <th>0</th>\n",
       "      <td>! ' and</td>\n",
       "    </tr>\n",
       "    <tr>\n",
       "      <th>1</th>\n",
       "      <td>! ' exeunt</td>\n",
       "    </tr>\n",
       "    <tr>\n",
       "      <th>2</th>\n",
       "      <td>! ' the</td>\n",
       "    </tr>\n",
       "    <tr>\n",
       "      <th>3</th>\n",
       "      <td>! ' this</td>\n",
       "    </tr>\n",
       "    <tr>\n",
       "      <th>4</th>\n",
       "      <td>! ' to</td>\n",
       "    </tr>\n",
       "  </tbody>\n",
       "</table>\n",
       "</div>"
      ],
      "text/plain": [
       "        title\n",
       "0     ! ' and\n",
       "1  ! ' exeunt\n",
       "2     ! ' the\n",
       "3    ! ' this\n",
       "4      ! ' to"
      ]
     },
     "execution_count": 6,
     "metadata": {},
     "output_type": "execute_result"
    }
   ],
   "source": [
    "mac_tri_df = pd.DataFrame(macbeth_trigrams, columns=['title'])\n",
    "mac_tri_df.head()"
   ]
  },
  {
   "cell_type": "markdown",
   "metadata": {},
   "source": [
    "POS Tagging using nltk"
   ]
  },
  {
   "cell_type": "code",
   "execution_count": 7,
   "metadata": {},
   "outputs": [
    {
     "data": {
      "text/html": [
       "<div>\n",
       "<style scoped>\n",
       "    .dataframe tbody tr th:only-of-type {\n",
       "        vertical-align: middle;\n",
       "    }\n",
       "\n",
       "    .dataframe tbody tr th {\n",
       "        vertical-align: top;\n",
       "    }\n",
       "\n",
       "    .dataframe thead th {\n",
       "        text-align: right;\n",
       "    }\n",
       "</style>\n",
       "<table border=\"1\" class=\"dataframe\">\n",
       "  <thead>\n",
       "    <tr style=\"text-align: right;\">\n",
       "      <th></th>\n",
       "      <th>title</th>\n",
       "      <th>title_tokenized</th>\n",
       "      <th>title_pos</th>\n",
       "      <th>pos_tag</th>\n",
       "    </tr>\n",
       "  </thead>\n",
       "  <tbody>\n",
       "    <tr>\n",
       "      <th>13967</th>\n",
       "      <td>what you were</td>\n",
       "      <td>[what, you, were]</td>\n",
       "      <td>[(what, WP), (you, PRP), (were, VBD)]</td>\n",
       "      <td>[WP, PRP, VBD]</td>\n",
       "    </tr>\n",
       "    <tr>\n",
       "      <th>101</th>\n",
       "      <td>' pardon and</td>\n",
       "      <td>[', pardon, and]</td>\n",
       "      <td>[(', POS), (pardon, NN), (and, CC)]</td>\n",
       "      <td>[POS, NN, CC]</td>\n",
       "    </tr>\n",
       "    <tr>\n",
       "      <th>5125</th>\n",
       "      <td>foreign levy ,</td>\n",
       "      <td>[foreign, levy, ,]</td>\n",
       "      <td>[(foreign, JJ), (levy, NN), (,, ,)]</td>\n",
       "      <td>[JJ, NN, ,]</td>\n",
       "    </tr>\n",
       "    <tr>\n",
       "      <th>3710</th>\n",
       "      <td>can not conceive</td>\n",
       "      <td>[can, not, conceive]</td>\n",
       "      <td>[(can, MD), (not, RB), (conceive, VB)]</td>\n",
       "      <td>[MD, RB, VB]</td>\n",
       "    </tr>\n",
       "    <tr>\n",
       "      <th>2237</th>\n",
       "      <td>and an old</td>\n",
       "      <td>[and, an, old]</td>\n",
       "      <td>[(and, CC), (an, DT), (old, JJ)]</td>\n",
       "      <td>[CC, DT, JJ]</td>\n",
       "    </tr>\n",
       "    <tr>\n",
       "      <th>13163</th>\n",
       "      <td>to this terrible</td>\n",
       "      <td>[to, this, terrible]</td>\n",
       "      <td>[(to, TO), (this, DT), (terrible, JJ)]</td>\n",
       "      <td>[TO, DT, JJ]</td>\n",
       "    </tr>\n",
       "    <tr>\n",
       "      <th>13536</th>\n",
       "      <td>venom breed ,</td>\n",
       "      <td>[venom, breed, ,]</td>\n",
       "      <td>[(venom, NNS), (breed, NN), (,, ,)]</td>\n",
       "      <td>[NNS, NN, ,]</td>\n",
       "    </tr>\n",
       "    <tr>\n",
       "      <th>6548</th>\n",
       "      <td>i do think</td>\n",
       "      <td>[i, do, think]</td>\n",
       "      <td>[(i, NNS), (do, VBP), (think, VB)]</td>\n",
       "      <td>[NNS, VBP, VB]</td>\n",
       "    </tr>\n",
       "    <tr>\n",
       "      <th>11969</th>\n",
       "      <td>the selfsame day</td>\n",
       "      <td>[the, selfsame, day]</td>\n",
       "      <td>[(the, DT), (selfsame, NN), (day, NN)]</td>\n",
       "      <td>[DT, NN, NN]</td>\n",
       "    </tr>\n",
       "    <tr>\n",
       "      <th>2636</th>\n",
       "      <td>and what i</td>\n",
       "      <td>[and, what, i]</td>\n",
       "      <td>[(and, CC), (what, WP), (i, NN)]</td>\n",
       "      <td>[CC, WP, NN]</td>\n",
       "    </tr>\n",
       "  </tbody>\n",
       "</table>\n",
       "</div>"
      ],
      "text/plain": [
       "                  title       title_tokenized  \\\n",
       "13967     what you were     [what, you, were]   \n",
       "101        ' pardon and      [', pardon, and]   \n",
       "5125     foreign levy ,    [foreign, levy, ,]   \n",
       "3710   can not conceive  [can, not, conceive]   \n",
       "2237         and an old        [and, an, old]   \n",
       "13163  to this terrible  [to, this, terrible]   \n",
       "13536     venom breed ,     [venom, breed, ,]   \n",
       "6548         i do think        [i, do, think]   \n",
       "11969  the selfsame day  [the, selfsame, day]   \n",
       "2636         and what i        [and, what, i]   \n",
       "\n",
       "                                    title_pos         pos_tag  \n",
       "13967   [(what, WP), (you, PRP), (were, VBD)]  [WP, PRP, VBD]  \n",
       "101       [(', POS), (pardon, NN), (and, CC)]   [POS, NN, CC]  \n",
       "5125      [(foreign, JJ), (levy, NN), (,, ,)]     [JJ, NN, ,]  \n",
       "3710   [(can, MD), (not, RB), (conceive, VB)]    [MD, RB, VB]  \n",
       "2237         [(and, CC), (an, DT), (old, JJ)]    [CC, DT, JJ]  \n",
       "13163  [(to, TO), (this, DT), (terrible, JJ)]    [TO, DT, JJ]  \n",
       "13536     [(venom, NNS), (breed, NN), (,, ,)]    [NNS, NN, ,]  \n",
       "6548       [(i, NNS), (do, VBP), (think, VB)]  [NNS, VBP, VB]  \n",
       "11969  [(the, DT), (selfsame, NN), (day, NN)]    [DT, NN, NN]  \n",
       "2636         [(and, CC), (what, WP), (i, NN)]    [CC, WP, NN]  "
      ]
     },
     "execution_count": 7,
     "metadata": {},
     "output_type": "execute_result"
    }
   ],
   "source": [
    "mac_tri_df['title_tokenized'] = mac_tri_df['title'].apply(lambda x: twd.tokenize(x))\n",
    "mac_tri_df['title_pos'] = mac_tri_df['title_tokenized'].apply(lambda x: nltk.pos_tag(x))\n",
    "mac_tri_df['pos_tag'] = mac_tri_df['title_pos'].apply(lambda x: [i[1] for i in x])\n",
    "\n",
    "mac_tri_df.sample(10)"
   ]
  },
  {
   "cell_type": "markdown",
   "metadata": {},
   "source": [
    "Let's try on the full Shakespearean dataset"
   ]
  },
  {
   "cell_type": "code",
   "execution_count": 4,
   "metadata": {},
   "outputs": [
    {
     "name": "stdout",
     "output_type": "stream",
     "text": [
      "Number of trigrams from the Shakespeare plays and sonnets DataFrame: 556864\n"
     ]
    }
   ],
   "source": [
    "n3gram_cv = CountVectorizer(ngram_range=(3,3), tokenizer=TreebankWordTokenizer().tokenize, analyzer='word')\n",
    "shake_matrix = n3gram_cv.fit_transform(shake_df['Line'])\n",
    "\n",
    "shake_trigrams = n3gram_cv.get_feature_names()\n",
    "\n",
    "print('Number of trigrams from the Shakespeare plays and sonnets DataFrame:', len(shake_trigrams))"
   ]
  },
  {
   "cell_type": "code",
   "execution_count": 44,
   "metadata": {},
   "outputs": [
    {
     "data": {
      "text/html": [
       "<div>\n",
       "<style scoped>\n",
       "    .dataframe tbody tr th:only-of-type {\n",
       "        vertical-align: middle;\n",
       "    }\n",
       "\n",
       "    .dataframe tbody tr th {\n",
       "        vertical-align: top;\n",
       "    }\n",
       "\n",
       "    .dataframe thead th {\n",
       "        text-align: right;\n",
       "    }\n",
       "</style>\n",
       "<table border=\"1\" class=\"dataframe\">\n",
       "  <thead>\n",
       "    <tr style=\"text-align: right;\">\n",
       "      <th></th>\n",
       "      <th>title</th>\n",
       "    </tr>\n",
       "  </thead>\n",
       "  <tbody>\n",
       "    <tr>\n",
       "      <th>0</th>\n",
       "      <td>! ' 'brutus</td>\n",
       "    </tr>\n",
       "    <tr>\n",
       "      <th>1</th>\n",
       "      <td>! ' 'citizens</td>\n",
       "    </tr>\n",
       "    <tr>\n",
       "      <th>2</th>\n",
       "      <td>! ' 'coriolanus</td>\n",
       "    </tr>\n",
       "    <tr>\n",
       "      <th>3</th>\n",
       "      <td>! ' 'patricians</td>\n",
       "    </tr>\n",
       "    <tr>\n",
       "      <th>4</th>\n",
       "      <td>! ' 'stay</td>\n",
       "    </tr>\n",
       "  </tbody>\n",
       "</table>\n",
       "</div>"
      ],
      "text/plain": [
       "             title\n",
       "0      ! ' 'brutus\n",
       "1    ! ' 'citizens\n",
       "2  ! ' 'coriolanus\n",
       "3  ! ' 'patricians\n",
       "4        ! ' 'stay"
      ]
     },
     "execution_count": 44,
     "metadata": {},
     "output_type": "execute_result"
    }
   ],
   "source": [
    "shake_tri_df = pd.DataFrame(shake_trigrams, columns=['title'])\n",
    "shake_tri_df.head()"
   ]
  },
  {
   "cell_type": "markdown",
   "metadata": {},
   "source": [
    "I am curious about the punctuation used in the real titles and the punctuation captured in the entire shakespeare ngram set."
   ]
  },
  {
   "cell_type": "code",
   "execution_count": 45,
   "metadata": {},
   "outputs": [
    {
     "data": {
      "text/plain": [
       "'!\"#$%&\\'()*+,-./:;<=>?@[\\\\]^_`{|}~'"
      ]
     },
     "execution_count": 45,
     "metadata": {},
     "output_type": "execute_result"
    }
   ],
   "source": [
    "import string\n",
    "string.punctuation"
   ]
  },
  {
   "cell_type": "code",
   "execution_count": 46,
   "metadata": {},
   "outputs": [
    {
     "data": {
      "text/plain": [
       "['!', '$', \"'\", '(', ')', ',', '-', '.', ':', ';', '?', '[', ']', '`']"
      ]
     },
     "execution_count": 46,
     "metadata": {},
     "output_type": "execute_result"
    }
   ],
   "source": [
    "punct = list(string.punctuation)\n",
    "flat_list = ' '.join(shake_trigrams)\n",
    "present_punct_shake = [i for i in punct if i in flat_list]\n",
    "present_punct_shake"
   ]
  },
  {
   "cell_type": "code",
   "execution_count": 47,
   "metadata": {},
   "outputs": [],
   "source": [
    "titles_df = pd.read_csv('../data/clean_titles.csv')"
   ]
  },
  {
   "cell_type": "code",
   "execution_count": 48,
   "metadata": {},
   "outputs": [
    {
     "data": {
      "text/plain": [
       "['!', \"'\", ',', '-', '.', '?']"
      ]
     },
     "execution_count": 48,
     "metadata": {},
     "output_type": "execute_result"
    }
   ],
   "source": [
    "flat_title = ' '.join(titles_df.Title.tolist())\n",
    "title_present_punct = [i for i in punct if i in flat_title]\n",
    "title_present_punct"
   ]
  },
  {
   "cell_type": "markdown",
   "metadata": {},
   "source": [
    "In order to shrink the dataset, I'd like to explore removing the ngrams that contain punctuation not found in the real titles."
   ]
  },
  {
   "cell_type": "code",
   "execution_count": 49,
   "metadata": {},
   "outputs": [
    {
     "data": {
      "text/plain": [
       "['$', '(', ')', ':', ';', '[', ']', '`']"
      ]
     },
     "execution_count": 49,
     "metadata": {},
     "output_type": "execute_result"
    }
   ],
   "source": [
    "punct_2delete = [i for i in present_punct_shake if i not in title_present_punct]\n",
    "punct_2delete"
   ]
  },
  {
   "cell_type": "code",
   "execution_count": 50,
   "metadata": {},
   "outputs": [
    {
     "name": "stdout",
     "output_type": "stream",
     "text": [
      "ngrams before punctuation removal: 556864\n"
     ]
    }
   ],
   "source": [
    "print('ngrams before punctuation removal:', shake_tri_df.shape[0])\n",
    "\n",
    "# for index, row in shake_tri_df.iterrows():\n",
    "#     if '$' in row['title']:\n",
    "#         shake_tri_df.drop(index, inplace=True)\n",
    "#     elif '(' in row['title']:\n",
    "#         shake_tri_df.drop(index, inplace=True)\n",
    "#     elif ')' in row['title']:\n",
    "#         shake_tri_df.drop(index, inplace=True)\n",
    "#     elif ':' in row['title']:\n",
    "#         shake_tri_df.drop(index, inplace=True)\n",
    "#     elif ';' in row['title']:\n",
    "#         shake_tri_df.drop(index, inplace=True)\n",
    "#     elif '[' in row['title']:\n",
    "#         shake_tri_df.drop(index, inplace=True)\n",
    "#     elif ']' in row['title']:\n",
    "#         shake_tri_df.drop(index, inplace=True)\n",
    "#     elif '`' in row['title']:\n",
    "#         shake_tri_df.drop(index, inplace=True)\n",
    "\n",
    "# print('ngrams after punctuation removal:', shake_tri_df.shape)       "
   ]
  },
  {
   "cell_type": "markdown",
   "metadata": {},
   "source": [
    "The method above was WAY to slow to be useful."
   ]
  },
  {
   "cell_type": "code",
   "execution_count": 51,
   "metadata": {},
   "outputs": [
    {
     "data": {
      "text/plain": [
       "556861"
      ]
     },
     "execution_count": 51,
     "metadata": {},
     "output_type": "execute_result"
    }
   ],
   "source": [
    "dollar = shake_tri_df.title.str.contains('$', regex=False)\n",
    "shake_tri_df = shake_tri_df[~dollar]\n",
    "\n",
    "shake_tri_df.shape[0]"
   ]
  },
  {
   "cell_type": "code",
   "execution_count": 52,
   "metadata": {},
   "outputs": [
    {
     "data": {
      "text/html": [
       "<div>\n",
       "<style scoped>\n",
       "    .dataframe tbody tr th:only-of-type {\n",
       "        vertical-align: middle;\n",
       "    }\n",
       "\n",
       "    .dataframe tbody tr th {\n",
       "        vertical-align: top;\n",
       "    }\n",
       "\n",
       "    .dataframe thead th {\n",
       "        text-align: right;\n",
       "    }\n",
       "</style>\n",
       "<table border=\"1\" class=\"dataframe\">\n",
       "  <thead>\n",
       "    <tr style=\"text-align: right;\">\n",
       "      <th></th>\n",
       "      <th>title</th>\n",
       "    </tr>\n",
       "  </thead>\n",
       "  <tbody>\n",
       "    <tr>\n",
       "      <th>556859</th>\n",
       "      <td>zo long as</td>\n",
       "    </tr>\n",
       "    <tr>\n",
       "      <th>556860</th>\n",
       "      <td>zodiac in his</td>\n",
       "    </tr>\n",
       "    <tr>\n",
       "      <th>556861</th>\n",
       "      <td>zodiacs have gone</td>\n",
       "    </tr>\n",
       "    <tr>\n",
       "      <th>556862</th>\n",
       "      <td>zounds ! i</td>\n",
       "    </tr>\n",
       "    <tr>\n",
       "      <th>556863</th>\n",
       "      <td>zwaggered out of</td>\n",
       "    </tr>\n",
       "  </tbody>\n",
       "</table>\n",
       "</div>"
      ],
      "text/plain": [
       "                    title\n",
       "556859         zo long as\n",
       "556860      zodiac in his\n",
       "556861  zodiacs have gone\n",
       "556862         zounds ! i\n",
       "556863   zwaggered out of"
      ]
     },
     "execution_count": 52,
     "metadata": {},
     "output_type": "execute_result"
    }
   ],
   "source": [
    "shake_tri_df.tail()"
   ]
  },
  {
   "cell_type": "code",
   "execution_count": 53,
   "metadata": {},
   "outputs": [
    {
     "data": {
      "text/plain": [
       "556767"
      ]
     },
     "execution_count": 53,
     "metadata": {},
     "output_type": "execute_result"
    }
   ],
   "source": [
    "lparen = shake_tri_df.title.str.contains('(', regex=False)\n",
    "shake_tri_df = shake_tri_df[~lparen]\n",
    "shake_tri_df.shape[0]"
   ]
  },
  {
   "cell_type": "code",
   "execution_count": 54,
   "metadata": {},
   "outputs": [
    {
     "data": {
      "text/plain": [
       "556697"
      ]
     },
     "execution_count": 54,
     "metadata": {},
     "output_type": "execute_result"
    }
   ],
   "source": [
    "rparen = shake_tri_df.title.str.contains(')', regex=False)\n",
    "shake_tri_df = shake_tri_df[~rparen]\n",
    "shake_tri_df.shape[0]"
   ]
  },
  {
   "cell_type": "code",
   "execution_count": 55,
   "metadata": {},
   "outputs": [
    {
     "data": {
      "text/plain": [
       "536384"
      ]
     },
     "execution_count": 55,
     "metadata": {},
     "output_type": "execute_result"
    }
   ],
   "source": [
    "colon = shake_tri_df.title.str.contains(':', regex=False)\n",
    "shake_tri_df = shake_tri_df[~colon]\n",
    "shake_tri_df.shape[0]"
   ]
  },
  {
   "cell_type": "code",
   "execution_count": 56,
   "metadata": {},
   "outputs": [
    {
     "data": {
      "text/plain": [
       "536199"
      ]
     },
     "execution_count": 56,
     "metadata": {},
     "output_type": "execute_result"
    }
   ],
   "source": [
    "semi = shake_tri_df.title.str.contains(';', regex=False)\n",
    "shake_tri_df = shake_tri_df[~semi]\n",
    "shake_tri_df.shape[0]"
   ]
  },
  {
   "cell_type": "code",
   "execution_count": 57,
   "metadata": {},
   "outputs": [
    {
     "data": {
      "text/plain": [
       "536090"
      ]
     },
     "execution_count": 57,
     "metadata": {},
     "output_type": "execute_result"
    }
   ],
   "source": [
    "lbrack = shake_tri_df.title.str.contains('[', regex=False)\n",
    "shake_tri_df = shake_tri_df[~lbrack]\n",
    "shake_tri_df.shape[0]"
   ]
  },
  {
   "cell_type": "code",
   "execution_count": 58,
   "metadata": {},
   "outputs": [
    {
     "data": {
      "text/plain": [
       "535194"
      ]
     },
     "execution_count": 58,
     "metadata": {},
     "output_type": "execute_result"
    }
   ],
   "source": [
    "rbrack = shake_tri_df.title.str.contains(']', regex=False)\n",
    "shake_tri_df = shake_tri_df[~rbrack]\n",
    "shake_tri_df.shape[0]"
   ]
  },
  {
   "cell_type": "code",
   "execution_count": 59,
   "metadata": {},
   "outputs": [
    {
     "data": {
      "text/plain": [
       "535152"
      ]
     },
     "execution_count": 59,
     "metadata": {},
     "output_type": "execute_result"
    }
   ],
   "source": [
    "whatisthisthing = shake_tri_df.title.str.contains('`', regex=False)\n",
    "shake_tri_df = shake_tri_df[~whatisthisthing]\n",
    "shake_tri_df.shape[0]"
   ]
  },
  {
   "cell_type": "code",
   "execution_count": 60,
   "metadata": {},
   "outputs": [
    {
     "data": {
      "text/html": [
       "<div>\n",
       "<style scoped>\n",
       "    .dataframe tbody tr th:only-of-type {\n",
       "        vertical-align: middle;\n",
       "    }\n",
       "\n",
       "    .dataframe tbody tr th {\n",
       "        vertical-align: top;\n",
       "    }\n",
       "\n",
       "    .dataframe thead th {\n",
       "        text-align: right;\n",
       "    }\n",
       "</style>\n",
       "<table border=\"1\" class=\"dataframe\">\n",
       "  <thead>\n",
       "    <tr style=\"text-align: right;\">\n",
       "      <th></th>\n",
       "      <th>title</th>\n",
       "    </tr>\n",
       "  </thead>\n",
       "  <tbody>\n",
       "    <tr>\n",
       "      <th>0</th>\n",
       "      <td>! ' 'brutus</td>\n",
       "    </tr>\n",
       "    <tr>\n",
       "      <th>1</th>\n",
       "      <td>! ' 'citizens</td>\n",
       "    </tr>\n",
       "    <tr>\n",
       "      <th>2</th>\n",
       "      <td>! ' 'coriolanus</td>\n",
       "    </tr>\n",
       "    <tr>\n",
       "      <th>3</th>\n",
       "      <td>! ' 'patricians</td>\n",
       "    </tr>\n",
       "    <tr>\n",
       "      <th>4</th>\n",
       "      <td>! ' 'stay</td>\n",
       "    </tr>\n",
       "  </tbody>\n",
       "</table>\n",
       "</div>"
      ],
      "text/plain": [
       "             title\n",
       "0      ! ' 'brutus\n",
       "1    ! ' 'citizens\n",
       "2  ! ' 'coriolanus\n",
       "3  ! ' 'patricians\n",
       "4        ! ' 'stay"
      ]
     },
     "execution_count": 60,
     "metadata": {},
     "output_type": "execute_result"
    }
   ],
   "source": [
    "shake_tri_df.head()"
   ]
  },
  {
   "cell_type": "markdown",
   "metadata": {},
   "source": [
    "Metagaming here- Titles containing `'` and `''` are going to play havoc with my downstream analysis. I am going to remove the double apostrophes to see if that helps. The `'` is too important to lose. They also interact strangely with other punctuation, so I am going to try and do clean-up"
   ]
  },
  {
   "cell_type": "code",
   "execution_count": 62,
   "metadata": {},
   "outputs": [
    {
     "data": {
      "text/plain": [
       "535127"
      ]
     },
     "execution_count": 62,
     "metadata": {},
     "output_type": "execute_result"
    }
   ],
   "source": [
    "apost = shake_tri_df.title.str.contains(\"''\", regex=False)\n",
    "shake_tri_df = shake_tri_df[~apost]\n",
    "shake_tri_df.shape[0]"
   ]
  },
  {
   "cell_type": "code",
   "execution_count": 63,
   "metadata": {},
   "outputs": [
    {
     "data": {
      "text/html": [
       "<div>\n",
       "<style scoped>\n",
       "    .dataframe tbody tr th:only-of-type {\n",
       "        vertical-align: middle;\n",
       "    }\n",
       "\n",
       "    .dataframe tbody tr th {\n",
       "        vertical-align: top;\n",
       "    }\n",
       "\n",
       "    .dataframe thead th {\n",
       "        text-align: right;\n",
       "    }\n",
       "</style>\n",
       "<table border=\"1\" class=\"dataframe\">\n",
       "  <thead>\n",
       "    <tr style=\"text-align: right;\">\n",
       "      <th></th>\n",
       "      <th>title</th>\n",
       "    </tr>\n",
       "  </thead>\n",
       "  <tbody>\n",
       "    <tr>\n",
       "      <th>0</th>\n",
       "      <td>! ' 'brutus</td>\n",
       "    </tr>\n",
       "    <tr>\n",
       "      <th>1</th>\n",
       "      <td>! ' 'citizens</td>\n",
       "    </tr>\n",
       "    <tr>\n",
       "      <th>2</th>\n",
       "      <td>! ' 'coriolanus</td>\n",
       "    </tr>\n",
       "    <tr>\n",
       "      <th>3</th>\n",
       "      <td>! ' 'patricians</td>\n",
       "    </tr>\n",
       "    <tr>\n",
       "      <th>4</th>\n",
       "      <td>! ' 'stay</td>\n",
       "    </tr>\n",
       "  </tbody>\n",
       "</table>\n",
       "</div>"
      ],
      "text/plain": [
       "             title\n",
       "0      ! ' 'brutus\n",
       "1    ! ' 'citizens\n",
       "2  ! ' 'coriolanus\n",
       "3  ! ' 'patricians\n",
       "4        ! ' 'stay"
      ]
     },
     "execution_count": 63,
     "metadata": {},
     "output_type": "execute_result"
    }
   ],
   "source": [
    "shake_tri_df.head()"
   ]
  },
  {
   "cell_type": "code",
   "execution_count": 64,
   "metadata": {},
   "outputs": [
    {
     "data": {
      "text/plain": [
       "532774"
      ]
     },
     "execution_count": 64,
     "metadata": {},
     "output_type": "execute_result"
    }
   ],
   "source": [
    "exclaim = shake_tri_df.title.str.startswith('!')\n",
    "shake_tri_df = shake_tri_df[~exclaim]\n",
    "shake_tri_df.shape[0]"
   ]
  },
  {
   "cell_type": "code",
   "execution_count": 65,
   "metadata": {},
   "outputs": [
    {
     "data": {
      "text/plain": [
       "506439"
      ]
     },
     "execution_count": 65,
     "metadata": {},
     "output_type": "execute_result"
    }
   ],
   "source": [
    "comma = shake_tri_df.title.str.startswith(',')\n",
    "shake_tri_df = shake_tri_df[~comma]\n",
    "shake_tri_df.shape[0]"
   ]
  },
  {
   "cell_type": "code",
   "execution_count": 66,
   "metadata": {},
   "outputs": [
    {
     "data": {
      "text/html": [
       "<div>\n",
       "<style scoped>\n",
       "    .dataframe tbody tr th:only-of-type {\n",
       "        vertical-align: middle;\n",
       "    }\n",
       "\n",
       "    .dataframe tbody tr th {\n",
       "        vertical-align: top;\n",
       "    }\n",
       "\n",
       "    .dataframe thead th {\n",
       "        text-align: right;\n",
       "    }\n",
       "</style>\n",
       "<table border=\"1\" class=\"dataframe\">\n",
       "  <thead>\n",
       "    <tr style=\"text-align: right;\">\n",
       "      <th></th>\n",
       "      <th>title</th>\n",
       "    </tr>\n",
       "  </thead>\n",
       "  <tbody>\n",
       "    <tr>\n",
       "      <th>2361</th>\n",
       "      <td>' ! 't</td>\n",
       "    </tr>\n",
       "    <tr>\n",
       "      <th>2362</th>\n",
       "      <td>' ! an</td>\n",
       "    </tr>\n",
       "    <tr>\n",
       "      <th>2363</th>\n",
       "      <td>' ! have</td>\n",
       "    </tr>\n",
       "    <tr>\n",
       "      <th>2364</th>\n",
       "      <td>' ! here</td>\n",
       "    </tr>\n",
       "    <tr>\n",
       "      <th>2365</th>\n",
       "      <td>' ! how</td>\n",
       "    </tr>\n",
       "  </tbody>\n",
       "</table>\n",
       "</div>"
      ],
      "text/plain": [
       "         title\n",
       "2361    ' ! 't\n",
       "2362    ' ! an\n",
       "2363  ' ! have\n",
       "2364  ' ! here\n",
       "2365   ' ! how"
      ]
     },
     "execution_count": 66,
     "metadata": {},
     "output_type": "execute_result"
    }
   ],
   "source": [
    "shake_tri_df.head()"
   ]
  },
  {
   "cell_type": "code",
   "execution_count": 67,
   "metadata": {},
   "outputs": [
    {
     "data": {
      "text/plain": [
       "493870"
      ]
     },
     "execution_count": 67,
     "metadata": {},
     "output_type": "execute_result"
    }
   ],
   "source": [
    "stapost = shake_tri_df.title.str.startswith(\"'\")\n",
    "shake_tri_df = shake_tri_df[~stapost]\n",
    "shake_tri_df.shape[0]"
   ]
  },
  {
   "cell_type": "code",
   "execution_count": 68,
   "metadata": {},
   "outputs": [
    {
     "data": {
      "text/html": [
       "<div>\n",
       "<style scoped>\n",
       "    .dataframe tbody tr th:only-of-type {\n",
       "        vertical-align: middle;\n",
       "    }\n",
       "\n",
       "    .dataframe tbody tr th {\n",
       "        vertical-align: top;\n",
       "    }\n",
       "\n",
       "    .dataframe thead th {\n",
       "        text-align: right;\n",
       "    }\n",
       "</style>\n",
       "<table border=\"1\" class=\"dataframe\">\n",
       "  <thead>\n",
       "    <tr style=\"text-align: right;\">\n",
       "      <th></th>\n",
       "      <th>title</th>\n",
       "    </tr>\n",
       "  </thead>\n",
       "  <tbody>\n",
       "    <tr>\n",
       "      <th>42161</th>\n",
       "      <td>-- 'ay '</td>\n",
       "    </tr>\n",
       "    <tr>\n",
       "      <th>42162</th>\n",
       "      <td>-- 'banished '</td>\n",
       "    </tr>\n",
       "    <tr>\n",
       "      <th>42163</th>\n",
       "      <td>-- 'farewell ,</td>\n",
       "    </tr>\n",
       "    <tr>\n",
       "      <th>42164</th>\n",
       "      <td>-- 'god-a-mercy ,</td>\n",
       "    </tr>\n",
       "    <tr>\n",
       "      <th>42165</th>\n",
       "      <td>-- 'ladies ,</td>\n",
       "    </tr>\n",
       "  </tbody>\n",
       "</table>\n",
       "</div>"
      ],
      "text/plain": [
       "                   title\n",
       "42161           -- 'ay '\n",
       "42162     -- 'banished '\n",
       "42163     -- 'farewell ,\n",
       "42164  -- 'god-a-mercy ,\n",
       "42165       -- 'ladies ,"
      ]
     },
     "execution_count": 68,
     "metadata": {},
     "output_type": "execute_result"
    }
   ],
   "source": [
    "shake_tri_df.head()"
   ]
  },
  {
   "cell_type": "code",
   "execution_count": 69,
   "metadata": {},
   "outputs": [
    {
     "data": {
      "text/plain": [
       "493061"
      ]
     },
     "execution_count": 69,
     "metadata": {},
     "output_type": "execute_result"
    }
   ],
   "source": [
    "dash = shake_tri_df.title.str.startswith('-')\n",
    "shake_tri_df = shake_tri_df[~dash]\n",
    "shake_tri_df.shape[0]"
   ]
  },
  {
   "cell_type": "code",
   "execution_count": 70,
   "metadata": {},
   "outputs": [
    {
     "data": {
      "text/html": [
       "<div>\n",
       "<style scoped>\n",
       "    .dataframe tbody tr th:only-of-type {\n",
       "        vertical-align: middle;\n",
       "    }\n",
       "\n",
       "    .dataframe tbody tr th {\n",
       "        vertical-align: top;\n",
       "    }\n",
       "\n",
       "    .dataframe thead th {\n",
       "        text-align: right;\n",
       "    }\n",
       "</style>\n",
       "<table border=\"1\" class=\"dataframe\">\n",
       "  <thead>\n",
       "    <tr style=\"text-align: right;\">\n",
       "      <th></th>\n",
       "      <th>title</th>\n",
       "    </tr>\n",
       "  </thead>\n",
       "  <tbody>\n",
       "    <tr>\n",
       "      <th>42974</th>\n",
       "      <td>. . .</td>\n",
       "    </tr>\n",
       "    <tr>\n",
       "      <th>42975</th>\n",
       "      <td>. . 2s.</td>\n",
       "    </tr>\n",
       "    <tr>\n",
       "      <th>42976</th>\n",
       "      <td>. . 4d</td>\n",
       "    </tr>\n",
       "    <tr>\n",
       "      <th>42977</th>\n",
       "      <td>. 2s. 2d</td>\n",
       "    </tr>\n",
       "    <tr>\n",
       "      <th>42978</th>\n",
       "      <td>. 4d .</td>\n",
       "    </tr>\n",
       "  </tbody>\n",
       "</table>\n",
       "</div>"
      ],
      "text/plain": [
       "          title\n",
       "42974     . . .\n",
       "42975   . . 2s.\n",
       "42976    . . 4d\n",
       "42977  . 2s. 2d\n",
       "42978    . 4d ."
      ]
     },
     "execution_count": 70,
     "metadata": {},
     "output_type": "execute_result"
    }
   ],
   "source": [
    "shake_tri_df.head()"
   ]
  },
  {
   "cell_type": "code",
   "execution_count": 71,
   "metadata": {},
   "outputs": [
    {
     "data": {
      "text/plain": [
       "493053"
      ]
     },
     "execution_count": 71,
     "metadata": {},
     "output_type": "execute_result"
    }
   ],
   "source": [
    "period = shake_tri_df.title.str.startswith('.')\n",
    "shake_tri_df = shake_tri_df[~period]\n",
    "shake_tri_df.shape[0]"
   ]
  },
  {
   "cell_type": "code",
   "execution_count": 73,
   "metadata": {},
   "outputs": [
    {
     "data": {
      "text/html": [
       "<div>\n",
       "<style scoped>\n",
       "    .dataframe tbody tr th:only-of-type {\n",
       "        vertical-align: middle;\n",
       "    }\n",
       "\n",
       "    .dataframe tbody tr th {\n",
       "        vertical-align: top;\n",
       "    }\n",
       "\n",
       "    .dataframe thead th {\n",
       "        text-align: right;\n",
       "    }\n",
       "</style>\n",
       "<table border=\"1\" class=\"dataframe\">\n",
       "  <thead>\n",
       "    <tr style=\"text-align: right;\">\n",
       "      <th></th>\n",
       "      <th>title</th>\n",
       "    </tr>\n",
       "  </thead>\n",
       "  <tbody>\n",
       "    <tr>\n",
       "      <th>42982</th>\n",
       "      <td>1. a lively</td>\n",
       "    </tr>\n",
       "    <tr>\n",
       "      <th>42983</th>\n",
       "      <td>10. certain ladies</td>\n",
       "    </tr>\n",
       "    <tr>\n",
       "      <th>42984</th>\n",
       "      <td>2. then ,</td>\n",
       "    </tr>\n",
       "    <tr>\n",
       "      <th>42985</th>\n",
       "      <td>2s. 2d .</td>\n",
       "    </tr>\n",
       "    <tr>\n",
       "      <th>42986</th>\n",
       "      <td>2s. 6d .</td>\n",
       "    </tr>\n",
       "  </tbody>\n",
       "</table>\n",
       "</div>"
      ],
      "text/plain": [
       "                    title\n",
       "42982         1. a lively\n",
       "42983  10. certain ladies\n",
       "42984           2. then ,\n",
       "42985            2s. 2d .\n",
       "42986            2s. 6d ."
      ]
     },
     "execution_count": 73,
     "metadata": {},
     "output_type": "execute_result"
    }
   ],
   "source": [
    "shake_tri_df.head()"
   ]
  },
  {
   "cell_type": "code",
   "execution_count": 76,
   "metadata": {},
   "outputs": [
    {
     "data": {
      "text/html": [
       "<div>\n",
       "<style scoped>\n",
       "    .dataframe tbody tr th:only-of-type {\n",
       "        vertical-align: middle;\n",
       "    }\n",
       "\n",
       "    .dataframe tbody tr th {\n",
       "        vertical-align: top;\n",
       "    }\n",
       "\n",
       "    .dataframe thead th {\n",
       "        text-align: right;\n",
       "    }\n",
       "</style>\n",
       "<table border=\"1\" class=\"dataframe\">\n",
       "  <thead>\n",
       "    <tr style=\"text-align: right;\">\n",
       "      <th></th>\n",
       "      <th>title</th>\n",
       "      <th>title_tokenized</th>\n",
       "      <th>title_pos</th>\n",
       "      <th>pos_tag</th>\n",
       "    </tr>\n",
       "  </thead>\n",
       "  <tbody>\n",
       "    <tr>\n",
       "      <th>251264</th>\n",
       "      <td>in his retirement</td>\n",
       "      <td>[in, his, retirement]</td>\n",
       "      <td>[(in, IN), (his, PRP$), (retirement, NN)]</td>\n",
       "      <td>[IN, PRP$, NN]</td>\n",
       "    </tr>\n",
       "    <tr>\n",
       "      <th>240752</th>\n",
       "      <td>i gone .</td>\n",
       "      <td>[i, gone, .]</td>\n",
       "      <td>[(i, NN), (gone, VBN), (., .)]</td>\n",
       "      <td>[NN, VBN, .]</td>\n",
       "    </tr>\n",
       "    <tr>\n",
       "      <th>363390</th>\n",
       "      <td>paulina , lords</td>\n",
       "      <td>[paulina, ,, lords]</td>\n",
       "      <td>[(paulina, NN), (,, ,), (lords, NNS)]</td>\n",
       "      <td>[NN, ,, NNS]</td>\n",
       "    </tr>\n",
       "    <tr>\n",
       "      <th>242635</th>\n",
       "      <td>i myself could</td>\n",
       "      <td>[i, myself, could]</td>\n",
       "      <td>[(i, NN), (myself, PRP), (could, MD)]</td>\n",
       "      <td>[NN, PRP, MD]</td>\n",
       "    </tr>\n",
       "    <tr>\n",
       "      <th>402647</th>\n",
       "      <td>since his rose</td>\n",
       "      <td>[since, his, rose]</td>\n",
       "      <td>[(since, IN), (his, PRP$), (rose, VBD)]</td>\n",
       "      <td>[IN, PRP$, VBD]</td>\n",
       "    </tr>\n",
       "  </tbody>\n",
       "</table>\n",
       "</div>"
      ],
      "text/plain": [
       "                    title        title_tokenized  \\\n",
       "251264  in his retirement  [in, his, retirement]   \n",
       "240752           i gone .           [i, gone, .]   \n",
       "363390    paulina , lords    [paulina, ,, lords]   \n",
       "242635     i myself could     [i, myself, could]   \n",
       "402647     since his rose     [since, his, rose]   \n",
       "\n",
       "                                        title_pos          pos_tag  \n",
       "251264  [(in, IN), (his, PRP$), (retirement, NN)]   [IN, PRP$, NN]  \n",
       "240752             [(i, NN), (gone, VBN), (., .)]     [NN, VBN, .]  \n",
       "363390      [(paulina, NN), (,, ,), (lords, NNS)]     [NN, ,, NNS]  \n",
       "242635      [(i, NN), (myself, PRP), (could, MD)]    [NN, PRP, MD]  \n",
       "402647    [(since, IN), (his, PRP$), (rose, VBD)]  [IN, PRP$, VBD]  "
      ]
     },
     "execution_count": 76,
     "metadata": {},
     "output_type": "execute_result"
    }
   ],
   "source": [
    "twd = TreebankWordTokenizer()\n",
    "\n",
    "shake_tri_df['title_tokenized'] = shake_tri_df['title'].apply(lambda x: twd.tokenize(x))\n",
    "shake_tri_df['title_pos'] = shake_tri_df['title_tokenized'].apply(lambda x: nltk.pos_tag(x))\n",
    "shake_tri_df['pos_tag'] = shake_tri_df['title_pos'].apply(lambda x: [i[1] for i in x])\n",
    "\n",
    "shake_tri_df.sample(5)"
   ]
  },
  {
   "cell_type": "markdown",
   "metadata": {},
   "source": [
    "Repeat the process for fourgrams and bigrams."
   ]
  },
  {
   "cell_type": "code",
   "execution_count": 77,
   "metadata": {},
   "outputs": [
    {
     "name": "stdout",
     "output_type": "stream",
     "text": [
      "Number of bigrams from the Shakespeare plays and sonnets DataFrame: 265248\n"
     ]
    }
   ],
   "source": [
    "n2gram_cv = CountVectorizer(ngram_range=(2,2), tokenizer=TreebankWordTokenizer().tokenize, analyzer='word')\n",
    "shake_2matrix = n2gram_cv.fit_transform(shake_df['Line'])\n",
    "\n",
    "shake_bigrams = n2gram_cv.get_feature_names()\n",
    "\n",
    "print('Number of bigrams from the Shakespeare plays and sonnets DataFrame:', len(shake_bigrams))"
   ]
  },
  {
   "cell_type": "code",
   "execution_count": 78,
   "metadata": {},
   "outputs": [
    {
     "data": {
      "text/html": [
       "<div>\n",
       "<style scoped>\n",
       "    .dataframe tbody tr th:only-of-type {\n",
       "        vertical-align: middle;\n",
       "    }\n",
       "\n",
       "    .dataframe tbody tr th {\n",
       "        vertical-align: top;\n",
       "    }\n",
       "\n",
       "    .dataframe thead th {\n",
       "        text-align: right;\n",
       "    }\n",
       "</style>\n",
       "<table border=\"1\" class=\"dataframe\">\n",
       "  <thead>\n",
       "    <tr style=\"text-align: right;\">\n",
       "      <th></th>\n",
       "      <th>title</th>\n",
       "    </tr>\n",
       "  </thead>\n",
       "  <tbody>\n",
       "    <tr>\n",
       "      <th>223862</th>\n",
       "      <td>this ague</td>\n",
       "    </tr>\n",
       "    <tr>\n",
       "      <th>184178</th>\n",
       "      <td>rotten fens</td>\n",
       "    </tr>\n",
       "    <tr>\n",
       "      <th>157137</th>\n",
       "      <td>o'er-dusted .</td>\n",
       "    </tr>\n",
       "    <tr>\n",
       "      <th>27717</th>\n",
       "      <td>and strike</td>\n",
       "    </tr>\n",
       "    <tr>\n",
       "      <th>255697</th>\n",
       "      <td>with drooping</td>\n",
       "    </tr>\n",
       "  </tbody>\n",
       "</table>\n",
       "</div>"
      ],
      "text/plain": [
       "                title\n",
       "223862      this ague\n",
       "184178    rotten fens\n",
       "157137  o'er-dusted .\n",
       "27717      and strike\n",
       "255697  with drooping"
      ]
     },
     "execution_count": 78,
     "metadata": {},
     "output_type": "execute_result"
    }
   ],
   "source": [
    "shake_bi_df = pd.DataFrame(shake_bigrams, columns=['title'])\n",
    "shake_bi_df.sample(5)"
   ]
  },
  {
   "cell_type": "code",
   "execution_count": 80,
   "metadata": {},
   "outputs": [
    {
     "name": "stdout",
     "output_type": "stream",
     "text": [
      "start bigrams: 265248\n"
     ]
    },
    {
     "data": {
      "text/plain": [
       "247365"
      ]
     },
     "execution_count": 80,
     "metadata": {},
     "output_type": "execute_result"
    }
   ],
   "source": [
    "print('start bigrams:', shake_bi_df.shape[0])\n",
    "\n",
    "dollar = shake_bi_df.title.str.contains('$', regex=False)\n",
    "shake_bi_df = shake_bi_df[~dollar]\n",
    "\n",
    "lparen = shake_bi_df.title.str.contains('(', regex=False)\n",
    "shake_bi_df = shake_bi_df[~lparen]\n",
    "\n",
    "rparen = shake_bi_df.title.str.contains(')', regex=False)\n",
    "shake_bi_df = shake_bi_df[~rparen]\n",
    "\n",
    "colon = shake_bi_df.title.str.contains(':', regex=False)\n",
    "shake_bi_df = shake_bi_df[~colon]\n",
    "\n",
    "semi = shake_bi_df.title.str.contains(';', regex=False)\n",
    "shake_bi_df = shake_bi_df[~semi]\n",
    "\n",
    "lbrack = shake_bi_df.title.str.contains('[', regex=False)\n",
    "shake_bi_df = shake_bi_df[~lbrack]\n",
    "\n",
    "rbrack = shake_bi_df.title.str.contains(']', regex=False)\n",
    "shake_bi_df = shake_bi_df[~rbrack]\n",
    "\n",
    "whatisthisthing = shake_bi_df.title.str.contains('`', regex=False)\n",
    "shake_bi_df = shake_bi_df[~whatisthisthing]\n",
    "\n",
    "exclaim = shake_bi_df.title.str.startswith('!')\n",
    "shake_bi_df = shake_bi_df[~exclaim]\n",
    "\n",
    "comma = shake_bi_df.title.str.startswith(',')\n",
    "shake_bi_df = shake_bi_df[~comma]\n",
    "\n",
    "stapost = shake_bi_df.title.str.startswith(\"'\")\n",
    "shake_bi_df = shake_bi_df[~stapost]\n",
    "\n",
    "\n",
    "dash = shake_bi_df.title.str.startswith('-')\n",
    "shake_bi_df = shake_bi_df[~dash]\n",
    "\n",
    "period = shake_bi_df.title.str.startswith('.')\n",
    "shake_bi_df = shake_bi_df[~period]\n",
    "\n",
    "shake_bi_df.shape[0]"
   ]
  },
  {
   "cell_type": "code",
   "execution_count": 81,
   "metadata": {},
   "outputs": [
    {
     "data": {
      "text/html": [
       "<div>\n",
       "<style scoped>\n",
       "    .dataframe tbody tr th:only-of-type {\n",
       "        vertical-align: middle;\n",
       "    }\n",
       "\n",
       "    .dataframe tbody tr th {\n",
       "        vertical-align: top;\n",
       "    }\n",
       "\n",
       "    .dataframe thead th {\n",
       "        text-align: right;\n",
       "    }\n",
       "</style>\n",
       "<table border=\"1\" class=\"dataframe\">\n",
       "  <thead>\n",
       "    <tr style=\"text-align: right;\">\n",
       "      <th></th>\n",
       "      <th>title</th>\n",
       "    </tr>\n",
       "  </thead>\n",
       "  <tbody>\n",
       "    <tr>\n",
       "      <th>12313</th>\n",
       "      <td>1. a</td>\n",
       "    </tr>\n",
       "    <tr>\n",
       "      <th>12314</th>\n",
       "      <td>10. certain</td>\n",
       "    </tr>\n",
       "    <tr>\n",
       "      <th>12315</th>\n",
       "      <td>2. then</td>\n",
       "    </tr>\n",
       "    <tr>\n",
       "      <th>12316</th>\n",
       "      <td>2d .</td>\n",
       "    </tr>\n",
       "    <tr>\n",
       "      <th>12317</th>\n",
       "      <td>2s. 2d</td>\n",
       "    </tr>\n",
       "  </tbody>\n",
       "</table>\n",
       "</div>"
      ],
      "text/plain": [
       "             title\n",
       "12313         1. a\n",
       "12314  10. certain\n",
       "12315      2. then\n",
       "12316         2d .\n",
       "12317       2s. 2d"
      ]
     },
     "execution_count": 81,
     "metadata": {},
     "output_type": "execute_result"
    }
   ],
   "source": [
    "shake_bi_df.head()"
   ]
  },
  {
   "cell_type": "code",
   "execution_count": 82,
   "metadata": {},
   "outputs": [
    {
     "data": {
      "text/html": [
       "<div>\n",
       "<style scoped>\n",
       "    .dataframe tbody tr th:only-of-type {\n",
       "        vertical-align: middle;\n",
       "    }\n",
       "\n",
       "    .dataframe tbody tr th {\n",
       "        vertical-align: top;\n",
       "    }\n",
       "\n",
       "    .dataframe thead th {\n",
       "        text-align: right;\n",
       "    }\n",
       "</style>\n",
       "<table border=\"1\" class=\"dataframe\">\n",
       "  <thead>\n",
       "    <tr style=\"text-align: right;\">\n",
       "      <th></th>\n",
       "      <th>title</th>\n",
       "      <th>title_tokenized</th>\n",
       "      <th>title_pos</th>\n",
       "      <th>pos_tag</th>\n",
       "    </tr>\n",
       "  </thead>\n",
       "  <tbody>\n",
       "    <tr>\n",
       "      <th>78467</th>\n",
       "      <td>experience of</td>\n",
       "      <td>[experience, of]</td>\n",
       "      <td>[(experience, NN), (of, IN)]</td>\n",
       "      <td>[NN, IN]</td>\n",
       "    </tr>\n",
       "    <tr>\n",
       "      <th>133347</th>\n",
       "      <td>love rosalind</td>\n",
       "      <td>[love, rosalind]</td>\n",
       "      <td>[(love, NN), (rosalind, NN)]</td>\n",
       "      <td>[NN, NN]</td>\n",
       "    </tr>\n",
       "    <tr>\n",
       "      <th>38703</th>\n",
       "      <td>beauty by</td>\n",
       "      <td>[beauty, by]</td>\n",
       "      <td>[(beauty, NN), (by, IN)]</td>\n",
       "      <td>[NN, IN]</td>\n",
       "    </tr>\n",
       "    <tr>\n",
       "      <th>32472</th>\n",
       "      <td>as flowers</td>\n",
       "      <td>[as, flowers]</td>\n",
       "      <td>[(as, IN), (flowers, NNS)]</td>\n",
       "      <td>[IN, NNS]</td>\n",
       "    </tr>\n",
       "    <tr>\n",
       "      <th>263908</th>\n",
       "      <td>your important</td>\n",
       "      <td>[your, important]</td>\n",
       "      <td>[(your, PRP$), (important, JJ)]</td>\n",
       "      <td>[PRP$, JJ]</td>\n",
       "    </tr>\n",
       "  </tbody>\n",
       "</table>\n",
       "</div>"
      ],
      "text/plain": [
       "                 title    title_tokenized                        title_pos  \\\n",
       "78467    experience of   [experience, of]     [(experience, NN), (of, IN)]   \n",
       "133347   love rosalind   [love, rosalind]     [(love, NN), (rosalind, NN)]   \n",
       "38703        beauty by       [beauty, by]         [(beauty, NN), (by, IN)]   \n",
       "32472       as flowers      [as, flowers]       [(as, IN), (flowers, NNS)]   \n",
       "263908  your important  [your, important]  [(your, PRP$), (important, JJ)]   \n",
       "\n",
       "           pos_tag  \n",
       "78467     [NN, IN]  \n",
       "133347    [NN, NN]  \n",
       "38703     [NN, IN]  \n",
       "32472    [IN, NNS]  \n",
       "263908  [PRP$, JJ]  "
      ]
     },
     "execution_count": 82,
     "metadata": {},
     "output_type": "execute_result"
    }
   ],
   "source": [
    "shake_bi_df['title_tokenized'] = shake_bi_df['title'].apply(lambda x: twd.tokenize(x))\n",
    "shake_bi_df['title_pos'] = shake_bi_df['title_tokenized'].apply(lambda x: nltk.pos_tag(x))\n",
    "shake_bi_df['pos_tag'] = shake_bi_df['title_pos'].apply(lambda x: [i[1] for i in x])\n",
    "\n",
    "shake_bi_df.sample(5)"
   ]
  },
  {
   "cell_type": "code",
   "execution_count": 83,
   "metadata": {},
   "outputs": [
    {
     "name": "stdout",
     "output_type": "stream",
     "text": [
      "Number of fourgrams from the Shakespeare plays and sonnets DataFrame: 625445\n"
     ]
    }
   ],
   "source": [
    "n4gram_cv = CountVectorizer(ngram_range=(4,4), tokenizer=TreebankWordTokenizer().tokenize, analyzer='word')\n",
    "shake_4matrix = n4gram_cv.fit_transform(shake_df['Line'])\n",
    "\n",
    "shake_fourgrams = n4gram_cv.get_feature_names()\n",
    "\n",
    "print('Number of fourgrams from the Shakespeare plays and sonnets DataFrame:', len(shake_fourgrams))"
   ]
  },
  {
   "cell_type": "code",
   "execution_count": 84,
   "metadata": {},
   "outputs": [
    {
     "data": {
      "text/html": [
       "<div>\n",
       "<style scoped>\n",
       "    .dataframe tbody tr th:only-of-type {\n",
       "        vertical-align: middle;\n",
       "    }\n",
       "\n",
       "    .dataframe tbody tr th {\n",
       "        vertical-align: top;\n",
       "    }\n",
       "\n",
       "    .dataframe thead th {\n",
       "        text-align: right;\n",
       "    }\n",
       "</style>\n",
       "<table border=\"1\" class=\"dataframe\">\n",
       "  <thead>\n",
       "    <tr style=\"text-align: right;\">\n",
       "      <th></th>\n",
       "      <th>title</th>\n",
       "    </tr>\n",
       "  </thead>\n",
       "  <tbody>\n",
       "    <tr>\n",
       "      <th>403302</th>\n",
       "      <td>on one and other</td>\n",
       "    </tr>\n",
       "    <tr>\n",
       "      <th>155383</th>\n",
       "      <td>by proof , we</td>\n",
       "    </tr>\n",
       "    <tr>\n",
       "      <th>226564</th>\n",
       "      <td>go out then .</td>\n",
       "    </tr>\n",
       "    <tr>\n",
       "      <th>355647</th>\n",
       "      <td>moment : i do</td>\n",
       "    </tr>\n",
       "    <tr>\n",
       "      <th>510654</th>\n",
       "      <td>thee i will .</td>\n",
       "    </tr>\n",
       "  </tbody>\n",
       "</table>\n",
       "</div>"
      ],
      "text/plain": [
       "                   title\n",
       "403302  on one and other\n",
       "155383     by proof , we\n",
       "226564     go out then .\n",
       "355647     moment : i do\n",
       "510654     thee i will ."
      ]
     },
     "execution_count": 84,
     "metadata": {},
     "output_type": "execute_result"
    }
   ],
   "source": [
    "shake_tetra_df = pd.DataFrame(shake_fourgrams, columns=['title'])\n",
    "shake_tetra_df.sample(5)"
   ]
  },
  {
   "cell_type": "code",
   "execution_count": 85,
   "metadata": {},
   "outputs": [
    {
     "name": "stdout",
     "output_type": "stream",
     "text": [
      "start fourgrams: 625445\n"
     ]
    },
    {
     "data": {
      "text/plain": [
       "527705"
      ]
     },
     "execution_count": 85,
     "metadata": {},
     "output_type": "execute_result"
    }
   ],
   "source": [
    "print('start fourgrams:', shake_tetra_df.shape[0])\n",
    "\n",
    "dollar = shake_tetra_df.title.str.contains('$', regex=False)\n",
    "shake_tetra_df = shake_tetra_df[~dollar]\n",
    "\n",
    "lparen = shake_tetra_df.title.str.contains('(', regex=False)\n",
    "shake_tetra_df = shake_tetra_df[~lparen]\n",
    "\n",
    "rparen = shake_tetra_df.title.str.contains(')', regex=False)\n",
    "shake_tetra_df = shake_tetra_df[~rparen]\n",
    "\n",
    "colon = shake_tetra_df.title.str.contains(':', regex=False)\n",
    "shake_tetra_df = shake_tetra_df[~colon]\n",
    "\n",
    "semi = shake_tetra_df.title.str.contains(';', regex=False)\n",
    "shake_tetra_df = shake_tetra_df[~semi]\n",
    "\n",
    "lbrack = shake_tetra_df.title.str.contains('[', regex=False)\n",
    "shake_tetra_df = shake_tetra_df[~lbrack]\n",
    "\n",
    "rbrack = shake_tetra_df.title.str.contains(']', regex=False)\n",
    "shake_tetra_df = shake_tetra_df[~rbrack]\n",
    "\n",
    "whatisthisthing = shake_tetra_df.title.str.contains('`', regex=False)\n",
    "shake_tetra_df = shake_tetra_df[~whatisthisthing]\n",
    "\n",
    "apost = shake_tetra_df.title.str.contains(\"''\", regex=False)\n",
    "shake_tetra_df = shake_tetra_df[~apost]\n",
    "\n",
    "exclaim = shake_tetra_df.title.str.startswith('!')\n",
    "shake_tetra_df = shake_tetra_df[~exclaim]\n",
    "\n",
    "comma = shake_tetra_df.title.str.startswith(',')\n",
    "shake_tetra_df = shake_tetra_df[~comma]\n",
    "\n",
    "stapost = shake_tetra_df.title.str.startswith(\"'\")\n",
    "shake_tetra_df = shake_tetra_df[~stapost]\n",
    "\n",
    "dash = shake_tetra_df.title.str.startswith('-')\n",
    "shake_tetra_df = shake_tetra_df[~dash]\n",
    "\n",
    "period = shake_tetra_df.title.str.startswith('.')\n",
    "shake_tetra_df = shake_tetra_df[~period]\n",
    "\n",
    "shake_tetra_df.shape[0]"
   ]
  },
  {
   "cell_type": "code",
   "execution_count": 86,
   "metadata": {},
   "outputs": [
    {
     "data": {
      "text/html": [
       "<div>\n",
       "<style scoped>\n",
       "    .dataframe tbody tr th:only-of-type {\n",
       "        vertical-align: middle;\n",
       "    }\n",
       "\n",
       "    .dataframe tbody tr th {\n",
       "        vertical-align: top;\n",
       "    }\n",
       "\n",
       "    .dataframe thead th {\n",
       "        text-align: right;\n",
       "    }\n",
       "</style>\n",
       "<table border=\"1\" class=\"dataframe\">\n",
       "  <thead>\n",
       "    <tr style=\"text-align: right;\">\n",
       "      <th></th>\n",
       "      <th>title</th>\n",
       "    </tr>\n",
       "  </thead>\n",
       "  <tbody>\n",
       "    <tr>\n",
       "      <th>65584</th>\n",
       "      <td>1. a lively flourish</td>\n",
       "    </tr>\n",
       "    <tr>\n",
       "      <th>65585</th>\n",
       "      <td>10. certain ladies or</td>\n",
       "    </tr>\n",
       "    <tr>\n",
       "      <th>65586</th>\n",
       "      <td>2. then , two</td>\n",
       "    </tr>\n",
       "    <tr>\n",
       "      <th>65587</th>\n",
       "      <td>3. lord chancellor ,</td>\n",
       "    </tr>\n",
       "    <tr>\n",
       "      <th>65588</th>\n",
       "      <td>4. choristers , singing</td>\n",
       "    </tr>\n",
       "  </tbody>\n",
       "</table>\n",
       "</div>"
      ],
      "text/plain": [
       "                         title\n",
       "65584     1. a lively flourish\n",
       "65585    10. certain ladies or\n",
       "65586            2. then , two\n",
       "65587     3. lord chancellor ,\n",
       "65588  4. choristers , singing"
      ]
     },
     "execution_count": 86,
     "metadata": {},
     "output_type": "execute_result"
    }
   ],
   "source": [
    "shake_tetra_df.head()"
   ]
  },
  {
   "cell_type": "code",
   "execution_count": 87,
   "metadata": {},
   "outputs": [
    {
     "data": {
      "text/html": [
       "<div>\n",
       "<style scoped>\n",
       "    .dataframe tbody tr th:only-of-type {\n",
       "        vertical-align: middle;\n",
       "    }\n",
       "\n",
       "    .dataframe tbody tr th {\n",
       "        vertical-align: top;\n",
       "    }\n",
       "\n",
       "    .dataframe thead th {\n",
       "        text-align: right;\n",
       "    }\n",
       "</style>\n",
       "<table border=\"1\" class=\"dataframe\">\n",
       "  <thead>\n",
       "    <tr style=\"text-align: right;\">\n",
       "      <th></th>\n",
       "      <th>title</th>\n",
       "      <th>title_tokenized</th>\n",
       "      <th>title_pos</th>\n",
       "      <th>pos_tag</th>\n",
       "    </tr>\n",
       "  </thead>\n",
       "  <tbody>\n",
       "    <tr>\n",
       "      <th>305396</th>\n",
       "      <td>is pass 'd to</td>\n",
       "      <td>[is, pass, 'd, to]</td>\n",
       "      <td>[(is, VBZ), (pass, JJ), ('d, MD), (to, TO)]</td>\n",
       "      <td>[VBZ, JJ, MD, TO]</td>\n",
       "    </tr>\n",
       "    <tr>\n",
       "      <th>240443</th>\n",
       "      <td>have been a time</td>\n",
       "      <td>[have, been, a, time]</td>\n",
       "      <td>[(have, VBP), (been, VBN), (a, DT), (time, NN)]</td>\n",
       "      <td>[VBP, VBN, DT, NN]</td>\n",
       "    </tr>\n",
       "    <tr>\n",
       "      <th>394138</th>\n",
       "      <td>of human skill ,</td>\n",
       "      <td>[of, human, skill, ,]</td>\n",
       "      <td>[(of, IN), (human, JJ), (skill, NN), (,, ,)]</td>\n",
       "      <td>[IN, JJ, NN, ,]</td>\n",
       "    </tr>\n",
       "    <tr>\n",
       "      <th>585670</th>\n",
       "      <td>whereto the rather shall</td>\n",
       "      <td>[whereto, the, rather, shall]</td>\n",
       "      <td>[(whereto, VB), (the, DT), (rather, RB), (shall, MD)]</td>\n",
       "      <td>[VB, DT, RB, MD]</td>\n",
       "    </tr>\n",
       "    <tr>\n",
       "      <th>549671</th>\n",
       "      <td>to tell my tale</td>\n",
       "      <td>[to, tell, my, tale]</td>\n",
       "      <td>[(to, TO), (tell, VB), (my, PRP$), (tale, NN)]</td>\n",
       "      <td>[TO, VB, PRP$, NN]</td>\n",
       "    </tr>\n",
       "  </tbody>\n",
       "</table>\n",
       "</div>"
      ],
      "text/plain": [
       "                           title                title_tokenized  \\\n",
       "305396             is pass 'd to             [is, pass, 'd, to]   \n",
       "240443          have been a time          [have, been, a, time]   \n",
       "394138          of human skill ,          [of, human, skill, ,]   \n",
       "585670  whereto the rather shall  [whereto, the, rather, shall]   \n",
       "549671           to tell my tale           [to, tell, my, tale]   \n",
       "\n",
       "                                                    title_pos  \\\n",
       "305396            [(is, VBZ), (pass, JJ), ('d, MD), (to, TO)]   \n",
       "240443        [(have, VBP), (been, VBN), (a, DT), (time, NN)]   \n",
       "394138           [(of, IN), (human, JJ), (skill, NN), (,, ,)]   \n",
       "585670  [(whereto, VB), (the, DT), (rather, RB), (shall, MD)]   \n",
       "549671         [(to, TO), (tell, VB), (my, PRP$), (tale, NN)]   \n",
       "\n",
       "                   pos_tag  \n",
       "305396   [VBZ, JJ, MD, TO]  \n",
       "240443  [VBP, VBN, DT, NN]  \n",
       "394138     [IN, JJ, NN, ,]  \n",
       "585670    [VB, DT, RB, MD]  \n",
       "549671  [TO, VB, PRP$, NN]  "
      ]
     },
     "execution_count": 87,
     "metadata": {},
     "output_type": "execute_result"
    }
   ],
   "source": [
    "shake_tetra_df['title_tokenized'] = shake_tetra_df['title'].apply(lambda x: twd.tokenize(x))\n",
    "shake_tetra_df['title_pos'] = shake_tetra_df['title_tokenized'].apply(lambda x: nltk.pos_tag(x))\n",
    "shake_tetra_df['pos_tag'] = shake_tetra_df['title_pos'].apply(lambda x: [i[1] for i in x])\n",
    "\n",
    "shake_tetra_df.sample(5)"
   ]
  },
  {
   "cell_type": "code",
   "execution_count": 88,
   "metadata": {},
   "outputs": [],
   "source": [
    "datapath = '../data'"
   ]
  },
  {
   "cell_type": "code",
   "execution_count": 89,
   "metadata": {},
   "outputs": [],
   "source": [
    "datapath_shake_tri_df = os.path.join(datapath, 'shakespearean_trigrams.csv')\n",
    "shake_tri_df.to_csv(datapath_shake_tri_df, index=False)"
   ]
  },
  {
   "cell_type": "code",
   "execution_count": 90,
   "metadata": {},
   "outputs": [],
   "source": [
    "datapath_shake_tetra_df = os.path.join(datapath, 'shakespearean_fourgrams.csv')\n",
    "shake_tetra_df.to_csv(datapath_shake_tetra_df, index=False)"
   ]
  },
  {
   "cell_type": "code",
   "execution_count": 91,
   "metadata": {},
   "outputs": [],
   "source": [
    "datapath_shake_bi_df = os.path.join(datapath, 'shakespearean_bigrams.csv')\n",
    "shake_bi_df.to_csv(datapath_shake_bi_df, index=False)"
   ]
  },
  {
   "cell_type": "code",
   "execution_count": null,
   "metadata": {},
   "outputs": [],
   "source": []
  }
 ],
 "metadata": {
  "kernelspec": {
   "display_name": "Python 3",
   "language": "python",
   "name": "python3"
  },
  "language_info": {
   "codemirror_mode": {
    "name": "ipython",
    "version": 3
   },
   "file_extension": ".py",
   "mimetype": "text/x-python",
   "name": "python",
   "nbconvert_exporter": "python",
   "pygments_lexer": "ipython3",
   "version": "3.8.3"
  }
 },
 "nbformat": 4,
 "nbformat_minor": 4
}
