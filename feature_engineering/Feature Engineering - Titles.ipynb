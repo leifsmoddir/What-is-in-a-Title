{
 "cells": [
  {
   "cell_type": "code",
   "execution_count": 68,
   "metadata": {},
   "outputs": [],
   "source": [
    "import pandas as pd\n",
    "import numpy as np\n",
    "import os\n",
    "\n",
    "pd.set_option('display.max_colwidth', None)"
   ]
  },
  {
   "cell_type": "code",
   "execution_count": 69,
   "metadata": {},
   "outputs": [],
   "source": [
    "shake_bi = pd.read_csv('../data/shakespearean_bigrams.csv')\n",
    "shake_tri = pd.read_csv('../data/shakespearean_trigrams.csv')\n",
    "shake_four = pd.read_csv('../data/shakespearean_fourgrams.csv')"
   ]
  },
  {
   "cell_type": "code",
   "execution_count": 70,
   "metadata": {},
   "outputs": [
    {
     "data": {
      "text/html": [
       "<div>\n",
       "<style scoped>\n",
       "    .dataframe tbody tr th:only-of-type {\n",
       "        vertical-align: middle;\n",
       "    }\n",
       "\n",
       "    .dataframe tbody tr th {\n",
       "        vertical-align: top;\n",
       "    }\n",
       "\n",
       "    .dataframe thead th {\n",
       "        text-align: right;\n",
       "    }\n",
       "</style>\n",
       "<table border=\"1\" class=\"dataframe\">\n",
       "  <thead>\n",
       "    <tr style=\"text-align: right;\">\n",
       "      <th></th>\n",
       "      <th>title</th>\n",
       "      <th>title_tokenized</th>\n",
       "      <th>title_pos</th>\n",
       "      <th>pos_tag</th>\n",
       "    </tr>\n",
       "  </thead>\n",
       "  <tbody>\n",
       "    <tr>\n",
       "      <th>44492</th>\n",
       "      <td>corruption ,</td>\n",
       "      <td>['corruption', ',']</td>\n",
       "      <td>[('corruption', 'NN'), (',', ',')]</td>\n",
       "      <td>['NN', ',']</td>\n",
       "    </tr>\n",
       "    <tr>\n",
       "      <th>233581</th>\n",
       "      <td>which very</td>\n",
       "      <td>['which', 'very']</td>\n",
       "      <td>[('which', 'WDT'), ('very', 'RB')]</td>\n",
       "      <td>['WDT', 'RB']</td>\n",
       "    </tr>\n",
       "    <tr>\n",
       "      <th>103903</th>\n",
       "      <td>into lust</td>\n",
       "      <td>['into', 'lust']</td>\n",
       "      <td>[('into', 'IN'), ('lust', 'NN')]</td>\n",
       "      <td>['IN', 'NN']</td>\n",
       "    </tr>\n",
       "    <tr>\n",
       "      <th>83906</th>\n",
       "      <td>hast left</td>\n",
       "      <td>['hast', 'left']</td>\n",
       "      <td>[('hast', 'NN'), ('left', 'VBD')]</td>\n",
       "      <td>['NN', 'VBD']</td>\n",
       "    </tr>\n",
       "    <tr>\n",
       "      <th>176342</th>\n",
       "      <td>shrink up</td>\n",
       "      <td>['shrink', 'up']</td>\n",
       "      <td>[('shrink', 'VB'), ('up', 'RP')]</td>\n",
       "      <td>['VB', 'RP']</td>\n",
       "    </tr>\n",
       "  </tbody>\n",
       "</table>\n",
       "</div>"
      ],
      "text/plain": [
       "               title      title_tokenized                           title_pos  \\\n",
       "44492   corruption ,  ['corruption', ',']  [('corruption', 'NN'), (',', ',')]   \n",
       "233581    which very    ['which', 'very']  [('which', 'WDT'), ('very', 'RB')]   \n",
       "103903     into lust     ['into', 'lust']    [('into', 'IN'), ('lust', 'NN')]   \n",
       "83906      hast left     ['hast', 'left']   [('hast', 'NN'), ('left', 'VBD')]   \n",
       "176342     shrink up     ['shrink', 'up']    [('shrink', 'VB'), ('up', 'RP')]   \n",
       "\n",
       "              pos_tag  \n",
       "44492     ['NN', ',']  \n",
       "233581  ['WDT', 'RB']  \n",
       "103903   ['IN', 'NN']  \n",
       "83906   ['NN', 'VBD']  \n",
       "176342   ['VB', 'RP']  "
      ]
     },
     "execution_count": 70,
     "metadata": {},
     "output_type": "execute_result"
    }
   ],
   "source": [
    "shake_bi.sample(5)"
   ]
  },
  {
   "cell_type": "code",
   "execution_count": 71,
   "metadata": {},
   "outputs": [
    {
     "data": {
      "text/html": [
       "<div>\n",
       "<style scoped>\n",
       "    .dataframe tbody tr th:only-of-type {\n",
       "        vertical-align: middle;\n",
       "    }\n",
       "\n",
       "    .dataframe tbody tr th {\n",
       "        vertical-align: top;\n",
       "    }\n",
       "\n",
       "    .dataframe thead th {\n",
       "        text-align: right;\n",
       "    }\n",
       "</style>\n",
       "<table border=\"1\" class=\"dataframe\">\n",
       "  <thead>\n",
       "    <tr style=\"text-align: right;\">\n",
       "      <th></th>\n",
       "      <th>title</th>\n",
       "      <th>title_tokenized</th>\n",
       "      <th>title_pos</th>\n",
       "      <th>pos_tag</th>\n",
       "      <th>tokenized_len</th>\n",
       "    </tr>\n",
       "  </thead>\n",
       "  <tbody>\n",
       "    <tr>\n",
       "      <th>165729</th>\n",
       "      <td>revenges burn</td>\n",
       "      <td>['revenges', 'burn']</td>\n",
       "      <td>[('revenges', 'NNS'), ('burn', 'VBP')]</td>\n",
       "      <td>['NNS', 'VBP']</td>\n",
       "      <td>20</td>\n",
       "    </tr>\n",
       "    <tr>\n",
       "      <th>61855</th>\n",
       "      <td>even fall</td>\n",
       "      <td>['even', 'fall']</td>\n",
       "      <td>[('even', 'RB'), ('fall', 'VB')]</td>\n",
       "      <td>['RB', 'VB']</td>\n",
       "      <td>16</td>\n",
       "    </tr>\n",
       "    <tr>\n",
       "      <th>238960</th>\n",
       "      <td>with thee</td>\n",
       "      <td>['with', 'thee']</td>\n",
       "      <td>[('with', 'IN'), ('thee', 'NN')]</td>\n",
       "      <td>['IN', 'NN']</td>\n",
       "      <td>16</td>\n",
       "    </tr>\n",
       "    <tr>\n",
       "      <th>127556</th>\n",
       "      <td>more rage</td>\n",
       "      <td>['more', 'rage']</td>\n",
       "      <td>[('more', 'RBR'), ('rage', 'NN')]</td>\n",
       "      <td>['RBR', 'NN']</td>\n",
       "      <td>16</td>\n",
       "    </tr>\n",
       "    <tr>\n",
       "      <th>48443</th>\n",
       "      <td>day smile</td>\n",
       "      <td>['day', 'smile']</td>\n",
       "      <td>[('day', 'NN'), ('smile', 'VB')]</td>\n",
       "      <td>['NN', 'VB']</td>\n",
       "      <td>16</td>\n",
       "    </tr>\n",
       "  </tbody>\n",
       "</table>\n",
       "</div>"
      ],
      "text/plain": [
       "                title       title_tokenized  \\\n",
       "165729  revenges burn  ['revenges', 'burn']   \n",
       "61855       even fall      ['even', 'fall']   \n",
       "238960      with thee      ['with', 'thee']   \n",
       "127556      more rage      ['more', 'rage']   \n",
       "48443       day smile      ['day', 'smile']   \n",
       "\n",
       "                                     title_pos         pos_tag  tokenized_len  \n",
       "165729  [('revenges', 'NNS'), ('burn', 'VBP')]  ['NNS', 'VBP']             20  \n",
       "61855         [('even', 'RB'), ('fall', 'VB')]    ['RB', 'VB']             16  \n",
       "238960        [('with', 'IN'), ('thee', 'NN')]    ['IN', 'NN']             16  \n",
       "127556       [('more', 'RBR'), ('rage', 'NN')]   ['RBR', 'NN']             16  \n",
       "48443         [('day', 'NN'), ('smile', 'VB')]    ['NN', 'VB']             16  "
      ]
     },
     "execution_count": 71,
     "metadata": {},
     "output_type": "execute_result"
    }
   ],
   "source": [
    "token_count = []\n",
    "\n",
    "for title in shake_bi['title_tokenized']:\n",
    "    token_count.append(len(title))\n",
    "    \n",
    "shake_bi['tokenized_len'] = token_count\n",
    "shake_bi.sample(5)"
   ]
  },
  {
   "cell_type": "markdown",
   "metadata": {},
   "source": [
    "I first tried to count the number of POS tags in `pos_tag` and got similar results- the entire list is stored as a string. The code below will convert the `pos tag` column from a string of a list of strings to simply a list of strings."
   ]
  },
  {
   "cell_type": "code",
   "execution_count": 72,
   "metadata": {},
   "outputs": [],
   "source": [
    "bi_list = shake_bi.pos_tag.tolist()"
   ]
  },
  {
   "cell_type": "code",
   "execution_count": 73,
   "metadata": {},
   "outputs": [
    {
     "data": {
      "text/plain": [
       "[\"['NN', 'MD']\",\n",
       " \"['NN', 'VBD']\",\n",
       " \"['NN', 'NNS']\",\n",
       " \"['NN', 'IN']\",\n",
       " \"['NN', 'NN']\"]"
      ]
     },
     "execution_count": 73,
     "metadata": {},
     "output_type": "execute_result"
    }
   ],
   "source": [
    "bi_list[5000:5005]"
   ]
  },
  {
   "cell_type": "code",
   "execution_count": 74,
   "metadata": {},
   "outputs": [],
   "source": [
    "new_bi_list = [(b.replace(\"[\",\"\").replace(\"]\", \"\").replace(\"'\",\"\").split(\", \")) for b in bi_list]"
   ]
  },
  {
   "cell_type": "code",
   "execution_count": 75,
   "metadata": {},
   "outputs": [
    {
     "data": {
      "text/plain": [
       "[['NN', 'MD'], ['NN', 'VBD'], ['NN', 'NNS'], ['NN', 'IN'], ['NN', 'NN']]"
      ]
     },
     "execution_count": 75,
     "metadata": {},
     "output_type": "execute_result"
    }
   ],
   "source": [
    "new_bi_list[5000:5005]"
   ]
  },
  {
   "cell_type": "code",
   "execution_count": 76,
   "metadata": {},
   "outputs": [
    {
     "data": {
      "text/html": [
       "<div>\n",
       "<style scoped>\n",
       "    .dataframe tbody tr th:only-of-type {\n",
       "        vertical-align: middle;\n",
       "    }\n",
       "\n",
       "    .dataframe tbody tr th {\n",
       "        vertical-align: top;\n",
       "    }\n",
       "\n",
       "    .dataframe thead th {\n",
       "        text-align: right;\n",
       "    }\n",
       "</style>\n",
       "<table border=\"1\" class=\"dataframe\">\n",
       "  <thead>\n",
       "    <tr style=\"text-align: right;\">\n",
       "      <th></th>\n",
       "      <th>title</th>\n",
       "      <th>title_tokenized</th>\n",
       "      <th>title_pos</th>\n",
       "      <th>pos_tag</th>\n",
       "      <th>tokenized_len</th>\n",
       "      <th>pos</th>\n",
       "    </tr>\n",
       "  </thead>\n",
       "  <tbody>\n",
       "    <tr>\n",
       "      <th>59083</th>\n",
       "      <td>elder days</td>\n",
       "      <td>['elder', 'days']</td>\n",
       "      <td>[('elder', 'NN'), ('days', 'NNS')]</td>\n",
       "      <td>['NN', 'NNS']</td>\n",
       "      <td>17</td>\n",
       "      <td>[NN, NNS]</td>\n",
       "    </tr>\n",
       "    <tr>\n",
       "      <th>118371</th>\n",
       "      <td>lusty widow</td>\n",
       "      <td>['lusty', 'widow']</td>\n",
       "      <td>[('lusty', 'JJ'), ('widow', 'NN')]</td>\n",
       "      <td>['JJ', 'NN']</td>\n",
       "      <td>18</td>\n",
       "      <td>[JJ, NN]</td>\n",
       "    </tr>\n",
       "    <tr>\n",
       "      <th>50248</th>\n",
       "      <td>den ,</td>\n",
       "      <td>['den', ',']</td>\n",
       "      <td>[('den', 'NN'), (',', ',')]</td>\n",
       "      <td>['NN', ',']</td>\n",
       "      <td>12</td>\n",
       "      <td>[NN, ,]</td>\n",
       "    </tr>\n",
       "    <tr>\n",
       "      <th>135345</th>\n",
       "      <td>night ?</td>\n",
       "      <td>['night', '?']</td>\n",
       "      <td>[('night', 'NN'), ('?', '.')]</td>\n",
       "      <td>['NN', '.']</td>\n",
       "      <td>14</td>\n",
       "      <td>[NN, .]</td>\n",
       "    </tr>\n",
       "    <tr>\n",
       "      <th>246082</th>\n",
       "      <td>your kindest</td>\n",
       "      <td>['your', 'kindest']</td>\n",
       "      <td>[('your', 'PRP$'), ('kindest', 'JJS')]</td>\n",
       "      <td>['PRP$', 'JJS']</td>\n",
       "      <td>19</td>\n",
       "      <td>[PRP$, JJS]</td>\n",
       "    </tr>\n",
       "  </tbody>\n",
       "</table>\n",
       "</div>"
      ],
      "text/plain": [
       "               title      title_tokenized  \\\n",
       "59083     elder days    ['elder', 'days']   \n",
       "118371   lusty widow   ['lusty', 'widow']   \n",
       "50248          den ,         ['den', ',']   \n",
       "135345       night ?       ['night', '?']   \n",
       "246082  your kindest  ['your', 'kindest']   \n",
       "\n",
       "                                     title_pos          pos_tag  \\\n",
       "59083       [('elder', 'NN'), ('days', 'NNS')]    ['NN', 'NNS']   \n",
       "118371      [('lusty', 'JJ'), ('widow', 'NN')]     ['JJ', 'NN']   \n",
       "50248              [('den', 'NN'), (',', ',')]      ['NN', ',']   \n",
       "135345           [('night', 'NN'), ('?', '.')]      ['NN', '.']   \n",
       "246082  [('your', 'PRP$'), ('kindest', 'JJS')]  ['PRP$', 'JJS']   \n",
       "\n",
       "        tokenized_len          pos  \n",
       "59083              17    [NN, NNS]  \n",
       "118371             18     [JJ, NN]  \n",
       "50248              12      [NN, ,]  \n",
       "135345             14      [NN, .]  \n",
       "246082             19  [PRP$, JJS]  "
      ]
     },
     "execution_count": 76,
     "metadata": {},
     "output_type": "execute_result"
    }
   ],
   "source": [
    "shake_bi['pos'] = new_bi_list\n",
    "shake_bi.sample(5)"
   ]
  },
  {
   "cell_type": "code",
   "execution_count": 77,
   "metadata": {},
   "outputs": [
    {
     "data": {
      "text/html": [
       "<div>\n",
       "<style scoped>\n",
       "    .dataframe tbody tr th:only-of-type {\n",
       "        vertical-align: middle;\n",
       "    }\n",
       "\n",
       "    .dataframe tbody tr th {\n",
       "        vertical-align: top;\n",
       "    }\n",
       "\n",
       "    .dataframe thead th {\n",
       "        text-align: right;\n",
       "    }\n",
       "</style>\n",
       "<table border=\"1\" class=\"dataframe\">\n",
       "  <thead>\n",
       "    <tr style=\"text-align: right;\">\n",
       "      <th></th>\n",
       "      <th>title</th>\n",
       "      <th>title_tokenized</th>\n",
       "      <th>title_pos</th>\n",
       "      <th>pos_tag</th>\n",
       "      <th>tokenized_len</th>\n",
       "      <th>pos</th>\n",
       "      <th>pos_len</th>\n",
       "    </tr>\n",
       "  </thead>\n",
       "  <tbody>\n",
       "    <tr>\n",
       "      <th>232199</th>\n",
       "      <td>when he</td>\n",
       "      <td>['when', 'he']</td>\n",
       "      <td>[('when', 'WRB'), ('he', 'PRP')]</td>\n",
       "      <td>['WRB', 'PRP']</td>\n",
       "      <td>14</td>\n",
       "      <td>[WRB, PRP]</td>\n",
       "      <td>2</td>\n",
       "    </tr>\n",
       "    <tr>\n",
       "      <th>220573</th>\n",
       "      <td>two short</td>\n",
       "      <td>['two', 'short']</td>\n",
       "      <td>[('two', 'CD'), ('short', 'JJ')]</td>\n",
       "      <td>['CD', 'JJ']</td>\n",
       "      <td>16</td>\n",
       "      <td>[CD, JJ]</td>\n",
       "      <td>2</td>\n",
       "    </tr>\n",
       "    <tr>\n",
       "      <th>86619</th>\n",
       "      <td>he express</td>\n",
       "      <td>['he', 'express']</td>\n",
       "      <td>[('he', 'PRP'), ('express', 'VB')]</td>\n",
       "      <td>['PRP', 'VB']</td>\n",
       "      <td>17</td>\n",
       "      <td>[PRP, VB]</td>\n",
       "      <td>2</td>\n",
       "    </tr>\n",
       "    <tr>\n",
       "      <th>127155</th>\n",
       "      <td>more continuate</td>\n",
       "      <td>['more', 'continuate']</td>\n",
       "      <td>[('more', 'RBR'), ('continuate', 'NN')]</td>\n",
       "      <td>['RBR', 'NN']</td>\n",
       "      <td>22</td>\n",
       "      <td>[RBR, NN]</td>\n",
       "      <td>2</td>\n",
       "    </tr>\n",
       "    <tr>\n",
       "      <th>151795</th>\n",
       "      <td>paris went</td>\n",
       "      <td>['paris', 'went']</td>\n",
       "      <td>[('paris', 'NN'), ('went', 'VBD')]</td>\n",
       "      <td>['NN', 'VBD']</td>\n",
       "      <td>17</td>\n",
       "      <td>[NN, VBD]</td>\n",
       "      <td>2</td>\n",
       "    </tr>\n",
       "  </tbody>\n",
       "</table>\n",
       "</div>"
      ],
      "text/plain": [
       "                  title         title_tokenized  \\\n",
       "232199          when he          ['when', 'he']   \n",
       "220573        two short        ['two', 'short']   \n",
       "86619        he express       ['he', 'express']   \n",
       "127155  more continuate  ['more', 'continuate']   \n",
       "151795       paris went       ['paris', 'went']   \n",
       "\n",
       "                                      title_pos         pos_tag  \\\n",
       "232199         [('when', 'WRB'), ('he', 'PRP')]  ['WRB', 'PRP']   \n",
       "220573         [('two', 'CD'), ('short', 'JJ')]    ['CD', 'JJ']   \n",
       "86619        [('he', 'PRP'), ('express', 'VB')]   ['PRP', 'VB']   \n",
       "127155  [('more', 'RBR'), ('continuate', 'NN')]   ['RBR', 'NN']   \n",
       "151795       [('paris', 'NN'), ('went', 'VBD')]   ['NN', 'VBD']   \n",
       "\n",
       "        tokenized_len         pos  pos_len  \n",
       "232199             14  [WRB, PRP]        2  \n",
       "220573             16    [CD, JJ]        2  \n",
       "86619              17   [PRP, VB]        2  \n",
       "127155             22   [RBR, NN]        2  \n",
       "151795             17   [NN, VBD]        2  "
      ]
     },
     "execution_count": 77,
     "metadata": {},
     "output_type": "execute_result"
    }
   ],
   "source": [
    "pos_count = []\n",
    "\n",
    "for pos in shake_bi['pos']:\n",
    "    pos_count.append(len(pos))\n",
    "    \n",
    "shake_bi['pos_len'] = pos_count\n",
    "shake_bi.sample(5)"
   ]
  },
  {
   "cell_type": "code",
   "execution_count": 79,
   "metadata": {},
   "outputs": [
    {
     "data": {
      "text/html": [
       "<div>\n",
       "<style scoped>\n",
       "    .dataframe tbody tr th:only-of-type {\n",
       "        vertical-align: middle;\n",
       "    }\n",
       "\n",
       "    .dataframe tbody tr th {\n",
       "        vertical-align: top;\n",
       "    }\n",
       "\n",
       "    .dataframe thead th {\n",
       "        text-align: right;\n",
       "    }\n",
       "</style>\n",
       "<table border=\"1\" class=\"dataframe\">\n",
       "  <thead>\n",
       "    <tr style=\"text-align: right;\">\n",
       "      <th></th>\n",
       "      <th>title</th>\n",
       "      <th>title_tokenized</th>\n",
       "      <th>pos_tag</th>\n",
       "      <th>pos</th>\n",
       "      <th>pos_len</th>\n",
       "    </tr>\n",
       "  </thead>\n",
       "  <tbody>\n",
       "    <tr>\n",
       "      <th>0</th>\n",
       "      <td>1. a</td>\n",
       "      <td>['1.', 'a']</td>\n",
       "      <td>['CD', 'DT']</td>\n",
       "      <td>[CD, DT]</td>\n",
       "      <td>2</td>\n",
       "    </tr>\n",
       "    <tr>\n",
       "      <th>1</th>\n",
       "      <td>10. certain</td>\n",
       "      <td>['10.', 'certain']</td>\n",
       "      <td>['CD', 'JJ']</td>\n",
       "      <td>[CD, JJ]</td>\n",
       "      <td>2</td>\n",
       "    </tr>\n",
       "    <tr>\n",
       "      <th>2</th>\n",
       "      <td>2. then</td>\n",
       "      <td>['2.', 'then']</td>\n",
       "      <td>['CD', 'RB']</td>\n",
       "      <td>[CD, RB]</td>\n",
       "      <td>2</td>\n",
       "    </tr>\n",
       "    <tr>\n",
       "      <th>3</th>\n",
       "      <td>2d .</td>\n",
       "      <td>['2d', '.']</td>\n",
       "      <td>['CD', '.']</td>\n",
       "      <td>[CD, .]</td>\n",
       "      <td>2</td>\n",
       "    </tr>\n",
       "    <tr>\n",
       "      <th>4</th>\n",
       "      <td>2s. 2d</td>\n",
       "      <td>['2s.', '2d']</td>\n",
       "      <td>['CD', 'CD']</td>\n",
       "      <td>[CD, CD]</td>\n",
       "      <td>2</td>\n",
       "    </tr>\n",
       "  </tbody>\n",
       "</table>\n",
       "</div>"
      ],
      "text/plain": [
       "         title     title_tokenized       pos_tag       pos  pos_len\n",
       "0         1. a         ['1.', 'a']  ['CD', 'DT']  [CD, DT]        2\n",
       "1  10. certain  ['10.', 'certain']  ['CD', 'JJ']  [CD, JJ]        2\n",
       "2      2. then      ['2.', 'then']  ['CD', 'RB']  [CD, RB]        2\n",
       "3         2d .         ['2d', '.']   ['CD', '.']   [CD, .]        2\n",
       "4       2s. 2d       ['2s.', '2d']  ['CD', 'CD']  [CD, CD]        2"
      ]
     },
     "execution_count": 79,
     "metadata": {},
     "output_type": "execute_result"
    }
   ],
   "source": [
    "shake_bi.drop(columns=['title_pos', 'tokenized_len'], inplace=True)\n",
    "shake_bi.head()"
   ]
  },
  {
   "cell_type": "code",
   "execution_count": 80,
   "metadata": {},
   "outputs": [
    {
     "data": {
      "text/plain": [
       "2    242601\n",
       "3      4707\n",
       "4        57\n",
       "Name: pos_len, dtype: int64"
      ]
     },
     "execution_count": 80,
     "metadata": {},
     "output_type": "execute_result"
    }
   ],
   "source": [
    "shake_bi.pos_len.value_counts()"
   ]
  },
  {
   "cell_type": "markdown",
   "metadata": {},
   "source": [
    "I suspected that punctuation would cause 2+ POS tags. I will remove these, and consider adding to the tri- and fourgram datasets"
   ]
  },
  {
   "cell_type": "code",
   "execution_count": 81,
   "metadata": {},
   "outputs": [
    {
     "data": {
      "text/plain": [
       "(4707, 5)"
      ]
     },
     "execution_count": 81,
     "metadata": {},
     "output_type": "execute_result"
    }
   ],
   "source": [
    "tri_not_bi = shake_bi[shake_bi['pos_len']==3]\n",
    "tri_not_bi.shape"
   ]
  },
  {
   "cell_type": "code",
   "execution_count": 82,
   "metadata": {},
   "outputs": [
    {
     "data": {
      "text/plain": [
       "(57, 5)"
      ]
     },
     "execution_count": 82,
     "metadata": {},
     "output_type": "execute_result"
    }
   ],
   "source": [
    "four_not_bi = shake_bi[shake_bi['pos_len']==4]\n",
    "four_not_bi.shape"
   ]
  },
  {
   "cell_type": "code",
   "execution_count": 84,
   "metadata": {},
   "outputs": [
    {
     "data": {
      "text/html": [
       "<div>\n",
       "<style scoped>\n",
       "    .dataframe tbody tr th:only-of-type {\n",
       "        vertical-align: middle;\n",
       "    }\n",
       "\n",
       "    .dataframe tbody tr th {\n",
       "        vertical-align: top;\n",
       "    }\n",
       "\n",
       "    .dataframe thead th {\n",
       "        text-align: right;\n",
       "    }\n",
       "</style>\n",
       "<table border=\"1\" class=\"dataframe\">\n",
       "  <thead>\n",
       "    <tr style=\"text-align: right;\">\n",
       "      <th></th>\n",
       "      <th>title</th>\n",
       "      <th>title_tokenized</th>\n",
       "      <th>pos_tag</th>\n",
       "      <th>pos</th>\n",
       "      <th>pos_len</th>\n",
       "    </tr>\n",
       "  </thead>\n",
       "  <tbody>\n",
       "    <tr>\n",
       "      <th>157013</th>\n",
       "      <td>potent art.</td>\n",
       "      <td>['potent', 'art', '.']</td>\n",
       "      <td>['JJ', 'NN', '.']</td>\n",
       "      <td>[JJ, NN, .]</td>\n",
       "      <td>3</td>\n",
       "    </tr>\n",
       "    <tr>\n",
       "      <th>171217</th>\n",
       "      <td>see one.</td>\n",
       "      <td>['see', 'one', '.']</td>\n",
       "      <td>['VB', 'CD', '.']</td>\n",
       "      <td>[VB, CD, .]</td>\n",
       "      <td>3</td>\n",
       "    </tr>\n",
       "    <tr>\n",
       "      <th>197026</th>\n",
       "      <td>the fire.</td>\n",
       "      <td>['the', 'fire', '.']</td>\n",
       "      <td>['DT', 'NN', '.']</td>\n",
       "      <td>[DT, NN, .]</td>\n",
       "      <td>3</td>\n",
       "    </tr>\n",
       "    <tr>\n",
       "      <th>119321</th>\n",
       "      <td>make faults.</td>\n",
       "      <td>['make', 'faults', '.']</td>\n",
       "      <td>['NN', 'NNS', '.']</td>\n",
       "      <td>[NN, NNS, .]</td>\n",
       "      <td>3</td>\n",
       "    </tr>\n",
       "    <tr>\n",
       "      <th>195224</th>\n",
       "      <td>the 'scape.</td>\n",
       "      <td>['the', \"'scape\", '.']</td>\n",
       "      <td>['DT', 'NN', '.']</td>\n",
       "      <td>[DT, NN, .]</td>\n",
       "      <td>3</td>\n",
       "    </tr>\n",
       "  </tbody>\n",
       "</table>\n",
       "</div>"
      ],
      "text/plain": [
       "               title          title_tokenized             pos_tag  \\\n",
       "157013   potent art.   ['potent', 'art', '.']   ['JJ', 'NN', '.']   \n",
       "171217      see one.      ['see', 'one', '.']   ['VB', 'CD', '.']   \n",
       "197026     the fire.     ['the', 'fire', '.']   ['DT', 'NN', '.']   \n",
       "119321  make faults.  ['make', 'faults', '.']  ['NN', 'NNS', '.']   \n",
       "195224   the 'scape.   ['the', \"'scape\", '.']   ['DT', 'NN', '.']   \n",
       "\n",
       "                 pos  pos_len  \n",
       "157013   [JJ, NN, .]        3  \n",
       "171217   [VB, CD, .]        3  \n",
       "197026   [DT, NN, .]        3  \n",
       "119321  [NN, NNS, .]        3  \n",
       "195224   [DT, NN, .]        3  "
      ]
     },
     "execution_count": 84,
     "metadata": {},
     "output_type": "execute_result"
    }
   ],
   "source": [
    "tri_not_bi.sample(5)"
   ]
  },
  {
   "cell_type": "code",
   "execution_count": 86,
   "metadata": {},
   "outputs": [
    {
     "data": {
      "text/html": [
       "<div>\n",
       "<style scoped>\n",
       "    .dataframe tbody tr th:only-of-type {\n",
       "        vertical-align: middle;\n",
       "    }\n",
       "\n",
       "    .dataframe tbody tr th {\n",
       "        vertical-align: top;\n",
       "    }\n",
       "\n",
       "    .dataframe thead th {\n",
       "        text-align: right;\n",
       "    }\n",
       "</style>\n",
       "<table border=\"1\" class=\"dataframe\">\n",
       "  <thead>\n",
       "    <tr style=\"text-align: right;\">\n",
       "      <th></th>\n",
       "      <th>title</th>\n",
       "      <th>title_tokenized</th>\n",
       "      <th>pos_tag</th>\n",
       "      <th>pos</th>\n",
       "      <th>pos_len</th>\n",
       "    </tr>\n",
       "  </thead>\n",
       "  <tbody>\n",
       "    <tr>\n",
       "      <th>247286</th>\n",
       "      <td>youth suffer'd.</td>\n",
       "      <td>['youth', 'suffer', \"'d\", '.']</td>\n",
       "      <td>['NN', 'NN', 'POS', '.']</td>\n",
       "      <td>[NN, NN, POS, .]</td>\n",
       "      <td>4</td>\n",
       "    </tr>\n",
       "    <tr>\n",
       "      <th>80406</th>\n",
       "      <td>great p's.</td>\n",
       "      <td>['great', 'p', \"'s\", '.']</td>\n",
       "      <td>['JJ', 'NN', 'POS', '.']</td>\n",
       "      <td>[JJ, NN, POS, .]</td>\n",
       "      <td>4</td>\n",
       "    </tr>\n",
       "    <tr>\n",
       "      <th>212420</th>\n",
       "      <td>thy master's.</td>\n",
       "      <td>['thy', 'master', \"'s\", '.']</td>\n",
       "      <td>['JJ', 'NN', 'POS', '.']</td>\n",
       "      <td>[JJ, NN, POS, .]</td>\n",
       "      <td>4</td>\n",
       "    </tr>\n",
       "    <tr>\n",
       "      <th>51484</th>\n",
       "      <td>diamonds dropp'd.</td>\n",
       "      <td>['diamonds', 'dropp', \"'d\", '.']</td>\n",
       "      <td>['NNS', 'JJ', 'MD', '.']</td>\n",
       "      <td>[NNS, JJ, MD, .]</td>\n",
       "      <td>4</td>\n",
       "    </tr>\n",
       "    <tr>\n",
       "      <th>19175</th>\n",
       "      <td>as paul's.</td>\n",
       "      <td>['as', 'paul', \"'s\", '.']</td>\n",
       "      <td>['IN', 'NN', 'POS', '.']</td>\n",
       "      <td>[IN, NN, POS, .]</td>\n",
       "      <td>4</td>\n",
       "    </tr>\n",
       "  </tbody>\n",
       "</table>\n",
       "</div>"
      ],
      "text/plain": [
       "                    title                   title_tokenized  \\\n",
       "247286    youth suffer'd.    ['youth', 'suffer', \"'d\", '.']   \n",
       "80406          great p's.         ['great', 'p', \"'s\", '.']   \n",
       "212420      thy master's.      ['thy', 'master', \"'s\", '.']   \n",
       "51484   diamonds dropp'd.  ['diamonds', 'dropp', \"'d\", '.']   \n",
       "19175          as paul's.         ['as', 'paul', \"'s\", '.']   \n",
       "\n",
       "                         pos_tag               pos  pos_len  \n",
       "247286  ['NN', 'NN', 'POS', '.']  [NN, NN, POS, .]        4  \n",
       "80406   ['JJ', 'NN', 'POS', '.']  [JJ, NN, POS, .]        4  \n",
       "212420  ['JJ', 'NN', 'POS', '.']  [JJ, NN, POS, .]        4  \n",
       "51484   ['NNS', 'JJ', 'MD', '.']  [NNS, JJ, MD, .]        4  \n",
       "19175   ['IN', 'NN', 'POS', '.']  [IN, NN, POS, .]        4  "
      ]
     },
     "execution_count": 86,
     "metadata": {},
     "output_type": "execute_result"
    }
   ],
   "source": [
    "four_not_bi.sample(5)"
   ]
  },
  {
   "cell_type": "code",
   "execution_count": 102,
   "metadata": {},
   "outputs": [
    {
     "data": {
      "text/plain": [
       "[['JJ', 'VBZ'], ['JJ', 'NN'], ['JJ', ','], ['IN', '.'], ['IN', '\"\"']]"
      ]
     },
     "execution_count": 102,
     "metadata": {},
     "output_type": "execute_result"
    }
   ],
   "source": [
    "pos_list = shake_bi.pos.tolist()\n",
    "pos_list[6000:6005]"
   ]
  },
  {
   "cell_type": "code",
   "execution_count": 107,
   "metadata": {},
   "outputs": [
    {
     "data": {
      "text/html": [
       "<div>\n",
       "<style scoped>\n",
       "    .dataframe tbody tr th:only-of-type {\n",
       "        vertical-align: middle;\n",
       "    }\n",
       "\n",
       "    .dataframe tbody tr th {\n",
       "        vertical-align: top;\n",
       "    }\n",
       "\n",
       "    .dataframe thead th {\n",
       "        text-align: right;\n",
       "    }\n",
       "</style>\n",
       "<table border=\"1\" class=\"dataframe\">\n",
       "  <thead>\n",
       "    <tr style=\"text-align: right;\">\n",
       "      <th></th>\n",
       "      <th>title</th>\n",
       "      <th>title_tokenized</th>\n",
       "      <th>pos_tag</th>\n",
       "      <th>pos</th>\n",
       "      <th>pos_len</th>\n",
       "      <th>pos1</th>\n",
       "      <th>pos2</th>\n",
       "    </tr>\n",
       "  </thead>\n",
       "  <tbody>\n",
       "    <tr>\n",
       "      <th>232077</th>\n",
       "      <td>when ,</td>\n",
       "      <td>['when', ',']</td>\n",
       "      <td>['WRB', ',']</td>\n",
       "      <td>[WRB, ,]</td>\n",
       "      <td>2</td>\n",
       "      <td>WRB</td>\n",
       "      <td>,</td>\n",
       "    </tr>\n",
       "    <tr>\n",
       "      <th>172022</th>\n",
       "      <td>senators descend</td>\n",
       "      <td>['senators', 'descend']</td>\n",
       "      <td>['NNS', 'VBP']</td>\n",
       "      <td>[NNS, VBP]</td>\n",
       "      <td>2</td>\n",
       "      <td>NNS</td>\n",
       "      <td>VBP</td>\n",
       "    </tr>\n",
       "    <tr>\n",
       "      <th>133212</th>\n",
       "      <td>named sebastian</td>\n",
       "      <td>['named', 'sebastian']</td>\n",
       "      <td>['VBN', 'JJ']</td>\n",
       "      <td>[VBN, JJ]</td>\n",
       "      <td>2</td>\n",
       "      <td>VBN</td>\n",
       "      <td>JJ</td>\n",
       "    </tr>\n",
       "    <tr>\n",
       "      <th>39105</th>\n",
       "      <td>cheerly on</td>\n",
       "      <td>['cheerly', 'on']</td>\n",
       "      <td>['RB', 'IN']</td>\n",
       "      <td>[RB, IN]</td>\n",
       "      <td>2</td>\n",
       "      <td>RB</td>\n",
       "      <td>IN</td>\n",
       "    </tr>\n",
       "    <tr>\n",
       "      <th>59882</th>\n",
       "      <td>ends this</td>\n",
       "      <td>['ends', 'this']</td>\n",
       "      <td>['NNS', 'DT']</td>\n",
       "      <td>[NNS, DT]</td>\n",
       "      <td>2</td>\n",
       "      <td>NNS</td>\n",
       "      <td>DT</td>\n",
       "    </tr>\n",
       "  </tbody>\n",
       "</table>\n",
       "</div>"
      ],
      "text/plain": [
       "                   title          title_tokenized         pos_tag         pos  \\\n",
       "232077            when ,            ['when', ',']    ['WRB', ',']    [WRB, ,]   \n",
       "172022  senators descend  ['senators', 'descend']  ['NNS', 'VBP']  [NNS, VBP]   \n",
       "133212   named sebastian   ['named', 'sebastian']   ['VBN', 'JJ']   [VBN, JJ]   \n",
       "39105         cheerly on        ['cheerly', 'on']    ['RB', 'IN']    [RB, IN]   \n",
       "59882          ends this         ['ends', 'this']   ['NNS', 'DT']   [NNS, DT]   \n",
       "\n",
       "        pos_len pos1 pos2  \n",
       "232077        2  WRB    ,  \n",
       "172022        2  NNS  VBP  \n",
       "133212        2  VBN   JJ  \n",
       "39105         2   RB   IN  \n",
       "59882         2  NNS   DT  "
      ]
     },
     "execution_count": 107,
     "metadata": {},
     "output_type": "execute_result"
    }
   ],
   "source": [
    "pos1 = []\n",
    "pos2 = []\n",
    "\n",
    "for i in pos_list:\n",
    "    pos1.append(i[0])\n",
    "    pos2.append(i[1])\n",
    "    \n",
    "shake_bi['pos1'] = pos1\n",
    "shake_bi['pos2'] = pos2\n",
    "\n",
    "shake_bi.sample(5)"
   ]
  },
  {
   "cell_type": "markdown",
   "metadata": {},
   "source": [
    "Do the same thing with the the trigrams"
   ]
  },
  {
   "cell_type": "code",
   "execution_count": 109,
   "metadata": {},
   "outputs": [
    {
     "data": {
      "text/html": [
       "<div>\n",
       "<style scoped>\n",
       "    .dataframe tbody tr th:only-of-type {\n",
       "        vertical-align: middle;\n",
       "    }\n",
       "\n",
       "    .dataframe tbody tr th {\n",
       "        vertical-align: top;\n",
       "    }\n",
       "\n",
       "    .dataframe thead th {\n",
       "        text-align: right;\n",
       "    }\n",
       "</style>\n",
       "<table border=\"1\" class=\"dataframe\">\n",
       "  <thead>\n",
       "    <tr style=\"text-align: right;\">\n",
       "      <th></th>\n",
       "      <th>title</th>\n",
       "      <th>title_tokenized</th>\n",
       "      <th>title_pos</th>\n",
       "      <th>pos_tag</th>\n",
       "    </tr>\n",
       "  </thead>\n",
       "  <tbody>\n",
       "    <tr>\n",
       "      <th>187034</th>\n",
       "      <td>i give thy</td>\n",
       "      <td>['i', 'give', 'thy']</td>\n",
       "      <td>[('i', 'RB'), ('give', 'VBP'), ('thy', 'NN')]</td>\n",
       "      <td>['RB', 'VBP', 'NN']</td>\n",
       "    </tr>\n",
       "    <tr>\n",
       "      <th>43862</th>\n",
       "      <td>as it appears</td>\n",
       "      <td>['as', 'it', 'appears']</td>\n",
       "      <td>[('as', 'IN'), ('it', 'PRP'), ('appears', 'VBZ')]</td>\n",
       "      <td>['IN', 'PRP', 'VBZ']</td>\n",
       "    </tr>\n",
       "    <tr>\n",
       "      <th>183879</th>\n",
       "      <td>i ' faith</td>\n",
       "      <td>['i', \"'\", 'faith']</td>\n",
       "      <td>[('i', 'NN'), (\"'\", \"''\"), ('faith', 'NN')]</td>\n",
       "      <td>['NN', \"''\", 'NN']</td>\n",
       "    </tr>\n",
       "    <tr>\n",
       "      <th>296568</th>\n",
       "      <td>or dane ,</td>\n",
       "      <td>['or', 'dane', ',']</td>\n",
       "      <td>[('or', 'CC'), ('dane', 'NN'), (',', ',')]</td>\n",
       "      <td>['CC', 'NN', ',']</td>\n",
       "    </tr>\n",
       "    <tr>\n",
       "      <th>280829</th>\n",
       "      <td>o strange !</td>\n",
       "      <td>['o', 'strange', '!']</td>\n",
       "      <td>[('o', 'JJ'), ('strange', 'NN'), ('!', '.')]</td>\n",
       "      <td>['JJ', 'NN', '.']</td>\n",
       "    </tr>\n",
       "  </tbody>\n",
       "</table>\n",
       "</div>"
      ],
      "text/plain": [
       "                title          title_tokenized  \\\n",
       "187034     i give thy     ['i', 'give', 'thy']   \n",
       "43862   as it appears  ['as', 'it', 'appears']   \n",
       "183879      i ' faith      ['i', \"'\", 'faith']   \n",
       "296568      or dane ,      ['or', 'dane', ',']   \n",
       "280829    o strange !    ['o', 'strange', '!']   \n",
       "\n",
       "                                                title_pos  \\\n",
       "187034      [('i', 'RB'), ('give', 'VBP'), ('thy', 'NN')]   \n",
       "43862   [('as', 'IN'), ('it', 'PRP'), ('appears', 'VBZ')]   \n",
       "183879        [('i', 'NN'), (\"'\", \"''\"), ('faith', 'NN')]   \n",
       "296568         [('or', 'CC'), ('dane', 'NN'), (',', ',')]   \n",
       "280829       [('o', 'JJ'), ('strange', 'NN'), ('!', '.')]   \n",
       "\n",
       "                     pos_tag  \n",
       "187034   ['RB', 'VBP', 'NN']  \n",
       "43862   ['IN', 'PRP', 'VBZ']  \n",
       "183879    ['NN', \"''\", 'NN']  \n",
       "296568     ['CC', 'NN', ',']  \n",
       "280829     ['JJ', 'NN', '.']  "
      ]
     },
     "execution_count": 109,
     "metadata": {},
     "output_type": "execute_result"
    }
   ],
   "source": [
    "shake_tri.sample(5)"
   ]
  },
  {
   "cell_type": "code",
   "execution_count": 110,
   "metadata": {},
   "outputs": [],
   "source": [
    "tri_list = shake_tri.pos_tag.tolist()"
   ]
  },
  {
   "cell_type": "code",
   "execution_count": 112,
   "metadata": {},
   "outputs": [
    {
     "data": {
      "text/plain": [
       "[\"['DT', 'NN', 'POS']\",\n",
       " \"['DT', 'NN', ',']\",\n",
       " \"['DT', 'NN', '.']\",\n",
       " \"['DT', 'JJ', '.']\",\n",
       " \"['DT', 'JJ', 'NN']\"]"
      ]
     },
     "execution_count": 112,
     "metadata": {},
     "output_type": "execute_result"
    }
   ],
   "source": [
    "tri_list[7000:7005]"
   ]
  },
  {
   "cell_type": "code",
   "execution_count": 113,
   "metadata": {},
   "outputs": [],
   "source": [
    "new_tri_list = [(t.replace(\"[\",\"\").replace(\"]\", \"\").replace(\"'\",\"\").split(\", \")) for t in tri_list]"
   ]
  },
  {
   "cell_type": "code",
   "execution_count": 114,
   "metadata": {},
   "outputs": [
    {
     "data": {
      "text/plain": [
       "[['DT', 'NN', 'POS'],\n",
       " ['DT', 'NN', ','],\n",
       " ['DT', 'NN', '.'],\n",
       " ['DT', 'JJ', '.'],\n",
       " ['DT', 'JJ', 'NN']]"
      ]
     },
     "execution_count": 114,
     "metadata": {},
     "output_type": "execute_result"
    }
   ],
   "source": [
    "new_tri_list[7000:7005]"
   ]
  },
  {
   "cell_type": "code",
   "execution_count": 115,
   "metadata": {},
   "outputs": [
    {
     "data": {
      "text/html": [
       "<div>\n",
       "<style scoped>\n",
       "    .dataframe tbody tr th:only-of-type {\n",
       "        vertical-align: middle;\n",
       "    }\n",
       "\n",
       "    .dataframe tbody tr th {\n",
       "        vertical-align: top;\n",
       "    }\n",
       "\n",
       "    .dataframe thead th {\n",
       "        text-align: right;\n",
       "    }\n",
       "</style>\n",
       "<table border=\"1\" class=\"dataframe\">\n",
       "  <thead>\n",
       "    <tr style=\"text-align: right;\">\n",
       "      <th></th>\n",
       "      <th>title</th>\n",
       "      <th>title_tokenized</th>\n",
       "      <th>title_pos</th>\n",
       "      <th>pos_tag</th>\n",
       "      <th>pos</th>\n",
       "    </tr>\n",
       "  </thead>\n",
       "  <tbody>\n",
       "    <tr>\n",
       "      <th>228673</th>\n",
       "      <td>little axe ,</td>\n",
       "      <td>['little', 'axe', ',']</td>\n",
       "      <td>[('little', 'JJ'), ('axe', 'NN'), (',', ',')]</td>\n",
       "      <td>['JJ', 'NN', ',']</td>\n",
       "      <td>[JJ, NN, ,]</td>\n",
       "    </tr>\n",
       "    <tr>\n",
       "      <th>268708</th>\n",
       "      <td>no countermand for</td>\n",
       "      <td>['no', 'countermand', 'for']</td>\n",
       "      <td>[('no', 'DT'), ('countermand', 'NN'), ('for', 'IN')]</td>\n",
       "      <td>['DT', 'NN', 'IN']</td>\n",
       "      <td>[DT, NN, IN]</td>\n",
       "    </tr>\n",
       "    <tr>\n",
       "      <th>473117</th>\n",
       "      <td>with those infirmities</td>\n",
       "      <td>['with', 'those', 'infirmities']</td>\n",
       "      <td>[('with', 'IN'), ('those', 'DT'), ('infirmities', 'NNS')]</td>\n",
       "      <td>['IN', 'DT', 'NNS']</td>\n",
       "      <td>[IN, DT, NNS]</td>\n",
       "    </tr>\n",
       "    <tr>\n",
       "      <th>3411</th>\n",
       "      <td>a double majesty</td>\n",
       "      <td>['a', 'double', 'majesty']</td>\n",
       "      <td>[('a', 'DT'), ('double', 'JJ'), ('majesty', 'NN')]</td>\n",
       "      <td>['DT', 'JJ', 'NN']</td>\n",
       "      <td>[DT, JJ, NN]</td>\n",
       "    </tr>\n",
       "    <tr>\n",
       "      <th>440989</th>\n",
       "      <td>v. london. the</td>\n",
       "      <td>['v.', 'london.', 'the']</td>\n",
       "      <td>[('v.', 'NN'), ('london.', 'VBZ'), ('the', 'DT')]</td>\n",
       "      <td>['NN', 'VBZ', 'DT']</td>\n",
       "      <td>[NN, VBZ, DT]</td>\n",
       "    </tr>\n",
       "  </tbody>\n",
       "</table>\n",
       "</div>"
      ],
      "text/plain": [
       "                         title                   title_tokenized  \\\n",
       "228673            little axe ,            ['little', 'axe', ',']   \n",
       "268708      no countermand for      ['no', 'countermand', 'for']   \n",
       "473117  with those infirmities  ['with', 'those', 'infirmities']   \n",
       "3411          a double majesty        ['a', 'double', 'majesty']   \n",
       "440989          v. london. the          ['v.', 'london.', 'the']   \n",
       "\n",
       "                                                        title_pos  \\\n",
       "228673              [('little', 'JJ'), ('axe', 'NN'), (',', ',')]   \n",
       "268708       [('no', 'DT'), ('countermand', 'NN'), ('for', 'IN')]   \n",
       "473117  [('with', 'IN'), ('those', 'DT'), ('infirmities', 'NNS')]   \n",
       "3411           [('a', 'DT'), ('double', 'JJ'), ('majesty', 'NN')]   \n",
       "440989          [('v.', 'NN'), ('london.', 'VBZ'), ('the', 'DT')]   \n",
       "\n",
       "                    pos_tag            pos  \n",
       "228673    ['JJ', 'NN', ',']    [JJ, NN, ,]  \n",
       "268708   ['DT', 'NN', 'IN']   [DT, NN, IN]  \n",
       "473117  ['IN', 'DT', 'NNS']  [IN, DT, NNS]  \n",
       "3411     ['DT', 'JJ', 'NN']   [DT, JJ, NN]  \n",
       "440989  ['NN', 'VBZ', 'DT']  [NN, VBZ, DT]  "
      ]
     },
     "execution_count": 115,
     "metadata": {},
     "output_type": "execute_result"
    }
   ],
   "source": [
    "shake_tri['pos'] = new_tri_list\n",
    "shake_tri.sample(5)"
   ]
  },
  {
   "cell_type": "code",
   "execution_count": 116,
   "metadata": {},
   "outputs": [
    {
     "data": {
      "text/html": [
       "<div>\n",
       "<style scoped>\n",
       "    .dataframe tbody tr th:only-of-type {\n",
       "        vertical-align: middle;\n",
       "    }\n",
       "\n",
       "    .dataframe tbody tr th {\n",
       "        vertical-align: top;\n",
       "    }\n",
       "\n",
       "    .dataframe thead th {\n",
       "        text-align: right;\n",
       "    }\n",
       "</style>\n",
       "<table border=\"1\" class=\"dataframe\">\n",
       "  <thead>\n",
       "    <tr style=\"text-align: right;\">\n",
       "      <th></th>\n",
       "      <th>title</th>\n",
       "      <th>title_tokenized</th>\n",
       "      <th>title_pos</th>\n",
       "      <th>pos_tag</th>\n",
       "      <th>pos</th>\n",
       "      <th>pos_len</th>\n",
       "    </tr>\n",
       "  </thead>\n",
       "  <tbody>\n",
       "    <tr>\n",
       "      <th>48228</th>\n",
       "      <td>aufidius. marcius fights</td>\n",
       "      <td>['aufidius.', 'marcius', 'fights']</td>\n",
       "      <td>[('aufidius.', 'NN'), ('marcius', 'NN'), ('fights', 'NNS')]</td>\n",
       "      <td>['NN', 'NN', 'NNS']</td>\n",
       "      <td>[NN, NN, NNS]</td>\n",
       "      <td>3</td>\n",
       "    </tr>\n",
       "    <tr>\n",
       "      <th>19190</th>\n",
       "      <td>am proud ,</td>\n",
       "      <td>['am', 'proud', ',']</td>\n",
       "      <td>[('am', 'VBP'), ('proud', 'NN'), (',', ',')]</td>\n",
       "      <td>['VBP', 'NN', ',']</td>\n",
       "      <td>[VBP, NN, ,]</td>\n",
       "      <td>3</td>\n",
       "    </tr>\n",
       "    <tr>\n",
       "      <th>227224</th>\n",
       "      <td>like angels of</td>\n",
       "      <td>['like', 'angels', 'of']</td>\n",
       "      <td>[('like', 'IN'), ('angels', 'NNS'), ('of', 'IN')]</td>\n",
       "      <td>['IN', 'NNS', 'IN']</td>\n",
       "      <td>[IN, NNS, IN]</td>\n",
       "      <td>3</td>\n",
       "    </tr>\n",
       "    <tr>\n",
       "      <th>89765</th>\n",
       "      <td>country from calamity</td>\n",
       "      <td>['country', 'from', 'calamity']</td>\n",
       "      <td>[('country', 'NN'), ('from', 'IN'), ('calamity', 'NN')]</td>\n",
       "      <td>['NN', 'IN', 'NN']</td>\n",
       "      <td>[NN, IN, NN]</td>\n",
       "      <td>3</td>\n",
       "    </tr>\n",
       "    <tr>\n",
       "      <th>491109</th>\n",
       "      <td>your oaths are</td>\n",
       "      <td>['your', 'oaths', 'are']</td>\n",
       "      <td>[('your', 'PRP$'), ('oaths', 'NNS'), ('are', 'VBP')]</td>\n",
       "      <td>['PRP$', 'NNS', 'VBP']</td>\n",
       "      <td>[PRP$, NNS, VBP]</td>\n",
       "      <td>3</td>\n",
       "    </tr>\n",
       "  </tbody>\n",
       "</table>\n",
       "</div>"
      ],
      "text/plain": [
       "                           title                     title_tokenized  \\\n",
       "48228   aufidius. marcius fights  ['aufidius.', 'marcius', 'fights']   \n",
       "19190                 am proud ,                ['am', 'proud', ',']   \n",
       "227224            like angels of            ['like', 'angels', 'of']   \n",
       "89765      country from calamity     ['country', 'from', 'calamity']   \n",
       "491109            your oaths are            ['your', 'oaths', 'are']   \n",
       "\n",
       "                                                          title_pos  \\\n",
       "48228   [('aufidius.', 'NN'), ('marcius', 'NN'), ('fights', 'NNS')]   \n",
       "19190                  [('am', 'VBP'), ('proud', 'NN'), (',', ',')]   \n",
       "227224            [('like', 'IN'), ('angels', 'NNS'), ('of', 'IN')]   \n",
       "89765       [('country', 'NN'), ('from', 'IN'), ('calamity', 'NN')]   \n",
       "491109         [('your', 'PRP$'), ('oaths', 'NNS'), ('are', 'VBP')]   \n",
       "\n",
       "                       pos_tag               pos  pos_len  \n",
       "48228      ['NN', 'NN', 'NNS']     [NN, NN, NNS]        3  \n",
       "19190       ['VBP', 'NN', ',']      [VBP, NN, ,]        3  \n",
       "227224     ['IN', 'NNS', 'IN']     [IN, NNS, IN]        3  \n",
       "89765       ['NN', 'IN', 'NN']      [NN, IN, NN]        3  \n",
       "491109  ['PRP$', 'NNS', 'VBP']  [PRP$, NNS, VBP]        3  "
      ]
     },
     "execution_count": 116,
     "metadata": {},
     "output_type": "execute_result"
    }
   ],
   "source": [
    "pos_count = []\n",
    "\n",
    "for pos in shake_tri['pos']:\n",
    "    pos_count.append(len(pos))\n",
    "    \n",
    "shake_tri['pos_len'] = pos_count\n",
    "shake_tri.sample(5)"
   ]
  },
  {
   "cell_type": "code",
   "execution_count": 117,
   "metadata": {},
   "outputs": [
    {
     "data": {
      "text/plain": [
       "3    488003\n",
       "4      4995\n",
       "5        55\n",
       "Name: pos_len, dtype: int64"
      ]
     },
     "execution_count": 117,
     "metadata": {},
     "output_type": "execute_result"
    }
   ],
   "source": [
    "shake_tri.pos_len.value_counts()"
   ]
  },
  {
   "cell_type": "code",
   "execution_count": 118,
   "metadata": {},
   "outputs": [],
   "source": [
    "shake_tri.drop(columns=['title_pos'], inplace=True)"
   ]
  },
  {
   "cell_type": "code",
   "execution_count": 120,
   "metadata": {},
   "outputs": [
    {
     "data": {
      "text/plain": [
       "(4995, 5)"
      ]
     },
     "execution_count": 120,
     "metadata": {},
     "output_type": "execute_result"
    }
   ],
   "source": [
    "four_not_tri = shake_tri[shake_tri['pos_len']==4]\n",
    "four_not_tri.shape"
   ]
  },
  {
   "cell_type": "code",
   "execution_count": 121,
   "metadata": {},
   "outputs": [
    {
     "data": {
      "text/plain": [
       "(55, 5)"
      ]
     },
     "execution_count": 121,
     "metadata": {},
     "output_type": "execute_result"
    }
   ],
   "source": [
    "five_not_tri = shake_tri[shake_tri['pos_len']==5]\n",
    "five_not_tri.shape"
   ]
  },
  {
   "cell_type": "code",
   "execution_count": 122,
   "metadata": {},
   "outputs": [
    {
     "data": {
      "text/plain": [
       "3    488003\n",
       "4      4995\n",
       "5        55\n",
       "Name: pos_len, dtype: int64"
      ]
     },
     "execution_count": 122,
     "metadata": {},
     "output_type": "execute_result"
    }
   ],
   "source": [
    "shake_tri.pos_len.value_counts()"
   ]
  },
  {
   "cell_type": "code",
   "execution_count": 123,
   "metadata": {},
   "outputs": [
    {
     "data": {
      "text/plain": [
       "(488003, 5)"
      ]
     },
     "execution_count": 123,
     "metadata": {},
     "output_type": "execute_result"
    }
   ],
   "source": [
    "shake_tri = shake_tri[shake_tri['pos_len']==3]\n",
    "shake_tri.shape"
   ]
  },
  {
   "cell_type": "code",
   "execution_count": 124,
   "metadata": {},
   "outputs": [
    {
     "data": {
      "text/plain": [
       "2    242601\n",
       "3      4707\n",
       "4        57\n",
       "Name: pos_len, dtype: int64"
      ]
     },
     "execution_count": 124,
     "metadata": {},
     "output_type": "execute_result"
    }
   ],
   "source": [
    "shake_bi.pos_len.value_counts()"
   ]
  },
  {
   "cell_type": "code",
   "execution_count": 125,
   "metadata": {},
   "outputs": [
    {
     "data": {
      "text/plain": [
       "(242601, 7)"
      ]
     },
     "execution_count": 125,
     "metadata": {},
     "output_type": "execute_result"
    }
   ],
   "source": [
    "shake_bi = shake_bi[shake_bi['pos_len']==2]\n",
    "shake_bi.shape"
   ]
  },
  {
   "cell_type": "code",
   "execution_count": 128,
   "metadata": {},
   "outputs": [
    {
     "data": {
      "text/plain": [
       "(492710, 5)"
      ]
     },
     "execution_count": 128,
     "metadata": {},
     "output_type": "execute_result"
    }
   ],
   "source": [
    "shake_tri = shake_tri.append(tri_not_bi).reset_index(drop=True)\n",
    "shake_tri.shape"
   ]
  },
  {
   "cell_type": "code",
   "execution_count": 129,
   "metadata": {},
   "outputs": [
    {
     "data": {
      "text/plain": [
       "3    492710\n",
       "Name: pos_len, dtype: int64"
      ]
     },
     "execution_count": 129,
     "metadata": {},
     "output_type": "execute_result"
    }
   ],
   "source": [
    "shake_tri.pos_len.value_counts()"
   ]
  },
  {
   "cell_type": "code",
   "execution_count": 145,
   "metadata": {},
   "outputs": [
    {
     "data": {
      "text/plain": [
       "[['DT', 'NN', ','],\n",
       " ['DT', 'NN', ':'],\n",
       " ['DT', 'NN', '.'],\n",
       " ['DT', 'NN', '.'],\n",
       " ['DT', 'NN', 'DT']]"
      ]
     },
     "execution_count": 145,
     "metadata": {},
     "output_type": "execute_result"
    }
   ],
   "source": [
    "pos_list = shake_tri.pos.tolist()\n",
    "pos_list[6000:6005]"
   ]
  },
  {
   "cell_type": "code",
   "execution_count": 146,
   "metadata": {},
   "outputs": [
    {
     "data": {
      "text/html": [
       "<div>\n",
       "<style scoped>\n",
       "    .dataframe tbody tr th:only-of-type {\n",
       "        vertical-align: middle;\n",
       "    }\n",
       "\n",
       "    .dataframe tbody tr th {\n",
       "        vertical-align: top;\n",
       "    }\n",
       "\n",
       "    .dataframe thead th {\n",
       "        text-align: right;\n",
       "    }\n",
       "</style>\n",
       "<table border=\"1\" class=\"dataframe\">\n",
       "  <thead>\n",
       "    <tr style=\"text-align: right;\">\n",
       "      <th></th>\n",
       "      <th>title</th>\n",
       "      <th>title_tokenized</th>\n",
       "      <th>pos_tag</th>\n",
       "      <th>pos</th>\n",
       "      <th>pos_len</th>\n",
       "      <th>pos1</th>\n",
       "      <th>pos2</th>\n",
       "      <th>pos3</th>\n",
       "    </tr>\n",
       "  </thead>\n",
       "  <tbody>\n",
       "    <tr>\n",
       "      <th>288860</th>\n",
       "      <td>often made against</td>\n",
       "      <td>['often', 'made', 'against']</td>\n",
       "      <td>['RB', 'VBN', 'IN']</td>\n",
       "      <td>[RB, VBN, IN]</td>\n",
       "      <td>3</td>\n",
       "      <td>RB</td>\n",
       "      <td>VBN</td>\n",
       "      <td>IN</td>\n",
       "    </tr>\n",
       "    <tr>\n",
       "      <th>124105</th>\n",
       "      <td>fit , else</td>\n",
       "      <td>['fit', ',', 'else']</td>\n",
       "      <td>['NN', ',', 'RB']</td>\n",
       "      <td>[NN, ,, RB]</td>\n",
       "      <td>3</td>\n",
       "      <td>NN</td>\n",
       "      <td>,</td>\n",
       "      <td>RB</td>\n",
       "    </tr>\n",
       "    <tr>\n",
       "      <th>2359</th>\n",
       "      <td>a canopy most</td>\n",
       "      <td>['a', 'canopy', 'most']</td>\n",
       "      <td>['DT', 'NN', 'RBS']</td>\n",
       "      <td>[DT, NN, RBS]</td>\n",
       "      <td>3</td>\n",
       "      <td>DT</td>\n",
       "      <td>NN</td>\n",
       "      <td>RBS</td>\n",
       "    </tr>\n",
       "    <tr>\n",
       "      <th>43841</th>\n",
       "      <td>as my thoughts</td>\n",
       "      <td>['as', 'my', 'thoughts']</td>\n",
       "      <td>['IN', 'PRP$', 'NNS']</td>\n",
       "      <td>[IN, PRP$, NNS]</td>\n",
       "      <td>3</td>\n",
       "      <td>IN</td>\n",
       "      <td>PRP$</td>\n",
       "      <td>NNS</td>\n",
       "    </tr>\n",
       "    <tr>\n",
       "      <th>98658</th>\n",
       "      <td>did this companion</td>\n",
       "      <td>['did', 'this', 'companion']</td>\n",
       "      <td>['VBD', 'DT', 'NN']</td>\n",
       "      <td>[VBD, DT, NN]</td>\n",
       "      <td>3</td>\n",
       "      <td>VBD</td>\n",
       "      <td>DT</td>\n",
       "      <td>NN</td>\n",
       "    </tr>\n",
       "  </tbody>\n",
       "</table>\n",
       "</div>"
      ],
      "text/plain": [
       "                     title               title_tokenized  \\\n",
       "288860  often made against  ['often', 'made', 'against']   \n",
       "124105          fit , else          ['fit', ',', 'else']   \n",
       "2359         a canopy most       ['a', 'canopy', 'most']   \n",
       "43841       as my thoughts      ['as', 'my', 'thoughts']   \n",
       "98658   did this companion  ['did', 'this', 'companion']   \n",
       "\n",
       "                      pos_tag              pos  pos_len pos1  pos2 pos3  \n",
       "288860    ['RB', 'VBN', 'IN']    [RB, VBN, IN]        3   RB   VBN   IN  \n",
       "124105      ['NN', ',', 'RB']      [NN, ,, RB]        3   NN     ,   RB  \n",
       "2359      ['DT', 'NN', 'RBS']    [DT, NN, RBS]        3   DT    NN  RBS  \n",
       "43841   ['IN', 'PRP$', 'NNS']  [IN, PRP$, NNS]        3   IN  PRP$  NNS  \n",
       "98658     ['VBD', 'DT', 'NN']    [VBD, DT, NN]        3  VBD    DT   NN  "
      ]
     },
     "execution_count": 146,
     "metadata": {},
     "output_type": "execute_result"
    }
   ],
   "source": [
    "pos1 = []\n",
    "pos2 = []\n",
    "pos3 = []\n",
    "\n",
    "for i in pos_list:\n",
    "    pos1.append(i[0])\n",
    "    pos2.append(i[1])\n",
    "    pos3.append(i[2])\n",
    "    \n",
    "shake_tri['pos1'] = pos1\n",
    "shake_tri['pos2'] = pos2\n",
    "shake_tri['pos3'] = pos3\n",
    "\n",
    "shake_tri.sample(5)"
   ]
  },
  {
   "cell_type": "markdown",
   "metadata": {},
   "source": [
    "And now the fourgrams"
   ]
  },
  {
   "cell_type": "code",
   "execution_count": 133,
   "metadata": {},
   "outputs": [
    {
     "data": {
      "text/html": [
       "<div>\n",
       "<style scoped>\n",
       "    .dataframe tbody tr th:only-of-type {\n",
       "        vertical-align: middle;\n",
       "    }\n",
       "\n",
       "    .dataframe tbody tr th {\n",
       "        vertical-align: top;\n",
       "    }\n",
       "\n",
       "    .dataframe thead th {\n",
       "        text-align: right;\n",
       "    }\n",
       "</style>\n",
       "<table border=\"1\" class=\"dataframe\">\n",
       "  <thead>\n",
       "    <tr style=\"text-align: right;\">\n",
       "      <th></th>\n",
       "      <th>title</th>\n",
       "      <th>title_tokenized</th>\n",
       "      <th>title_pos</th>\n",
       "      <th>pos_tag</th>\n",
       "    </tr>\n",
       "  </thead>\n",
       "  <tbody>\n",
       "    <tr>\n",
       "      <th>30470</th>\n",
       "      <td>and losing her ,</td>\n",
       "      <td>['and', 'losing', 'her', ',']</td>\n",
       "      <td>[('and', 'CC'), ('losing', 'VBG'), ('her', 'PRP'), (',', ',')]</td>\n",
       "      <td>['CC', 'VBG', 'PRP', ',']</td>\n",
       "    </tr>\n",
       "    <tr>\n",
       "      <th>270674</th>\n",
       "      <td>more , be sage</td>\n",
       "      <td>['more', ',', 'be', 'sage']</td>\n",
       "      <td>[('more', 'RBR'), (',', ','), ('be', 'VB'), ('sage', 'NN')]</td>\n",
       "      <td>['RBR', ',', 'VB', 'NN']</td>\n",
       "    </tr>\n",
       "    <tr>\n",
       "      <th>289821</th>\n",
       "      <td>noble charles , the</td>\n",
       "      <td>['noble', 'charles', ',', 'the']</td>\n",
       "      <td>[('noble', 'JJ'), ('charles', 'NNS'), (',', ','), ('the', 'DT')]</td>\n",
       "      <td>['JJ', 'NNS', ',', 'DT']</td>\n",
       "    </tr>\n",
       "    <tr>\n",
       "      <th>78545</th>\n",
       "      <td>by break of day</td>\n",
       "      <td>['by', 'break', 'of', 'day']</td>\n",
       "      <td>[('by', 'IN'), ('break', 'NN'), ('of', 'IN'), ('day', 'NN')]</td>\n",
       "      <td>['IN', 'NN', 'IN', 'NN']</td>\n",
       "    </tr>\n",
       "    <tr>\n",
       "      <th>294029</th>\n",
       "      <td>not here. that you</td>\n",
       "      <td>['not', 'here.', 'that', 'you']</td>\n",
       "      <td>[('not', 'RB'), ('here.', 'PDT'), ('that', 'IN'), ('you', 'PRP')]</td>\n",
       "      <td>['RB', 'PDT', 'IN', 'PRP']</td>\n",
       "    </tr>\n",
       "  </tbody>\n",
       "</table>\n",
       "</div>"
      ],
      "text/plain": [
       "                      title                   title_tokenized  \\\n",
       "30470      and losing her ,     ['and', 'losing', 'her', ',']   \n",
       "270674       more , be sage       ['more', ',', 'be', 'sage']   \n",
       "289821  noble charles , the  ['noble', 'charles', ',', 'the']   \n",
       "78545       by break of day      ['by', 'break', 'of', 'day']   \n",
       "294029   not here. that you   ['not', 'here.', 'that', 'you']   \n",
       "\n",
       "                                                                title_pos  \\\n",
       "30470      [('and', 'CC'), ('losing', 'VBG'), ('her', 'PRP'), (',', ',')]   \n",
       "270674        [('more', 'RBR'), (',', ','), ('be', 'VB'), ('sage', 'NN')]   \n",
       "289821   [('noble', 'JJ'), ('charles', 'NNS'), (',', ','), ('the', 'DT')]   \n",
       "78545        [('by', 'IN'), ('break', 'NN'), ('of', 'IN'), ('day', 'NN')]   \n",
       "294029  [('not', 'RB'), ('here.', 'PDT'), ('that', 'IN'), ('you', 'PRP')]   \n",
       "\n",
       "                           pos_tag  \n",
       "30470    ['CC', 'VBG', 'PRP', ',']  \n",
       "270674    ['RBR', ',', 'VB', 'NN']  \n",
       "289821    ['JJ', 'NNS', ',', 'DT']  \n",
       "78545     ['IN', 'NN', 'IN', 'NN']  \n",
       "294029  ['RB', 'PDT', 'IN', 'PRP']  "
      ]
     },
     "execution_count": 133,
     "metadata": {},
     "output_type": "execute_result"
    }
   ],
   "source": [
    "shake_four.sample(5)"
   ]
  },
  {
   "cell_type": "code",
   "execution_count": 134,
   "metadata": {},
   "outputs": [
    {
     "data": {
      "text/plain": [
       "[\"['IN', 'NN', 'IN', 'NN']\",\n",
       " \"['IN', 'VBG', 'IN', 'DT']\",\n",
       " \"['IN', 'NN', 'VBZ', 'JJ']\",\n",
       " \"['IN', 'NN', 'IN', 'PRP$']\",\n",
       " \"['IN', 'JJ', 'NNS', ',']\"]"
      ]
     },
     "execution_count": 134,
     "metadata": {},
     "output_type": "execute_result"
    }
   ],
   "source": [
    "four_list = shake_four.pos_tag.tolist()\n",
    "\n",
    "four_list[78545:78550]"
   ]
  },
  {
   "cell_type": "code",
   "execution_count": 135,
   "metadata": {},
   "outputs": [
    {
     "data": {
      "text/plain": [
       "[['IN', 'NN', 'IN', 'NN'],\n",
       " ['IN', 'VBG', 'IN', 'DT'],\n",
       " ['IN', 'NN', 'VBZ', 'JJ'],\n",
       " ['IN', 'NN', 'IN', 'PRP$'],\n",
       " ['IN', 'JJ', 'NNS', ',']]"
      ]
     },
     "execution_count": 135,
     "metadata": {},
     "output_type": "execute_result"
    }
   ],
   "source": [
    "new_four_list = [(f.replace(\"[\",\"\").replace(\"]\", \"\").replace(\"'\",\"\").split(\", \")) for f in four_list]\n",
    "\n",
    "new_four_list[78545:78550]"
   ]
  },
  {
   "cell_type": "code",
   "execution_count": 136,
   "metadata": {},
   "outputs": [
    {
     "data": {
      "text/html": [
       "<div>\n",
       "<style scoped>\n",
       "    .dataframe tbody tr th:only-of-type {\n",
       "        vertical-align: middle;\n",
       "    }\n",
       "\n",
       "    .dataframe tbody tr th {\n",
       "        vertical-align: top;\n",
       "    }\n",
       "\n",
       "    .dataframe thead th {\n",
       "        text-align: right;\n",
       "    }\n",
       "</style>\n",
       "<table border=\"1\" class=\"dataframe\">\n",
       "  <thead>\n",
       "    <tr style=\"text-align: right;\">\n",
       "      <th></th>\n",
       "      <th>title</th>\n",
       "      <th>title_tokenized</th>\n",
       "      <th>title_pos</th>\n",
       "      <th>pos_tag</th>\n",
       "      <th>pos</th>\n",
       "    </tr>\n",
       "  </thead>\n",
       "  <tbody>\n",
       "    <tr>\n",
       "      <th>299692</th>\n",
       "      <td>now newly performed by</td>\n",
       "      <td>['now', 'newly', 'performed', 'by']</td>\n",
       "      <td>[('now', 'RB'), ('newly', 'RB'), ('performed', 'VBN'), ('by', 'IN')]</td>\n",
       "      <td>['RB', 'RB', 'VBN', 'IN']</td>\n",
       "      <td>[RB, RB, VBN, IN]</td>\n",
       "    </tr>\n",
       "    <tr>\n",
       "      <th>18530</th>\n",
       "      <td>aloft. enter , below</td>\n",
       "      <td>['aloft.', 'enter', ',', 'below']</td>\n",
       "      <td>[('aloft.', 'NN'), ('enter', 'NN'), (',', ','), ('below', 'IN')]</td>\n",
       "      <td>['NN', 'NN', ',', 'IN']</td>\n",
       "      <td>[NN, NN, ,, IN]</td>\n",
       "    </tr>\n",
       "    <tr>\n",
       "      <th>156145</th>\n",
       "      <td>hang over thee ,</td>\n",
       "      <td>['hang', 'over', 'thee', ',']</td>\n",
       "      <td>[('hang', 'NN'), ('over', 'IN'), ('thee', 'NN'), (',', ',')]</td>\n",
       "      <td>['NN', 'IN', 'NN', ',']</td>\n",
       "      <td>[NN, IN, NN, ,]</td>\n",
       "    </tr>\n",
       "    <tr>\n",
       "      <th>24389</th>\n",
       "      <td>and by good fortune</td>\n",
       "      <td>['and', 'by', 'good', 'fortune']</td>\n",
       "      <td>[('and', 'CC'), ('by', 'IN'), ('good', 'JJ'), ('fortune', 'NN')]</td>\n",
       "      <td>['CC', 'IN', 'JJ', 'NN']</td>\n",
       "      <td>[CC, IN, JJ, NN]</td>\n",
       "    </tr>\n",
       "    <tr>\n",
       "      <th>107191</th>\n",
       "      <td>do love it better</td>\n",
       "      <td>['do', 'love', 'it', 'better']</td>\n",
       "      <td>[('do', 'VB'), ('love', 'VB'), ('it', 'PRP'), ('better', 'JJR')]</td>\n",
       "      <td>['VB', 'VB', 'PRP', 'JJR']</td>\n",
       "      <td>[VB, VB, PRP, JJR]</td>\n",
       "    </tr>\n",
       "  </tbody>\n",
       "</table>\n",
       "</div>"
      ],
      "text/plain": [
       "                         title                      title_tokenized  \\\n",
       "299692  now newly performed by  ['now', 'newly', 'performed', 'by']   \n",
       "18530     aloft. enter , below    ['aloft.', 'enter', ',', 'below']   \n",
       "156145        hang over thee ,        ['hang', 'over', 'thee', ',']   \n",
       "24389      and by good fortune     ['and', 'by', 'good', 'fortune']   \n",
       "107191       do love it better       ['do', 'love', 'it', 'better']   \n",
       "\n",
       "                                                                   title_pos  \\\n",
       "299692  [('now', 'RB'), ('newly', 'RB'), ('performed', 'VBN'), ('by', 'IN')]   \n",
       "18530       [('aloft.', 'NN'), ('enter', 'NN'), (',', ','), ('below', 'IN')]   \n",
       "156145          [('hang', 'NN'), ('over', 'IN'), ('thee', 'NN'), (',', ',')]   \n",
       "24389       [('and', 'CC'), ('by', 'IN'), ('good', 'JJ'), ('fortune', 'NN')]   \n",
       "107191      [('do', 'VB'), ('love', 'VB'), ('it', 'PRP'), ('better', 'JJR')]   \n",
       "\n",
       "                           pos_tag                 pos  \n",
       "299692   ['RB', 'RB', 'VBN', 'IN']   [RB, RB, VBN, IN]  \n",
       "18530      ['NN', 'NN', ',', 'IN']     [NN, NN, ,, IN]  \n",
       "156145     ['NN', 'IN', 'NN', ',']     [NN, IN, NN, ,]  \n",
       "24389     ['CC', 'IN', 'JJ', 'NN']    [CC, IN, JJ, NN]  \n",
       "107191  ['VB', 'VB', 'PRP', 'JJR']  [VB, VB, PRP, JJR]  "
      ]
     },
     "execution_count": 136,
     "metadata": {},
     "output_type": "execute_result"
    }
   ],
   "source": [
    "shake_four['pos'] = new_four_list\n",
    "shake_four.sample(5)"
   ]
  },
  {
   "cell_type": "code",
   "execution_count": 137,
   "metadata": {},
   "outputs": [
    {
     "data": {
      "text/html": [
       "<div>\n",
       "<style scoped>\n",
       "    .dataframe tbody tr th:only-of-type {\n",
       "        vertical-align: middle;\n",
       "    }\n",
       "\n",
       "    .dataframe tbody tr th {\n",
       "        vertical-align: top;\n",
       "    }\n",
       "\n",
       "    .dataframe thead th {\n",
       "        text-align: right;\n",
       "    }\n",
       "</style>\n",
       "<table border=\"1\" class=\"dataframe\">\n",
       "  <thead>\n",
       "    <tr style=\"text-align: right;\">\n",
       "      <th></th>\n",
       "      <th>title</th>\n",
       "      <th>title_tokenized</th>\n",
       "      <th>title_pos</th>\n",
       "      <th>pos_tag</th>\n",
       "      <th>pos</th>\n",
       "      <th>pos_len</th>\n",
       "    </tr>\n",
       "  </thead>\n",
       "  <tbody>\n",
       "    <tr>\n",
       "      <th>265067</th>\n",
       "      <td>mean i to enrich</td>\n",
       "      <td>['mean', 'i', 'to', 'enrich']</td>\n",
       "      <td>[('mean', 'NN'), ('i', 'NN'), ('to', 'TO'), ('enrich', 'VB')]</td>\n",
       "      <td>['NN', 'NN', 'TO', 'VB']</td>\n",
       "      <td>[NN, NN, TO, VB]</td>\n",
       "      <td>4</td>\n",
       "    </tr>\n",
       "    <tr>\n",
       "      <th>78474</th>\n",
       "      <td>by and scarcely bruise</td>\n",
       "      <td>['by', 'and', 'scarcely', 'bruise']</td>\n",
       "      <td>[('by', 'IN'), ('and', 'CC'), ('scarcely', 'RB'), ('bruise', 'VB')]</td>\n",
       "      <td>['IN', 'CC', 'RB', 'VB']</td>\n",
       "      <td>[IN, CC, RB, VB]</td>\n",
       "      <td>4</td>\n",
       "    </tr>\n",
       "    <tr>\n",
       "      <th>336060</th>\n",
       "      <td>proportion , didst bring</td>\n",
       "      <td>['proportion', ',', 'didst', 'bring']</td>\n",
       "      <td>[('proportion', 'NN'), (',', ','), ('didst', 'NN'), ('bring', 'NN')]</td>\n",
       "      <td>['NN', ',', 'NN', 'NN']</td>\n",
       "      <td>[NN, ,, NN, NN]</td>\n",
       "      <td>4</td>\n",
       "    </tr>\n",
       "    <tr>\n",
       "      <th>251320</th>\n",
       "      <td>love you ? '</td>\n",
       "      <td>['love', 'you', '?', \"'\"]</td>\n",
       "      <td>[('love', 'VB'), ('you', 'PRP'), ('?', '.'), (\"'\", \"''\")]</td>\n",
       "      <td>['VB', 'PRP', '.', \"''\"]</td>\n",
       "      <td>[VB, PRP, ., \"\"]</td>\n",
       "      <td>4</td>\n",
       "    </tr>\n",
       "    <tr>\n",
       "      <th>302392</th>\n",
       "      <td>o'er some high-viced city</td>\n",
       "      <td>[\"o'er\", 'some', 'high-viced', 'city']</td>\n",
       "      <td>[(\"o'er\", 'VB'), ('some', 'DT'), ('high-viced', 'JJ'), ('city', 'NN')]</td>\n",
       "      <td>['VB', 'DT', 'JJ', 'NN']</td>\n",
       "      <td>[VB, DT, JJ, NN]</td>\n",
       "      <td>4</td>\n",
       "    </tr>\n",
       "  </tbody>\n",
       "</table>\n",
       "</div>"
      ],
      "text/plain": [
       "                            title                         title_tokenized  \\\n",
       "265067           mean i to enrich           ['mean', 'i', 'to', 'enrich']   \n",
       "78474      by and scarcely bruise     ['by', 'and', 'scarcely', 'bruise']   \n",
       "336060   proportion , didst bring   ['proportion', ',', 'didst', 'bring']   \n",
       "251320               love you ? '               ['love', 'you', '?', \"'\"]   \n",
       "302392  o'er some high-viced city  [\"o'er\", 'some', 'high-viced', 'city']   \n",
       "\n",
       "                                                                     title_pos  \\\n",
       "265067           [('mean', 'NN'), ('i', 'NN'), ('to', 'TO'), ('enrich', 'VB')]   \n",
       "78474      [('by', 'IN'), ('and', 'CC'), ('scarcely', 'RB'), ('bruise', 'VB')]   \n",
       "336060    [('proportion', 'NN'), (',', ','), ('didst', 'NN'), ('bring', 'NN')]   \n",
       "251320               [('love', 'VB'), ('you', 'PRP'), ('?', '.'), (\"'\", \"''\")]   \n",
       "302392  [(\"o'er\", 'VB'), ('some', 'DT'), ('high-viced', 'JJ'), ('city', 'NN')]   \n",
       "\n",
       "                         pos_tag               pos  pos_len  \n",
       "265067  ['NN', 'NN', 'TO', 'VB']  [NN, NN, TO, VB]        4  \n",
       "78474   ['IN', 'CC', 'RB', 'VB']  [IN, CC, RB, VB]        4  \n",
       "336060   ['NN', ',', 'NN', 'NN']   [NN, ,, NN, NN]        4  \n",
       "251320  ['VB', 'PRP', '.', \"''\"]  [VB, PRP, ., \"\"]        4  \n",
       "302392  ['VB', 'DT', 'JJ', 'NN']  [VB, DT, JJ, NN]        4  "
      ]
     },
     "execution_count": 137,
     "metadata": {},
     "output_type": "execute_result"
    }
   ],
   "source": [
    "pos_count = []\n",
    "\n",
    "for pos in shake_four['pos']:\n",
    "    pos_count.append(len(pos))\n",
    "    \n",
    "shake_four['pos_len'] = pos_count\n",
    "shake_four.sample(5)"
   ]
  },
  {
   "cell_type": "code",
   "execution_count": 138,
   "metadata": {},
   "outputs": [
    {
     "data": {
      "text/plain": [
       "4    523350\n",
       "5      4310\n",
       "6        45\n",
       "Name: pos_len, dtype: int64"
      ]
     },
     "execution_count": 138,
     "metadata": {},
     "output_type": "execute_result"
    }
   ],
   "source": [
    "shake_four.drop(columns=['title_pos'], inplace=True)\n",
    "\n",
    "shake_four.pos_len.value_counts()"
   ]
  },
  {
   "cell_type": "code",
   "execution_count": 139,
   "metadata": {},
   "outputs": [
    {
     "data": {
      "text/plain": [
       "(523350, 5)"
      ]
     },
     "execution_count": 139,
     "metadata": {},
     "output_type": "execute_result"
    }
   ],
   "source": [
    "shake_four = shake_four[shake_four['pos_len']==4]\n",
    "shake_four.shape"
   ]
  },
  {
   "cell_type": "code",
   "execution_count": 140,
   "metadata": {},
   "outputs": [
    {
     "data": {
      "text/plain": [
       "(523407, 5)"
      ]
     },
     "execution_count": 140,
     "metadata": {},
     "output_type": "execute_result"
    }
   ],
   "source": [
    "shake_four = shake_four.append(four_not_bi).reset_index(drop=True)\n",
    "shake_four.shape"
   ]
  },
  {
   "cell_type": "code",
   "execution_count": 141,
   "metadata": {},
   "outputs": [
    {
     "data": {
      "text/plain": [
       "(528402, 5)"
      ]
     },
     "execution_count": 141,
     "metadata": {},
     "output_type": "execute_result"
    }
   ],
   "source": [
    "shake_four = shake_four.append(four_not_tri).reset_index(drop=True)\n",
    "shake_four.shape"
   ]
  },
  {
   "cell_type": "code",
   "execution_count": 142,
   "metadata": {},
   "outputs": [
    {
     "data": {
      "text/plain": [
       "4    528402\n",
       "Name: pos_len, dtype: int64"
      ]
     },
     "execution_count": 142,
     "metadata": {},
     "output_type": "execute_result"
    }
   ],
   "source": [
    "shake_four.pos_len.value_counts()"
   ]
  },
  {
   "cell_type": "code",
   "execution_count": 152,
   "metadata": {},
   "outputs": [
    {
     "data": {
      "text/plain": [
       "[['DT', 'NN', ',', 'NN'],\n",
       " ['DT', 'NN', ',', 'RB'],\n",
       " ['DT', 'NN', ',', 'RB'],\n",
       " ['DT', 'NN', ',', 'NN'],\n",
       " ['DT', 'NN', ',', 'IN']]"
      ]
     },
     "execution_count": 152,
     "metadata": {},
     "output_type": "execute_result"
    }
   ],
   "source": [
    "pos_list = shake_four.pos.tolist()\n",
    "pos_list[6000:6005]"
   ]
  },
  {
   "cell_type": "code",
   "execution_count": 153,
   "metadata": {},
   "outputs": [
    {
     "data": {
      "text/html": [
       "<div>\n",
       "<style scoped>\n",
       "    .dataframe tbody tr th:only-of-type {\n",
       "        vertical-align: middle;\n",
       "    }\n",
       "\n",
       "    .dataframe tbody tr th {\n",
       "        vertical-align: top;\n",
       "    }\n",
       "\n",
       "    .dataframe thead th {\n",
       "        text-align: right;\n",
       "    }\n",
       "</style>\n",
       "<table border=\"1\" class=\"dataframe\">\n",
       "  <thead>\n",
       "    <tr style=\"text-align: right;\">\n",
       "      <th></th>\n",
       "      <th>title</th>\n",
       "      <th>title_tokenized</th>\n",
       "      <th>pos_tag</th>\n",
       "      <th>pos</th>\n",
       "      <th>pos_len</th>\n",
       "      <th>pos1</th>\n",
       "      <th>pos2</th>\n",
       "      <th>pos3</th>\n",
       "      <th>pos4</th>\n",
       "    </tr>\n",
       "  </thead>\n",
       "  <tbody>\n",
       "    <tr>\n",
       "      <th>387150</th>\n",
       "      <td>that , and tell</td>\n",
       "      <td>['that', ',', 'and', 'tell']</td>\n",
       "      <td>['DT', ',', 'CC', 'VB']</td>\n",
       "      <td>[DT, ,, CC, VB]</td>\n",
       "      <td>4</td>\n",
       "      <td>DT</td>\n",
       "      <td>,</td>\n",
       "      <td>CC</td>\n",
       "      <td>VB</td>\n",
       "    </tr>\n",
       "    <tr>\n",
       "      <th>499091</th>\n",
       "      <td>with message unto princely</td>\n",
       "      <td>['with', 'message', 'unto', 'princely']</td>\n",
       "      <td>['IN', 'NN', 'NNS', 'RB']</td>\n",
       "      <td>[IN, NN, NNS, RB]</td>\n",
       "      <td>4</td>\n",
       "      <td>IN</td>\n",
       "      <td>NN</td>\n",
       "      <td>NNS</td>\n",
       "      <td>RB</td>\n",
       "    </tr>\n",
       "    <tr>\n",
       "      <th>323128</th>\n",
       "      <td>part in this fair</td>\n",
       "      <td>['part', 'in', 'this', 'fair']</td>\n",
       "      <td>['NN', 'IN', 'DT', 'NN']</td>\n",
       "      <td>[NN, IN, DT, NN]</td>\n",
       "      <td>4</td>\n",
       "      <td>NN</td>\n",
       "      <td>IN</td>\n",
       "      <td>DT</td>\n",
       "      <td>NN</td>\n",
       "    </tr>\n",
       "    <tr>\n",
       "      <th>106880</th>\n",
       "      <td>do poor tom some</td>\n",
       "      <td>['do', 'poor', 'tom', 'some']</td>\n",
       "      <td>['VB', 'JJ', 'VB', 'DT']</td>\n",
       "      <td>[VB, JJ, VB, DT]</td>\n",
       "      <td>4</td>\n",
       "      <td>VB</td>\n",
       "      <td>JJ</td>\n",
       "      <td>VB</td>\n",
       "      <td>DT</td>\n",
       "    </tr>\n",
       "    <tr>\n",
       "      <th>354823</th>\n",
       "      <td>shalt find a king</td>\n",
       "      <td>['shalt', 'find', 'a', 'king']</td>\n",
       "      <td>['NN', 'VB', 'DT', 'NN']</td>\n",
       "      <td>[NN, VB, DT, NN]</td>\n",
       "      <td>4</td>\n",
       "      <td>NN</td>\n",
       "      <td>VB</td>\n",
       "      <td>DT</td>\n",
       "      <td>NN</td>\n",
       "    </tr>\n",
       "  </tbody>\n",
       "</table>\n",
       "</div>"
      ],
      "text/plain": [
       "                             title                          title_tokenized  \\\n",
       "387150             that , and tell             ['that', ',', 'and', 'tell']   \n",
       "499091  with message unto princely  ['with', 'message', 'unto', 'princely']   \n",
       "323128           part in this fair           ['part', 'in', 'this', 'fair']   \n",
       "106880            do poor tom some            ['do', 'poor', 'tom', 'some']   \n",
       "354823           shalt find a king           ['shalt', 'find', 'a', 'king']   \n",
       "\n",
       "                          pos_tag                pos  pos_len pos1 pos2 pos3  \\\n",
       "387150    ['DT', ',', 'CC', 'VB']    [DT, ,, CC, VB]        4   DT    ,   CC   \n",
       "499091  ['IN', 'NN', 'NNS', 'RB']  [IN, NN, NNS, RB]        4   IN   NN  NNS   \n",
       "323128   ['NN', 'IN', 'DT', 'NN']   [NN, IN, DT, NN]        4   NN   IN   DT   \n",
       "106880   ['VB', 'JJ', 'VB', 'DT']   [VB, JJ, VB, DT]        4   VB   JJ   VB   \n",
       "354823   ['NN', 'VB', 'DT', 'NN']   [NN, VB, DT, NN]        4   NN   VB   DT   \n",
       "\n",
       "       pos4  \n",
       "387150   VB  \n",
       "499091   RB  \n",
       "323128   NN  \n",
       "106880   DT  \n",
       "354823   NN  "
      ]
     },
     "execution_count": 153,
     "metadata": {},
     "output_type": "execute_result"
    }
   ],
   "source": [
    "pos1 = []\n",
    "pos2 = []\n",
    "pos3 = []\n",
    "pos4 = []\n",
    "\n",
    "for i in pos_list:\n",
    "    pos1.append(i[0])\n",
    "    pos2.append(i[1])\n",
    "    pos3.append(i[2])\n",
    "    pos4.append(i[3])\n",
    "    \n",
    "shake_four['pos1'] = pos1\n",
    "shake_four['pos2'] = pos2\n",
    "shake_four['pos3'] = pos3\n",
    "shake_four['pos4'] = pos4\n",
    "\n",
    "shake_four.sample(5)"
   ]
  },
  {
   "cell_type": "code",
   "execution_count": 154,
   "metadata": {},
   "outputs": [
    {
     "data": {
      "text/html": [
       "<div>\n",
       "<style scoped>\n",
       "    .dataframe tbody tr th:only-of-type {\n",
       "        vertical-align: middle;\n",
       "    }\n",
       "\n",
       "    .dataframe tbody tr th {\n",
       "        vertical-align: top;\n",
       "    }\n",
       "\n",
       "    .dataframe thead th {\n",
       "        text-align: right;\n",
       "    }\n",
       "</style>\n",
       "<table border=\"1\" class=\"dataframe\">\n",
       "  <thead>\n",
       "    <tr style=\"text-align: right;\">\n",
       "      <th></th>\n",
       "      <th>title</th>\n",
       "      <th>title_tokenized</th>\n",
       "      <th>pos_tag</th>\n",
       "      <th>pos</th>\n",
       "      <th>pos_len</th>\n",
       "      <th>pos1</th>\n",
       "      <th>pos2</th>\n",
       "      <th>pos3</th>\n",
       "    </tr>\n",
       "  </thead>\n",
       "  <tbody>\n",
       "    <tr>\n",
       "      <th>393744</th>\n",
       "      <td>there upon inter'gatories</td>\n",
       "      <td>['there', 'upon', \"inter'gatories\"]</td>\n",
       "      <td>['RB', 'IN', 'NNS']</td>\n",
       "      <td>[RB, IN, NNS]</td>\n",
       "      <td>3</td>\n",
       "      <td>RB</td>\n",
       "      <td>IN</td>\n",
       "      <td>NNS</td>\n",
       "    </tr>\n",
       "    <tr>\n",
       "      <th>136865</th>\n",
       "      <td>gain of my</td>\n",
       "      <td>['gain', 'of', 'my']</td>\n",
       "      <td>['NN', 'IN', 'PRP$']</td>\n",
       "      <td>[NN, IN, PRP$]</td>\n",
       "      <td>3</td>\n",
       "      <td>NN</td>\n",
       "      <td>IN</td>\n",
       "      <td>PRP$</td>\n",
       "    </tr>\n",
       "    <tr>\n",
       "      <th>351928</th>\n",
       "      <td>stands chief in</td>\n",
       "      <td>['stands', 'chief', 'in']</td>\n",
       "      <td>['NNS', 'NN', 'IN']</td>\n",
       "      <td>[NNS, NN, IN]</td>\n",
       "      <td>3</td>\n",
       "      <td>NNS</td>\n",
       "      <td>NN</td>\n",
       "      <td>IN</td>\n",
       "    </tr>\n",
       "    <tr>\n",
       "      <th>245651</th>\n",
       "      <td>merit bliss by</td>\n",
       "      <td>['merit', 'bliss', 'by']</td>\n",
       "      <td>['NN', 'NN', 'IN']</td>\n",
       "      <td>[NN, NN, IN]</td>\n",
       "      <td>3</td>\n",
       "      <td>NN</td>\n",
       "      <td>NN</td>\n",
       "      <td>IN</td>\n",
       "    </tr>\n",
       "    <tr>\n",
       "      <th>18136</th>\n",
       "      <td>am a fellow</td>\n",
       "      <td>['am', 'a', 'fellow']</td>\n",
       "      <td>['VBP', 'DT', 'NN']</td>\n",
       "      <td>[VBP, DT, NN]</td>\n",
       "      <td>3</td>\n",
       "      <td>VBP</td>\n",
       "      <td>DT</td>\n",
       "      <td>NN</td>\n",
       "    </tr>\n",
       "  </tbody>\n",
       "</table>\n",
       "</div>"
      ],
      "text/plain": [
       "                            title                      title_tokenized  \\\n",
       "393744  there upon inter'gatories  ['there', 'upon', \"inter'gatories\"]   \n",
       "136865                 gain of my                 ['gain', 'of', 'my']   \n",
       "351928            stands chief in            ['stands', 'chief', 'in']   \n",
       "245651             merit bliss by             ['merit', 'bliss', 'by']   \n",
       "18136                 am a fellow                ['am', 'a', 'fellow']   \n",
       "\n",
       "                     pos_tag             pos  pos_len pos1 pos2  pos3  \n",
       "393744   ['RB', 'IN', 'NNS']   [RB, IN, NNS]        3   RB   IN   NNS  \n",
       "136865  ['NN', 'IN', 'PRP$']  [NN, IN, PRP$]        3   NN   IN  PRP$  \n",
       "351928   ['NNS', 'NN', 'IN']   [NNS, NN, IN]        3  NNS   NN    IN  \n",
       "245651    ['NN', 'NN', 'IN']    [NN, NN, IN]        3   NN   NN    IN  \n",
       "18136    ['VBP', 'DT', 'NN']   [VBP, DT, NN]        3  VBP   DT    NN  "
      ]
     },
     "execution_count": 154,
     "metadata": {},
     "output_type": "execute_result"
    }
   ],
   "source": [
    "shake_tri.sample(5)"
   ]
  },
  {
   "cell_type": "code",
   "execution_count": 156,
   "metadata": {},
   "outputs": [
    {
     "data": {
      "text/html": [
       "<div>\n",
       "<style scoped>\n",
       "    .dataframe tbody tr th:only-of-type {\n",
       "        vertical-align: middle;\n",
       "    }\n",
       "\n",
       "    .dataframe tbody tr th {\n",
       "        vertical-align: top;\n",
       "    }\n",
       "\n",
       "    .dataframe thead th {\n",
       "        text-align: right;\n",
       "    }\n",
       "</style>\n",
       "<table border=\"1\" class=\"dataframe\">\n",
       "  <thead>\n",
       "    <tr style=\"text-align: right;\">\n",
       "      <th></th>\n",
       "      <th>title</th>\n",
       "      <th>title_tokenized</th>\n",
       "      <th>pos_tag</th>\n",
       "      <th>pos</th>\n",
       "      <th>pos_len</th>\n",
       "      <th>pos1</th>\n",
       "      <th>pos2</th>\n",
       "    </tr>\n",
       "  </thead>\n",
       "  <tbody>\n",
       "    <tr>\n",
       "      <th>107113</th>\n",
       "      <td>it. go</td>\n",
       "      <td>['it.', 'go']</td>\n",
       "      <td>['NN', 'VB']</td>\n",
       "      <td>[NN, VB]</td>\n",
       "      <td>2</td>\n",
       "      <td>NN</td>\n",
       "      <td>VB</td>\n",
       "    </tr>\n",
       "    <tr>\n",
       "      <th>22207</th>\n",
       "      <td>base second</td>\n",
       "      <td>['base', 'second']</td>\n",
       "      <td>['NN', 'NN']</td>\n",
       "      <td>[NN, NN]</td>\n",
       "      <td>2</td>\n",
       "      <td>NN</td>\n",
       "      <td>NN</td>\n",
       "    </tr>\n",
       "    <tr>\n",
       "      <th>68236</th>\n",
       "      <td>finds itself</td>\n",
       "      <td>['finds', 'itself']</td>\n",
       "      <td>['NNS', 'PRP']</td>\n",
       "      <td>[NNS, PRP]</td>\n",
       "      <td>2</td>\n",
       "      <td>NNS</td>\n",
       "      <td>PRP</td>\n",
       "    </tr>\n",
       "    <tr>\n",
       "      <th>124558</th>\n",
       "      <td>merry. yea</td>\n",
       "      <td>['merry.', 'yea']</td>\n",
       "      <td>['NN', 'NN']</td>\n",
       "      <td>[NN, NN]</td>\n",
       "      <td>2</td>\n",
       "      <td>NN</td>\n",
       "      <td>NN</td>\n",
       "    </tr>\n",
       "    <tr>\n",
       "      <th>193314</th>\n",
       "      <td>that came</td>\n",
       "      <td>['that', 'came']</td>\n",
       "      <td>['DT', 'VBD']</td>\n",
       "      <td>[DT, VBD]</td>\n",
       "      <td>2</td>\n",
       "      <td>DT</td>\n",
       "      <td>VBD</td>\n",
       "    </tr>\n",
       "  </tbody>\n",
       "</table>\n",
       "</div>"
      ],
      "text/plain": [
       "               title      title_tokenized         pos_tag         pos  \\\n",
       "107113        it. go        ['it.', 'go']    ['NN', 'VB']    [NN, VB]   \n",
       "22207    base second   ['base', 'second']    ['NN', 'NN']    [NN, NN]   \n",
       "68236   finds itself  ['finds', 'itself']  ['NNS', 'PRP']  [NNS, PRP]   \n",
       "124558    merry. yea    ['merry.', 'yea']    ['NN', 'NN']    [NN, NN]   \n",
       "193314     that came     ['that', 'came']   ['DT', 'VBD']   [DT, VBD]   \n",
       "\n",
       "        pos_len pos1 pos2  \n",
       "107113        2   NN   VB  \n",
       "22207         2   NN   NN  \n",
       "68236         2  NNS  PRP  \n",
       "124558        2   NN   NN  \n",
       "193314        2   DT  VBD  "
      ]
     },
     "execution_count": 156,
     "metadata": {},
     "output_type": "execute_result"
    }
   ],
   "source": [
    "shake_bi.sample(5)"
   ]
  },
  {
   "cell_type": "code",
   "execution_count": 157,
   "metadata": {},
   "outputs": [],
   "source": [
    "datapath = '../data'\n",
    "\n",
    "datapath_shake_bi = os.path.join(datapath, 'shakespearean_bigrams_pos.csv')\n",
    "shake_bi.to_csv(datapath_shake_bi, index=False)"
   ]
  },
  {
   "cell_type": "code",
   "execution_count": 158,
   "metadata": {},
   "outputs": [],
   "source": [
    "datapath_shake_tri = os.path.join(datapath, 'shakespearean_trigrams_pos.csv')\n",
    "shake_tri.to_csv(datapath_shake_tri, index=False)"
   ]
  },
  {
   "cell_type": "code",
   "execution_count": 159,
   "metadata": {},
   "outputs": [],
   "source": [
    "datapath_shake_four = os.path.join(datapath, 'shakespearean_fourgrams_pos.csv')\n",
    "shake_four.to_csv(datapath_shake_four, index=False)"
   ]
  },
  {
   "cell_type": "code",
   "execution_count": null,
   "metadata": {},
   "outputs": [],
   "source": []
  }
 ],
 "metadata": {
  "kernelspec": {
   "display_name": "Python 3",
   "language": "python",
   "name": "python3"
  },
  "language_info": {
   "codemirror_mode": {
    "name": "ipython",
    "version": 3
   },
   "file_extension": ".py",
   "mimetype": "text/x-python",
   "name": "python",
   "nbconvert_exporter": "python",
   "pygments_lexer": "ipython3",
   "version": "3.8.3"
  }
 },
 "nbformat": 4,
 "nbformat_minor": 4
}
