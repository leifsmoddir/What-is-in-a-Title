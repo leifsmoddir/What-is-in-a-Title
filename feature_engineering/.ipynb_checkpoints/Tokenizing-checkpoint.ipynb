{
 "cells": [
  {
   "cell_type": "code",
   "execution_count": 1,
   "metadata": {},
   "outputs": [],
   "source": [
    "import nltk\n",
    "from sklearn.feature_extraction.text import CountVectorizer\n",
    "from nltk.tokenize import TreebankWordTokenizer\n",
    "import pandas as pd\n",
    "import numpy as np\n",
    "import os\n",
    "\n",
    "pd.set_option('display.max_colwidth', None)"
   ]
  },
  {
   "cell_type": "code",
   "execution_count": 2,
   "metadata": {},
   "outputs": [
    {
     "data": {
      "text/html": [
       "<div>\n",
       "<style scoped>\n",
       "    .dataframe tbody tr th:only-of-type {\n",
       "        vertical-align: middle;\n",
       "    }\n",
       "\n",
       "    .dataframe tbody tr th {\n",
       "        vertical-align: top;\n",
       "    }\n",
       "\n",
       "    .dataframe thead th {\n",
       "        text-align: right;\n",
       "    }\n",
       "</style>\n",
       "<table border=\"1\" class=\"dataframe\">\n",
       "  <thead>\n",
       "    <tr style=\"text-align: right;\">\n",
       "      <th></th>\n",
       "      <th>Dataline</th>\n",
       "      <th>Play</th>\n",
       "      <th>Line</th>\n",
       "      <th>ActSceneLine</th>\n",
       "      <th>Player</th>\n",
       "      <th>PlayerLinenumber</th>\n",
       "      <th>Traditional</th>\n",
       "      <th>Modern</th>\n",
       "    </tr>\n",
       "  </thead>\n",
       "  <tbody>\n",
       "    <tr>\n",
       "      <th>47103</th>\n",
       "      <td>47104</td>\n",
       "      <td>julius caesar</td>\n",
       "      <td>What you have said, and show yourselves true Romans.</td>\n",
       "      <td>2.1.233</td>\n",
       "      <td>CASSIUS</td>\n",
       "      <td>59.0</td>\n",
       "      <td>tragedy</td>\n",
       "      <td>tragedy</td>\n",
       "    </tr>\n",
       "    <tr>\n",
       "      <th>30863</th>\n",
       "      <td>30864</td>\n",
       "      <td>cymbeline</td>\n",
       "      <td>Pray, be not sick,</td>\n",
       "      <td>4.2.55</td>\n",
       "      <td>BELARIUS</td>\n",
       "      <td>18.0</td>\n",
       "      <td>tragedy</td>\n",
       "      <td>romance</td>\n",
       "    </tr>\n",
       "    <tr>\n",
       "      <th>40019</th>\n",
       "      <td>40020</td>\n",
       "      <td>henry v</td>\n",
       "      <td>Angliae, et Haeres Franciae.</td>\n",
       "      <td>5.2.339</td>\n",
       "      <td>EXETER</td>\n",
       "      <td>74.0</td>\n",
       "      <td>history</td>\n",
       "      <td>tragedy</td>\n",
       "    </tr>\n",
       "    <tr>\n",
       "      <th>17639</th>\n",
       "      <td>17640</td>\n",
       "      <td>as you like it</td>\n",
       "      <td>But, sure, he's proud, and yet his pride becomes him:</td>\n",
       "      <td>3.5.117</td>\n",
       "      <td>PHEBE</td>\n",
       "      <td>22.0</td>\n",
       "      <td>comedy</td>\n",
       "      <td>comedy</td>\n",
       "    </tr>\n",
       "    <tr>\n",
       "      <th>39008</th>\n",
       "      <td>39009</td>\n",
       "      <td>henry v</td>\n",
       "      <td>Once more I come to know of thee, King Harry,</td>\n",
       "      <td>4.3.81</td>\n",
       "      <td>MONTJOY</td>\n",
       "      <td>17.0</td>\n",
       "      <td>history</td>\n",
       "      <td>tragedy</td>\n",
       "    </tr>\n",
       "  </tbody>\n",
       "</table>\n",
       "</div>"
      ],
      "text/plain": [
       "       Dataline            Play  \\\n",
       "47103     47104   julius caesar   \n",
       "30863     30864       cymbeline   \n",
       "40019     40020         henry v   \n",
       "17639     17640  as you like it   \n",
       "39008     39009         henry v   \n",
       "\n",
       "                                                        Line ActSceneLine  \\\n",
       "47103   What you have said, and show yourselves true Romans.      2.1.233   \n",
       "30863                                     Pray, be not sick,       4.2.55   \n",
       "40019                           Angliae, et Haeres Franciae.      5.2.339   \n",
       "17639  But, sure, he's proud, and yet his pride becomes him:      3.5.117   \n",
       "39008          Once more I come to know of thee, King Harry,       4.3.81   \n",
       "\n",
       "         Player  PlayerLinenumber Traditional   Modern  \n",
       "47103   CASSIUS              59.0     tragedy  tragedy  \n",
       "30863  BELARIUS              18.0     tragedy  romance  \n",
       "40019    EXETER              74.0     history  tragedy  \n",
       "17639     PHEBE              22.0      comedy   comedy  \n",
       "39008   MONTJOY              17.0     history  tragedy  "
      ]
     },
     "execution_count": 2,
     "metadata": {},
     "output_type": "execute_result"
    }
   ],
   "source": [
    "shake_df = pd.read_csv('../data/shake_corpus.csv')\n",
    "\n",
    "shake_df.sample(5)"
   ]
  },
  {
   "cell_type": "markdown",
   "metadata": {},
   "source": [
    "Subset shake_df in order to investigate tokenizing and n-gram generation with punctuation."
   ]
  },
  {
   "cell_type": "code",
   "execution_count": 3,
   "metadata": {},
   "outputs": [
    {
     "data": {
      "text/html": [
       "<div>\n",
       "<style scoped>\n",
       "    .dataframe tbody tr th:only-of-type {\n",
       "        vertical-align: middle;\n",
       "    }\n",
       "\n",
       "    .dataframe tbody tr th {\n",
       "        vertical-align: top;\n",
       "    }\n",
       "\n",
       "    .dataframe thead th {\n",
       "        text-align: right;\n",
       "    }\n",
       "</style>\n",
       "<table border=\"1\" class=\"dataframe\">\n",
       "  <thead>\n",
       "    <tr style=\"text-align: right;\">\n",
       "      <th></th>\n",
       "      <th>Dataline</th>\n",
       "      <th>Play</th>\n",
       "      <th>Line</th>\n",
       "      <th>ActSceneLine</th>\n",
       "      <th>Player</th>\n",
       "      <th>PlayerLinenumber</th>\n",
       "      <th>Traditional</th>\n",
       "      <th>Modern</th>\n",
       "    </tr>\n",
       "  </thead>\n",
       "  <tbody>\n",
       "    <tr>\n",
       "      <th>55779</th>\n",
       "      <td>55780</td>\n",
       "      <td>macbeth</td>\n",
       "      <td>ACT I</td>\n",
       "      <td>1.1.1</td>\n",
       "      <td>ADRIANO DE ARMADO</td>\n",
       "      <td>405.0</td>\n",
       "      <td>tragedy</td>\n",
       "      <td>tragedy</td>\n",
       "    </tr>\n",
       "    <tr>\n",
       "      <th>55780</th>\n",
       "      <td>55781</td>\n",
       "      <td>macbeth</td>\n",
       "      <td>SCENE I. A desert place.</td>\n",
       "      <td>1.1.1</td>\n",
       "      <td>ADRIANO DE ARMADO</td>\n",
       "      <td>405.0</td>\n",
       "      <td>tragedy</td>\n",
       "      <td>tragedy</td>\n",
       "    </tr>\n",
       "    <tr>\n",
       "      <th>55781</th>\n",
       "      <td>55782</td>\n",
       "      <td>macbeth</td>\n",
       "      <td>Thunder and lightning. Enter three Witches</td>\n",
       "      <td>1.1.1</td>\n",
       "      <td>ADRIANO DE ARMADO</td>\n",
       "      <td>405.0</td>\n",
       "      <td>tragedy</td>\n",
       "      <td>tragedy</td>\n",
       "    </tr>\n",
       "    <tr>\n",
       "      <th>55782</th>\n",
       "      <td>55783</td>\n",
       "      <td>macbeth</td>\n",
       "      <td>When shall we three meet again</td>\n",
       "      <td>1.1.1</td>\n",
       "      <td>First Witch</td>\n",
       "      <td>1.0</td>\n",
       "      <td>tragedy</td>\n",
       "      <td>tragedy</td>\n",
       "    </tr>\n",
       "    <tr>\n",
       "      <th>55783</th>\n",
       "      <td>55784</td>\n",
       "      <td>macbeth</td>\n",
       "      <td>In thunder, lightning, or in rain?</td>\n",
       "      <td>1.1.2</td>\n",
       "      <td>First Witch</td>\n",
       "      <td>1.0</td>\n",
       "      <td>tragedy</td>\n",
       "      <td>tragedy</td>\n",
       "    </tr>\n",
       "  </tbody>\n",
       "</table>\n",
       "</div>"
      ],
      "text/plain": [
       "       Dataline     Play                                        Line  \\\n",
       "55779     55780  macbeth                                       ACT I   \n",
       "55780     55781  macbeth                    SCENE I. A desert place.   \n",
       "55781     55782  macbeth  Thunder and lightning. Enter three Witches   \n",
       "55782     55783  macbeth              When shall we three meet again   \n",
       "55783     55784  macbeth          In thunder, lightning, or in rain?   \n",
       "\n",
       "      ActSceneLine             Player  PlayerLinenumber Traditional   Modern  \n",
       "55779        1.1.1  ADRIANO DE ARMADO             405.0     tragedy  tragedy  \n",
       "55780        1.1.1  ADRIANO DE ARMADO             405.0     tragedy  tragedy  \n",
       "55781        1.1.1  ADRIANO DE ARMADO             405.0     tragedy  tragedy  \n",
       "55782        1.1.1        First Witch               1.0     tragedy  tragedy  \n",
       "55783        1.1.2        First Witch               1.0     tragedy  tragedy  "
      ]
     },
     "execution_count": 3,
     "metadata": {},
     "output_type": "execute_result"
    }
   ],
   "source": [
    "macbeth = shake_df[shake_df['Play'] == 'macbeth']\n",
    "macbeth.head()"
   ]
  },
  {
   "cell_type": "markdown",
   "metadata": {},
   "source": [
    "TreebankWordTokenizer performs the following steps: \n",
    "- split standard contractions, e.g. ``don't`` -> ``do n't`` and ``they'll`` -> ``they 'll``\n",
    "- treat most punctuation characters as separate tokens\n",
    "- split off commas and single quotes, when followed by whitespace\n",
    "- separate periods that appear at the end of line"
   ]
  },
  {
   "cell_type": "code",
   "execution_count": 6,
   "metadata": {},
   "outputs": [
    {
     "name": "stderr",
     "output_type": "stream",
     "text": [
      "<ipython-input-6-3053f9e6ce36>:3: SettingWithCopyWarning: \n",
      "A value is trying to be set on a copy of a slice from a DataFrame.\n",
      "Try using .loc[row_indexer,col_indexer] = value instead\n",
      "\n",
      "See the caveats in the documentation: https://pandas.pydata.org/pandas-docs/stable/user_guide/indexing.html#returning-a-view-versus-a-copy\n",
      "  macbeth['line_tokenized'] = macbeth['Line'].apply(lambda x: twd.tokenize(x.lower()))\n"
     ]
    },
    {
     "data": {
      "text/html": [
       "<div>\n",
       "<style scoped>\n",
       "    .dataframe tbody tr th:only-of-type {\n",
       "        vertical-align: middle;\n",
       "    }\n",
       "\n",
       "    .dataframe tbody tr th {\n",
       "        vertical-align: top;\n",
       "    }\n",
       "\n",
       "    .dataframe thead th {\n",
       "        text-align: right;\n",
       "    }\n",
       "</style>\n",
       "<table border=\"1\" class=\"dataframe\">\n",
       "  <thead>\n",
       "    <tr style=\"text-align: right;\">\n",
       "      <th></th>\n",
       "      <th>Dataline</th>\n",
       "      <th>Play</th>\n",
       "      <th>Line</th>\n",
       "      <th>ActSceneLine</th>\n",
       "      <th>Player</th>\n",
       "      <th>PlayerLinenumber</th>\n",
       "      <th>Traditional</th>\n",
       "      <th>Modern</th>\n",
       "      <th>line_tokenized</th>\n",
       "    </tr>\n",
       "  </thead>\n",
       "  <tbody>\n",
       "    <tr>\n",
       "      <th>55779</th>\n",
       "      <td>55780</td>\n",
       "      <td>macbeth</td>\n",
       "      <td>ACT I</td>\n",
       "      <td>1.1.1</td>\n",
       "      <td>ADRIANO DE ARMADO</td>\n",
       "      <td>405.0</td>\n",
       "      <td>tragedy</td>\n",
       "      <td>tragedy</td>\n",
       "      <td>[act, i]</td>\n",
       "    </tr>\n",
       "    <tr>\n",
       "      <th>55780</th>\n",
       "      <td>55781</td>\n",
       "      <td>macbeth</td>\n",
       "      <td>SCENE I. A desert place.</td>\n",
       "      <td>1.1.1</td>\n",
       "      <td>ADRIANO DE ARMADO</td>\n",
       "      <td>405.0</td>\n",
       "      <td>tragedy</td>\n",
       "      <td>tragedy</td>\n",
       "      <td>[scene, i., a, desert, place, .]</td>\n",
       "    </tr>\n",
       "    <tr>\n",
       "      <th>55781</th>\n",
       "      <td>55782</td>\n",
       "      <td>macbeth</td>\n",
       "      <td>Thunder and lightning. Enter three Witches</td>\n",
       "      <td>1.1.1</td>\n",
       "      <td>ADRIANO DE ARMADO</td>\n",
       "      <td>405.0</td>\n",
       "      <td>tragedy</td>\n",
       "      <td>tragedy</td>\n",
       "      <td>[thunder, and, lightning., enter, three, witches]</td>\n",
       "    </tr>\n",
       "  </tbody>\n",
       "</table>\n",
       "</div>"
      ],
      "text/plain": [
       "       Dataline     Play                                        Line  \\\n",
       "55779     55780  macbeth                                       ACT I   \n",
       "55780     55781  macbeth                    SCENE I. A desert place.   \n",
       "55781     55782  macbeth  Thunder and lightning. Enter three Witches   \n",
       "\n",
       "      ActSceneLine             Player  PlayerLinenumber Traditional   Modern  \\\n",
       "55779        1.1.1  ADRIANO DE ARMADO             405.0     tragedy  tragedy   \n",
       "55780        1.1.1  ADRIANO DE ARMADO             405.0     tragedy  tragedy   \n",
       "55781        1.1.1  ADRIANO DE ARMADO             405.0     tragedy  tragedy   \n",
       "\n",
       "                                          line_tokenized  \n",
       "55779                                           [act, i]  \n",
       "55780                   [scene, i., a, desert, place, .]  \n",
       "55781  [thunder, and, lightning., enter, three, witches]  "
      ]
     },
     "execution_count": 6,
     "metadata": {},
     "output_type": "execute_result"
    }
   ],
   "source": [
    "twd = TreebankWordTokenizer()\n",
    "\n",
    "macbeth['line_tokenized'] = macbeth['Line'].apply(lambda x: twd.tokenize(x.lower()))\n",
    "macbeth.head(3)"
   ]
  },
  {
   "cell_type": "code",
   "execution_count": 12,
   "metadata": {},
   "outputs": [
    {
     "name": "stdout",
     "output_type": "stream",
     "text": [
      "Number of trigrams from Macbeth: 15016\n"
     ]
    }
   ],
   "source": [
    "ngram_cv = CountVectorizer(ngram_range=(3,3), tokenizer=TreebankWordTokenizer().tokenize, analyzer='word')\n",
    "macbeth_matrix = ngram_cv.fit_transform(macbeth['Line'])\n",
    "\n",
    "macbeth_trigrams = ngram_cv.get_feature_names()\n",
    "\n",
    "print('Number of trigrams from Macbeth:', len(macbeth_trigrams))"
   ]
  },
  {
   "cell_type": "code",
   "execution_count": 6,
   "metadata": {},
   "outputs": [
    {
     "data": {
      "text/html": [
       "<div>\n",
       "<style scoped>\n",
       "    .dataframe tbody tr th:only-of-type {\n",
       "        vertical-align: middle;\n",
       "    }\n",
       "\n",
       "    .dataframe tbody tr th {\n",
       "        vertical-align: top;\n",
       "    }\n",
       "\n",
       "    .dataframe thead th {\n",
       "        text-align: right;\n",
       "    }\n",
       "</style>\n",
       "<table border=\"1\" class=\"dataframe\">\n",
       "  <thead>\n",
       "    <tr style=\"text-align: right;\">\n",
       "      <th></th>\n",
       "      <th>title</th>\n",
       "    </tr>\n",
       "  </thead>\n",
       "  <tbody>\n",
       "    <tr>\n",
       "      <th>0</th>\n",
       "      <td>! ' and</td>\n",
       "    </tr>\n",
       "    <tr>\n",
       "      <th>1</th>\n",
       "      <td>! ' exeunt</td>\n",
       "    </tr>\n",
       "    <tr>\n",
       "      <th>2</th>\n",
       "      <td>! ' the</td>\n",
       "    </tr>\n",
       "    <tr>\n",
       "      <th>3</th>\n",
       "      <td>! ' this</td>\n",
       "    </tr>\n",
       "    <tr>\n",
       "      <th>4</th>\n",
       "      <td>! ' to</td>\n",
       "    </tr>\n",
       "  </tbody>\n",
       "</table>\n",
       "</div>"
      ],
      "text/plain": [
       "        title\n",
       "0     ! ' and\n",
       "1  ! ' exeunt\n",
       "2     ! ' the\n",
       "3    ! ' this\n",
       "4      ! ' to"
      ]
     },
     "execution_count": 6,
     "metadata": {},
     "output_type": "execute_result"
    }
   ],
   "source": [
    "# mac_tri_df = pd.DataFrame(macbeth_trigrams, columns=['title'])\n",
    "# mac_tri_df.head()"
   ]
  },
  {
   "cell_type": "code",
   "execution_count": 15,
   "metadata": {},
   "outputs": [
    {
     "data": {
      "text/plain": [
       "'!\"#$%&\\'()*+,-./:;<=>?@[\\\\]^_`{|}~'"
      ]
     },
     "execution_count": 15,
     "metadata": {},
     "output_type": "execute_result"
    }
   ],
   "source": [
    "# import string\n",
    "\n",
    "# string.punctuation"
   ]
  },
  {
   "cell_type": "code",
   "execution_count": 27,
   "metadata": {},
   "outputs": [
    {
     "data": {
      "text/plain": [
       "['!', \"'\", ',', '-', '.', ':', '?', '[', ']']"
      ]
     },
     "execution_count": 27,
     "metadata": {},
     "output_type": "execute_result"
    }
   ],
   "source": [
    "# punct = list(string.punctuation)\n",
    "# flat_list = ' '.join(macbeth_trigrams)\n",
    "\n",
    "# present_punct = [i for i in punct if i in flat_list]\n",
    "\n",
    "# present_punct"
   ]
  },
  {
   "cell_type": "code",
   "execution_count": 28,
   "metadata": {},
   "outputs": [],
   "source": [
    "# titles_df = pd.read_csv('../data/clean_titles.csv')"
   ]
  },
  {
   "cell_type": "code",
   "execution_count": 34,
   "metadata": {},
   "outputs": [
    {
     "data": {
      "text/plain": [
       "['!', \"'\", ',', '-', '.', '?']"
      ]
     },
     "execution_count": 34,
     "metadata": {},
     "output_type": "execute_result"
    }
   ],
   "source": [
    "# flat_title = ' '.join(titles_df.Title.tolist())\n",
    "\n",
    "# title_present_punct = [i for i in punct if i in flat_title]\n",
    "# title_present_punct"
   ]
  },
  {
   "cell_type": "code",
   "execution_count": 18,
   "metadata": {},
   "outputs": [
    {
     "data": {
      "text/plain": [
       "(15016, 4)"
      ]
     },
     "execution_count": 18,
     "metadata": {},
     "output_type": "execute_result"
    }
   ],
   "source": [
    "mac_tri_df.shape"
   ]
  },
  {
   "cell_type": "code",
   "execution_count": 16,
   "metadata": {},
   "outputs": [
    {
     "data": {
      "text/html": [
       "<div>\n",
       "<style scoped>\n",
       "    .dataframe tbody tr th:only-of-type {\n",
       "        vertical-align: middle;\n",
       "    }\n",
       "\n",
       "    .dataframe tbody tr th {\n",
       "        vertical-align: top;\n",
       "    }\n",
       "\n",
       "    .dataframe thead th {\n",
       "        text-align: right;\n",
       "    }\n",
       "</style>\n",
       "<table border=\"1\" class=\"dataframe\">\n",
       "  <thead>\n",
       "    <tr style=\"text-align: right;\">\n",
       "      <th></th>\n",
       "      <th>title</th>\n",
       "      <th>title_tokenized</th>\n",
       "      <th>title_pos</th>\n",
       "      <th>pos_tag</th>\n",
       "    </tr>\n",
       "  </thead>\n",
       "  <tbody>\n",
       "    <tr>\n",
       "      <th>132</th>\n",
       "      <td>' the world</td>\n",
       "      <td>[', the, world]</td>\n",
       "      <td>[(', ''), (the, DT), (world, NN)]</td>\n",
       "      <td>['', DT, NN]</td>\n",
       "    </tr>\n",
       "    <tr>\n",
       "      <th>11598</th>\n",
       "      <td>the dead ,</td>\n",
       "      <td>[the, dead, ,]</td>\n",
       "      <td>[(the, DT), (dead, JJ), (,, ,)]</td>\n",
       "      <td>[DT, JJ, ,]</td>\n",
       "    </tr>\n",
       "    <tr>\n",
       "      <th>9145</th>\n",
       "      <td>of death and</td>\n",
       "      <td>[of, death, and]</td>\n",
       "      <td>[(of, IN), (death, NN), (and, CC)]</td>\n",
       "      <td>[IN, NN, CC]</td>\n",
       "    </tr>\n",
       "    <tr>\n",
       "      <th>11583</th>\n",
       "      <td>the crown to</td>\n",
       "      <td>[the, crown, to]</td>\n",
       "      <td>[(the, DT), (crown, NN), (to, TO)]</td>\n",
       "      <td>[DT, NN, TO]</td>\n",
       "    </tr>\n",
       "    <tr>\n",
       "      <th>7030</th>\n",
       "      <td>into the seeds</td>\n",
       "      <td>[into, the, seeds]</td>\n",
       "      <td>[(into, IN), (the, DT), (seeds, NNS)]</td>\n",
       "      <td>[IN, DT, NNS]</td>\n",
       "    </tr>\n",
       "    <tr>\n",
       "      <th>3200</th>\n",
       "      <td>bear welcome in</td>\n",
       "      <td>[bear, welcome, in]</td>\n",
       "      <td>[(bear, JJ), (welcome, NN), (in, IN)]</td>\n",
       "      <td>[JJ, NN, IN]</td>\n",
       "    </tr>\n",
       "    <tr>\n",
       "      <th>7564</th>\n",
       "      <td>laugh in 's</td>\n",
       "      <td>[laugh, in, 's]</td>\n",
       "      <td>[(laugh, NN), (in, IN), ('s, POS)]</td>\n",
       "      <td>[NN, IN, POS]</td>\n",
       "    </tr>\n",
       "    <tr>\n",
       "      <th>4909</th>\n",
       "      <td>fellow to it</td>\n",
       "      <td>[fellow, to, it]</td>\n",
       "      <td>[(fellow, NN), (to, TO), (it, PRP)]</td>\n",
       "      <td>[NN, TO, PRP]</td>\n",
       "    </tr>\n",
       "    <tr>\n",
       "      <th>4319</th>\n",
       "      <td>dismay 'd not</td>\n",
       "      <td>[dismay, 'd, not]</td>\n",
       "      <td>[(dismay, NN), ('d, MD), (not, RB)]</td>\n",
       "      <td>[NN, MD, RB]</td>\n",
       "    </tr>\n",
       "    <tr>\n",
       "      <th>3800</th>\n",
       "      <td>chance will have</td>\n",
       "      <td>[chance, will, have]</td>\n",
       "      <td>[(chance, NN), (will, MD), (have, VB)]</td>\n",
       "      <td>[NN, MD, VB]</td>\n",
       "    </tr>\n",
       "  </tbody>\n",
       "</table>\n",
       "</div>"
      ],
      "text/plain": [
       "                  title       title_tokenized  \\\n",
       "132         ' the world       [', the, world]   \n",
       "11598        the dead ,        [the, dead, ,]   \n",
       "9145       of death and      [of, death, and]   \n",
       "11583      the crown to      [the, crown, to]   \n",
       "7030     into the seeds    [into, the, seeds]   \n",
       "3200    bear welcome in   [bear, welcome, in]   \n",
       "7564        laugh in 's       [laugh, in, 's]   \n",
       "4909       fellow to it      [fellow, to, it]   \n",
       "4319      dismay 'd not     [dismay, 'd, not]   \n",
       "3800   chance will have  [chance, will, have]   \n",
       "\n",
       "                                    title_pos        pos_tag  \n",
       "132         [(', ''), (the, DT), (world, NN)]   ['', DT, NN]  \n",
       "11598         [(the, DT), (dead, JJ), (,, ,)]    [DT, JJ, ,]  \n",
       "9145       [(of, IN), (death, NN), (and, CC)]   [IN, NN, CC]  \n",
       "11583      [(the, DT), (crown, NN), (to, TO)]   [DT, NN, TO]  \n",
       "7030    [(into, IN), (the, DT), (seeds, NNS)]  [IN, DT, NNS]  \n",
       "3200    [(bear, JJ), (welcome, NN), (in, IN)]   [JJ, NN, IN]  \n",
       "7564       [(laugh, NN), (in, IN), ('s, POS)]  [NN, IN, POS]  \n",
       "4909      [(fellow, NN), (to, TO), (it, PRP)]  [NN, TO, PRP]  \n",
       "4319      [(dismay, NN), ('d, MD), (not, RB)]   [NN, MD, RB]  \n",
       "3800   [(chance, NN), (will, MD), (have, VB)]   [NN, MD, VB]  "
      ]
     },
     "execution_count": 16,
     "metadata": {},
     "output_type": "execute_result"
    }
   ],
   "source": [
    "mac_tri_df['title_tokenized'] = mac_tri_df['title'].apply(lambda x: twd.tokenize(x))\n",
    "mac_tri_df['title_pos'] = mac_tri_df['title_tokenized'].apply(lambda x: nltk.pos_tag(x))\n",
    "mac_tri_df['pos_tag'] = mac_tri_df['title_pos'].apply(lambda x: [i[1] for i in x])\n",
    "\n",
    "mac_tri_df.sample(10)"
   ]
  },
  {
   "cell_type": "code",
   "execution_count": 23,
   "metadata": {},
   "outputs": [
    {
     "data": {
      "text/plain": [
       "(14296, 4)"
      ]
     },
     "execution_count": 23,
     "metadata": {},
     "output_type": "execute_result"
    }
   ],
   "source": [
    "for index, row in mac_tri_df.iterrows():\n",
    "    if ':' in row['title']:\n",
    "        mac_tri_df.drop(index, inplace=True)\n",
    "    elif '[' in row['title']:\n",
    "        mac_tri_df.drop(index, inplace=True)\n",
    "    elif ']' in row['title']:\n",
    "        mac_tri_df.drop(index, inplace=True)\n",
    "\n",
    "mac_tri_df.shape"
   ]
  },
  {
   "cell_type": "code",
   "execution_count": null,
   "metadata": {},
   "outputs": [],
   "source": []
  },
  {
   "cell_type": "code",
   "execution_count": null,
   "metadata": {},
   "outputs": [],
   "source": []
  }
 ],
 "metadata": {
  "kernelspec": {
   "display_name": "Python 3",
   "language": "python",
   "name": "python3"
  },
  "language_info": {
   "codemirror_mode": {
    "name": "ipython",
    "version": 3
   },
   "file_extension": ".py",
   "mimetype": "text/x-python",
   "name": "python",
   "nbconvert_exporter": "python",
   "pygments_lexer": "ipython3",
   "version": "3.8.3"
  }
 },
 "nbformat": 4,
 "nbformat_minor": 4
}
