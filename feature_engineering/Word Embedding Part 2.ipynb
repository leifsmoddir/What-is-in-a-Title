{
 "cells": [
  {
   "cell_type": "code",
   "execution_count": 1,
   "metadata": {},
   "outputs": [],
   "source": [
    "import gensim\n",
    "import numpy as np\n",
    "import pandas as pd\n",
    "import os\n",
    "\n",
    "pd.set_option('display.max_colwidth', None)"
   ]
  },
  {
   "cell_type": "code",
   "execution_count": 57,
   "metadata": {},
   "outputs": [],
   "source": [
    "bititles = pd.read_csv('../data/bigram_titles_pos.csv')"
   ]
  },
  {
   "cell_type": "code",
   "execution_count": 158,
   "metadata": {},
   "outputs": [],
   "source": [
    "tritles = pd.read_csv('../data/trigram_titles_pos.csv')"
   ]
  },
  {
   "cell_type": "code",
   "execution_count": 58,
   "metadata": {},
   "outputs": [
    {
     "data": {
      "text/html": [
       "<div>\n",
       "<style scoped>\n",
       "    .dataframe tbody tr th:only-of-type {\n",
       "        vertical-align: middle;\n",
       "    }\n",
       "\n",
       "    .dataframe tbody tr th {\n",
       "        vertical-align: top;\n",
       "    }\n",
       "\n",
       "    .dataframe thead th {\n",
       "        text-align: right;\n",
       "    }\n",
       "</style>\n",
       "<table border=\"1\" class=\"dataframe\">\n",
       "  <thead>\n",
       "    <tr style=\"text-align: right;\">\n",
       "      <th></th>\n",
       "      <th>title</th>\n",
       "      <th>title_tokenized</th>\n",
       "      <th>pos_tag</th>\n",
       "      <th>good_title</th>\n",
       "      <th>pos</th>\n",
       "      <th>pos1</th>\n",
       "      <th>pos2</th>\n",
       "    </tr>\n",
       "  </thead>\n",
       "  <tbody>\n",
       "    <tr>\n",
       "      <th>191</th>\n",
       "      <td>also how</td>\n",
       "      <td>['also', 'how']</td>\n",
       "      <td>['RB', 'WRB']</td>\n",
       "      <td>0</td>\n",
       "      <td>['RB', 'WRB']</td>\n",
       "      <td>RB</td>\n",
       "      <td>WRB</td>\n",
       "    </tr>\n",
       "    <tr>\n",
       "      <th>1</th>\n",
       "      <td>stiff news</td>\n",
       "      <td>['stiff', 'news']</td>\n",
       "      <td>['JJ', 'NN']</td>\n",
       "      <td>1</td>\n",
       "      <td>['JJ', 'NN']</td>\n",
       "      <td>JJ</td>\n",
       "      <td>NN</td>\n",
       "    </tr>\n",
       "    <tr>\n",
       "      <th>152</th>\n",
       "      <td>as strong</td>\n",
       "      <td>['as', 'strong']</td>\n",
       "      <td>['IN', 'JJ']</td>\n",
       "      <td>0</td>\n",
       "      <td>['IN', 'JJ']</td>\n",
       "      <td>IN</td>\n",
       "      <td>JJ</td>\n",
       "    </tr>\n",
       "    <tr>\n",
       "      <th>51</th>\n",
       "      <td>brief candle</td>\n",
       "      <td>['brief', 'candle']</td>\n",
       "      <td>['NN', 'NN']</td>\n",
       "      <td>1</td>\n",
       "      <td>['NN', 'NN']</td>\n",
       "      <td>NN</td>\n",
       "      <td>NN</td>\n",
       "    </tr>\n",
       "    <tr>\n",
       "      <th>177</th>\n",
       "      <td>oddly thou</td>\n",
       "      <td>['oddly', 'thou']</td>\n",
       "      <td>['RB', 'JJ']</td>\n",
       "      <td>0</td>\n",
       "      <td>['RB', 'JJ']</td>\n",
       "      <td>RB</td>\n",
       "      <td>JJ</td>\n",
       "    </tr>\n",
       "  </tbody>\n",
       "</table>\n",
       "</div>"
      ],
      "text/plain": [
       "            title      title_tokenized        pos_tag  good_title  \\\n",
       "191      also how      ['also', 'how']  ['RB', 'WRB']           0   \n",
       "1      stiff news    ['stiff', 'news']   ['JJ', 'NN']           1   \n",
       "152     as strong     ['as', 'strong']   ['IN', 'JJ']           0   \n",
       "51   brief candle  ['brief', 'candle']   ['NN', 'NN']           1   \n",
       "177    oddly thou    ['oddly', 'thou']   ['RB', 'JJ']           0   \n",
       "\n",
       "               pos pos1 pos2  \n",
       "191  ['RB', 'WRB']   RB  WRB  \n",
       "1     ['JJ', 'NN']   JJ   NN  \n",
       "152   ['IN', 'JJ']   IN   JJ  \n",
       "51    ['NN', 'NN']   NN   NN  \n",
       "177   ['RB', 'JJ']   RB   JJ  "
      ]
     },
     "execution_count": 58,
     "metadata": {},
     "output_type": "execute_result"
    }
   ],
   "source": [
    "bititles.sample(5)"
   ]
  },
  {
   "cell_type": "markdown",
   "metadata": {},
   "source": [
    "Note: `df.title_tokenized` and `df.pos_tag` are stored as strings. I will need to recreate the token inorder to move forward with the vectorization."
   ]
  },
  {
   "cell_type": "code",
   "execution_count": 59,
   "metadata": {},
   "outputs": [],
   "source": [
    "bititles = bititles.drop(columns=['title_tokenized', 'pos_tag'])"
   ]
  },
  {
   "cell_type": "code",
   "execution_count": 60,
   "metadata": {},
   "outputs": [],
   "source": [
    "def tokenize(text):\n",
    "    tokens = text.split(' ')\n",
    "    return tokens"
   ]
  },
  {
   "cell_type": "code",
   "execution_count": 76,
   "metadata": {},
   "outputs": [
    {
     "data": {
      "text/html": [
       "<div>\n",
       "<style scoped>\n",
       "    .dataframe tbody tr th:only-of-type {\n",
       "        vertical-align: middle;\n",
       "    }\n",
       "\n",
       "    .dataframe tbody tr th {\n",
       "        vertical-align: top;\n",
       "    }\n",
       "\n",
       "    .dataframe thead th {\n",
       "        text-align: right;\n",
       "    }\n",
       "</style>\n",
       "<table border=\"1\" class=\"dataframe\">\n",
       "  <thead>\n",
       "    <tr style=\"text-align: right;\">\n",
       "      <th></th>\n",
       "      <th>title</th>\n",
       "      <th>good_title</th>\n",
       "      <th>pos</th>\n",
       "      <th>pos1</th>\n",
       "      <th>pos2</th>\n",
       "      <th>title_token</th>\n",
       "    </tr>\n",
       "  </thead>\n",
       "  <tbody>\n",
       "    <tr>\n",
       "      <th>4</th>\n",
       "      <td>immortal longings</td>\n",
       "      <td>1</td>\n",
       "      <td>['JJ', 'NNS']</td>\n",
       "      <td>JJ</td>\n",
       "      <td>NNS</td>\n",
       "      <td>[immortal, longings]</td>\n",
       "    </tr>\n",
       "    <tr>\n",
       "      <th>92</th>\n",
       "      <td>primrose path</td>\n",
       "      <td>1</td>\n",
       "      <td>['JJ', 'NN']</td>\n",
       "      <td>JJ</td>\n",
       "      <td>NN</td>\n",
       "      <td>[primrose, path]</td>\n",
       "    </tr>\n",
       "    <tr>\n",
       "      <th>132</th>\n",
       "      <td>wet a</td>\n",
       "      <td>0</td>\n",
       "      <td>['NN', 'DT']</td>\n",
       "      <td>NN</td>\n",
       "      <td>DT</td>\n",
       "      <td>[wet, a]</td>\n",
       "    </tr>\n",
       "    <tr>\n",
       "      <th>112</th>\n",
       "      <td>fantastic garlands</td>\n",
       "      <td>1</td>\n",
       "      <td>['JJ', 'NNS']</td>\n",
       "      <td>JJ</td>\n",
       "      <td>NNS</td>\n",
       "      <td>[fantastic, garlands]</td>\n",
       "    </tr>\n",
       "    <tr>\n",
       "      <th>107</th>\n",
       "      <td>bitter business</td>\n",
       "      <td>1</td>\n",
       "      <td>['NN', 'NN']</td>\n",
       "      <td>NN</td>\n",
       "      <td>NN</td>\n",
       "      <td>[bitter, business]</td>\n",
       "    </tr>\n",
       "  </tbody>\n",
       "</table>\n",
       "</div>"
      ],
      "text/plain": [
       "                  title  good_title            pos pos1 pos2  \\\n",
       "4     immortal longings           1  ['JJ', 'NNS']   JJ  NNS   \n",
       "92        primrose path           1   ['JJ', 'NN']   JJ   NN   \n",
       "132               wet a           0   ['NN', 'DT']   NN   DT   \n",
       "112  fantastic garlands           1  ['JJ', 'NNS']   JJ  NNS   \n",
       "107     bitter business           1   ['NN', 'NN']   NN   NN   \n",
       "\n",
       "               title_token  \n",
       "4     [immortal, longings]  \n",
       "92        [primrose, path]  \n",
       "132               [wet, a]  \n",
       "112  [fantastic, garlands]  \n",
       "107     [bitter, business]  "
      ]
     },
     "execution_count": 76,
     "metadata": {},
     "output_type": "execute_result"
    }
   ],
   "source": [
    "bititles['title_token'] = bititles['title'].apply(lambda x: tokenize(x))\n",
    "bititles.sample(5)"
   ]
  },
  {
   "cell_type": "code",
   "execution_count": 71,
   "metadata": {},
   "outputs": [],
   "source": [
    "wv = gensim.models.KeyedVectors.load(\"shake_w2v.wordsvectors\", mmap='r')"
   ]
  },
  {
   "cell_type": "code",
   "execution_count": 72,
   "metadata": {},
   "outputs": [
    {
     "data": {
      "text/plain": [
       "26304"
      ]
     },
     "execution_count": 72,
     "metadata": {},
     "output_type": "execute_result"
    }
   ],
   "source": [
    "words = set(wv.index2word)\n",
    "len(words)"
   ]
  },
  {
   "cell_type": "code",
   "execution_count": 77,
   "metadata": {},
   "outputs": [],
   "source": [
    "title_bigram_vect = [np.array([wv[i] for i in ls if i in words])\n",
    "                                for ls in bititles['title_token']]"
   ]
  },
  {
   "cell_type": "code",
   "execution_count": 78,
   "metadata": {},
   "outputs": [
    {
     "name": "stdout",
     "output_type": "stream",
     "text": [
      "['the', 'mousetrap']\n",
      "Vector len: 1\n"
     ]
    }
   ],
   "source": [
    "for i,v in enumerate(title_bigram_vect):\n",
    "    if len(v) != 2:\n",
    "        print(bititles['title_token'][i])\n",
    "        print('Vector len:', len(v))"
   ]
  },
  {
   "cell_type": "code",
   "execution_count": 79,
   "metadata": {},
   "outputs": [],
   "source": [
    "bititles['word_vec'] = title_bigram_vect"
   ]
  },
  {
   "cell_type": "code",
   "execution_count": 96,
   "metadata": {},
   "outputs": [
    {
     "data": {
      "text/html": [
       "<div>\n",
       "<style scoped>\n",
       "    .dataframe tbody tr th:only-of-type {\n",
       "        vertical-align: middle;\n",
       "    }\n",
       "\n",
       "    .dataframe tbody tr th {\n",
       "        vertical-align: top;\n",
       "    }\n",
       "\n",
       "    .dataframe thead th {\n",
       "        text-align: right;\n",
       "    }\n",
       "</style>\n",
       "<table border=\"1\" class=\"dataframe\">\n",
       "  <thead>\n",
       "    <tr style=\"text-align: right;\">\n",
       "      <th></th>\n",
       "      <th>title</th>\n",
       "      <th>good_title</th>\n",
       "      <th>pos</th>\n",
       "      <th>pos1</th>\n",
       "      <th>pos2</th>\n",
       "      <th>title_token</th>\n",
       "      <th>word_vec</th>\n",
       "    </tr>\n",
       "  </thead>\n",
       "  <tbody>\n",
       "    <tr>\n",
       "      <th>191</th>\n",
       "      <td>also how</td>\n",
       "      <td>0</td>\n",
       "      <td>['RB', 'WRB']</td>\n",
       "      <td>RB</td>\n",
       "      <td>WRB</td>\n",
       "      <td>[also, how]</td>\n",
       "      <td>[[-0.022979934, -0.14957634, 0.088824786, -0.1336138, -0.16015625, -0.09398826, -0.11760171, -0.025927734, -0.10890194, -0.017503342, -0.1440794, -0.08985216, 0.0762376, -0.01891163, -0.18584853, 0.055821925, 0.12075767, 0.18564692, 0.028938394, -0.06823189, -0.040031068, 0.07515055, 0.0860051, -0.027304474, 0.1542261, -0.045251578, -0.108198665, -0.008946262, 0.08221746, 0.014065273, 0.21716376, -0.047507104, 0.14100537, -0.11338991, -0.11785462, -0.11412164, 0.03270918, -0.06760631, -0.002538265, -0.098068416, -0.041716453, -0.11798186, -0.027282676, -0.2471764, -0.08521971, 0.070642866, -0.15179339, 0.15591711, 0.019055767, -0.13576756, 0.075572655, 0.18810393, -0.050758705, -0.106226124, -0.15314826, -0.15858771, -0.002878665, -0.16219556, -0.11594179, -0.015629426, 0.16035153, 0.081873894, -0.13423257, -0.021712663, 0.12479984, -0.015619828, 0.27738258, -0.01203079, 0.07780756, -0.066984415, -0.054701347, -0.20139666, -0.15679757, -0.048723664, 0.20575199, -0.08810006, 0.001249268, -0.022066474, 0.037518725, -0.04963545, 0.23448944, 0.049255047, -0.0033423281, -0.082696915, -0.19681612, -0.0885741, -0.001607024, -0.014287992, -0.0759874, -0.048387405, -0.041657615, -0.015126647, 0.121610425, 0.0822942, 0.09659037, -0.065009676, -0.10987431, -0.03969448, -0.0987493, 0.042738274, ...], [0.4627724, -0.4894031, 0.11318402, 0.45502913, -0.8509271, 0.37280843, 0.8794751, -1.1779984, 0.38480288, -0.6220045, -0.9784548, -0.9649737, -0.10897351, -0.15319201, 0.10933102, 0.74822843, 0.22619179, 0.23198211, 0.17022783, -1.6604829, 0.4180563, 0.4572189, -0.31911582, 0.1928861, 0.34889182, 0.95378274, -0.3646155, 0.8279302, 0.6522536, -1.3495537, 1.9525903, -1.3005018, 0.39076445, 1.2708588, 0.22433265, -0.47867295, 0.42423895, -1.0265335, 0.44107842, 0.93290585, -0.120307945, -1.2983769, -0.8467238, -0.54051703, 0.8524439, 1.0791255, -0.30396846, -0.54685533, 0.46753708, -1.3154904, 1.1242154, -0.15300608, -0.91776896, 0.92847604, -0.8801963, 0.80699503, 0.4965766, -1.1231914, 0.1716615, 0.24378361, 1.353204, 1.631174, -0.49170664, -1.7293414, 0.6058834, 0.6845198, -0.5625728, 1.418168, 0.57370836, 0.18764006, -0.31958747, -1.0254151, -0.53141624, 0.19006708, 1.5493617, 0.2346452, -0.58230954, 0.48174, -0.4648727, -0.9617756, 0.37449324, 0.46178642, 0.34846875, -0.6079187, 0.71719223, -0.40672478, -0.9228501, 0.13174789, -0.1997719, -0.26396635, -0.4566339, -0.45658943, 0.4781016, -0.18065271, -0.399497, -0.5733826, 0.41380596, 0.7884742, -0.4511192, -0.7512826, ...]]</td>\n",
       "    </tr>\n",
       "  </tbody>\n",
       "</table>\n",
       "</div>"
      ],
      "text/plain": [
       "        title  good_title            pos pos1 pos2  title_token  \\\n",
       "191  also how           0  ['RB', 'WRB']   RB  WRB  [also, how]   \n",
       "\n",
       "                                                                                                                                                                                                                                                                                                                                                                                                                                                                                                                                                                                                                                                                                                                                                                                                                                                                                                                                                                                                                                                                                                                                                                                                                                                                                                                                                                                                                                                                                                                                                                                                                                                                                                                                                                                                                                                                                                                                                                                                                                                                                                                                                                                                                                                                                                                                                                                                                                                                                                                                                                                                      word_vec  \n",
       "191  [[-0.022979934, -0.14957634, 0.088824786, -0.1336138, -0.16015625, -0.09398826, -0.11760171, -0.025927734, -0.10890194, -0.017503342, -0.1440794, -0.08985216, 0.0762376, -0.01891163, -0.18584853, 0.055821925, 0.12075767, 0.18564692, 0.028938394, -0.06823189, -0.040031068, 0.07515055, 0.0860051, -0.027304474, 0.1542261, -0.045251578, -0.108198665, -0.008946262, 0.08221746, 0.014065273, 0.21716376, -0.047507104, 0.14100537, -0.11338991, -0.11785462, -0.11412164, 0.03270918, -0.06760631, -0.002538265, -0.098068416, -0.041716453, -0.11798186, -0.027282676, -0.2471764, -0.08521971, 0.070642866, -0.15179339, 0.15591711, 0.019055767, -0.13576756, 0.075572655, 0.18810393, -0.050758705, -0.106226124, -0.15314826, -0.15858771, -0.002878665, -0.16219556, -0.11594179, -0.015629426, 0.16035153, 0.081873894, -0.13423257, -0.021712663, 0.12479984, -0.015619828, 0.27738258, -0.01203079, 0.07780756, -0.066984415, -0.054701347, -0.20139666, -0.15679757, -0.048723664, 0.20575199, -0.08810006, 0.001249268, -0.022066474, 0.037518725, -0.04963545, 0.23448944, 0.049255047, -0.0033423281, -0.082696915, -0.19681612, -0.0885741, -0.001607024, -0.014287992, -0.0759874, -0.048387405, -0.041657615, -0.015126647, 0.121610425, 0.0822942, 0.09659037, -0.065009676, -0.10987431, -0.03969448, -0.0987493, 0.042738274, ...], [0.4627724, -0.4894031, 0.11318402, 0.45502913, -0.8509271, 0.37280843, 0.8794751, -1.1779984, 0.38480288, -0.6220045, -0.9784548, -0.9649737, -0.10897351, -0.15319201, 0.10933102, 0.74822843, 0.22619179, 0.23198211, 0.17022783, -1.6604829, 0.4180563, 0.4572189, -0.31911582, 0.1928861, 0.34889182, 0.95378274, -0.3646155, 0.8279302, 0.6522536, -1.3495537, 1.9525903, -1.3005018, 0.39076445, 1.2708588, 0.22433265, -0.47867295, 0.42423895, -1.0265335, 0.44107842, 0.93290585, -0.120307945, -1.2983769, -0.8467238, -0.54051703, 0.8524439, 1.0791255, -0.30396846, -0.54685533, 0.46753708, -1.3154904, 1.1242154, -0.15300608, -0.91776896, 0.92847604, -0.8801963, 0.80699503, 0.4965766, -1.1231914, 0.1716615, 0.24378361, 1.353204, 1.631174, -0.49170664, -1.7293414, 0.6058834, 0.6845198, -0.5625728, 1.418168, 0.57370836, 0.18764006, -0.31958747, -1.0254151, -0.53141624, 0.19006708, 1.5493617, 0.2346452, -0.58230954, 0.48174, -0.4648727, -0.9617756, 0.37449324, 0.46178642, 0.34846875, -0.6079187, 0.71719223, -0.40672478, -0.9228501, 0.13174789, -0.1997719, -0.26396635, -0.4566339, -0.45658943, 0.4781016, -0.18065271, -0.399497, -0.5733826, 0.41380596, 0.7884742, -0.4511192, -0.7512826, ...]]  "
      ]
     },
     "execution_count": 96,
     "metadata": {},
     "output_type": "execute_result"
    }
   ],
   "source": [
    "bititles.sample()"
   ]
  },
  {
   "cell_type": "markdown",
   "metadata": {},
   "source": [
    "Sadly, I'll have to remove `The Mousetrap` since it was in the w2v dictionary. Can't quite figure out why!"
   ]
  },
  {
   "cell_type": "code",
   "execution_count": 81,
   "metadata": {},
   "outputs": [],
   "source": [
    "datapath = '../data'\n",
    "\n",
    "datapath_bititles = os.path.join(datapath, 'bigram_titles_pos_w2v.csv')\n",
    "bititles.to_csv(datapath_bititles, index=False)"
   ]
  },
  {
   "cell_type": "markdown",
   "metadata": {},
   "source": [
    "Now for the trigram titles"
   ]
  },
  {
   "cell_type": "code",
   "execution_count": 140,
   "metadata": {},
   "outputs": [
    {
     "data": {
      "text/html": [
       "<div>\n",
       "<style scoped>\n",
       "    .dataframe tbody tr th:only-of-type {\n",
       "        vertical-align: middle;\n",
       "    }\n",
       "\n",
       "    .dataframe tbody tr th {\n",
       "        vertical-align: top;\n",
       "    }\n",
       "\n",
       "    .dataframe thead th {\n",
       "        text-align: right;\n",
       "    }\n",
       "</style>\n",
       "<table border=\"1\" class=\"dataframe\">\n",
       "  <thead>\n",
       "    <tr style=\"text-align: right;\">\n",
       "      <th></th>\n",
       "      <th>title</th>\n",
       "      <th>title_tokenized</th>\n",
       "      <th>pos_tag</th>\n",
       "      <th>good_title</th>\n",
       "      <th>pos</th>\n",
       "      <th>pos1</th>\n",
       "      <th>pos2</th>\n",
       "      <th>pos3</th>\n",
       "    </tr>\n",
       "  </thead>\n",
       "  <tbody>\n",
       "    <tr>\n",
       "      <th>304</th>\n",
       "      <td>instant of our</td>\n",
       "      <td>['instant', 'of', 'our']</td>\n",
       "      <td>['NN', 'IN', 'PRP$']</td>\n",
       "      <td>0</td>\n",
       "      <td>['NN', 'IN', 'PRP$']</td>\n",
       "      <td>NN</td>\n",
       "      <td>IN</td>\n",
       "      <td>PRP$</td>\n",
       "    </tr>\n",
       "  </tbody>\n",
       "</table>\n",
       "</div>"
      ],
      "text/plain": [
       "              title           title_tokenized               pos_tag  \\\n",
       "304  instant of our  ['instant', 'of', 'our']  ['NN', 'IN', 'PRP$']   \n",
       "\n",
       "     good_title                   pos pos1 pos2  pos3  \n",
       "304           0  ['NN', 'IN', 'PRP$']   NN   IN  PRP$  "
      ]
     },
     "execution_count": 140,
     "metadata": {},
     "output_type": "execute_result"
    }
   ],
   "source": [
    "tritles.sample()"
   ]
  },
  {
   "cell_type": "code",
   "execution_count": 159,
   "metadata": {},
   "outputs": [],
   "source": [
    "tritles = tritles.drop(columns=['title_tokenized', 'pos_tag'])"
   ]
  },
  {
   "cell_type": "code",
   "execution_count": 160,
   "metadata": {},
   "outputs": [],
   "source": [
    "from nltk.tokenize import TreebankWordTokenizer\n",
    "\n",
    "twd = TreebankWordTokenizer()"
   ]
  },
  {
   "cell_type": "code",
   "execution_count": 161,
   "metadata": {},
   "outputs": [
    {
     "data": {
      "text/html": [
       "<div>\n",
       "<style scoped>\n",
       "    .dataframe tbody tr th:only-of-type {\n",
       "        vertical-align: middle;\n",
       "    }\n",
       "\n",
       "    .dataframe tbody tr th {\n",
       "        vertical-align: top;\n",
       "    }\n",
       "\n",
       "    .dataframe thead th {\n",
       "        text-align: right;\n",
       "    }\n",
       "</style>\n",
       "<table border=\"1\" class=\"dataframe\">\n",
       "  <thead>\n",
       "    <tr style=\"text-align: right;\">\n",
       "      <th></th>\n",
       "      <th>title</th>\n",
       "      <th>good_title</th>\n",
       "      <th>pos</th>\n",
       "      <th>pos1</th>\n",
       "      <th>pos2</th>\n",
       "      <th>pos3</th>\n",
       "      <th>title_token</th>\n",
       "    </tr>\n",
       "  </thead>\n",
       "  <tbody>\n",
       "    <tr>\n",
       "      <th>184</th>\n",
       "      <td>a wounded name</td>\n",
       "      <td>1</td>\n",
       "      <td>['DT', 'JJ', 'NN']</td>\n",
       "      <td>DT</td>\n",
       "      <td>JJ</td>\n",
       "      <td>NN</td>\n",
       "      <td>[a, wounded, name]</td>\n",
       "    </tr>\n",
       "    <tr>\n",
       "      <th>242</th>\n",
       "      <td>the seas to</td>\n",
       "      <td>0</td>\n",
       "      <td>['DT', 'NNS', 'TO']</td>\n",
       "      <td>DT</td>\n",
       "      <td>NNS</td>\n",
       "      <td>TO</td>\n",
       "      <td>[the, seas, to]</td>\n",
       "    </tr>\n",
       "    <tr>\n",
       "      <th>257</th>\n",
       "      <td>that knows no</td>\n",
       "      <td>0</td>\n",
       "      <td>['DT', 'VBZ', 'DT']</td>\n",
       "      <td>DT</td>\n",
       "      <td>VBZ</td>\n",
       "      <td>DT</td>\n",
       "      <td>[that, knows, no]</td>\n",
       "    </tr>\n",
       "    <tr>\n",
       "      <th>80</th>\n",
       "      <td>such sweet thunder</td>\n",
       "      <td>1</td>\n",
       "      <td>['JJ', 'JJ', 'NN']</td>\n",
       "      <td>JJ</td>\n",
       "      <td>JJ</td>\n",
       "      <td>NN</td>\n",
       "      <td>[such, sweet, thunder]</td>\n",
       "    </tr>\n",
       "    <tr>\n",
       "      <th>47</th>\n",
       "      <td>men of stones</td>\n",
       "      <td>1</td>\n",
       "      <td>['NNS', 'IN', 'NNS']</td>\n",
       "      <td>NNS</td>\n",
       "      <td>IN</td>\n",
       "      <td>NNS</td>\n",
       "      <td>[men, of, stones]</td>\n",
       "    </tr>\n",
       "  </tbody>\n",
       "</table>\n",
       "</div>"
      ],
      "text/plain": [
       "                  title  good_title                   pos pos1 pos2 pos3  \\\n",
       "184      a wounded name           1    ['DT', 'JJ', 'NN']   DT   JJ   NN   \n",
       "242         the seas to           0   ['DT', 'NNS', 'TO']   DT  NNS   TO   \n",
       "257       that knows no           0   ['DT', 'VBZ', 'DT']   DT  VBZ   DT   \n",
       "80   such sweet thunder           1    ['JJ', 'JJ', 'NN']   JJ   JJ   NN   \n",
       "47        men of stones           1  ['NNS', 'IN', 'NNS']  NNS   IN  NNS   \n",
       "\n",
       "                title_token  \n",
       "184      [a, wounded, name]  \n",
       "242         [the, seas, to]  \n",
       "257       [that, knows, no]  \n",
       "80   [such, sweet, thunder]  \n",
       "47        [men, of, stones]  "
      ]
     },
     "execution_count": 161,
     "metadata": {},
     "output_type": "execute_result"
    }
   ],
   "source": [
    "tritles['title_token'] = tritles['title'].apply(lambda x: twd.tokenize(x))\n",
    "tritles.sample(5)"
   ]
  },
  {
   "cell_type": "code",
   "execution_count": 162,
   "metadata": {},
   "outputs": [],
   "source": [
    "title_trigram_vect = [np.array([wv[i] for i in ls if i in words])\n",
    "                                for ls in tritles['title_token']]"
   ]
  },
  {
   "cell_type": "code",
   "execution_count": 163,
   "metadata": {},
   "outputs": [
    {
     "name": "stdout",
     "output_type": "stream",
     "text": [
      "['understand.', 'there', 'is']\n",
      "Vector len: 2 Index: 196\n",
      "['old', 'woman.', 'that']\n",
      "Vector len: 2 Index: 205\n",
      "['thank', 'you.', 'let']\n",
      "Vector len: 2 Index: 370\n",
      "['scene', 'iv.', 'the']\n",
      "Vector len: 2 Index: 378\n",
      "['pale', 'cast', '...']\n",
      "Vector len: 2 Index: 381\n"
     ]
    }
   ],
   "source": [
    "for i,v in enumerate(title_trigram_vect):\n",
    "    if len(v) != 3:\n",
    "        print(tritles['title_token'][i])\n",
    "        print('Vector len:', len(v), 'Index:', i)"
   ]
  },
  {
   "cell_type": "code",
   "execution_count": 164,
   "metadata": {},
   "outputs": [],
   "source": [
    "tritles.iloc[196,0] = 'understand there is'\n",
    "tritles.iloc[205,0] = 'old woman that'\n",
    "tritles.iloc[370,0] = 'thank you let'\n",
    "tritles.iloc[378,0] = 'scene iv the'"
   ]
  },
  {
   "cell_type": "code",
   "execution_count": 165,
   "metadata": {},
   "outputs": [
    {
     "name": "stdout",
     "output_type": "stream",
     "text": [
      "['pale', 'cast', '...']\n",
      "Vector len: 2 Index: 381\n"
     ]
    }
   ],
   "source": [
    "tritles['title_token'] = tritles['title'].apply(lambda x: twd.tokenize(x))\n",
    "\n",
    "title_trigram_vect = [np.array([wv[i] for i in ls if i in words])\n",
    "                                for ls in tritles['title_token']]\n",
    "\n",
    "for i,v in enumerate(title_trigram_vect):\n",
    "    if len(v) != 3:\n",
    "        print(tritles['title_token'][i])\n",
    "        print('Vector len:', len(v), 'Index:', i)"
   ]
  },
  {
   "cell_type": "code",
   "execution_count": 170,
   "metadata": {},
   "outputs": [],
   "source": [
    "tritles['word_vec'] = title_trigram_vect\n"
   ]
  },
  {
   "cell_type": "code",
   "execution_count": 171,
   "metadata": {},
   "outputs": [],
   "source": [
    "tritles = tritles.reset_index(drop=True)"
   ]
  },
  {
   "cell_type": "code",
   "execution_count": 178,
   "metadata": {},
   "outputs": [],
   "source": [
    "pale_cast = tritles[tritles.title.str.contains('pale')]"
   ]
  },
  {
   "cell_type": "code",
   "execution_count": 181,
   "metadata": {},
   "outputs": [],
   "source": [
    "tritles = tritles.drop(index=[381])"
   ]
  },
  {
   "cell_type": "code",
   "execution_count": 183,
   "metadata": {},
   "outputs": [],
   "source": [
    "datapath_tritles = os.path.join(datapath, 'trigram_titles_pos_w2v.csv')\n",
    "tritles.to_csv(datapath_tritles, index=False)"
   ]
  },
  {
   "cell_type": "markdown",
   "metadata": {},
   "source": [
    "Fourgram time"
   ]
  },
  {
   "cell_type": "code",
   "execution_count": 192,
   "metadata": {},
   "outputs": [],
   "source": [
    "fortles = pd.read_csv('../data/fourgram_titles_pos.csv')"
   ]
  },
  {
   "cell_type": "code",
   "execution_count": 193,
   "metadata": {},
   "outputs": [
    {
     "data": {
      "text/html": [
       "<div>\n",
       "<style scoped>\n",
       "    .dataframe tbody tr th:only-of-type {\n",
       "        vertical-align: middle;\n",
       "    }\n",
       "\n",
       "    .dataframe tbody tr th {\n",
       "        vertical-align: top;\n",
       "    }\n",
       "\n",
       "    .dataframe thead th {\n",
       "        text-align: right;\n",
       "    }\n",
       "</style>\n",
       "<table border=\"1\" class=\"dataframe\">\n",
       "  <thead>\n",
       "    <tr style=\"text-align: right;\">\n",
       "      <th></th>\n",
       "      <th>title</th>\n",
       "      <th>title_tokenized</th>\n",
       "      <th>pos_tag</th>\n",
       "      <th>good_title</th>\n",
       "      <th>pos</th>\n",
       "      <th>pos1</th>\n",
       "      <th>pos2</th>\n",
       "      <th>pos3</th>\n",
       "      <th>pos4</th>\n",
       "    </tr>\n",
       "  </thead>\n",
       "  <tbody>\n",
       "    <tr>\n",
       "      <th>298</th>\n",
       "      <td>then came each actor</td>\n",
       "      <td>['then', 'came', 'each', 'actor']</td>\n",
       "      <td>['RB', 'VBD', 'DT', 'NN']</td>\n",
       "      <td>1</td>\n",
       "      <td>['RB', 'VBD', 'DT', 'NN']</td>\n",
       "      <td>RB</td>\n",
       "      <td>VBD</td>\n",
       "      <td>DT</td>\n",
       "      <td>NN</td>\n",
       "    </tr>\n",
       "  </tbody>\n",
       "</table>\n",
       "</div>"
      ],
      "text/plain": [
       "                    title                    title_tokenized  \\\n",
       "298  then came each actor  ['then', 'came', 'each', 'actor']   \n",
       "\n",
       "                       pos_tag  good_title                        pos pos1  \\\n",
       "298  ['RB', 'VBD', 'DT', 'NN']           1  ['RB', 'VBD', 'DT', 'NN']   RB   \n",
       "\n",
       "    pos2 pos3 pos4  \n",
       "298  VBD   DT   NN  "
      ]
     },
     "execution_count": 193,
     "metadata": {},
     "output_type": "execute_result"
    }
   ],
   "source": [
    "fortles.sample()"
   ]
  },
  {
   "cell_type": "code",
   "execution_count": 194,
   "metadata": {},
   "outputs": [],
   "source": [
    "fortles = fortles.drop(columns=['title_tokenized', 'pos_tag']).reset_index(drop=True)"
   ]
  },
  {
   "cell_type": "code",
   "execution_count": 195,
   "metadata": {},
   "outputs": [
    {
     "data": {
      "text/html": [
       "<div>\n",
       "<style scoped>\n",
       "    .dataframe tbody tr th:only-of-type {\n",
       "        vertical-align: middle;\n",
       "    }\n",
       "\n",
       "    .dataframe tbody tr th {\n",
       "        vertical-align: top;\n",
       "    }\n",
       "\n",
       "    .dataframe thead th {\n",
       "        text-align: right;\n",
       "    }\n",
       "</style>\n",
       "<table border=\"1\" class=\"dataframe\">\n",
       "  <thead>\n",
       "    <tr style=\"text-align: right;\">\n",
       "      <th></th>\n",
       "      <th>title</th>\n",
       "      <th>good_title</th>\n",
       "      <th>pos</th>\n",
       "      <th>pos1</th>\n",
       "      <th>pos2</th>\n",
       "      <th>pos3</th>\n",
       "      <th>pos4</th>\n",
       "      <th>title_token</th>\n",
       "    </tr>\n",
       "  </thead>\n",
       "  <tbody>\n",
       "    <tr>\n",
       "      <th>99</th>\n",
       "      <td>sometimes he is a</td>\n",
       "      <td>0</td>\n",
       "      <td>['RB', 'PRP', 'VBZ', 'DT']</td>\n",
       "      <td>RB</td>\n",
       "      <td>PRP</td>\n",
       "      <td>VBZ</td>\n",
       "      <td>DT</td>\n",
       "      <td>[sometimes, he, is, a]</td>\n",
       "    </tr>\n",
       "    <tr>\n",
       "      <th>331</th>\n",
       "      <td>in such a night</td>\n",
       "      <td>1</td>\n",
       "      <td>['IN', 'PDT', 'DT', 'NN']</td>\n",
       "      <td>IN</td>\n",
       "      <td>PDT</td>\n",
       "      <td>DT</td>\n",
       "      <td>NN</td>\n",
       "      <td>[in, such, a, night]</td>\n",
       "    </tr>\n",
       "    <tr>\n",
       "      <th>304</th>\n",
       "      <td>with a bare bodkin</td>\n",
       "      <td>1</td>\n",
       "      <td>['IN', 'DT', 'NN', 'NN']</td>\n",
       "      <td>IN</td>\n",
       "      <td>DT</td>\n",
       "      <td>NN</td>\n",
       "      <td>NN</td>\n",
       "      <td>[with, a, bare, bodkin]</td>\n",
       "    </tr>\n",
       "    <tr>\n",
       "      <th>309</th>\n",
       "      <td>so runs the world</td>\n",
       "      <td>1</td>\n",
       "      <td>['RB', 'VBZ', 'DT', 'NN']</td>\n",
       "      <td>RB</td>\n",
       "      <td>VBZ</td>\n",
       "      <td>DT</td>\n",
       "      <td>NN</td>\n",
       "      <td>[so, runs, the, world]</td>\n",
       "    </tr>\n",
       "    <tr>\n",
       "      <th>201</th>\n",
       "      <td>nor live so long</td>\n",
       "      <td>1</td>\n",
       "      <td>['CC', 'VBP', 'RB', 'RB']</td>\n",
       "      <td>CC</td>\n",
       "      <td>VBP</td>\n",
       "      <td>RB</td>\n",
       "      <td>RB</td>\n",
       "      <td>[nor, live, so, long]</td>\n",
       "    </tr>\n",
       "  </tbody>\n",
       "</table>\n",
       "</div>"
      ],
      "text/plain": [
       "                  title  good_title                         pos pos1 pos2  \\\n",
       "99    sometimes he is a           0  ['RB', 'PRP', 'VBZ', 'DT']   RB  PRP   \n",
       "331     in such a night           1   ['IN', 'PDT', 'DT', 'NN']   IN  PDT   \n",
       "304  with a bare bodkin           1    ['IN', 'DT', 'NN', 'NN']   IN   DT   \n",
       "309   so runs the world           1   ['RB', 'VBZ', 'DT', 'NN']   RB  VBZ   \n",
       "201    nor live so long           1   ['CC', 'VBP', 'RB', 'RB']   CC  VBP   \n",
       "\n",
       "    pos3 pos4              title_token  \n",
       "99   VBZ   DT   [sometimes, he, is, a]  \n",
       "331   DT   NN     [in, such, a, night]  \n",
       "304   NN   NN  [with, a, bare, bodkin]  \n",
       "309   DT   NN   [so, runs, the, world]  \n",
       "201   RB   RB    [nor, live, so, long]  "
      ]
     },
     "execution_count": 195,
     "metadata": {},
     "output_type": "execute_result"
    }
   ],
   "source": [
    "fortles['title_token'] = fortles['title'].apply(lambda x: twd.tokenize(x))\n",
    "fortles.sample(5)"
   ]
  },
  {
   "cell_type": "code",
   "execution_count": 196,
   "metadata": {},
   "outputs": [],
   "source": [
    "title_fourgram_vect = [np.array([wv[i] for i in ls if i in words])\n",
    "                                for ls in fortles['title_token']]"
   ]
  },
  {
   "cell_type": "code",
   "execution_count": 199,
   "metadata": {},
   "outputs": [
    {
     "name": "stdout",
     "output_type": "stream",
     "text": [
      "['him', 'good.', 'but', 'now']\n",
      "Vector len: 3 Index: 67\n"
     ]
    }
   ],
   "source": [
    "for i,v in enumerate(title_fourgram_vect):\n",
    "    if len(v) != 4:\n",
    "        print(fortles['title_token'][i])\n",
    "        print('Vector len:', len(v), 'Index:', i)"
   ]
  },
  {
   "cell_type": "code",
   "execution_count": 200,
   "metadata": {},
   "outputs": [],
   "source": [
    "fortles.iloc[67, 0] = 'him good but now'"
   ]
  },
  {
   "cell_type": "code",
   "execution_count": 201,
   "metadata": {},
   "outputs": [],
   "source": [
    "fortles['title_token'] = fortles['title'].apply(lambda x: twd.tokenize(x))"
   ]
  },
  {
   "cell_type": "code",
   "execution_count": 202,
   "metadata": {},
   "outputs": [],
   "source": [
    "title_fourgram_vect = [np.array([wv[i] for i in ls if i in words])\n",
    "                                for ls in fortles['title_token']]"
   ]
  },
  {
   "cell_type": "code",
   "execution_count": 203,
   "metadata": {},
   "outputs": [],
   "source": [
    "for i,v in enumerate(title_fourgram_vect):\n",
    "    if len(v) != 4:\n",
    "        print(fortles['title_token'][i])\n",
    "        print('Vector len:', len(v), 'Index:', i)"
   ]
  },
  {
   "cell_type": "code",
   "execution_count": 204,
   "metadata": {},
   "outputs": [
    {
     "data": {
      "text/html": [
       "<div>\n",
       "<style scoped>\n",
       "    .dataframe tbody tr th:only-of-type {\n",
       "        vertical-align: middle;\n",
       "    }\n",
       "\n",
       "    .dataframe tbody tr th {\n",
       "        vertical-align: top;\n",
       "    }\n",
       "\n",
       "    .dataframe thead th {\n",
       "        text-align: right;\n",
       "    }\n",
       "</style>\n",
       "<table border=\"1\" class=\"dataframe\">\n",
       "  <thead>\n",
       "    <tr style=\"text-align: right;\">\n",
       "      <th></th>\n",
       "      <th>title</th>\n",
       "      <th>good_title</th>\n",
       "      <th>pos</th>\n",
       "      <th>pos1</th>\n",
       "      <th>pos2</th>\n",
       "      <th>pos3</th>\n",
       "      <th>pos4</th>\n",
       "      <th>title_token</th>\n",
       "      <th>word_vec</th>\n",
       "    </tr>\n",
       "  </thead>\n",
       "  <tbody>\n",
       "    <tr>\n",
       "      <th>218</th>\n",
       "      <td>deed without a name</td>\n",
       "      <td>1</td>\n",
       "      <td>['NN', 'IN', 'DT', 'NN']</td>\n",
       "      <td>NN</td>\n",
       "      <td>IN</td>\n",
       "      <td>DT</td>\n",
       "      <td>NN</td>\n",
       "      <td>[deed, without, a, name]</td>\n",
       "      <td>[[0.09971741, -0.3549359, -0.14474308, -0.2287407, -0.40789238, 0.049960423, -0.019784512, -0.1002647, -0.316808, -0.14033186, -0.41282865, -0.27415323, 0.22422108, -0.3167942, -0.38675874, 0.054983485, 0.19696133, 0.43280187, -0.01625162, -0.049123023, -0.059687827, -0.07646405, 0.13722232, -0.15160933, 0.22779545, 0.13225125, 0.109137796, 0.09332034, 0.30134305, -0.03976269, 0.19080256, -0.13579266, 0.2857456, -0.03369578, -0.5146034, -0.18968128, 0.22897738, -0.11756749, 0.26079416, 0.0921482, -0.17422917, -0.39658445, 0.38700116, -0.3035355, -0.0852015, 0.21971737, -0.3523931, 0.33225194, 0.058624234, -0.39196175, 0.017897222, 0.570153, -0.03474708, -0.07658074, -0.38655305, -0.20797433, -0.120489076, -0.38179255, -0.16098852, 0.07850514, 0.4384679, 0.03056441, -0.36745515, -0.046854157, 0.25429487, 0.032352854, 0.47104913, -0.18252864, 0.115048625, -0.26136172, -0.009817468, -0.48375538, -0.40287817, -0.16864114, 0.557432, -0.42539138, 0.08703134, 0.048462592, 0.3920839, -0.26478085, 0.3823318, -0.10888061, -0.09781552, -0.24386838, -0.11946313, -0.26476508, -0.25109258, -0.112169474, -0.18360732, 0.062928855, -0.65053797, 0.04492939, 0.0042247027, 0.11783203, 0.07461108, 0.028057447, 0.009863104, 0.11529311, -0.20063567, -0.20598806, ...], [-0.39463553, -0.12127651, 0.121111594, -0.32627466, -0.092607856, -0.16215852, -0.053678114, -0.029015793, -0.23775052, 0.15065695, -0.062523074, -0.6704434, 0.41576684, 0.1691906, 0.019023914, 0.101971895, 0.3539501, 0.5972699, -0.08747495, 0.13953324, -0.034654897, 0.11562963, 0.31664392, -0.055130046, 0.39028877, 0.25478482, -0.21583554, 0.23139083, 0.41582277, 0.009588145, 0.46647903, 0.29460913, 0.44899532, -0.11950944, -0.3005424, -0.24315946, -0.18474552, 0.22778195, 0.12140047, -0.028995968, 0.3692933, -0.092208326, 0.050640345, -0.30486196, -0.3549591, 0.34539744, -0.75143564, 0.6566293, 0.25269452, -0.112969235, 0.06910909, 0.547831, -0.14159018, -0.27737203, -0.8050286, -0.4364258, -0.02714298, -0.37114716, 0.024517186, -0.21627434, 0.4140812, 0.28975308, -0.45128423, 0.61172426, 0.013810879, -0.27754635, 0.5806342, -0.27203226, 0.511924, 0.29630828, -0.44915056, -0.42340508, -0.44232163, 0.106585786, 0.24674407, 0.044335067, 0.11380752, 0.24568193, -0.15034978, 0.19452126, -0.032283988, -0.011029461, 0.09089695, -0.42975083, -0.3308337, -0.5423579, -0.14137521, -0.5265891, -0.04922545, -0.00017243966, 0.032134637, -0.43744943, 0.08396298, 0.3453702, -0.020499028, -0.44092053, 0.11815761, -0.1086973, -0.5380926, 0.013568659, ...], [0.0037827007, 0.38528407, -0.89005077, 0.68134075, -0.6257087, 0.51071924, -0.65132433, 0.38779825, -0.12904674, 0.4555089, 0.0027130279, 0.96652395, -0.44079477, -0.11501818, 0.44554713, 0.15466785, 0.1439884, -1.0048096, 0.67922, 0.2541154, 0.39592692, 0.26066872, 0.78571093, -0.95448524, 0.36508578, -0.44550103, -0.5618714, 0.5286746, -0.3404102, -1.6534402, -0.404452, 0.38635847, 0.7753239, -1.2194571, -0.020017453, -1.5379719, -0.30296764, 0.55004585, 0.08829421, 0.036243152, 0.15908335, -0.71873134, 1.2020459, -1.4041702, 0.47457716, -0.53995514, -0.4889832, -0.9002177, -0.5457865, -0.18203147, 0.56060237, 0.44750765, -1.2579557, -0.8862698, -0.3208279, -1.3687888, -0.6405802, 0.23563847, 0.35265893, 0.024179377, 0.890709, 0.28779456, -0.40365168, 0.08364253, 0.6581713, 0.48427805, 1.0150628, 1.0139993, -1.1473119, -0.9736221, -0.3164108, -0.43866158, -0.2912889, -0.83451134, 0.8478212, -1.0385396, 0.38620248, 0.038319726, 0.4908857, -0.211293, 1.1237628, -0.3348513, -0.61783254, -0.06133736, -0.9495415, 1.1759474, -0.010185094, 0.35829282, 0.41174912, 0.79910886, -0.77667594, 1.0568162, 0.8480671, 0.49061915, 0.25500384, 0.29993686, -0.960396, 0.84746, -0.50562626, -0.20636202, ...], [-0.3594583, -0.28884917, -0.34105173, -0.79121685, 0.08755481, 0.051844947, 0.51017946, -0.26612785, -0.94903904, -0.19020513, -0.34089124, -0.76025337, 0.0026022727, -0.8121035, -0.32829872, 0.39741066, 0.10429576, 0.12691393, -0.4161893, -0.1669975, 0.571817, -0.029148458, -0.11581105, 0.056695107, -0.1051017, 0.26122928, 0.056792423, 0.36241314, 0.14804316, -0.32258773, 0.35367802, -0.60232574, -0.4169072, 0.7524, -0.71057695, -0.015410379, 1.0569772, -0.10016932, -0.14526513, 0.5227975, -0.48417965, -0.821342, 0.13929547, -0.34973451, 0.34706384, 0.85776114, -0.22711653, 0.57237864, 0.32157364, -0.73865926, 0.25923494, -0.037921794, -0.34490108, 0.3380007, -1.30459, -0.15682131, 0.09580371, -0.67270935, -0.78146577, 0.22045656, 0.015366315, 0.52077264, -0.5316, 0.42114407, 0.50601447, 0.26609075, 0.5040094, 0.16471328, 0.0939334, -0.9402625, 0.38254076, -0.6515925, -1.2463862, -0.53295916, 0.63328755, -1.0026342, 0.22398205, -0.51886976, 0.7470583, 0.02994496, 0.70335627, 0.30976513, -0.40288213, -0.3770226, 0.116196774, -0.33947703, -0.85568905, -0.33764896, -0.63997287, 0.7405457, -1.0098803, -0.015930006, 0.25786978, 0.11153536, 0.3673561, 0.44483462, -0.15122417, 1.0140393, -0.20284756, -0.20674731, ...]]</td>\n",
       "    </tr>\n",
       "  </tbody>\n",
       "</table>\n",
       "</div>"
      ],
      "text/plain": [
       "                   title  good_title                       pos pos1 pos2 pos3  \\\n",
       "218  deed without a name           1  ['NN', 'IN', 'DT', 'NN']   NN   IN   DT   \n",
       "\n",
       "    pos4               title_token  \\\n",
       "218   NN  [deed, without, a, name]   \n",
       "\n",
       "                                                                                                                                                                                                                                                                                                                                                                                                                                                                                                                                                                                                                                                                                                                                                                                                                                                                                                                                                                                                                                                                                                                                                                                                                                                                                                                                                                                                                                                                                                                                                                                                                                                                                                                                                                                                                                                                                                                                                                                                                                                                                                                                                                                                                                                                                                                                                                                                                                                                                                                                                                                                                                                                                                                                                                                                                                                                                                                                                                                                                                                                                                                                                                                                                                                                                                                                                                                                                                                                                                                                                                                                                                                                                                                                                                                                                                                                                                                                                                                                                                                                                                                                                                                                                                                                                                                                                                                                                                                                                                                                                                                                                                                                                                                                                                                                                                                                                                                                                                                                                                                                                                                                                                          word_vec  \n",
       "218  [[0.09971741, -0.3549359, -0.14474308, -0.2287407, -0.40789238, 0.049960423, -0.019784512, -0.1002647, -0.316808, -0.14033186, -0.41282865, -0.27415323, 0.22422108, -0.3167942, -0.38675874, 0.054983485, 0.19696133, 0.43280187, -0.01625162, -0.049123023, -0.059687827, -0.07646405, 0.13722232, -0.15160933, 0.22779545, 0.13225125, 0.109137796, 0.09332034, 0.30134305, -0.03976269, 0.19080256, -0.13579266, 0.2857456, -0.03369578, -0.5146034, -0.18968128, 0.22897738, -0.11756749, 0.26079416, 0.0921482, -0.17422917, -0.39658445, 0.38700116, -0.3035355, -0.0852015, 0.21971737, -0.3523931, 0.33225194, 0.058624234, -0.39196175, 0.017897222, 0.570153, -0.03474708, -0.07658074, -0.38655305, -0.20797433, -0.120489076, -0.38179255, -0.16098852, 0.07850514, 0.4384679, 0.03056441, -0.36745515, -0.046854157, 0.25429487, 0.032352854, 0.47104913, -0.18252864, 0.115048625, -0.26136172, -0.009817468, -0.48375538, -0.40287817, -0.16864114, 0.557432, -0.42539138, 0.08703134, 0.048462592, 0.3920839, -0.26478085, 0.3823318, -0.10888061, -0.09781552, -0.24386838, -0.11946313, -0.26476508, -0.25109258, -0.112169474, -0.18360732, 0.062928855, -0.65053797, 0.04492939, 0.0042247027, 0.11783203, 0.07461108, 0.028057447, 0.009863104, 0.11529311, -0.20063567, -0.20598806, ...], [-0.39463553, -0.12127651, 0.121111594, -0.32627466, -0.092607856, -0.16215852, -0.053678114, -0.029015793, -0.23775052, 0.15065695, -0.062523074, -0.6704434, 0.41576684, 0.1691906, 0.019023914, 0.101971895, 0.3539501, 0.5972699, -0.08747495, 0.13953324, -0.034654897, 0.11562963, 0.31664392, -0.055130046, 0.39028877, 0.25478482, -0.21583554, 0.23139083, 0.41582277, 0.009588145, 0.46647903, 0.29460913, 0.44899532, -0.11950944, -0.3005424, -0.24315946, -0.18474552, 0.22778195, 0.12140047, -0.028995968, 0.3692933, -0.092208326, 0.050640345, -0.30486196, -0.3549591, 0.34539744, -0.75143564, 0.6566293, 0.25269452, -0.112969235, 0.06910909, 0.547831, -0.14159018, -0.27737203, -0.8050286, -0.4364258, -0.02714298, -0.37114716, 0.024517186, -0.21627434, 0.4140812, 0.28975308, -0.45128423, 0.61172426, 0.013810879, -0.27754635, 0.5806342, -0.27203226, 0.511924, 0.29630828, -0.44915056, -0.42340508, -0.44232163, 0.106585786, 0.24674407, 0.044335067, 0.11380752, 0.24568193, -0.15034978, 0.19452126, -0.032283988, -0.011029461, 0.09089695, -0.42975083, -0.3308337, -0.5423579, -0.14137521, -0.5265891, -0.04922545, -0.00017243966, 0.032134637, -0.43744943, 0.08396298, 0.3453702, -0.020499028, -0.44092053, 0.11815761, -0.1086973, -0.5380926, 0.013568659, ...], [0.0037827007, 0.38528407, -0.89005077, 0.68134075, -0.6257087, 0.51071924, -0.65132433, 0.38779825, -0.12904674, 0.4555089, 0.0027130279, 0.96652395, -0.44079477, -0.11501818, 0.44554713, 0.15466785, 0.1439884, -1.0048096, 0.67922, 0.2541154, 0.39592692, 0.26066872, 0.78571093, -0.95448524, 0.36508578, -0.44550103, -0.5618714, 0.5286746, -0.3404102, -1.6534402, -0.404452, 0.38635847, 0.7753239, -1.2194571, -0.020017453, -1.5379719, -0.30296764, 0.55004585, 0.08829421, 0.036243152, 0.15908335, -0.71873134, 1.2020459, -1.4041702, 0.47457716, -0.53995514, -0.4889832, -0.9002177, -0.5457865, -0.18203147, 0.56060237, 0.44750765, -1.2579557, -0.8862698, -0.3208279, -1.3687888, -0.6405802, 0.23563847, 0.35265893, 0.024179377, 0.890709, 0.28779456, -0.40365168, 0.08364253, 0.6581713, 0.48427805, 1.0150628, 1.0139993, -1.1473119, -0.9736221, -0.3164108, -0.43866158, -0.2912889, -0.83451134, 0.8478212, -1.0385396, 0.38620248, 0.038319726, 0.4908857, -0.211293, 1.1237628, -0.3348513, -0.61783254, -0.06133736, -0.9495415, 1.1759474, -0.010185094, 0.35829282, 0.41174912, 0.79910886, -0.77667594, 1.0568162, 0.8480671, 0.49061915, 0.25500384, 0.29993686, -0.960396, 0.84746, -0.50562626, -0.20636202, ...], [-0.3594583, -0.28884917, -0.34105173, -0.79121685, 0.08755481, 0.051844947, 0.51017946, -0.26612785, -0.94903904, -0.19020513, -0.34089124, -0.76025337, 0.0026022727, -0.8121035, -0.32829872, 0.39741066, 0.10429576, 0.12691393, -0.4161893, -0.1669975, 0.571817, -0.029148458, -0.11581105, 0.056695107, -0.1051017, 0.26122928, 0.056792423, 0.36241314, 0.14804316, -0.32258773, 0.35367802, -0.60232574, -0.4169072, 0.7524, -0.71057695, -0.015410379, 1.0569772, -0.10016932, -0.14526513, 0.5227975, -0.48417965, -0.821342, 0.13929547, -0.34973451, 0.34706384, 0.85776114, -0.22711653, 0.57237864, 0.32157364, -0.73865926, 0.25923494, -0.037921794, -0.34490108, 0.3380007, -1.30459, -0.15682131, 0.09580371, -0.67270935, -0.78146577, 0.22045656, 0.015366315, 0.52077264, -0.5316, 0.42114407, 0.50601447, 0.26609075, 0.5040094, 0.16471328, 0.0939334, -0.9402625, 0.38254076, -0.6515925, -1.2463862, -0.53295916, 0.63328755, -1.0026342, 0.22398205, -0.51886976, 0.7470583, 0.02994496, 0.70335627, 0.30976513, -0.40288213, -0.3770226, 0.116196774, -0.33947703, -0.85568905, -0.33764896, -0.63997287, 0.7405457, -1.0098803, -0.015930006, 0.25786978, 0.11153536, 0.3673561, 0.44483462, -0.15122417, 1.0140393, -0.20284756, -0.20674731, ...]]  "
      ]
     },
     "execution_count": 204,
     "metadata": {},
     "output_type": "execute_result"
    }
   ],
   "source": [
    "fortles['word_vec'] = title_fourgram_vect\n",
    "fortles.sample()"
   ]
  },
  {
   "cell_type": "code",
   "execution_count": 205,
   "metadata": {},
   "outputs": [],
   "source": [
    "datapath_fortles = os.path.join(datapath, 'fourgram_titles_pos_w2v.csv')\n",
    "fortles.to_csv(datapath_fortles, index=False)"
   ]
  },
  {
   "cell_type": "code",
   "execution_count": 206,
   "metadata": {},
   "outputs": [
    {
     "data": {
      "text/html": [
       "<div>\n",
       "<style scoped>\n",
       "    .dataframe tbody tr th:only-of-type {\n",
       "        vertical-align: middle;\n",
       "    }\n",
       "\n",
       "    .dataframe tbody tr th {\n",
       "        vertical-align: top;\n",
       "    }\n",
       "\n",
       "    .dataframe thead th {\n",
       "        text-align: right;\n",
       "    }\n",
       "</style>\n",
       "<table border=\"1\" class=\"dataframe\">\n",
       "  <thead>\n",
       "    <tr style=\"text-align: right;\">\n",
       "      <th></th>\n",
       "      <th>title</th>\n",
       "      <th>good_title</th>\n",
       "      <th>pos</th>\n",
       "      <th>pos1</th>\n",
       "      <th>pos2</th>\n",
       "      <th>pos3</th>\n",
       "      <th>title_token</th>\n",
       "      <th>word_vec</th>\n",
       "    </tr>\n",
       "  </thead>\n",
       "  <tbody>\n",
       "    <tr>\n",
       "      <th>381</th>\n",
       "      <td>pale cast...</td>\n",
       "      <td>1</td>\n",
       "      <td>['JJ', 'NN', ':']</td>\n",
       "      <td>JJ</td>\n",
       "      <td>NN</td>\n",
       "      <td>:</td>\n",
       "      <td>[pale, cast, ...]</td>\n",
       "      <td>[[-0.3108916, -0.101988465, 0.20639765, -0.23813023, -0.10885187, -0.06360474, -0.20986971, -0.17020041, -0.091397695, -0.07267084, -0.12566926, -0.16435124, 0.063126855, 0.0069331364, -0.3149274, -0.043858316, 0.24329321, 0.3331609, -0.009117269, -0.0062280386, 0.06487999, 0.11196514, 0.5859261, 0.022491315, 0.36697596, 0.058469184, -0.2217976, -0.17763089, 0.19722767, -0.12620527, 0.38071713, -0.16204065, 0.09168638, -0.28762263, -0.05045737, -0.39065367, -0.16720833, 0.021644183, -0.1534211, -0.08795967, -0.052418917, -0.23847748, -0.45312622, -0.62328464, -0.12825759, 0.21572028, -0.21149914, 0.25827196, 0.023155535, -0.34581175, 0.13603559, 0.4291709, -0.28078246, -0.32621863, -0.37098575, -0.35705674, -0.03799931, -0.44466916, -0.27455622, -0.02159789, 0.44510597, 0.42146918, -0.38016635, 0.041844822, 0.31935537, 0.043390237, 0.42047504, 0.0636586, 0.3402081, -0.051891897, -0.18384506, -0.4081837, -0.31317443, 0.006322211, 0.21894091, -0.17572314, -0.043003272, -0.20260485, 0.17131889, -0.17809266, 0.47270793, 0.16938283, -0.09139397, -0.25399074, -0.22015128, -0.20619626, -0.12529022, 0.07885307, -0.08292913, -0.26126355, -0.052163783, -0.07076943, 0.3251626, 0.15185452, 0.39542773, -0.066283606, -0.30004343, -0.008715293, -0.13297524, -0.093927816, ...], [-0.2326625, -0.07258814, -0.09152476, -0.027189905, -0.033913687, 0.080340356, -0.07687738, -0.2841019, 0.10168946, 0.007228152, -0.05830511, -0.12791659, 0.029318498, 0.031473745, -0.26537913, 0.007848461, 0.36353013, 0.41060758, -0.06844182, -0.11475255, -0.08914983, -0.0051500676, 0.3502607, 0.029997071, 0.1646571, 0.20053346, -0.24117331, 0.018971253, 0.28791612, 0.0062777535, 0.14951667, 0.15685716, 0.2123067, -0.41480845, -0.12725726, -0.31487942, -0.10133365, -0.042298555, 0.01589788, 0.10138219, 0.05764333, -0.32207432, -0.18463473, -0.2968849, -0.17636023, 0.104944006, -0.09646621, 0.4196639, -0.066022076, -0.2680597, 0.07303023, 0.28096992, 0.06013724, -0.12862451, -0.41591787, -0.27111632, 0.073786005, -0.4473809, -0.16302092, 0.11634332, 0.1952825, 0.24633294, -0.3654512, 0.34965083, 0.065979086, -0.020338252, 0.37922597, -0.306751, 0.3229627, -0.014523692, -0.3364403, -0.40948716, -0.43815455, 0.019427277, 0.20292027, -0.04632302, 0.09648916, -0.11269662, 0.28718993, -0.20307711, 0.3615697, -0.11322996, -0.1752007, -0.2852252, -0.21122363, -0.32314232, 0.038409043, -0.052047532, -0.26632383, -0.10290651, 0.08947744, -0.016686646, 0.12823968, 0.1203968, 0.2849779, -0.057376456, -0.22593206, -0.26254758, -0.09297707, -0.013407304, ...]]</td>\n",
       "    </tr>\n",
       "  </tbody>\n",
       "</table>\n",
       "</div>"
      ],
      "text/plain": [
       "            title  good_title                pos pos1 pos2 pos3  \\\n",
       "381  pale cast...           1  ['JJ', 'NN', ':']   JJ   NN    :   \n",
       "\n",
       "           title_token  \\\n",
       "381  [pale, cast, ...]   \n",
       "\n",
       "                                                                                                                                                                                                                                                                                                                                                                                                                                                                                                                                                                                                                                                                                                                                                                                                                                                                                                                                                                                                                                                                                                                                                                                                                                                                                                                                                                                                                                                                                                                                                                                                                                                                                                                                                                                                                                                                                                                                                                                                                                                                                                                                                                                                                                                                                                                                                                                                                                                                                                                                                                                                                                                    word_vec  \n",
       "381  [[-0.3108916, -0.101988465, 0.20639765, -0.23813023, -0.10885187, -0.06360474, -0.20986971, -0.17020041, -0.091397695, -0.07267084, -0.12566926, -0.16435124, 0.063126855, 0.0069331364, -0.3149274, -0.043858316, 0.24329321, 0.3331609, -0.009117269, -0.0062280386, 0.06487999, 0.11196514, 0.5859261, 0.022491315, 0.36697596, 0.058469184, -0.2217976, -0.17763089, 0.19722767, -0.12620527, 0.38071713, -0.16204065, 0.09168638, -0.28762263, -0.05045737, -0.39065367, -0.16720833, 0.021644183, -0.1534211, -0.08795967, -0.052418917, -0.23847748, -0.45312622, -0.62328464, -0.12825759, 0.21572028, -0.21149914, 0.25827196, 0.023155535, -0.34581175, 0.13603559, 0.4291709, -0.28078246, -0.32621863, -0.37098575, -0.35705674, -0.03799931, -0.44466916, -0.27455622, -0.02159789, 0.44510597, 0.42146918, -0.38016635, 0.041844822, 0.31935537, 0.043390237, 0.42047504, 0.0636586, 0.3402081, -0.051891897, -0.18384506, -0.4081837, -0.31317443, 0.006322211, 0.21894091, -0.17572314, -0.043003272, -0.20260485, 0.17131889, -0.17809266, 0.47270793, 0.16938283, -0.09139397, -0.25399074, -0.22015128, -0.20619626, -0.12529022, 0.07885307, -0.08292913, -0.26126355, -0.052163783, -0.07076943, 0.3251626, 0.15185452, 0.39542773, -0.066283606, -0.30004343, -0.008715293, -0.13297524, -0.093927816, ...], [-0.2326625, -0.07258814, -0.09152476, -0.027189905, -0.033913687, 0.080340356, -0.07687738, -0.2841019, 0.10168946, 0.007228152, -0.05830511, -0.12791659, 0.029318498, 0.031473745, -0.26537913, 0.007848461, 0.36353013, 0.41060758, -0.06844182, -0.11475255, -0.08914983, -0.0051500676, 0.3502607, 0.029997071, 0.1646571, 0.20053346, -0.24117331, 0.018971253, 0.28791612, 0.0062777535, 0.14951667, 0.15685716, 0.2123067, -0.41480845, -0.12725726, -0.31487942, -0.10133365, -0.042298555, 0.01589788, 0.10138219, 0.05764333, -0.32207432, -0.18463473, -0.2968849, -0.17636023, 0.104944006, -0.09646621, 0.4196639, -0.066022076, -0.2680597, 0.07303023, 0.28096992, 0.06013724, -0.12862451, -0.41591787, -0.27111632, 0.073786005, -0.4473809, -0.16302092, 0.11634332, 0.1952825, 0.24633294, -0.3654512, 0.34965083, 0.065979086, -0.020338252, 0.37922597, -0.306751, 0.3229627, -0.014523692, -0.3364403, -0.40948716, -0.43815455, 0.019427277, 0.20292027, -0.04632302, 0.09648916, -0.11269662, 0.28718993, -0.20307711, 0.3615697, -0.11322996, -0.1752007, -0.2852252, -0.21122363, -0.32314232, 0.038409043, -0.052047532, -0.26632383, -0.10290651, 0.08947744, -0.016686646, 0.12823968, 0.1203968, 0.2849779, -0.057376456, -0.22593206, -0.26254758, -0.09297707, -0.013407304, ...]]  "
      ]
     },
     "execution_count": 206,
     "metadata": {},
     "output_type": "execute_result"
    }
   ],
   "source": [
    "pale_cast"
   ]
  },
  {
   "cell_type": "code",
   "execution_count": 207,
   "metadata": {},
   "outputs": [],
   "source": [
    "pale_cast['title'] = 'pale cast'"
   ]
  },
  {
   "cell_type": "code",
   "execution_count": 209,
   "metadata": {},
   "outputs": [],
   "source": [
    "pale_cast['pos'] = \"['JJ', 'NN']\""
   ]
  },
  {
   "cell_type": "code",
   "execution_count": 210,
   "metadata": {},
   "outputs": [],
   "source": [
    "pale_cast.drop(columns=['pos3', 'word_vec'], inplace=True)"
   ]
  },
  {
   "cell_type": "code",
   "execution_count": 212,
   "metadata": {},
   "outputs": [],
   "source": [
    "pale_cast.drop(columns=['title_token'], inplace=True)"
   ]
  },
  {
   "cell_type": "code",
   "execution_count": 213,
   "metadata": {},
   "outputs": [],
   "source": [
    "pale_cast['title_token'] = pale_cast['title'].apply(lambda x: twd.tokenize(x))"
   ]
  },
  {
   "cell_type": "code",
   "execution_count": 214,
   "metadata": {},
   "outputs": [
    {
     "data": {
      "text/html": [
       "<div>\n",
       "<style scoped>\n",
       "    .dataframe tbody tr th:only-of-type {\n",
       "        vertical-align: middle;\n",
       "    }\n",
       "\n",
       "    .dataframe tbody tr th {\n",
       "        vertical-align: top;\n",
       "    }\n",
       "\n",
       "    .dataframe thead th {\n",
       "        text-align: right;\n",
       "    }\n",
       "</style>\n",
       "<table border=\"1\" class=\"dataframe\">\n",
       "  <thead>\n",
       "    <tr style=\"text-align: right;\">\n",
       "      <th></th>\n",
       "      <th>title</th>\n",
       "      <th>good_title</th>\n",
       "      <th>pos</th>\n",
       "      <th>pos1</th>\n",
       "      <th>pos2</th>\n",
       "      <th>title_token</th>\n",
       "    </tr>\n",
       "  </thead>\n",
       "  <tbody>\n",
       "    <tr>\n",
       "      <th>381</th>\n",
       "      <td>pale cast</td>\n",
       "      <td>1</td>\n",
       "      <td>['JJ', 'NN']</td>\n",
       "      <td>JJ</td>\n",
       "      <td>NN</td>\n",
       "      <td>[pale, cast]</td>\n",
       "    </tr>\n",
       "  </tbody>\n",
       "</table>\n",
       "</div>"
      ],
      "text/plain": [
       "         title  good_title           pos pos1 pos2   title_token\n",
       "381  pale cast           1  ['JJ', 'NN']   JJ   NN  [pale, cast]"
      ]
     },
     "execution_count": 214,
     "metadata": {},
     "output_type": "execute_result"
    }
   ],
   "source": [
    "pale_cast"
   ]
  },
  {
   "cell_type": "code",
   "execution_count": 215,
   "metadata": {},
   "outputs": [],
   "source": [
    "pale_cast['word_vec'] = [np.array([wv[i] for i in ls if i in words])\n",
    "                                for ls in pale_cast['title_token']]"
   ]
  },
  {
   "cell_type": "code",
   "execution_count": 225,
   "metadata": {},
   "outputs": [
    {
     "data": {
      "text/html": [
       "<div>\n",
       "<style scoped>\n",
       "    .dataframe tbody tr th:only-of-type {\n",
       "        vertical-align: middle;\n",
       "    }\n",
       "\n",
       "    .dataframe tbody tr th {\n",
       "        vertical-align: top;\n",
       "    }\n",
       "\n",
       "    .dataframe thead th {\n",
       "        text-align: right;\n",
       "    }\n",
       "</style>\n",
       "<table border=\"1\" class=\"dataframe\">\n",
       "  <thead>\n",
       "    <tr style=\"text-align: right;\">\n",
       "      <th></th>\n",
       "      <th>title</th>\n",
       "      <th>good_title</th>\n",
       "      <th>pos</th>\n",
       "      <th>pos1</th>\n",
       "      <th>pos2</th>\n",
       "      <th>title_token</th>\n",
       "      <th>word_vec</th>\n",
       "    </tr>\n",
       "  </thead>\n",
       "  <tbody>\n",
       "    <tr>\n",
       "      <th>381</th>\n",
       "      <td>pale cast</td>\n",
       "      <td>1</td>\n",
       "      <td>['JJ', 'NN']</td>\n",
       "      <td>JJ</td>\n",
       "      <td>NN</td>\n",
       "      <td>[pale, cast]</td>\n",
       "      <td>[[-0.3108916, -0.101988465, 0.20639765, -0.23813023, -0.10885187, -0.06360474, -0.20986971, -0.17020041, -0.091397695, -0.07267084, -0.12566926, -0.16435124, 0.063126855, 0.0069331364, -0.3149274, -0.043858316, 0.24329321, 0.3331609, -0.009117269, -0.0062280386, 0.06487999, 0.11196514, 0.5859261, 0.022491315, 0.36697596, 0.058469184, -0.2217976, -0.17763089, 0.19722767, -0.12620527, 0.38071713, -0.16204065, 0.09168638, -0.28762263, -0.05045737, -0.39065367, -0.16720833, 0.021644183, -0.1534211, -0.08795967, -0.052418917, -0.23847748, -0.45312622, -0.62328464, -0.12825759, 0.21572028, -0.21149914, 0.25827196, 0.023155535, -0.34581175, 0.13603559, 0.4291709, -0.28078246, -0.32621863, -0.37098575, -0.35705674, -0.03799931, -0.44466916, -0.27455622, -0.02159789, 0.44510597, 0.42146918, -0.38016635, 0.041844822, 0.31935537, 0.043390237, 0.42047504, 0.0636586, 0.3402081, -0.051891897, -0.18384506, -0.4081837, -0.31317443, 0.006322211, 0.21894091, -0.17572314, -0.043003272, -0.20260485, 0.17131889, -0.17809266, 0.47270793, 0.16938283, -0.09139397, -0.25399074, -0.22015128, -0.20619626, -0.12529022, 0.07885307, -0.08292913, -0.26126355, -0.052163783, -0.07076943, 0.3251626, 0.15185452, 0.39542773, -0.066283606, -0.30004343, -0.008715293, -0.13297524, -0.093927816, ...], [-0.2326625, -0.07258814, -0.09152476, -0.027189905, -0.033913687, 0.080340356, -0.07687738, -0.2841019, 0.10168946, 0.007228152, -0.05830511, -0.12791659, 0.029318498, 0.031473745, -0.26537913, 0.007848461, 0.36353013, 0.41060758, -0.06844182, -0.11475255, -0.08914983, -0.0051500676, 0.3502607, 0.029997071, 0.1646571, 0.20053346, -0.24117331, 0.018971253, 0.28791612, 0.0062777535, 0.14951667, 0.15685716, 0.2123067, -0.41480845, -0.12725726, -0.31487942, -0.10133365, -0.042298555, 0.01589788, 0.10138219, 0.05764333, -0.32207432, -0.18463473, -0.2968849, -0.17636023, 0.104944006, -0.09646621, 0.4196639, -0.066022076, -0.2680597, 0.07303023, 0.28096992, 0.06013724, -0.12862451, -0.41591787, -0.27111632, 0.073786005, -0.4473809, -0.16302092, 0.11634332, 0.1952825, 0.24633294, -0.3654512, 0.34965083, 0.065979086, -0.020338252, 0.37922597, -0.306751, 0.3229627, -0.014523692, -0.3364403, -0.40948716, -0.43815455, 0.019427277, 0.20292027, -0.04632302, 0.09648916, -0.11269662, 0.28718993, -0.20307711, 0.3615697, -0.11322996, -0.1752007, -0.2852252, -0.21122363, -0.32314232, 0.038409043, -0.052047532, -0.26632383, -0.10290651, 0.08947744, -0.016686646, 0.12823968, 0.1203968, 0.2849779, -0.057376456, -0.22593206, -0.26254758, -0.09297707, -0.013407304, ...]]</td>\n",
       "    </tr>\n",
       "  </tbody>\n",
       "</table>\n",
       "</div>"
      ],
      "text/plain": [
       "         title  good_title           pos pos1 pos2   title_token  \\\n",
       "381  pale cast           1  ['JJ', 'NN']   JJ   NN  [pale, cast]   \n",
       "\n",
       "                                                                                                                                                                                                                                                                                                                                                                                                                                                                                                                                                                                                                                                                                                                                                                                                                                                                                                                                                                                                                                                                                                                                                                                                                                                                                                                                                                                                                                                                                                                                                                                                                                                                                                                                                                                                                                                                                                                                                                                                                                                                                                                                                                                                                                                                                                                                                                                                                                                                                                                                                                                                                                                    word_vec  \n",
       "381  [[-0.3108916, -0.101988465, 0.20639765, -0.23813023, -0.10885187, -0.06360474, -0.20986971, -0.17020041, -0.091397695, -0.07267084, -0.12566926, -0.16435124, 0.063126855, 0.0069331364, -0.3149274, -0.043858316, 0.24329321, 0.3331609, -0.009117269, -0.0062280386, 0.06487999, 0.11196514, 0.5859261, 0.022491315, 0.36697596, 0.058469184, -0.2217976, -0.17763089, 0.19722767, -0.12620527, 0.38071713, -0.16204065, 0.09168638, -0.28762263, -0.05045737, -0.39065367, -0.16720833, 0.021644183, -0.1534211, -0.08795967, -0.052418917, -0.23847748, -0.45312622, -0.62328464, -0.12825759, 0.21572028, -0.21149914, 0.25827196, 0.023155535, -0.34581175, 0.13603559, 0.4291709, -0.28078246, -0.32621863, -0.37098575, -0.35705674, -0.03799931, -0.44466916, -0.27455622, -0.02159789, 0.44510597, 0.42146918, -0.38016635, 0.041844822, 0.31935537, 0.043390237, 0.42047504, 0.0636586, 0.3402081, -0.051891897, -0.18384506, -0.4081837, -0.31317443, 0.006322211, 0.21894091, -0.17572314, -0.043003272, -0.20260485, 0.17131889, -0.17809266, 0.47270793, 0.16938283, -0.09139397, -0.25399074, -0.22015128, -0.20619626, -0.12529022, 0.07885307, -0.08292913, -0.26126355, -0.052163783, -0.07076943, 0.3251626, 0.15185452, 0.39542773, -0.066283606, -0.30004343, -0.008715293, -0.13297524, -0.093927816, ...], [-0.2326625, -0.07258814, -0.09152476, -0.027189905, -0.033913687, 0.080340356, -0.07687738, -0.2841019, 0.10168946, 0.007228152, -0.05830511, -0.12791659, 0.029318498, 0.031473745, -0.26537913, 0.007848461, 0.36353013, 0.41060758, -0.06844182, -0.11475255, -0.08914983, -0.0051500676, 0.3502607, 0.029997071, 0.1646571, 0.20053346, -0.24117331, 0.018971253, 0.28791612, 0.0062777535, 0.14951667, 0.15685716, 0.2123067, -0.41480845, -0.12725726, -0.31487942, -0.10133365, -0.042298555, 0.01589788, 0.10138219, 0.05764333, -0.32207432, -0.18463473, -0.2968849, -0.17636023, 0.104944006, -0.09646621, 0.4196639, -0.066022076, -0.2680597, 0.07303023, 0.28096992, 0.06013724, -0.12862451, -0.41591787, -0.27111632, 0.073786005, -0.4473809, -0.16302092, 0.11634332, 0.1952825, 0.24633294, -0.3654512, 0.34965083, 0.065979086, -0.020338252, 0.37922597, -0.306751, 0.3229627, -0.014523692, -0.3364403, -0.40948716, -0.43815455, 0.019427277, 0.20292027, -0.04632302, 0.09648916, -0.11269662, 0.28718993, -0.20307711, 0.3615697, -0.11322996, -0.1752007, -0.2852252, -0.21122363, -0.32314232, 0.038409043, -0.052047532, -0.26632383, -0.10290651, 0.08947744, -0.016686646, 0.12823968, 0.1203968, 0.2849779, -0.057376456, -0.22593206, -0.26254758, -0.09297707, -0.013407304, ...]]  "
      ]
     },
     "execution_count": 225,
     "metadata": {},
     "output_type": "execute_result"
    }
   ],
   "source": [
    "pale_cast"
   ]
  },
  {
   "cell_type": "code",
   "execution_count": 226,
   "metadata": {},
   "outputs": [
    {
     "data": {
      "text/html": [
       "<div>\n",
       "<style scoped>\n",
       "    .dataframe tbody tr th:only-of-type {\n",
       "        vertical-align: middle;\n",
       "    }\n",
       "\n",
       "    .dataframe tbody tr th {\n",
       "        vertical-align: top;\n",
       "    }\n",
       "\n",
       "    .dataframe thead th {\n",
       "        text-align: right;\n",
       "    }\n",
       "</style>\n",
       "<table border=\"1\" class=\"dataframe\">\n",
       "  <thead>\n",
       "    <tr style=\"text-align: right;\">\n",
       "      <th></th>\n",
       "      <th>title</th>\n",
       "      <th>good_title</th>\n",
       "      <th>pos</th>\n",
       "      <th>pos1</th>\n",
       "      <th>pos2</th>\n",
       "      <th>title_token</th>\n",
       "      <th>word_vec</th>\n",
       "    </tr>\n",
       "  </thead>\n",
       "  <tbody>\n",
       "    <tr>\n",
       "      <th>0</th>\n",
       "      <td>mingled yarn</td>\n",
       "      <td>1</td>\n",
       "      <td>['VBN', 'NN']</td>\n",
       "      <td>VBN</td>\n",
       "      <td>NN</td>\n",
       "      <td>[mingled, yarn]</td>\n",
       "      <td>[[-0.023475377, -0.03813447, 0.052189663, -0.06313407, -0.042539664, -0.013026759, -0.04603771, -0.034932915, -0.06745275, 0.008875611, -0.01873253, -0.028906284, 0.040086314, 0.017408393, -0.07060121, -0.025142515, 0.11112837, 0.1003507, -0.0015140241, -0.020684885, -0.031736035, -0.009349088, 0.10367606, 0.0040384186, 0.10742449, 0.0017190748, -0.05059378, -0.031371247, 0.035891235, 0.023540262, 0.064747274, 0.01069636, 0.12037299, -0.080140375, -0.048181012, -0.10265537, -0.038845457, -0.0070624445, -0.026118107, -0.032701895, -0.04518409, -0.038349867, 0.0008149014, -0.09987312, -0.067474686, 0.058233965, -0.06469971, 0.17451993, 0.015441698, -0.024093, 0.043928403, 0.08818121, 0.0025976337, -0.047342125, -0.08037882, -0.120445214, 0.028116798, -0.09922744, -0.050451525, -0.027683768, 0.05664206, 0.07891347, -0.12383357, 0.05944503, 0.015607813, -0.00045216168, 0.114458755, -0.062451508, 0.051517993, 0.0021358891, -0.054658376, -0.112983055, -0.07839047, -0.029694341, 0.05357296, -0.022025691, -0.024664177, -0.004374132, 0.042245563, -0.032980897, 0.05784571, 0.015235061, -0.042790912, -0.041571263, -0.08465634, -0.08877522, 0.043640062, -0.026006809, -0.035791606, -0.037267793, 0.016058698, 8.535004e-05, 0.022444569, 0.044464383, 0.05285782, -0.040816452, -0.06295503, -0.06584268, -0.05229518, 0.0006365593, ...], [0.0022399814, -0.018611457, -0.0053824107, -0.013946456, 0.004392432, -0.014146426, -0.0025390575, -0.009949773, -0.0036522704, 0.008200933, -0.0035906977, -0.01595637, -0.009010536, -0.0104446905, -0.012956815, 0.01936011, 0.011007755, 0.020577677, -0.0018280963, -0.0044483454, -0.00434827, 0.0071970765, 0.016761713, -0.0013987528, 0.010824663, -0.006067097, -0.018323986, 0.0052555744, 0.014412565, 0.002692574, 0.0018929243, 0.0007523378, 0.004024967, 0.013266815, 0.018338436, -0.010552525, 0.0033520367, -0.02103153, 0.006207799, -0.012710748, -0.010352769, -0.001947908, -0.0131878285, -0.013005817, -0.019798579, -0.001198406, -0.017377425, 0.016104728, -0.00025058878, -0.0005922171, 0.0049127224, 0.0005540327, 0.0009642264, -0.018411102, -0.016351253, -0.018891415, 0.010646457, -0.026248032, 0.0012962511, -0.017351441, 0.015136573, 0.017236635, -0.012703365, -0.001398398, 0.0011147367, -0.0044223345, 0.0072891917, -0.0059618065, 0.013467095, -3.627126e-05, -0.006876125, -0.016384963, 0.004421975, 0.011249118, 0.011295444, 0.0071320883, -0.0095943175, 0.011660042, -0.0026884552, 0.00015042248, 0.001726336, 0.0038729142, 0.0039670183, -0.010122559, -0.01712276, -0.01944978, -0.0038349214, -0.0060078795, 0.0017942659, -0.0066459915, 0.012130978, -0.02222799, 0.002486902, 0.005727387, -0.0004000716, -0.021681163, -0.0041779703, -0.019902663, -0.016428461, 0.01165324, ...]]</td>\n",
       "    </tr>\n",
       "  </tbody>\n",
       "</table>\n",
       "</div>"
      ],
      "text/plain": [
       "          title  good_title            pos pos1 pos2      title_token  \\\n",
       "0  mingled yarn           1  ['VBN', 'NN']  VBN   NN  [mingled, yarn]   \n",
       "\n",
       "                                                                                                                                                                                                                                                                                                                                                                                                                                                                                                                                                                                                                                                                                                                                                                                                                                                                                                                                                                                                                                                                                                                                                                                                                                                                                                                                                                                                                                                                                                                                                                                                                                                                                                                                                                                                                                                                                                                                                                                                                                                                                                                                                                                                                                                                                                                                                                                                                                                                                                                                                                                                                                                                                                                                                                                                                                         word_vec  \n",
       "0  [[-0.023475377, -0.03813447, 0.052189663, -0.06313407, -0.042539664, -0.013026759, -0.04603771, -0.034932915, -0.06745275, 0.008875611, -0.01873253, -0.028906284, 0.040086314, 0.017408393, -0.07060121, -0.025142515, 0.11112837, 0.1003507, -0.0015140241, -0.020684885, -0.031736035, -0.009349088, 0.10367606, 0.0040384186, 0.10742449, 0.0017190748, -0.05059378, -0.031371247, 0.035891235, 0.023540262, 0.064747274, 0.01069636, 0.12037299, -0.080140375, -0.048181012, -0.10265537, -0.038845457, -0.0070624445, -0.026118107, -0.032701895, -0.04518409, -0.038349867, 0.0008149014, -0.09987312, -0.067474686, 0.058233965, -0.06469971, 0.17451993, 0.015441698, -0.024093, 0.043928403, 0.08818121, 0.0025976337, -0.047342125, -0.08037882, -0.120445214, 0.028116798, -0.09922744, -0.050451525, -0.027683768, 0.05664206, 0.07891347, -0.12383357, 0.05944503, 0.015607813, -0.00045216168, 0.114458755, -0.062451508, 0.051517993, 0.0021358891, -0.054658376, -0.112983055, -0.07839047, -0.029694341, 0.05357296, -0.022025691, -0.024664177, -0.004374132, 0.042245563, -0.032980897, 0.05784571, 0.015235061, -0.042790912, -0.041571263, -0.08465634, -0.08877522, 0.043640062, -0.026006809, -0.035791606, -0.037267793, 0.016058698, 8.535004e-05, 0.022444569, 0.044464383, 0.05285782, -0.040816452, -0.06295503, -0.06584268, -0.05229518, 0.0006365593, ...], [0.0022399814, -0.018611457, -0.0053824107, -0.013946456, 0.004392432, -0.014146426, -0.0025390575, -0.009949773, -0.0036522704, 0.008200933, -0.0035906977, -0.01595637, -0.009010536, -0.0104446905, -0.012956815, 0.01936011, 0.011007755, 0.020577677, -0.0018280963, -0.0044483454, -0.00434827, 0.0071970765, 0.016761713, -0.0013987528, 0.010824663, -0.006067097, -0.018323986, 0.0052555744, 0.014412565, 0.002692574, 0.0018929243, 0.0007523378, 0.004024967, 0.013266815, 0.018338436, -0.010552525, 0.0033520367, -0.02103153, 0.006207799, -0.012710748, -0.010352769, -0.001947908, -0.0131878285, -0.013005817, -0.019798579, -0.001198406, -0.017377425, 0.016104728, -0.00025058878, -0.0005922171, 0.0049127224, 0.0005540327, 0.0009642264, -0.018411102, -0.016351253, -0.018891415, 0.010646457, -0.026248032, 0.0012962511, -0.017351441, 0.015136573, 0.017236635, -0.012703365, -0.001398398, 0.0011147367, -0.0044223345, 0.0072891917, -0.0059618065, 0.013467095, -3.627126e-05, -0.006876125, -0.016384963, 0.004421975, 0.011249118, 0.011295444, 0.0071320883, -0.0095943175, 0.011660042, -0.0026884552, 0.00015042248, 0.001726336, 0.0038729142, 0.0039670183, -0.010122559, -0.01712276, -0.01944978, -0.0038349214, -0.0060078795, 0.0017942659, -0.0066459915, 0.012130978, -0.02222799, 0.002486902, 0.005727387, -0.0004000716, -0.021681163, -0.0041779703, -0.019902663, -0.016428461, 0.01165324, ...]]  "
      ]
     },
     "execution_count": 226,
     "metadata": {},
     "output_type": "execute_result"
    }
   ],
   "source": [
    "bititles.head(1)"
   ]
  },
  {
   "cell_type": "code",
   "execution_count": 227,
   "metadata": {},
   "outputs": [
    {
     "data": {
      "text/plain": [
       "(244, 7)"
      ]
     },
     "execution_count": 227,
     "metadata": {},
     "output_type": "execute_result"
    }
   ],
   "source": [
    "bititles.shape"
   ]
  },
  {
   "cell_type": "code",
   "execution_count": 228,
   "metadata": {},
   "outputs": [
    {
     "data": {
      "text/plain": [
       "(245, 7)"
      ]
     },
     "execution_count": 228,
     "metadata": {},
     "output_type": "execute_result"
    }
   ],
   "source": [
    "bititles = bititles.append(pale_cast, ignore_index=True)\n",
    "bititles.shape"
   ]
  },
  {
   "cell_type": "code",
   "execution_count": 229,
   "metadata": {},
   "outputs": [],
   "source": [
    "datapath_bititles = os.path.join(datapath, 'bigram_titles_pos_w2v.csv')\n",
    "bititles.to_csv(datapath_bititles, index=False)"
   ]
  },
  {
   "cell_type": "code",
   "execution_count": null,
   "metadata": {},
   "outputs": [],
   "source": []
  }
 ],
 "metadata": {
  "kernelspec": {
   "display_name": "Python 3",
   "language": "python",
   "name": "python3"
  },
  "language_info": {
   "codemirror_mode": {
    "name": "ipython",
    "version": 3
   },
   "file_extension": ".py",
   "mimetype": "text/x-python",
   "name": "python",
   "nbconvert_exporter": "python",
   "pygments_lexer": "ipython3",
   "version": "3.8.3"
  }
 },
 "nbformat": 4,
 "nbformat_minor": 4
}
