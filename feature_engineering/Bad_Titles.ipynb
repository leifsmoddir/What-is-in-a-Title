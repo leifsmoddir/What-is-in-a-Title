{
 "cells": [
  {
   "cell_type": "code",
   "execution_count": 712,
   "metadata": {},
   "outputs": [],
   "source": [
    "import pandas as pd\n",
    "import numpy as np\n",
    "import os\n",
    "\n",
    "pd.set_option('display.max_colwidth', None)"
   ]
  },
  {
   "cell_type": "code",
   "execution_count": 713,
   "metadata": {},
   "outputs": [],
   "source": [
    "shake_bi = pd.read_csv('../data/shakespearean_bigrams.csv')\n",
    "shake_tri = pd.read_csv('../data/shakespearean_trigrams.csv')\n",
    "shake_four = pd.read_csv('../data/shakespearean_fourgrams.csv')"
   ]
  },
  {
   "cell_type": "code",
   "execution_count": 714,
   "metadata": {},
   "outputs": [],
   "source": [
    "good_bi = pd.read_csv('../data/good_titles_bigrams.csv')\n",
    "good_tri = pd.read_csv('../data/good_titles_trigrams.csv')\n",
    "good_four = pd.read_csv('../data/good_titles_fourgrams.csv')"
   ]
  },
  {
   "cell_type": "code",
   "execution_count": 4,
   "metadata": {},
   "outputs": [
    {
     "name": "stdout",
     "output_type": "stream",
     "text": [
      "Number of bigram titles: 122\n",
      "Number of trigram titles: 194\n",
      "Number of fourgram titles: 170\n"
     ]
    }
   ],
   "source": [
    "print('Number of bigram titles:', len(good_bi))\n",
    "print('Number of trigram titles:', len(good_tri))\n",
    "print('Number of fourgram titles:', len(good_four))"
   ]
  },
  {
   "cell_type": "code",
   "execution_count": 5,
   "metadata": {},
   "outputs": [
    {
     "data": {
      "text/html": [
       "<div>\n",
       "<style scoped>\n",
       "    .dataframe tbody tr th:only-of-type {\n",
       "        vertical-align: middle;\n",
       "    }\n",
       "\n",
       "    .dataframe tbody tr th {\n",
       "        vertical-align: top;\n",
       "    }\n",
       "\n",
       "    .dataframe thead th {\n",
       "        text-align: right;\n",
       "    }\n",
       "</style>\n",
       "<table border=\"1\" class=\"dataframe\">\n",
       "  <thead>\n",
       "    <tr style=\"text-align: right;\">\n",
       "      <th></th>\n",
       "      <th>title</th>\n",
       "      <th>title_tokenized</th>\n",
       "      <th>title_pos</th>\n",
       "      <th>pos_tag</th>\n",
       "    </tr>\n",
       "  </thead>\n",
       "  <tbody>\n",
       "    <tr>\n",
       "      <th>239936</th>\n",
       "      <td>was misled</td>\n",
       "      <td>['was', 'misled']</td>\n",
       "      <td>[('was', 'VBD'), ('misled', 'VBN')]</td>\n",
       "      <td>['VBD', 'VBN']</td>\n",
       "    </tr>\n",
       "    <tr>\n",
       "      <th>233783</th>\n",
       "      <td>unhandsome ,</td>\n",
       "      <td>['unhandsome', ',']</td>\n",
       "      <td>[('unhandsome', 'NN'), (',', ',')]</td>\n",
       "      <td>['NN', ',']</td>\n",
       "    </tr>\n",
       "    <tr>\n",
       "      <th>2975</th>\n",
       "      <td>'ll convey</td>\n",
       "      <td>[\"'ll\", 'convey']</td>\n",
       "      <td>[(\"'ll\", 'MD'), ('convey', 'VB')]</td>\n",
       "      <td>['MD', 'VB']</td>\n",
       "    </tr>\n",
       "    <tr>\n",
       "      <th>108287</th>\n",
       "      <td>horn is</td>\n",
       "      <td>['horn', 'is']</td>\n",
       "      <td>[('horn', 'NN'), ('is', 'VBZ')]</td>\n",
       "      <td>['NN', 'VBZ']</td>\n",
       "    </tr>\n",
       "    <tr>\n",
       "      <th>158579</th>\n",
       "      <td>one voluptuously</td>\n",
       "      <td>['one', 'voluptuously']</td>\n",
       "      <td>[('one', 'CD'), ('voluptuously', 'RB')]</td>\n",
       "      <td>['CD', 'RB']</td>\n",
       "    </tr>\n",
       "  </tbody>\n",
       "</table>\n",
       "</div>"
      ],
      "text/plain": [
       "                   title          title_tokenized  \\\n",
       "239936        was misled        ['was', 'misled']   \n",
       "233783      unhandsome ,      ['unhandsome', ',']   \n",
       "2975          'll convey        [\"'ll\", 'convey']   \n",
       "108287           horn is           ['horn', 'is']   \n",
       "158579  one voluptuously  ['one', 'voluptuously']   \n",
       "\n",
       "                                      title_pos         pos_tag  \n",
       "239936      [('was', 'VBD'), ('misled', 'VBN')]  ['VBD', 'VBN']  \n",
       "233783       [('unhandsome', 'NN'), (',', ',')]     ['NN', ',']  \n",
       "2975          [(\"'ll\", 'MD'), ('convey', 'VB')]    ['MD', 'VB']  \n",
       "108287          [('horn', 'NN'), ('is', 'VBZ')]   ['NN', 'VBZ']  \n",
       "158579  [('one', 'CD'), ('voluptuously', 'RB')]    ['CD', 'RB']  "
      ]
     },
     "execution_count": 5,
     "metadata": {},
     "output_type": "execute_result"
    }
   ],
   "source": [
    "shake_bi.sample(5)"
   ]
  },
  {
   "cell_type": "code",
   "execution_count": 6,
   "metadata": {},
   "outputs": [
    {
     "data": {
      "text/html": [
       "<div>\n",
       "<style scoped>\n",
       "    .dataframe tbody tr th:only-of-type {\n",
       "        vertical-align: middle;\n",
       "    }\n",
       "\n",
       "    .dataframe tbody tr th {\n",
       "        vertical-align: top;\n",
       "    }\n",
       "\n",
       "    .dataframe thead th {\n",
       "        text-align: right;\n",
       "    }\n",
       "</style>\n",
       "<table border=\"1\" class=\"dataframe\">\n",
       "  <thead>\n",
       "    <tr style=\"text-align: right;\">\n",
       "      <th></th>\n",
       "      <th>uniq_id</th>\n",
       "      <th>Play</th>\n",
       "      <th>Occurences</th>\n",
       "      <th>Title</th>\n",
       "      <th>title_tokenized</th>\n",
       "      <th>title_pos</th>\n",
       "      <th>pos_tag</th>\n",
       "      <th>actual_title_len</th>\n",
       "      <th>tokenized_len</th>\n",
       "    </tr>\n",
       "  </thead>\n",
       "  <tbody>\n",
       "    <tr>\n",
       "      <th>65</th>\n",
       "      <td>675</td>\n",
       "      <td>much ado about nothing</td>\n",
       "      <td>1</td>\n",
       "      <td>kill claudio</td>\n",
       "      <td>['kill', 'claudio']</td>\n",
       "      <td>[('kill', 'NN'), ('claudio', 'NN')]</td>\n",
       "      <td>['NN', 'NN']</td>\n",
       "      <td>2</td>\n",
       "      <td>2</td>\n",
       "    </tr>\n",
       "    <tr>\n",
       "      <th>60</th>\n",
       "      <td>645</td>\n",
       "      <td>midsummer nights dream</td>\n",
       "      <td>1</td>\n",
       "      <td>unbreathed memories</td>\n",
       "      <td>['unbreathed', 'memories']</td>\n",
       "      <td>[('unbreathed', 'JJ'), ('memories', 'NNS')]</td>\n",
       "      <td>['JJ', 'NNS']</td>\n",
       "      <td>2</td>\n",
       "      <td>2</td>\n",
       "    </tr>\n",
       "    <tr>\n",
       "      <th>25</th>\n",
       "      <td>261</td>\n",
       "      <td>king lear</td>\n",
       "      <td>1</td>\n",
       "      <td>little world</td>\n",
       "      <td>['little', 'world']</td>\n",
       "      <td>[('little', 'JJ'), ('world', 'NN')]</td>\n",
       "      <td>['JJ', 'NN']</td>\n",
       "      <td>2</td>\n",
       "      <td>2</td>\n",
       "    </tr>\n",
       "    <tr>\n",
       "      <th>91</th>\n",
       "      <td>1150</td>\n",
       "      <td>hamlet</td>\n",
       "      <td>1</td>\n",
       "      <td>foul deeds</td>\n",
       "      <td>['foul', 'deeds']</td>\n",
       "      <td>[('foul', 'NN'), ('deeds', 'NNS')]</td>\n",
       "      <td>['NN', 'NNS']</td>\n",
       "      <td>2</td>\n",
       "      <td>2</td>\n",
       "    </tr>\n",
       "    <tr>\n",
       "      <th>77</th>\n",
       "      <td>954</td>\n",
       "      <td>tempest</td>\n",
       "      <td>1</td>\n",
       "      <td>nothing natural</td>\n",
       "      <td>['nothing', 'natural']</td>\n",
       "      <td>[('nothing', 'NN'), ('natural', 'JJ')]</td>\n",
       "      <td>['NN', 'JJ']</td>\n",
       "      <td>2</td>\n",
       "      <td>2</td>\n",
       "    </tr>\n",
       "  </tbody>\n",
       "</table>\n",
       "</div>"
      ],
      "text/plain": [
       "    uniq_id                    Play  Occurences                Title  \\\n",
       "65      675  much ado about nothing           1         kill claudio   \n",
       "60      645  midsummer nights dream           1  unbreathed memories   \n",
       "25      261               king lear           1         little world   \n",
       "91     1150                  hamlet           1           foul deeds   \n",
       "77      954                 tempest           1      nothing natural   \n",
       "\n",
       "               title_tokenized                                    title_pos  \\\n",
       "65         ['kill', 'claudio']          [('kill', 'NN'), ('claudio', 'NN')]   \n",
       "60  ['unbreathed', 'memories']  [('unbreathed', 'JJ'), ('memories', 'NNS')]   \n",
       "25         ['little', 'world']          [('little', 'JJ'), ('world', 'NN')]   \n",
       "91           ['foul', 'deeds']           [('foul', 'NN'), ('deeds', 'NNS')]   \n",
       "77      ['nothing', 'natural']       [('nothing', 'NN'), ('natural', 'JJ')]   \n",
       "\n",
       "          pos_tag  actual_title_len  tokenized_len  \n",
       "65   ['NN', 'NN']                 2              2  \n",
       "60  ['JJ', 'NNS']                 2              2  \n",
       "25   ['JJ', 'NN']                 2              2  \n",
       "91  ['NN', 'NNS']                 2              2  \n",
       "77   ['NN', 'JJ']                 2              2  "
      ]
     },
     "execution_count": 6,
     "metadata": {},
     "output_type": "execute_result"
    }
   ],
   "source": [
    "good_bi.sample(5)"
   ]
  },
  {
   "cell_type": "code",
   "execution_count": 7,
   "metadata": {},
   "outputs": [],
   "source": [
    "good_bi = good_bi[['Title', 'title_tokenized', 'pos_tag']].rename(columns={'Title':'title'})\n",
    "good_bi['good_title'] = 1"
   ]
  },
  {
   "cell_type": "code",
   "execution_count": 8,
   "metadata": {},
   "outputs": [
    {
     "data": {
      "text/plain": [
       "['JJ', 'NN']      40\n",
       "['NN', 'NN']      25\n",
       "['JJ', 'NNS']     13\n",
       "['NN', 'NNS']     12\n",
       "['VBN', 'NN']      8\n",
       "['VBG', 'NN']      5\n",
       "['DT', 'NN']       3\n",
       "['NN', 'VBD']      2\n",
       "['RB', 'NNS']      2\n",
       "['NN', 'JJ']       2\n",
       "['VBN', 'NNS']     1\n",
       "['NNS', 'NN']      1\n",
       "['JJR', 'NNS']     1\n",
       "['CD', 'NNS']      1\n",
       "['RB', 'VBD']      1\n",
       "['RBR', 'NNS']     1\n",
       "['RBR', 'NN']      1\n",
       "['CD', 'NN']       1\n",
       "['JJS', 'NN']      1\n",
       "['IN', 'NN']       1\n",
       "Name: pos_tag, dtype: int64"
      ]
     },
     "execution_count": 8,
     "metadata": {},
     "output_type": "execute_result"
    }
   ],
   "source": [
    "good_bi.pos_tag.value_counts()"
   ]
  },
  {
   "cell_type": "code",
   "execution_count": 9,
   "metadata": {},
   "outputs": [],
   "source": [
    "bi_pos = [\"['JJ', 'NN']\", \"['NN', 'NN']\", \"['JJ', 'NNS']\", \"['NN', 'NNS']\", \"['VBN', 'NN']\", \"['VBG', 'NN']\"]"
   ]
  },
  {
   "cell_type": "code",
   "execution_count": 10,
   "metadata": {},
   "outputs": [],
   "source": [
    "shake_bi = shake_bi[~shake_bi['pos_tag'].isin(bi_pos)].reset_index(drop=True)\n",
    "shake_bi.drop(columns=['title_pos'], inplace=True)"
   ]
  },
  {
   "cell_type": "code",
   "execution_count": 11,
   "metadata": {},
   "outputs": [
    {
     "data": {
      "text/html": [
       "<div>\n",
       "<style scoped>\n",
       "    .dataframe tbody tr th:only-of-type {\n",
       "        vertical-align: middle;\n",
       "    }\n",
       "\n",
       "    .dataframe tbody tr th {\n",
       "        vertical-align: top;\n",
       "    }\n",
       "\n",
       "    .dataframe thead th {\n",
       "        text-align: right;\n",
       "    }\n",
       "</style>\n",
       "<table border=\"1\" class=\"dataframe\">\n",
       "  <thead>\n",
       "    <tr style=\"text-align: right;\">\n",
       "      <th></th>\n",
       "      <th>title</th>\n",
       "      <th>title_tokenized</th>\n",
       "      <th>pos_tag</th>\n",
       "      <th>good_title</th>\n",
       "    </tr>\n",
       "  </thead>\n",
       "  <tbody>\n",
       "    <tr>\n",
       "      <th>188767</th>\n",
       "      <td>to vent</td>\n",
       "      <td>['to', 'vent']</td>\n",
       "      <td>['TO', 'VB']</td>\n",
       "      <td>0</td>\n",
       "    </tr>\n",
       "    <tr>\n",
       "      <th>91387</th>\n",
       "      <td>how ceremonious</td>\n",
       "      <td>['how', 'ceremonious']</td>\n",
       "      <td>['WRB', 'JJ']</td>\n",
       "      <td>0</td>\n",
       "    </tr>\n",
       "    <tr>\n",
       "      <th>34953</th>\n",
       "      <td>bear these</td>\n",
       "      <td>['bear', 'these']</td>\n",
       "      <td>['IN', 'DT']</td>\n",
       "      <td>0</td>\n",
       "    </tr>\n",
       "    <tr>\n",
       "      <th>116366</th>\n",
       "      <td>mortals that</td>\n",
       "      <td>['mortals', 'that']</td>\n",
       "      <td>['NNS', 'WDT']</td>\n",
       "      <td>0</td>\n",
       "    </tr>\n",
       "    <tr>\n",
       "      <th>213517</th>\n",
       "      <td>your free</td>\n",
       "      <td>['your', 'free']</td>\n",
       "      <td>['PRP$', 'JJ']</td>\n",
       "      <td>0</td>\n",
       "    </tr>\n",
       "  </tbody>\n",
       "</table>\n",
       "</div>"
      ],
      "text/plain": [
       "                  title         title_tokenized         pos_tag  good_title\n",
       "188767          to vent          ['to', 'vent']    ['TO', 'VB']           0\n",
       "91387   how ceremonious  ['how', 'ceremonious']   ['WRB', 'JJ']           0\n",
       "34953        bear these       ['bear', 'these']    ['IN', 'DT']           0\n",
       "116366     mortals that     ['mortals', 'that']  ['NNS', 'WDT']           0\n",
       "213517        your free        ['your', 'free']  ['PRP$', 'JJ']           0"
      ]
     },
     "execution_count": 11,
     "metadata": {},
     "output_type": "execute_result"
    }
   ],
   "source": [
    "shake_bi['good_title'] = 0\n",
    "shake_bi.sample(5)"
   ]
  },
  {
   "cell_type": "code",
   "execution_count": 12,
   "metadata": {},
   "outputs": [
    {
     "data": {
      "text/plain": [
       "Index(['title', 'title_tokenized', 'pos_tag', 'good_title'], dtype='object')"
      ]
     },
     "execution_count": 12,
     "metadata": {},
     "output_type": "execute_result"
    }
   ],
   "source": [
    "shake_bi.columns"
   ]
  },
  {
   "cell_type": "code",
   "execution_count": 13,
   "metadata": {},
   "outputs": [
    {
     "data": {
      "text/html": [
       "<div>\n",
       "<style scoped>\n",
       "    .dataframe tbody tr th:only-of-type {\n",
       "        vertical-align: middle;\n",
       "    }\n",
       "\n",
       "    .dataframe tbody tr th {\n",
       "        vertical-align: top;\n",
       "    }\n",
       "\n",
       "    .dataframe thead th {\n",
       "        text-align: right;\n",
       "    }\n",
       "</style>\n",
       "<table border=\"1\" class=\"dataframe\">\n",
       "  <thead>\n",
       "    <tr style=\"text-align: right;\">\n",
       "      <th></th>\n",
       "      <th>title</th>\n",
       "      <th>title_tokenized</th>\n",
       "      <th>pos_tag</th>\n",
       "      <th>good_title</th>\n",
       "    </tr>\n",
       "  </thead>\n",
       "  <tbody>\n",
       "  </tbody>\n",
       "</table>\n",
       "</div>"
      ],
      "text/plain": [
       "Empty DataFrame\n",
       "Columns: [title, title_tokenized, pos_tag, good_title]\n",
       "Index: []"
      ]
     },
     "execution_count": 13,
     "metadata": {},
     "output_type": "execute_result"
    }
   ],
   "source": [
    "bad_bi = pd.DataFrame(columns=['title', 'title_tokenized', 'pos_tag', 'good_title'])\n",
    "bad_bi"
   ]
  },
  {
   "cell_type": "code",
   "execution_count": 239,
   "metadata": {},
   "outputs": [
    {
     "data": {
      "text/html": [
       "<div>\n",
       "<style scoped>\n",
       "    .dataframe tbody tr th:only-of-type {\n",
       "        vertical-align: middle;\n",
       "    }\n",
       "\n",
       "    .dataframe tbody tr th {\n",
       "        vertical-align: top;\n",
       "    }\n",
       "\n",
       "    .dataframe thead th {\n",
       "        text-align: right;\n",
       "    }\n",
       "</style>\n",
       "<table border=\"1\" class=\"dataframe\">\n",
       "  <thead>\n",
       "    <tr style=\"text-align: right;\">\n",
       "      <th></th>\n",
       "      <th>title</th>\n",
       "      <th>title_tokenized</th>\n",
       "      <th>pos_tag</th>\n",
       "      <th>good_title</th>\n",
       "    </tr>\n",
       "  </thead>\n",
       "  <tbody>\n",
       "    <tr>\n",
       "      <th>163303</th>\n",
       "      <td>stolen his</td>\n",
       "      <td>['stolen', 'his']</td>\n",
       "      <td>['VBN', 'PRP$']</td>\n",
       "      <td>0</td>\n",
       "    </tr>\n",
       "    <tr>\n",
       "      <th>179255</th>\n",
       "      <td>there they</td>\n",
       "      <td>['there', 'they']</td>\n",
       "      <td>['RB', 'PRP']</td>\n",
       "      <td>0</td>\n",
       "    </tr>\n",
       "    <tr>\n",
       "      <th>18440</th>\n",
       "      <td>ainsi dis-je</td>\n",
       "      <td>['ainsi', 'dis-je']</td>\n",
       "      <td>['RB', 'NN']</td>\n",
       "      <td>0</td>\n",
       "    </tr>\n",
       "    <tr>\n",
       "      <th>183066</th>\n",
       "      <td>this unseasoned</td>\n",
       "      <td>['this', 'unseasoned']</td>\n",
       "      <td>['DT', 'JJ']</td>\n",
       "      <td>0</td>\n",
       "    </tr>\n",
       "    <tr>\n",
       "      <th>176200</th>\n",
       "      <td>the verses</td>\n",
       "      <td>['the', 'verses']</td>\n",
       "      <td>['DT', 'NNS']</td>\n",
       "      <td>0</td>\n",
       "    </tr>\n",
       "    <tr>\n",
       "      <th>108014</th>\n",
       "      <td>lottery of</td>\n",
       "      <td>['lottery', 'of']</td>\n",
       "      <td>['NN', 'IN']</td>\n",
       "      <td>0</td>\n",
       "    </tr>\n",
       "    <tr>\n",
       "      <th>116071</th>\n",
       "      <td>more slaughter</td>\n",
       "      <td>['more', 'slaughter']</td>\n",
       "      <td>['RBR', 'NN']</td>\n",
       "      <td>0</td>\n",
       "    </tr>\n",
       "    <tr>\n",
       "      <th>37125</th>\n",
       "      <td>benison .</td>\n",
       "      <td>['benison', '.']</td>\n",
       "      <td>['NN', '.']</td>\n",
       "      <td>0</td>\n",
       "    </tr>\n",
       "    <tr>\n",
       "      <th>119654</th>\n",
       "      <td>my men</td>\n",
       "      <td>['my', 'men']</td>\n",
       "      <td>['PRP$', 'NNS']</td>\n",
       "      <td>0</td>\n",
       "    </tr>\n",
       "    <tr>\n",
       "      <th>35796</th>\n",
       "      <td>been oppress</td>\n",
       "      <td>['been', 'oppress']</td>\n",
       "      <td>['VBN', 'JJ']</td>\n",
       "      <td>0</td>\n",
       "    </tr>\n",
       "    <tr>\n",
       "      <th>70857</th>\n",
       "      <td>for corn</td>\n",
       "      <td>['for', 'corn']</td>\n",
       "      <td>['IN', 'NN']</td>\n",
       "      <td>0</td>\n",
       "    </tr>\n",
       "    <tr>\n",
       "      <th>116914</th>\n",
       "      <td>most true</td>\n",
       "      <td>['most', 'true']</td>\n",
       "      <td>['JJS', 'JJ']</td>\n",
       "      <td>0</td>\n",
       "    </tr>\n",
       "    <tr>\n",
       "      <th>167678</th>\n",
       "      <td>tent themselves</td>\n",
       "      <td>['tent', 'themselves']</td>\n",
       "      <td>['NN', 'PRP']</td>\n",
       "      <td>0</td>\n",
       "    </tr>\n",
       "    <tr>\n",
       "      <th>34543</th>\n",
       "      <td>be styled</td>\n",
       "      <td>['be', 'styled']</td>\n",
       "      <td>['VB', 'VBN']</td>\n",
       "      <td>0</td>\n",
       "    </tr>\n",
       "    <tr>\n",
       "      <th>128304</th>\n",
       "      <td>of combat</td>\n",
       "      <td>['of', 'combat']</td>\n",
       "      <td>['IN', 'NN']</td>\n",
       "      <td>0</td>\n",
       "    </tr>\n",
       "  </tbody>\n",
       "</table>\n",
       "</div>"
      ],
      "text/plain": [
       "                  title         title_tokenized          pos_tag  good_title\n",
       "163303       stolen his       ['stolen', 'his']  ['VBN', 'PRP$']           0\n",
       "179255       there they       ['there', 'they']    ['RB', 'PRP']           0\n",
       "18440      ainsi dis-je     ['ainsi', 'dis-je']     ['RB', 'NN']           0\n",
       "183066  this unseasoned  ['this', 'unseasoned']     ['DT', 'JJ']           0\n",
       "176200       the verses       ['the', 'verses']    ['DT', 'NNS']           0\n",
       "108014       lottery of       ['lottery', 'of']     ['NN', 'IN']           0\n",
       "116071   more slaughter   ['more', 'slaughter']    ['RBR', 'NN']           0\n",
       "37125         benison .        ['benison', '.']      ['NN', '.']           0\n",
       "119654           my men           ['my', 'men']  ['PRP$', 'NNS']           0\n",
       "35796      been oppress     ['been', 'oppress']    ['VBN', 'JJ']           0\n",
       "70857          for corn         ['for', 'corn']     ['IN', 'NN']           0\n",
       "116914        most true        ['most', 'true']    ['JJS', 'JJ']           0\n",
       "167678  tent themselves  ['tent', 'themselves']    ['NN', 'PRP']           0\n",
       "34543         be styled        ['be', 'styled']    ['VB', 'VBN']           0\n",
       "128304        of combat        ['of', 'combat']     ['IN', 'NN']           0"
      ]
     },
     "execution_count": 239,
     "metadata": {},
     "output_type": "execute_result"
    }
   ],
   "source": [
    "shake_bi.sample(15)"
   ]
  },
  {
   "cell_type": "code",
   "execution_count": 240,
   "metadata": {},
   "outputs": [],
   "source": [
    "bad_bi = bad_bi.append(shake_bi.iloc[[35796]], ignore_index=True)"
   ]
  },
  {
   "cell_type": "code",
   "execution_count": 241,
   "metadata": {},
   "outputs": [
    {
     "name": "stdout",
     "output_type": "stream",
     "text": [
      "Number of bad bigram titles: 122\n"
     ]
    }
   ],
   "source": [
    "print('Number of bad bigram titles:', len(bad_bi))"
   ]
  },
  {
   "cell_type": "code",
   "execution_count": 242,
   "metadata": {},
   "outputs": [
    {
     "data": {
      "text/plain": [
       "244"
      ]
     },
     "execution_count": 242,
     "metadata": {},
     "output_type": "execute_result"
    }
   ],
   "source": [
    "bigram_titles = good_bi.append(bad_bi)\n",
    "len(bigram_titles)"
   ]
  },
  {
   "cell_type": "code",
   "execution_count": 243,
   "metadata": {},
   "outputs": [
    {
     "data": {
      "text/html": [
       "<div>\n",
       "<style scoped>\n",
       "    .dataframe tbody tr th:only-of-type {\n",
       "        vertical-align: middle;\n",
       "    }\n",
       "\n",
       "    .dataframe tbody tr th {\n",
       "        vertical-align: top;\n",
       "    }\n",
       "\n",
       "    .dataframe thead th {\n",
       "        text-align: right;\n",
       "    }\n",
       "</style>\n",
       "<table border=\"1\" class=\"dataframe\">\n",
       "  <thead>\n",
       "    <tr style=\"text-align: right;\">\n",
       "      <th></th>\n",
       "      <th>title</th>\n",
       "      <th>title_tokenized</th>\n",
       "      <th>pos_tag</th>\n",
       "      <th>good_title</th>\n",
       "    </tr>\n",
       "  </thead>\n",
       "  <tbody>\n",
       "    <tr>\n",
       "      <th>54</th>\n",
       "      <td>signifying nothing</td>\n",
       "      <td>['signifying', 'nothing']</td>\n",
       "      <td>['VBG', 'NN']</td>\n",
       "      <td>1</td>\n",
       "    </tr>\n",
       "    <tr>\n",
       "      <th>105</th>\n",
       "      <td>witching time</td>\n",
       "      <td>['witching', 'time']</td>\n",
       "      <td>['NN', 'NN']</td>\n",
       "      <td>1</td>\n",
       "    </tr>\n",
       "    <tr>\n",
       "      <th>110</th>\n",
       "      <td>superfluous death</td>\n",
       "      <td>['superfluous', 'death']</td>\n",
       "      <td>['JJ', 'NN']</td>\n",
       "      <td>1</td>\n",
       "    </tr>\n",
       "    <tr>\n",
       "      <th>120</th>\n",
       "      <td>marked him</td>\n",
       "      <td>['marked', 'him']</td>\n",
       "      <td>['VBD', 'PRP']</td>\n",
       "      <td>0</td>\n",
       "    </tr>\n",
       "    <tr>\n",
       "      <th>81</th>\n",
       "      <td>knees than</td>\n",
       "      <td>['knees', 'than']</td>\n",
       "      <td>['NNS', 'IN']</td>\n",
       "      <td>0</td>\n",
       "    </tr>\n",
       "    <tr>\n",
       "      <th>13</th>\n",
       "      <td>themselves with</td>\n",
       "      <td>['themselves', 'with']</td>\n",
       "      <td>['PRP', 'IN']</td>\n",
       "      <td>0</td>\n",
       "    </tr>\n",
       "    <tr>\n",
       "      <th>104</th>\n",
       "      <td>the mousetrap</td>\n",
       "      <td>['the', 'mousetrap']</td>\n",
       "      <td>['DT', 'NN']</td>\n",
       "      <td>1</td>\n",
       "    </tr>\n",
       "    <tr>\n",
       "      <th>110</th>\n",
       "      <td>fitted ,</td>\n",
       "      <td>['fitted', ',']</td>\n",
       "      <td>['VBN', ',']</td>\n",
       "      <td>0</td>\n",
       "    </tr>\n",
       "    <tr>\n",
       "      <th>82</th>\n",
       "      <td>sad cypress</td>\n",
       "      <td>['sad', 'cypress']</td>\n",
       "      <td>['JJ', 'NN']</td>\n",
       "      <td>1</td>\n",
       "    </tr>\n",
       "    <tr>\n",
       "      <th>54</th>\n",
       "      <td>are tougher</td>\n",
       "      <td>['are', 'tougher']</td>\n",
       "      <td>['VBP', 'RB']</td>\n",
       "      <td>0</td>\n",
       "    </tr>\n",
       "  </tbody>\n",
       "</table>\n",
       "</div>"
      ],
      "text/plain": [
       "                  title            title_tokenized         pos_tag good_title\n",
       "54   signifying nothing  ['signifying', 'nothing']   ['VBG', 'NN']          1\n",
       "105       witching time       ['witching', 'time']    ['NN', 'NN']          1\n",
       "110   superfluous death   ['superfluous', 'death']    ['JJ', 'NN']          1\n",
       "120          marked him          ['marked', 'him']  ['VBD', 'PRP']          0\n",
       "81           knees than          ['knees', 'than']   ['NNS', 'IN']          0\n",
       "13      themselves with     ['themselves', 'with']   ['PRP', 'IN']          0\n",
       "104       the mousetrap       ['the', 'mousetrap']    ['DT', 'NN']          1\n",
       "110            fitted ,            ['fitted', ',']    ['VBN', ',']          0\n",
       "82          sad cypress         ['sad', 'cypress']    ['JJ', 'NN']          1\n",
       "54          are tougher         ['are', 'tougher']   ['VBP', 'RB']          0"
      ]
     },
     "execution_count": 243,
     "metadata": {},
     "output_type": "execute_result"
    }
   ],
   "source": [
    "bigram_titles.sample(10)"
   ]
  },
  {
   "cell_type": "code",
   "execution_count": 440,
   "metadata": {},
   "outputs": [],
   "source": [
    "datapath = '../data'\n",
    "\n",
    "datapath_bigram_titles = os.path.join(datapath, 'bigram_titles.csv')\n",
    "bigram_titles.to_csv(datapath_bigram_titles, index=False)"
   ]
  },
  {
   "cell_type": "code",
   "execution_count": 244,
   "metadata": {},
   "outputs": [],
   "source": [
    "good_tri = good_tri[['Title', 'title_tokenized', 'pos_tag']].rename(columns={'Title':'title'})\n",
    "good_tri['good_title'] = 1"
   ]
  },
  {
   "cell_type": "code",
   "execution_count": 245,
   "metadata": {},
   "outputs": [],
   "source": [
    "tri_pos = good_tri.pos_tag.value_counts().reset_index()"
   ]
  },
  {
   "cell_type": "code",
   "execution_count": 246,
   "metadata": {},
   "outputs": [
    {
     "name": "stdout",
     "output_type": "stream",
     "text": [
      "[\"['NN', 'IN', 'NN']\", \"['DT', 'JJ', 'NN']\", \"['NN', 'POS', 'NN']\", \"['NNS', 'IN', 'NN']\", \"['NN', 'CC', 'NN']\"]\n"
     ]
    }
   ],
   "source": [
    "pos_list = []\n",
    "for i, row in tri_pos.iterrows():\n",
    "    if row.pos_tag >= 5:\n",
    "        pos_list.append(row['index'])\n",
    "\n",
    "print(pos_list)"
   ]
  },
  {
   "cell_type": "code",
   "execution_count": 247,
   "metadata": {},
   "outputs": [],
   "source": [
    "shake_tri = shake_tri[~shake_tri['pos_tag'].isin(pos_list)].reset_index(drop=True)\n",
    "shake_tri.drop(columns=['title_pos'], inplace=True)"
   ]
  },
  {
   "cell_type": "code",
   "execution_count": 248,
   "metadata": {},
   "outputs": [
    {
     "data": {
      "text/html": [
       "<div>\n",
       "<style scoped>\n",
       "    .dataframe tbody tr th:only-of-type {\n",
       "        vertical-align: middle;\n",
       "    }\n",
       "\n",
       "    .dataframe tbody tr th {\n",
       "        vertical-align: top;\n",
       "    }\n",
       "\n",
       "    .dataframe thead th {\n",
       "        text-align: right;\n",
       "    }\n",
       "</style>\n",
       "<table border=\"1\" class=\"dataframe\">\n",
       "  <thead>\n",
       "    <tr style=\"text-align: right;\">\n",
       "      <th></th>\n",
       "      <th>title</th>\n",
       "      <th>title_tokenized</th>\n",
       "      <th>pos_tag</th>\n",
       "      <th>good_title</th>\n",
       "    </tr>\n",
       "  </thead>\n",
       "  <tbody>\n",
       "    <tr>\n",
       "      <th>427575</th>\n",
       "      <td>this city. and</td>\n",
       "      <td>['this', 'city.', 'and']</td>\n",
       "      <td>['DT', 'NN', 'CC']</td>\n",
       "      <td>0</td>\n",
       "    </tr>\n",
       "    <tr>\n",
       "      <th>212147</th>\n",
       "      <td>hold a rival</td>\n",
       "      <td>['hold', 'a', 'rival']</td>\n",
       "      <td>['VB', 'DT', 'JJ']</td>\n",
       "      <td>0</td>\n",
       "    </tr>\n",
       "    <tr>\n",
       "      <th>305457</th>\n",
       "      <td>not monstrous that</td>\n",
       "      <td>['not', 'monstrous', 'that']</td>\n",
       "      <td>['RB', 'JJ', 'IN']</td>\n",
       "      <td>0</td>\n",
       "    </tr>\n",
       "    <tr>\n",
       "      <th>335421</th>\n",
       "      <td>pattern of all</td>\n",
       "      <td>['pattern', 'of', 'all']</td>\n",
       "      <td>['NN', 'IN', 'DT']</td>\n",
       "      <td>0</td>\n",
       "    </tr>\n",
       "    <tr>\n",
       "      <th>141983</th>\n",
       "      <td>doth combine .</td>\n",
       "      <td>['doth', 'combine', '.']</td>\n",
       "      <td>['DT', 'NN', '.']</td>\n",
       "      <td>0</td>\n",
       "    </tr>\n",
       "  </tbody>\n",
       "</table>\n",
       "</div>"
      ],
      "text/plain": [
       "                     title               title_tokenized             pos_tag  \\\n",
       "427575      this city. and      ['this', 'city.', 'and']  ['DT', 'NN', 'CC']   \n",
       "212147        hold a rival        ['hold', 'a', 'rival']  ['VB', 'DT', 'JJ']   \n",
       "305457  not monstrous that  ['not', 'monstrous', 'that']  ['RB', 'JJ', 'IN']   \n",
       "335421      pattern of all      ['pattern', 'of', 'all']  ['NN', 'IN', 'DT']   \n",
       "141983      doth combine .      ['doth', 'combine', '.']   ['DT', 'NN', '.']   \n",
       "\n",
       "        good_title  \n",
       "427575           0  \n",
       "212147           0  \n",
       "305457           0  \n",
       "335421           0  \n",
       "141983           0  "
      ]
     },
     "execution_count": 248,
     "metadata": {},
     "output_type": "execute_result"
    }
   ],
   "source": [
    "shake_tri['good_title'] = 0\n",
    "shake_tri.sample(5)"
   ]
  },
  {
   "cell_type": "code",
   "execution_count": 249,
   "metadata": {},
   "outputs": [
    {
     "data": {
      "text/html": [
       "<div>\n",
       "<style scoped>\n",
       "    .dataframe tbody tr th:only-of-type {\n",
       "        vertical-align: middle;\n",
       "    }\n",
       "\n",
       "    .dataframe tbody tr th {\n",
       "        vertical-align: top;\n",
       "    }\n",
       "\n",
       "    .dataframe thead th {\n",
       "        text-align: right;\n",
       "    }\n",
       "</style>\n",
       "<table border=\"1\" class=\"dataframe\">\n",
       "  <thead>\n",
       "    <tr style=\"text-align: right;\">\n",
       "      <th></th>\n",
       "      <th>title</th>\n",
       "      <th>title_tokenized</th>\n",
       "      <th>pos_tag</th>\n",
       "      <th>good_title</th>\n",
       "    </tr>\n",
       "  </thead>\n",
       "  <tbody>\n",
       "  </tbody>\n",
       "</table>\n",
       "</div>"
      ],
      "text/plain": [
       "Empty DataFrame\n",
       "Columns: [title, title_tokenized, pos_tag, good_title]\n",
       "Index: []"
      ]
     },
     "execution_count": 249,
     "metadata": {},
     "output_type": "execute_result"
    }
   ],
   "source": [
    "bad_tri = pd.DataFrame(columns=['title', 'title_tokenized', 'pos_tag', 'good_title'])\n",
    "bad_tri"
   ]
  },
  {
   "cell_type": "code",
   "execution_count": 703,
   "metadata": {},
   "outputs": [
    {
     "data": {
      "text/html": [
       "<div>\n",
       "<style scoped>\n",
       "    .dataframe tbody tr th:only-of-type {\n",
       "        vertical-align: middle;\n",
       "    }\n",
       "\n",
       "    .dataframe tbody tr th {\n",
       "        vertical-align: top;\n",
       "    }\n",
       "\n",
       "    .dataframe thead th {\n",
       "        text-align: right;\n",
       "    }\n",
       "</style>\n",
       "<table border=\"1\" class=\"dataframe\">\n",
       "  <thead>\n",
       "    <tr style=\"text-align: right;\">\n",
       "      <th></th>\n",
       "      <th>title</th>\n",
       "      <th>title_tokenized</th>\n",
       "      <th>pos_tag</th>\n",
       "      <th>good_title</th>\n",
       "    </tr>\n",
       "  </thead>\n",
       "  <tbody>\n",
       "    <tr>\n",
       "      <th>128218</th>\n",
       "      <td>credit , come</td>\n",
       "      <td>['credit', ',', 'come']</td>\n",
       "      <td>['NN', ',', 'VB']</td>\n",
       "      <td>0</td>\n",
       "    </tr>\n",
       "    <tr>\n",
       "      <th>256829</th>\n",
       "      <td>let me have</td>\n",
       "      <td>['let', 'me', 'have']</td>\n",
       "      <td>['VB', 'PRP', 'VB']</td>\n",
       "      <td>0</td>\n",
       "    </tr>\n",
       "    <tr>\n",
       "      <th>467222</th>\n",
       "      <td>wanton summer air</td>\n",
       "      <td>['wanton', 'summer', 'air']</td>\n",
       "      <td>['NN', 'NN', 'NN']</td>\n",
       "      <td>0</td>\n",
       "    </tr>\n",
       "    <tr>\n",
       "      <th>453520</th>\n",
       "      <td>topmost , what</td>\n",
       "      <td>['topmost', ',', 'what']</td>\n",
       "      <td>['NN', ',', 'WP']</td>\n",
       "      <td>0</td>\n",
       "    </tr>\n",
       "    <tr>\n",
       "      <th>25362</th>\n",
       "      <td>, horse to</td>\n",
       "      <td>[',', 'horse', 'to']</td>\n",
       "      <td>[',', 'NN', 'TO']</td>\n",
       "      <td>0</td>\n",
       "    </tr>\n",
       "    <tr>\n",
       "      <th>335892</th>\n",
       "      <td>pearl in every</td>\n",
       "      <td>['pearl', 'in', 'every']</td>\n",
       "      <td>['NN', 'IN', 'DT']</td>\n",
       "      <td>0</td>\n",
       "    </tr>\n",
       "    <tr>\n",
       "      <th>125542</th>\n",
       "      <td>contradiction you shall</td>\n",
       "      <td>['contradiction', 'you', 'shall']</td>\n",
       "      <td>['NN', 'PRP', 'MD']</td>\n",
       "      <td>0</td>\n",
       "    </tr>\n",
       "    <tr>\n",
       "      <th>317565</th>\n",
       "      <td>of pity !</td>\n",
       "      <td>['of', 'pity', '!']</td>\n",
       "      <td>['IN', 'NN', '.']</td>\n",
       "      <td>0</td>\n",
       "    </tr>\n",
       "    <tr>\n",
       "      <th>409093</th>\n",
       "      <td>the melancholy jaques</td>\n",
       "      <td>['the', 'melancholy', 'jaques']</td>\n",
       "      <td>['DT', 'NN', 'NNS']</td>\n",
       "      <td>0</td>\n",
       "    </tr>\n",
       "    <tr>\n",
       "      <th>182824</th>\n",
       "      <td>grow to ,</td>\n",
       "      <td>['grow', 'to', ',']</td>\n",
       "      <td>['NN', 'TO', ',']</td>\n",
       "      <td>0</td>\n",
       "    </tr>\n",
       "    <tr>\n",
       "      <th>332858</th>\n",
       "      <td>own foes ,</td>\n",
       "      <td>['own', 'foes', ',']</td>\n",
       "      <td>['JJ', 'NNS', ',']</td>\n",
       "      <td>0</td>\n",
       "    </tr>\n",
       "    <tr>\n",
       "      <th>391710</th>\n",
       "      <td>talk not of</td>\n",
       "      <td>['talk', 'not', 'of']</td>\n",
       "      <td>['NN', 'RB', 'IN']</td>\n",
       "      <td>0</td>\n",
       "    </tr>\n",
       "    <tr>\n",
       "      <th>467808</th>\n",
       "      <td>warwick to these</td>\n",
       "      <td>['warwick', 'to', 'these']</td>\n",
       "      <td>['NN', 'TO', 'DT']</td>\n",
       "      <td>0</td>\n",
       "    </tr>\n",
       "  </tbody>\n",
       "</table>\n",
       "</div>"
      ],
      "text/plain": [
       "                          title                    title_tokenized  \\\n",
       "128218            credit , come            ['credit', ',', 'come']   \n",
       "256829              let me have              ['let', 'me', 'have']   \n",
       "467222        wanton summer air        ['wanton', 'summer', 'air']   \n",
       "453520           topmost , what           ['topmost', ',', 'what']   \n",
       "25362                , horse to               [',', 'horse', 'to']   \n",
       "335892           pearl in every           ['pearl', 'in', 'every']   \n",
       "125542  contradiction you shall  ['contradiction', 'you', 'shall']   \n",
       "317565                of pity !                ['of', 'pity', '!']   \n",
       "409093    the melancholy jaques    ['the', 'melancholy', 'jaques']   \n",
       "182824                grow to ,                ['grow', 'to', ',']   \n",
       "332858               own foes ,               ['own', 'foes', ',']   \n",
       "391710              talk not of              ['talk', 'not', 'of']   \n",
       "467808         warwick to these         ['warwick', 'to', 'these']   \n",
       "\n",
       "                    pos_tag  good_title  \n",
       "128218    ['NN', ',', 'VB']           0  \n",
       "256829  ['VB', 'PRP', 'VB']           0  \n",
       "467222   ['NN', 'NN', 'NN']           0  \n",
       "453520    ['NN', ',', 'WP']           0  \n",
       "25362     [',', 'NN', 'TO']           0  \n",
       "335892   ['NN', 'IN', 'DT']           0  \n",
       "125542  ['NN', 'PRP', 'MD']           0  \n",
       "317565    ['IN', 'NN', '.']           0  \n",
       "409093  ['DT', 'NN', 'NNS']           0  \n",
       "182824    ['NN', 'TO', ',']           0  \n",
       "332858   ['JJ', 'NNS', ',']           0  \n",
       "391710   ['NN', 'RB', 'IN']           0  \n",
       "467808   ['NN', 'TO', 'DT']           0  "
      ]
     },
     "execution_count": 703,
     "metadata": {},
     "output_type": "execute_result"
    }
   ],
   "source": [
    "shake_tri.sample(13)"
   ]
  },
  {
   "cell_type": "code",
   "execution_count": 704,
   "metadata": {},
   "outputs": [],
   "source": [
    "bad_tri = bad_tri.append(shake_tri.iloc[[335892]], ignore_index=True)"
   ]
  },
  {
   "cell_type": "code",
   "execution_count": 705,
   "metadata": {},
   "outputs": [
    {
     "name": "stdout",
     "output_type": "stream",
     "text": [
      "Number of bad trigram titles: 194\n"
     ]
    }
   ],
   "source": [
    "print('Number of bad trigram titles:', len(bad_tri))"
   ]
  },
  {
   "cell_type": "code",
   "execution_count": 706,
   "metadata": {},
   "outputs": [
    {
     "data": {
      "text/plain": [
       "['NN', 'IN', 'PRP$']    5\n",
       "['PRP', 'RB', 'VB']     3\n",
       "['JJ', 'NN', 'IN']      3\n",
       "['NN', 'IN', 'DT']      3\n",
       "['PRP$', 'NN', 'IN']    3\n",
       "                       ..\n",
       "['CC', 'JJ', 'NN']      1\n",
       "['VB', 'IN', 'NN']      1\n",
       "['PRP$', 'CC', 'NN']    1\n",
       "['VBG', 'PRP', 'DT']    1\n",
       "[',', 'IN', 'JJ']       1\n",
       "Name: pos_tag, Length: 165, dtype: int64"
      ]
     },
     "execution_count": 706,
     "metadata": {},
     "output_type": "execute_result"
    }
   ],
   "source": [
    "bad_tri.pos_tag.value_counts()"
   ]
  },
  {
   "cell_type": "code",
   "execution_count": 708,
   "metadata": {},
   "outputs": [
    {
     "data": {
      "text/plain": [
       "388"
      ]
     },
     "execution_count": 708,
     "metadata": {},
     "output_type": "execute_result"
    }
   ],
   "source": [
    "trigram_titles = good_tri.append(bad_tri)\n",
    "len(trigram_titles)"
   ]
  },
  {
   "cell_type": "code",
   "execution_count": 710,
   "metadata": {},
   "outputs": [
    {
     "data": {
      "text/html": [
       "<div>\n",
       "<style scoped>\n",
       "    .dataframe tbody tr th:only-of-type {\n",
       "        vertical-align: middle;\n",
       "    }\n",
       "\n",
       "    .dataframe tbody tr th {\n",
       "        vertical-align: top;\n",
       "    }\n",
       "\n",
       "    .dataframe thead th {\n",
       "        text-align: right;\n",
       "    }\n",
       "</style>\n",
       "<table border=\"1\" class=\"dataframe\">\n",
       "  <thead>\n",
       "    <tr style=\"text-align: right;\">\n",
       "      <th></th>\n",
       "      <th>title</th>\n",
       "      <th>title_tokenized</th>\n",
       "      <th>pos_tag</th>\n",
       "      <th>good_title</th>\n",
       "    </tr>\n",
       "  </thead>\n",
       "  <tbody>\n",
       "    <tr>\n",
       "      <th>97</th>\n",
       "      <td>romeo and juliet</td>\n",
       "      <td>['romeo', 'and', 'juliet']</td>\n",
       "      <td>['NN', 'CC', 'NN']</td>\n",
       "      <td>1</td>\n",
       "    </tr>\n",
       "    <tr>\n",
       "      <th>14</th>\n",
       "      <td>, beside forfeiting</td>\n",
       "      <td>[',', 'beside', 'forfeiting']</td>\n",
       "      <td>[',', 'IN', 'VBG']</td>\n",
       "      <td>0</td>\n",
       "    </tr>\n",
       "    <tr>\n",
       "      <th>64</th>\n",
       "      <td>the yellow leaf</td>\n",
       "      <td>['the', 'yellow', 'leaf']</td>\n",
       "      <td>['DT', 'JJ', 'NN']</td>\n",
       "      <td>1</td>\n",
       "    </tr>\n",
       "    <tr>\n",
       "      <th>110</th>\n",
       "      <td>brave new world</td>\n",
       "      <td>['brave', 'new', 'world']</td>\n",
       "      <td>['VB', 'JJ', 'NN']</td>\n",
       "      <td>1</td>\n",
       "    </tr>\n",
       "    <tr>\n",
       "      <th>149</th>\n",
       "      <td>on life and</td>\n",
       "      <td>['on', 'life', 'and']</td>\n",
       "      <td>['IN', 'NN', 'CC']</td>\n",
       "      <td>0</td>\n",
       "    </tr>\n",
       "    <tr>\n",
       "      <th>101</th>\n",
       "      <td>faint cold fear</td>\n",
       "      <td>['faint', 'cold', 'fear']</td>\n",
       "      <td>['NN', 'VBD', 'NN']</td>\n",
       "      <td>1</td>\n",
       "    </tr>\n",
       "    <tr>\n",
       "      <th>138</th>\n",
       "      <td>frailty thy name</td>\n",
       "      <td>['frailty', 'thy', 'name']</td>\n",
       "      <td>['NN', 'NN', 'NN']</td>\n",
       "      <td>1</td>\n",
       "    </tr>\n",
       "    <tr>\n",
       "      <th>84</th>\n",
       "      <td>go i toward</td>\n",
       "      <td>['go', 'i', 'toward']</td>\n",
       "      <td>['VB', 'JJ', 'IN']</td>\n",
       "      <td>0</td>\n",
       "    </tr>\n",
       "    <tr>\n",
       "      <th>1</th>\n",
       "      <td>the devil drives</td>\n",
       "      <td>['the', 'devil', 'drives']</td>\n",
       "      <td>['DT', 'NN', 'NNS']</td>\n",
       "      <td>1</td>\n",
       "    </tr>\n",
       "    <tr>\n",
       "      <th>113</th>\n",
       "      <td>alms for oblivion</td>\n",
       "      <td>['alms', 'for', 'oblivion']</td>\n",
       "      <td>['NNS', 'IN', 'NN']</td>\n",
       "      <td>1</td>\n",
       "    </tr>\n",
       "  </tbody>\n",
       "</table>\n",
       "</div>"
      ],
      "text/plain": [
       "                   title                title_tokenized              pos_tag  \\\n",
       "97      romeo and juliet     ['romeo', 'and', 'juliet']   ['NN', 'CC', 'NN']   \n",
       "14   , beside forfeiting  [',', 'beside', 'forfeiting']   [',', 'IN', 'VBG']   \n",
       "64       the yellow leaf      ['the', 'yellow', 'leaf']   ['DT', 'JJ', 'NN']   \n",
       "110      brave new world      ['brave', 'new', 'world']   ['VB', 'JJ', 'NN']   \n",
       "149          on life and          ['on', 'life', 'and']   ['IN', 'NN', 'CC']   \n",
       "101      faint cold fear      ['faint', 'cold', 'fear']  ['NN', 'VBD', 'NN']   \n",
       "138     frailty thy name     ['frailty', 'thy', 'name']   ['NN', 'NN', 'NN']   \n",
       "84           go i toward          ['go', 'i', 'toward']   ['VB', 'JJ', 'IN']   \n",
       "1       the devil drives     ['the', 'devil', 'drives']  ['DT', 'NN', 'NNS']   \n",
       "113    alms for oblivion    ['alms', 'for', 'oblivion']  ['NNS', 'IN', 'NN']   \n",
       "\n",
       "    good_title  \n",
       "97           1  \n",
       "14           0  \n",
       "64           1  \n",
       "110          1  \n",
       "149          0  \n",
       "101          1  \n",
       "138          1  \n",
       "84           0  \n",
       "1            1  \n",
       "113          1  "
      ]
     },
     "execution_count": 710,
     "metadata": {},
     "output_type": "execute_result"
    }
   ],
   "source": [
    "trigram_titles.sample(10)"
   ]
  },
  {
   "cell_type": "code",
   "execution_count": 711,
   "metadata": {},
   "outputs": [],
   "source": [
    "datapath_trigram_titles = os.path.join(datapath, 'trigram_titles.csv')\n",
    "trigram_titles.to_csv(datapath_trigram_titles, index=False)"
   ]
  },
  {
   "cell_type": "code",
   "execution_count": 715,
   "metadata": {},
   "outputs": [],
   "source": [
    "good_four = good_four[['Title', 'title_tokenized', 'pos_tag']].rename(columns={'Title':'title'})\n",
    "good_four['good_title'] = 1"
   ]
  },
  {
   "cell_type": "code",
   "execution_count": 719,
   "metadata": {},
   "outputs": [],
   "source": [
    "four_pos = good_four.pos_tag.value_counts().reset_index()"
   ]
  },
  {
   "cell_type": "code",
   "execution_count": 720,
   "metadata": {},
   "outputs": [
    {
     "name": "stdout",
     "output_type": "stream",
     "text": [
      "[\"['DT', 'NN', 'IN', 'NN']\", \"['NN', 'IN', 'DT', 'NN']\", \"['DT', 'NN', 'POS', 'NN']\", \"['DT', 'NNS', 'IN', 'NN']\", \"['DT', 'NN', 'IN', 'NNS']\"]\n"
     ]
    }
   ],
   "source": [
    "pos_list = []\n",
    "for i, row in four_pos.iterrows():\n",
    "    if row.pos_tag >= 5:\n",
    "        pos_list.append(row['index'])\n",
    "\n",
    "print(pos_list)"
   ]
  },
  {
   "cell_type": "code",
   "execution_count": 721,
   "metadata": {},
   "outputs": [],
   "source": [
    "shake_four = shake_four[~shake_four['pos_tag'].isin(pos_list)].reset_index(drop=True)\n",
    "shake_four.drop(columns=['title_pos'], inplace=True)"
   ]
  },
  {
   "cell_type": "code",
   "execution_count": 722,
   "metadata": {},
   "outputs": [
    {
     "data": {
      "text/html": [
       "<div>\n",
       "<style scoped>\n",
       "    .dataframe tbody tr th:only-of-type {\n",
       "        vertical-align: middle;\n",
       "    }\n",
       "\n",
       "    .dataframe tbody tr th {\n",
       "        vertical-align: top;\n",
       "    }\n",
       "\n",
       "    .dataframe thead th {\n",
       "        text-align: right;\n",
       "    }\n",
       "</style>\n",
       "<table border=\"1\" class=\"dataframe\">\n",
       "  <thead>\n",
       "    <tr style=\"text-align: right;\">\n",
       "      <th></th>\n",
       "      <th>title</th>\n",
       "      <th>title_tokenized</th>\n",
       "      <th>pos_tag</th>\n",
       "      <th>good_title</th>\n",
       "    </tr>\n",
       "  </thead>\n",
       "  <tbody>\n",
       "    <tr>\n",
       "      <th>507520</th>\n",
       "      <td>to know the language</td>\n",
       "      <td>['to', 'know', 'the', 'language']</td>\n",
       "      <td>['TO', 'VB', 'DT', 'NN']</td>\n",
       "      <td>0</td>\n",
       "    </tr>\n",
       "    <tr>\n",
       "      <th>427728</th>\n",
       "      <td>so apparent , then</td>\n",
       "      <td>['so', 'apparent', ',', 'then']</td>\n",
       "      <td>['RB', 'JJ', ',', 'RB']</td>\n",
       "      <td>0</td>\n",
       "    </tr>\n",
       "    <tr>\n",
       "      <th>396614</th>\n",
       "      <td>proved far worse than</td>\n",
       "      <td>['proved', 'far', 'worse', 'than']</td>\n",
       "      <td>['VBN', 'RB', 'JJR', 'IN']</td>\n",
       "      <td>0</td>\n",
       "    </tr>\n",
       "    <tr>\n",
       "      <th>163959</th>\n",
       "      <td>deserved this hearing --</td>\n",
       "      <td>['deserved', 'this', 'hearing', '--']</td>\n",
       "      <td>['VBN', 'DT', 'NN', ':']</td>\n",
       "      <td>0</td>\n",
       "    </tr>\n",
       "    <tr>\n",
       "      <th>42666</th>\n",
       "      <td>, my dignity would</td>\n",
       "      <td>[',', 'my', 'dignity', 'would']</td>\n",
       "      <td>[',', 'PRP$', 'NN', 'MD']</td>\n",
       "      <td>0</td>\n",
       "    </tr>\n",
       "  </tbody>\n",
       "</table>\n",
       "</div>"
      ],
      "text/plain": [
       "                           title                        title_tokenized  \\\n",
       "507520      to know the language      ['to', 'know', 'the', 'language']   \n",
       "427728        so apparent , then        ['so', 'apparent', ',', 'then']   \n",
       "396614     proved far worse than     ['proved', 'far', 'worse', 'than']   \n",
       "163959  deserved this hearing --  ['deserved', 'this', 'hearing', '--']   \n",
       "42666         , my dignity would        [',', 'my', 'dignity', 'would']   \n",
       "\n",
       "                           pos_tag  good_title  \n",
       "507520    ['TO', 'VB', 'DT', 'NN']           0  \n",
       "427728     ['RB', 'JJ', ',', 'RB']           0  \n",
       "396614  ['VBN', 'RB', 'JJR', 'IN']           0  \n",
       "163959    ['VBN', 'DT', 'NN', ':']           0  \n",
       "42666    [',', 'PRP$', 'NN', 'MD']           0  "
      ]
     },
     "execution_count": 722,
     "metadata": {},
     "output_type": "execute_result"
    }
   ],
   "source": [
    "shake_four['good_title'] = 0\n",
    "shake_four.sample(5)"
   ]
  },
  {
   "cell_type": "code",
   "execution_count": 723,
   "metadata": {},
   "outputs": [
    {
     "data": {
      "text/html": [
       "<div>\n",
       "<style scoped>\n",
       "    .dataframe tbody tr th:only-of-type {\n",
       "        vertical-align: middle;\n",
       "    }\n",
       "\n",
       "    .dataframe tbody tr th {\n",
       "        vertical-align: top;\n",
       "    }\n",
       "\n",
       "    .dataframe thead th {\n",
       "        text-align: right;\n",
       "    }\n",
       "</style>\n",
       "<table border=\"1\" class=\"dataframe\">\n",
       "  <thead>\n",
       "    <tr style=\"text-align: right;\">\n",
       "      <th></th>\n",
       "      <th>title</th>\n",
       "      <th>title_tokenized</th>\n",
       "      <th>pos_tag</th>\n",
       "      <th>good_title</th>\n",
       "    </tr>\n",
       "  </thead>\n",
       "  <tbody>\n",
       "  </tbody>\n",
       "</table>\n",
       "</div>"
      ],
      "text/plain": [
       "Empty DataFrame\n",
       "Columns: [title, title_tokenized, pos_tag, good_title]\n",
       "Index: []"
      ]
     },
     "execution_count": 723,
     "metadata": {},
     "output_type": "execute_result"
    }
   ],
   "source": [
    "bad_four = pd.DataFrame(columns=['title', 'title_tokenized', 'pos_tag', 'good_title'])\n",
    "bad_four"
   ]
  },
  {
   "cell_type": "code",
   "execution_count": 1054,
   "metadata": {},
   "outputs": [
    {
     "data": {
      "text/html": [
       "<div>\n",
       "<style scoped>\n",
       "    .dataframe tbody tr th:only-of-type {\n",
       "        vertical-align: middle;\n",
       "    }\n",
       "\n",
       "    .dataframe tbody tr th {\n",
       "        vertical-align: top;\n",
       "    }\n",
       "\n",
       "    .dataframe thead th {\n",
       "        text-align: right;\n",
       "    }\n",
       "</style>\n",
       "<table border=\"1\" class=\"dataframe\">\n",
       "  <thead>\n",
       "    <tr style=\"text-align: right;\">\n",
       "      <th></th>\n",
       "      <th>title</th>\n",
       "      <th>title_tokenized</th>\n",
       "      <th>pos_tag</th>\n",
       "      <th>good_title</th>\n",
       "    </tr>\n",
       "  </thead>\n",
       "  <tbody>\n",
       "    <tr>\n",
       "      <th>186027</th>\n",
       "      <td>farewell , gentle mistress</td>\n",
       "      <td>['farewell', ',', 'gentle', 'mistress']</td>\n",
       "      <td>['NN', ',', 'JJ', 'NN']</td>\n",
       "      <td>0</td>\n",
       "    </tr>\n",
       "    <tr>\n",
       "      <th>368655</th>\n",
       "      <td>of other place. the</td>\n",
       "      <td>['of', 'other', 'place.', 'the']</td>\n",
       "      <td>['IN', 'JJ', 'NN', 'DT']</td>\n",
       "      <td>0</td>\n",
       "    </tr>\n",
       "    <tr>\n",
       "      <th>549845</th>\n",
       "      <td>whom thou hast misled</td>\n",
       "      <td>['whom', 'thou', 'hast', 'misled']</td>\n",
       "      <td>['WP', 'VBD', 'NN', 'VBD']</td>\n",
       "      <td>0</td>\n",
       "    </tr>\n",
       "    <tr>\n",
       "      <th>122749</th>\n",
       "      <td>bearing , and ,</td>\n",
       "      <td>['bearing', ',', 'and', ',']</td>\n",
       "      <td>['NN', ',', 'CC', ',']</td>\n",
       "      <td>0</td>\n",
       "    </tr>\n",
       "    <tr>\n",
       "      <th>400698</th>\n",
       "      <td>receive each other. god</td>\n",
       "      <td>['receive', 'each', 'other.', 'god']</td>\n",
       "      <td>['JJ', 'DT', 'NN', 'NN']</td>\n",
       "      <td>0</td>\n",
       "    </tr>\n",
       "    <tr>\n",
       "      <th>436267</th>\n",
       "      <td>stand up , i</td>\n",
       "      <td>['stand', 'up', ',', 'i']</td>\n",
       "      <td>['VB', 'RP', ',', 'NN']</td>\n",
       "      <td>0</td>\n",
       "    </tr>\n",
       "    <tr>\n",
       "      <th>48656</th>\n",
       "      <td>, since i heard</td>\n",
       "      <td>[',', 'since', 'i', 'heard']</td>\n",
       "      <td>[',', 'IN', 'NN', 'NN']</td>\n",
       "      <td>0</td>\n",
       "    </tr>\n",
       "    <tr>\n",
       "      <th>510871</th>\n",
       "      <td>to signify their coming</td>\n",
       "      <td>['to', 'signify', 'their', 'coming']</td>\n",
       "      <td>['TO', 'VB', 'PRP$', 'VBG']</td>\n",
       "      <td>0</td>\n",
       "    </tr>\n",
       "    <tr>\n",
       "      <th>452592</th>\n",
       "      <td>that i bid you</td>\n",
       "      <td>['that', 'i', 'bid', 'you']</td>\n",
       "      <td>['IN', 'JJ', 'NN', 'PRP']</td>\n",
       "      <td>0</td>\n",
       "    </tr>\n",
       "    <tr>\n",
       "      <th>331931</th>\n",
       "      <td>more owing her than</td>\n",
       "      <td>['more', 'owing', 'her', 'than']</td>\n",
       "      <td>['RBR', 'VBG', 'PRP$', 'IN']</td>\n",
       "      <td>0</td>\n",
       "    </tr>\n",
       "    <tr>\n",
       "      <th>219712</th>\n",
       "      <td>hath detain 'd me</td>\n",
       "      <td>['hath', 'detain', \"'d\", 'me']</td>\n",
       "      <td>['NN', 'NN', 'IN', 'PRP']</td>\n",
       "      <td>0</td>\n",
       "    </tr>\n",
       "    <tr>\n",
       "      <th>229823</th>\n",
       "      <td>he was retrograde ,</td>\n",
       "      <td>['he', 'was', 'retrograde', ',']</td>\n",
       "      <td>['PRP', 'VBD', 'VBN', ',']</td>\n",
       "      <td>0</td>\n",
       "    </tr>\n",
       "    <tr>\n",
       "      <th>141496</th>\n",
       "      <td>by my penny of</td>\n",
       "      <td>['by', 'my', 'penny', 'of']</td>\n",
       "      <td>['IN', 'PRP$', 'NN', 'IN']</td>\n",
       "      <td>0</td>\n",
       "    </tr>\n",
       "    <tr>\n",
       "      <th>430040</th>\n",
       "      <td>so to do good</td>\n",
       "      <td>['so', 'to', 'do', 'good']</td>\n",
       "      <td>['RB', 'TO', 'VB', 'JJ']</td>\n",
       "      <td>0</td>\n",
       "    </tr>\n",
       "    <tr>\n",
       "      <th>224488</th>\n",
       "      <td>have the office opposite</td>\n",
       "      <td>['have', 'the', 'office', 'opposite']</td>\n",
       "      <td>['VB', 'DT', 'NN', 'NN']</td>\n",
       "      <td>0</td>\n",
       "    </tr>\n",
       "    <tr>\n",
       "      <th>366349</th>\n",
       "      <td>of his argument. i</td>\n",
       "      <td>['of', 'his', 'argument.', 'i']</td>\n",
       "      <td>['IN', 'PRP$', 'NN', 'NN']</td>\n",
       "      <td>0</td>\n",
       "    </tr>\n",
       "    <tr>\n",
       "      <th>89079</th>\n",
       "      <td>and for this time</td>\n",
       "      <td>['and', 'for', 'this', 'time']</td>\n",
       "      <td>['CC', 'IN', 'DT', 'NN']</td>\n",
       "      <td>0</td>\n",
       "    </tr>\n",
       "    <tr>\n",
       "      <th>198449</th>\n",
       "      <td>ford differs ! to</td>\n",
       "      <td>['ford', 'differs', '!', 'to']</td>\n",
       "      <td>['NN', 'VBZ', '.', 'TO']</td>\n",
       "      <td>0</td>\n",
       "    </tr>\n",
       "    <tr>\n",
       "      <th>80418</th>\n",
       "      <td>all these i better</td>\n",
       "      <td>['all', 'these', 'i', 'better']</td>\n",
       "      <td>['PDT', 'DT', 'NNS', 'VBP']</td>\n",
       "      <td>0</td>\n",
       "    </tr>\n",
       "    <tr>\n",
       "      <th>543832</th>\n",
       "      <td>when thou art king</td>\n",
       "      <td>['when', 'thou', 'art', 'king']</td>\n",
       "      <td>['WRB', 'JJ', 'NN', 'NN']</td>\n",
       "      <td>0</td>\n",
       "    </tr>\n",
       "  </tbody>\n",
       "</table>\n",
       "</div>"
      ],
      "text/plain": [
       "                             title                          title_tokenized  \\\n",
       "186027  farewell , gentle mistress  ['farewell', ',', 'gentle', 'mistress']   \n",
       "368655         of other place. the         ['of', 'other', 'place.', 'the']   \n",
       "549845       whom thou hast misled       ['whom', 'thou', 'hast', 'misled']   \n",
       "122749             bearing , and ,             ['bearing', ',', 'and', ',']   \n",
       "400698     receive each other. god     ['receive', 'each', 'other.', 'god']   \n",
       "436267                stand up , i                ['stand', 'up', ',', 'i']   \n",
       "48656              , since i heard             [',', 'since', 'i', 'heard']   \n",
       "510871     to signify their coming     ['to', 'signify', 'their', 'coming']   \n",
       "452592              that i bid you              ['that', 'i', 'bid', 'you']   \n",
       "331931         more owing her than         ['more', 'owing', 'her', 'than']   \n",
       "219712           hath detain 'd me           ['hath', 'detain', \"'d\", 'me']   \n",
       "229823         he was retrograde ,         ['he', 'was', 'retrograde', ',']   \n",
       "141496              by my penny of              ['by', 'my', 'penny', 'of']   \n",
       "430040               so to do good               ['so', 'to', 'do', 'good']   \n",
       "224488    have the office opposite    ['have', 'the', 'office', 'opposite']   \n",
       "366349          of his argument. i          ['of', 'his', 'argument.', 'i']   \n",
       "89079            and for this time           ['and', 'for', 'this', 'time']   \n",
       "198449           ford differs ! to           ['ford', 'differs', '!', 'to']   \n",
       "80418           all these i better          ['all', 'these', 'i', 'better']   \n",
       "543832          when thou art king          ['when', 'thou', 'art', 'king']   \n",
       "\n",
       "                             pos_tag  good_title  \n",
       "186027       ['NN', ',', 'JJ', 'NN']           0  \n",
       "368655      ['IN', 'JJ', 'NN', 'DT']           0  \n",
       "549845    ['WP', 'VBD', 'NN', 'VBD']           0  \n",
       "122749        ['NN', ',', 'CC', ',']           0  \n",
       "400698      ['JJ', 'DT', 'NN', 'NN']           0  \n",
       "436267       ['VB', 'RP', ',', 'NN']           0  \n",
       "48656        [',', 'IN', 'NN', 'NN']           0  \n",
       "510871   ['TO', 'VB', 'PRP$', 'VBG']           0  \n",
       "452592     ['IN', 'JJ', 'NN', 'PRP']           0  \n",
       "331931  ['RBR', 'VBG', 'PRP$', 'IN']           0  \n",
       "219712     ['NN', 'NN', 'IN', 'PRP']           0  \n",
       "229823    ['PRP', 'VBD', 'VBN', ',']           0  \n",
       "141496    ['IN', 'PRP$', 'NN', 'IN']           0  \n",
       "430040      ['RB', 'TO', 'VB', 'JJ']           0  \n",
       "224488      ['VB', 'DT', 'NN', 'NN']           0  \n",
       "366349    ['IN', 'PRP$', 'NN', 'NN']           0  \n",
       "89079       ['CC', 'IN', 'DT', 'NN']           0  \n",
       "198449      ['NN', 'VBZ', '.', 'TO']           0  \n",
       "80418    ['PDT', 'DT', 'NNS', 'VBP']           0  \n",
       "543832     ['WRB', 'JJ', 'NN', 'NN']           0  "
      ]
     },
     "execution_count": 1054,
     "metadata": {},
     "output_type": "execute_result"
    }
   ],
   "source": [
    "shake_four.sample(20)"
   ]
  },
  {
   "cell_type": "code",
   "execution_count": 1055,
   "metadata": {},
   "outputs": [
    {
     "name": "stdout",
     "output_type": "stream",
     "text": [
      "Number of bad fourgram titles: 170\n"
     ]
    }
   ],
   "source": [
    "bad_four = bad_four.append(shake_four.iloc[[331931]], ignore_index=True)\n",
    "print('Number of bad fourgram titles:', len(bad_four))"
   ]
  },
  {
   "cell_type": "code",
   "execution_count": 1057,
   "metadata": {},
   "outputs": [
    {
     "data": {
      "text/plain": [
       "['MD', '.', 'NN', ',']         1\n",
       "['VB', 'PRP$', 'NNS', 'IN']    1\n",
       "['RB', 'PRP', 'VBZ', 'DT']     1\n",
       "['VBZ', 'DT', 'NN', 'IN']      1\n",
       "['VB', 'VBN', ',', 'CC']       1\n",
       "                              ..\n",
       "['MD', 'VB', 'PRP', 'IN']      1\n",
       "['CC', 'VB', 'VBP', 'DT']      1\n",
       "['IN', 'PRP', '.', 'NNS']      1\n",
       "['NN', 'VBZ', 'CC', 'DT']      1\n",
       "['NN', 'IN', 'PRP', 'TO']      1\n",
       "Name: pos_tag, Length: 170, dtype: int64"
      ]
     },
     "execution_count": 1057,
     "metadata": {},
     "output_type": "execute_result"
    }
   ],
   "source": [
    "bad_four.pos_tag.value_counts()"
   ]
  },
  {
   "cell_type": "code",
   "execution_count": 970,
   "metadata": {},
   "outputs": [
    {
     "data": {
      "text/html": [
       "<div>\n",
       "<style scoped>\n",
       "    .dataframe tbody tr th:only-of-type {\n",
       "        vertical-align: middle;\n",
       "    }\n",
       "\n",
       "    .dataframe tbody tr th {\n",
       "        vertical-align: top;\n",
       "    }\n",
       "\n",
       "    .dataframe thead th {\n",
       "        text-align: right;\n",
       "    }\n",
       "</style>\n",
       "<table border=\"1\" class=\"dataframe\">\n",
       "  <thead>\n",
       "    <tr style=\"text-align: right;\">\n",
       "      <th></th>\n",
       "      <th>title</th>\n",
       "      <th>title_tokenized</th>\n",
       "      <th>pos_tag</th>\n",
       "      <th>good_title</th>\n",
       "      <th>title_pos</th>\n",
       "    </tr>\n",
       "  </thead>\n",
       "  <tbody>\n",
       "    <tr>\n",
       "      <th>0</th>\n",
       "      <td>with him ? knows</td>\n",
       "      <td>['with', 'him', '?', 'knows']</td>\n",
       "      <td>['IN', 'PRP', '.', 'NNS']</td>\n",
       "      <td>0</td>\n",
       "      <td>NaN</td>\n",
       "    </tr>\n",
       "    <tr>\n",
       "      <th>1</th>\n",
       "      <td>is good for your</td>\n",
       "      <td>['is', 'good', 'for', 'your']</td>\n",
       "      <td>['VBZ', 'JJ', 'IN', 'PRP$']</td>\n",
       "      <td>0</td>\n",
       "      <td>NaN</td>\n",
       "    </tr>\n",
       "    <tr>\n",
       "      <th>2</th>\n",
       "      <td>man ? thy form</td>\n",
       "      <td>['man', '?', 'thy', 'form']</td>\n",
       "      <td>['NN', '.', 'JJ', 'NN']</td>\n",
       "      <td>0</td>\n",
       "      <td>NaN</td>\n",
       "    </tr>\n",
       "    <tr>\n",
       "      <th>3</th>\n",
       "      <td>traitorous father are not</td>\n",
       "      <td>['traitorous', 'father', 'are', 'not']</td>\n",
       "      <td>['JJ', 'NN', 'VBP', 'RB']</td>\n",
       "      <td>0</td>\n",
       "      <td>NaN</td>\n",
       "    </tr>\n",
       "    <tr>\n",
       "      <th>4</th>\n",
       "      <td>? wast thou in</td>\n",
       "      <td>['?', 'wast', 'thou', 'in']</td>\n",
       "      <td>['.', 'JJS', 'NN', 'IN']</td>\n",
       "      <td>0</td>\n",
       "      <td>NaN</td>\n",
       "    </tr>\n",
       "    <tr>\n",
       "      <th>...</th>\n",
       "      <td>...</td>\n",
       "      <td>...</td>\n",
       "      <td>...</td>\n",
       "      <td>...</td>\n",
       "      <td>...</td>\n",
       "    </tr>\n",
       "    <tr>\n",
       "      <th>128</th>\n",
       "      <td>yet there want not</td>\n",
       "      <td>['yet', 'there', 'want', 'not']</td>\n",
       "      <td>['RB', 'EX', 'VBP', 'RB']</td>\n",
       "      <td>0</td>\n",
       "      <td>NaN</td>\n",
       "    </tr>\n",
       "    <tr>\n",
       "      <th>129</th>\n",
       "      <td>too wildly and my</td>\n",
       "      <td>['too', 'wildly', 'and', 'my']</td>\n",
       "      <td>['RB', 'RB', 'CC', 'PRP$']</td>\n",
       "      <td>0</td>\n",
       "      <td>NaN</td>\n",
       "    </tr>\n",
       "    <tr>\n",
       "      <th>130</th>\n",
       "      <td>he did so set</td>\n",
       "      <td>['he', 'did', 'so', 'set']</td>\n",
       "      <td>['PRP', 'VBD', 'RB', 'VB']</td>\n",
       "      <td>0</td>\n",
       "      <td>NaN</td>\n",
       "    </tr>\n",
       "    <tr>\n",
       "      <th>131</th>\n",
       "      <td>her they are the</td>\n",
       "      <td>['her', 'they', 'are', 'the']</td>\n",
       "      <td>['PRP$', 'PRP', 'VBP', 'DT']</td>\n",
       "      <td>0</td>\n",
       "      <td>NaN</td>\n",
       "    </tr>\n",
       "    <tr>\n",
       "      <th>132</th>\n",
       "      <td>and in his own</td>\n",
       "      <td>['and', 'in', 'his', 'own']</td>\n",
       "      <td>['CC', 'IN', 'PRP$', 'JJ']</td>\n",
       "      <td>0</td>\n",
       "      <td>NaN</td>\n",
       "    </tr>\n",
       "  </tbody>\n",
       "</table>\n",
       "<p>133 rows × 5 columns</p>\n",
       "</div>"
      ],
      "text/plain": [
       "                         title                         title_tokenized  \\\n",
       "0             with him ? knows           ['with', 'him', '?', 'knows']   \n",
       "1             is good for your           ['is', 'good', 'for', 'your']   \n",
       "2               man ? thy form             ['man', '?', 'thy', 'form']   \n",
       "3    traitorous father are not  ['traitorous', 'father', 'are', 'not']   \n",
       "4               ? wast thou in             ['?', 'wast', 'thou', 'in']   \n",
       "..                         ...                                     ...   \n",
       "128         yet there want not         ['yet', 'there', 'want', 'not']   \n",
       "129          too wildly and my          ['too', 'wildly', 'and', 'my']   \n",
       "130              he did so set              ['he', 'did', 'so', 'set']   \n",
       "131           her they are the           ['her', 'they', 'are', 'the']   \n",
       "132             and in his own             ['and', 'in', 'his', 'own']   \n",
       "\n",
       "                          pos_tag good_title title_pos  \n",
       "0       ['IN', 'PRP', '.', 'NNS']          0       NaN  \n",
       "1     ['VBZ', 'JJ', 'IN', 'PRP$']          0       NaN  \n",
       "2         ['NN', '.', 'JJ', 'NN']          0       NaN  \n",
       "3       ['JJ', 'NN', 'VBP', 'RB']          0       NaN  \n",
       "4        ['.', 'JJS', 'NN', 'IN']          0       NaN  \n",
       "..                            ...        ...       ...  \n",
       "128     ['RB', 'EX', 'VBP', 'RB']          0       NaN  \n",
       "129    ['RB', 'RB', 'CC', 'PRP$']          0       NaN  \n",
       "130    ['PRP', 'VBD', 'RB', 'VB']          0       NaN  \n",
       "131  ['PRP$', 'PRP', 'VBP', 'DT']          0       NaN  \n",
       "132    ['CC', 'IN', 'PRP$', 'JJ']          0       NaN  \n",
       "\n",
       "[133 rows x 5 columns]"
      ]
     },
     "execution_count": 970,
     "metadata": {},
     "output_type": "execute_result"
    }
   ],
   "source": [
    "bad_four"
   ]
  },
  {
   "cell_type": "code",
   "execution_count": 1047,
   "metadata": {},
   "outputs": [],
   "source": [
    "bad_four.drop(index=[55, 144, 169], inplace=True)"
   ]
  },
  {
   "cell_type": "code",
   "execution_count": 1058,
   "metadata": {},
   "outputs": [
    {
     "data": {
      "text/plain": [
       "340"
      ]
     },
     "execution_count": 1058,
     "metadata": {},
     "output_type": "execute_result"
    }
   ],
   "source": [
    "fourgram_titles = good_four.append(bad_four)\n",
    "len(fourgram_titles)"
   ]
  },
  {
   "cell_type": "code",
   "execution_count": 1060,
   "metadata": {},
   "outputs": [],
   "source": [
    "fourgram_titles.drop(columns=['title_pos'], inplace=True)"
   ]
  },
  {
   "cell_type": "code",
   "execution_count": 1062,
   "metadata": {},
   "outputs": [
    {
     "data": {
      "text/html": [
       "<div>\n",
       "<style scoped>\n",
       "    .dataframe tbody tr th:only-of-type {\n",
       "        vertical-align: middle;\n",
       "    }\n",
       "\n",
       "    .dataframe tbody tr th {\n",
       "        vertical-align: top;\n",
       "    }\n",
       "\n",
       "    .dataframe thead th {\n",
       "        text-align: right;\n",
       "    }\n",
       "</style>\n",
       "<table border=\"1\" class=\"dataframe\">\n",
       "  <thead>\n",
       "    <tr style=\"text-align: right;\">\n",
       "      <th></th>\n",
       "      <th>title</th>\n",
       "      <th>title_tokenized</th>\n",
       "      <th>pos_tag</th>\n",
       "      <th>good_title</th>\n",
       "    </tr>\n",
       "  </thead>\n",
       "  <tbody>\n",
       "    <tr>\n",
       "      <th>135</th>\n",
       "      <td>the insolence of office</td>\n",
       "      <td>['the', 'insolence', 'of', 'office']</td>\n",
       "      <td>['DT', 'NN', 'IN', 'NN']</td>\n",
       "      <td>1</td>\n",
       "    </tr>\n",
       "    <tr>\n",
       "      <th>117</th>\n",
       "      <td>infants of the spring</td>\n",
       "      <td>['infants', 'of', 'the', 'spring']</td>\n",
       "      <td>['NNS', 'IN', 'DT', 'NN']</td>\n",
       "      <td>1</td>\n",
       "    </tr>\n",
       "    <tr>\n",
       "      <th>55</th>\n",
       "      <td>told by an idiot</td>\n",
       "      <td>['told', 'by', 'an', 'idiot']</td>\n",
       "      <td>['VBN', 'IN', 'DT', 'NN']</td>\n",
       "      <td>1</td>\n",
       "    </tr>\n",
       "    <tr>\n",
       "      <th>137</th>\n",
       "      <td>would drive me into</td>\n",
       "      <td>['would', 'drive', 'me', 'into']</td>\n",
       "      <td>['MD', 'VB', 'PRP', 'IN']</td>\n",
       "      <td>0</td>\n",
       "    </tr>\n",
       "    <tr>\n",
       "      <th>81</th>\n",
       "      <td>for it has been</td>\n",
       "      <td>['for', 'it', 'has', 'been']</td>\n",
       "      <td>['IN', 'PRP', 'VBZ', 'VBN']</td>\n",
       "      <td>0</td>\n",
       "    </tr>\n",
       "    <tr>\n",
       "      <th>161</th>\n",
       "      <td>accomplished , and ,</td>\n",
       "      <td>['accomplished', ',', 'and', ',']</td>\n",
       "      <td>['VBN', ',', 'CC', ',']</td>\n",
       "      <td>0</td>\n",
       "    </tr>\n",
       "    <tr>\n",
       "      <th>19</th>\n",
       "      <td>of his oath to</td>\n",
       "      <td>['of', 'his', 'oath', 'to']</td>\n",
       "      <td>['IN', 'PRP$', 'NN', 'TO']</td>\n",
       "      <td>0</td>\n",
       "    </tr>\n",
       "    <tr>\n",
       "      <th>161</th>\n",
       "      <td>the readiness is all</td>\n",
       "      <td>['the', 'readiness', 'is', 'all']</td>\n",
       "      <td>['DT', 'NN', 'VBZ', 'DT']</td>\n",
       "      <td>1</td>\n",
       "    </tr>\n",
       "    <tr>\n",
       "      <th>66</th>\n",
       "      <td>lord, what fools</td>\n",
       "      <td>['lord', ',', 'what', 'fools']</td>\n",
       "      <td>['NN', ',', 'WP', 'VBD']</td>\n",
       "      <td>1</td>\n",
       "    </tr>\n",
       "    <tr>\n",
       "      <th>100</th>\n",
       "      <td>i knew what you</td>\n",
       "      <td>['i', 'knew', 'what', 'you']</td>\n",
       "      <td>['NN', 'VBD', 'WP', 'PRP']</td>\n",
       "      <td>0</td>\n",
       "    </tr>\n",
       "  </tbody>\n",
       "</table>\n",
       "</div>"
      ],
      "text/plain": [
       "                       title                       title_tokenized  \\\n",
       "135  the insolence of office  ['the', 'insolence', 'of', 'office']   \n",
       "117    infants of the spring    ['infants', 'of', 'the', 'spring']   \n",
       "55          told by an idiot         ['told', 'by', 'an', 'idiot']   \n",
       "137      would drive me into      ['would', 'drive', 'me', 'into']   \n",
       "81           for it has been          ['for', 'it', 'has', 'been']   \n",
       "161     accomplished , and ,     ['accomplished', ',', 'and', ',']   \n",
       "19            of his oath to           ['of', 'his', 'oath', 'to']   \n",
       "161     the readiness is all     ['the', 'readiness', 'is', 'all']   \n",
       "66          lord, what fools        ['lord', ',', 'what', 'fools']   \n",
       "100          i knew what you          ['i', 'knew', 'what', 'you']   \n",
       "\n",
       "                         pos_tag good_title  \n",
       "135     ['DT', 'NN', 'IN', 'NN']          1  \n",
       "117    ['NNS', 'IN', 'DT', 'NN']          1  \n",
       "55     ['VBN', 'IN', 'DT', 'NN']          1  \n",
       "137    ['MD', 'VB', 'PRP', 'IN']          0  \n",
       "81   ['IN', 'PRP', 'VBZ', 'VBN']          0  \n",
       "161      ['VBN', ',', 'CC', ',']          0  \n",
       "19    ['IN', 'PRP$', 'NN', 'TO']          0  \n",
       "161    ['DT', 'NN', 'VBZ', 'DT']          1  \n",
       "66      ['NN', ',', 'WP', 'VBD']          1  \n",
       "100   ['NN', 'VBD', 'WP', 'PRP']          0  "
      ]
     },
     "execution_count": 1062,
     "metadata": {},
     "output_type": "execute_result"
    }
   ],
   "source": [
    "fourgram_titles.sample(10)"
   ]
  },
  {
   "cell_type": "code",
   "execution_count": 1063,
   "metadata": {},
   "outputs": [],
   "source": [
    "datapath_fourgram_titles = os.path.join(datapath, 'fourgram_titles.csv')\n",
    "fourgram_titles.to_csv(datapath_fourgram_titles, index=False)"
   ]
  },
  {
   "cell_type": "markdown",
   "metadata": {},
   "source": [
    "Now that I have rerun the bi-, tri-, and fourgram datasets and removed starting punctuation, I need to remove bad titles starting with punctuation from the above training sets. And I will also split the pos tags here as well"
   ]
  },
  {
   "cell_type": "code",
   "execution_count": 1080,
   "metadata": {},
   "outputs": [
    {
     "data": {
      "text/plain": [
       "(171, 5)"
      ]
     },
     "execution_count": 1080,
     "metadata": {},
     "output_type": "execute_result"
    }
   ],
   "source": [
    "fourgram_titles.shape"
   ]
  },
  {
   "cell_type": "code",
   "execution_count": 1081,
   "metadata": {},
   "outputs": [],
   "source": [
    "fourgram_titles = fourgram_titles.reset_index(drop=True)"
   ]
  },
  {
   "cell_type": "code",
   "execution_count": 1086,
   "metadata": {},
   "outputs": [
    {
     "data": {
      "text/html": [
       "<div>\n",
       "<style scoped>\n",
       "    .dataframe tbody tr th:only-of-type {\n",
       "        vertical-align: middle;\n",
       "    }\n",
       "\n",
       "    .dataframe tbody tr th {\n",
       "        vertical-align: top;\n",
       "    }\n",
       "\n",
       "    .dataframe thead th {\n",
       "        text-align: right;\n",
       "    }\n",
       "</style>\n",
       "<table border=\"1\" class=\"dataframe\">\n",
       "  <thead>\n",
       "    <tr style=\"text-align: right;\">\n",
       "      <th></th>\n",
       "      <th>title</th>\n",
       "      <th>title_tokenized</th>\n",
       "      <th>pos_tag</th>\n",
       "      <th>good_title</th>\n",
       "    </tr>\n",
       "  </thead>\n",
       "  <tbody>\n",
       "    <tr>\n",
       "      <th>55</th>\n",
       "      <td>autumn turned to the</td>\n",
       "      <td>['autumn', 'turned', 'to', 'the']</td>\n",
       "      <td>['NN', 'VBD', 'TO', 'DT']</td>\n",
       "      <td>0</td>\n",
       "    </tr>\n",
       "  </tbody>\n",
       "</table>\n",
       "</div>"
      ],
      "text/plain": [
       "                   title                    title_tokenized  \\\n",
       "55  autumn turned to the  ['autumn', 'turned', 'to', 'the']   \n",
       "\n",
       "                      pos_tag good_title  \n",
       "55  ['NN', 'VBD', 'TO', 'DT']          0  "
      ]
     },
     "execution_count": 1086,
     "metadata": {},
     "output_type": "execute_result"
    }
   ],
   "source": [
    "fourgram_titles.drop(columns=['title_pos'], inplace=True)\n",
    "fourgram_titles.sample(1)"
   ]
  },
  {
   "cell_type": "code",
   "execution_count": 1083,
   "metadata": {},
   "outputs": [
    {
     "data": {
      "text/html": [
       "<div>\n",
       "<style scoped>\n",
       "    .dataframe tbody tr th:only-of-type {\n",
       "        vertical-align: middle;\n",
       "    }\n",
       "\n",
       "    .dataframe tbody tr th {\n",
       "        vertical-align: top;\n",
       "    }\n",
       "\n",
       "    .dataframe thead th {\n",
       "        text-align: right;\n",
       "    }\n",
       "</style>\n",
       "<table border=\"1\" class=\"dataframe\">\n",
       "  <thead>\n",
       "    <tr style=\"text-align: right;\">\n",
       "      <th></th>\n",
       "      <th>title</th>\n",
       "      <th>title_tokenized</th>\n",
       "      <th>pos_tag</th>\n",
       "      <th>good_title</th>\n",
       "    </tr>\n",
       "  </thead>\n",
       "  <tbody>\n",
       "    <tr>\n",
       "      <th>99</th>\n",
       "      <td>this spring of love</td>\n",
       "      <td>['this', 'spring', 'of', 'love']</td>\n",
       "      <td>['DT', 'NN', 'IN', 'NN']</td>\n",
       "      <td>1</td>\n",
       "    </tr>\n",
       "  </tbody>\n",
       "</table>\n",
       "</div>"
      ],
      "text/plain": [
       "                  title                   title_tokenized  \\\n",
       "99  this spring of love  ['this', 'spring', 'of', 'love']   \n",
       "\n",
       "                     pos_tag  good_title  \n",
       "99  ['DT', 'NN', 'IN', 'NN']           1  "
      ]
     },
     "execution_count": 1083,
     "metadata": {},
     "output_type": "execute_result"
    }
   ],
   "source": [
    "good_four.sample(1)"
   ]
  },
  {
   "cell_type": "code",
   "execution_count": 1093,
   "metadata": {},
   "outputs": [
    {
     "data": {
      "text/plain": [
       "(507, 4)"
      ]
     },
     "execution_count": 1093,
     "metadata": {},
     "output_type": "execute_result"
    }
   ],
   "source": [
    "fourgram_titles = fourgram_titles.append(good_four).reset_index(drop=True)\n",
    "fourgram_titles.shape"
   ]
  },
  {
   "cell_type": "code",
   "execution_count": 1094,
   "metadata": {},
   "outputs": [
    {
     "data": {
      "text/plain": [
       "(338, 4)"
      ]
     },
     "execution_count": 1094,
     "metadata": {},
     "output_type": "execute_result"
    }
   ],
   "source": [
    "fourgram_titles = fourgram_titles.drop_duplicates()\n",
    "fourgram_titles.shape"
   ]
  },
  {
   "cell_type": "code",
   "execution_count": 1095,
   "metadata": {},
   "outputs": [
    {
     "data": {
      "text/plain": [
       "1    170\n",
       "0    168\n",
       "Name: good_title, dtype: int64"
      ]
     },
     "execution_count": 1095,
     "metadata": {},
     "output_type": "execute_result"
    }
   ],
   "source": [
    "fourgram_titles.good_title.value_counts()"
   ]
  },
  {
   "attachments": {},
   "cell_type": "markdown",
   "metadata": {},
   "source": [
    "Deleting the titles: ', but i think', ', thou borest thy', '? wast thou in', ''pale cast...'"
   ]
  },
  {
   "cell_type": "code",
   "execution_count": 1090,
   "metadata": {},
   "outputs": [
    {
     "data": {
      "text/plain": [
       "(337, 4)"
      ]
     },
     "execution_count": 1090,
     "metadata": {},
     "output_type": "execute_result"
    }
   ],
   "source": [
    "fourgram_titles = fourgram_titles.drop(index=[4,16,146])\n",
    "fourgram_titles.shape"
   ]
  },
  {
   "cell_type": "markdown",
   "metadata": {},
   "source": [
    "There is a title 'pale cast...' that is an actual title. Either way, it does not belong on this list, but on the trigram list.  Will add it back. But first, I need new bad titles."
   ]
  },
  {
   "cell_type": "code",
   "execution_count": 1097,
   "metadata": {},
   "outputs": [
    {
     "data": {
      "text/plain": [
       "title                             'pale cast...'\n",
       "title_tokenized    [\"'pale\", 'cast', '...', \"'\"]\n",
       "pos_tag                  ['JJ', 'NN', ':', \"''\"]\n",
       "good_title                                     1\n",
       "Name: 306, dtype: object"
      ]
     },
     "execution_count": 1097,
     "metadata": {},
     "output_type": "execute_result"
    }
   ],
   "source": [
    "pale_cast = fourgram_titles.iloc[306]\n",
    "pale_cast"
   ]
  },
  {
   "cell_type": "code",
   "execution_count": 1098,
   "metadata": {},
   "outputs": [
    {
     "data": {
      "text/plain": [
       "title                   title_tokenized                      pos_tag                      good_title\n",
       "your ship and so        ['your', 'ship', 'and', 'so']        ['PRP$', 'NN', 'CC', 'RB']   0             1\n",
       "how now ? do            ['how', 'now', '?', 'do']            ['WRB', 'RB', '.', 'VB']     0             1\n",
       "him do after him        ['him', 'do', 'after', 'him']        ['PRP', 'VBP', 'IN', 'PRP']  0             1\n",
       "him good. but now       ['him', 'good.', 'but', 'now']       ['PRP', 'VBP', 'CC', 'RB']   0             1\n",
       "him tractable to us     ['him', 'tractable', 'to', 'us']     ['PRP', 'JJ', 'TO', 'PRP']   0             1\n",
       "                                                                                                       ..\n",
       "that makes amends for   ['that', 'makes', 'amends', 'for']   ['DT', 'VBZ', 'NNS', 'IN']   0             1\n",
       "that may be must        ['that', 'may', 'be', 'must']        ['DT', 'MD', 'VB', 'MD']     0             1\n",
       "that might rightly say  ['that', 'might', 'rightly', 'say']  ['WDT', 'MD', 'RB', 'VB']    0             1\n",
       "that sense did make     ['that', 'sense', 'did', 'make']     ['DT', 'NN', 'VBD', 'VB']    0             1\n",
       "a brother's murder      ['a', 'brother', \"'s\", 'murder']     ['DT', 'NN', 'POS', 'NN']    1             1\n",
       "Length: 337, dtype: int64"
      ]
     },
     "execution_count": 1098,
     "metadata": {},
     "output_type": "execute_result"
    }
   ],
   "source": [
    "fourgram_titles = fourgram_titles.drop(index=[306])\n",
    "fourgram_titles.value_counts()"
   ]
  },
  {
   "cell_type": "code",
   "execution_count": 1100,
   "metadata": {},
   "outputs": [
    {
     "data": {
      "text/plain": [
       "1    169\n",
       "0    168\n",
       "Name: good_title, dtype: int64"
      ]
     },
     "execution_count": 1100,
     "metadata": {},
     "output_type": "execute_result"
    }
   ],
   "source": [
    "fourgram_titles.good_title.value_counts()"
   ]
  },
  {
   "cell_type": "code",
   "execution_count": 1101,
   "metadata": {},
   "outputs": [
    {
     "data": {
      "text/html": [
       "<div>\n",
       "<style scoped>\n",
       "    .dataframe tbody tr th:only-of-type {\n",
       "        vertical-align: middle;\n",
       "    }\n",
       "\n",
       "    .dataframe tbody tr th {\n",
       "        vertical-align: top;\n",
       "    }\n",
       "\n",
       "    .dataframe thead th {\n",
       "        text-align: right;\n",
       "    }\n",
       "</style>\n",
       "<table border=\"1\" class=\"dataframe\">\n",
       "  <thead>\n",
       "    <tr style=\"text-align: right;\">\n",
       "      <th></th>\n",
       "      <th>title</th>\n",
       "      <th>title_tokenized</th>\n",
       "      <th>pos_tag</th>\n",
       "      <th>good_title</th>\n",
       "    </tr>\n",
       "  </thead>\n",
       "  <tbody>\n",
       "    <tr>\n",
       "      <th>243835</th>\n",
       "      <td>his mind be writ</td>\n",
       "      <td>['his', 'mind', 'be', 'writ']</td>\n",
       "      <td>['PRP$', 'NN', 'VB', 'JJ']</td>\n",
       "      <td>0</td>\n",
       "    </tr>\n",
       "    <tr>\n",
       "      <th>345713</th>\n",
       "      <td>needful value. we shall</td>\n",
       "      <td>['needful', 'value.', 'we', 'shall']</td>\n",
       "      <td>['JJ', 'NN', 'PRP', 'MD']</td>\n",
       "      <td>0</td>\n",
       "    </tr>\n",
       "    <tr>\n",
       "      <th>494001</th>\n",
       "      <td>thou shalt to prison</td>\n",
       "      <td>['thou', 'shalt', 'to', 'prison']</td>\n",
       "      <td>['NN', 'NN', 'TO', 'NN']</td>\n",
       "      <td>0</td>\n",
       "    </tr>\n",
       "    <tr>\n",
       "      <th>302909</th>\n",
       "      <td>lets grow the weeding</td>\n",
       "      <td>['lets', 'grow', 'the', 'weeding']</td>\n",
       "      <td>['NNS', 'VBP', 'DT', 'NN']</td>\n",
       "      <td>0</td>\n",
       "    </tr>\n",
       "    <tr>\n",
       "      <th>421684</th>\n",
       "      <td>should they mock poor</td>\n",
       "      <td>['should', 'they', 'mock', 'poor']</td>\n",
       "      <td>['MD', 'PRP', 'VB', 'JJ']</td>\n",
       "      <td>0</td>\n",
       "    </tr>\n",
       "    <tr>\n",
       "      <th>197101</th>\n",
       "      <td>for this fault ,</td>\n",
       "      <td>['for', 'this', 'fault', ',']</td>\n",
       "      <td>['IN', 'DT', 'NN', ',']</td>\n",
       "      <td>0</td>\n",
       "    </tr>\n",
       "    <tr>\n",
       "      <th>397544</th>\n",
       "      <td>put me now to</td>\n",
       "      <td>['put', 'me', 'now', 'to']</td>\n",
       "      <td>['VB', 'PRP', 'RB', 'TO']</td>\n",
       "      <td>0</td>\n",
       "    </tr>\n",
       "    <tr>\n",
       "      <th>178981</th>\n",
       "      <td>enter constance , arthur</td>\n",
       "      <td>['enter', 'constance', ',', 'arthur']</td>\n",
       "      <td>['NN', 'NN', ',', 'NN']</td>\n",
       "      <td>0</td>\n",
       "    </tr>\n",
       "    <tr>\n",
       "      <th>196947</th>\n",
       "      <td>for there will be</td>\n",
       "      <td>['for', 'there', 'will', 'be']</td>\n",
       "      <td>['IN', 'EX', 'MD', 'VB']</td>\n",
       "      <td>0</td>\n",
       "    </tr>\n",
       "    <tr>\n",
       "      <th>484057</th>\n",
       "      <td>they so shriek abroad</td>\n",
       "      <td>['they', 'so', 'shriek', 'abroad']</td>\n",
       "      <td>['PRP', 'RB', 'VBD', 'RB']</td>\n",
       "      <td>0</td>\n",
       "    </tr>\n",
       "    <tr>\n",
       "      <th>40973</th>\n",
       "      <td>, lord chamberlain ?</td>\n",
       "      <td>[',', 'lord', 'chamberlain', '?']</td>\n",
       "      <td>[',', 'NN', 'NN', '.']</td>\n",
       "      <td>0</td>\n",
       "    </tr>\n",
       "    <tr>\n",
       "      <th>360822</th>\n",
       "      <td>o ' the coxcombs</td>\n",
       "      <td>['o', \"'\", 'the', 'coxcombs']</td>\n",
       "      <td>['NN', \"''\", 'DT', 'NN']</td>\n",
       "      <td>0</td>\n",
       "    </tr>\n",
       "    <tr>\n",
       "      <th>369467</th>\n",
       "      <td>of slender reputation ,</td>\n",
       "      <td>['of', 'slender', 'reputation', ',']</td>\n",
       "      <td>['IN', 'JJR', 'NN', ',']</td>\n",
       "      <td>0</td>\n",
       "    </tr>\n",
       "    <tr>\n",
       "      <th>8351</th>\n",
       "      <td>'in time the savage</td>\n",
       "      <td>[\"'in\", 'time', 'the', 'savage']</td>\n",
       "      <td>['JJ', 'NN', 'DT', 'NN']</td>\n",
       "      <td>0</td>\n",
       "    </tr>\n",
       "    <tr>\n",
       "      <th>223032</th>\n",
       "      <td>have look 'd upon</td>\n",
       "      <td>['have', 'look', \"'d\", 'upon']</td>\n",
       "      <td>['VB', 'NN', 'CD', 'IN']</td>\n",
       "      <td>0</td>\n",
       "    </tr>\n",
       "  </tbody>\n",
       "</table>\n",
       "</div>"
      ],
      "text/plain": [
       "                           title                        title_tokenized  \\\n",
       "243835          his mind be writ          ['his', 'mind', 'be', 'writ']   \n",
       "345713   needful value. we shall   ['needful', 'value.', 'we', 'shall']   \n",
       "494001      thou shalt to prison      ['thou', 'shalt', 'to', 'prison']   \n",
       "302909     lets grow the weeding     ['lets', 'grow', 'the', 'weeding']   \n",
       "421684     should they mock poor     ['should', 'they', 'mock', 'poor']   \n",
       "197101          for this fault ,          ['for', 'this', 'fault', ',']   \n",
       "397544             put me now to             ['put', 'me', 'now', 'to']   \n",
       "178981  enter constance , arthur  ['enter', 'constance', ',', 'arthur']   \n",
       "196947         for there will be         ['for', 'there', 'will', 'be']   \n",
       "484057     they so shriek abroad     ['they', 'so', 'shriek', 'abroad']   \n",
       "40973       , lord chamberlain ?      [',', 'lord', 'chamberlain', '?']   \n",
       "360822          o ' the coxcombs          ['o', \"'\", 'the', 'coxcombs']   \n",
       "369467   of slender reputation ,   ['of', 'slender', 'reputation', ',']   \n",
       "8351         'in time the savage       [\"'in\", 'time', 'the', 'savage']   \n",
       "223032         have look 'd upon         ['have', 'look', \"'d\", 'upon']   \n",
       "\n",
       "                           pos_tag  good_title  \n",
       "243835  ['PRP$', 'NN', 'VB', 'JJ']           0  \n",
       "345713   ['JJ', 'NN', 'PRP', 'MD']           0  \n",
       "494001    ['NN', 'NN', 'TO', 'NN']           0  \n",
       "302909  ['NNS', 'VBP', 'DT', 'NN']           0  \n",
       "421684   ['MD', 'PRP', 'VB', 'JJ']           0  \n",
       "197101     ['IN', 'DT', 'NN', ',']           0  \n",
       "397544   ['VB', 'PRP', 'RB', 'TO']           0  \n",
       "178981     ['NN', 'NN', ',', 'NN']           0  \n",
       "196947    ['IN', 'EX', 'MD', 'VB']           0  \n",
       "484057  ['PRP', 'RB', 'VBD', 'RB']           0  \n",
       "40973       [',', 'NN', 'NN', '.']           0  \n",
       "360822    ['NN', \"''\", 'DT', 'NN']           0  \n",
       "369467    ['IN', 'JJR', 'NN', ',']           0  \n",
       "8351      ['JJ', 'NN', 'DT', 'NN']           0  \n",
       "223032    ['VB', 'NN', 'CD', 'IN']           0  "
      ]
     },
     "execution_count": 1101,
     "metadata": {},
     "output_type": "execute_result"
    }
   ],
   "source": [
    "shake_four.sample(15)"
   ]
  },
  {
   "cell_type": "code",
   "execution_count": 1102,
   "metadata": {},
   "outputs": [
    {
     "data": {
      "text/plain": [
       "1    169\n",
       "0    169\n",
       "Name: good_title, dtype: int64"
      ]
     },
     "execution_count": 1102,
     "metadata": {},
     "output_type": "execute_result"
    }
   ],
   "source": [
    "fourgram_titles = fourgram_titles.append(shake_four.iloc[[302909]], ignore_index=True)\n",
    "fourgram_titles.good_title.value_counts()"
   ]
  },
  {
   "cell_type": "code",
   "execution_count": 1103,
   "metadata": {},
   "outputs": [
    {
     "data": {
      "text/plain": [
       "[\"['VBN', 'IN', '.', 'MD']\",\n",
       " \"['PRP', 'JJ', 'TO', 'PRP']\",\n",
       " \"['IN', 'NNS', 'IN', 'DT']\",\n",
       " \"['VBD', 'JJ', 'RB', 'TO']\",\n",
       " \"['CC', 'DT', 'JJ', 'NN']\"]"
      ]
     },
     "execution_count": 1103,
     "metadata": {},
     "output_type": "execute_result"
    }
   ],
   "source": [
    "four_list = fourgram_titles.pos_tag.tolist()\n",
    "four_list[10:15]"
   ]
  },
  {
   "cell_type": "code",
   "execution_count": 1104,
   "metadata": {},
   "outputs": [
    {
     "data": {
      "text/plain": [
       "[['VBN', 'IN', '.', 'MD'],\n",
       " ['PRP', 'JJ', 'TO', 'PRP'],\n",
       " ['IN', 'NNS', 'IN', 'DT'],\n",
       " ['VBD', 'JJ', 'RB', 'TO'],\n",
       " ['CC', 'DT', 'JJ', 'NN']]"
      ]
     },
     "execution_count": 1104,
     "metadata": {},
     "output_type": "execute_result"
    }
   ],
   "source": [
    "new_four_list = [(f.replace(\"[\",\"\").replace(\"]\", \"\").replace(\"'\",\"\").split(\", \")) for f in four_list]\n",
    "new_four_list[10:15]"
   ]
  },
  {
   "cell_type": "code",
   "execution_count": 1105,
   "metadata": {},
   "outputs": [
    {
     "data": {
      "text/html": [
       "<div>\n",
       "<style scoped>\n",
       "    .dataframe tbody tr th:only-of-type {\n",
       "        vertical-align: middle;\n",
       "    }\n",
       "\n",
       "    .dataframe tbody tr th {\n",
       "        vertical-align: top;\n",
       "    }\n",
       "\n",
       "    .dataframe thead th {\n",
       "        text-align: right;\n",
       "    }\n",
       "</style>\n",
       "<table border=\"1\" class=\"dataframe\">\n",
       "  <thead>\n",
       "    <tr style=\"text-align: right;\">\n",
       "      <th></th>\n",
       "      <th>title</th>\n",
       "      <th>title_tokenized</th>\n",
       "      <th>pos_tag</th>\n",
       "      <th>good_title</th>\n",
       "      <th>pos</th>\n",
       "    </tr>\n",
       "  </thead>\n",
       "  <tbody>\n",
       "    <tr>\n",
       "      <th>171</th>\n",
       "      <td>no enemy but winter</td>\n",
       "      <td>['no', 'enemy', 'but', 'winter']</td>\n",
       "      <td>['DT', 'NN', 'CC', 'NN']</td>\n",
       "      <td>1</td>\n",
       "      <td>[DT, NN, CC, NN]</td>\n",
       "    </tr>\n",
       "    <tr>\n",
       "      <th>132</th>\n",
       "      <td>that makes amends for</td>\n",
       "      <td>['that', 'makes', 'amends', 'for']</td>\n",
       "      <td>['DT', 'VBZ', 'NNS', 'IN']</td>\n",
       "      <td>0</td>\n",
       "      <td>[DT, VBZ, NNS, IN]</td>\n",
       "    </tr>\n",
       "    <tr>\n",
       "      <th>133</th>\n",
       "      <td>new hat and an</td>\n",
       "      <td>['new', 'hat', 'and', 'an']</td>\n",
       "      <td>['JJ', 'NN', 'CC', 'DT']</td>\n",
       "      <td>0</td>\n",
       "      <td>[JJ, NN, CC, DT]</td>\n",
       "    </tr>\n",
       "    <tr>\n",
       "      <th>30</th>\n",
       "      <td>strike and to make</td>\n",
       "      <td>['strike', 'and', 'to', 'make']</td>\n",
       "      <td>['NN', 'CC', 'TO', 'VB']</td>\n",
       "      <td>0</td>\n",
       "      <td>[NN, CC, TO, VB]</td>\n",
       "    </tr>\n",
       "    <tr>\n",
       "      <th>293</th>\n",
       "      <td>though this be madness</td>\n",
       "      <td>['though', 'this', 'be', 'madness']</td>\n",
       "      <td>['IN', 'DT', 'VB', 'NN']</td>\n",
       "      <td>1</td>\n",
       "      <td>[IN, DT, VB, NN]</td>\n",
       "    </tr>\n",
       "  </tbody>\n",
       "</table>\n",
       "</div>"
      ],
      "text/plain": [
       "                      title                      title_tokenized  \\\n",
       "171     no enemy but winter     ['no', 'enemy', 'but', 'winter']   \n",
       "132   that makes amends for   ['that', 'makes', 'amends', 'for']   \n",
       "133          new hat and an          ['new', 'hat', 'and', 'an']   \n",
       "30       strike and to make      ['strike', 'and', 'to', 'make']   \n",
       "293  though this be madness  ['though', 'this', 'be', 'madness']   \n",
       "\n",
       "                        pos_tag good_title                 pos  \n",
       "171    ['DT', 'NN', 'CC', 'NN']          1    [DT, NN, CC, NN]  \n",
       "132  ['DT', 'VBZ', 'NNS', 'IN']          0  [DT, VBZ, NNS, IN]  \n",
       "133    ['JJ', 'NN', 'CC', 'DT']          0    [JJ, NN, CC, DT]  \n",
       "30     ['NN', 'CC', 'TO', 'VB']          0    [NN, CC, TO, VB]  \n",
       "293    ['IN', 'DT', 'VB', 'NN']          1    [IN, DT, VB, NN]  "
      ]
     },
     "execution_count": 1105,
     "metadata": {},
     "output_type": "execute_result"
    }
   ],
   "source": [
    "fourgram_titles['pos'] = new_four_list\n",
    "fourgram_titles.sample(5)"
   ]
  },
  {
   "cell_type": "code",
   "execution_count": 1107,
   "metadata": {},
   "outputs": [
    {
     "data": {
      "text/plain": [
       "[['VBN', 'IN', '.', 'MD'],\n",
       " ['PRP', 'JJ', 'TO', 'PRP'],\n",
       " ['IN', 'NNS', 'IN', 'DT'],\n",
       " ['VBD', 'JJ', 'RB', 'TO'],\n",
       " ['CC', 'DT', 'JJ', 'NN']]"
      ]
     },
     "execution_count": 1107,
     "metadata": {},
     "output_type": "execute_result"
    }
   ],
   "source": [
    "pos_list4 = fourgram_titles.pos.tolist()\n",
    "pos_list4[10:15]"
   ]
  },
  {
   "cell_type": "code",
   "execution_count": 1108,
   "metadata": {},
   "outputs": [
    {
     "data": {
      "text/html": [
       "<div>\n",
       "<style scoped>\n",
       "    .dataframe tbody tr th:only-of-type {\n",
       "        vertical-align: middle;\n",
       "    }\n",
       "\n",
       "    .dataframe tbody tr th {\n",
       "        vertical-align: top;\n",
       "    }\n",
       "\n",
       "    .dataframe thead th {\n",
       "        text-align: right;\n",
       "    }\n",
       "</style>\n",
       "<table border=\"1\" class=\"dataframe\">\n",
       "  <thead>\n",
       "    <tr style=\"text-align: right;\">\n",
       "      <th></th>\n",
       "      <th>title</th>\n",
       "      <th>title_tokenized</th>\n",
       "      <th>pos_tag</th>\n",
       "      <th>good_title</th>\n",
       "      <th>pos</th>\n",
       "      <th>pos1</th>\n",
       "      <th>pos2</th>\n",
       "      <th>pos3</th>\n",
       "      <th>pos4</th>\n",
       "    </tr>\n",
       "  </thead>\n",
       "  <tbody>\n",
       "    <tr>\n",
       "      <th>63</th>\n",
       "      <td>remedy ? as there</td>\n",
       "      <td>['remedy', '?', 'as', 'there']</td>\n",
       "      <td>['NN', '.', 'IN', 'EX']</td>\n",
       "      <td>0</td>\n",
       "      <td>[NN, ., IN, EX]</td>\n",
       "      <td>NN</td>\n",
       "      <td>.</td>\n",
       "      <td>IN</td>\n",
       "      <td>EX</td>\n",
       "    </tr>\n",
       "    <tr>\n",
       "      <th>12</th>\n",
       "      <td>than camels in the</td>\n",
       "      <td>['than', 'camels', 'in', 'the']</td>\n",
       "      <td>['IN', 'NNS', 'IN', 'DT']</td>\n",
       "      <td>0</td>\n",
       "      <td>[IN, NNS, IN, DT]</td>\n",
       "      <td>IN</td>\n",
       "      <td>NNS</td>\n",
       "      <td>IN</td>\n",
       "      <td>DT</td>\n",
       "    </tr>\n",
       "    <tr>\n",
       "      <th>8</th>\n",
       "      <td>your ship and so</td>\n",
       "      <td>['your', 'ship', 'and', 'so']</td>\n",
       "      <td>['PRP$', 'NN', 'CC', 'RB']</td>\n",
       "      <td>0</td>\n",
       "      <td>[PRP$, NN, CC, RB]</td>\n",
       "      <td>PRP$</td>\n",
       "      <td>NN</td>\n",
       "      <td>CC</td>\n",
       "      <td>RB</td>\n",
       "    </tr>\n",
       "    <tr>\n",
       "      <th>189</th>\n",
       "      <td>evil that men do</td>\n",
       "      <td>['evil', 'that', 'men', 'do']</td>\n",
       "      <td>['NN', 'IN', 'NNS', 'VBP']</td>\n",
       "      <td>1</td>\n",
       "      <td>[NN, IN, NNS, VBP]</td>\n",
       "      <td>NN</td>\n",
       "      <td>IN</td>\n",
       "      <td>NNS</td>\n",
       "      <td>VBP</td>\n",
       "    </tr>\n",
       "    <tr>\n",
       "      <th>265</th>\n",
       "      <td>the jaws of death</td>\n",
       "      <td>['the', 'jaws', 'of', 'death']</td>\n",
       "      <td>['DT', 'NN', 'IN', 'NN']</td>\n",
       "      <td>1</td>\n",
       "      <td>[DT, NN, IN, NN]</td>\n",
       "      <td>DT</td>\n",
       "      <td>NN</td>\n",
       "      <td>IN</td>\n",
       "      <td>NN</td>\n",
       "    </tr>\n",
       "  </tbody>\n",
       "</table>\n",
       "</div>"
      ],
      "text/plain": [
       "                  title                  title_tokenized  \\\n",
       "63    remedy ? as there   ['remedy', '?', 'as', 'there']   \n",
       "12   than camels in the  ['than', 'camels', 'in', 'the']   \n",
       "8      your ship and so    ['your', 'ship', 'and', 'so']   \n",
       "189    evil that men do    ['evil', 'that', 'men', 'do']   \n",
       "265   the jaws of death   ['the', 'jaws', 'of', 'death']   \n",
       "\n",
       "                        pos_tag good_title                 pos  pos1 pos2  \\\n",
       "63      ['NN', '.', 'IN', 'EX']          0     [NN, ., IN, EX]    NN    .   \n",
       "12    ['IN', 'NNS', 'IN', 'DT']          0   [IN, NNS, IN, DT]    IN  NNS   \n",
       "8    ['PRP$', 'NN', 'CC', 'RB']          0  [PRP$, NN, CC, RB]  PRP$   NN   \n",
       "189  ['NN', 'IN', 'NNS', 'VBP']          1  [NN, IN, NNS, VBP]    NN   IN   \n",
       "265    ['DT', 'NN', 'IN', 'NN']          1    [DT, NN, IN, NN]    DT   NN   \n",
       "\n",
       "    pos3 pos4  \n",
       "63    IN   EX  \n",
       "12    IN   DT  \n",
       "8     CC   RB  \n",
       "189  NNS  VBP  \n",
       "265   IN   NN  "
      ]
     },
     "execution_count": 1108,
     "metadata": {},
     "output_type": "execute_result"
    }
   ],
   "source": [
    "pos1 = []\n",
    "pos2 = []\n",
    "pos3 = []\n",
    "pos4 = []\n",
    "\n",
    "for i in pos_list4:\n",
    "    pos1.append(i[0])\n",
    "    pos2.append(i[1])\n",
    "    pos3.append(i[2])\n",
    "    pos4.append(i[3])\n",
    "    \n",
    "fourgram_titles['pos1'] = pos1\n",
    "fourgram_titles['pos2'] = pos2\n",
    "fourgram_titles['pos3'] = pos3\n",
    "fourgram_titles['pos4'] = pos4\n",
    "\n",
    "fourgram_titles.sample(5)"
   ]
  },
  {
   "cell_type": "code",
   "execution_count": 1109,
   "metadata": {},
   "outputs": [
    {
     "data": {
      "text/plain": [
       "1    169\n",
       "0    169\n",
       "Name: good_title, dtype: int64"
      ]
     },
     "execution_count": 1109,
     "metadata": {},
     "output_type": "execute_result"
    }
   ],
   "source": [
    "fourgram_titles.good_title.value_counts()"
   ]
  },
  {
   "cell_type": "code",
   "execution_count": 1110,
   "metadata": {},
   "outputs": [],
   "source": [
    "datapath = '../data'\n",
    "\n",
    "datapath_fourgram_titles = os.path.join(datapath, 'fourgram_titles_pos.csv')\n",
    "fourgram_titles.to_csv(datapath_fourgram_titles, index=False)"
   ]
  },
  {
   "cell_type": "code",
   "execution_count": 1112,
   "metadata": {},
   "outputs": [
    {
     "data": {
      "text/plain": [
       "title                             'pale cast...'\n",
       "title_tokenized    [\"'pale\", 'cast', '...', \"'\"]\n",
       "pos_tag                  ['JJ', 'NN', ':', \"''\"]\n",
       "good_title                                     1\n",
       "Name: 306, dtype: object"
      ]
     },
     "execution_count": 1112,
     "metadata": {},
     "output_type": "execute_result"
    }
   ],
   "source": [
    "pale_cast"
   ]
  },
  {
   "cell_type": "markdown",
   "metadata": {},
   "source": [
    "pos tag for JJ is adjective, so the tag is still correct"
   ]
  },
  {
   "cell_type": "code",
   "execution_count": 1113,
   "metadata": {},
   "outputs": [
    {
     "data": {
      "text/plain": [
       "title                           pale cast...\n",
       "title_tokenized    ['pale', 'cast', '...', ]\n",
       "pos_tag                    ['JJ', 'NN', ':']\n",
       "good_title                                 1\n",
       "Name: 306, dtype: object"
      ]
     },
     "execution_count": 1113,
     "metadata": {},
     "output_type": "execute_result"
    }
   ],
   "source": [
    "pale_cast['title'] = \"pale cast...\"\n",
    "pale_cast['title_tokenized'] = \"['pale', 'cast', '...', ]\"\n",
    "pale_cast['pos_tag'] = \"['JJ', 'NN', ':']\"\n",
    "pale_cast"
   ]
  },
  {
   "cell_type": "code",
   "execution_count": 1116,
   "metadata": {},
   "outputs": [
    {
     "data": {
      "text/plain": [
       "(388, 4)"
      ]
     },
     "execution_count": 1116,
     "metadata": {},
     "output_type": "execute_result"
    }
   ],
   "source": [
    "trigram_titles.shape"
   ]
  },
  {
   "cell_type": "code",
   "execution_count": 1117,
   "metadata": {},
   "outputs": [
    {
     "data": {
      "text/plain": [
       "(389, 4)"
      ]
     },
     "execution_count": 1117,
     "metadata": {},
     "output_type": "execute_result"
    }
   ],
   "source": [
    "trigram_titles = trigram_titles.append(pale_cast, ignore_index=True)\n",
    "trigram_titles.shape"
   ]
  },
  {
   "cell_type": "code",
   "execution_count": 1130,
   "metadata": {},
   "outputs": [
    {
     "data": {
      "text/plain": [
       "1    195\n",
       "0    187\n",
       "Name: good_title, dtype: int64"
      ]
     },
     "execution_count": 1130,
     "metadata": {},
     "output_type": "execute_result"
    }
   ],
   "source": [
    "#trigram_titles = trigram_titles.drop(index=[264, 196, 202, 208, 277, 312, 326])\n",
    "trigram_titles.good_title.value_counts()"
   ]
  },
  {
   "cell_type": "code",
   "execution_count": 1178,
   "metadata": {},
   "outputs": [
    {
     "data": {
      "text/html": [
       "<div>\n",
       "<style scoped>\n",
       "    .dataframe tbody tr th:only-of-type {\n",
       "        vertical-align: middle;\n",
       "    }\n",
       "\n",
       "    .dataframe tbody tr th {\n",
       "        vertical-align: top;\n",
       "    }\n",
       "\n",
       "    .dataframe thead th {\n",
       "        text-align: right;\n",
       "    }\n",
       "</style>\n",
       "<table border=\"1\" class=\"dataframe\">\n",
       "  <thead>\n",
       "    <tr style=\"text-align: right;\">\n",
       "      <th></th>\n",
       "      <th>title</th>\n",
       "      <th>title_tokenized</th>\n",
       "      <th>pos_tag</th>\n",
       "      <th>good_title</th>\n",
       "    </tr>\n",
       "  </thead>\n",
       "  <tbody>\n",
       "    <tr>\n",
       "      <th>484684</th>\n",
       "      <td>vherefore vill you</td>\n",
       "      <td>['vherefore', 'vill', 'you']</td>\n",
       "      <td>['NN', 'NN', 'PRP']</td>\n",
       "      <td>0</td>\n",
       "    </tr>\n",
       "    <tr>\n",
       "      <th>231103</th>\n",
       "      <td>i never heard</td>\n",
       "      <td>['i', 'never', 'heard']</td>\n",
       "      <td>['NN', 'RB', 'VBD']</td>\n",
       "      <td>0</td>\n",
       "    </tr>\n",
       "    <tr>\n",
       "      <th>367932</th>\n",
       "      <td>rude multitude till</td>\n",
       "      <td>['rude', 'multitude', 'till']</td>\n",
       "      <td>['JJ', 'NN', 'NN']</td>\n",
       "      <td>0</td>\n",
       "    </tr>\n",
       "    <tr>\n",
       "      <th>252095</th>\n",
       "      <td>issue die ,</td>\n",
       "      <td>['issue', 'die', ',']</td>\n",
       "      <td>['NN', 'NN', ',']</td>\n",
       "      <td>0</td>\n",
       "    </tr>\n",
       "    <tr>\n",
       "      <th>421926</th>\n",
       "      <td>the fairy land</td>\n",
       "      <td>['the', 'fairy', 'land']</td>\n",
       "      <td>['DT', 'NN', 'NN']</td>\n",
       "      <td>0</td>\n",
       "    </tr>\n",
       "    <tr>\n",
       "      <th>14566</th>\n",
       "      <td>'twere as easy</td>\n",
       "      <td>[\"'twere\", 'as', 'easy']</td>\n",
       "      <td>['RB', 'IN', 'JJ']</td>\n",
       "      <td>0</td>\n",
       "    </tr>\n",
       "    <tr>\n",
       "      <th>416029</th>\n",
       "      <td>that soundly .</td>\n",
       "      <td>['that', 'soundly', '.']</td>\n",
       "      <td>['DT', 'RB', '.']</td>\n",
       "      <td>0</td>\n",
       "    </tr>\n",
       "    <tr>\n",
       "      <th>5367</th>\n",
       "      <td>'d leave your</td>\n",
       "      <td>[\"'d\", 'leave', 'your']</td>\n",
       "      <td>['MD', 'VB', 'PRP$']</td>\n",
       "      <td>0</td>\n",
       "    </tr>\n",
       "    <tr>\n",
       "      <th>290601</th>\n",
       "      <td>met once again</td>\n",
       "      <td>['met', 'once', 'again']</td>\n",
       "      <td>['VBN', 'RB', 'RB']</td>\n",
       "      <td>0</td>\n",
       "    </tr>\n",
       "    <tr>\n",
       "      <th>253016</th>\n",
       "      <td>it do singe</td>\n",
       "      <td>['it', 'do', 'singe']</td>\n",
       "      <td>['PRP', 'VBP', 'VB']</td>\n",
       "      <td>0</td>\n",
       "    </tr>\n",
       "  </tbody>\n",
       "</table>\n",
       "</div>"
      ],
      "text/plain": [
       "                      title                title_tokenized  \\\n",
       "484684   vherefore vill you   ['vherefore', 'vill', 'you']   \n",
       "231103        i never heard        ['i', 'never', 'heard']   \n",
       "367932  rude multitude till  ['rude', 'multitude', 'till']   \n",
       "252095          issue die ,          ['issue', 'die', ',']   \n",
       "421926       the fairy land       ['the', 'fairy', 'land']   \n",
       "14566        'twere as easy       [\"'twere\", 'as', 'easy']   \n",
       "416029       that soundly .       ['that', 'soundly', '.']   \n",
       "5367          'd leave your        [\"'d\", 'leave', 'your']   \n",
       "290601       met once again       ['met', 'once', 'again']   \n",
       "253016          it do singe          ['it', 'do', 'singe']   \n",
       "\n",
       "                     pos_tag  good_title  \n",
       "484684   ['NN', 'NN', 'PRP']           0  \n",
       "231103   ['NN', 'RB', 'VBD']           0  \n",
       "367932    ['JJ', 'NN', 'NN']           0  \n",
       "252095     ['NN', 'NN', ',']           0  \n",
       "421926    ['DT', 'NN', 'NN']           0  \n",
       "14566     ['RB', 'IN', 'JJ']           0  \n",
       "416029     ['DT', 'RB', '.']           0  \n",
       "5367    ['MD', 'VB', 'PRP$']           0  \n",
       "290601   ['VBN', 'RB', 'RB']           0  \n",
       "253016  ['PRP', 'VBP', 'VB']           0  "
      ]
     },
     "execution_count": 1178,
     "metadata": {},
     "output_type": "execute_result"
    }
   ],
   "source": [
    "shake_tri.sample(10)"
   ]
  },
  {
   "cell_type": "code",
   "execution_count": 1180,
   "metadata": {},
   "outputs": [],
   "source": [
    "trigram_titles = trigram_titles.append(shake_tri.iloc[[383166]])\n"
   ]
  },
  {
   "cell_type": "code",
   "execution_count": 1181,
   "metadata": {},
   "outputs": [
    {
     "data": {
      "text/plain": [
       "1    195\n",
       "0    195\n",
       "Name: good_title, dtype: int64"
      ]
     },
     "execution_count": 1181,
     "metadata": {},
     "output_type": "execute_result"
    }
   ],
   "source": [
    "trigram_titles.good_title.value_counts()"
   ]
  },
  {
   "cell_type": "code",
   "execution_count": 1184,
   "metadata": {},
   "outputs": [
    {
     "data": {
      "text/html": [
       "<div>\n",
       "<style scoped>\n",
       "    .dataframe tbody tr th:only-of-type {\n",
       "        vertical-align: middle;\n",
       "    }\n",
       "\n",
       "    .dataframe tbody tr th {\n",
       "        vertical-align: top;\n",
       "    }\n",
       "\n",
       "    .dataframe thead th {\n",
       "        text-align: right;\n",
       "    }\n",
       "</style>\n",
       "<table border=\"1\" class=\"dataframe\">\n",
       "  <thead>\n",
       "    <tr style=\"text-align: right;\">\n",
       "      <th></th>\n",
       "      <th>title</th>\n",
       "      <th>title_tokenized</th>\n",
       "      <th>pos_tag</th>\n",
       "      <th>good_title</th>\n",
       "    </tr>\n",
       "  </thead>\n",
       "  <tbody>\n",
       "  </tbody>\n",
       "</table>\n",
       "</div>"
      ],
      "text/plain": [
       "Empty DataFrame\n",
       "Columns: [title, title_tokenized, pos_tag, good_title]\n",
       "Index: []"
      ]
     },
     "execution_count": 1184,
     "metadata": {},
     "output_type": "execute_result"
    }
   ],
   "source": [
    "dup = trigram_titles.duplicated()\n",
    "trigram_titles[dup]"
   ]
  },
  {
   "cell_type": "code",
   "execution_count": 1185,
   "metadata": {},
   "outputs": [],
   "source": [
    "trigram_titles.reset_index(drop=True, inplace=True)"
   ]
  },
  {
   "cell_type": "code",
   "execution_count": 1187,
   "metadata": {},
   "outputs": [
    {
     "data": {
      "text/plain": [
       "[\"['JJ', 'IN', 'NN']\",\n",
       " \"['DT', 'JJ', 'NN']\",\n",
       " \"['NN', 'POS', 'NN']\",\n",
       " \"['CD', 'JJ', 'NNS']\",\n",
       " \"['IN', 'DT', 'NN']\"]"
      ]
     },
     "execution_count": 1187,
     "metadata": {},
     "output_type": "execute_result"
    }
   ],
   "source": [
    "tri_list = trigram_titles.pos_tag.tolist()\n",
    "tri_list[10:15]"
   ]
  },
  {
   "cell_type": "code",
   "execution_count": 1188,
   "metadata": {},
   "outputs": [
    {
     "data": {
      "text/plain": [
       "[['JJ', 'IN', 'NN'],\n",
       " ['DT', 'JJ', 'NN'],\n",
       " ['NN', 'POS', 'NN'],\n",
       " ['CD', 'JJ', 'NNS'],\n",
       " ['IN', 'DT', 'NN']]"
      ]
     },
     "execution_count": 1188,
     "metadata": {},
     "output_type": "execute_result"
    }
   ],
   "source": [
    "new_tri_list = [(t.replace(\"[\",\"\").replace(\"]\", \"\").replace(\"'\",\"\").split(\", \")) for t in tri_list]\n",
    "new_tri_list[10:15]"
   ]
  },
  {
   "cell_type": "code",
   "execution_count": 1189,
   "metadata": {},
   "outputs": [
    {
     "data": {
      "text/html": [
       "<div>\n",
       "<style scoped>\n",
       "    .dataframe tbody tr th:only-of-type {\n",
       "        vertical-align: middle;\n",
       "    }\n",
       "\n",
       "    .dataframe tbody tr th {\n",
       "        vertical-align: top;\n",
       "    }\n",
       "\n",
       "    .dataframe thead th {\n",
       "        text-align: right;\n",
       "    }\n",
       "</style>\n",
       "<table border=\"1\" class=\"dataframe\">\n",
       "  <thead>\n",
       "    <tr style=\"text-align: right;\">\n",
       "      <th></th>\n",
       "      <th>title</th>\n",
       "      <th>title_tokenized</th>\n",
       "      <th>pos_tag</th>\n",
       "      <th>good_title</th>\n",
       "      <th>pos</th>\n",
       "    </tr>\n",
       "  </thead>\n",
       "  <tbody>\n",
       "    <tr>\n",
       "      <th>182</th>\n",
       "      <td>a ministering angel</td>\n",
       "      <td>['a', 'ministering', 'angel']</td>\n",
       "      <td>['DT', 'NN', 'NN']</td>\n",
       "      <td>1</td>\n",
       "      <td>[DT, NN, NN]</td>\n",
       "    </tr>\n",
       "    <tr>\n",
       "      <th>159</th>\n",
       "      <td>flesh is heir</td>\n",
       "      <td>['flesh', 'is', 'heir']</td>\n",
       "      <td>['NN', 'VBZ', 'JJ']</td>\n",
       "      <td>1</td>\n",
       "      <td>[NN, VBZ, JJ]</td>\n",
       "    </tr>\n",
       "    <tr>\n",
       "      <th>83</th>\n",
       "      <td>lords and ladies</td>\n",
       "      <td>['lords', 'and', 'ladies']</td>\n",
       "      <td>['NNS', 'CC', 'NNS']</td>\n",
       "      <td>1</td>\n",
       "      <td>[NNS, CC, NNS]</td>\n",
       "    </tr>\n",
       "    <tr>\n",
       "      <th>284</th>\n",
       "      <td>prince , whose</td>\n",
       "      <td>['prince', ',', 'whose']</td>\n",
       "      <td>['NN', ',', 'WP$']</td>\n",
       "      <td>0</td>\n",
       "      <td>[NN, ,, WP$]</td>\n",
       "    </tr>\n",
       "    <tr>\n",
       "      <th>365</th>\n",
       "      <td>keeps you from</td>\n",
       "      <td>['keeps', 'you', 'from']</td>\n",
       "      <td>['NNS', 'PRP', 'IN']</td>\n",
       "      <td>0</td>\n",
       "      <td>[NNS, PRP, IN]</td>\n",
       "    </tr>\n",
       "  </tbody>\n",
       "</table>\n",
       "</div>"
      ],
      "text/plain": [
       "                   title                title_tokenized               pos_tag  \\\n",
       "182  a ministering angel  ['a', 'ministering', 'angel']    ['DT', 'NN', 'NN']   \n",
       "159        flesh is heir        ['flesh', 'is', 'heir']   ['NN', 'VBZ', 'JJ']   \n",
       "83      lords and ladies     ['lords', 'and', 'ladies']  ['NNS', 'CC', 'NNS']   \n",
       "284       prince , whose       ['prince', ',', 'whose']    ['NN', ',', 'WP$']   \n",
       "365       keeps you from       ['keeps', 'you', 'from']  ['NNS', 'PRP', 'IN']   \n",
       "\n",
       "    good_title             pos  \n",
       "182          1    [DT, NN, NN]  \n",
       "159          1   [NN, VBZ, JJ]  \n",
       "83           1  [NNS, CC, NNS]  \n",
       "284          0    [NN, ,, WP$]  \n",
       "365          0  [NNS, PRP, IN]  "
      ]
     },
     "execution_count": 1189,
     "metadata": {},
     "output_type": "execute_result"
    }
   ],
   "source": [
    "trigram_titles['pos'] = new_tri_list\n",
    "trigram_titles.sample(5)"
   ]
  },
  {
   "cell_type": "code",
   "execution_count": 1190,
   "metadata": {},
   "outputs": [
    {
     "data": {
      "text/plain": [
       "[['NN', 'IN', 'NN'],\n",
       " ['NN', 'IN', 'VBG'],\n",
       " ['RB', 'JJ', 'NN'],\n",
       " ['NNS', 'IN', 'NN'],\n",
       " ['DT', 'JJ', 'NN']]"
      ]
     },
     "execution_count": 1190,
     "metadata": {},
     "output_type": "execute_result"
    }
   ],
   "source": [
    "pos3_list = trigram_titles.pos.tolist()\n",
    "pos3_list[60:65]"
   ]
  },
  {
   "cell_type": "code",
   "execution_count": 1191,
   "metadata": {},
   "outputs": [
    {
     "data": {
      "text/html": [
       "<div>\n",
       "<style scoped>\n",
       "    .dataframe tbody tr th:only-of-type {\n",
       "        vertical-align: middle;\n",
       "    }\n",
       "\n",
       "    .dataframe tbody tr th {\n",
       "        vertical-align: top;\n",
       "    }\n",
       "\n",
       "    .dataframe thead th {\n",
       "        text-align: right;\n",
       "    }\n",
       "</style>\n",
       "<table border=\"1\" class=\"dataframe\">\n",
       "  <thead>\n",
       "    <tr style=\"text-align: right;\">\n",
       "      <th></th>\n",
       "      <th>title</th>\n",
       "      <th>title_tokenized</th>\n",
       "      <th>pos_tag</th>\n",
       "      <th>good_title</th>\n",
       "      <th>pos</th>\n",
       "      <th>pos1</th>\n",
       "      <th>pos2</th>\n",
       "      <th>pos3</th>\n",
       "    </tr>\n",
       "  </thead>\n",
       "  <tbody>\n",
       "    <tr>\n",
       "      <th>167</th>\n",
       "      <td>speak the speech</td>\n",
       "      <td>['speak', 'the', 'speech']</td>\n",
       "      <td>['VB', 'DT', 'NN']</td>\n",
       "      <td>1</td>\n",
       "      <td>[VB, DT, NN]</td>\n",
       "      <td>VB</td>\n",
       "      <td>DT</td>\n",
       "      <td>NN</td>\n",
       "    </tr>\n",
       "    <tr>\n",
       "      <th>92</th>\n",
       "      <td>this blessed plot</td>\n",
       "      <td>['this', 'blessed', 'plot']</td>\n",
       "      <td>['DT', 'VBD', 'NN']</td>\n",
       "      <td>1</td>\n",
       "      <td>[DT, VBD, NN]</td>\n",
       "      <td>DT</td>\n",
       "      <td>VBD</td>\n",
       "      <td>NN</td>\n",
       "    </tr>\n",
       "    <tr>\n",
       "      <th>340</th>\n",
       "      <td>tearing groan did</td>\n",
       "      <td>['tearing', 'groan', 'did']</td>\n",
       "      <td>['VBG', 'NN', 'VBD']</td>\n",
       "      <td>0</td>\n",
       "      <td>[VBG, NN, VBD]</td>\n",
       "      <td>VBG</td>\n",
       "      <td>NN</td>\n",
       "      <td>VBD</td>\n",
       "    </tr>\n",
       "    <tr>\n",
       "      <th>300</th>\n",
       "      <td>leads a very</td>\n",
       "      <td>['leads', 'a', 'very']</td>\n",
       "      <td>['VBZ', 'DT', 'RB']</td>\n",
       "      <td>0</td>\n",
       "      <td>[VBZ, DT, RB]</td>\n",
       "      <td>VBZ</td>\n",
       "      <td>DT</td>\n",
       "      <td>RB</td>\n",
       "    </tr>\n",
       "    <tr>\n",
       "      <th>39</th>\n",
       "      <td>act of darkness</td>\n",
       "      <td>['act', 'of', 'darkness']</td>\n",
       "      <td>['NN', 'IN', 'NN']</td>\n",
       "      <td>1</td>\n",
       "      <td>[NN, IN, NN]</td>\n",
       "      <td>NN</td>\n",
       "      <td>IN</td>\n",
       "      <td>NN</td>\n",
       "    </tr>\n",
       "  </tbody>\n",
       "</table>\n",
       "</div>"
      ],
      "text/plain": [
       "                 title              title_tokenized               pos_tag  \\\n",
       "167   speak the speech   ['speak', 'the', 'speech']    ['VB', 'DT', 'NN']   \n",
       "92   this blessed plot  ['this', 'blessed', 'plot']   ['DT', 'VBD', 'NN']   \n",
       "340  tearing groan did  ['tearing', 'groan', 'did']  ['VBG', 'NN', 'VBD']   \n",
       "300       leads a very       ['leads', 'a', 'very']   ['VBZ', 'DT', 'RB']   \n",
       "39     act of darkness    ['act', 'of', 'darkness']    ['NN', 'IN', 'NN']   \n",
       "\n",
       "    good_title             pos pos1 pos2 pos3  \n",
       "167          1    [VB, DT, NN]   VB   DT   NN  \n",
       "92           1   [DT, VBD, NN]   DT  VBD   NN  \n",
       "340          0  [VBG, NN, VBD]  VBG   NN  VBD  \n",
       "300          0   [VBZ, DT, RB]  VBZ   DT   RB  \n",
       "39           1    [NN, IN, NN]   NN   IN   NN  "
      ]
     },
     "execution_count": 1191,
     "metadata": {},
     "output_type": "execute_result"
    }
   ],
   "source": [
    "pos1 = []\n",
    "pos2 = []\n",
    "pos3 = []\n",
    "\n",
    "for i in pos3_list:\n",
    "    pos1.append(i[0])\n",
    "    pos2.append(i[1])\n",
    "    pos3.append(i[2])\n",
    "    \n",
    "trigram_titles['pos1'] = pos1\n",
    "trigram_titles['pos2'] = pos2\n",
    "trigram_titles['pos3'] = pos3\n",
    "\n",
    "trigram_titles.sample(5)"
   ]
  },
  {
   "cell_type": "code",
   "execution_count": 1192,
   "metadata": {},
   "outputs": [],
   "source": [
    "datapath_trigram_titles = os.path.join(datapath, 'trigram_titles_pos.csv')\n",
    "trigram_titles.to_csv(datapath_trigram_titles, index=False)"
   ]
  },
  {
   "cell_type": "markdown",
   "metadata": {},
   "source": [
    "Lastly, the bigrams. Again."
   ]
  },
  {
   "cell_type": "code",
   "execution_count": 1194,
   "metadata": {},
   "outputs": [
    {
     "data": {
      "text/html": [
       "<div>\n",
       "<style scoped>\n",
       "    .dataframe tbody tr th:only-of-type {\n",
       "        vertical-align: middle;\n",
       "    }\n",
       "\n",
       "    .dataframe tbody tr th {\n",
       "        vertical-align: top;\n",
       "    }\n",
       "\n",
       "    .dataframe thead th {\n",
       "        text-align: right;\n",
       "    }\n",
       "</style>\n",
       "<table border=\"1\" class=\"dataframe\">\n",
       "  <thead>\n",
       "    <tr style=\"text-align: right;\">\n",
       "      <th></th>\n",
       "      <th>title</th>\n",
       "      <th>title_tokenized</th>\n",
       "      <th>pos_tag</th>\n",
       "      <th>good_title</th>\n",
       "    </tr>\n",
       "  </thead>\n",
       "  <tbody>\n",
       "    <tr>\n",
       "      <th>31</th>\n",
       "      <td>golden opinions</td>\n",
       "      <td>['golden', 'opinions']</td>\n",
       "      <td>['JJ', 'NNS']</td>\n",
       "      <td>1</td>\n",
       "    </tr>\n",
       "    <tr>\n",
       "      <th>35</th>\n",
       "      <td>painted devil</td>\n",
       "      <td>['painted', 'devil']</td>\n",
       "      <td>['VBN', 'NN']</td>\n",
       "      <td>1</td>\n",
       "    </tr>\n",
       "    <tr>\n",
       "      <th>69</th>\n",
       "      <td>happy haven</td>\n",
       "      <td>['happy', 'haven']</td>\n",
       "      <td>['JJ', 'NN']</td>\n",
       "      <td>1</td>\n",
       "    </tr>\n",
       "    <tr>\n",
       "      <th>15</th>\n",
       "      <td>name well</td>\n",
       "      <td>['name', 'well']</td>\n",
       "      <td>['NN', 'RB']</td>\n",
       "      <td>0</td>\n",
       "    </tr>\n",
       "    <tr>\n",
       "      <th>55</th>\n",
       "      <td>charmed life</td>\n",
       "      <td>['charmed', 'life']</td>\n",
       "      <td>['VBN', 'NN']</td>\n",
       "      <td>1</td>\n",
       "    </tr>\n",
       "  </tbody>\n",
       "</table>\n",
       "</div>"
      ],
      "text/plain": [
       "              title         title_tokenized        pos_tag good_title\n",
       "31  golden opinions  ['golden', 'opinions']  ['JJ', 'NNS']          1\n",
       "35    painted devil    ['painted', 'devil']  ['VBN', 'NN']          1\n",
       "69      happy haven      ['happy', 'haven']   ['JJ', 'NN']          1\n",
       "15        name well        ['name', 'well']   ['NN', 'RB']          0\n",
       "55     charmed life     ['charmed', 'life']  ['VBN', 'NN']          1"
      ]
     },
     "execution_count": 1194,
     "metadata": {},
     "output_type": "execute_result"
    }
   ],
   "source": [
    "bigram_titles.sample(5)"
   ]
  },
  {
   "cell_type": "code",
   "execution_count": 1205,
   "metadata": {},
   "outputs": [],
   "source": [
    "bigram_titles = bigram_titles.drop(index=[138, 150, 207])"
   ]
  },
  {
   "cell_type": "code",
   "execution_count": 1206,
   "metadata": {},
   "outputs": [
    {
     "data": {
      "text/plain": [
       "1    122\n",
       "0    119\n",
       "Name: good_title, dtype: int64"
      ]
     },
     "execution_count": 1206,
     "metadata": {},
     "output_type": "execute_result"
    }
   ],
   "source": [
    "bigram_titles.good_title.value_counts()"
   ]
  },
  {
   "cell_type": "code",
   "execution_count": 1212,
   "metadata": {},
   "outputs": [
    {
     "data": {
      "text/html": [
       "<div>\n",
       "<style scoped>\n",
       "    .dataframe tbody tr th:only-of-type {\n",
       "        vertical-align: middle;\n",
       "    }\n",
       "\n",
       "    .dataframe tbody tr th {\n",
       "        vertical-align: top;\n",
       "    }\n",
       "\n",
       "    .dataframe thead th {\n",
       "        text-align: right;\n",
       "    }\n",
       "</style>\n",
       "<table border=\"1\" class=\"dataframe\">\n",
       "  <thead>\n",
       "    <tr style=\"text-align: right;\">\n",
       "      <th></th>\n",
       "      <th>title</th>\n",
       "      <th>title_tokenized</th>\n",
       "      <th>pos_tag</th>\n",
       "      <th>good_title</th>\n",
       "    </tr>\n",
       "  </thead>\n",
       "  <tbody>\n",
       "    <tr>\n",
       "      <th>52126</th>\n",
       "      <td>cinque pace</td>\n",
       "      <td>['cinque', 'pace']</td>\n",
       "      <td>['NN', 'NN']</td>\n",
       "      <td>0</td>\n",
       "    </tr>\n",
       "    <tr>\n",
       "      <th>185804</th>\n",
       "      <td>shall lewis</td>\n",
       "      <td>['shall', 'lewis']</td>\n",
       "      <td>['MD', 'VB']</td>\n",
       "      <td>0</td>\n",
       "    </tr>\n",
       "    <tr>\n",
       "      <th>166270</th>\n",
       "      <td>persuade my</td>\n",
       "      <td>['persuade', 'my']</td>\n",
       "      <td>['VB', 'PRP$']</td>\n",
       "      <td>0</td>\n",
       "    </tr>\n",
       "    <tr>\n",
       "      <th>225959</th>\n",
       "      <td>times refigur</td>\n",
       "      <td>['times', 'refigur']</td>\n",
       "      <td>['NNS', 'VBP']</td>\n",
       "      <td>0</td>\n",
       "    </tr>\n",
       "    <tr>\n",
       "      <th>66025</th>\n",
       "      <td>ditty ,</td>\n",
       "      <td>['ditty', ',']</td>\n",
       "      <td>['NN', ',']</td>\n",
       "      <td>0</td>\n",
       "    </tr>\n",
       "    <tr>\n",
       "      <th>153726</th>\n",
       "      <td>occupation !</td>\n",
       "      <td>['occupation', '!']</td>\n",
       "      <td>['NN', '.']</td>\n",
       "      <td>0</td>\n",
       "    </tr>\n",
       "    <tr>\n",
       "      <th>89258</th>\n",
       "      <td>given thee</td>\n",
       "      <td>['given', 'thee']</td>\n",
       "      <td>['VBN', 'NNS']</td>\n",
       "      <td>0</td>\n",
       "    </tr>\n",
       "    <tr>\n",
       "      <th>234620</th>\n",
       "      <td>unto us</td>\n",
       "      <td>['unto', 'us']</td>\n",
       "      <td>['IN', 'PRP']</td>\n",
       "      <td>0</td>\n",
       "    </tr>\n",
       "    <tr>\n",
       "      <th>82320</th>\n",
       "      <td>food ,</td>\n",
       "      <td>['food', ',']</td>\n",
       "      <td>['NN', ',']</td>\n",
       "      <td>0</td>\n",
       "    </tr>\n",
       "    <tr>\n",
       "      <th>76430</th>\n",
       "      <td>face he</td>\n",
       "      <td>['face', 'he']</td>\n",
       "      <td>['NN', 'PRP']</td>\n",
       "      <td>0</td>\n",
       "    </tr>\n",
       "  </tbody>\n",
       "</table>\n",
       "</div>"
      ],
      "text/plain": [
       "                title       title_tokenized         pos_tag  good_title\n",
       "52126     cinque pace    ['cinque', 'pace']    ['NN', 'NN']           0\n",
       "185804    shall lewis    ['shall', 'lewis']    ['MD', 'VB']           0\n",
       "166270    persuade my    ['persuade', 'my']  ['VB', 'PRP$']           0\n",
       "225959  times refigur  ['times', 'refigur']  ['NNS', 'VBP']           0\n",
       "66025         ditty ,        ['ditty', ',']     ['NN', ',']           0\n",
       "153726   occupation !   ['occupation', '!']     ['NN', '.']           0\n",
       "89258      given thee     ['given', 'thee']  ['VBN', 'NNS']           0\n",
       "234620        unto us        ['unto', 'us']   ['IN', 'PRP']           0\n",
       "82320          food ,         ['food', ',']     ['NN', ',']           0\n",
       "76430         face he        ['face', 'he']   ['NN', 'PRP']           0"
      ]
     },
     "execution_count": 1212,
     "metadata": {},
     "output_type": "execute_result"
    }
   ],
   "source": [
    "shake_bi.sample(10)"
   ]
  },
  {
   "cell_type": "code",
   "execution_count": 1214,
   "metadata": {},
   "outputs": [],
   "source": [
    "bigram_titles = bigram_titles.append(shake_bi.iloc[[89258]], ignore_index=True)"
   ]
  },
  {
   "cell_type": "code",
   "execution_count": 1215,
   "metadata": {},
   "outputs": [
    {
     "data": {
      "text/plain": [
       "1    122\n",
       "0    122\n",
       "Name: good_title, dtype: int64"
      ]
     },
     "execution_count": 1215,
     "metadata": {},
     "output_type": "execute_result"
    }
   ],
   "source": [
    "bigram_titles.good_title.value_counts()"
   ]
  },
  {
   "cell_type": "code",
   "execution_count": 1216,
   "metadata": {},
   "outputs": [
    {
     "data": {
      "text/plain": [
       "[\"['JJR', 'NNS']\",\n",
       " \"['JJ', 'NN']\",\n",
       " \"['JJS', 'NN']\",\n",
       " \"['JJ', 'NN']\",\n",
       " \"['JJ', 'NN']\"]"
      ]
     },
     "execution_count": 1216,
     "metadata": {},
     "output_type": "execute_result"
    }
   ],
   "source": [
    "bi_list = bigram_titles.pos_tag.tolist()\n",
    "bi_list[10:15]"
   ]
  },
  {
   "cell_type": "code",
   "execution_count": 1217,
   "metadata": {},
   "outputs": [
    {
     "data": {
      "text/plain": [
       "[['JJR', 'NNS'], ['JJ', 'NN'], ['JJS', 'NN'], ['JJ', 'NN'], ['JJ', 'NN']]"
      ]
     },
     "execution_count": 1217,
     "metadata": {},
     "output_type": "execute_result"
    }
   ],
   "source": [
    "new_bi_list = [(b.replace(\"[\",\"\").replace(\"]\", \"\").replace(\"'\",\"\").split(\", \")) for b in bi_list]\n",
    "new_bi_list[10:15]"
   ]
  },
  {
   "cell_type": "code",
   "execution_count": 1218,
   "metadata": {},
   "outputs": [
    {
     "data": {
      "text/html": [
       "<div>\n",
       "<style scoped>\n",
       "    .dataframe tbody tr th:only-of-type {\n",
       "        vertical-align: middle;\n",
       "    }\n",
       "\n",
       "    .dataframe tbody tr th {\n",
       "        vertical-align: top;\n",
       "    }\n",
       "\n",
       "    .dataframe thead th {\n",
       "        text-align: right;\n",
       "    }\n",
       "</style>\n",
       "<table border=\"1\" class=\"dataframe\">\n",
       "  <thead>\n",
       "    <tr style=\"text-align: right;\">\n",
       "      <th></th>\n",
       "      <th>title</th>\n",
       "      <th>title_tokenized</th>\n",
       "      <th>pos_tag</th>\n",
       "      <th>good_title</th>\n",
       "      <th>pos</th>\n",
       "    </tr>\n",
       "  </thead>\n",
       "  <tbody>\n",
       "    <tr>\n",
       "      <th>210</th>\n",
       "      <td>wrong gives</td>\n",
       "      <td>['wrong', 'gives']</td>\n",
       "      <td>['JJ', 'VBZ']</td>\n",
       "      <td>0</td>\n",
       "      <td>[JJ, VBZ]</td>\n",
       "    </tr>\n",
       "    <tr>\n",
       "      <th>164</th>\n",
       "      <td>have five</td>\n",
       "      <td>['have', 'five']</td>\n",
       "      <td>['VBP', 'CD']</td>\n",
       "      <td>0</td>\n",
       "      <td>[VBP, CD]</td>\n",
       "    </tr>\n",
       "    <tr>\n",
       "      <th>165</th>\n",
       "      <td>here recover</td>\n",
       "      <td>['here', 'recover']</td>\n",
       "      <td>['RB', 'VB']</td>\n",
       "      <td>0</td>\n",
       "      <td>[RB, VB]</td>\n",
       "    </tr>\n",
       "    <tr>\n",
       "      <th>128</th>\n",
       "      <td>you hates</td>\n",
       "      <td>['you', 'hates']</td>\n",
       "      <td>['PRP', 'NNS']</td>\n",
       "      <td>0</td>\n",
       "      <td>[PRP, NNS]</td>\n",
       "    </tr>\n",
       "    <tr>\n",
       "      <th>73</th>\n",
       "      <td>glorious summer</td>\n",
       "      <td>['glorious', 'summer']</td>\n",
       "      <td>['JJ', 'NN']</td>\n",
       "      <td>1</td>\n",
       "      <td>[JJ, NN]</td>\n",
       "    </tr>\n",
       "  </tbody>\n",
       "</table>\n",
       "</div>"
      ],
      "text/plain": [
       "               title         title_tokenized         pos_tag good_title  \\\n",
       "210      wrong gives      ['wrong', 'gives']   ['JJ', 'VBZ']          0   \n",
       "164        have five        ['have', 'five']   ['VBP', 'CD']          0   \n",
       "165     here recover     ['here', 'recover']    ['RB', 'VB']          0   \n",
       "128        you hates        ['you', 'hates']  ['PRP', 'NNS']          0   \n",
       "73   glorious summer  ['glorious', 'summer']    ['JJ', 'NN']          1   \n",
       "\n",
       "            pos  \n",
       "210   [JJ, VBZ]  \n",
       "164   [VBP, CD]  \n",
       "165    [RB, VB]  \n",
       "128  [PRP, NNS]  \n",
       "73     [JJ, NN]  "
      ]
     },
     "execution_count": 1218,
     "metadata": {},
     "output_type": "execute_result"
    }
   ],
   "source": [
    "bigram_titles['pos'] = new_bi_list\n",
    "bigram_titles.sample(5)"
   ]
  },
  {
   "cell_type": "code",
   "execution_count": 1219,
   "metadata": {},
   "outputs": [],
   "source": [
    "pos2_list = bigram_titles.pos.tolist()"
   ]
  },
  {
   "cell_type": "code",
   "execution_count": 1220,
   "metadata": {},
   "outputs": [
    {
     "data": {
      "text/html": [
       "<div>\n",
       "<style scoped>\n",
       "    .dataframe tbody tr th:only-of-type {\n",
       "        vertical-align: middle;\n",
       "    }\n",
       "\n",
       "    .dataframe tbody tr th {\n",
       "        vertical-align: top;\n",
       "    }\n",
       "\n",
       "    .dataframe thead th {\n",
       "        text-align: right;\n",
       "    }\n",
       "</style>\n",
       "<table border=\"1\" class=\"dataframe\">\n",
       "  <thead>\n",
       "    <tr style=\"text-align: right;\">\n",
       "      <th></th>\n",
       "      <th>title</th>\n",
       "      <th>title_tokenized</th>\n",
       "      <th>pos_tag</th>\n",
       "      <th>good_title</th>\n",
       "      <th>pos</th>\n",
       "      <th>pos1</th>\n",
       "      <th>pos2</th>\n",
       "    </tr>\n",
       "  </thead>\n",
       "  <tbody>\n",
       "    <tr>\n",
       "      <th>119</th>\n",
       "      <td>fire burn</td>\n",
       "      <td>['fire', 'burn']</td>\n",
       "      <td>['NN', 'NN']</td>\n",
       "      <td>1</td>\n",
       "      <td>[NN, NN]</td>\n",
       "      <td>NN</td>\n",
       "      <td>NN</td>\n",
       "    </tr>\n",
       "    <tr>\n",
       "      <th>180</th>\n",
       "      <td>stretched along</td>\n",
       "      <td>['stretched', 'along']</td>\n",
       "      <td>['VBN', 'IN']</td>\n",
       "      <td>0</td>\n",
       "      <td>[VBN, IN]</td>\n",
       "      <td>VBN</td>\n",
       "      <td>IN</td>\n",
       "    </tr>\n",
       "    <tr>\n",
       "      <th>203</th>\n",
       "      <td>that guided</td>\n",
       "      <td>['that', 'guided']</td>\n",
       "      <td>['DT', 'VBD']</td>\n",
       "      <td>0</td>\n",
       "      <td>[DT, VBD]</td>\n",
       "      <td>DT</td>\n",
       "      <td>VBD</td>\n",
       "    </tr>\n",
       "    <tr>\n",
       "      <th>142</th>\n",
       "      <td>that mounts</td>\n",
       "      <td>['that', 'mounts']</td>\n",
       "      <td>['DT', 'NNS']</td>\n",
       "      <td>0</td>\n",
       "      <td>[DT, NNS]</td>\n",
       "      <td>DT</td>\n",
       "      <td>NNS</td>\n",
       "    </tr>\n",
       "    <tr>\n",
       "      <th>187</th>\n",
       "      <td>wearing his</td>\n",
       "      <td>['wearing', 'his']</td>\n",
       "      <td>['VBG', 'PRP$']</td>\n",
       "      <td>0</td>\n",
       "      <td>[VBG, PRP$]</td>\n",
       "      <td>VBG</td>\n",
       "      <td>PRP$</td>\n",
       "    </tr>\n",
       "  </tbody>\n",
       "</table>\n",
       "</div>"
      ],
      "text/plain": [
       "               title         title_tokenized          pos_tag good_title  \\\n",
       "119        fire burn        ['fire', 'burn']     ['NN', 'NN']          1   \n",
       "180  stretched along  ['stretched', 'along']    ['VBN', 'IN']          0   \n",
       "203      that guided      ['that', 'guided']    ['DT', 'VBD']          0   \n",
       "142      that mounts      ['that', 'mounts']    ['DT', 'NNS']          0   \n",
       "187      wearing his      ['wearing', 'his']  ['VBG', 'PRP$']          0   \n",
       "\n",
       "             pos pos1  pos2  \n",
       "119     [NN, NN]   NN    NN  \n",
       "180    [VBN, IN]  VBN    IN  \n",
       "203    [DT, VBD]   DT   VBD  \n",
       "142    [DT, NNS]   DT   NNS  \n",
       "187  [VBG, PRP$]  VBG  PRP$  "
      ]
     },
     "execution_count": 1220,
     "metadata": {},
     "output_type": "execute_result"
    }
   ],
   "source": [
    "pos1 = []\n",
    "pos2 = []\n",
    "\n",
    "\n",
    "for i in pos2_list:\n",
    "    pos1.append(i[0])\n",
    "    pos2.append(i[1])\n",
    "\n",
    "    \n",
    "bigram_titles['pos1'] = pos1\n",
    "bigram_titles['pos2'] = pos2\n",
    "\n",
    "bigram_titles.sample(5)"
   ]
  },
  {
   "cell_type": "code",
   "execution_count": 1221,
   "metadata": {},
   "outputs": [],
   "source": [
    "datapath_bigram_titles = os.path.join(datapath, 'bigram_titles_pos.csv')\n",
    "bigram_titles.to_csv(datapath_bigram_titles, index=False)"
   ]
  },
  {
   "cell_type": "code",
   "execution_count": null,
   "metadata": {},
   "outputs": [],
   "source": []
  }
 ],
 "metadata": {
  "kernelspec": {
   "display_name": "Python 3",
   "language": "python",
   "name": "python3"
  },
  "language_info": {
   "codemirror_mode": {
    "name": "ipython",
    "version": 3
   },
   "file_extension": ".py",
   "mimetype": "text/x-python",
   "name": "python",
   "nbconvert_exporter": "python",
   "pygments_lexer": "ipython3",
   "version": "3.8.3"
  }
 },
 "nbformat": 4,
 "nbformat_minor": 4
}
